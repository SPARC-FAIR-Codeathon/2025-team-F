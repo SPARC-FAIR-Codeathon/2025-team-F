





<!DOCTYPE html>
<html
  lang="en"
  
  data-color-mode="auto" data-light-theme="light" data-dark-theme="dark"
  data-a11y-animated-images="system" data-a11y-link-underlines="true"
  
  >

    <style>
:root {
  --fontStack-monospace: "Monaspace Neon", ui-monospace, SFMono-Regular, SF Mono, Menlo, Consolas, Liberation Mono, monospace !important;
}
</style>




  <head>
    <meta charset="utf-8">
  <link rel="dns-prefetch" href="https://github.githubassets.com">
  <link rel="dns-prefetch" href="https://avatars.githubusercontent.com">
  <link rel="dns-prefetch" href="https://github-cloud.s3.amazonaws.com">
  <link rel="dns-prefetch" href="https://user-images.githubusercontent.com/">
  <link rel="preconnect" href="https://github.githubassets.com" crossorigin>
  <link rel="preconnect" href="https://avatars.githubusercontent.com">

  


  <link crossorigin="anonymous" media="all" rel="stylesheet" href="https://github.githubassets.com/assets/light-d1334f2b22bf.css" /><link crossorigin="anonymous" media="all" rel="stylesheet" href="https://github.githubassets.com/assets/dark-f73a069fd33e.css" /><link data-color-theme="light_high_contrast" crossorigin="anonymous" media="all" rel="stylesheet" data-href="https://github.githubassets.com/assets/light_high_contrast-f695a361c6b2.css" /><link data-color-theme="light_colorblind" crossorigin="anonymous" media="all" rel="stylesheet" data-href="https://github.githubassets.com/assets/light_colorblind-367eb9a4565a.css" /><link data-color-theme="light_colorblind_high_contrast" crossorigin="anonymous" media="all" rel="stylesheet" data-href="https://github.githubassets.com/assets/light_colorblind_high_contrast-183adc0db479.css" /><link data-color-theme="light_tritanopia" crossorigin="anonymous" media="all" rel="stylesheet" data-href="https://github.githubassets.com/assets/light_tritanopia-2ddc677c041d.css" /><link data-color-theme="light_tritanopia_high_contrast" crossorigin="anonymous" media="all" rel="stylesheet" data-href="https://github.githubassets.com/assets/light_tritanopia_high_contrast-649962a5702a.css" /><link data-color-theme="dark_high_contrast" crossorigin="anonymous" media="all" rel="stylesheet" data-href="https://github.githubassets.com/assets/dark_high_contrast-3a0d87f72ad4.css" /><link data-color-theme="dark_colorblind" crossorigin="anonymous" media="all" rel="stylesheet" data-href="https://github.githubassets.com/assets/dark_colorblind-b17a8392e6c4.css" /><link data-color-theme="dark_colorblind_high_contrast" crossorigin="anonymous" media="all" rel="stylesheet" data-href="https://github.githubassets.com/assets/dark_colorblind_high_contrast-e9ff47cedc2b.css" /><link data-color-theme="dark_tritanopia" crossorigin="anonymous" media="all" rel="stylesheet" data-href="https://github.githubassets.com/assets/dark_tritanopia-a1cc7dba9f73.css" /><link data-color-theme="dark_tritanopia_high_contrast" crossorigin="anonymous" media="all" rel="stylesheet" data-href="https://github.githubassets.com/assets/dark_tritanopia_high_contrast-6c4dd39e2b0f.css" /><link data-color-theme="dark_dimmed" crossorigin="anonymous" media="all" rel="stylesheet" data-href="https://github.githubassets.com/assets/dark_dimmed-55459b36aa6d.css" /><link data-color-theme="dark_dimmed_high_contrast" crossorigin="anonymous" media="all" rel="stylesheet" data-href="https://github.githubassets.com/assets/dark_dimmed_high_contrast-9a0ef6e40ed3.css" />

    <style type="text/css">
      :root {
        --tab-size-preference: 8;
      }

      pre, code {
        tab-size: var(--tab-size-preference);
      }
    </style>

    <link crossorigin="anonymous" media="all" rel="stylesheet" href="https://github.githubassets.com/assets/primer-primitives-dc7ca6859caf.css" />
    <link crossorigin="anonymous" media="all" rel="stylesheet" href="https://github.githubassets.com/assets/primer-e11b50dc0d94.css" />
    <link crossorigin="anonymous" media="all" rel="stylesheet" href="https://github.githubassets.com/assets/global-208b03e93e68.css" />
    <link crossorigin="anonymous" media="all" rel="stylesheet" href="https://github.githubassets.com/assets/github-e76c66441660.css" />
  <link crossorigin="anonymous" media="all" rel="stylesheet" href="https://github.githubassets.com/assets/repository-b58e401b73ae.css" />
<link crossorigin="anonymous" media="all" rel="stylesheet" href="https://github.githubassets.com/assets/code-4ea853641043.css" />

  


  <script type="application/json" id="client-env">{"locale":"en","featureFlags":["alternate_user_config_repo","api_insights_show_missing_data_banner","attestations_filtering","attestations_sorting","billingplatform_copilot_premium_sku","client_version_header","code_scanning_security_configuration_ternary_state","codespaces_prebuild_region_target_update","contact_requests_implicit_opt_in","contentful_lp_copilot_extensions","contentful_lp_flex_features","contentful_lp_footnotes","copilot_chat_attach_images","copilot_chat_attach_multiple_images","copilot_chat_disable_model_picker_while_streaming","copilot_chat_group_notifications","copilot_chat_opening_thread_switch","copilot_chat_vision_in_claude","copilot_chat_vision_skip_thread_create","copilot_chat_wholearea_dd","copilot_chat_wholearea_dd_overlay","copilot_coding_agent_task_creation_banner","copilot_custom_copilots_feature_preview","copilot_custom_copilots_images","copilot_duplicate_thread","copilot_free_to_paid_telem","copilot_ftp_hyperspace_upgrade_prompt","copilot_ftp_settings_upgrade","copilot_ftp_upgrade_to_pro_from_models","copilot_ftp_your_copilot_settings","copilot_immersive_agent_branch_selection","copilot_immersive_draft_issue_template_form_ui","copilot_immersive_structured_model_picker","copilot_issue_list_show_more","copilot_markdown_image_allow_list","copilot_no_floating_button","copilot_premium_request_quotas","copilot_read_shared_conversation","copilot_share_active_subthread","copilot_spaces_inline_edit_description","copilot_spaces_input_menu_select","copilot_spaces_permissions_tab","copilot_spaces_upsert_reload_in_background","copilot_spark_allow_empty_commit","copilot_spark_single_user_iteration","copilot_spark_use_billing_headers","copilot_spark_write_iteration_history_to_git","copilot_task_oriented_assistive_prompts","copilot_workbench_agent_seed_tool","copilot_workbench_cache","copilot_workbench_connection_reload_banner","copilot_workbench_preview_analytics","copilot_workbench_ratelimit_fallback","copilot_workbench_refresh_on_wsod","copilot_workbench_synthetic_generation","custom_copilots_128k_window","custom_copilots_capi_mode","custom_copilots_file_uploads","direct_to_salesforce","dotcom_chat_client_side_skills","failbot_report_error_react_apps_on_page","fgpat_permissions_selector_redesign","ghost_pilot_confidence_truncation_25","ghost_pilot_confidence_truncation_40","github_models_scheduled_hydro_events","hpc_improve_dom_insertion_observer","insert_before_patch","issue_fields_report_usage","issues_catch_non_json_graphql_response","issues_label_search_url","issues_preserve_tokens_in_urls","issues_react_blur_item_picker_on_close","issues_react_bots_timeline_pagination","issues_react_create_milestone","issues_react_duplicate_issue","issues_react_include_bots_in_pickers","issues_react_prohibit_title_fallback","issues_react_remove_placeholders","issues_template_picker_redirect","kb_semantic_api_migration","lifecycle_label_name_updates","link_contact_sales_swp_marketo","marketing_fullstory_sampling","marketing_pages_search_explore_provider","memex_mwl_filter_field_delimiter","memex_roadmap_drag_style","nonreporting_relay_graphql_status_codes","primer_react_segmented_control_tooltip","primer_react_select_panel_with_modern_action_list","remove_child_patch","repository_suggester_elastic_search","sample_network_conn_type","scheduled_reminders_updated_limits","site_copilot_plans_emphasize_pro","site_homepage_contentful","site_msbuild_hide_integrations","site_msbuild_launch","site_msbuild_webgl_hero","spark_commit_on_default_branch","spark_sync_repository_after_iteration","swp_enterprise_contact_form","use_paginated_org_picker_cost_center_form","use_paginated_repo_picker_cost_center_form","viewscreen_sandbox","workbench_default_sonnet4","workbench_store_readonly"],"login":"OmkarAthavale","copilotApiOverrideUrl":null}</script>
<script crossorigin="anonymous" type="application/javascript" src="https://github.githubassets.com/assets/wp-runtime-302384e10e8b.js" defer="defer"></script>
<script crossorigin="anonymous" type="application/javascript" src="https://github.githubassets.com/assets/vendors-node_modules_oddbird_popover-polyfill_dist_popover-fn_js-a8c266e5f126.js" defer="defer"></script>
<script crossorigin="anonymous" type="application/javascript" src="https://github.githubassets.com/assets/vendors-node_modules_github_mini-throttle_dist_index_js-node_modules_stacktrace-parser_dist_s-1d3d52-babac9434833.js" defer="defer"></script>
<script crossorigin="anonymous" type="application/javascript" src="https://github.githubassets.com/assets/ui_packages_failbot_failbot_ts-992dcf80dabf.js" defer="defer"></script>
<script crossorigin="anonymous" type="application/javascript" src="https://github.githubassets.com/assets/environment-17084f3f370f.js" defer="defer"></script>
<script crossorigin="anonymous" type="application/javascript" src="https://github.githubassets.com/assets/vendors-node_modules_primer_behaviors_dist_esm_index_mjs-c44edfed7f0d.js" defer="defer"></script>
<script crossorigin="anonymous" type="application/javascript" src="https://github.githubassets.com/assets/vendors-node_modules_github_selector-observer_dist_index_esm_js-cdf2757bd188.js" defer="defer"></script>
<script crossorigin="anonymous" type="application/javascript" src="https://github.githubassets.com/assets/vendors-node_modules_github_relative-time-element_dist_index_js-5913bc24f35d.js" defer="defer"></script>
<script crossorigin="anonymous" type="application/javascript" src="https://github.githubassets.com/assets/vendors-node_modules_github_auto-complete-element_dist_index_js-node_modules_github_catalyst_-8e9f78-c1e2fb329866.js" defer="defer"></script>
<script crossorigin="anonymous" type="application/javascript" src="https://github.githubassets.com/assets/vendors-node_modules_github_text-expander-element_dist_index_js-e50fb7a5fe8c.js" defer="defer"></script>
<script crossorigin="anonymous" type="application/javascript" src="https://github.githubassets.com/assets/vendors-node_modules_github_filter-input-element_dist_index_js-node_modules_github_remote-inp-b5f1d7-514a92c925f0.js" defer="defer"></script>
<script crossorigin="anonymous" type="application/javascript" src="https://github.githubassets.com/assets/vendors-node_modules_github_markdown-toolbar-element_dist_index_js-6a8c7d9a08fe.js" defer="defer"></script>
<script crossorigin="anonymous" type="application/javascript" src="https://github.githubassets.com/assets/vendors-node_modules_github_file-attachment-element_dist_index_js-node_modules_primer_view-co-f03a40-c631b99b0f08.js" defer="defer"></script>
<script crossorigin="anonymous" type="application/javascript" src="https://github.githubassets.com/assets/github-elements-6f8fcdbbf55a.js" defer="defer"></script>
<script crossorigin="anonymous" type="application/javascript" src="https://github.githubassets.com/assets/element-registry-744e39efb5f4.js" defer="defer"></script>
<script crossorigin="anonymous" type="application/javascript" src="https://github.githubassets.com/assets/vendors-node_modules_braintree_browser-detection_dist_browser-detection_js-node_modules_githu-bb80ec-34c4b68b1dd3.js" defer="defer"></script>
<script crossorigin="anonymous" type="application/javascript" src="https://github.githubassets.com/assets/vendors-node_modules_lit-html_lit-html_js-b93a87060d31.js" defer="defer"></script>
<script crossorigin="anonymous" type="application/javascript" src="https://github.githubassets.com/assets/vendors-node_modules_morphdom_dist_morphdom-esm_js-300e8e4e0414.js" defer="defer"></script>
<script crossorigin="anonymous" type="application/javascript" src="https://github.githubassets.com/assets/vendors-node_modules_github_turbo_dist_turbo_es2017-esm_js-595819d3686f.js" defer="defer"></script>
<script crossorigin="anonymous" type="application/javascript" src="https://github.githubassets.com/assets/vendors-node_modules_github_remote-form_dist_index_js-node_modules_delegated-events_dist_inde-893f9f-5f044d8dcee3.js" defer="defer"></script>
<script crossorigin="anonymous" type="application/javascript" src="https://github.githubassets.com/assets/vendors-node_modules_github_quote-selection_dist_index_js-node_modules_github_session-resume_-c39857-68019bebf97d.js" defer="defer"></script>
<script crossorigin="anonymous" type="application/javascript" src="https://github.githubassets.com/assets/ui_packages_updatable-content_updatable-content_ts-19a9ffc8367b.js" defer="defer"></script>
<script crossorigin="anonymous" type="application/javascript" src="https://github.githubassets.com/assets/app_assets_modules_github_behaviors_task-list_ts-app_assets_modules_github_sso_ts-ui_packages-900dde-f953ddf42948.js" defer="defer"></script>
<script crossorigin="anonymous" type="application/javascript" src="https://github.githubassets.com/assets/app_assets_modules_github_sticky-scroll-into-view_ts-c9618dd6662a.js" defer="defer"></script>
<script crossorigin="anonymous" type="application/javascript" src="https://github.githubassets.com/assets/app_assets_modules_github_behaviors_ajax-error_ts-app_assets_modules_github_behaviors_include-d0d0a6-a7da4270c5f4.js" defer="defer"></script>
<script crossorigin="anonymous" type="application/javascript" src="https://github.githubassets.com/assets/app_assets_modules_github_behaviors_commenting_edit_ts-app_assets_modules_github_behaviors_ht-83c235-567e0f340e27.js" defer="defer"></script>
<script crossorigin="anonymous" type="application/javascript" src="https://github.githubassets.com/assets/behaviors-625d7495b728.js" defer="defer"></script>
<script crossorigin="anonymous" type="application/javascript" src="https://github.githubassets.com/assets/vendors-node_modules_delegated-events_dist_index_js-node_modules_github_catalyst_lib_index_js-ea8eaa-a4bd0b8e9717.js" defer="defer"></script>
<script crossorigin="anonymous" type="application/javascript" src="https://github.githubassets.com/assets/notifications-global-ddd47578369b.js" defer="defer"></script>
<script crossorigin="anonymous" type="application/javascript" src="https://github.githubassets.com/assets/vendors-node_modules_github_mini-throttle_dist_index_js-node_modules_github_catalyst_lib_inde-dbbea9-558c1f223d1d.js" defer="defer"></script>
<script crossorigin="anonymous" type="application/javascript" src="https://github.githubassets.com/assets/code-menu-5153545f9e1f.js" defer="defer"></script>
  
  <script crossorigin="anonymous" type="application/javascript" src="https://github.githubassets.com/assets/primer-react-e3f517d7be60.js" defer="defer"></script>
<script crossorigin="anonymous" type="application/javascript" src="https://github.githubassets.com/assets/react-core-da8e42da9f7f.js" defer="defer"></script>
<script crossorigin="anonymous" type="application/javascript" src="https://github.githubassets.com/assets/react-lib-8705026b409a.js" defer="defer"></script>
<script crossorigin="anonymous" type="application/javascript" src="https://github.githubassets.com/assets/octicons-react-d5df7319196a.js" defer="defer"></script>
<script crossorigin="anonymous" type="application/javascript" src="https://github.githubassets.com/assets/vendors-node_modules_emotion_is-prop-valid_dist_emotion-is-prop-valid_esm_js-node_modules_emo-1fff13-e90c4f4db816.js" defer="defer"></script>
<script crossorigin="anonymous" type="application/javascript" src="https://github.githubassets.com/assets/vendors-node_modules_tanstack_query-core_build_modern_queryClient_js-f747879a83cf.js" defer="defer"></script>
<script crossorigin="anonymous" type="application/javascript" src="https://github.githubassets.com/assets/vendors-node_modules_dompurify_dist_purify_es_mjs-7457ebdd1a1f.js" defer="defer"></script>
<script crossorigin="anonymous" type="application/javascript" src="https://github.githubassets.com/assets/vendors-node_modules_github_hydro-analytics-client_dist_analytics-client_js-node_modules_gith-d2d5b7-d1ead38b2474.js" defer="defer"></script>
<script crossorigin="anonymous" type="application/javascript" src="https://github.githubassets.com/assets/vendors-node_modules_lodash-es__Stack_js-node_modules_lodash-es__Uint8Array_js-node_modules_l-4faaa6-16c4e2c524de.js" defer="defer"></script>
<script crossorigin="anonymous" type="application/javascript" src="https://github.githubassets.com/assets/vendors-node_modules_tanstack_react-virtual_dist_esm_index_js-807aab04afeb.js" defer="defer"></script>
<script crossorigin="anonymous" type="application/javascript" src="https://github.githubassets.com/assets/vendors-node_modules_github_catalyst_lib_index_js-node_modules_lodash-es__baseIsEqual_js-5a1e4257e977.js" defer="defer"></script>
<script crossorigin="anonymous" type="application/javascript" src="https://github.githubassets.com/assets/vendors-node_modules_focus-visible_dist_focus-visible_js-node_modules_fzy_js_index_js-node_mo-b36da9-89c0fa93d060.js" defer="defer"></script>
<script crossorigin="anonymous" type="application/javascript" src="https://github.githubassets.com/assets/ui_packages_paths_index_ts-02903aca93fb.js" defer="defer"></script>
<script crossorigin="anonymous" type="application/javascript" src="https://github.githubassets.com/assets/ui_packages_document-metadata_document-metadata_ts-ui_packages_fetch-headers_fetch-headers_ts-57e0e0-bed68ec00644.js" defer="defer"></script>
<script crossorigin="anonymous" type="application/javascript" src="https://github.githubassets.com/assets/ui_packages_ref-selector_RefSelector_tsx-49a575c6713c.js" defer="defer"></script>
<script crossorigin="anonymous" type="application/javascript" src="https://github.githubassets.com/assets/ui_packages_commit-attribution_index_ts-ui_packages_commit-checks-status_index_ts-ui_packages-762eaa-7c0cb4bd2b5c.js" defer="defer"></script>
<script crossorigin="anonymous" type="application/javascript" src="https://github.githubassets.com/assets/ui_packages_app-uuid_app-uuid_ts-ui_packages_repos-file-tree-view_repos-file-tree-view_ts-ui_-e7c631-bae3635f2779.js" defer="defer"></script>
<script crossorigin="anonymous" type="application/javascript" src="https://github.githubassets.com/assets/ui_packages_code-view-shared_hooks_use-canonical-object_ts-ui_packages_code-view-shared_hooks-96ec19-ae69c1d6d8ce.js" defer="defer"></script>
<script crossorigin="anonymous" type="application/javascript" src="https://github.githubassets.com/assets/ui_packages_diffs_diff-parts_ts-21b2322bf20d.js" defer="defer"></script>
<script crossorigin="anonymous" type="application/javascript" src="https://github.githubassets.com/assets/app_assets_modules_react-code-view_utilities_lines_ts-83e8972e3303.js" defer="defer"></script>
<script crossorigin="anonymous" type="application/javascript" src="https://github.githubassets.com/assets/ui_packages_code-nav_code-nav_ts-ui_packages_filter-sort_filter-sort_ts-ui_packages_fuzzy-fil-1f9dbe-90a25aafe017.js" defer="defer"></script>
<script crossorigin="anonymous" type="application/javascript" src="https://github.githubassets.com/assets/react-code-view-04d1b806f918.js" defer="defer"></script>
<link crossorigin="anonymous" media="all" rel="stylesheet" href="https://github.githubassets.com/assets/primer-react.260d30274859410b0337.module.css" />
<link crossorigin="anonymous" media="all" rel="stylesheet" href="https://github.githubassets.com/assets/react-code-view.76f019fa552874dd1b3a.module.css" />


  <title>2025-team-F/examples/tf_LSTM_model.ipynb at restructuring · SPARC-FAIR-Codeathon/2025-team-F</title>



  <meta name="route-pattern" content="/:user_id/:repository/blob/*name(/*path)" data-turbo-transient>
  <meta name="route-controller" content="blob" data-turbo-transient>
  <meta name="route-action" content="show" data-turbo-transient>
  <meta name="fetch-nonce" content="v2:cd6801a8-9ac6-2e2f-86f1-12a51169e45e">

    
  <meta name="current-catalog-service-hash" content="f3abb0cc802f3d7b95fc8762b94bdcb13bf39634c40c357301c4aa1d67a256fb">


  <meta name="request-id" content="0940:37A7EC:3F707D:49B9BA:6891802C" data-turbo-transient="true" /><meta name="html-safe-nonce" content="e01e9a43f415a3a7150cf864373c00cb93267cb47abe9cf400d913114c83fbaf" data-turbo-transient="true" /><meta name="visitor-payload" content="eyJyZWZlcnJlciI6Imh0dHBzOi8vZ2l0aHViLmNvbS9TUEFSQy1GQUlSLUNvZGVhdGhvbi8yMDI1LXRlYW0tRi90cmVlL3Jlc3RydWN0dXJpbmcvZXhhbXBsZXMiLCJyZXF1ZXN0X2lkIjoiMDk0MDozN0E3RUM6M0Y3MDdEOjQ5QjlCQTo2ODkxODAyQyIsInZpc2l0b3JfaWQiOiIzNTc1NzgxNzY3MTIzNDA0MTY2IiwicmVnaW9uX2VkZ2UiOiJhdXN0cmFsaWFlYXN0IiwicmVnaW9uX3JlbmRlciI6ImlhZCJ9" data-turbo-transient="true" /><meta name="visitor-hmac" content="d46f9f69fff27581f558203b92f269fce9d1fac93cb8667772723cfc3bd58465" data-turbo-transient="true" />


    <meta name="hovercard-subject-tag" content="repository:1028403411" data-turbo-transient>


  <meta name="github-keyboard-shortcuts" content="repository,source-code,file-tree,copilot" data-turbo-transient="true" />
  

  <meta name="selected-link" value="repo_source" data-turbo-transient>
  <link rel="assets" href="https://github.githubassets.com/">

    <meta name="google-site-verification" content="Apib7-x98H0j5cPqHWwSMm6dNU4GmODRoqxLiDzdx9I">

<meta name="octolytics-url" content="https://collector.github.com/github/collect" /><meta name="octolytics-actor-id" content="25015754" /><meta name="octolytics-actor-login" content="OmkarAthavale" /><meta name="octolytics-actor-hash" content="f29c84683f7527fdbaf993735fb1702eae0926eef7fa12f98c16d6c4069e1cf9" />

  <meta name="analytics-location" content="/&lt;user-name&gt;/&lt;repo-name&gt;/blob/show" data-turbo-transient="true" />

  




    <meta name="user-login" content="OmkarAthavale">

  <link rel="sudo-modal" href="/sessions/sudo_modal">

    <meta name="viewport" content="width=device-width">

    

      <meta name="description" content="Contribute to SPARC-FAIR-Codeathon/2025-team-F development by creating an account on GitHub.">

      <link rel="search" type="application/opensearchdescription+xml" href="/opensearch.xml" title="GitHub">

    <link rel="fluid-icon" href="https://github.com/fluidicon.png" title="GitHub">
    <meta property="fb:app_id" content="1401488693436528">
    <meta name="apple-itunes-app" content="app-id=1477376905, app-argument=https://github.com/SPARC-FAIR-Codeathon/2025-team-F/blob/restructuring/examples/tf_LSTM_model.ipynb" />

      <meta name="twitter:image" content="https://opengraph.githubassets.com/3907d70411f9bc12d9a671c26b799d6260c1415d3158b3679f5fc4cc177cf037/SPARC-FAIR-Codeathon/2025-team-F" /><meta name="twitter:site" content="@github" /><meta name="twitter:card" content="summary_large_image" /><meta name="twitter:title" content="2025-team-F/examples/tf_LSTM_model.ipynb at restructuring · SPARC-FAIR-Codeathon/2025-team-F" /><meta name="twitter:description" content="Contribute to SPARC-FAIR-Codeathon/2025-team-F development by creating an account on GitHub." />
  <meta property="og:image" content="https://opengraph.githubassets.com/3907d70411f9bc12d9a671c26b799d6260c1415d3158b3679f5fc4cc177cf037/SPARC-FAIR-Codeathon/2025-team-F" /><meta property="og:image:alt" content="Contribute to SPARC-FAIR-Codeathon/2025-team-F development by creating an account on GitHub." /><meta property="og:image:width" content="1200" /><meta property="og:image:height" content="600" /><meta property="og:site_name" content="GitHub" /><meta property="og:type" content="object" /><meta property="og:title" content="2025-team-F/examples/tf_LSTM_model.ipynb at restructuring · SPARC-FAIR-Codeathon/2025-team-F" /><meta property="og:url" content="https://github.com/SPARC-FAIR-Codeathon/2025-team-F/blob/restructuring/examples/tf_LSTM_model.ipynb" /><meta property="og:description" content="Contribute to SPARC-FAIR-Codeathon/2025-team-F development by creating an account on GitHub." />
  


      <link rel="shared-web-socket" href="wss://alive.github.com/_sockets/u/25015754/ws?session=eyJ2IjoiVjMiLCJ1IjoyNTAxNTc1NCwicyI6MTc1MzMyNzgxNCwiYyI6MTM2MDAzMDY1MiwidCI6MTc1NDM2NjAwOH0=--2aca26be4937c244b85ea50ba4b00442cf3e87dd838479c26de79cf691aa22d4" data-refresh-url="/_alive" data-session-id="a1229148936b0dea618c3e4380e5c443ec08e01199377b83b24674956dab6780">
      <link rel="shared-web-socket-src" href="/assets-cdn/worker/socket-worker-9b665c8109c8.js">


      <meta name="hostname" content="github.com">


      <meta name="keyboard-shortcuts-preference" content="all">
      <meta name="hovercards-preference" content="true">
      <meta name="announcement-preference-hovercard" content="true">

        <meta name="expected-hostname" content="github.com">


  <meta http-equiv="x-pjax-version" content="ffff4effbf138b99d05e6269385ee5862599e294d3f22a9f9d9e3d35b0c33b64" data-turbo-track="reload">
  <meta http-equiv="x-pjax-csp-version" content="8fba9c9418de26103e6176951dd0c38780be21b972f2019085dee08622fdb843" data-turbo-track="reload">
  <meta http-equiv="x-pjax-css-version" content="8c820ad27b0bd4244ace76eb1536212c6668fe8a77a2370374b9dd630d72e0fe" data-turbo-track="reload">
  <meta http-equiv="x-pjax-js-version" content="45ce7b2b519833fe05fb15038a4a1335f6e5da14ca8907911aec1734cb79f648" data-turbo-track="reload">

  <meta name="turbo-cache-control" content="no-preview" data-turbo-transient="">

      <meta name="turbo-cache-control" content="no-cache" data-turbo-transient>

    <meta data-hydrostats="publish">

  <meta name="go-import" content="github.com/SPARC-FAIR-Codeathon/2025-team-F git https://github.com/SPARC-FAIR-Codeathon/2025-team-F.git">

  <meta name="octolytics-dimension-user_id" content="86933347" /><meta name="octolytics-dimension-user_login" content="SPARC-FAIR-Codeathon" /><meta name="octolytics-dimension-repository_id" content="1028403411" /><meta name="octolytics-dimension-repository_nwo" content="SPARC-FAIR-Codeathon/2025-team-F" /><meta name="octolytics-dimension-repository_public" content="true" /><meta name="octolytics-dimension-repository_is_fork" content="false" /><meta name="octolytics-dimension-repository_network_root_id" content="1028403411" /><meta name="octolytics-dimension-repository_network_root_nwo" content="SPARC-FAIR-Codeathon/2025-team-F" />



    

    <meta name="turbo-body-classes" content="logged-in env-production page-responsive">


  <meta name="browser-stats-url" content="https://api.github.com/_private/browser/stats">

  <meta name="browser-errors-url" content="https://api.github.com/_private/browser/errors">

  <meta name="release" content="ee85174bb996345a1a20df8ae25a1891b555dd5f">
  <meta name="ui-target" content="full">

  <link rel="mask-icon" href="https://github.githubassets.com/assets/pinned-octocat-093da3e6fa40.svg" color="#000000">
  <link rel="alternate icon" class="js-site-favicon" type="image/png" href="https://github.githubassets.com/favicons/favicon.png">
  <link rel="icon" class="js-site-favicon" type="image/svg+xml" href="https://github.githubassets.com/favicons/favicon.svg" data-base-href="https://github.githubassets.com/favicons/favicon">

<meta name="theme-color" content="#1e2327">
<meta name="color-scheme" content="light dark" />

  <meta name="msapplication-TileImage" content="/windows-tile.png">
  <meta name="msapplication-TileColor" content="#ffffff">

  <link rel="manifest" href="/manifest.json" crossOrigin="use-credentials">

  </head>

  <body class="logged-in env-production page-responsive" style="word-wrap: break-word;">
    <div data-turbo-body class="logged-in env-production page-responsive" style="word-wrap: break-word;">
      



    <div class="position-relative header-wrapper js-header-wrapper ">
      <a href="#start-of-content" data-skip-target-assigned="false" class="p-3 color-bg-accent-emphasis color-fg-on-emphasis show-on-focus js-skip-to-content">Skip to content</a>

      <span data-view-component="true" class="progress-pjax-loader Progress position-fixed width-full">
    <span style="width: 0%;" data-view-component="true" class="Progress-item progress-pjax-loader-bar left-0 top-0 color-bg-accent-emphasis"></span>
</span>      
      
      <link crossorigin="anonymous" media="all" rel="stylesheet" href="https://github.githubassets.com/assets/primer-react.260d30274859410b0337.module.css" />
<link crossorigin="anonymous" media="all" rel="stylesheet" href="https://github.githubassets.com/assets/keyboard-shortcuts-dialog.f8fba3bd67fe74f9227b.module.css" />

<react-partial
  partial-name="keyboard-shortcuts-dialog"
  data-ssr="false"
  data-attempted-ssr="false"
  data-react-profiling="false"
>
  
  <script type="application/json" data-target="react-partial.embeddedData">{"props":{"docsUrl":"https://docs.github.com/get-started/accessibility/keyboard-shortcuts"}}</script>
  <div data-target="react-partial.reactRoot"></div>
</react-partial>




      

          

              <header class="AppHeader" role="banner">
  <h2 class="sr-only">Navigation Menu</h2>


    

    <div class="AppHeader-globalBar pb-2 js-global-bar">
      <div class="AppHeader-globalBar-start responsive-context-region">
        <div class="">
            <deferred-side-panel data-url="/_side-panels/global">
  <include-fragment data-target="deferred-side-panel.fragment" data-nonce="v2:cd6801a8-9ac6-2e2f-86f1-12a51169e45e" data-view-component="true">
  
      <button aria-label="Open global navigation menu" data-action="click:deferred-side-panel#loadPanel click:deferred-side-panel#panelOpened" data-show-dialog-id="dialog-a1f27341-14ef-4a3c-9872-a08e16d2639c" id="dialog-show-dialog-a1f27341-14ef-4a3c-9872-a08e16d2639c" type="button" data-view-component="true" class="Button Button--iconOnly Button--secondary Button--medium AppHeader-button p-0 color-fg-muted">  <svg aria-hidden="true" height="16" viewBox="0 0 16 16" version="1.1" width="16" data-view-component="true" class="octicon octicon-three-bars Button-visual">
    <path d="M1 2.75A.75.75 0 0 1 1.75 2h12.5a.75.75 0 0 1 0 1.5H1.75A.75.75 0 0 1 1 2.75Zm0 5A.75.75 0 0 1 1.75 7h12.5a.75.75 0 0 1 0 1.5H1.75A.75.75 0 0 1 1 7.75ZM1.75 12h12.5a.75.75 0 0 1 0 1.5H1.75a.75.75 0 0 1 0-1.5Z"></path>
</svg>
</button>

<dialog-helper>
  <dialog data-target="deferred-side-panel.panel" id="dialog-a1f27341-14ef-4a3c-9872-a08e16d2639c" aria-modal="true" aria-labelledby="dialog-a1f27341-14ef-4a3c-9872-a08e16d2639c-title" aria-describedby="dialog-a1f27341-14ef-4a3c-9872-a08e16d2639c-description" data-view-component="true" class="Overlay Overlay-whenNarrow Overlay--size-small-portrait Overlay--motion-scaleFade Overlay--placement-left SidePanel Overlay--disableScroll">
    <div styles="flex-direction: row;" data-view-component="true" class="Overlay-header">
  <div class="Overlay-headerContentWrap">
    <div class="Overlay-titleWrap">
      <h1 class="Overlay-title sr-only" id="dialog-a1f27341-14ef-4a3c-9872-a08e16d2639c-title">
        Global navigation
      </h1>
            <div data-view-component="true" class="d-flex">
      <div data-view-component="true" class="AppHeader-logo position-relative">
        <svg aria-hidden="true" height="24" viewBox="0 0 24 24" version="1.1" width="24" data-view-component="true" class="octicon octicon-mark-github">
    <path d="M12 1C5.923 1 1 5.923 1 12c0 4.867 3.149 8.979 7.521 10.436.55.096.756-.233.756-.522 0-.262-.013-1.128-.013-2.049-2.764.509-3.479-.674-3.699-1.292-.124-.317-.66-1.293-1.127-1.554-.385-.207-.936-.715-.014-.729.866-.014 1.485.797 1.691 1.128.99 1.663 2.571 1.196 3.204.907.096-.715.385-1.196.701-1.471-2.448-.275-5.005-1.224-5.005-5.432 0-1.196.426-2.186 1.128-2.956-.111-.275-.496-1.402.11-2.915 0 0 .921-.288 3.024 1.128a10.193 10.193 0 0 1 2.75-.371c.936 0 1.871.123 2.75.371 2.104-1.43 3.025-1.128 3.025-1.128.605 1.513.221 2.64.111 2.915.701.77 1.127 1.747 1.127 2.956 0 4.222-2.571 5.157-5.019 5.432.399.344.743 1.004.743 2.035 0 1.471-.014 2.654-.014 3.025 0 .289.206.632.756.522C19.851 20.979 23 16.854 23 12c0-6.077-4.922-11-11-11Z"></path>
</svg>
</div></div>
    </div>
    <div class="Overlay-actionWrap">
      <button data-close-dialog-id="dialog-a1f27341-14ef-4a3c-9872-a08e16d2639c" aria-label="Close" aria-label="Close" type="button" data-view-component="true" class="close-button Overlay-closeButton"><svg aria-hidden="true" height="16" viewBox="0 0 16 16" version="1.1" width="16" data-view-component="true" class="octicon octicon-x">
    <path d="M3.72 3.72a.75.75 0 0 1 1.06 0L8 6.94l3.22-3.22a.749.749 0 0 1 1.275.326.749.749 0 0 1-.215.734L9.06 8l3.22 3.22a.749.749 0 0 1-.326 1.275.749.749 0 0 1-.734-.215L8 9.06l-3.22 3.22a.751.751 0 0 1-1.042-.018.751.751 0 0 1-.018-1.042L6.94 8 3.72 4.78a.75.75 0 0 1 0-1.06Z"></path>
</svg></button>
    </div>
  </div>
  
</div>
      <scrollable-region data-labelled-by="dialog-a1f27341-14ef-4a3c-9872-a08e16d2639c-title">
        <div data-view-component="true" class="Overlay-body d-flex flex-column px-2">    <div data-view-component="true" class="d-flex flex-column mb-3">
        <nav aria-label="Site navigation" data-view-component="true" class="ActionList">
  
  <nav-list>
    <ul data-target="nav-list.topLevelList" data-view-component="true" class="ActionListWrap">
        
          
<li data-item-id="" data-targets="nav-list.items" data-view-component="true" class="ActionListItem">
    
    
    <a data-hotkey="g d" data-analytics-event="{&quot;category&quot;:&quot;Global navigation&quot;,&quot;action&quot;:&quot;HOME&quot;,&quot;label&quot;:null}" id="item-eee59331-8fa7-4b3e-b10a-146474944d4a" href="/dashboard" data-view-component="true" class="ActionListContent ActionListContent--visual16">
        <span class="ActionListItem-visual ActionListItem-visual--leading">
          <svg aria-hidden="true" height="16" viewBox="0 0 16 16" version="1.1" width="16" data-view-component="true" class="octicon octicon-home">
    <path d="M6.906.664a1.749 1.749 0 0 1 2.187 0l5.25 4.2c.415.332.657.835.657 1.367v7.019A1.75 1.75 0 0 1 13.25 15h-3.5a.75.75 0 0 1-.75-.75V9H7v5.25a.75.75 0 0 1-.75.75h-3.5A1.75 1.75 0 0 1 1 13.25V6.23c0-.531.242-1.034.657-1.366l5.25-4.2Zm1.25 1.171a.25.25 0 0 0-.312 0l-5.25 4.2a.25.25 0 0 0-.094.196v7.019c0 .138.112.25.25.25H5.5V8.25a.75.75 0 0 1 .75-.75h3.5a.75.75 0 0 1 .75.75v5.25h2.75a.25.25 0 0 0 .25-.25V6.23a.25.25 0 0 0-.094-.195Z"></path>
</svg>
        </span>
      
        <span data-view-component="true" class="ActionListItem-label">
          Home
</span>      
</a>
  
</li>

        
          
<li data-item-id="" data-targets="nav-list.items" data-view-component="true" class="ActionListItem">
    
    
    <a data-hotkey="g i" data-analytics-event="{&quot;category&quot;:&quot;Global navigation&quot;,&quot;action&quot;:&quot;ISSUES&quot;,&quot;label&quot;:null}" id="item-ec0f5a56-1e63-42fa-a66b-fd8b3123b713" href="/issues" data-view-component="true" class="ActionListContent ActionListContent--visual16">
        <span class="ActionListItem-visual ActionListItem-visual--leading">
          <svg aria-hidden="true" height="16" viewBox="0 0 16 16" version="1.1" width="16" data-view-component="true" class="octicon octicon-issue-opened">
    <path d="M8 9.5a1.5 1.5 0 1 0 0-3 1.5 1.5 0 0 0 0 3Z"></path><path d="M8 0a8 8 0 1 1 0 16A8 8 0 0 1 8 0ZM1.5 8a6.5 6.5 0 1 0 13 0 6.5 6.5 0 0 0-13 0Z"></path>
</svg>
        </span>
      
        <span data-view-component="true" class="ActionListItem-label">
          Issues
</span>      
</a>
  
</li>

        
          
<li data-item-id="" data-targets="nav-list.items" data-view-component="true" class="ActionListItem">
    
    
    <a data-hotkey="g p" data-analytics-event="{&quot;category&quot;:&quot;Global navigation&quot;,&quot;action&quot;:&quot;PULL_REQUESTS&quot;,&quot;label&quot;:null}" id="item-a3e4daf8-d5e8-48c1-a707-55a3e05a2bb0" href="/pulls" data-view-component="true" class="ActionListContent ActionListContent--visual16">
        <span class="ActionListItem-visual ActionListItem-visual--leading">
          <svg aria-hidden="true" height="16" viewBox="0 0 16 16" version="1.1" width="16" data-view-component="true" class="octicon octicon-git-pull-request">
    <path d="M1.5 3.25a2.25 2.25 0 1 1 3 2.122v5.256a2.251 2.251 0 1 1-1.5 0V5.372A2.25 2.25 0 0 1 1.5 3.25Zm5.677-.177L9.573.677A.25.25 0 0 1 10 .854V2.5h1A2.5 2.5 0 0 1 13.5 5v5.628a2.251 2.251 0 1 1-1.5 0V5a1 1 0 0 0-1-1h-1v1.646a.25.25 0 0 1-.427.177L7.177 3.427a.25.25 0 0 1 0-.354ZM3.75 2.5a.75.75 0 1 0 0 1.5.75.75 0 0 0 0-1.5Zm0 9.5a.75.75 0 1 0 0 1.5.75.75 0 0 0 0-1.5Zm8.25.75a.75.75 0 1 0 1.5 0 .75.75 0 0 0-1.5 0Z"></path>
</svg>
        </span>
      
        <span data-view-component="true" class="ActionListItem-label">
          Pull requests
</span>      
</a>
  
</li>

        
          
<li data-item-id="" data-targets="nav-list.items" data-item-id="projects" data-view-component="true" class="ActionListItem">
    
    
    <a data-analytics-event="{&quot;category&quot;:&quot;Global navigation&quot;,&quot;action&quot;:&quot;PROJECTS&quot;,&quot;label&quot;:null}" id="item-f8f1c1da-a337-4fe7-a907-44e1c31f7a7f" href="/projects" data-view-component="true" class="ActionListContent ActionListContent--visual16">
        <span class="ActionListItem-visual ActionListItem-visual--leading">
          <svg aria-hidden="true" height="16" viewBox="0 0 16 16" version="1.1" width="16" data-view-component="true" class="octicon octicon-table">
    <path d="M0 1.75C0 .784.784 0 1.75 0h12.5C15.216 0 16 .784 16 1.75v12.5A1.75 1.75 0 0 1 14.25 16H1.75A1.75 1.75 0 0 1 0 14.25ZM6.5 6.5v8h7.75a.25.25 0 0 0 .25-.25V6.5Zm8-1.5V1.75a.25.25 0 0 0-.25-.25H6.5V5Zm-13 1.5v7.75c0 .138.112.25.25.25H5v-8ZM5 5V1.5H1.75a.25.25 0 0 0-.25.25V5Z"></path>
</svg>
        </span>
      
        <span data-view-component="true" class="ActionListItem-label">
          Projects
</span>      
</a>
  
</li>

        
          
<li data-item-id="" data-targets="nav-list.items" data-view-component="true" class="ActionListItem">
    
    
    <a data-analytics-event="{&quot;category&quot;:&quot;Global navigation&quot;,&quot;action&quot;:&quot;DISCUSSIONS&quot;,&quot;label&quot;:null}" id="item-e61eb582-012a-4b7e-becb-1f9183d891d7" href="/discussions" data-view-component="true" class="ActionListContent ActionListContent--visual16">
        <span class="ActionListItem-visual ActionListItem-visual--leading">
          <svg aria-hidden="true" height="16" viewBox="0 0 16 16" version="1.1" width="16" data-view-component="true" class="octicon octicon-comment-discussion">
    <path d="M1.75 1h8.5c.966 0 1.75.784 1.75 1.75v5.5A1.75 1.75 0 0 1 10.25 10H7.061l-2.574 2.573A1.458 1.458 0 0 1 2 11.543V10h-.25A1.75 1.75 0 0 1 0 8.25v-5.5C0 1.784.784 1 1.75 1ZM1.5 2.75v5.5c0 .138.112.25.25.25h1a.75.75 0 0 1 .75.75v2.19l2.72-2.72a.749.749 0 0 1 .53-.22h3.5a.25.25 0 0 0 .25-.25v-5.5a.25.25 0 0 0-.25-.25h-8.5a.25.25 0 0 0-.25.25Zm13 2a.25.25 0 0 0-.25-.25h-.5a.75.75 0 0 1 0-1.5h.5c.966 0 1.75.784 1.75 1.75v5.5A1.75 1.75 0 0 1 14.25 12H14v1.543a1.458 1.458 0 0 1-2.487 1.03L9.22 12.28a.749.749 0 0 1 .326-1.275.749.749 0 0 1 .734.215l2.22 2.22v-2.19a.75.75 0 0 1 .75-.75h1a.25.25 0 0 0 .25-.25Z"></path>
</svg>
        </span>
      
        <span data-view-component="true" class="ActionListItem-label">
          Discussions
</span>      
</a>
  
</li>

        
          
<li data-item-id="" data-targets="nav-list.items" data-view-component="true" class="ActionListItem">
    
    
    <a data-analytics-event="{&quot;category&quot;:&quot;Global navigation&quot;,&quot;action&quot;:&quot;CODESPACES&quot;,&quot;label&quot;:null}" id="item-6c605dfe-bd2c-4e96-b1f9-5ac515272e83" href="https://github.com/codespaces" data-view-component="true" class="ActionListContent ActionListContent--visual16">
        <span class="ActionListItem-visual ActionListItem-visual--leading">
          <svg aria-hidden="true" height="16" viewBox="0 0 16 16" version="1.1" width="16" data-view-component="true" class="octicon octicon-codespaces">
    <path d="M0 11.25c0-.966.784-1.75 1.75-1.75h12.5c.966 0 1.75.784 1.75 1.75v3A1.75 1.75 0 0 1 14.25 16H1.75A1.75 1.75 0 0 1 0 14.25Zm2-9.5C2 .784 2.784 0 3.75 0h8.5C13.216 0 14 .784 14 1.75v5a1.75 1.75 0 0 1-1.75 1.75h-8.5A1.75 1.75 0 0 1 2 6.75Zm1.75-.25a.25.25 0 0 0-.25.25v5c0 .138.112.25.25.25h8.5a.25.25 0 0 0 .25-.25v-5a.25.25 0 0 0-.25-.25Zm-2 9.5a.25.25 0 0 0-.25.25v3c0 .138.112.25.25.25h12.5a.25.25 0 0 0 .25-.25v-3a.25.25 0 0 0-.25-.25Z"></path><path d="M7 12.75a.75.75 0 0 1 .75-.75h4.5a.75.75 0 0 1 0 1.5h-4.5a.75.75 0 0 1-.75-.75Zm-4 0a.75.75 0 0 1 .75-.75h.5a.75.75 0 0 1 0 1.5h-.5a.75.75 0 0 1-.75-.75Z"></path>
</svg>
        </span>
      
        <span data-view-component="true" class="ActionListItem-label">
          Codespaces
</span>      
</a>
  
</li>

        
          <li role="presentation" aria-hidden="true" data-view-component="true" class="ActionList-sectionDivider hide-whenRegular"></li>
        
          
<li data-item-id="" data-targets="nav-list.items" data-view-component="true" class="ActionListItem">
    
    
    <a data-analytics-event="{&quot;category&quot;:&quot;Global navigation&quot;,&quot;action&quot;:&quot;COPILOT&quot;,&quot;label&quot;:null}" id="item-706c5553-25cb-4e87-80ba-e79525240121" href="/copilot" data-view-component="true" class="ActionListContent ActionListContent--visual16">
        <span class="ActionListItem-visual ActionListItem-visual--leading">
          <svg aria-hidden="true" height="16" viewBox="0 0 16 16" version="1.1" width="16" data-view-component="true" class="octicon octicon-copilot">
    <path d="M7.998 15.035c-4.562 0-7.873-2.914-7.998-3.749V9.338c.085-.628.677-1.686 1.588-2.065.013-.07.024-.143.036-.218.029-.183.06-.384.126-.612-.201-.508-.254-1.084-.254-1.656 0-.87.128-1.769.693-2.484.579-.733 1.494-1.124 2.724-1.261 1.206-.134 2.262.034 2.944.765.05.053.096.108.139.165.044-.057.094-.112.143-.165.682-.731 1.738-.899 2.944-.765 1.23.137 2.145.528 2.724 1.261.566.715.693 1.614.693 2.484 0 .572-.053 1.148-.254 1.656.066.228.098.429.126.612.012.076.024.148.037.218.924.385 1.522 1.471 1.591 2.095v1.872c0 .766-3.351 3.795-8.002 3.795Zm0-1.485c2.28 0 4.584-1.11 5.002-1.433V7.862l-.023-.116c-.49.21-1.075.291-1.727.291-1.146 0-2.059-.327-2.71-.991A3.222 3.222 0 0 1 8 6.303a3.24 3.24 0 0 1-.544.743c-.65.664-1.563.991-2.71.991-.652 0-1.236-.081-1.727-.291l-.023.116v4.255c.419.323 2.722 1.433 5.002 1.433ZM6.762 2.83c-.193-.206-.637-.413-1.682-.297-1.019.113-1.479.404-1.713.7-.247.312-.369.789-.369 1.554 0 .793.129 1.171.308 1.371.162.181.519.379 1.442.379.853 0 1.339-.235 1.638-.54.315-.322.527-.827.617-1.553.117-.935-.037-1.395-.241-1.614Zm4.155-.297c-1.044-.116-1.488.091-1.681.297-.204.219-.359.679-.242 1.614.091.726.303 1.231.618 1.553.299.305.784.54 1.638.54.922 0 1.28-.198 1.442-.379.179-.2.308-.578.308-1.371 0-.765-.123-1.242-.37-1.554-.233-.296-.693-.587-1.713-.7Z"></path><path d="M6.25 9.037a.75.75 0 0 1 .75.75v1.501a.75.75 0 0 1-1.5 0V9.787a.75.75 0 0 1 .75-.75Zm4.25.75v1.501a.75.75 0 0 1-1.5 0V9.787a.75.75 0 0 1 1.5 0Z"></path>
</svg>
        </span>
      
        <span data-view-component="true" class="ActionListItem-label">
          Copilot
</span>      
</a>
  
</li>

        
          
<li data-item-id="" data-targets="nav-list.items" data-view-component="true" class="ActionListItem hide-whenRegular">
    
    
    <a id="item-93582b1f-0ba8-4976-8458-841bd2481a96" href="/copilot/spaces" data-view-component="true" class="ActionListContent ActionListContent--visual16">
        <span class="ActionListItem-visual ActionListItem-visual--leading">
          <svg aria-hidden="true" height="16" viewBox="0 0 16 16" version="1.1" width="16" data-view-component="true" class="octicon octicon-space">
    <path d="M0 13.25V2.75C0 1.784.784 1 1.75 1H5c.551 0 1.07.26 1.4.7l.9 1.2a.25.25 0 0 0 .2.1h6.75c.966 0 1.75.784 1.75 1.75v3.638a.75.75 0 0 1-1.5 0V4.75a.25.25 0 0 0-.25-.25H7.5a1.75 1.75 0 0 1-1.4-.7l-.9-1.2a.25.25 0 0 0-.2-.1H1.75a.25.25 0 0 0-.25.25v10.5c0 .138.112.25.25.25h5.663l.076.004a.75.75 0 0 1 0 1.492L7.413 15H1.75A1.75 1.75 0 0 1 0 13.25Z"></path><path d="M12.265 9.16a.248.248 0 0 1 .467 0l.237.649a3.726 3.726 0 0 0 2.219 2.218l.649.238a.249.249 0 0 1 0 .467l-.649.237a3.728 3.728 0 0 0-2.219 2.219l-.237.649a.249.249 0 0 1-.467 0l-.238-.649a3.726 3.726 0 0 0-2.218-2.219l-.649-.237a.248.248 0 0 1 0-.467l.649-.238a3.725 3.725 0 0 0 2.218-2.218l.238-.649Z"></path>
</svg>
        </span>
      
        <span data-view-component="true" class="ActionListItem-label">
          Spaces
</span>      
</a>
  
</li>

        
          
<li data-item-id="" data-targets="nav-list.items" data-view-component="true" class="ActionListItem ActionListItem--hasSubItem hide-whenRegular">
    
    
    <button id="item-78e396f7-4ae9-4d02-9cd8-b2e1b65ca0b7" type="button" aria-expanded="false" data-action="
            click:nav-list#handleItemWithSubItemClick
            keydown:nav-list#handleItemWithSubItemKeydown
          " data-view-component="true" class="ActionListContent ActionListContent--visual16">
        <span class="ActionListItem-visual ActionListItem-visual--leading">
          <svg aria-hidden="true" height="16" viewBox="0 0 16 16" version="1.1" width="16" data-view-component="true" class="octicon octicon-download">
    <path d="M2.75 14A1.75 1.75 0 0 1 1 12.25v-2.5a.75.75 0 0 1 1.5 0v2.5c0 .138.112.25.25.25h10.5a.25.25 0 0 0 .25-.25v-2.5a.75.75 0 0 1 1.5 0v2.5A1.75 1.75 0 0 1 13.25 14Z"></path><path d="M7.25 7.689V2a.75.75 0 0 1 1.5 0v5.689l1.97-1.969a.749.749 0 1 1 1.06 1.06l-3.25 3.25a.749.749 0 0 1-1.06 0L4.22 6.78a.749.749 0 1 1 1.06-1.06l1.97 1.969Z"></path>
</svg>
        </span>
      
        <span data-view-component="true" class="ActionListItem-label">
          Download Copilot
</span>      
        <span class="ActionListItem-visual ActionListItem-action--trailing">
          <svg aria-hidden="true" height="16" viewBox="0 0 16 16" version="1.1" width="16" data-view-component="true" class="octicon octicon-chevron-down ActionListItem-collapseIcon">
    <path d="M12.78 5.22a.749.749 0 0 1 0 1.06l-4.25 4.25a.749.749 0 0 1-1.06 0L3.22 6.28a.749.749 0 1 1 1.06-1.06L8 8.939l3.72-3.719a.749.749 0 0 1 1.06 0Z"></path>
</svg>
        </span>
</button>
        <ul role="list" data-action="keydown:nav-list#handleItemWithSubItemKeydown" aria-labelledby="item-78e396f7-4ae9-4d02-9cd8-b2e1b65ca0b7" data-view-component="true" class="ActionList ActionList--subGroup">
          
<li data-item-id="" data-targets="nav-list.items" data-view-component="true" class="ActionListItem--subItem ActionListItem">
    
    
    <a id="item-247e1b69-3da9-4cf3-ac45-e3c64d6fc5e2" href="https://marketplace.visualstudio.com/items?itemName=GitHub.copilot" data-view-component="true" class="ActionListContent">
      
        <span data-view-component="true" class="ActionListItem-label">
          Visual Studio Code
</span>      
</a>
  
</li>

          
<li data-item-id="" data-targets="nav-list.items" data-view-component="true" class="ActionListItem--subItem ActionListItem">
    
    
    <a id="item-221bcab8-0ca6-42c6-9741-8a45f15f22c3" href="https://visualstudio.microsoft.com/github-copilot/" data-view-component="true" class="ActionListContent">
      
        <span data-view-component="true" class="ActionListItem-label">
          Visual Studio
</span>      
</a>
  
</li>

          
<li data-item-id="" data-targets="nav-list.items" data-view-component="true" class="ActionListItem--subItem ActionListItem">
    
    
    <a id="item-6d402652-ded3-49db-9739-86040e490e45" href="https://github.com/github/CopilotForXcode" data-view-component="true" class="ActionListContent">
      
        <span data-view-component="true" class="ActionListItem-label">
          Xcode
</span>      
</a>
  
</li>

          
<li data-item-id="" data-targets="nav-list.items" data-view-component="true" class="ActionListItem--subItem ActionListItem">
    
    
    <a id="item-cd1d920a-be37-45a5-ab1b-faf1e91d0da4" href="https://plugins.jetbrains.com/plugin/17718-github-copilot" data-view-component="true" class="ActionListContent">
      
        <span data-view-component="true" class="ActionListItem-label">
          JetBrains
</span>      
</a>
  
</li>

          
<li data-item-id="" data-targets="nav-list.items" data-view-component="true" class="ActionListItem--subItem ActionListItem">
    
    
    <a id="item-f74a3438-68cb-4c02-9c4f-a07e531908d4" href="https://github.com/github/copilot.vim" data-view-component="true" class="ActionListContent">
      
        <span data-view-component="true" class="ActionListItem-label">
          Neovim
</span>      
</a>
  
</li>

          
<li data-item-id="" data-targets="nav-list.items" data-view-component="true" class="ActionListItem--subItem ActionListItem">
    
    
    <a id="item-c9291423-915f-47a7-9665-920b3d21a77c" href="https://docs.github.com/en/copilot/how-tos/set-up/installing-github-copilot-in-the-cli" data-view-component="true" class="ActionListContent">
      
        <span data-view-component="true" class="ActionListItem-label">
          CLI
</span>      
</a>
  
</li>

</ul>
</li>

        
          <li role="presentation" aria-hidden="true" data-view-component="true" class="ActionList-sectionDivider"></li>
        
          
<li data-item-id="" data-targets="nav-list.items" data-view-component="true" class="ActionListItem">
    
    
    <a data-analytics-event="{&quot;category&quot;:&quot;Global navigation&quot;,&quot;action&quot;:&quot;EXPLORE&quot;,&quot;label&quot;:null}" id="item-528430f5-ca21-4cd2-9065-54bbe8c848d9" href="/explore" data-view-component="true" class="ActionListContent ActionListContent--visual16">
        <span class="ActionListItem-visual ActionListItem-visual--leading">
          <svg aria-hidden="true" height="16" viewBox="0 0 16 16" version="1.1" width="16" data-view-component="true" class="octicon octicon-telescope">
    <path d="M14.184 1.143v-.001l1.422 2.464a1.75 1.75 0 0 1-.757 2.451L3.104 11.713a1.75 1.75 0 0 1-2.275-.702l-.447-.775a1.75 1.75 0 0 1 .53-2.32L11.682.573a1.748 1.748 0 0 1 2.502.57Zm-4.709 9.32h-.001l2.644 3.863a.75.75 0 1 1-1.238.848l-1.881-2.75v2.826a.75.75 0 0 1-1.5 0v-2.826l-1.881 2.75a.75.75 0 1 1-1.238-.848l2.049-2.992a.746.746 0 0 1 .293-.253l1.809-.87a.749.749 0 0 1 .944.252ZM9.436 3.92h-.001l-4.97 3.39.942 1.63 5.42-2.61Zm3.091-2.108h.001l-1.85 1.26 1.505 2.605 2.016-.97a.247.247 0 0 0 .13-.151.247.247 0 0 0-.022-.199l-1.422-2.464a.253.253 0 0 0-.161-.119.254.254 0 0 0-.197.038ZM1.756 9.157a.25.25 0 0 0-.075.33l.447.775a.25.25 0 0 0 .325.1l1.598-.769-.83-1.436-1.465 1Z"></path>
</svg>
        </span>
      
        <span data-view-component="true" class="ActionListItem-label">
          Explore
</span>      
</a>
  
</li>

        
          
<li data-item-id="" data-targets="nav-list.items" data-view-component="true" class="ActionListItem">
    
    
    <a data-analytics-event="{&quot;category&quot;:&quot;Global navigation&quot;,&quot;action&quot;:&quot;MARKETPLACE&quot;,&quot;label&quot;:null}" id="item-565098e2-840a-4bb3-9b3c-a90c518a1685" href="/marketplace" data-view-component="true" class="ActionListContent ActionListContent--visual16">
        <span class="ActionListItem-visual ActionListItem-visual--leading">
          <svg aria-hidden="true" height="16" viewBox="0 0 16 16" version="1.1" width="16" data-view-component="true" class="octicon octicon-gift">
    <path d="M2 2.75A2.75 2.75 0 0 1 4.75 0c.983 0 1.873.42 2.57 1.232.268.318.497.668.68 1.042.183-.375.411-.725.68-1.044C9.376.42 10.266 0 11.25 0a2.75 2.75 0 0 1 2.45 4h.55c.966 0 1.75.784 1.75 1.75v2c0 .698-.409 1.301-1 1.582v4.918A1.75 1.75 0 0 1 13.25 16H2.75A1.75 1.75 0 0 1 1 14.25V9.332C.409 9.05 0 8.448 0 7.75v-2C0 4.784.784 4 1.75 4h.55c-.192-.375-.3-.8-.3-1.25ZM7.25 9.5H2.5v4.75c0 .138.112.25.25.25h4.5Zm1.5 0v5h4.5a.25.25 0 0 0 .25-.25V9.5Zm0-4V8h5.5a.25.25 0 0 0 .25-.25v-2a.25.25 0 0 0-.25-.25Zm-7 0a.25.25 0 0 0-.25.25v2c0 .138.112.25.25.25h5.5V5.5h-5.5Zm3-4a1.25 1.25 0 0 0 0 2.5h2.309c-.233-.818-.542-1.401-.878-1.793-.43-.502-.915-.707-1.431-.707ZM8.941 4h2.309a1.25 1.25 0 0 0 0-2.5c-.516 0-1 .205-1.43.707-.337.392-.646.975-.879 1.793Z"></path>
</svg>
        </span>
      
        <span data-view-component="true" class="ActionListItem-label">
          Marketplace
</span>      
</a>
  
</li>

</ul>  </nav-list>
</nav>

        <div data-view-component="true" class="my-3 d-flex flex-justify-center height-full">
          <span data-view-component="true">
  <svg style="box-sizing: content-box; color: var(--color-icon-primary);" width="16" height="16" viewBox="0 0 16 16" fill="none" aria-hidden="true" data-view-component="true" class="anim-rotate">
    <circle cx="8" cy="8" r="7" stroke="currentColor" stroke-opacity="0.25" stroke-width="2" vector-effect="non-scaling-stroke" fill="none" />
    <path d="M15 8a7.002 7.002 0 00-7-7" stroke="currentColor" stroke-width="2" stroke-linecap="round" vector-effect="non-scaling-stroke" />
</svg>    <span class="sr-only">Loading</span>
</span>
</div>
</div>
      <div data-view-component="true" class="flex-1"></div>


      <div data-view-component="true" class="px-2">      <p class="color-fg-subtle text-small text-light">&copy; 2025 GitHub, Inc.</p>

      <div data-view-component="true" class="d-flex flex-wrap text-small text-light">
          <a target="_blank" href="https://github.com/about" data-view-component="true" class="Link mr-2">About</a>
          <a target="_blank" href="https://github.blog" data-view-component="true" class="Link mr-2">Blog</a>
          <a target="_blank" href="https://docs.github.com/site-policy/github-terms/github-terms-of-service" data-view-component="true" class="Link mr-2">Terms</a>
          <a target="_blank" href="https://docs.github.com/site-policy/privacy-policies/github-privacy-statement" data-view-component="true" class="Link mr-2">Privacy</a>
          <a target="_blank" href="https://github.com/security" data-view-component="true" class="Link mr-2">Security</a>
          <a target="_blank" href="https://www.githubstatus.com/" data-view-component="true" class="Link mr-3">Status</a>

</div></div>
</div>
      </scrollable-region>
      
</dialog></dialog-helper>


  <div data-show-on-forbidden-error hidden>
    <div class="Box">
  <div class="blankslate-container">
    <div data-view-component="true" class="blankslate blankslate-spacious color-bg-default rounded-2">
      

      <h3 data-view-component="true" class="blankslate-heading">        Uh oh!
</h3>
      <p data-view-component="true">        <p class="color-fg-muted my-2 mb-2 ws-normal">There was an error while loading. <a class="Link--inTextBlock" data-turbo="false" href="" aria-label="Please reload this page">Please reload this page</a>.</p>
</p>

</div>  </div>
</div>  </div>
</include-fragment></deferred-side-panel>
        </div>

        <a class="AppHeader-logo ml-1 "
          href="https://github.com/"
          data-hotkey="g d"
          aria-label="Homepage "
          data-turbo="false"
          data-analytics-event="{&quot;category&quot;:&quot;Header&quot;,&quot;action&quot;:&quot;go to dashboard&quot;,&quot;label&quot;:&quot;icon:logo&quot;}"
        >
          <svg height="32" aria-hidden="true" viewBox="0 0 24 24" version="1.1" width="32" data-view-component="true" class="octicon octicon-mark-github v-align-middle">
    <path d="M12 1C5.923 1 1 5.923 1 12c0 4.867 3.149 8.979 7.521 10.436.55.096.756-.233.756-.522 0-.262-.013-1.128-.013-2.049-2.764.509-3.479-.674-3.699-1.292-.124-.317-.66-1.293-1.127-1.554-.385-.207-.936-.715-.014-.729.866-.014 1.485.797 1.691 1.128.99 1.663 2.571 1.196 3.204.907.096-.715.385-1.196.701-1.471-2.448-.275-5.005-1.224-5.005-5.432 0-1.196.426-2.186 1.128-2.956-.111-.275-.496-1.402.11-2.915 0 0 .921-.288 3.024 1.128a10.193 10.193 0 0 1 2.75-.371c.936 0 1.871.123 2.75.371 2.104-1.43 3.025-1.128 3.025-1.128.605 1.513.221 2.64.111 2.915.701.77 1.127 1.747 1.127 2.956 0 4.222-2.571 5.157-5.019 5.432.399.344.743 1.004.743 2.035 0 1.471-.014 2.654-.014 3.025 0 .289.206.632.756.522C19.851 20.979 23 16.854 23 12c0-6.077-4.922-11-11-11Z"></path>
</svg>
        </a>

          <context-region-controller
  class="AppHeader-context responsive-context-region"
  data-max-items="5"
  
>
  <div class="AppHeader-context-full">
    <nav role="navigation" aria-label="GitHub Breadcrumb">
      
<context-region data-target="context-region-controller.contextRegion" role="list"  data-action="context-region-changed:context-region-controller#crumbsChanged">
    <context-region-crumb
      data-crumb-id="contextregion-usercrumb-sparc-fair-codeathon"
      data-targets="context-region.crumbs"
      data-label="SPARC-FAIR-Codeathon"
      data-href="/SPARC-FAIR-Codeathon"
      data-pre-rendered
      role="listitem"
      
    >
      <a data-target="context-region-crumb.linkElement" data-analytics-event="{&quot;category&quot;:&quot;SiteHeaderComponent&quot;,&quot;action&quot;:&quot;context_region_crumb&quot;,&quot;label&quot;:&quot;SPARC-FAIR-Codeathon&quot;,&quot;screen_size&quot;:&quot;full&quot;}" data-hovercard-type="organization" data-hovercard-url="/orgs/SPARC-FAIR-Codeathon/hovercard" data-octo-click="hovercard-link-click" data-octo-dimensions="link_type:self" href="/SPARC-FAIR-Codeathon" id="contextregion-usercrumb-sparc-fair-codeathon-link" data-view-component="true" class="AppHeader-context-item">
        <span data-target="context-region-crumb.labelElement" class="AppHeader-context-item-label ">
          SPARC-FAIR-Codeathon
        </span>

</a>
      <context-region-divider data-target="context-region-crumb.dividerElement" data-pre-rendered >
  <span class="AppHeader-context-item-separator">
    <span class="sr-only">/</span>
    <svg width="16" height="16" viewBox="0 0 16 16" xmlns="http://www.w3.org/2000/svg" aria-hidden="true">
      <path d="M10.956 1.27994L6.06418 14.7201L5 14.7201L9.89181 1.27994L10.956 1.27994Z" fill="currentcolor" />
    </svg>
  </span>
</context-region-divider>

    </context-region-crumb>

      <li data-target="context-region-controller.overflowMenuContainer context-region.overflowMenuContainer" role="listitem" hidden>
        <action-menu data-target="context-region-controller.overflowActionMenu" data-select-variant="none" data-view-component="true">
  <focus-group direction="vertical" mnemonics retain>
    <button id="action-menu-1be066c1-4e11-4239-a3df-0a55f1152ff0-button" popovertarget="action-menu-1be066c1-4e11-4239-a3df-0a55f1152ff0-overlay" aria-controls="action-menu-1be066c1-4e11-4239-a3df-0a55f1152ff0-list" aria-haspopup="true" aria-labelledby="tooltip-718e989d-1c04-4dd3-911b-18b28a1c7a3a" type="button" data-view-component="true" class="Button Button--iconOnly Button--secondary Button--medium">  <svg aria-hidden="true" height="16" viewBox="0 0 16 16" version="1.1" width="16" data-view-component="true" class="octicon octicon-kebab-horizontal Button-visual">
    <path d="M8 9a1.5 1.5 0 1 0 0-3 1.5 1.5 0 0 0 0 3ZM1.5 9a1.5 1.5 0 1 0 0-3 1.5 1.5 0 0 0 0 3Zm13 0a1.5 1.5 0 1 0 0-3 1.5 1.5 0 0 0 0 3Z"></path>
</svg>
</button><tool-tip id="tooltip-718e989d-1c04-4dd3-911b-18b28a1c7a3a" for="action-menu-1be066c1-4e11-4239-a3df-0a55f1152ff0-button" popover="manual" data-direction="s" data-type="label" data-view-component="true" class="sr-only position-absolute">Show more breadcrumb items</tool-tip>


<anchored-position data-target="action-menu.overlay" id="action-menu-1be066c1-4e11-4239-a3df-0a55f1152ff0-overlay" anchor="action-menu-1be066c1-4e11-4239-a3df-0a55f1152ff0-button" align="start" side="outside-bottom" anchor-offset="normal" popover="auto" data-view-component="true">
  <div data-view-component="true" class="Overlay Overlay--size-auto">
    
      <div data-view-component="true" class="Overlay-body Overlay-body--paddingNone">          <action-list>
  <div data-view-component="true">
    <ul aria-labelledby="action-menu-1be066c1-4e11-4239-a3df-0a55f1152ff0-button" id="action-menu-1be066c1-4e11-4239-a3df-0a55f1152ff0-list" role="menu" data-view-component="true" class="ActionListWrap--inset ActionListWrap">
        <li hidden="hidden" data-crumb-id="contextregion-usercrumb-sparc-fair-codeathon" data-targets="context-region.overflowCrumbs action-list.items" data-analytics-event="{&quot;category&quot;:&quot;SiteHeaderComponent&quot;,&quot;action&quot;:&quot;context_region_overflow_menu_crumb&quot;,&quot;label&quot;:&quot;global-navigation&quot;}" role="none" data-view-component="true" class="ActionListItem">
    
    
    <a tabindex="-1" id="item-ba6d85e8-8e21-43e6-8149-c9afc26e44bf" href="/SPARC-FAIR-Codeathon" role="menuitem" data-view-component="true" class="ActionListContent">
      
        <span data-view-component="true" class="ActionListItem-label">
          SPARC-FAIR-Codeathon
</span>      
</a>
  
</li>
        <li hidden="hidden" data-crumb-id="contextregion-repositorycrumb-2025-team-f" data-targets="context-region.overflowCrumbs action-list.items" data-analytics-event="{&quot;category&quot;:&quot;SiteHeaderComponent&quot;,&quot;action&quot;:&quot;context_region_overflow_menu_crumb&quot;,&quot;label&quot;:&quot;global-navigation&quot;}" role="none" data-view-component="true" class="ActionListItem">
    
    
    <a tabindex="-1" id="item-f567e885-9555-4e1c-992f-cd31d5e62858" href="/SPARC-FAIR-Codeathon/2025-team-F" role="menuitem" data-view-component="true" class="ActionListContent">
      
        <span data-view-component="true" class="ActionListItem-label">
          2025-team-F
</span>      
</a>
  
</li>
</ul>    
</div></action-list>


</div>
      
</div></anchored-position>  </focus-group>
</action-menu>
  <context-region-divider data-target="context-region-crumb.dividerElement" data-pre-rendered >
  <span class="AppHeader-context-item-separator">
    <span class="sr-only">/</span>
    <svg width="16" height="16" viewBox="0 0 16 16" xmlns="http://www.w3.org/2000/svg" aria-hidden="true">
      <path d="M10.956 1.27994L6.06418 14.7201L5 14.7201L9.89181 1.27994L10.956 1.27994Z" fill="currentcolor" />
    </svg>
  </span>
</context-region-divider>


      </li>
    <context-region-crumb
      data-crumb-id="contextregion-repositorycrumb-2025-team-f"
      data-targets="context-region.crumbs"
      data-label="2025-team-F"
      data-href="/SPARC-FAIR-Codeathon/2025-team-F"
      data-pre-rendered
      role="listitem"
      
    >
      <a data-target="context-region-crumb.linkElement" data-analytics-event="{&quot;category&quot;:&quot;SiteHeaderComponent&quot;,&quot;action&quot;:&quot;context_region_crumb&quot;,&quot;label&quot;:&quot;2025-team-F&quot;,&quot;screen_size&quot;:&quot;full&quot;}" href="/SPARC-FAIR-Codeathon/2025-team-F" id="contextregion-repositorycrumb-2025-team-f-link" data-view-component="true" class="AppHeader-context-item">
        <span data-target="context-region-crumb.labelElement" class="AppHeader-context-item-label ">
          2025-team-F
        </span>

</a>
      <context-region-divider data-target="context-region-crumb.dividerElement" data-pre-rendered >
  <span class="AppHeader-context-item-separator">
    <span class="sr-only">/</span>
    <svg width="16" height="16" viewBox="0 0 16 16" xmlns="http://www.w3.org/2000/svg" aria-hidden="true">
      <path d="M10.956 1.27994L6.06418 14.7201L5 14.7201L9.89181 1.27994L10.956 1.27994Z" fill="currentcolor" />
    </svg>
  </span>
</context-region-divider>

    </context-region-crumb>

</context-region>

    </nav>
  </div>
</context-region-controller>

      </div>
      <div class="AppHeader-globalBar-end">
          <div class="AppHeader-search" >
              


<qbsearch-input class="search-input" data-scope="repo:SPARC-FAIR-Codeathon/2025-team-F" data-custom-scopes-path="/search/custom_scopes" data-delete-custom-scopes-csrf="5WMhcrhwkE-HjFKpZ9OcsciSaux20QMGgHxyru1KaFk9HjBOOxIWMpw8ItDoFGPAH4RLJyyE0YqTEAoOQsLyZg" data-max-custom-scopes="10" data-header-redesign-enabled="true" data-initial-value="" data-blackbird-suggestions-path="/search/suggestions" data-jump-to-suggestions-path="/_graphql/GetSuggestedNavigationDestinations" data-current-repository="SPARC-FAIR-Codeathon/2025-team-F" data-current-org="SPARC-FAIR-Codeathon" data-current-owner="" data-logged-in="true" data-copilot-chat-enabled="true" data-nl-search-enabled="false">
  <div
    class="search-input-container search-with-dialog position-relative d-flex flex-row flex-items-center height-auto color-bg-transparent border-0 color-fg-subtle mx-0"
    data-action="click:qbsearch-input#searchInputContainerClicked"
  >
      
            <button type="button" data-action="click:qbsearch-input#handleExpand" class="AppHeader-button AppHeader-search-whenNarrow" aria-label="Search or jump to…" aria-expanded="false" aria-haspopup="dialog">
            <svg aria-hidden="true" height="16" viewBox="0 0 16 16" version="1.1" width="16" data-view-component="true" class="octicon octicon-search">
    <path d="M10.68 11.74a6 6 0 0 1-7.922-8.982 6 6 0 0 1 8.982 7.922l3.04 3.04a.749.749 0 0 1-.326 1.275.749.749 0 0 1-.734-.215ZM11.5 7a4.499 4.499 0 1 0-8.997 0A4.499 4.499 0 0 0 11.5 7Z"></path>
</svg>
          </button>


<div class="AppHeader-search-whenRegular">
  <div class="AppHeader-search-wrap AppHeader-search-wrap--hasTrailing">
    <div class="AppHeader-search-control AppHeader-search-control-overflow">
      <label
        for="AppHeader-searchInput"
        aria-label="Search or jump to…"
        class="AppHeader-search-visual--leading"
      >
        <svg aria-hidden="true" height="16" viewBox="0 0 16 16" version="1.1" width="16" data-view-component="true" class="octicon octicon-search">
    <path d="M10.68 11.74a6 6 0 0 1-7.922-8.982 6 6 0 0 1 8.982 7.922l3.04 3.04a.749.749 0 0 1-.326 1.275.749.749 0 0 1-.734-.215ZM11.5 7a4.499 4.499 0 1 0-8.997 0A4.499 4.499 0 0 0 11.5 7Z"></path>
</svg>
      </label>

                <button
            type="button"
            data-target="qbsearch-input.inputButton"
            data-action="click:qbsearch-input#handleExpand"
            class="AppHeader-searchButton form-control text-left color-fg-subtle no-wrap"
            data-hotkey="s,/"
            data-analytics-event="{&quot;location&quot;:&quot;navbar&quot;,&quot;action&quot;:&quot;searchbar&quot;,&quot;context&quot;:&quot;global&quot;,&quot;tag&quot;:&quot;input&quot;,&quot;label&quot;:&quot;searchbar_input_global_navbar&quot;}"
            aria-describedby="search-error-message-flash"
          >
            <div class="overflow-hidden">
              <span id="qb-input-query" data-target="qbsearch-input.inputButtonText">
                  Type <kbd class="AppHeader-search-kbd">/</kbd> to search
              </span>
            </div>
          </button>

    </div>


  </div>
</div>

    <input type="hidden" name="type" class="js-site-search-type-field">

    
<div class="Overlay--hidden " data-modal-dialog-overlay>
  <modal-dialog data-action="close:qbsearch-input#handleClose cancel:qbsearch-input#handleClose" data-target="qbsearch-input.searchSuggestionsDialog" role="dialog" id="search-suggestions-dialog" aria-modal="true" aria-labelledby="search-suggestions-dialog-header" data-view-component="true" class="Overlay Overlay--width-medium Overlay--height-auto">
      <h1 id="search-suggestions-dialog-header" class="sr-only">Search code, repositories, users, issues, pull requests...</h1>
    <div class="Overlay-body Overlay-body--paddingNone">
      
          <div data-view-component="true">        <div class="search-suggestions position-absolute width-full color-shadow-large border color-fg-default color-bg-default overflow-hidden d-flex flex-column query-builder-container"
          style="border-radius: 12px;"
          data-target="qbsearch-input.queryBuilderContainer"
          hidden
        >
          <!-- '"` --><!-- </textarea></xmp> --></option></form><form id="query-builder-test-form" action="" accept-charset="UTF-8" method="get">
  <query-builder data-target="qbsearch-input.queryBuilder" id="query-builder-query-builder-test" data-filter-key=":" data-view-component="true" class="QueryBuilder search-query-builder">
    <div class="FormControl FormControl--fullWidth">
      <label id="query-builder-test-label" for="query-builder-test" class="FormControl-label sr-only">
        Search
      </label>
      <div
        class="QueryBuilder-StyledInput width-fit "
        data-target="query-builder.styledInput"
      >
          <span id="query-builder-test-leadingvisual-wrap" class="FormControl-input-leadingVisualWrap QueryBuilder-leadingVisualWrap">
            <svg aria-hidden="true" height="16" viewBox="0 0 16 16" version="1.1" width="16" data-view-component="true" class="octicon octicon-search FormControl-input-leadingVisual">
    <path d="M10.68 11.74a6 6 0 0 1-7.922-8.982 6 6 0 0 1 8.982 7.922l3.04 3.04a.749.749 0 0 1-.326 1.275.749.749 0 0 1-.734-.215ZM11.5 7a4.499 4.499 0 1 0-8.997 0A4.499 4.499 0 0 0 11.5 7Z"></path>
</svg>
          </span>
        <div data-target="query-builder.styledInputContainer" class="QueryBuilder-StyledInputContainer">
          <div
            aria-hidden="true"
            class="QueryBuilder-StyledInputContent"
            data-target="query-builder.styledInputContent"
          ></div>
          <div class="QueryBuilder-InputWrapper">
            <div aria-hidden="true" class="QueryBuilder-Sizer" data-target="query-builder.sizer"></div>
            <input id="query-builder-test" name="query-builder-test" value="" autocomplete="off" type="text" role="combobox" spellcheck="false" aria-expanded="false" aria-describedby="validation-8af01f67-9a94-422b-ac10-e877ed98bb42" data-target="query-builder.input" data-action="
          input:query-builder#inputChange
          blur:query-builder#inputBlur
          keydown:query-builder#inputKeydown
          focus:query-builder#inputFocus
        " data-view-component="true" class="FormControl-input QueryBuilder-Input FormControl-medium" />
          </div>
        </div>
          <span class="sr-only" id="query-builder-test-clear">Clear</span>
          <button role="button" id="query-builder-test-clear-button" aria-labelledby="query-builder-test-clear query-builder-test-label" data-target="query-builder.clearButton" data-action="
                click:query-builder#clear
                focus:query-builder#clearButtonFocus
                blur:query-builder#clearButtonBlur
              " variant="small" hidden="hidden" type="button" data-view-component="true" class="Button Button--iconOnly Button--invisible Button--medium mr-1 px-2 py-0 d-flex flex-items-center rounded-1 color-fg-muted">  <svg aria-hidden="true" height="16" viewBox="0 0 16 16" version="1.1" width="16" data-view-component="true" class="octicon octicon-x-circle-fill Button-visual">
    <path d="M2.343 13.657A8 8 0 1 1 13.658 2.343 8 8 0 0 1 2.343 13.657ZM6.03 4.97a.751.751 0 0 0-1.042.018.751.751 0 0 0-.018 1.042L6.94 8 4.97 9.97a.749.749 0 0 0 .326 1.275.749.749 0 0 0 .734-.215L8 9.06l1.97 1.97a.749.749 0 0 0 1.275-.326.749.749 0 0 0-.215-.734L9.06 8l1.97-1.97a.749.749 0 0 0-.326-1.275.749.749 0 0 0-.734.215L8 6.94Z"></path>
</svg>
</button>

      </div>
      <template id="search-icon">
  <svg aria-hidden="true" height="16" viewBox="0 0 16 16" version="1.1" width="16" data-view-component="true" class="octicon octicon-search">
    <path d="M10.68 11.74a6 6 0 0 1-7.922-8.982 6 6 0 0 1 8.982 7.922l3.04 3.04a.749.749 0 0 1-.326 1.275.749.749 0 0 1-.734-.215ZM11.5 7a4.499 4.499 0 1 0-8.997 0A4.499 4.499 0 0 0 11.5 7Z"></path>
</svg>
</template>

<template id="code-icon">
  <svg aria-hidden="true" height="16" viewBox="0 0 16 16" version="1.1" width="16" data-view-component="true" class="octicon octicon-code">
    <path d="m11.28 3.22 4.25 4.25a.75.75 0 0 1 0 1.06l-4.25 4.25a.749.749 0 0 1-1.275-.326.749.749 0 0 1 .215-.734L13.94 8l-3.72-3.72a.749.749 0 0 1 .326-1.275.749.749 0 0 1 .734.215Zm-6.56 0a.751.751 0 0 1 1.042.018.751.751 0 0 1 .018 1.042L2.06 8l3.72 3.72a.749.749 0 0 1-.326 1.275.749.749 0 0 1-.734-.215L.47 8.53a.75.75 0 0 1 0-1.06Z"></path>
</svg>
</template>

<template id="file-code-icon">
  <svg aria-hidden="true" height="16" viewBox="0 0 16 16" version="1.1" width="16" data-view-component="true" class="octicon octicon-file-code">
    <path d="M4 1.75C4 .784 4.784 0 5.75 0h5.586c.464 0 .909.184 1.237.513l2.914 2.914c.329.328.513.773.513 1.237v8.586A1.75 1.75 0 0 1 14.25 15h-9a.75.75 0 0 1 0-1.5h9a.25.25 0 0 0 .25-.25V6h-2.75A1.75 1.75 0 0 1 10 4.25V1.5H5.75a.25.25 0 0 0-.25.25v2.5a.75.75 0 0 1-1.5 0Zm1.72 4.97a.75.75 0 0 1 1.06 0l2 2a.75.75 0 0 1 0 1.06l-2 2a.749.749 0 0 1-1.275-.326.749.749 0 0 1 .215-.734l1.47-1.47-1.47-1.47a.75.75 0 0 1 0-1.06ZM3.28 7.78 1.81 9.25l1.47 1.47a.751.751 0 0 1-.018 1.042.751.751 0 0 1-1.042.018l-2-2a.75.75 0 0 1 0-1.06l2-2a.751.751 0 0 1 1.042.018.751.751 0 0 1 .018 1.042Zm8.22-6.218V4.25c0 .138.112.25.25.25h2.688l-.011-.013-2.914-2.914-.013-.011Z"></path>
</svg>
</template>

<template id="history-icon">
  <svg aria-hidden="true" height="16" viewBox="0 0 16 16" version="1.1" width="16" data-view-component="true" class="octicon octicon-history">
    <path d="m.427 1.927 1.215 1.215a8.002 8.002 0 1 1-1.6 5.685.75.75 0 1 1 1.493-.154 6.5 6.5 0 1 0 1.18-4.458l1.358 1.358A.25.25 0 0 1 3.896 6H.25A.25.25 0 0 1 0 5.75V2.104a.25.25 0 0 1 .427-.177ZM7.75 4a.75.75 0 0 1 .75.75v2.992l2.028.812a.75.75 0 0 1-.557 1.392l-2.5-1A.751.751 0 0 1 7 8.25v-3.5A.75.75 0 0 1 7.75 4Z"></path>
</svg>
</template>

<template id="repo-icon">
  <svg aria-hidden="true" height="16" viewBox="0 0 16 16" version="1.1" width="16" data-view-component="true" class="octicon octicon-repo">
    <path d="M2 2.5A2.5 2.5 0 0 1 4.5 0h8.75a.75.75 0 0 1 .75.75v12.5a.75.75 0 0 1-.75.75h-2.5a.75.75 0 0 1 0-1.5h1.75v-2h-8a1 1 0 0 0-.714 1.7.75.75 0 1 1-1.072 1.05A2.495 2.495 0 0 1 2 11.5Zm10.5-1h-8a1 1 0 0 0-1 1v6.708A2.486 2.486 0 0 1 4.5 9h8ZM5 12.25a.25.25 0 0 1 .25-.25h3.5a.25.25 0 0 1 .25.25v3.25a.25.25 0 0 1-.4.2l-1.45-1.087a.249.249 0 0 0-.3 0L5.4 15.7a.25.25 0 0 1-.4-.2Z"></path>
</svg>
</template>

<template id="bookmark-icon">
  <svg aria-hidden="true" height="16" viewBox="0 0 16 16" version="1.1" width="16" data-view-component="true" class="octicon octicon-bookmark">
    <path d="M3 2.75C3 1.784 3.784 1 4.75 1h6.5c.966 0 1.75.784 1.75 1.75v11.5a.75.75 0 0 1-1.227.579L8 11.722l-3.773 3.107A.751.751 0 0 1 3 14.25Zm1.75-.25a.25.25 0 0 0-.25.25v9.91l3.023-2.489a.75.75 0 0 1 .954 0l3.023 2.49V2.75a.25.25 0 0 0-.25-.25Z"></path>
</svg>
</template>

<template id="plus-circle-icon">
  <svg aria-hidden="true" height="16" viewBox="0 0 16 16" version="1.1" width="16" data-view-component="true" class="octicon octicon-plus-circle">
    <path d="M8 0a8 8 0 1 1 0 16A8 8 0 0 1 8 0ZM1.5 8a6.5 6.5 0 1 0 13 0 6.5 6.5 0 0 0-13 0Zm7.25-3.25v2.5h2.5a.75.75 0 0 1 0 1.5h-2.5v2.5a.75.75 0 0 1-1.5 0v-2.5h-2.5a.75.75 0 0 1 0-1.5h2.5v-2.5a.75.75 0 0 1 1.5 0Z"></path>
</svg>
</template>

<template id="circle-icon">
  <svg aria-hidden="true" height="16" viewBox="0 0 16 16" version="1.1" width="16" data-view-component="true" class="octicon octicon-dot-fill">
    <path d="M8 4a4 4 0 1 1 0 8 4 4 0 0 1 0-8Z"></path>
</svg>
</template>

<template id="trash-icon">
  <svg aria-hidden="true" height="16" viewBox="0 0 16 16" version="1.1" width="16" data-view-component="true" class="octicon octicon-trash">
    <path d="M11 1.75V3h2.25a.75.75 0 0 1 0 1.5H2.75a.75.75 0 0 1 0-1.5H5V1.75C5 .784 5.784 0 6.75 0h2.5C10.216 0 11 .784 11 1.75ZM4.496 6.675l.66 6.6a.25.25 0 0 0 .249.225h5.19a.25.25 0 0 0 .249-.225l.66-6.6a.75.75 0 0 1 1.492.149l-.66 6.6A1.748 1.748 0 0 1 10.595 15h-5.19a1.75 1.75 0 0 1-1.741-1.575l-.66-6.6a.75.75 0 1 1 1.492-.15ZM6.5 1.75V3h3V1.75a.25.25 0 0 0-.25-.25h-2.5a.25.25 0 0 0-.25.25Z"></path>
</svg>
</template>

<template id="team-icon">
  <svg aria-hidden="true" height="16" viewBox="0 0 16 16" version="1.1" width="16" data-view-component="true" class="octicon octicon-people">
    <path d="M2 5.5a3.5 3.5 0 1 1 5.898 2.549 5.508 5.508 0 0 1 3.034 4.084.75.75 0 1 1-1.482.235 4 4 0 0 0-7.9 0 .75.75 0 0 1-1.482-.236A5.507 5.507 0 0 1 3.102 8.05 3.493 3.493 0 0 1 2 5.5ZM11 4a3.001 3.001 0 0 1 2.22 5.018 5.01 5.01 0 0 1 2.56 3.012.749.749 0 0 1-.885.954.752.752 0 0 1-.549-.514 3.507 3.507 0 0 0-2.522-2.372.75.75 0 0 1-.574-.73v-.352a.75.75 0 0 1 .416-.672A1.5 1.5 0 0 0 11 5.5.75.75 0 0 1 11 4Zm-5.5-.5a2 2 0 1 0-.001 3.999A2 2 0 0 0 5.5 3.5Z"></path>
</svg>
</template>

<template id="project-icon">
  <svg aria-hidden="true" height="16" viewBox="0 0 16 16" version="1.1" width="16" data-view-component="true" class="octicon octicon-project">
    <path d="M1.75 0h12.5C15.216 0 16 .784 16 1.75v12.5A1.75 1.75 0 0 1 14.25 16H1.75A1.75 1.75 0 0 1 0 14.25V1.75C0 .784.784 0 1.75 0ZM1.5 1.75v12.5c0 .138.112.25.25.25h12.5a.25.25 0 0 0 .25-.25V1.75a.25.25 0 0 0-.25-.25H1.75a.25.25 0 0 0-.25.25ZM11.75 3a.75.75 0 0 1 .75.75v7.5a.75.75 0 0 1-1.5 0v-7.5a.75.75 0 0 1 .75-.75Zm-8.25.75a.75.75 0 0 1 1.5 0v5.5a.75.75 0 0 1-1.5 0ZM8 3a.75.75 0 0 1 .75.75v3.5a.75.75 0 0 1-1.5 0v-3.5A.75.75 0 0 1 8 3Z"></path>
</svg>
</template>

<template id="pencil-icon">
  <svg aria-hidden="true" height="16" viewBox="0 0 16 16" version="1.1" width="16" data-view-component="true" class="octicon octicon-pencil">
    <path d="M11.013 1.427a1.75 1.75 0 0 1 2.474 0l1.086 1.086a1.75 1.75 0 0 1 0 2.474l-8.61 8.61c-.21.21-.47.364-.756.445l-3.251.93a.75.75 0 0 1-.927-.928l.929-3.25c.081-.286.235-.547.445-.758l8.61-8.61Zm.176 4.823L9.75 4.81l-6.286 6.287a.253.253 0 0 0-.064.108l-.558 1.953 1.953-.558a.253.253 0 0 0 .108-.064Zm1.238-3.763a.25.25 0 0 0-.354 0L10.811 3.75l1.439 1.44 1.263-1.263a.25.25 0 0 0 0-.354Z"></path>
</svg>
</template>

<template id="copilot-icon">
  <svg aria-hidden="true" height="16" viewBox="0 0 16 16" version="1.1" width="16" data-view-component="true" class="octicon octicon-copilot">
    <path d="M7.998 15.035c-4.562 0-7.873-2.914-7.998-3.749V9.338c.085-.628.677-1.686 1.588-2.065.013-.07.024-.143.036-.218.029-.183.06-.384.126-.612-.201-.508-.254-1.084-.254-1.656 0-.87.128-1.769.693-2.484.579-.733 1.494-1.124 2.724-1.261 1.206-.134 2.262.034 2.944.765.05.053.096.108.139.165.044-.057.094-.112.143-.165.682-.731 1.738-.899 2.944-.765 1.23.137 2.145.528 2.724 1.261.566.715.693 1.614.693 2.484 0 .572-.053 1.148-.254 1.656.066.228.098.429.126.612.012.076.024.148.037.218.924.385 1.522 1.471 1.591 2.095v1.872c0 .766-3.351 3.795-8.002 3.795Zm0-1.485c2.28 0 4.584-1.11 5.002-1.433V7.862l-.023-.116c-.49.21-1.075.291-1.727.291-1.146 0-2.059-.327-2.71-.991A3.222 3.222 0 0 1 8 6.303a3.24 3.24 0 0 1-.544.743c-.65.664-1.563.991-2.71.991-.652 0-1.236-.081-1.727-.291l-.023.116v4.255c.419.323 2.722 1.433 5.002 1.433ZM6.762 2.83c-.193-.206-.637-.413-1.682-.297-1.019.113-1.479.404-1.713.7-.247.312-.369.789-.369 1.554 0 .793.129 1.171.308 1.371.162.181.519.379 1.442.379.853 0 1.339-.235 1.638-.54.315-.322.527-.827.617-1.553.117-.935-.037-1.395-.241-1.614Zm4.155-.297c-1.044-.116-1.488.091-1.681.297-.204.219-.359.679-.242 1.614.091.726.303 1.231.618 1.553.299.305.784.54 1.638.54.922 0 1.28-.198 1.442-.379.179-.2.308-.578.308-1.371 0-.765-.123-1.242-.37-1.554-.233-.296-.693-.587-1.713-.7Z"></path><path d="M6.25 9.037a.75.75 0 0 1 .75.75v1.501a.75.75 0 0 1-1.5 0V9.787a.75.75 0 0 1 .75-.75Zm4.25.75v1.501a.75.75 0 0 1-1.5 0V9.787a.75.75 0 0 1 1.5 0Z"></path>
</svg>
</template>

<template id="copilot-error-icon">
  <svg aria-hidden="true" height="16" viewBox="0 0 16 16" version="1.1" width="16" data-view-component="true" class="octicon octicon-copilot-error">
    <path d="M16 11.24c0 .112-.072.274-.21.467L13 9.688V7.862l-.023-.116c-.49.21-1.075.291-1.727.291-.198 0-.388-.009-.571-.029L6.833 5.226a4.01 4.01 0 0 0 .17-.782c.117-.935-.037-1.395-.241-1.614-.193-.206-.637-.413-1.682-.297-.683.076-1.115.231-1.395.415l-1.257-.91c.579-.564 1.413-.877 2.485-.996 1.206-.134 2.262.034 2.944.765.05.053.096.108.139.165.044-.057.094-.112.143-.165.682-.731 1.738-.899 2.944-.765 1.23.137 2.145.528 2.724 1.261.566.715.693 1.614.693 2.484 0 .572-.053 1.148-.254 1.656.066.228.098.429.126.612.012.076.024.148.037.218.924.385 1.522 1.471 1.591 2.095Zm-5.083-8.707c-1.044-.116-1.488.091-1.681.297-.204.219-.359.679-.242 1.614.091.726.303 1.231.618 1.553.299.305.784.54 1.638.54.922 0 1.28-.198 1.442-.379.179-.2.308-.578.308-1.371 0-.765-.123-1.242-.37-1.554-.233-.296-.693-.587-1.713-.7Zm2.511 11.074c-1.393.776-3.272 1.428-5.43 1.428-4.562 0-7.873-2.914-7.998-3.749V9.338c.085-.628.677-1.686 1.588-2.065.013-.07.024-.143.036-.218.029-.183.06-.384.126-.612-.18-.455-.241-.963-.252-1.475L.31 4.107A.747.747 0 0 1 0 3.509V3.49a.748.748 0 0 1 .625-.73c.156-.026.306.047.435.139l14.667 10.578a.592.592 0 0 1 .227.264.752.752 0 0 1 .046.249v.022a.75.75 0 0 1-1.19.596Zm-1.367-.991L5.635 7.964a5.128 5.128 0 0 1-.889.073c-.652 0-1.236-.081-1.727-.291l-.023.116v4.255c.419.323 2.722 1.433 5.002 1.433 1.539 0 3.089-.505 4.063-.934Z"></path>
</svg>
</template>

<template id="workflow-icon">
  <svg aria-hidden="true" height="16" viewBox="0 0 16 16" version="1.1" width="16" data-view-component="true" class="octicon octicon-workflow">
    <path d="M0 1.75C0 .784.784 0 1.75 0h3.5C6.216 0 7 .784 7 1.75v3.5A1.75 1.75 0 0 1 5.25 7H4v4a1 1 0 0 0 1 1h4v-1.25C9 9.784 9.784 9 10.75 9h3.5c.966 0 1.75.784 1.75 1.75v3.5A1.75 1.75 0 0 1 14.25 16h-3.5A1.75 1.75 0 0 1 9 14.25v-.75H5A2.5 2.5 0 0 1 2.5 11V7h-.75A1.75 1.75 0 0 1 0 5.25Zm1.75-.25a.25.25 0 0 0-.25.25v3.5c0 .138.112.25.25.25h3.5a.25.25 0 0 0 .25-.25v-3.5a.25.25 0 0 0-.25-.25Zm9 9a.25.25 0 0 0-.25.25v3.5c0 .138.112.25.25.25h3.5a.25.25 0 0 0 .25-.25v-3.5a.25.25 0 0 0-.25-.25Z"></path>
</svg>
</template>

<template id="book-icon">
  <svg aria-hidden="true" height="16" viewBox="0 0 16 16" version="1.1" width="16" data-view-component="true" class="octicon octicon-book">
    <path d="M0 1.75A.75.75 0 0 1 .75 1h4.253c1.227 0 2.317.59 3 1.501A3.743 3.743 0 0 1 11.006 1h4.245a.75.75 0 0 1 .75.75v10.5a.75.75 0 0 1-.75.75h-4.507a2.25 2.25 0 0 0-1.591.659l-.622.621a.75.75 0 0 1-1.06 0l-.622-.621A2.25 2.25 0 0 0 5.258 13H.75a.75.75 0 0 1-.75-.75Zm7.251 10.324.004-5.073-.002-2.253A2.25 2.25 0 0 0 5.003 2.5H1.5v9h3.757a3.75 3.75 0 0 1 1.994.574ZM8.755 4.75l-.004 7.322a3.752 3.752 0 0 1 1.992-.572H14.5v-9h-3.495a2.25 2.25 0 0 0-2.25 2.25Z"></path>
</svg>
</template>

<template id="code-review-icon">
  <svg aria-hidden="true" height="16" viewBox="0 0 16 16" version="1.1" width="16" data-view-component="true" class="octicon octicon-code-review">
    <path d="M1.75 1h12.5c.966 0 1.75.784 1.75 1.75v8.5A1.75 1.75 0 0 1 14.25 13H8.061l-2.574 2.573A1.458 1.458 0 0 1 3 14.543V13H1.75A1.75 1.75 0 0 1 0 11.25v-8.5C0 1.784.784 1 1.75 1ZM1.5 2.75v8.5c0 .138.112.25.25.25h2a.75.75 0 0 1 .75.75v2.19l2.72-2.72a.749.749 0 0 1 .53-.22h6.5a.25.25 0 0 0 .25-.25v-8.5a.25.25 0 0 0-.25-.25H1.75a.25.25 0 0 0-.25.25Zm5.28 1.72a.75.75 0 0 1 0 1.06L5.31 7l1.47 1.47a.751.751 0 0 1-.018 1.042.751.751 0 0 1-1.042.018l-2-2a.75.75 0 0 1 0-1.06l2-2a.75.75 0 0 1 1.06 0Zm2.44 0a.75.75 0 0 1 1.06 0l2 2a.75.75 0 0 1 0 1.06l-2 2a.751.751 0 0 1-1.042-.018.751.751 0 0 1-.018-1.042L10.69 7 9.22 5.53a.75.75 0 0 1 0-1.06Z"></path>
</svg>
</template>

<template id="codespaces-icon">
  <svg aria-hidden="true" height="16" viewBox="0 0 16 16" version="1.1" width="16" data-view-component="true" class="octicon octicon-codespaces">
    <path d="M0 11.25c0-.966.784-1.75 1.75-1.75h12.5c.966 0 1.75.784 1.75 1.75v3A1.75 1.75 0 0 1 14.25 16H1.75A1.75 1.75 0 0 1 0 14.25Zm2-9.5C2 .784 2.784 0 3.75 0h8.5C13.216 0 14 .784 14 1.75v5a1.75 1.75 0 0 1-1.75 1.75h-8.5A1.75 1.75 0 0 1 2 6.75Zm1.75-.25a.25.25 0 0 0-.25.25v5c0 .138.112.25.25.25h8.5a.25.25 0 0 0 .25-.25v-5a.25.25 0 0 0-.25-.25Zm-2 9.5a.25.25 0 0 0-.25.25v3c0 .138.112.25.25.25h12.5a.25.25 0 0 0 .25-.25v-3a.25.25 0 0 0-.25-.25Z"></path><path d="M7 12.75a.75.75 0 0 1 .75-.75h4.5a.75.75 0 0 1 0 1.5h-4.5a.75.75 0 0 1-.75-.75Zm-4 0a.75.75 0 0 1 .75-.75h.5a.75.75 0 0 1 0 1.5h-.5a.75.75 0 0 1-.75-.75Z"></path>
</svg>
</template>

<template id="comment-icon">
  <svg aria-hidden="true" height="16" viewBox="0 0 16 16" version="1.1" width="16" data-view-component="true" class="octicon octicon-comment">
    <path d="M1 2.75C1 1.784 1.784 1 2.75 1h10.5c.966 0 1.75.784 1.75 1.75v7.5A1.75 1.75 0 0 1 13.25 12H9.06l-2.573 2.573A1.458 1.458 0 0 1 4 13.543V12H2.75A1.75 1.75 0 0 1 1 10.25Zm1.75-.25a.25.25 0 0 0-.25.25v7.5c0 .138.112.25.25.25h2a.75.75 0 0 1 .75.75v2.19l2.72-2.72a.749.749 0 0 1 .53-.22h4.5a.25.25 0 0 0 .25-.25v-7.5a.25.25 0 0 0-.25-.25Z"></path>
</svg>
</template>

<template id="comment-discussion-icon">
  <svg aria-hidden="true" height="16" viewBox="0 0 16 16" version="1.1" width="16" data-view-component="true" class="octicon octicon-comment-discussion">
    <path d="M1.75 1h8.5c.966 0 1.75.784 1.75 1.75v5.5A1.75 1.75 0 0 1 10.25 10H7.061l-2.574 2.573A1.458 1.458 0 0 1 2 11.543V10h-.25A1.75 1.75 0 0 1 0 8.25v-5.5C0 1.784.784 1 1.75 1ZM1.5 2.75v5.5c0 .138.112.25.25.25h1a.75.75 0 0 1 .75.75v2.19l2.72-2.72a.749.749 0 0 1 .53-.22h3.5a.25.25 0 0 0 .25-.25v-5.5a.25.25 0 0 0-.25-.25h-8.5a.25.25 0 0 0-.25.25Zm13 2a.25.25 0 0 0-.25-.25h-.5a.75.75 0 0 1 0-1.5h.5c.966 0 1.75.784 1.75 1.75v5.5A1.75 1.75 0 0 1 14.25 12H14v1.543a1.458 1.458 0 0 1-2.487 1.03L9.22 12.28a.749.749 0 0 1 .326-1.275.749.749 0 0 1 .734.215l2.22 2.22v-2.19a.75.75 0 0 1 .75-.75h1a.25.25 0 0 0 .25-.25Z"></path>
</svg>
</template>

<template id="organization-icon">
  <svg aria-hidden="true" height="16" viewBox="0 0 16 16" version="1.1" width="16" data-view-component="true" class="octicon octicon-organization">
    <path d="M1.75 16A1.75 1.75 0 0 1 0 14.25V1.75C0 .784.784 0 1.75 0h8.5C11.216 0 12 .784 12 1.75v12.5c0 .085-.006.168-.018.25h2.268a.25.25 0 0 0 .25-.25V8.285a.25.25 0 0 0-.111-.208l-1.055-.703a.749.749 0 1 1 .832-1.248l1.055.703c.487.325.779.871.779 1.456v5.965A1.75 1.75 0 0 1 14.25 16h-3.5a.766.766 0 0 1-.197-.026c-.099.017-.2.026-.303.026h-3a.75.75 0 0 1-.75-.75V14h-1v1.25a.75.75 0 0 1-.75.75Zm-.25-1.75c0 .138.112.25.25.25H4v-1.25a.75.75 0 0 1 .75-.75h2.5a.75.75 0 0 1 .75.75v1.25h2.25a.25.25 0 0 0 .25-.25V1.75a.25.25 0 0 0-.25-.25h-8.5a.25.25 0 0 0-.25.25ZM3.75 6h.5a.75.75 0 0 1 0 1.5h-.5a.75.75 0 0 1 0-1.5ZM3 3.75A.75.75 0 0 1 3.75 3h.5a.75.75 0 0 1 0 1.5h-.5A.75.75 0 0 1 3 3.75Zm4 3A.75.75 0 0 1 7.75 6h.5a.75.75 0 0 1 0 1.5h-.5A.75.75 0 0 1 7 6.75ZM7.75 3h.5a.75.75 0 0 1 0 1.5h-.5a.75.75 0 0 1 0-1.5ZM3 9.75A.75.75 0 0 1 3.75 9h.5a.75.75 0 0 1 0 1.5h-.5A.75.75 0 0 1 3 9.75ZM7.75 9h.5a.75.75 0 0 1 0 1.5h-.5a.75.75 0 0 1 0-1.5Z"></path>
</svg>
</template>

<template id="rocket-icon">
  <svg aria-hidden="true" height="16" viewBox="0 0 16 16" version="1.1" width="16" data-view-component="true" class="octicon octicon-rocket">
    <path d="M14.064 0h.186C15.216 0 16 .784 16 1.75v.186a8.752 8.752 0 0 1-2.564 6.186l-.458.459c-.314.314-.641.616-.979.904v3.207c0 .608-.315 1.172-.833 1.49l-2.774 1.707a.749.749 0 0 1-1.11-.418l-.954-3.102a1.214 1.214 0 0 1-.145-.125L3.754 9.816a1.218 1.218 0 0 1-.124-.145L.528 8.717a.749.749 0 0 1-.418-1.11l1.71-2.774A1.748 1.748 0 0 1 3.31 4h3.204c.288-.338.59-.665.904-.979l.459-.458A8.749 8.749 0 0 1 14.064 0ZM8.938 3.623h-.002l-.458.458c-.76.76-1.437 1.598-2.02 2.5l-1.5 2.317 2.143 2.143 2.317-1.5c.902-.583 1.74-1.26 2.499-2.02l.459-.458a7.25 7.25 0 0 0 2.123-5.127V1.75a.25.25 0 0 0-.25-.25h-.186a7.249 7.249 0 0 0-5.125 2.123ZM3.56 14.56c-.732.732-2.334 1.045-3.005 1.148a.234.234 0 0 1-.201-.064.234.234 0 0 1-.064-.201c.103-.671.416-2.273 1.15-3.003a1.502 1.502 0 1 1 2.12 2.12Zm6.94-3.935c-.088.06-.177.118-.266.175l-2.35 1.521.548 1.783 1.949-1.2a.25.25 0 0 0 .119-.213ZM3.678 8.116 5.2 5.766c.058-.09.117-.178.176-.266H3.309a.25.25 0 0 0-.213.119l-1.2 1.95ZM12 5a1 1 0 1 1-2 0 1 1 0 0 1 2 0Z"></path>
</svg>
</template>

<template id="shield-check-icon">
  <svg aria-hidden="true" height="16" viewBox="0 0 16 16" version="1.1" width="16" data-view-component="true" class="octicon octicon-shield-check">
    <path d="m8.533.133 5.25 1.68A1.75 1.75 0 0 1 15 3.48V7c0 1.566-.32 3.182-1.303 4.682-.983 1.498-2.585 2.813-5.032 3.855a1.697 1.697 0 0 1-1.33 0c-2.447-1.042-4.049-2.357-5.032-3.855C1.32 10.182 1 8.566 1 7V3.48a1.75 1.75 0 0 1 1.217-1.667l5.25-1.68a1.748 1.748 0 0 1 1.066 0Zm-.61 1.429.001.001-5.25 1.68a.251.251 0 0 0-.174.237V7c0 1.36.275 2.666 1.057 3.859.784 1.194 2.121 2.342 4.366 3.298a.196.196 0 0 0 .154 0c2.245-.957 3.582-2.103 4.366-3.297C13.225 9.666 13.5 8.358 13.5 7V3.48a.25.25 0 0 0-.174-.238l-5.25-1.68a.25.25 0 0 0-.153 0ZM11.28 6.28l-3.5 3.5a.75.75 0 0 1-1.06 0l-1.5-1.5a.749.749 0 0 1 .326-1.275.749.749 0 0 1 .734.215l.97.97 2.97-2.97a.751.751 0 0 1 1.042.018.751.751 0 0 1 .018 1.042Z"></path>
</svg>
</template>

<template id="heart-icon">
  <svg aria-hidden="true" height="16" viewBox="0 0 16 16" version="1.1" width="16" data-view-component="true" class="octicon octicon-heart">
    <path d="m8 14.25.345.666a.75.75 0 0 1-.69 0l-.008-.004-.018-.01a7.152 7.152 0 0 1-.31-.17 22.055 22.055 0 0 1-3.434-2.414C2.045 10.731 0 8.35 0 5.5 0 2.836 2.086 1 4.25 1 5.797 1 7.153 1.802 8 3.02 8.847 1.802 10.203 1 11.75 1 13.914 1 16 2.836 16 5.5c0 2.85-2.045 5.231-3.885 6.818a22.066 22.066 0 0 1-3.744 2.584l-.018.01-.006.003h-.002ZM4.25 2.5c-1.336 0-2.75 1.164-2.75 3 0 2.15 1.58 4.144 3.365 5.682A20.58 20.58 0 0 0 8 13.393a20.58 20.58 0 0 0 3.135-2.211C12.92 9.644 14.5 7.65 14.5 5.5c0-1.836-1.414-3-2.75-3-1.373 0-2.609.986-3.029 2.456a.749.749 0 0 1-1.442 0C6.859 3.486 5.623 2.5 4.25 2.5Z"></path>
</svg>
</template>

<template id="server-icon">
  <svg aria-hidden="true" height="16" viewBox="0 0 16 16" version="1.1" width="16" data-view-component="true" class="octicon octicon-server">
    <path d="M1.75 1h12.5c.966 0 1.75.784 1.75 1.75v4c0 .372-.116.717-.314 1 .198.283.314.628.314 1v4a1.75 1.75 0 0 1-1.75 1.75H1.75A1.75 1.75 0 0 1 0 12.75v-4c0-.358.109-.707.314-1a1.739 1.739 0 0 1-.314-1v-4C0 1.784.784 1 1.75 1ZM1.5 2.75v4c0 .138.112.25.25.25h12.5a.25.25 0 0 0 .25-.25v-4a.25.25 0 0 0-.25-.25H1.75a.25.25 0 0 0-.25.25Zm.25 5.75a.25.25 0 0 0-.25.25v4c0 .138.112.25.25.25h12.5a.25.25 0 0 0 .25-.25v-4a.25.25 0 0 0-.25-.25ZM7 4.75A.75.75 0 0 1 7.75 4h4.5a.75.75 0 0 1 0 1.5h-4.5A.75.75 0 0 1 7 4.75ZM7.75 10h4.5a.75.75 0 0 1 0 1.5h-4.5a.75.75 0 0 1 0-1.5ZM3 4.75A.75.75 0 0 1 3.75 4h.5a.75.75 0 0 1 0 1.5h-.5A.75.75 0 0 1 3 4.75ZM3.75 10h.5a.75.75 0 0 1 0 1.5h-.5a.75.75 0 0 1 0-1.5Z"></path>
</svg>
</template>

<template id="globe-icon">
  <svg aria-hidden="true" height="16" viewBox="0 0 16 16" version="1.1" width="16" data-view-component="true" class="octicon octicon-globe">
    <path d="M8 0a8 8 0 1 1 0 16A8 8 0 0 1 8 0ZM5.78 8.75a9.64 9.64 0 0 0 1.363 4.177c.255.426.542.832.857 1.215.245-.296.551-.705.857-1.215A9.64 9.64 0 0 0 10.22 8.75Zm4.44-1.5a9.64 9.64 0 0 0-1.363-4.177c-.307-.51-.612-.919-.857-1.215a9.927 9.927 0 0 0-.857 1.215A9.64 9.64 0 0 0 5.78 7.25Zm-5.944 1.5H1.543a6.507 6.507 0 0 0 4.666 5.5c-.123-.181-.24-.365-.352-.552-.715-1.192-1.437-2.874-1.581-4.948Zm-2.733-1.5h2.733c.144-2.074.866-3.756 1.58-4.948.12-.197.237-.381.353-.552a6.507 6.507 0 0 0-4.666 5.5Zm10.181 1.5c-.144 2.074-.866 3.756-1.58 4.948-.12.197-.237.381-.353.552a6.507 6.507 0 0 0 4.666-5.5Zm2.733-1.5a6.507 6.507 0 0 0-4.666-5.5c.123.181.24.365.353.552.714 1.192 1.436 2.874 1.58 4.948Z"></path>
</svg>
</template>

<template id="issue-opened-icon">
  <svg aria-hidden="true" height="16" viewBox="0 0 16 16" version="1.1" width="16" data-view-component="true" class="octicon octicon-issue-opened">
    <path d="M8 9.5a1.5 1.5 0 1 0 0-3 1.5 1.5 0 0 0 0 3Z"></path><path d="M8 0a8 8 0 1 1 0 16A8 8 0 0 1 8 0ZM1.5 8a6.5 6.5 0 1 0 13 0 6.5 6.5 0 0 0-13 0Z"></path>
</svg>
</template>

<template id="device-mobile-icon">
  <svg aria-hidden="true" height="16" viewBox="0 0 16 16" version="1.1" width="16" data-view-component="true" class="octicon octicon-device-mobile">
    <path d="M3.75 0h8.5C13.216 0 14 .784 14 1.75v12.5A1.75 1.75 0 0 1 12.25 16h-8.5A1.75 1.75 0 0 1 2 14.25V1.75C2 .784 2.784 0 3.75 0ZM3.5 1.75v12.5c0 .138.112.25.25.25h8.5a.25.25 0 0 0 .25-.25V1.75a.25.25 0 0 0-.25-.25h-8.5a.25.25 0 0 0-.25.25ZM8 13a1 1 0 1 1 0-2 1 1 0 0 1 0 2Z"></path>
</svg>
</template>

<template id="package-icon">
  <svg aria-hidden="true" height="16" viewBox="0 0 16 16" version="1.1" width="16" data-view-component="true" class="octicon octicon-package">
    <path d="m8.878.392 5.25 3.045c.54.314.872.89.872 1.514v6.098a1.75 1.75 0 0 1-.872 1.514l-5.25 3.045a1.75 1.75 0 0 1-1.756 0l-5.25-3.045A1.75 1.75 0 0 1 1 11.049V4.951c0-.624.332-1.201.872-1.514L7.122.392a1.75 1.75 0 0 1 1.756 0ZM7.875 1.69l-4.63 2.685L8 7.133l4.755-2.758-4.63-2.685a.248.248 0 0 0-.25 0ZM2.5 5.677v5.372c0 .09.047.171.125.216l4.625 2.683V8.432Zm6.25 8.271 4.625-2.683a.25.25 0 0 0 .125-.216V5.677L8.75 8.432Z"></path>
</svg>
</template>

<template id="credit-card-icon">
  <svg aria-hidden="true" height="16" viewBox="0 0 16 16" version="1.1" width="16" data-view-component="true" class="octicon octicon-credit-card">
    <path d="M10.75 9a.75.75 0 0 0 0 1.5h1.5a.75.75 0 0 0 0-1.5h-1.5Z"></path><path d="M0 3.75C0 2.784.784 2 1.75 2h12.5c.966 0 1.75.784 1.75 1.75v8.5A1.75 1.75 0 0 1 14.25 14H1.75A1.75 1.75 0 0 1 0 12.25ZM14.5 6.5h-13v5.75c0 .138.112.25.25.25h12.5a.25.25 0 0 0 .25-.25Zm0-2.75a.25.25 0 0 0-.25-.25H1.75a.25.25 0 0 0-.25.25V5h13Z"></path>
</svg>
</template>

<template id="play-icon">
  <svg aria-hidden="true" height="16" viewBox="0 0 16 16" version="1.1" width="16" data-view-component="true" class="octicon octicon-play">
    <path d="M8 0a8 8 0 1 1 0 16A8 8 0 0 1 8 0ZM1.5 8a6.5 6.5 0 1 0 13 0 6.5 6.5 0 0 0-13 0Zm4.879-2.773 4.264 2.559a.25.25 0 0 1 0 .428l-4.264 2.559A.25.25 0 0 1 6 10.559V5.442a.25.25 0 0 1 .379-.215Z"></path>
</svg>
</template>

<template id="gift-icon">
  <svg aria-hidden="true" height="16" viewBox="0 0 16 16" version="1.1" width="16" data-view-component="true" class="octicon octicon-gift">
    <path d="M2 2.75A2.75 2.75 0 0 1 4.75 0c.983 0 1.873.42 2.57 1.232.268.318.497.668.68 1.042.183-.375.411-.725.68-1.044C9.376.42 10.266 0 11.25 0a2.75 2.75 0 0 1 2.45 4h.55c.966 0 1.75.784 1.75 1.75v2c0 .698-.409 1.301-1 1.582v4.918A1.75 1.75 0 0 1 13.25 16H2.75A1.75 1.75 0 0 1 1 14.25V9.332C.409 9.05 0 8.448 0 7.75v-2C0 4.784.784 4 1.75 4h.55c-.192-.375-.3-.8-.3-1.25ZM7.25 9.5H2.5v4.75c0 .138.112.25.25.25h4.5Zm1.5 0v5h4.5a.25.25 0 0 0 .25-.25V9.5Zm0-4V8h5.5a.25.25 0 0 0 .25-.25v-2a.25.25 0 0 0-.25-.25Zm-7 0a.25.25 0 0 0-.25.25v2c0 .138.112.25.25.25h5.5V5.5h-5.5Zm3-4a1.25 1.25 0 0 0 0 2.5h2.309c-.233-.818-.542-1.401-.878-1.793-.43-.502-.915-.707-1.431-.707ZM8.941 4h2.309a1.25 1.25 0 0 0 0-2.5c-.516 0-1 .205-1.43.707-.337.392-.646.975-.879 1.793Z"></path>
</svg>
</template>

<template id="code-square-icon">
  <svg aria-hidden="true" height="16" viewBox="0 0 16 16" version="1.1" width="16" data-view-component="true" class="octicon octicon-code-square">
    <path d="M0 1.75C0 .784.784 0 1.75 0h12.5C15.216 0 16 .784 16 1.75v12.5A1.75 1.75 0 0 1 14.25 16H1.75A1.75 1.75 0 0 1 0 14.25Zm1.75-.25a.25.25 0 0 0-.25.25v12.5c0 .138.112.25.25.25h12.5a.25.25 0 0 0 .25-.25V1.75a.25.25 0 0 0-.25-.25Zm7.47 3.97a.75.75 0 0 1 1.06 0l2 2a.75.75 0 0 1 0 1.06l-2 2a.749.749 0 0 1-1.275-.326.749.749 0 0 1 .215-.734L10.69 8 9.22 6.53a.75.75 0 0 1 0-1.06ZM6.78 6.53 5.31 8l1.47 1.47a.749.749 0 0 1-.326 1.275.749.749 0 0 1-.734-.215l-2-2a.75.75 0 0 1 0-1.06l2-2a.751.751 0 0 1 1.042.018.751.751 0 0 1 .018 1.042Z"></path>
</svg>
</template>

<template id="device-desktop-icon">
  <svg aria-hidden="true" height="16" viewBox="0 0 16 16" version="1.1" width="16" data-view-component="true" class="octicon octicon-device-desktop">
    <path d="M14.25 1c.966 0 1.75.784 1.75 1.75v7.5A1.75 1.75 0 0 1 14.25 12h-3.727c.099 1.041.52 1.872 1.292 2.757A.752.752 0 0 1 11.25 16h-6.5a.75.75 0 0 1-.565-1.243c.772-.885 1.192-1.716 1.292-2.757H1.75A1.75 1.75 0 0 1 0 10.25v-7.5C0 1.784.784 1 1.75 1ZM1.75 2.5a.25.25 0 0 0-.25.25v7.5c0 .138.112.25.25.25h12.5a.25.25 0 0 0 .25-.25v-7.5a.25.25 0 0 0-.25-.25ZM9.018 12H6.982a5.72 5.72 0 0 1-.765 2.5h3.566a5.72 5.72 0 0 1-.765-2.5Z"></path>
</svg>
</template>

        <div class="position-relative">
                <ul
                  role="listbox"
                  class="ActionListWrap QueryBuilder-ListWrap"
                  aria-label="Suggestions"
                  data-action="
                    combobox-commit:query-builder#comboboxCommit
                    mousedown:query-builder#resultsMousedown
                  "
                  data-target="query-builder.resultsList"
                  data-persist-list=false
                  id="query-builder-test-results"
                  tabindex="-1"
                ></ul>
        </div>
      <div class="FormControl-inlineValidation" id="validation-8af01f67-9a94-422b-ac10-e877ed98bb42" hidden="hidden">
        <span class="FormControl-inlineValidation--visual">
          <svg aria-hidden="true" height="12" viewBox="0 0 12 12" version="1.1" width="12" data-view-component="true" class="octicon octicon-alert-fill">
    <path d="M4.855.708c.5-.896 1.79-.896 2.29 0l4.675 8.351a1.312 1.312 0 0 1-1.146 1.954H1.33A1.313 1.313 0 0 1 .183 9.058ZM7 7V3H5v4Zm-1 3a1 1 0 1 0 0-2 1 1 0 0 0 0 2Z"></path>
</svg>
        </span>
        <span></span>
</div>    </div>
    <div data-target="query-builder.screenReaderFeedback" aria-live="polite" aria-atomic="true" class="sr-only"></div>
</query-builder></form>
          <div class="d-flex flex-row color-fg-muted px-3 text-small color-bg-default search-feedback-prompt">
            <a target="_blank" href="https://docs.github.com/search-github/github-code-search/understanding-github-code-search-syntax" data-view-component="true" class="Link color-fg-accent text-normal ml-2">Search syntax tips</a>            <div class="d-flex flex-1"></div>
              <button data-action="click:qbsearch-input#showFeedbackDialog" type="button" data-view-component="true" class="Button--link Button--medium Button color-fg-accent text-normal ml-2">  <span class="Button-content">
    <span class="Button-label">Give feedback</span>
  </span>
</button>
          </div>
        </div>
</div>

    </div>
</modal-dialog></div>
  </div>
  <div data-action="click:qbsearch-input#retract" class="dark-backdrop position-fixed" hidden data-target="qbsearch-input.darkBackdrop"></div>
  <div class="color-fg-default">
    
<dialog-helper>
  <dialog data-target="qbsearch-input.feedbackDialog" data-action="close:qbsearch-input#handleDialogClose cancel:qbsearch-input#handleDialogClose" id="feedback-dialog" aria-modal="true" aria-labelledby="feedback-dialog-title" aria-describedby="feedback-dialog-description" data-view-component="true" class="Overlay Overlay-whenNarrow Overlay--size-medium Overlay--motion-scaleFade Overlay--disableScroll">
    <div data-view-component="true" class="Overlay-header">
  <div class="Overlay-headerContentWrap">
    <div class="Overlay-titleWrap">
      <h1 class="Overlay-title " id="feedback-dialog-title">
        Provide feedback
      </h1>
        
    </div>
    <div class="Overlay-actionWrap">
      <button data-close-dialog-id="feedback-dialog" aria-label="Close" aria-label="Close" type="button" data-view-component="true" class="close-button Overlay-closeButton"><svg aria-hidden="true" height="16" viewBox="0 0 16 16" version="1.1" width="16" data-view-component="true" class="octicon octicon-x">
    <path d="M3.72 3.72a.75.75 0 0 1 1.06 0L8 6.94l3.22-3.22a.749.749 0 0 1 1.275.326.749.749 0 0 1-.215.734L9.06 8l3.22 3.22a.749.749 0 0 1-.326 1.275.749.749 0 0 1-.734-.215L8 9.06l-3.22 3.22a.751.751 0 0 1-1.042-.018.751.751 0 0 1-.018-1.042L6.94 8 3.72 4.78a.75.75 0 0 1 0-1.06Z"></path>
</svg></button>
    </div>
  </div>
  
</div>
      <scrollable-region data-labelled-by="feedback-dialog-title">
        <div data-view-component="true" class="Overlay-body">        <!-- '"` --><!-- </textarea></xmp> --></option></form><form id="code-search-feedback-form" data-turbo="false" action="/search/feedback" accept-charset="UTF-8" method="post"><input type="hidden" name="authenticity_token" value="6DJ5NMMC30z2ZnQew5KPlf6hT5JQMRXDG6Q9h1IxT-dKdwE0dtpxgaufpBa3BkNFJFRVEKnmzdOFUCE5fnrdyA" />
          <p>We read every piece of feedback, and take your input very seriously.</p>
          <textarea name="feedback" class="form-control width-full mb-2" style="height: 120px" id="feedback"></textarea>
          <input name="include_email" id="include_email" aria-label="Include my email address so I can be contacted" class="form-control mr-2" type="checkbox">
          <label for="include_email" style="font-weight: normal">Include my email address so I can be contacted</label>
</form></div>
      </scrollable-region>
      <div data-view-component="true" class="Overlay-footer Overlay-footer--alignEnd">          <button data-close-dialog-id="feedback-dialog" type="button" data-view-component="true" class="btn">    Cancel
</button>
          <button form="code-search-feedback-form" data-action="click:qbsearch-input#submitFeedback" type="submit" data-view-component="true" class="btn-primary btn">    Submit feedback
</button>
</div>
</dialog></dialog-helper>

    <custom-scopes data-target="qbsearch-input.customScopesManager">
    
<dialog-helper>
  <dialog data-target="custom-scopes.customScopesModalDialog" data-action="close:qbsearch-input#handleDialogClose cancel:qbsearch-input#handleDialogClose" id="custom-scopes-dialog" aria-modal="true" aria-labelledby="custom-scopes-dialog-title" aria-describedby="custom-scopes-dialog-description" data-view-component="true" class="Overlay Overlay-whenNarrow Overlay--size-medium Overlay--motion-scaleFade Overlay--disableScroll">
    <div data-view-component="true" class="Overlay-header Overlay-header--divided">
  <div class="Overlay-headerContentWrap">
    <div class="Overlay-titleWrap">
      <h1 class="Overlay-title " id="custom-scopes-dialog-title">
        Saved searches
      </h1>
        <h2 id="custom-scopes-dialog-description" class="Overlay-description">Use saved searches to filter your results more quickly</h2>
    </div>
    <div class="Overlay-actionWrap">
      <button data-close-dialog-id="custom-scopes-dialog" aria-label="Close" aria-label="Close" type="button" data-view-component="true" class="close-button Overlay-closeButton"><svg aria-hidden="true" height="16" viewBox="0 0 16 16" version="1.1" width="16" data-view-component="true" class="octicon octicon-x">
    <path d="M3.72 3.72a.75.75 0 0 1 1.06 0L8 6.94l3.22-3.22a.749.749 0 0 1 1.275.326.749.749 0 0 1-.215.734L9.06 8l3.22 3.22a.749.749 0 0 1-.326 1.275.749.749 0 0 1-.734-.215L8 9.06l-3.22 3.22a.751.751 0 0 1-1.042-.018.751.751 0 0 1-.018-1.042L6.94 8 3.72 4.78a.75.75 0 0 1 0-1.06Z"></path>
</svg></button>
    </div>
  </div>
  
</div>
      <scrollable-region data-labelled-by="custom-scopes-dialog-title">
        <div data-view-component="true" class="Overlay-body">        <div data-target="custom-scopes.customScopesModalDialogFlash"></div>

        <div hidden class="create-custom-scope-form" data-target="custom-scopes.createCustomScopeForm">
        <!-- '"` --><!-- </textarea></xmp> --></option></form><form id="custom-scopes-dialog-form" data-turbo="false" action="/search/custom_scopes" accept-charset="UTF-8" method="post"><input type="hidden" name="authenticity_token" value="Ss5SqfiN9s11EE7_-gZPvA3NZWAWqP6Grr2KwbMrPG5jDv3raSxq91ASxihEgvRaAabeY37kVYHdgUgOv6rJbg" />
          <div data-target="custom-scopes.customScopesModalDialogFlash"></div>

          <input type="hidden" id="custom_scope_id" name="custom_scope_id" data-target="custom-scopes.customScopesIdField">

          <div class="form-group">
            <label for="custom_scope_name">Name</label>
            <auto-check src="/search/custom_scopes/check_name" required>
              <input
                type="text"
                name="custom_scope_name"
                id="custom_scope_name"
                data-target="custom-scopes.customScopesNameField"
                class="form-control"
                autocomplete="off"
                placeholder="github-ruby"
                required
                maxlength="50">
              <input type="hidden" value="8lhpAiCI8rC5MOzuB3kKqsFWIFwZRHcAQzONr8-R3F_r3TlYkdMWn0EfWdUtx6tOr8boiz9Qgcbm-4tkBWl_0A" data-csrf="true" />
            </auto-check>
          </div>

          <div class="form-group">
            <label for="custom_scope_query">Query</label>
            <input
              type="text"
              name="custom_scope_query"
              id="custom_scope_query"
              data-target="custom-scopes.customScopesQueryField"
              class="form-control"
              autocomplete="off"
              placeholder="(repo:mona/a OR repo:mona/b) AND lang:python"
              required
              maxlength="500">
          </div>

          <p class="text-small color-fg-muted">
            To see all available qualifiers, see our <a class="Link--inTextBlock" href="https://docs.github.com/search-github/github-code-search/understanding-github-code-search-syntax">documentation</a>.
          </p>
</form>        </div>

        <div data-target="custom-scopes.manageCustomScopesForm">
          <div data-target="custom-scopes.list"></div>
        </div>

</div>
      </scrollable-region>
      <div data-view-component="true" class="Overlay-footer Overlay-footer--alignEnd Overlay-footer--divided">          <button data-action="click:custom-scopes#customScopesCancel" type="button" data-view-component="true" class="btn">    Cancel
</button>
          <button form="custom-scopes-dialog-form" data-action="click:custom-scopes#customScopesSubmit" data-target="custom-scopes.customScopesSubmitButton" type="submit" data-view-component="true" class="btn-primary btn">    Create saved search
</button>
</div>
</dialog></dialog-helper>
    </custom-scopes>
  </div>
</qbsearch-input>  <input type="hidden" value="7MO2AtS_DUp7fGRRufOlcTpOMhjL5nCKjmorwjaD1fiBL7YZrpScHJNC51It_bU_O07UHLlsR2tiO15oAoY4uw" data-csrf="true" class="js-data-jump-to-suggestions-path-csrf" />


          </div>

        
          <div class="AppHeader-CopilotChat hide-sm hide-md">
  <react-partial-anchor>
      <a href="/copilot" data-target="react-partial-anchor.anchor" id="copilot-chat-header-button" aria-labelledby="tooltip-b41f3b6a-d8ab-4dd5-9142-1e66d404a11c" data-view-component="true" class="Button Button--iconOnly Button--secondary Button--medium AppHeader-button AppHeader-buttonLeft cursor-wait">  <svg aria-hidden="true" height="16" viewBox="0 0 16 16" version="1.1" width="16" data-view-component="true" class="octicon octicon-copilot Button-visual">
    <path d="M7.998 15.035c-4.562 0-7.873-2.914-7.998-3.749V9.338c.085-.628.677-1.686 1.588-2.065.013-.07.024-.143.036-.218.029-.183.06-.384.126-.612-.201-.508-.254-1.084-.254-1.656 0-.87.128-1.769.693-2.484.579-.733 1.494-1.124 2.724-1.261 1.206-.134 2.262.034 2.944.765.05.053.096.108.139.165.044-.057.094-.112.143-.165.682-.731 1.738-.899 2.944-.765 1.23.137 2.145.528 2.724 1.261.566.715.693 1.614.693 2.484 0 .572-.053 1.148-.254 1.656.066.228.098.429.126.612.012.076.024.148.037.218.924.385 1.522 1.471 1.591 2.095v1.872c0 .766-3.351 3.795-8.002 3.795Zm0-1.485c2.28 0 4.584-1.11 5.002-1.433V7.862l-.023-.116c-.49.21-1.075.291-1.727.291-1.146 0-2.059-.327-2.71-.991A3.222 3.222 0 0 1 8 6.303a3.24 3.24 0 0 1-.544.743c-.65.664-1.563.991-2.71.991-.652 0-1.236-.081-1.727-.291l-.023.116v4.255c.419.323 2.722 1.433 5.002 1.433ZM6.762 2.83c-.193-.206-.637-.413-1.682-.297-1.019.113-1.479.404-1.713.7-.247.312-.369.789-.369 1.554 0 .793.129 1.171.308 1.371.162.181.519.379 1.442.379.853 0 1.339-.235 1.638-.54.315-.322.527-.827.617-1.553.117-.935-.037-1.395-.241-1.614Zm4.155-.297c-1.044-.116-1.488.091-1.681.297-.204.219-.359.679-.242 1.614.091.726.303 1.231.618 1.553.299.305.784.54 1.638.54.922 0 1.28-.198 1.442-.379.179-.2.308-.578.308-1.371 0-.765-.123-1.242-.37-1.554-.233-.296-.693-.587-1.713-.7Z"></path><path d="M6.25 9.037a.75.75 0 0 1 .75.75v1.501a.75.75 0 0 1-1.5 0V9.787a.75.75 0 0 1 .75-.75Zm4.25.75v1.501a.75.75 0 0 1-1.5 0V9.787a.75.75 0 0 1 1.5 0Z"></path>
</svg>
</a><tool-tip id="tooltip-b41f3b6a-d8ab-4dd5-9142-1e66d404a11c" for="copilot-chat-header-button" popover="manual" data-direction="s" data-type="label" data-view-component="true" class="sr-only position-absolute">Chat with Copilot</tool-tip>

    <template data-target="react-partial-anchor.template">
      <script crossorigin="anonymous" type="application/javascript" src="https://github.githubassets.com/assets/vendors-node_modules_tanstack_react-query_build_modern_useQuery_js-8a047a904eb7.js" defer="defer"></script>
<script crossorigin="anonymous" type="application/javascript" src="https://github.githubassets.com/assets/vendors-node_modules_focus-visible_dist_focus-visible_js-node_modules_github_hotkey_dist_inde-336f14-af1017addab8.js" defer="defer"></script>
<script crossorigin="anonymous" type="application/javascript" src="https://github.githubassets.com/assets/vendors-node_modules_react-relay_index_js-cce72ae26cdb.js" defer="defer"></script>
<script crossorigin="anonymous" type="application/javascript" src="https://github.githubassets.com/assets/vendors-node_modules_remark-gfm_lib_index_js-node_modules_remark-parse_lib_index_js-node_modu-44d0fc-7eaa74070c73.js" defer="defer"></script>
<script crossorigin="anonymous" type="application/javascript" src="https://github.githubassets.com/assets/vendors-node_modules_hastscript_lib_index_js-node_modules_lowlight_lib_all_js-node_modules_re-7714c4-3ff6cb9f66a5.js" defer="defer"></script>
<script crossorigin="anonymous" type="application/javascript" src="https://github.githubassets.com/assets/vendors-node_modules_diff_lib_index_mjs-3d31f78b8478.js" defer="defer"></script>
<script crossorigin="anonymous" type="application/javascript" src="https://github.githubassets.com/assets/vendors-node_modules_github_mini-throttle_dist_decorators_js-node_modules_accname_dist_access-ce77c7-4daf69fcf5e0.js" defer="defer"></script>
<script crossorigin="anonymous" type="application/javascript" src="https://github.githubassets.com/assets/vendors-node_modules_emoji-regex_index_js-node_modules_tanstack_react-query_build_modern_useM-a11183-4baedbb2bacd.js" defer="defer"></script>
<script crossorigin="anonymous" type="application/javascript" src="https://github.githubassets.com/assets/vendors-node_modules_github_hydro-analytics-client_dist_analytics-client_js-node_modules_gith-3037e1-32a46ebb5721.js" defer="defer"></script>
<script crossorigin="anonymous" type="application/javascript" src="https://github.githubassets.com/assets/ui_packages_relay-environment_relay-environment_ts-6880df42a34b.js" defer="defer"></script>
<script crossorigin="anonymous" type="application/javascript" src="https://github.githubassets.com/assets/ui_packages_copilot-chat_utils_copilot-chat-helpers_ts-6bb98028000c.js" defer="defer"></script>
<script crossorigin="anonymous" type="application/javascript" src="https://github.githubassets.com/assets/ui_packages_item-picker_components_RepositoryPicker_tsx-4c709ef44797.js" defer="defer"></script>
<script crossorigin="anonymous" type="application/javascript" src="https://github.githubassets.com/assets/ui_packages_copilot-markdown_MarkdownRenderer_tsx-025b155ec3c4.js" defer="defer"></script>
<script crossorigin="anonymous" type="application/javascript" src="https://github.githubassets.com/assets/ui_packages_copilot-chat_utils_CopilotChatContext_tsx-b38d21c723cc.js" defer="defer"></script>
<script crossorigin="anonymous" type="application/javascript" src="https://github.githubassets.com/assets/ui_packages_copilot-chat_components_ModelPicker_tsx-66d98d7be657.js" defer="defer"></script>
<script crossorigin="anonymous" type="application/javascript" src="https://github.githubassets.com/assets/ui_packages_copilot-chat_components_CopilotIconAnimation_tsx-1da7f48de940.js" defer="defer"></script>
<script crossorigin="anonymous" type="application/javascript" src="https://github.githubassets.com/assets/ui_packages_document-metadata_document-metadata_ts-ui_packages_promise-with-resolvers-polyfil-93a5fb-fa290f04594b.js" defer="defer"></script>
<script crossorigin="anonymous" type="application/javascript" src="https://github.githubassets.com/assets/ui_packages_copilot-chat_entry_ts-ui_packages_use-client-value_use-client-value_ts-ui_package-24032a-de561a0b3bce.js" defer="defer"></script>
<script crossorigin="anonymous" type="application/javascript" src="https://github.githubassets.com/assets/copilot-chat-a8c9c44e9e2f.js" defer="defer"></script>
<link crossorigin="anonymous" media="all" rel="stylesheet" href="https://github.githubassets.com/assets/primer-react.260d30274859410b0337.module.css" />
<link crossorigin="anonymous" media="all" rel="stylesheet" href="https://github.githubassets.com/assets/ui_packages_document-metadata_document-metadata_ts-ui_packages_promise-with-resolvers-polyfil-93a5fb.a97da77ef9ffbbb01961.module.css" />
<link crossorigin="anonymous" media="all" rel="stylesheet" href="https://github.githubassets.com/assets/copilot-chat.28666a8d26ecd3bb66c4.module.css" />
      <link crossorigin="anonymous" media="all" rel="stylesheet" href="https://github.githubassets.com/assets/copilot-markdown-rendering-ddd978d4a7c0.css" />
      <include-fragment src="/github-copilot/chat?skip_anchor=true" data-nonce="v2:cd6801a8-9ac6-2e2f-86f1-12a51169e45e" data-view-component="true">
  
  <div data-show-on-forbidden-error hidden>
    <div class="Box">
  <div class="blankslate-container">
    <div data-view-component="true" class="blankslate blankslate-spacious color-bg-default rounded-2">
      

      <h3 data-view-component="true" class="blankslate-heading">        Uh oh!
</h3>
      <p data-view-component="true">        <p class="color-fg-muted my-2 mb-2 ws-normal">There was an error while loading. <a class="Link--inTextBlock" data-turbo="false" href="" aria-label="Please reload this page">Please reload this page</a>.</p>
</p>

</div>  </div>
</div>  </div>
</include-fragment>
    </template>
  </react-partial-anchor>
  <react-partial-anchor>
    <button id="global-copilot-menu-button" data-target="react-partial-anchor.anchor" aria-expanded="false" aria-labelledby="tooltip-92999531-2728-4f20-b367-1dd5053ec0e3" type="button" data-view-component="true" class="Button Button--iconOnly Button--secondary Button--medium AppHeader-button AppHeader-buttonRight ">  <svg aria-hidden="true" height="16" viewBox="0 0 16 16" version="1.1" width="16" data-view-component="true" class="octicon octicon-triangle-down Button-visual">
    <path d="m4.427 7.427 3.396 3.396a.25.25 0 0 0 .354 0l3.396-3.396A.25.25 0 0 0 11.396 7H4.604a.25.25 0 0 0-.177.427Z"></path>
</svg>
</button><tool-tip id="tooltip-92999531-2728-4f20-b367-1dd5053ec0e3" for="global-copilot-menu-button" popover="manual" data-direction="s" data-type="label" data-view-component="true" class="sr-only position-absolute">Open Copilot… (Alt+Shift+C)</tool-tip>

    <template data-target="react-partial-anchor.template">
      <link crossorigin="anonymous" media="all" rel="stylesheet" href="https://github.githubassets.com/assets/primer-react.260d30274859410b0337.module.css" />
<link crossorigin="anonymous" media="all" rel="stylesheet" href="https://github.githubassets.com/assets/ui_packages_agent-sessions_utils_uuid_ts-ui_packages_agent-sessions_components_NewTaskChatInp-867ea1.2e1147cad88bd78932e9.module.css" />
<link crossorigin="anonymous" media="all" rel="stylesheet" href="https://github.githubassets.com/assets/global-copilot-menu.482572570c598edaa829.module.css" />

<react-partial
  partial-name="global-copilot-menu"
  data-ssr="false"
  data-attempted-ssr="false"
  data-react-profiling="false"
>
  
  <script type="application/json" data-target="react-partial.embeddedData">{"props":{}}</script>
  <div data-target="react-partial.reactRoot"></div>
</react-partial>

    </template>
  </react-partial-anchor>
</div>




        <div class="AppHeader-actions position-relative">
             <react-partial-anchor>
      <button id="global-create-menu-anchor" aria-label="Create something new" data-target="react-partial-anchor.anchor" type="button" disabled="disabled" data-view-component="true" class="AppHeader-button global-create-button cursor-wait Button--secondary Button--medium Button width-auto color-fg-muted">  <span class="Button-content">
      <span class="Button-visual Button-leadingVisual">
        <svg aria-hidden="true" height="16" viewBox="0 0 16 16" version="1.1" width="16" data-view-component="true" class="octicon octicon-plus">
    <path d="M7.75 2a.75.75 0 0 1 .75.75V7h4.25a.75.75 0 0 1 0 1.5H8.5v4.25a.75.75 0 0 1-1.5 0V8.5H2.75a.75.75 0 0 1 0-1.5H7V2.75A.75.75 0 0 1 7.75 2Z"></path>
</svg>
      </span>
    <span class="Button-label"><svg aria-hidden="true" height="16" viewBox="0 0 16 16" version="1.1" width="16" data-view-component="true" class="octicon octicon-triangle-down">
    <path d="m4.427 7.427 3.396 3.396a.25.25 0 0 0 .354 0l3.396-3.396A.25.25 0 0 0 11.396 7H4.604a.25.25 0 0 0-.177.427Z"></path>
</svg></span>
  </span>
</button><tool-tip id="tooltip-3a6b5abe-9e1c-484d-9023-1473b101a5f7" for="global-create-menu-anchor" popover="manual" data-direction="s" data-type="description" data-view-component="true" class="sr-only position-absolute">Create new...</tool-tip>

      <template data-target="react-partial-anchor.template">
        <link crossorigin="anonymous" media="all" rel="stylesheet" href="https://github.githubassets.com/assets/primer-react.260d30274859410b0337.module.css" />
<link crossorigin="anonymous" media="all" rel="stylesheet" href="https://github.githubassets.com/assets/global-create-menu.be9cb11ea6367dfdb719.module.css" />

<react-partial
  partial-name="global-create-menu"
  data-ssr="false"
  data-attempted-ssr="false"
  data-react-profiling="false"
>
  
  <script type="application/json" data-target="react-partial.embeddedData">{"props":{"createRepo":true,"importRepo":true,"codespaces":true,"spark":false,"codingAgent":false,"gist":true,"createOrg":true,"createProject":false,"createProjectUrl":"/OmkarAthavale?tab=projects","createLegacyProject":false,"createIssue":true,"org":null,"owner":"SPARC-FAIR-Codeathon","repo":"2025-team-F"}}</script>
  <div data-target="react-partial.reactRoot"></div>
</react-partial>

      </template>
    </react-partial-anchor>


            <a href="/issues" data-analytics-event="{&quot;category&quot;:&quot;Global navigation&quot;,&quot;action&quot;:&quot;ISSUES_HEADER&quot;,&quot;label&quot;:null}" id="icon-button-65193062-64c3-4904-a8e4-47879841fffb" aria-labelledby="tooltip-d276ce7b-e06a-470a-bec0-1bb6b3976518" data-view-component="true" class="Button Button--iconOnly Button--secondary Button--medium AppHeader-button color-fg-muted">  <svg aria-hidden="true" height="16" viewBox="0 0 16 16" version="1.1" width="16" data-view-component="true" class="octicon octicon-issue-opened Button-visual">
    <path d="M8 9.5a1.5 1.5 0 1 0 0-3 1.5 1.5 0 0 0 0 3Z"></path><path d="M8 0a8 8 0 1 1 0 16A8 8 0 0 1 8 0ZM1.5 8a6.5 6.5 0 1 0 13 0 6.5 6.5 0 0 0-13 0Z"></path>
</svg>
</a><tool-tip id="tooltip-d276ce7b-e06a-470a-bec0-1bb6b3976518" for="icon-button-65193062-64c3-4904-a8e4-47879841fffb" popover="manual" data-direction="s" data-type="label" data-view-component="true" class="sr-only position-absolute">Your issues</tool-tip>

            <a href="/pulls" data-analytics-event="{&quot;category&quot;:&quot;Global navigation&quot;,&quot;action&quot;:&quot;PULL_REQUESTS_HEADER&quot;,&quot;label&quot;:null}" id="icon-button-7f52eeca-24f4-49db-a5d8-85bbac90dc25" aria-labelledby="tooltip-d2e78b06-34a0-4e34-bc59-a394c96bba82" data-view-component="true" class="Button Button--iconOnly Button--secondary Button--medium AppHeader-button color-fg-muted">  <svg aria-hidden="true" height="16" viewBox="0 0 16 16" version="1.1" width="16" data-view-component="true" class="octicon octicon-git-pull-request Button-visual">
    <path d="M1.5 3.25a2.25 2.25 0 1 1 3 2.122v5.256a2.251 2.251 0 1 1-1.5 0V5.372A2.25 2.25 0 0 1 1.5 3.25Zm5.677-.177L9.573.677A.25.25 0 0 1 10 .854V2.5h1A2.5 2.5 0 0 1 13.5 5v5.628a2.251 2.251 0 1 1-1.5 0V5a1 1 0 0 0-1-1h-1v1.646a.25.25 0 0 1-.427.177L7.177 3.427a.25.25 0 0 1 0-.354ZM3.75 2.5a.75.75 0 1 0 0 1.5.75.75 0 0 0 0-1.5Zm0 9.5a.75.75 0 1 0 0 1.5.75.75 0 0 0 0-1.5Zm8.25.75a.75.75 0 1 0 1.5 0 .75.75 0 0 0-1.5 0Z"></path>
</svg>
</a><tool-tip id="tooltip-d2e78b06-34a0-4e34-bc59-a394c96bba82" for="icon-button-7f52eeca-24f4-49db-a5d8-85bbac90dc25" popover="manual" data-direction="s" data-type="label" data-view-component="true" class="sr-only position-absolute">Your pull requests</tool-tip>

        </div>

          <notification-indicator data-channel="eyJjIjoibm90aWZpY2F0aW9uLWNoYW5nZWQ6MjUwMTU3NTQiLCJ0IjoxNzU0MzY2MDA4fQ==--42fcd42f994a05876a2db90669521ad74dc3f77945ada3bcfdcc8e6037e25688" data-indicator-mode="none" data-tooltip-global="You have unread notifications" data-tooltip-unavailable="Notifications are unavailable at the moment." data-tooltip-none="You have no unread notifications" data-header-redesign-enabled="true" data-fetch-indicator-src="/notifications/indicator" data-fetch-indicator-enabled="true" data-view-component="true" class="js-socket-channel">
    <a id="AppHeader-notifications-button" href="/notifications" aria-labelledby="notification-indicator-tooltip" data-hotkey="g n" data-target="notification-indicator.link" data-analytics-event="{&quot;category&quot;:&quot;Global navigation&quot;,&quot;action&quot;:&quot;NOTIFICATIONS_HEADER&quot;,&quot;label&quot;:null}" data-view-component="true" class="Button Button--iconOnly Button--secondary Button--medium AppHeader-button  color-fg-muted">  <svg aria-hidden="true" height="16" viewBox="0 0 16 16" version="1.1" width="16" data-view-component="true" class="octicon octicon-inbox Button-visual">
    <path d="M2.8 2.06A1.75 1.75 0 0 1 4.41 1h7.18c.7 0 1.333.417 1.61 1.06l2.74 6.395c.04.093.06.194.06.295v4.5A1.75 1.75 0 0 1 14.25 15H1.75A1.75 1.75 0 0 1 0 13.25v-4.5c0-.101.02-.202.06-.295Zm1.61.44a.25.25 0 0 0-.23.152L1.887 8H4.75a.75.75 0 0 1 .6.3L6.625 10h2.75l1.275-1.7a.75.75 0 0 1 .6-.3h2.863L11.82 2.652a.25.25 0 0 0-.23-.152Zm10.09 7h-2.875l-1.275 1.7a.75.75 0 0 1-.6.3h-3.5a.75.75 0 0 1-.6-.3L4.375 9.5H1.5v3.75c0 .138.112.25.25.25h12.5a.25.25 0 0 0 .25-.25Z"></path>
</svg>
</a>

    <tool-tip id="notification-indicator-tooltip" data-target="notification-indicator.tooltip" for="AppHeader-notifications-button" popover="manual" data-direction="s" data-type="label" data-view-component="true" class="sr-only position-absolute">Notifications</tool-tip>
</notification-indicator>

        <div class="AppHeader-user">
          <deferred-side-panel data-url="/_side-panels/user?repository_id=1028403411">
  <include-fragment data-target="deferred-side-panel.fragment" data-nonce="v2:cd6801a8-9ac6-2e2f-86f1-12a51169e45e" data-view-component="true">
  
    <react-partial-anchor
  
>
  <button data-target="react-partial-anchor.anchor" data-login="OmkarAthavale" aria-label="Open user navigation menu" type="button" data-view-component="true" class="cursor-wait Button--invisible Button--medium Button Button--invisible-noVisuals color-bg-transparent p-0">  <span class="Button-content">
    <span class="Button-label"><img src="https://avatars.githubusercontent.com/u/25015754?v=4" alt="" size="32" height="32" width="32" data-view-component="true" class="avatar circle" /></span>
  </span>
</button>
  <template data-target="react-partial-anchor.template">
    <link crossorigin="anonymous" media="all" rel="stylesheet" href="https://github.githubassets.com/assets/primer-react.260d30274859410b0337.module.css" />
<link crossorigin="anonymous" media="all" rel="stylesheet" href="https://github.githubassets.com/assets/global-user-nav-drawer.e8cf9cec9edb459b70de.module.css" />

<react-partial
  partial-name="global-user-nav-drawer"
  data-ssr="false"
  data-attempted-ssr="false"
  data-react-profiling="false"
>
  
  <script type="application/json" data-target="react-partial.embeddedData">{"props":{"owner":{"login":"OmkarAthavale","name":null,"avatarUrl":"https://avatars.githubusercontent.com/u/25015754?v=4"},"drawerId":"global-user-nav-drawer","lazyLoadItemDataFetchUrl":"/_side-panels/user.json","canAddAccount":true,"addAccountPath":"/login?add_account=1\u0026return_to=https%3A%2F%2Fgithub.com%2FSPARC-FAIR-Codeathon%2F2025-team-F%2Fblob%2Frestructuring%2Fexamples%2Ftf_LSTM_model.ipynb","switchAccountPath":"/switch_account","loginAccountPath":"/login?add_account=1","projectsPath":"/OmkarAthavale?tab=projects","gistsUrl":"https://gist.github.com/mine","docsUrl":"https://docs.github.com","yourEnterpriseUrl":null,"enterpriseSettingsUrl":null,"supportUrl":"https://support.github.com","showAccountSwitcher":true,"showCopilot":true,"showEnterprises":true,"showEnterprise":false,"showGithubMCPServerCTA":true,"showGists":true,"showOrganizations":true,"showSponsors":true,"showUpgrade":true,"showFeaturesPreviews":true,"showEnterpriseSettings":false,"createMenuProps":{"createRepo":true,"importRepo":true,"codespaces":true,"spark":false,"codingAgent":false,"gist":true,"createOrg":true,"createProject":false,"createProjectUrl":"/OmkarAthavale?tab=projects","createLegacyProject":false,"createIssue":true,"org":null,"owner":"SPARC-FAIR-Codeathon","repo":"2025-team-F"}}}</script>
  <div data-target="react-partial.reactRoot"></div>
</react-partial>

  </template>
</react-partial-anchor>


  <div data-show-on-forbidden-error hidden>
    <div class="Box">
  <div class="blankslate-container">
    <div data-view-component="true" class="blankslate blankslate-spacious color-bg-default rounded-2">
      

      <h3 data-view-component="true" class="blankslate-heading">        Uh oh!
</h3>
      <p data-view-component="true">        <p class="color-fg-muted my-2 mb-2 ws-normal">There was an error while loading. <a class="Link--inTextBlock" data-turbo="false" href="" aria-label="Please reload this page">Please reload this page</a>.</p>
</p>

</div>  </div>
</div>  </div>
</include-fragment></deferred-side-panel>
        </div>

        <div class="position-absolute mt-2">
            
<site-header-logged-in-user-menu>

</site-header-logged-in-user-menu>

        </div>
      </div>
    </div>


    
        <div class="AppHeader-localBar" >
          <nav data-pjax="#js-repo-pjax-container" aria-label="Repository" data-view-component="true" class="js-repo-nav js-sidenav-container-pjax js-responsive-underlinenav overflow-hidden UnderlineNav">

  <ul data-view-component="true" class="UnderlineNav-body list-style-none">
      <li data-view-component="true" class="d-inline-flex">
  <a id="code-tab" href="/SPARC-FAIR-Codeathon/2025-team-F/tree/restructuring" data-tab-item="i0code-tab" data-selected-links="repo_source repo_downloads repo_commits repo_releases repo_tags repo_branches repo_packages repo_deployments repo_attestations /SPARC-FAIR-Codeathon/2025-team-F/tree/restructuring" data-pjax="#repo-content-pjax-container" data-turbo-frame="repo-content-turbo-frame" data-hotkey="g c" data-analytics-event="{&quot;category&quot;:&quot;Underline navbar&quot;,&quot;action&quot;:&quot;Click tab&quot;,&quot;label&quot;:&quot;Code&quot;,&quot;target&quot;:&quot;UNDERLINE_NAV.TAB&quot;}" data-view-component="true" class="UnderlineNav-item no-wrap js-responsive-underlinenav-item js-selected-navigation-item">
    
              <svg aria-hidden="true" height="16" viewBox="0 0 16 16" version="1.1" width="16" data-view-component="true" class="octicon octicon-code UnderlineNav-octicon d-none d-sm-inline">
    <path d="m11.28 3.22 4.25 4.25a.75.75 0 0 1 0 1.06l-4.25 4.25a.749.749 0 0 1-1.275-.326.749.749 0 0 1 .215-.734L13.94 8l-3.72-3.72a.749.749 0 0 1 .326-1.275.749.749 0 0 1 .734.215Zm-6.56 0a.751.751 0 0 1 1.042.018.751.751 0 0 1 .018 1.042L2.06 8l3.72 3.72a.749.749 0 0 1-.326 1.275.749.749 0 0 1-.734-.215L.47 8.53a.75.75 0 0 1 0-1.06Z"></path>
</svg>
        <span data-content="Code">Code</span>
          <span id="code-repo-tab-count" data-pjax-replace="" data-turbo-replace="" title="Not available" data-view-component="true" class="Counter"></span>


    
</a></li>
      <li data-view-component="true" class="d-inline-flex">
  <a id="issues-tab" href="/SPARC-FAIR-Codeathon/2025-team-F/issues" data-tab-item="i1issues-tab" data-selected-links="repo_issues repo_labels repo_milestones /SPARC-FAIR-Codeathon/2025-team-F/issues" data-pjax="#repo-content-pjax-container" data-turbo-frame="repo-content-turbo-frame" data-hotkey="g i" data-analytics-event="{&quot;category&quot;:&quot;Underline navbar&quot;,&quot;action&quot;:&quot;Click tab&quot;,&quot;label&quot;:&quot;Issues&quot;,&quot;target&quot;:&quot;UNDERLINE_NAV.TAB&quot;}" data-view-component="true" class="UnderlineNav-item no-wrap js-responsive-underlinenav-item js-selected-navigation-item">
    
              <svg aria-hidden="true" height="16" viewBox="0 0 16 16" version="1.1" width="16" data-view-component="true" class="octicon octicon-issue-opened UnderlineNav-octicon d-none d-sm-inline">
    <path d="M8 9.5a1.5 1.5 0 1 0 0-3 1.5 1.5 0 0 0 0 3Z"></path><path d="M8 0a8 8 0 1 1 0 16A8 8 0 0 1 8 0ZM1.5 8a6.5 6.5 0 1 0 13 0 6.5 6.5 0 0 0-13 0Z"></path>
</svg>
        <span data-content="Issues">Issues</span>
          <span id="issues-repo-tab-count" data-pjax-replace="" data-turbo-replace="" title="0" hidden="hidden" data-view-component="true" class="Counter">0</span>


    
</a></li>
      <li data-view-component="true" class="d-inline-flex">
  <a id="pull-requests-tab" href="/SPARC-FAIR-Codeathon/2025-team-F/pulls" data-tab-item="i2pull-requests-tab" data-selected-links="repo_pulls checks /SPARC-FAIR-Codeathon/2025-team-F/pulls" data-pjax="#repo-content-pjax-container" data-turbo-frame="repo-content-turbo-frame" data-hotkey="g p" data-analytics-event="{&quot;category&quot;:&quot;Underline navbar&quot;,&quot;action&quot;:&quot;Click tab&quot;,&quot;label&quot;:&quot;Pull requests&quot;,&quot;target&quot;:&quot;UNDERLINE_NAV.TAB&quot;}" data-view-component="true" class="UnderlineNav-item no-wrap js-responsive-underlinenav-item js-selected-navigation-item">
    
              <svg aria-hidden="true" height="16" viewBox="0 0 16 16" version="1.1" width="16" data-view-component="true" class="octicon octicon-git-pull-request UnderlineNav-octicon d-none d-sm-inline">
    <path d="M1.5 3.25a2.25 2.25 0 1 1 3 2.122v5.256a2.251 2.251 0 1 1-1.5 0V5.372A2.25 2.25 0 0 1 1.5 3.25Zm5.677-.177L9.573.677A.25.25 0 0 1 10 .854V2.5h1A2.5 2.5 0 0 1 13.5 5v5.628a2.251 2.251 0 1 1-1.5 0V5a1 1 0 0 0-1-1h-1v1.646a.25.25 0 0 1-.427.177L7.177 3.427a.25.25 0 0 1 0-.354ZM3.75 2.5a.75.75 0 1 0 0 1.5.75.75 0 0 0 0-1.5Zm0 9.5a.75.75 0 1 0 0 1.5.75.75 0 0 0 0-1.5Zm8.25.75a.75.75 0 1 0 1.5 0 .75.75 0 0 0-1.5 0Z"></path>
</svg>
        <span data-content="Pull requests">Pull requests</span>
          <span id="pull-requests-repo-tab-count" data-pjax-replace="" data-turbo-replace="" title="0" hidden="hidden" data-view-component="true" class="Counter">0</span>


    
</a></li>
      <li data-view-component="true" class="d-inline-flex">
  <a id="actions-tab" href="/SPARC-FAIR-Codeathon/2025-team-F/actions" data-tab-item="i3actions-tab" data-selected-links="repo_actions /SPARC-FAIR-Codeathon/2025-team-F/actions" data-pjax="#repo-content-pjax-container" data-turbo-frame="repo-content-turbo-frame" data-hotkey="g a" data-analytics-event="{&quot;category&quot;:&quot;Underline navbar&quot;,&quot;action&quot;:&quot;Click tab&quot;,&quot;label&quot;:&quot;Actions&quot;,&quot;target&quot;:&quot;UNDERLINE_NAV.TAB&quot;}" data-view-component="true" class="UnderlineNav-item no-wrap js-responsive-underlinenav-item js-selected-navigation-item">
    
              <svg aria-hidden="true" height="16" viewBox="0 0 16 16" version="1.1" width="16" data-view-component="true" class="octicon octicon-play UnderlineNav-octicon d-none d-sm-inline">
    <path d="M8 0a8 8 0 1 1 0 16A8 8 0 0 1 8 0ZM1.5 8a6.5 6.5 0 1 0 13 0 6.5 6.5 0 0 0-13 0Zm4.879-2.773 4.264 2.559a.25.25 0 0 1 0 .428l-4.264 2.559A.25.25 0 0 1 6 10.559V5.442a.25.25 0 0 1 .379-.215Z"></path>
</svg>
        <span data-content="Actions">Actions</span>
          <span id="actions-repo-tab-count" data-pjax-replace="" data-turbo-replace="" title="Not available" data-view-component="true" class="Counter"></span>


    
</a></li>
      <li data-view-component="true" class="d-inline-flex">
  <a id="projects-tab" href="/SPARC-FAIR-Codeathon/2025-team-F/projects" data-tab-item="i4projects-tab" data-selected-links="repo_projects new_repo_project repo_project /SPARC-FAIR-Codeathon/2025-team-F/projects" data-pjax="#repo-content-pjax-container" data-turbo-frame="repo-content-turbo-frame" data-hotkey="g b" data-analytics-event="{&quot;category&quot;:&quot;Underline navbar&quot;,&quot;action&quot;:&quot;Click tab&quot;,&quot;label&quot;:&quot;Projects&quot;,&quot;target&quot;:&quot;UNDERLINE_NAV.TAB&quot;}" data-view-component="true" class="UnderlineNav-item no-wrap js-responsive-underlinenav-item js-selected-navigation-item">
    
              <svg aria-hidden="true" height="16" viewBox="0 0 16 16" version="1.1" width="16" data-view-component="true" class="octicon octicon-table UnderlineNav-octicon d-none d-sm-inline">
    <path d="M0 1.75C0 .784.784 0 1.75 0h12.5C15.216 0 16 .784 16 1.75v12.5A1.75 1.75 0 0 1 14.25 16H1.75A1.75 1.75 0 0 1 0 14.25ZM6.5 6.5v8h7.75a.25.25 0 0 0 .25-.25V6.5Zm8-1.5V1.75a.25.25 0 0 0-.25-.25H6.5V5Zm-13 1.5v7.75c0 .138.112.25.25.25H5v-8ZM5 5V1.5H1.75a.25.25 0 0 0-.25.25V5Z"></path>
</svg>
        <span data-content="Projects">Projects</span>
          <span id="projects-repo-tab-count" data-pjax-replace="" data-turbo-replace="" title="0" hidden="hidden" data-view-component="true" class="Counter">0</span>


    
</a></li>
      <li data-view-component="true" class="d-inline-flex">
  <a id="wiki-tab" href="/SPARC-FAIR-Codeathon/2025-team-F/wiki" data-tab-item="i5wiki-tab" data-selected-links="repo_wiki /SPARC-FAIR-Codeathon/2025-team-F/wiki" data-pjax="#repo-content-pjax-container" data-turbo-frame="repo-content-turbo-frame" data-hotkey="g w" data-analytics-event="{&quot;category&quot;:&quot;Underline navbar&quot;,&quot;action&quot;:&quot;Click tab&quot;,&quot;label&quot;:&quot;Wiki&quot;,&quot;target&quot;:&quot;UNDERLINE_NAV.TAB&quot;}" data-view-component="true" class="UnderlineNav-item no-wrap js-responsive-underlinenav-item js-selected-navigation-item">
    
              <svg aria-hidden="true" height="16" viewBox="0 0 16 16" version="1.1" width="16" data-view-component="true" class="octicon octicon-book UnderlineNav-octicon d-none d-sm-inline">
    <path d="M0 1.75A.75.75 0 0 1 .75 1h4.253c1.227 0 2.317.59 3 1.501A3.743 3.743 0 0 1 11.006 1h4.245a.75.75 0 0 1 .75.75v10.5a.75.75 0 0 1-.75.75h-4.507a2.25 2.25 0 0 0-1.591.659l-.622.621a.75.75 0 0 1-1.06 0l-.622-.621A2.25 2.25 0 0 0 5.258 13H.75a.75.75 0 0 1-.75-.75Zm7.251 10.324.004-5.073-.002-2.253A2.25 2.25 0 0 0 5.003 2.5H1.5v9h3.757a3.75 3.75 0 0 1 1.994.574ZM8.755 4.75l-.004 7.322a3.752 3.752 0 0 1 1.992-.572H14.5v-9h-3.495a2.25 2.25 0 0 0-2.25 2.25Z"></path>
</svg>
        <span data-content="Wiki">Wiki</span>
          <span id="wiki-repo-tab-count" data-pjax-replace="" data-turbo-replace="" title="Not available" data-view-component="true" class="Counter"></span>


    
</a></li>
      <li data-view-component="true" class="d-inline-flex">
  <a id="security-tab" href="/SPARC-FAIR-Codeathon/2025-team-F/security" data-tab-item="i6security-tab" data-selected-links="security overview alerts policy token_scanning code_scanning /SPARC-FAIR-Codeathon/2025-team-F/security" data-pjax="#repo-content-pjax-container" data-turbo-frame="repo-content-turbo-frame" data-hotkey="g s" data-analytics-event="{&quot;category&quot;:&quot;Underline navbar&quot;,&quot;action&quot;:&quot;Click tab&quot;,&quot;label&quot;:&quot;Security&quot;,&quot;target&quot;:&quot;UNDERLINE_NAV.TAB&quot;}" data-view-component="true" class="UnderlineNav-item no-wrap js-responsive-underlinenav-item js-selected-navigation-item">
    
              <svg aria-hidden="true" height="16" viewBox="0 0 16 16" version="1.1" width="16" data-view-component="true" class="octicon octicon-shield UnderlineNav-octicon d-none d-sm-inline">
    <path d="M7.467.133a1.748 1.748 0 0 1 1.066 0l5.25 1.68A1.75 1.75 0 0 1 15 3.48V7c0 1.566-.32 3.182-1.303 4.682-.983 1.498-2.585 2.813-5.032 3.855a1.697 1.697 0 0 1-1.33 0c-2.447-1.042-4.049-2.357-5.032-3.855C1.32 10.182 1 8.566 1 7V3.48a1.75 1.75 0 0 1 1.217-1.667Zm.61 1.429a.25.25 0 0 0-.153 0l-5.25 1.68a.25.25 0 0 0-.174.238V7c0 1.358.275 2.666 1.057 3.86.784 1.194 2.121 2.34 4.366 3.297a.196.196 0 0 0 .154 0c2.245-.956 3.582-2.104 4.366-3.298C13.225 9.666 13.5 8.36 13.5 7V3.48a.251.251 0 0 0-.174-.237l-5.25-1.68ZM8.75 4.75v3a.75.75 0 0 1-1.5 0v-3a.75.75 0 0 1 1.5 0ZM9 10.5a1 1 0 1 1-2 0 1 1 0 0 1 2 0Z"></path>
</svg>
        <span data-content="Security">Security</span>
          <include-fragment src="/SPARC-FAIR-Codeathon/2025-team-F/security/overall-count" accept="text/fragment+html" data-nonce="v2:cd6801a8-9ac6-2e2f-86f1-12a51169e45e" data-view-component="true">
  
  <div data-show-on-forbidden-error hidden>
    <div class="Box">
  <div class="blankslate-container">
    <div data-view-component="true" class="blankslate blankslate-spacious color-bg-default rounded-2">
      

      <h3 data-view-component="true" class="blankslate-heading">        Uh oh!
</h3>
      <p data-view-component="true">        <p class="color-fg-muted my-2 mb-2 ws-normal">There was an error while loading. <a class="Link--inTextBlock" data-turbo="false" href="" aria-label="Please reload this page">Please reload this page</a>.</p>
</p>

</div>  </div>
</div>  </div>
</include-fragment>

    
</a></li>
      <li data-view-component="true" class="d-inline-flex">
  <a id="insights-tab" href="/SPARC-FAIR-Codeathon/2025-team-F/pulse" data-tab-item="i7insights-tab" data-selected-links="repo_graphs repo_contributors dependency_graph dependabot_updates pulse people community /SPARC-FAIR-Codeathon/2025-team-F/pulse" data-pjax="#repo-content-pjax-container" data-turbo-frame="repo-content-turbo-frame" data-analytics-event="{&quot;category&quot;:&quot;Underline navbar&quot;,&quot;action&quot;:&quot;Click tab&quot;,&quot;label&quot;:&quot;Insights&quot;,&quot;target&quot;:&quot;UNDERLINE_NAV.TAB&quot;}" data-view-component="true" class="UnderlineNav-item no-wrap js-responsive-underlinenav-item js-selected-navigation-item">
    
              <svg aria-hidden="true" height="16" viewBox="0 0 16 16" version="1.1" width="16" data-view-component="true" class="octicon octicon-graph UnderlineNav-octicon d-none d-sm-inline">
    <path d="M1.5 1.75V13.5h13.75a.75.75 0 0 1 0 1.5H.75a.75.75 0 0 1-.75-.75V1.75a.75.75 0 0 1 1.5 0Zm14.28 2.53-5.25 5.25a.75.75 0 0 1-1.06 0L7 7.06 4.28 9.78a.751.751 0 0 1-1.042-.018.751.751 0 0 1-.018-1.042l3.25-3.25a.75.75 0 0 1 1.06 0L10 7.94l4.72-4.72a.751.751 0 0 1 1.042.018.751.751 0 0 1 .018 1.042Z"></path>
</svg>
        <span data-content="Insights">Insights</span>
          <span id="insights-repo-tab-count" data-pjax-replace="" data-turbo-replace="" title="Not available" data-view-component="true" class="Counter"></span>


    
</a></li>
</ul>
    <div style="visibility:hidden;" data-view-component="true" class="UnderlineNav-actions js-responsive-underlinenav-overflow position-absolute pr-3 pr-md-4 pr-lg-5 right-0">      <action-menu data-select-variant="none" data-view-component="true">
  <focus-group direction="vertical" mnemonics retain>
    <button id="action-menu-b2905641-472a-47c8-a1df-d24e51dbfe56-button" popovertarget="action-menu-b2905641-472a-47c8-a1df-d24e51dbfe56-overlay" aria-controls="action-menu-b2905641-472a-47c8-a1df-d24e51dbfe56-list" aria-haspopup="true" aria-labelledby="tooltip-9c7d7306-634c-4902-a3c3-95b12ba37f28" type="button" data-view-component="true" class="Button Button--iconOnly Button--secondary Button--medium UnderlineNav-item">  <svg aria-hidden="true" height="16" viewBox="0 0 16 16" version="1.1" width="16" data-view-component="true" class="octicon octicon-kebab-horizontal Button-visual">
    <path d="M8 9a1.5 1.5 0 1 0 0-3 1.5 1.5 0 0 0 0 3ZM1.5 9a1.5 1.5 0 1 0 0-3 1.5 1.5 0 0 0 0 3Zm13 0a1.5 1.5 0 1 0 0-3 1.5 1.5 0 0 0 0 3Z"></path>
</svg>
</button><tool-tip id="tooltip-9c7d7306-634c-4902-a3c3-95b12ba37f28" for="action-menu-b2905641-472a-47c8-a1df-d24e51dbfe56-button" popover="manual" data-direction="s" data-type="label" data-view-component="true" class="sr-only position-absolute">Additional navigation options</tool-tip>


<anchored-position data-target="action-menu.overlay" id="action-menu-b2905641-472a-47c8-a1df-d24e51dbfe56-overlay" anchor="action-menu-b2905641-472a-47c8-a1df-d24e51dbfe56-button" align="start" side="outside-bottom" anchor-offset="normal" popover="auto" data-view-component="true">
  <div data-view-component="true" class="Overlay Overlay--size-auto">
    
      <div data-view-component="true" class="Overlay-body Overlay-body--paddingNone">          <action-list>
  <div data-view-component="true">
    <ul aria-labelledby="action-menu-b2905641-472a-47c8-a1df-d24e51dbfe56-button" id="action-menu-b2905641-472a-47c8-a1df-d24e51dbfe56-list" role="menu" data-view-component="true" class="ActionListWrap--inset ActionListWrap">
        <li hidden="hidden" data-menu-item="i0code-tab" data-targets="action-list.items" role="none" data-view-component="true" class="ActionListItem">
    
    
    <a tabindex="-1" id="item-3846f6bc-d97f-4427-ac23-cf841fc18adb" href="/SPARC-FAIR-Codeathon/2025-team-F/tree/restructuring" role="menuitem" data-view-component="true" class="ActionListContent ActionListContent--visual16">
        <span class="ActionListItem-visual ActionListItem-visual--leading">
          <svg aria-hidden="true" height="16" viewBox="0 0 16 16" version="1.1" width="16" data-view-component="true" class="octicon octicon-code">
    <path d="m11.28 3.22 4.25 4.25a.75.75 0 0 1 0 1.06l-4.25 4.25a.749.749 0 0 1-1.275-.326.749.749 0 0 1 .215-.734L13.94 8l-3.72-3.72a.749.749 0 0 1 .326-1.275.749.749 0 0 1 .734.215Zm-6.56 0a.751.751 0 0 1 1.042.018.751.751 0 0 1 .018 1.042L2.06 8l3.72 3.72a.749.749 0 0 1-.326 1.275.749.749 0 0 1-.734-.215L.47 8.53a.75.75 0 0 1 0-1.06Z"></path>
</svg>
        </span>
      
        <span data-view-component="true" class="ActionListItem-label">
          Code
</span>      
</a>
  
</li>
        <li hidden="hidden" data-menu-item="i1issues-tab" data-targets="action-list.items" role="none" data-view-component="true" class="ActionListItem">
    
    
    <a tabindex="-1" id="item-bd4e21bf-5306-4990-a476-e9012f05b340" href="/SPARC-FAIR-Codeathon/2025-team-F/issues" role="menuitem" data-view-component="true" class="ActionListContent ActionListContent--visual16">
        <span class="ActionListItem-visual ActionListItem-visual--leading">
          <svg aria-hidden="true" height="16" viewBox="0 0 16 16" version="1.1" width="16" data-view-component="true" class="octicon octicon-issue-opened">
    <path d="M8 9.5a1.5 1.5 0 1 0 0-3 1.5 1.5 0 0 0 0 3Z"></path><path d="M8 0a8 8 0 1 1 0 16A8 8 0 0 1 8 0ZM1.5 8a6.5 6.5 0 1 0 13 0 6.5 6.5 0 0 0-13 0Z"></path>
</svg>
        </span>
      
        <span data-view-component="true" class="ActionListItem-label">
          Issues
</span>      
</a>
  
</li>
        <li hidden="hidden" data-menu-item="i2pull-requests-tab" data-targets="action-list.items" role="none" data-view-component="true" class="ActionListItem">
    
    
    <a tabindex="-1" id="item-0318720c-3250-4222-b87c-74a670407a85" href="/SPARC-FAIR-Codeathon/2025-team-F/pulls" role="menuitem" data-view-component="true" class="ActionListContent ActionListContent--visual16">
        <span class="ActionListItem-visual ActionListItem-visual--leading">
          <svg aria-hidden="true" height="16" viewBox="0 0 16 16" version="1.1" width="16" data-view-component="true" class="octicon octicon-git-pull-request">
    <path d="M1.5 3.25a2.25 2.25 0 1 1 3 2.122v5.256a2.251 2.251 0 1 1-1.5 0V5.372A2.25 2.25 0 0 1 1.5 3.25Zm5.677-.177L9.573.677A.25.25 0 0 1 10 .854V2.5h1A2.5 2.5 0 0 1 13.5 5v5.628a2.251 2.251 0 1 1-1.5 0V5a1 1 0 0 0-1-1h-1v1.646a.25.25 0 0 1-.427.177L7.177 3.427a.25.25 0 0 1 0-.354ZM3.75 2.5a.75.75 0 1 0 0 1.5.75.75 0 0 0 0-1.5Zm0 9.5a.75.75 0 1 0 0 1.5.75.75 0 0 0 0-1.5Zm8.25.75a.75.75 0 1 0 1.5 0 .75.75 0 0 0-1.5 0Z"></path>
</svg>
        </span>
      
        <span data-view-component="true" class="ActionListItem-label">
          Pull requests
</span>      
</a>
  
</li>
        <li hidden="hidden" data-menu-item="i3actions-tab" data-targets="action-list.items" role="none" data-view-component="true" class="ActionListItem">
    
    
    <a tabindex="-1" id="item-f1cc5f40-2848-473e-80ec-2ac7887a714e" href="/SPARC-FAIR-Codeathon/2025-team-F/actions" role="menuitem" data-view-component="true" class="ActionListContent ActionListContent--visual16">
        <span class="ActionListItem-visual ActionListItem-visual--leading">
          <svg aria-hidden="true" height="16" viewBox="0 0 16 16" version="1.1" width="16" data-view-component="true" class="octicon octicon-play">
    <path d="M8 0a8 8 0 1 1 0 16A8 8 0 0 1 8 0ZM1.5 8a6.5 6.5 0 1 0 13 0 6.5 6.5 0 0 0-13 0Zm4.879-2.773 4.264 2.559a.25.25 0 0 1 0 .428l-4.264 2.559A.25.25 0 0 1 6 10.559V5.442a.25.25 0 0 1 .379-.215Z"></path>
</svg>
        </span>
      
        <span data-view-component="true" class="ActionListItem-label">
          Actions
</span>      
</a>
  
</li>
        <li hidden="hidden" data-menu-item="i4projects-tab" data-targets="action-list.items" role="none" data-view-component="true" class="ActionListItem">
    
    
    <a tabindex="-1" id="item-7690fb0d-7775-417b-9a9e-10de771ebd85" href="/SPARC-FAIR-Codeathon/2025-team-F/projects" role="menuitem" data-view-component="true" class="ActionListContent ActionListContent--visual16">
        <span class="ActionListItem-visual ActionListItem-visual--leading">
          <svg aria-hidden="true" height="16" viewBox="0 0 16 16" version="1.1" width="16" data-view-component="true" class="octicon octicon-table">
    <path d="M0 1.75C0 .784.784 0 1.75 0h12.5C15.216 0 16 .784 16 1.75v12.5A1.75 1.75 0 0 1 14.25 16H1.75A1.75 1.75 0 0 1 0 14.25ZM6.5 6.5v8h7.75a.25.25 0 0 0 .25-.25V6.5Zm8-1.5V1.75a.25.25 0 0 0-.25-.25H6.5V5Zm-13 1.5v7.75c0 .138.112.25.25.25H5v-8ZM5 5V1.5H1.75a.25.25 0 0 0-.25.25V5Z"></path>
</svg>
        </span>
      
        <span data-view-component="true" class="ActionListItem-label">
          Projects
</span>      
</a>
  
</li>
        <li hidden="hidden" data-menu-item="i5wiki-tab" data-targets="action-list.items" role="none" data-view-component="true" class="ActionListItem">
    
    
    <a tabindex="-1" id="item-491a8d2c-8df6-4736-b303-5a0a1766513a" href="/SPARC-FAIR-Codeathon/2025-team-F/wiki" role="menuitem" data-view-component="true" class="ActionListContent ActionListContent--visual16">
        <span class="ActionListItem-visual ActionListItem-visual--leading">
          <svg aria-hidden="true" height="16" viewBox="0 0 16 16" version="1.1" width="16" data-view-component="true" class="octicon octicon-book">
    <path d="M0 1.75A.75.75 0 0 1 .75 1h4.253c1.227 0 2.317.59 3 1.501A3.743 3.743 0 0 1 11.006 1h4.245a.75.75 0 0 1 .75.75v10.5a.75.75 0 0 1-.75.75h-4.507a2.25 2.25 0 0 0-1.591.659l-.622.621a.75.75 0 0 1-1.06 0l-.622-.621A2.25 2.25 0 0 0 5.258 13H.75a.75.75 0 0 1-.75-.75Zm7.251 10.324.004-5.073-.002-2.253A2.25 2.25 0 0 0 5.003 2.5H1.5v9h3.757a3.75 3.75 0 0 1 1.994.574ZM8.755 4.75l-.004 7.322a3.752 3.752 0 0 1 1.992-.572H14.5v-9h-3.495a2.25 2.25 0 0 0-2.25 2.25Z"></path>
</svg>
        </span>
      
        <span data-view-component="true" class="ActionListItem-label">
          Wiki
</span>      
</a>
  
</li>
        <li hidden="hidden" data-menu-item="i6security-tab" data-targets="action-list.items" role="none" data-view-component="true" class="ActionListItem">
    
    
    <a tabindex="-1" id="item-16d105a7-3433-4bbf-bb54-da529c032239" href="/SPARC-FAIR-Codeathon/2025-team-F/security" role="menuitem" data-view-component="true" class="ActionListContent ActionListContent--visual16">
        <span class="ActionListItem-visual ActionListItem-visual--leading">
          <svg aria-hidden="true" height="16" viewBox="0 0 16 16" version="1.1" width="16" data-view-component="true" class="octicon octicon-shield">
    <path d="M7.467.133a1.748 1.748 0 0 1 1.066 0l5.25 1.68A1.75 1.75 0 0 1 15 3.48V7c0 1.566-.32 3.182-1.303 4.682-.983 1.498-2.585 2.813-5.032 3.855a1.697 1.697 0 0 1-1.33 0c-2.447-1.042-4.049-2.357-5.032-3.855C1.32 10.182 1 8.566 1 7V3.48a1.75 1.75 0 0 1 1.217-1.667Zm.61 1.429a.25.25 0 0 0-.153 0l-5.25 1.68a.25.25 0 0 0-.174.238V7c0 1.358.275 2.666 1.057 3.86.784 1.194 2.121 2.34 4.366 3.297a.196.196 0 0 0 .154 0c2.245-.956 3.582-2.104 4.366-3.298C13.225 9.666 13.5 8.36 13.5 7V3.48a.251.251 0 0 0-.174-.237l-5.25-1.68ZM8.75 4.75v3a.75.75 0 0 1-1.5 0v-3a.75.75 0 0 1 1.5 0ZM9 10.5a1 1 0 1 1-2 0 1 1 0 0 1 2 0Z"></path>
</svg>
        </span>
      
        <span data-view-component="true" class="ActionListItem-label">
          Security
</span>      
</a>
  
</li>
        <li hidden="hidden" data-menu-item="i7insights-tab" data-targets="action-list.items" role="none" data-view-component="true" class="ActionListItem">
    
    
    <a tabindex="-1" id="item-9779cf19-cc59-457d-af4e-3f9c5b597b6d" href="/SPARC-FAIR-Codeathon/2025-team-F/pulse" role="menuitem" data-view-component="true" class="ActionListContent ActionListContent--visual16">
        <span class="ActionListItem-visual ActionListItem-visual--leading">
          <svg aria-hidden="true" height="16" viewBox="0 0 16 16" version="1.1" width="16" data-view-component="true" class="octicon octicon-graph">
    <path d="M1.5 1.75V13.5h13.75a.75.75 0 0 1 0 1.5H.75a.75.75 0 0 1-.75-.75V1.75a.75.75 0 0 1 1.5 0Zm14.28 2.53-5.25 5.25a.75.75 0 0 1-1.06 0L7 7.06 4.28 9.78a.751.751 0 0 1-1.042-.018.751.751 0 0 1-.018-1.042l3.25-3.25a.75.75 0 0 1 1.06 0L10 7.94l4.72-4.72a.751.751 0 0 1 1.042.018.751.751 0 0 1 .018 1.042Z"></path>
</svg>
        </span>
      
        <span data-view-component="true" class="ActionListItem-label">
          Insights
</span>      
</a>
  
</li>
</ul>    
</div></action-list>


</div>
      
</div></anchored-position>  </focus-group>
</action-menu></div>
</nav>
          
        </div>
</header>


      <div hidden="hidden" data-view-component="true" class="js-stale-session-flash stale-session-flash flash flash-warn flash-full">
  
        <svg aria-hidden="true" height="16" viewBox="0 0 16 16" version="1.1" width="16" data-view-component="true" class="octicon octicon-alert">
    <path d="M6.457 1.047c.659-1.234 2.427-1.234 3.086 0l6.082 11.378A1.75 1.75 0 0 1 14.082 15H1.918a1.75 1.75 0 0 1-1.543-2.575Zm1.763.707a.25.25 0 0 0-.44 0L1.698 13.132a.25.25 0 0 0 .22.368h12.164a.25.25 0 0 0 .22-.368Zm.53 3.996v2.5a.75.75 0 0 1-1.5 0v-2.5a.75.75 0 0 1 1.5 0ZM9 11a1 1 0 1 1-2 0 1 1 0 0 1 2 0Z"></path>
</svg>
        <span class="js-stale-session-flash-signed-in" hidden>You signed in with another tab or window. <a class="Link--inTextBlock" href="">Reload</a> to refresh your session.</span>
        <span class="js-stale-session-flash-signed-out" hidden>You signed out in another tab or window. <a class="Link--inTextBlock" href="">Reload</a> to refresh your session.</span>
        <span class="js-stale-session-flash-switched" hidden>You switched accounts on another tab or window. <a class="Link--inTextBlock" href="">Reload</a> to refresh your session.</span>

    <button id="icon-button-7bde6b0e-82a3-49ae-824a-ba5d1be43ebd" aria-labelledby="tooltip-e2f3d74e-719f-468b-b17a-52733551e00d" type="button" data-view-component="true" class="Button Button--iconOnly Button--invisible Button--medium flash-close js-flash-close">  <svg aria-hidden="true" height="16" viewBox="0 0 16 16" version="1.1" width="16" data-view-component="true" class="octicon octicon-x Button-visual">
    <path d="M3.72 3.72a.75.75 0 0 1 1.06 0L8 6.94l3.22-3.22a.749.749 0 0 1 1.275.326.749.749 0 0 1-.215.734L9.06 8l3.22 3.22a.749.749 0 0 1-.326 1.275.749.749 0 0 1-.734-.215L8 9.06l-3.22 3.22a.751.751 0 0 1-1.042-.018.751.751 0 0 1-.018-1.042L6.94 8 3.72 4.78a.75.75 0 0 1 0-1.06Z"></path>
</svg>
</button><tool-tip id="tooltip-e2f3d74e-719f-468b-b17a-52733551e00d" for="icon-button-7bde6b0e-82a3-49ae-824a-ba5d1be43ebd" popover="manual" data-direction="s" data-type="label" data-view-component="true" class="sr-only position-absolute">Dismiss alert</tool-tip>


  
</div>
        
          
    </div>

  <div id="start-of-content" class="show-on-focus"></div>








    <div id="js-flash-container" class="flash-container" data-turbo-replace>




  <template class="js-flash-template">
    
<div class="flash flash-full   {{ className }}">
  <div >
    <button autofocus class="flash-close js-flash-close" type="button" aria-label="Dismiss this message">
      <svg aria-hidden="true" height="16" viewBox="0 0 16 16" version="1.1" width="16" data-view-component="true" class="octicon octicon-x">
    <path d="M3.72 3.72a.75.75 0 0 1 1.06 0L8 6.94l3.22-3.22a.749.749 0 0 1 1.275.326.749.749 0 0 1-.215.734L9.06 8l3.22 3.22a.749.749 0 0 1-.326 1.275.749.749 0 0 1-.734-.215L8 9.06l-3.22 3.22a.751.751 0 0 1-1.042-.018.751.751 0 0 1-.018-1.042L6.94 8 3.72 4.78a.75.75 0 0 1 0-1.06Z"></path>
</svg>
    </button>
    <div aria-atomic="true" role="alert" class="js-flash-alert">
      
      <div>{{ message }}</div>

    </div>
  </div>
</div>
  </template>
</div>


    
  <notification-shelf-watcher data-base-url="https://github.com/notifications/beta/shelf" data-channel="eyJjIjoibm90aWZpY2F0aW9uLWNoYW5nZWQ6MjUwMTU3NTQiLCJ0IjoxNzU0MzY2MDA4fQ==--42fcd42f994a05876a2db90669521ad74dc3f77945ada3bcfdcc8e6037e25688" data-view-component="true" class="js-socket-channel"></notification-shelf-watcher>
  <div hidden data-initial data-target="notification-shelf-watcher.placeholder"></div>






  <div
    class="application-main "
    data-commit-hovercards-enabled
    data-discussion-hovercards-enabled
    data-issue-and-pr-hovercards-enabled
    data-project-hovercards-enabled
  >
        <div itemscope itemtype="http://schema.org/SoftwareSourceCode" class="">
    <main id="js-repo-pjax-container" >
      
      
    

    






    
  <div id="repository-container-header" data-turbo-replace hidden ></div>




<turbo-frame id="repo-content-turbo-frame" target="_top" data-turbo-action="advance" class="">
    <div id="repo-content-pjax-container" class="repository-content " >
      <a href="https://github.dev/" class="d-none js-github-dev-shortcut" data-hotkey=".,Mod+Alt+.">Open in github.dev</a>
  <a href="https://github.dev/" class="d-none js-github-dev-new-tab-shortcut" data-hotkey="Shift+.,Shift+&gt;,&gt;" target="_blank" rel="noopener noreferrer">Open in a new github.dev tab</a>
    <a class="d-none" data-hotkey=",,Mod+Alt+," target="_blank" href="/codespaces/new/SPARC-FAIR-Codeathon/2025-team-F/tree/restructuring?resume=1">Open in codespace</a>




    
      
    








<react-app
  app-name="react-code-view"
  initial-path="/SPARC-FAIR-Codeathon/2025-team-F/blob/restructuring/examples/tf_LSTM_model.ipynb"
    style="display: block; min-height: calc(100vh - 64px);"
  data-attempted-ssr="true"
  data-ssr="true"
  data-lazy="false"
  data-alternate="false"
  data-data-router-enabled="false"
  data-react-profiling="false"
>
  
  <script type="application/json" data-target="react-app.embeddedData">{"payload":{"allShortcutsEnabled":true,"fileTree":{"examples":{"items":[{"name":"tf_LSTM_model.ipynb","path":"examples/tf_LSTM_model.ipynb","contentType":"file"},{"name":"tf_fine_tune_model.ipynb","path":"examples/tf_fine_tune_model.ipynb","contentType":"file"},{"name":"tf_pretrained_model.ipynb","path":"examples/tf_pretrained_model.ipynb","contentType":"file"}],"totalCount":3},"":{"items":[{"name":"examples","path":"examples","contentType":"directory"},{"name":"res","path":"res","contentType":"directory"},{"name":"sparcats","path":"sparcats","contentType":"directory"},{"name":"tutorials","path":"tutorials","contentType":"directory"},{"name":"validation","path":"validation","contentType":"directory"},{"name":".gitignore","path":".gitignore","contentType":"file"},{"name":"README.md","path":"README.md","contentType":"file"}],"totalCount":7}},"fileTreeProcessingTime":11.068101,"foldersToFetch":[],"incompleteFileTree":false,"repo":{"id":1028403411,"defaultBranch":"main","name":"2025-team-F","ownerLogin":"SPARC-FAIR-Codeathon","currentUserCanPush":true,"isFork":false,"isEmpty":false,"createdAt":"2025-07-30T01:31:47.000+12:00","ownerAvatar":"https://avatars.githubusercontent.com/u/86933347?v=4","public":true,"private":false,"isOrgOwned":true},"codeLineWrapEnabled":false,"symbolsExpanded":true,"treeExpanded":true,"refInfo":{"name":"restructuring","listCacheKey":"v0:1754358575.0","canEdit":true,"refType":"branch","currentOid":"a9b737d6605e940cecafeba1051dc57086168679"},"path":"examples/tf_LSTM_model.ipynb","currentUser":{"id":25015754,"login":"OmkarAthavale","userEmail":"oa1234@live.com"},"blob":{"rawLines":["{"," \"cells\": [","  {","   \"cell_type\": \"code\",","   \"execution_count\": 104,","   \"id\": \"a8fd7ccc-47ea-4d9e-b248-26ed216ed96a\",","   \"metadata\": {},","   \"outputs\": [","    {","     \"name\": \"stdout\",","     \"output_type\": \"stream\",","     \"text\": [","      \"Requirement already satisfied: pandas in /opt/conda/lib/python3.7/site-packages (1.3.5)\\n\",","      \"Requirement already satisfied: python-dateutil\u003e=2.7.3 in /opt/conda/lib/python3.7/site-packages (from pandas) (2.9.0)\\n\",","      \"Requirement already satisfied: pytz\u003e=2017.3 in /opt/conda/lib/python3.7/site-packages (from pandas) (2024.2)\\n\",","      \"Requirement already satisfied: numpy\u003e=1.17.3 in /opt/conda/lib/python3.7/site-packages (from pandas) (1.21.6)\\n\",","      \"Requirement already satisfied: six\u003e=1.5 in /opt/conda/lib/python3.7/site-packages (from python-dateutil\u003e=2.7.3-\u003epandas) (1.16.0)\\n\",","      \"Requirement already satisfied: tensorflow in /opt/conda/lib/python3.7/site-packages (2.11.0)\\n\",","      \"Requirement already satisfied: absl-py\u003e=1.0.0 in /opt/conda/lib/python3.7/site-packages (from tensorflow) (2.1.0)\\n\",","      \"Requirement already satisfied: astunparse\u003e=1.6.0 in /opt/conda/lib/python3.7/site-packages (from tensorflow) (1.6.3)\\n\",","      \"Requirement already satisfied: flatbuffers\u003e=2.0 in /opt/conda/lib/python3.7/site-packages (from tensorflow) (25.2.10)\\n\",","      \"Requirement already satisfied: gast\u003c=0.4.0,\u003e=0.2.1 in /opt/conda/lib/python3.7/site-packages (from tensorflow) (0.4.0)\\n\",","      \"Requirement already satisfied: google-pasta\u003e=0.1.1 in /opt/conda/lib/python3.7/site-packages (from tensorflow) (0.2.0)\\n\",","      \"Requirement already satisfied: grpcio\u003c2.0,\u003e=1.24.3 in /opt/conda/lib/python3.7/site-packages (from tensorflow) (1.62.3)\\n\",","      \"Requirement already satisfied: h5py\u003e=2.9.0 in /opt/conda/lib/python3.7/site-packages (from tensorflow) (3.8.0)\\n\",","      \"Requirement already satisfied: keras\u003c2.12,\u003e=2.11.0 in /opt/conda/lib/python3.7/site-packages (from tensorflow) (2.11.0)\\n\",","      \"Requirement already satisfied: libclang\u003e=13.0.0 in /opt/conda/lib/python3.7/site-packages (from tensorflow) (18.1.1)\\n\",","      \"Requirement already satisfied: numpy\u003e=1.20 in /opt/conda/lib/python3.7/site-packages (from tensorflow) (1.21.6)\\n\",","      \"Requirement already satisfied: opt-einsum\u003e=2.3.2 in /opt/conda/lib/python3.7/site-packages (from tensorflow) (3.3.0)\\n\",","      \"Requirement already satisfied: packaging in /opt/conda/lib/python3.7/site-packages (from tensorflow) (23.2)\\n\",","      \"Requirement already satisfied: protobuf\u003c3.20,\u003e=3.9.2 in /opt/conda/lib/python3.7/site-packages (from tensorflow) (3.19.6)\\n\",","      \"Requirement already satisfied: setuptools in /opt/conda/lib/python3.7/site-packages (from tensorflow) (68.0.0)\\n\",","      \"Requirement already satisfied: six\u003e=1.12.0 in /opt/conda/lib/python3.7/site-packages (from tensorflow) (1.16.0)\\n\",","      \"Requirement already satisfied: tensorboard\u003c2.12,\u003e=2.11 in /opt/conda/lib/python3.7/site-packages (from tensorflow) (2.11.2)\\n\",","      \"Requirement already satisfied: tensorflow-estimator\u003c2.12,\u003e=2.11.0 in /opt/conda/lib/python3.7/site-packages (from tensorflow) (2.11.0)\\n\",","      \"Requirement already satisfied: termcolor\u003e=1.1.0 in /opt/conda/lib/python3.7/site-packages (from tensorflow) (2.3.0)\\n\",","      \"Requirement already satisfied: typing-extensions\u003e=3.6.6 in /opt/conda/lib/python3.7/site-packages (from tensorflow) (4.7.1)\\n\",","      \"Requirement already satisfied: wrapt\u003e=1.11.0 in /opt/conda/lib/python3.7/site-packages (from tensorflow) (1.16.0)\\n\",","      \"Requirement already satisfied: tensorflow-io-gcs-filesystem\u003e=0.23.1 in /opt/conda/lib/python3.7/site-packages (from tensorflow) (0.34.0)\\n\",","      \"Requirement already satisfied: wheel\u003c1.0,\u003e=0.23.0 in /opt/conda/lib/python3.7/site-packages (from astunparse\u003e=1.6.0-\u003etensorflow) (0.42.0)\\n\",","      \"Requirement already satisfied: google-auth\u003c3,\u003e=1.6.3 in /opt/conda/lib/python3.7/site-packages (from tensorboard\u003c2.12,\u003e=2.11-\u003etensorflow) (2.40.3)\\n\",","      \"Requirement already satisfied: google-auth-oauthlib\u003c0.5,\u003e=0.4.1 in /opt/conda/lib/python3.7/site-packages (from tensorboard\u003c2.12,\u003e=2.11-\u003etensorflow) (0.4.6)\\n\",","      \"Requirement already satisfied: markdown\u003e=2.6.8 in /opt/conda/lib/python3.7/site-packages (from tensorboard\u003c2.12,\u003e=2.11-\u003etensorflow) (3.4.4)\\n\",","      \"Requirement already satisfied: requests\u003c3,\u003e=2.21.0 in /opt/conda/lib/python3.7/site-packages (from tensorboard\u003c2.12,\u003e=2.11-\u003etensorflow) (2.28.2)\\n\",","      \"Requirement already satisfied: tensorboard-data-server\u003c0.7.0,\u003e=0.6.0 in /opt/conda/lib/python3.7/site-packages (from tensorboard\u003c2.12,\u003e=2.11-\u003etensorflow) (0.6.1)\\n\",","      \"Requirement already satisfied: tensorboard-plugin-wit\u003e=1.6.0 in /opt/conda/lib/python3.7/site-packages (from tensorboard\u003c2.12,\u003e=2.11-\u003etensorflow) (1.8.1)\\n\",","      \"Requirement already satisfied: werkzeug\u003e=1.0.1 in /opt/conda/lib/python3.7/site-packages (from tensorboard\u003c2.12,\u003e=2.11-\u003etensorflow) (2.2.3)\\n\",","      \"Requirement already satisfied: cachetools\u003c6.0,\u003e=2.0.0 in /opt/conda/lib/python3.7/site-packages (from google-auth\u003c3,\u003e=1.6.3-\u003etensorboard\u003c2.12,\u003e=2.11-\u003etensorflow) (5.5.2)\\n\",","      \"Requirement already satisfied: pyasn1-modules\u003e=0.2.1 in /opt/conda/lib/python3.7/site-packages (from google-auth\u003c3,\u003e=1.6.3-\u003etensorboard\u003c2.12,\u003e=2.11-\u003etensorflow) (0.3.0)\\n\",","      \"Requirement already satisfied: rsa\u003c5,\u003e=3.1.4 in /opt/conda/lib/python3.7/site-packages (from google-auth\u003c3,\u003e=1.6.3-\u003etensorboard\u003c2.12,\u003e=2.11-\u003etensorflow) (4.9.1)\\n\",","      \"Requirement already satisfied: requests-oauthlib\u003e=0.7.0 in /opt/conda/lib/python3.7/site-packages (from google-auth-oauthlib\u003c0.5,\u003e=0.4.1-\u003etensorboard\u003c2.12,\u003e=2.11-\u003etensorflow) (2.0.0)\\n\",","      \"Requirement already satisfied: importlib-metadata\u003e=4.4 in /opt/conda/lib/python3.7/site-packages (from markdown\u003e=2.6.8-\u003etensorboard\u003c2.12,\u003e=2.11-\u003etensorflow) (4.11.4)\\n\",","      \"Requirement already satisfied: charset-normalizer\u003c4,\u003e=2 in /opt/conda/lib/python3.7/site-packages (from requests\u003c3,\u003e=2.21.0-\u003etensorboard\u003c2.12,\u003e=2.11-\u003etensorflow) (3.1.0)\\n\",","      \"Requirement already satisfied: idna\u003c4,\u003e=2.5 in /opt/conda/lib/python3.7/site-packages (from requests\u003c3,\u003e=2.21.0-\u003etensorboard\u003c2.12,\u003e=2.11-\u003etensorflow) (3.4)\\n\",","      \"Requirement already satisfied: urllib3\u003c1.27,\u003e=1.21.1 in /opt/conda/lib/python3.7/site-packages (from requests\u003c3,\u003e=2.21.0-\u003etensorboard\u003c2.12,\u003e=2.11-\u003etensorflow) (1.26.15)\\n\",","      \"Requirement already satisfied: certifi\u003e=2017.4.17 in /opt/conda/lib/python3.7/site-packages (from requests\u003c3,\u003e=2.21.0-\u003etensorboard\u003c2.12,\u003e=2.11-\u003etensorflow) (2024.8.30)\\n\",","      \"Requirement already satisfied: MarkupSafe\u003e=2.1.1 in /opt/conda/lib/python3.7/site-packages (from werkzeug\u003e=1.0.1-\u003etensorboard\u003c2.12,\u003e=2.11-\u003etensorflow) (2.1.1)\\n\",","      \"Requirement already satisfied: zipp\u003e=0.5 in /opt/conda/lib/python3.7/site-packages (from importlib-metadata\u003e=4.4-\u003emarkdown\u003e=2.6.8-\u003etensorboard\u003c2.12,\u003e=2.11-\u003etensorflow) (3.15.0)\\n\",","      \"Requirement already satisfied: pyasn1\u003c0.6.0,\u003e=0.4.6 in /opt/conda/lib/python3.7/site-packages (from pyasn1-modules\u003e=0.2.1-\u003egoogle-auth\u003c3,\u003e=1.6.3-\u003etensorboard\u003c2.12,\u003e=2.11-\u003etensorflow) (0.5.1)\\n\",","      \"Requirement already satisfied: oauthlib\u003e=3.0.0 in /opt/conda/lib/python3.7/site-packages (from requests-oauthlib\u003e=0.7.0-\u003egoogle-auth-oauthlib\u003c0.5,\u003e=0.4.1-\u003etensorboard\u003c2.12,\u003e=2.11-\u003etensorflow) (3.2.2)\\n\",","      \"Requirement already satisfied: scikit-learn in /opt/conda/lib/python3.7/site-packages (1.0.2)\\n\",","      \"Requirement already satisfied: numpy\u003e=1.14.6 in /opt/conda/lib/python3.7/site-packages (from scikit-learn) (1.21.6)\\n\",","      \"Requirement already satisfied: scipy\u003e=1.1.0 in /opt/conda/lib/python3.7/site-packages (from scikit-learn) (1.7.3)\\n\",","      \"Requirement already satisfied: joblib\u003e=0.11 in /opt/conda/lib/python3.7/site-packages (from scikit-learn) (1.3.2)\\n\",","      \"Requirement already satisfied: threadpoolctl\u003e=2.0.0 in /opt/conda/lib/python3.7/site-packages (from scikit-learn) (3.1.0)\\n\"","     ]","    }","   ],","   \"source\": [","    \"import sys\\n\",","    \"!{sys.executable} -m pip install pandas\\n\",","    \"!{sys.executable} -m pip install tensorflow\\n\",","    \"!{sys.executable} -m pip install scikit-learn\"","   ]","  },","  {","   \"cell_type\": \"code\",","   \"id\": \"55ffcc7e-d506-4856-9e07-bf52762b1f8c\",","   \"metadata\": {","    \"ExecuteTime\": {","     \"end_time\": \"2025-08-05T03:31:06.157062Z\",","     \"start_time\": \"2025-08-05T03:31:05.628109Z\"","    }","   },","   \"source\": [","    \"import numpy as np\\n\",","    \"import pandas as pd\\n\",","    \"import matplotlib.pyplot as plt\\n\",","    \"from sklearn.preprocessing import MinMaxScaler\\n\",","    \"from sklearn.model_selection import train_test_split\\n\",","    \"from tensorflow.keras.models import Sequential\\n\",","    \"from tensorflow.keras.optimizers import Adam\\n\",","    \"from tensorflow.keras.layers import LSTM, Dense, Dropout, GRU, RNN\"","   ],","   \"outputs\": [","    {","     \"ename\": \"ModuleNotFoundError\",","     \"evalue\": \"No module named 'matplotlib'\",","     \"output_type\": \"error\",","     \"traceback\": [","      \"\\u001B[0;31m---------------------------------------------------------------------------\\u001B[0m\",","      \"\\u001B[0;31mModuleNotFoundError\\u001B[0m                       Traceback (most recent call last)\",","      \"Cell \\u001B[0;32mIn[1], line 3\\u001B[0m\\n\\u001B[1;32m      1\\u001B[0m \\u001B[38;5;28;01mimport\\u001B[39;00m\\u001B[38;5;250m \\u001B[39m\\u001B[38;5;21;01mnumpy\\u001B[39;00m\\u001B[38;5;250m \\u001B[39m\\u001B[38;5;28;01mas\\u001B[39;00m\\u001B[38;5;250m \\u001B[39m\\u001B[38;5;21;01mnp\\u001B[39;00m\\n\\u001B[1;32m      2\\u001B[0m \\u001B[38;5;28;01mimport\\u001B[39;00m\\u001B[38;5;250m \\u001B[39m\\u001B[38;5;21;01mpandas\\u001B[39;00m\\u001B[38;5;250m \\u001B[39m\\u001B[38;5;28;01mas\\u001B[39;00m\\u001B[38;5;250m \\u001B[39m\\u001B[38;5;21;01mpd\\u001B[39;00m\\n\\u001B[0;32m----\u003e 3\\u001B[0m \\u001B[38;5;28;01mimport\\u001B[39;00m\\u001B[38;5;250m \\u001B[39m\\u001B[38;5;21;01mmatplotlib\\u001B[39;00m\\u001B[38;5;21;01m.\\u001B[39;00m\\u001B[38;5;21;01mpyplot\\u001B[39;00m\\u001B[38;5;250m \\u001B[39m\\u001B[38;5;28;01mas\\u001B[39;00m\\u001B[38;5;250m \\u001B[39m\\u001B[38;5;21;01mplt\\u001B[39;00m\\n\\u001B[1;32m      4\\u001B[0m \\u001B[38;5;28;01mfrom\\u001B[39;00m\\u001B[38;5;250m \\u001B[39m\\u001B[38;5;21;01msklearn\\u001B[39;00m\\u001B[38;5;21;01m.\\u001B[39;00m\\u001B[38;5;21;01mpreprocessing\\u001B[39;00m\\u001B[38;5;250m \\u001B[39m\\u001B[38;5;28;01mimport\\u001B[39;00m MinMaxScaler\\n\\u001B[1;32m      5\\u001B[0m \\u001B[38;5;28;01mfrom\\u001B[39;00m\\u001B[38;5;250m \\u001B[39m\\u001B[38;5;21;01msklearn\\u001B[39;00m\\u001B[38;5;21;01m.\\u001B[39;00m\\u001B[38;5;21;01mmodel_selection\\u001B[39;00m\\u001B[38;5;250m \\u001B[39m\\u001B[38;5;28;01mimport\\u001B[39;00m train_test_split\\n\",","      \"\\u001B[0;31mModuleNotFoundError\\u001B[0m: No module named 'matplotlib'\"","     ]","    }","   ],","   \"execution_count\": 1","  },","  {","   \"cell_type\": \"code\",","   \"execution_count\": 352,","   \"id\": \"f94626ef-4142-4896-a8c8-638dc56eb49d\",","   \"metadata\": {},","   \"outputs\": [],","   \"source\": [","    \"def create_dataset(signal, window_size=20):\\n\",","    \"    X, y = [], []\\n\",","    \"    for i in range(len(signal) - window_size):\\n\",","    \"        X.append(signal[i:i+window_size])\\n\",","    \"        y.append(signal[i+window_size])\\n\",","    \"    return np.array(X), np.array(y)\"","   ]","  },","  {","   \"cell_type\": \"code\",","   \"execution_count\": 430,","   \"id\": \"563e0a54-91cb-4f34-b2bf-8bbd610d54b3\",","   \"metadata\": {},","   \"outputs\": [","    {","     \"data\": {","      \"image/png\": \"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\\n\",","      \"text/plain\": [","       \"\u003cFigure size 640x480 with 1 Axes\u003e\"","      ]","     },","     \"metadata\": {},","     \"output_type\": \"display_data\"","    }","   ],","   \"source\": [","    \"data = pd.read_csv('validation/output/sparc_data_augmented.csv')\\n\",","    \"extracted_data = data.iloc[:, 1::].to_numpy()\\n\",","    \"\\n\",","    \"clean_data = pd.read_csv('validation/output/sparc_data.csv')\\n\",","    \"original_signal = clean_data.iloc[:, 1::].to_numpy()\\n\",","    \"\\n\",","    \"scaler = MinMaxScaler(feature_range=(0,1))\\n\",","    \"og_scaler = MinMaxScaler(feature_range=(0,1))\\n\",","    \"scaled_data = scaler.fit_transform(extracted_data)\\n\",","    \"scaled_original_signal = og_scaler.fit_transform(original_signal)\\n\",","    \"\\n\",","    \"plt.plot(scaled_original_signal)\\n\",","    \"plt.title('Signal to predict with')\\n\",","    \"plt.xlabel('Time')\\n\",","    \"plt.ylabel('Signal')\\n\",","    \"plt.show()\"","   ]","  },","  {","   \"cell_type\": \"code\",","   \"execution_count\": 431,","   \"id\": \"9a08741d-4e08-4c19-b904-5d3177c97726\",","   \"metadata\": {},","   \"outputs\": [],","   \"source\": [","    \"X_train_all, y_train_all = [], []\\n\",","    \"window_size = 20\\n\",","    \"\\n\",","    \"for i in range(scaled_data.shape[1]):  # a list of 10 signals\\n\",","    \"    X_aug, y_aug = create_dataset(scaled_data[:, i], window_size)\\n\",","    \"    X_train_all.append(X_aug)\\n\",","    \"    y_train_all.append(y_aug)\\n\",","    \"\\n\",","    \"# Combine all augmented data into single arrays\\n\",","    \"X_train = np.concatenate(X_train_all, axis=0)\\n\",","    \"y_train = np.concatenate(y_train_all, axis=0)\\n\",","    \"\\n\",","    \"# Reshape if univariate (LSTM expects shape (samples, timesteps, features))\\n\",","    \"X_train = X_train.reshape((X_train.shape[0], X_train.shape[1], 1))\"","   ]","  },","  {","   \"cell_type\": \"code\",","   \"execution_count\": 432,","   \"id\": \"7ede2bbf-42a9-456e-b90a-df1386d68cc4\",","   \"metadata\": {},","   \"outputs\": [],","   \"source\": [","    \"model = Sequential()\\n\",","    \"model.add(LSTM(256, return_sequences=True, activation='relu', input_shape=(window_size, 1)))\\n\",","    \"model.add(Dropout(0.2))\\n\",","    \"model.add(LSTM(128, return_sequences=True, activation='relu'))\\n\",","    \"model.add(Dropout(0.2))\\n\",","    \"model.add(LSTM(64, activation='relu'))\\n\",","    \"model.add(Dropout(0.2))\\n\",","    \"model.add(Dense(1))\\n\",","    \"\\n\",","    \"optimizer = Adam(learning_rate=1e-4)\\n\",","    \"model.compile(optimizer=optimizer, loss='mean_squared_error')\"","   ]","  },","  {","   \"cell_type\": \"code\",","   \"execution_count\": 437,","   \"id\": \"7711e078-4630-45ec-ac7e-50ccca0f50b6\",","   \"metadata\": {},","   \"outputs\": [],","   \"source\": [","    \"seed_sequence = np.copy(scaled_original_signal[-window_size:]) \\n\",","    \"\\n\",","    \"# List to store predictions\\n\",","    \"predictions = []\\n\",","    \"nb_predictions = 100\\n\",","    \"\\n\",","    \"# Make n predictions\\n\",","    \"for i in range(nb_predictions):\\n\",","    \"    # Reshape to model input shape: (1, window_size, 1)\\n\",","    \"    input_seq = np.reshape(seed_sequence[i:window_size+i], (1, window_size, 1))\\n\",","    \"    \\n\",","    \"    # Predict next value (shape will be (1, 1))\\n\",","    \"    next_val = model.predict(input_seq, verbose=0)[0, 0]\\n\",","    \"    \\n\",","    \"    # Append prediction to results\\n\",","    \"    predictions.append(next_val)\\n\",","    \"    seed_sequence = np.append(seed_sequence, next_val)\\n\",","    \"    \\n\",","    \"predictions = og_scaler.inverse_transform(np.array(predictions).reshape(-1,1)).flatten()\"","   ]","  },","  {","   \"cell_type\": \"code\",","   \"execution_count\": 438,","   \"id\": \"bf0fcbdb-d76b-4066-af34-862f7179ae8d\",","   \"metadata\": {},","   \"outputs\": [","    {","     \"data\": {","      \"image/png\": \"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\\n\",","      \"text/plain\": [","       \"\u003cFigure size 1200x600 with 1 Axes\u003e\"","      ]","     },","     \"metadata\": {},","     \"output_type\": \"display_data\"","    }","   ],","   \"source\": [","    \"plt.figure(figsize=(12, 6))\\n\",","    \"plt.plot(original_signal, label='Signal')\\n\",","    \"plt.plot(np.linspace(len(original_signal), len(original_signal) + nb_predictions, nb_predictions),predictions, label='Predicted')\\n\",","    \"plt.title('Signal with predictions')\\n\",","    \"plt.xlabel('Time')\\n\",","    \"plt.ylabel('Signal')\\n\",","    \"plt.legend()\\n\",","    \"plt.show()\"","   ]","  },","  {","   \"cell_type\": \"code\",","   \"execution_count\": null,","   \"id\": \"57a4036e-3727-4d33-8898-507daedee699\",","   \"metadata\": {},","   \"outputs\": [],","   \"source\": []","  },","  {","   \"metadata\": {},","   \"cell_type\": \"code\",","   \"outputs\": [","    {","     \"name\": \"stdout\",","     \"output_type\": \"stream\",","     \"text\": [","      \"Epoch 1/50\\n\",","      \"600/600 [==============================] - 23s 39ms/step - loss: 0.0067 - val_loss: 0.0060\\n\",","      \"Epoch 2/50\\n\",","      \"600/600 [==============================] - 24s 40ms/step - loss: 0.0063 - val_loss: 0.0051\\n\",","      \"Epoch 3/50\\n\",","      \"600/600 [==============================] - 24s 40ms/step - loss: 0.0063 - val_loss: 0.0051\\n\",","      \"Epoch 4/50\\n\",","      \"600/600 [==============================] - 28s 46ms/step - loss: 0.0062 - val_loss: 0.0062\\n\",","      \"Epoch 5/50\\n\",","      \"600/600 [==============================] - 43s 72ms/step - loss: 0.0061 - val_loss: 0.0052\\n\",","      \"Epoch 6/50\\n\",","      \"600/600 [==============================] - 52s 87ms/step - loss: 0.0060 - val_loss: 0.0047\\n\",","      \"Epoch 7/50\\n\",","      \"600/600 [==============================] - 48s 80ms/step - loss: 0.0059 - val_loss: 0.0054\\n\",","      \"Epoch 8/50\\n\",","      \"600/600 [==============================] - 53s 88ms/step - loss: 0.0058 - val_loss: 0.0048\\n\",","      \"Epoch 9/50\\n\",","      \"600/600 [==============================] - 50s 83ms/step - loss: 0.0059 - val_loss: 0.0050\\n\",","      \"Epoch 10/50\\n\",","      \"600/600 [==============================] - 28s 47ms/step - loss: 0.0056 - val_loss: 0.0046\\n\",","      \"Epoch 11/50\\n\",","      \"600/600 [==============================] - 44s 73ms/step - loss: 0.0057 - val_loss: 0.0047\\n\",","      \"Epoch 12/50\\n\",","      \"600/600 [==============================] - 45s 75ms/step - loss: 0.0056 - val_loss: 0.0051\\n\",","      \"Epoch 13/50\\n\",","      \"600/600 [==============================] - 45s 76ms/step - loss: 0.0054 - val_loss: 0.0048\\n\",","      \"Epoch 14/50\\n\",","      \"600/600 [==============================] - 45s 75ms/step - loss: 0.0054 - val_loss: 0.0046\\n\",","      \"Epoch 15/50\\n\",","      \"600/600 [==============================] - 45s 75ms/step - loss: 0.0054 - val_loss: 0.0046\\n\",","      \"Epoch 16/50\\n\",","      \"600/600 [==============================] - 30s 50ms/step - loss: 0.0053 - val_loss: 0.0049\\n\",","      \"Epoch 17/50\\n\",","      \"600/600 [==============================] - 24s 40ms/step - loss: 0.0053 - val_loss: 0.0049\\n\",","      \"Epoch 18/50\\n\",","      \"600/600 [==============================] - 24s 40ms/step - loss: 0.0053 - val_loss: 0.0046\\n\",","      \"Epoch 19/50\\n\",","      \"600/600 [==============================] - 24s 39ms/step - loss: 0.0053 - val_loss: 0.0045\\n\",","      \"Epoch 20/50\\n\",","      \"600/600 [==============================] - 23s 39ms/step - loss: 0.0052 - val_loss: 0.0047\\n\",","      \"Epoch 21/50\\n\",","      \"600/600 [==============================] - 24s 40ms/step - loss: 0.0051 - val_loss: 0.0045\\n\",","      \"Epoch 22/50\\n\",","      \"600/600 [==============================] - 24s 40ms/step - loss: 0.0052 - val_loss: 0.0045\\n\",","      \"Epoch 23/50\\n\",","      \"600/600 [==============================] - 24s 40ms/step - loss: 0.0051 - val_loss: 0.0048\\n\",","      \"Epoch 24/50\\n\",","      \"600/600 [==============================] - 24s 39ms/step - loss: 0.0050 - val_loss: 0.0046\\n\",","      \"Epoch 25/50\\n\",","      \"600/600 [==============================] - 24s 39ms/step - loss: 0.0050 - val_loss: 0.0051\\n\",","      \"Epoch 26/50\\n\",","      \"600/600 [==============================] - 23s 39ms/step - loss: 0.0050 - val_loss: 0.0044\\n\",","      \"Epoch 27/50\\n\",","      \"600/600 [==============================] - 24s 40ms/step - loss: 0.0050 - val_loss: 0.0044\\n\",","      \"Epoch 28/50\\n\",","      \"600/600 [==============================] - 24s 40ms/step - loss: 0.0050 - val_loss: 0.0045\\n\",","      \"Epoch 29/50\\n\",","      \"600/600 [==============================] - 41s 69ms/step - loss: 0.0049 - val_loss: 0.0047\\n\",","      \"Epoch 30/50\\n\",","      \"600/600 [==============================] - 44s 73ms/step - loss: 0.0049 - val_loss: 0.0045\\n\",","      \"Epoch 31/50\\n\",","      \"600/600 [==============================] - 44s 74ms/step - loss: 0.0049 - val_loss: 0.0042\\n\",","      \"Epoch 32/50\\n\",","      \"600/600 [==============================] - 41s 68ms/step - loss: 0.0049 - val_loss: 0.0043\\n\",","      \"Epoch 33/50\\n\",","      \"600/600 [==============================] - 44s 74ms/step - loss: 0.0048 - val_loss: 0.0048\\n\",","      \"Epoch 34/50\\n\",","      \"600/600 [==============================] - 44s 74ms/step - loss: 0.0048 - val_loss: 0.0043\\n\",","      \"Epoch 35/50\\n\",","      \"600/600 [==============================] - 45s 74ms/step - loss: 0.0048 - val_loss: 0.0043\\n\",","      \"Epoch 36/50\\n\",","      \"600/600 [==============================] - 47s 78ms/step - loss: 0.0048 - val_loss: 0.0043\\n\",","      \"Epoch 37/50\\n\",","      \"600/600 [==============================] - 54s 89ms/step - loss: 0.0047 - val_loss: 0.0043\\n\",","      \"Epoch 38/50\\n\",","      \"600/600 [==============================] - 43s 72ms/step - loss: 0.0048 - val_loss: 0.0046\\n\",","      \"Epoch 39/50\\n\",","      \"600/600 [==============================] - 44s 74ms/step - loss: 0.0047 - val_loss: 0.0043\\n\",","      \"Epoch 40/50\\n\",","      \"600/600 [==============================] - 43s 71ms/step - loss: 0.0047 - val_loss: 0.0043\\n\",","      \"Epoch 41/50\\n\",","      \"600/600 [==============================] - 26s 44ms/step - loss: 0.0046 - val_loss: 0.0043\\n\",","      \"Epoch 42/50\\n\",","      \"600/600 [==============================] - 42s 70ms/step - loss: 0.0047 - val_loss: 0.0042\\n\",","      \"Epoch 43/50\\n\",","      \"600/600 [==============================] - 44s 73ms/step - loss: 0.0046 - val_loss: 0.0044\\n\",","      \"Epoch 44/50\\n\",","      \"600/600 [==============================] - 44s 74ms/step - loss: 0.0046 - val_loss: 0.0045\\n\",","      \"Epoch 45/50\\n\",","      \"600/600 [==============================] - 44s 74ms/step - loss: 0.0047 - val_loss: 0.0042\\n\",","      \"Epoch 46/50\\n\",","      \"600/600 [==============================] - 44s 73ms/step - loss: 0.0046 - val_loss: 0.0044\\n\",","      \"Epoch 47/50\\n\",","      \"600/600 [==============================] - 35s 58ms/step - loss: 0.0046 - val_loss: 0.0041\\n\",","      \"Epoch 48/50\\n\",","      \"600/600 [==============================] - 39s 64ms/step - loss: 0.0046 - val_loss: 0.0042\\n\",","      \"Epoch 49/50\\n\",","      \"600/600 [==============================] - 44s 74ms/step - loss: 0.0045 - val_loss: 0.0042\\n\",","      \"Epoch 50/50\\n\",","      \"600/600 [==============================] - 44s 73ms/step - loss: 0.0045 - val_loss: 0.0045\\n\"","     ]","    }","   ],","   \"execution_count\": 436,","   \"source\": \"model.fit(X_train, y_train, epochs=35, batch_size=32, validation_split=0.2)\",","   \"id\": \"bf3c0091-23e6-4fc4-8cb1-d292d9d84ac4\"","  }"," ],"," \"metadata\": {","  \"kernelspec\": {","   \"display_name\": \"Python 3 (ipykernel)\",","   \"language\": \"python\",","   \"name\": \"python3\"","  },","  \"language_info\": {","   \"codemirror_mode\": {","    \"name\": \"ipython\",","    \"version\": 3","   },","   \"file_extension\": \".py\",","   \"mimetype\": \"text/x-python\",","   \"name\": \"python\",","   \"nbconvert_exporter\": \"python\",","   \"pygments_lexer\": \"ipython3\",","   \"version\": \"3.7.12\"","  }"," },"," \"nbformat\": 4,"," \"nbformat_minor\": 5","}"],"stylingDirectives":null,"colorizedLines":null,"csv":null,"csvError":null,"dependabotInfo":{"showConfigurationBanner":false,"configFilePath":null,"networkDependabotPath":"/SPARC-FAIR-Codeathon/2025-team-F/network/updates","dismissConfigurationNoticePath":"/settings/dismiss-notice/dependabot_configuration_notice","configurationNoticeDismissed":false},"displayName":"tf_LSTM_model.ipynb","displayUrl":"https://notebooks.githubusercontent.com/view/ipynb?browser=edge\u0026bypass_fastly=true\u0026color_mode=auto\u0026commit=a9b737d6605e940cecafeba1051dc57086168679\u0026device=unknown_device\u0026docs_host=https%3A%2F%2Fdocs.github.com\u0026enc_url=68747470733a2f2f7261772e67697468756275736572636f6e74656e742e636f6d2f53504152432d464149522d436f64656174686f6e2f323032352d7465616d2d462f613962373337643636303565393430636563616665626131303531646335373038363136383637392f6578616d706c65732f74665f4c53544d5f6d6f64656c2e6970796e62\u0026logged_in=true\u0026nwo=SPARC-FAIR-Codeathon%2F2025-team-F\u0026path=examples%2Ftf_LSTM_model.ipynb\u0026platform=windows\u0026repository_id=1028403411\u0026repository_type=Repository\u0026version=138","headerInfo":{"blobSize":"170 KB","deleteTooltip":"Delete this file","editTooltip":"Edit this file","ghDesktopPath":"x-github-client://openRepo/https://github.com/SPARC-FAIR-Codeathon/2025-team-F?branch=restructuring\u0026filepath=examples%2Ftf_LSTM_model.ipynb","isGitLfs":false,"onBranch":true,"shortPath":"5f4a560","siteNavLoginPath":"/login?return_to=https%3A%2F%2Fgithub.com%2FSPARC-FAIR-Codeathon%2F2025-team-F%2Fblob%2Frestructuring%2Fexamples%2Ftf_LSTM_model.ipynb","isCSV":false,"isRichtext":false,"toc":null,"lineInfo":{"truncatedLoc":"405","truncatedSloc":"405"},"mode":"file"},"image":false,"isCodeownersFile":null,"isPlain":false,"isValidLegacyIssueTemplate":false,"issueTemplate":null,"discussionTemplate":null,"language":"Jupyter Notebook","languageID":185,"large":false,"planSupportInfo":{"repoIsFork":null,"repoOwnedByCurrentUser":null,"requestFullPath":"/SPARC-FAIR-Codeathon/2025-team-F/blob/restructuring/examples/tf_LSTM_model.ipynb","showFreeOrgGatedFeatureMessage":null,"showPlanSupportBanner":null,"upgradeDataAttributes":null,"upgradePath":null},"publishBannersInfo":{"dismissActionNoticePath":"/settings/dismiss-notice/publish_action_from_dockerfile","releasePath":"/SPARC-FAIR-Codeathon/2025-team-F/releases/new?marketplace=true","showPublishActionBanner":false},"rawBlobUrl":"https://github.com/SPARC-FAIR-Codeathon/2025-team-F/raw/refs/heads/restructuring/examples/tf_LSTM_model.ipynb","renderImageOrRaw":false,"richText":null,"renderedFileInfo":{"identityUUID":"e8132c03-a48b-4c72-8762-b811f1ffc5f7","renderFileType":"ipynb","size":174137},"shortPath":null,"symbolsEnabled":true,"tabSize":8,"topBannersInfo":{"overridingGlobalFundingFile":false,"globalPreferredFundingPath":null,"showInvalidCitationWarning":false,"citationHelpUrl":"https://docs.github.com/github/creating-cloning-and-archiving-repositories/creating-a-repository-on-github/about-citation-files","actionsOnboardingTip":null},"truncated":false,"viewable":true,"workflowRedirectUrl":null,"symbols":{"timed_out":false,"not_analyzed":true,"symbols":[]}},"copilotInfo":null,"copilotAccessAllowed":true,"modelsAccessAllowed":false,"modelsRepoIntegrationEnabled":false,"isMarketplaceEnabled":true,"csrf_tokens":{"/SPARC-FAIR-Codeathon/2025-team-F/branches":{"post":"vmeEPddBmXBlydRwC2bt2Zcrc_24AvsWTvMnQBq4gVrS__PRl5Zk4NG0V7MlL893Bm0ZJrFuuPuZYUKE3X934w"},"/repos/preferences":{"post":"k-cospEBmzXFA9BDOM7ze6t7tbfA0a82rRS_pXwMwEfGS9ebjCSoq-CJUqgRd8RC7g2izcD-CUGESPag-RaYCQ"}}},"title":"2025-team-F/examples/tf_LSTM_model.ipynb at restructuring · SPARC-FAIR-Codeathon/2025-team-F","appPayload":{"helpUrl":"https://docs.github.com","findFileWorkerPath":"/assets-cdn/worker/find-file-worker-263cab1760dd.js","findInFileWorkerPath":"/assets-cdn/worker/find-in-file-worker-0b6f8702959e.js","githubDevUrl":"https://github.dev/","enabled_features":{"code_nav_ui_events":false,"react_blob_overlay":true,"accessible_code_button":true}}}</script>
  <div data-target="react-app.reactRoot"><style data-styled="true" data-styled-version="5.3.11">.gISSDQ{width:100%;}/*!sc*/
@media screen and (min-width:544px){.gISSDQ{width:100%;}}/*!sc*/
@media screen and (min-width:768px){.gISSDQ{width:auto;}}/*!sc*/
.birIjn{max-height:100%;height:100%;display:-webkit-box;display:-webkit-flex;display:-ms-flexbox;display:flex;-webkit-flex-direction:column;-ms-flex-direction:column;flex-direction:column;}/*!sc*/
@media screen and (max-width:768px){.birIjn{display:none;}}/*!sc*/
@media screen and (min-width:768px){.birIjn{max-height:100vh;height:100vh;}}/*!sc*/
.jfIeyl{display:-webkit-box;display:-webkit-flex;display:-ms-flexbox;display:flex;width:100%;margin-bottom:16px;-webkit-align-items:center;-webkit-box-align:center;-ms-flex-align:center;align-items:center;}/*!sc*/
.kOkWgo{font-size:16px;margin-left:8px;}/*!sc*/
.dPUXSa[data-size="medium"][data-no-visuals]{border-top-left-radius:0;border-bottom-left-radius:0;}/*!sc*/
@media screen and (max-width:768px){.jLLPHh{display:none;}}/*!sc*/
.bHLmSv{position:absolute;inset:0 -2px;cursor:col-resize;background-color:transparent;-webkit-transition-delay:0.1s;transition-delay:0.1s;}/*!sc*/
.bHLmSv:hover{background-color:var(--bgColor-neutral-muted,var(--color-neutral-muted,rgba(175,184,193,0.2)));}/*!sc*/
.leYMvG{margin-left:auto;margin-right:auto;-webkit-flex-direction:column;-ms-flex-direction:column;flex-direction:column;padding-bottom:40px;max-width:100%;margin-top:0;}/*!sc*/
.KMPzq{display:inherit;}/*!sc*/
.cEytCf{display:-webkit-box;display:-webkit-flex;display:-ms-flexbox;display:flex;-webkit-flex-direction:row;-ms-flex-direction:row;flex-direction:row;font-size:16px;min-width:0;-webkit-flex-shrink:1;-ms-flex-negative:1;flex-shrink:1;-webkit-flex-wrap:wrap;-ms-flex-wrap:wrap;flex-wrap:wrap;max-width:100%;-webkit-align-items:center;-webkit-box-align:center;-ms-flex-align:center;align-items:center;}/*!sc*/
.fzFXnm{max-width:100%;}/*!sc*/
.iMnkmv{max-width:100%;list-style:none;display:inline-block;}/*!sc*/
.ghzDag{display:inline-block;max-width:100%;}/*!sc*/
.kHuKdh{font-weight:600;}/*!sc*/
.hzJBof{padding-left:4px;padding-right:4px;font-weight:400;color:var(--fgColor-muted,var(--color-fg-muted,#656d76));font-size:16px;}/*!sc*/
.kgiVEz{font-weight:400;}/*!sc*/
.jGhzSQ{font-weight:600;display:inline-block;max-width:100%;font-size:16px;}/*!sc*/
.fjrFuv[data-size="medium"][data-no-visuals]{display:none;}/*!sc*/
.gUkoLg{-webkit-box-pack:center;-webkit-justify-content:center;-ms-flex-pack:center;justify-content:center;}/*!sc*/
.dJxjrT{margin-left:16px;margin-right:16px;}/*!sc*/
.ldRxiI{display:-webkit-box;display:-webkit-flex;display:-ms-flexbox;display:flex;-webkit-flex-direction:row;-ms-flex-direction:row;flex-direction:row;}/*!sc*/
.fVkfyA{width:100%;height:-webkit-fit-content;height:-moz-fit-content;height:fit-content;min-width:0;margin-right:0;}/*!sc*/
.gNAmSV{height:40px;padding-left:4px;padding-bottom:16px;}/*!sc*/
.jdLMhu{top:0px;z-index:4;background:var(--bgColor-default,var(--color-canvas-default));position:-webkit-sticky;position:sticky;}/*!sc*/
.hqwSEx{display:none;min-width:0;padding-top:8px;padding-bottom:8px;}/*!sc*/
.fHind{display:-webkit-box;display:-webkit-flex;display:-ms-flexbox;display:flex;-webkit-flex-direction:row;-ms-flex-direction:row;flex-direction:row;font-size:14px;min-width:0;-webkit-flex-shrink:1;-ms-flex-negative:1;flex-shrink:1;-webkit-flex-wrap:wrap;-ms-flex-wrap:wrap;flex-wrap:wrap;max-width:100%;-webkit-align-items:center;-webkit-box-align:center;-ms-flex-align:center;align-items:center;}/*!sc*/
.oDtgN{padding-left:4px;padding-right:4px;font-weight:400;color:var(--fgColor-muted,var(--color-fg-muted,#656d76));font-size:14px;}/*!sc*/
.dnZoUW{font-weight:600;display:inline-block;max-width:100%;font-size:14px;}/*!sc*/
.gFKFyc{border-radius:6px 6px 0px 0px;}/*!sc*/
.lefpaC linkButtonSx:hover:not([disabled]){-webkit-text-decoration:none;text-decoration:none;}/*!sc*/
.lefpaC linkButtonSx:focus:not([disabled]){-webkit-text-decoration:none;text-decoration:none;}/*!sc*/
.lefpaC linkButtonSx:active:not([disabled]){-webkit-text-decoration:none;text-decoration:none;}/*!sc*/
.ivobqY[data-size="small"][data-no-visuals]{border-top-left-radius:0;border-bottom-left-radius:0;}/*!sc*/
.iCOsHh[data-size="small"][data-no-visuals]:hover:not([disabled]){-webkit-text-decoration:none;text-decoration:none;}/*!sc*/
.iCOsHh[data-size="small"][data-no-visuals]:focus:not([disabled]){-webkit-text-decoration:none;text-decoration:none;}/*!sc*/
.iCOsHh[data-size="small"][data-no-visuals]:active:not([disabled]){-webkit-text-decoration:none;text-decoration:none;}/*!sc*/
.hGyMdv{border:1px solid;border-top:none;border-color:var(--borderColor-default,var(--color-border-default,#d0d7de));border-radius:0px 0px 6px 6px;min-width:273px;}/*!sc*/
.iWAocR{background-color:var(--bgColor-default,var(--color-canvas-default));border:0px;border-width:0;border-radius:0px 0px 6px 6px;padding:0;min-width:0;margin-top:46px;overflow:auto;}/*!sc*/
.cCoXib{position:fixed;top:0;right:0;height:100%;width:15px;-webkit-transition:-webkit-transform 0.3s;-webkit-transition:transform 0.3s;transition:transform 0.3s;z-index:1;}/*!sc*/
.cCoXib:hover{-webkit-transform:scaleX(1.5);-ms-transform:scaleX(1.5);transform:scaleX(1.5);}/*!sc*/
.fgsa-DI{display:-webkit-box;display:-webkit-flex;display:-ms-flexbox;display:flex;-webkit-flex-direction:column;-ms-flex-direction:column;flex-direction:column;-webkit-align-items:center;-webkit-box-align:center;-ms-flex-align:center;align-items:center;padding-top:16px;padding-bottom:16px;}/*!sc*/
data-styled.g1[id="Box-sc-g0xbh4-0"]{content:"gISSDQ,birIjn,jfIeyl,kOkWgo,dPUXSa,jLLPHh,bHLmSv,leYMvG,KMPzq,cEytCf,fzFXnm,iMnkmv,ghzDag,kHuKdh,hzJBof,kgiVEz,jGhzSQ,fjrFuv,gUkoLg,dJxjrT,ldRxiI,fVkfyA,gNAmSV,jdLMhu,hqwSEx,fHind,oDtgN,dnZoUW,gFKFyc,lefpaC,ivobqY,iCOsHh,hGyMdv,iWAocR,cCoXib,fgsa-DI,"}/*!sc*/
.hWlpPn{position:relative;display:inline-block;}/*!sc*/
.hWlpPn::after{position:absolute;z-index:1000000;display:none;padding:0.5em 0.75em;font:normal normal 11px/1.5 -apple-system,BlinkMacSystemFont,"Segoe UI","Noto Sans",Helvetica,Arial,sans-serif,"Apple Color Emoji","Segoe UI Emoji";-webkit-font-smoothing:subpixel-antialiased;color:var(--tooltip-fgColor,var(--fgColor-onEmphasis,var(--color-fg-on-emphasis,#ffffff)));text-align:center;-webkit-text-decoration:none;text-decoration:none;text-shadow:none;text-transform:none;-webkit-letter-spacing:normal;-moz-letter-spacing:normal;-ms-letter-spacing:normal;letter-spacing:normal;word-wrap:break-word;white-space:pre;pointer-events:none;content:attr(aria-label);background:var(--tooltip-bgColor,var(--bgColor-emphasis,var(--color-neutral-emphasis-plus,#24292f)));border-radius:6px;opacity:0;}/*!sc*/
@-webkit-keyframes tooltip-appear{from{opacity:0;}to{opacity:1;}}/*!sc*/
@keyframes tooltip-appear{from{opacity:0;}to{opacity:1;}}/*!sc*/
.hWlpPn:hover::after,.hWlpPn:active::after,.hWlpPn:focus::after,.hWlpPn:focus-within::after{display:inline-block;-webkit-text-decoration:none;text-decoration:none;-webkit-animation-name:tooltip-appear;animation-name:tooltip-appear;-webkit-animation-duration:0.1s;animation-duration:0.1s;-webkit-animation-fill-mode:forwards;animation-fill-mode:forwards;-webkit-animation-timing-function:ease-in;animation-timing-function:ease-in;-webkit-animation-delay:0s;animation-delay:0s;}/*!sc*/
.hWlpPn.tooltipped-no-delay:hover::after,.hWlpPn.tooltipped-no-delay:active::after,.hWlpPn.tooltipped-no-delay:focus::after,.hWlpPn.tooltipped-no-delay:focus-within::after{-webkit-animation-delay:0s;animation-delay:0s;}/*!sc*/
.hWlpPn.tooltipped-multiline:hover::after,.hWlpPn.tooltipped-multiline:active::after,.hWlpPn.tooltipped-multiline:focus::after,.hWlpPn.tooltipped-multiline:focus-within::after{display:table-cell;}/*!sc*/
.hWlpPn.tooltipped-s::after,.hWlpPn.tooltipped-se::after,.hWlpPn.tooltipped-sw::after{top:100%;right:50%;margin-top:6px;}/*!sc*/
.hWlpPn.tooltipped-se::after{right:auto;left:50%;margin-left:-16px;}/*!sc*/
.hWlpPn.tooltipped-sw::after{margin-right:-16px;}/*!sc*/
.hWlpPn.tooltipped-n::after,.hWlpPn.tooltipped-ne::after,.hWlpPn.tooltipped-nw::after{right:50%;bottom:100%;margin-bottom:6px;}/*!sc*/
.hWlpPn.tooltipped-ne::after{right:auto;left:50%;margin-left:-16px;}/*!sc*/
.hWlpPn.tooltipped-nw::after{margin-right:-16px;}/*!sc*/
.hWlpPn.tooltipped-s::after,.hWlpPn.tooltipped-n::after{-webkit-transform:translateX(50%);-ms-transform:translateX(50%);transform:translateX(50%);}/*!sc*/
.hWlpPn.tooltipped-w::after{right:100%;bottom:50%;margin-right:6px;-webkit-transform:translateY(50%);-ms-transform:translateY(50%);transform:translateY(50%);}/*!sc*/
.hWlpPn.tooltipped-e::after{bottom:50%;left:100%;margin-left:6px;-webkit-transform:translateY(50%);-ms-transform:translateY(50%);transform:translateY(50%);}/*!sc*/
.hWlpPn.tooltipped-multiline::after{width:-webkit-max-content;width:-moz-max-content;width:max-content;max-width:250px;word-wrap:break-word;white-space:pre-line;border-collapse:separate;}/*!sc*/
.hWlpPn.tooltipped-multiline.tooltipped-s::after,.hWlpPn.tooltipped-multiline.tooltipped-n::after{right:auto;left:50%;-webkit-transform:translateX(-50%);-ms-transform:translateX(-50%);transform:translateX(-50%);}/*!sc*/
.hWlpPn.tooltipped-multiline.tooltipped-w::after,.hWlpPn.tooltipped-multiline.tooltipped-e::after{right:100%;}/*!sc*/
.hWlpPn.tooltipped-align-right-2::after{right:0;margin-right:0;}/*!sc*/
.hWlpPn.tooltipped-align-left-2::after{left:0;margin-left:0;}/*!sc*/
data-styled.g4[id="Tooltip__TooltipBase-sc-17tf59c-0"]{content:"hWlpPn,"}/*!sc*/
</style><meta data-hydrostats="publish"/> <!-- --> <!-- --> <button hidden="" data-testid="header-permalink-button" data-hotkey-scope="read-only-cursor-text-area"></button><button hidden=""></button><div><div style="--spacing:var(--spacing-none)" class="prc-PageLayout-PageLayoutRoot-1zlEO"><div class="prc-PageLayout-PageLayoutWrapper-s2ao4" data-width="full"><div class="prc-PageLayout-PageLayoutContent-jzDMn"><div tabindex="0" class="Box-sc-g0xbh4-0 gISSDQ"><div class="prc-PageLayout-PaneWrapper-nGO0U ReposFileTreePane-module__Pane--wS7IV ReposFileTreePane-module__HidePaneWithTreeOverlay--fHI8k" style="--offset-header:0px;--spacing-row:var(--spacing-none);--spacing-column:var(--spacing-none)" data-is-hidden="false" data-position="start" data-sticky="true"><div class="prc-PageLayout-HorizontalDivider-CYLp5 prc-PageLayout-PaneHorizontalDivider-4exOb" data-variant="none" data-position="start" style="--spacing-divider:var(--spacing-none);--spacing:var(--spacing-none)"></div><div class="prc-PageLayout-Pane-Vl5LI" data-resizable="true" style="--spacing:var(--spacing-none);--pane-min-width:256px;--pane-max-width:calc(100vw - var(--pane-max-width-diff));--pane-width-size:var(--pane-width-large);--pane-width:320px"><div class="react-tree-pane-contents-3-panel"><div id="repos-file-tree" class="Box-sc-g0xbh4-0 birIjn"><div class="ReposFileTreePane-module__Box_1--Bz4Aw"><div class="Box-sc-g0xbh4-0 jfIeyl"><h2 class="use-tree-pane-module__Heading--DlnQ2 prc-Heading-Heading-6CmGO"><button type="button" aria-label="Expand file tree" data-testid="expand-file-tree-button-mobile" class="prc-Button-ButtonBase-c50BI ExpandFileTreeButton-module__Button_1--M2dXF" data-loading="false" data-size="medium" data-variant="invisible" aria-describedby=":Rl6mplab:-loading-announcement"><span data-component="buttonContent" data-align="center" class="prc-Button-ButtonContent-HKbr-"><span data-component="leadingVisual" class="prc-Button-Visual-2epfX prc-Button-VisualWrap-Db-eB"><svg aria-hidden="true" focusable="false" class="octicon octicon-arrow-left" viewBox="0 0 16 16" width="16" height="16" fill="currentColor" display="inline-block" overflow="visible" style="vertical-align:text-bottom"><path d="M7.78 12.53a.75.75 0 0 1-1.06 0L2.47 8.28a.75.75 0 0 1 0-1.06l4.25-4.25a.751.751 0 0 1 1.042.018.751.751 0 0 1 .018 1.042L4.81 7h7.44a.75.75 0 0 1 0 1.5H4.81l2.97 2.97a.75.75 0 0 1 0 1.06Z"></path></svg></span><span data-component="text" class="prc-Button-Label-pTQ3x">Files</span></span></button><button data-component="IconButton" type="button" data-testid="collapse-file-tree-button" aria-expanded="true" aria-controls="repos-file-tree" class="prc-Button-ButtonBase-c50BI position-relative ExpandFileTreeButton-module__expandButton--gL4is ExpandFileTreeButton-module__filesButtonBreakpoint--WfX9t fgColor-muted prc-Button-IconButton-szpyj" data-loading="false" data-no-visuals="true" data-size="medium" data-variant="invisible" aria-describedby=":R756mplab:-loading-announcement" aria-labelledby=":R156mplab:"><svg aria-hidden="true" focusable="false" class="octicon octicon-sidebar-expand" viewBox="0 0 16 16" width="16" height="16" fill="currentColor" display="inline-block" overflow="visible" style="vertical-align:text-bottom"><path d="m4.177 7.823 2.396-2.396A.25.25 0 0 1 7 5.604v4.792a.25.25 0 0 1-.427.177L4.177 8.177a.25.25 0 0 1 0-.354Z"></path><path d="M0 1.75C0 .784.784 0 1.75 0h12.5C15.216 0 16 .784 16 1.75v12.5A1.75 1.75 0 0 1 14.25 16H1.75A1.75 1.75 0 0 1 0 14.25Zm1.75-.25a.25.25 0 0 0-.25.25v12.5c0 .138.112.25.25.25H9.5v-13Zm12.5 13a.25.25 0 0 0 .25-.25V1.75a.25.25 0 0 0-.25-.25H11v13Z"></path></svg></button><span class="prc-TooltipV2-Tooltip-cYMVY" data-direction="se" aria-hidden="true" id=":R156mplab:">Collapse file tree</span><button hidden="" data-testid="" data-hotkey-scope="read-only-cursor-text-area"></button></h2><h2 class="Box-sc-g0xbh4-0 kOkWgo prc-Heading-Heading-6CmGO">Files</h2></div><div class="ReposFileTreePane-module__Box_2--uC_pl"><div class="ReposFileTreePane-module__Box_3--Tgoja"><button style="min-width:0" type="button" aria-haspopup="true" aria-expanded="false" tabindex="0" aria-label="restructuring branch" data-testid="anchor-button" class="prc-Button-ButtonBase-c50BI react-repos-tree-pane-ref-selector width-full ref-selector-class RefSelectorAnchoredOverlay-module__RefSelectorOverlayBtn--VlL0G" data-loading="false" data-size="medium" data-variant="default" aria-describedby="branch-picker-repos-header-ref-selector-loading-announcement" id="branch-picker-repos-header-ref-selector"><span data-component="buttonContent" data-align="center" class="prc-Button-ButtonContent-HKbr-"><span data-component="text" class="prc-Button-Label-pTQ3x"><div class="RefSelectorAnchoredOverlay-module__RefSelectorOverlayContainer--zopKZ"><div class="RefSelectorAnchoredOverlay-module__RefSelectorOverlayHeader--j083h"><svg aria-hidden="true" focusable="false" class="octicon octicon-git-branch" viewBox="0 0 16 16" width="16" height="16" fill="currentColor" display="inline-block" overflow="visible" style="vertical-align:text-bottom"><path d="M9.5 3.25a2.25 2.25 0 1 1 3 2.122V6A2.5 2.5 0 0 1 10 8.5H6a1 1 0 0 0-1 1v1.128a2.251 2.251 0 1 1-1.5 0V5.372a2.25 2.25 0 1 1 1.5 0v1.836A2.493 2.493 0 0 1 6 7h4a1 1 0 0 0 1-1v-.628A2.25 2.25 0 0 1 9.5 3.25Zm-6 0a.75.75 0 1 0 1.5 0 .75.75 0 0 0-1.5 0Zm8.25-.75a.75.75 0 1 0 0 1.5.75.75 0 0 0 0-1.5ZM4.25 12a.75.75 0 1 0 0 1.5.75.75 0 0 0 0-1.5Z"></path></svg></div><div class="ref-selector-button-text-container RefSelectorAnchoredOverlay-module__RefSelectorBtnTextContainer--k6jL0"><span class="RefSelectorAnchoredOverlay-module__RefSelectorText--A0p63"> <!-- -->restructuring</span></div></div></span><span data-component="trailingVisual" class="prc-Button-Visual-2epfX prc-Button-VisualWrap-Db-eB"><svg aria-hidden="true" focusable="false" class="octicon octicon-triangle-down" viewBox="0 0 16 16" width="16" height="16" fill="currentColor" display="inline-block" overflow="visible" style="vertical-align:text-bottom"><path d="m4.427 7.427 3.396 3.396a.25.25 0 0 0 .354 0l3.396-3.396A.25.25 0 0 0 11.396 7H4.604a.25.25 0 0 0-.177.427Z"></path></svg></span></span></button><button hidden="" data-hotkey-scope="read-only-cursor-text-area"></button></div><div class="ReposFileTreePane-module__Box_4--brBpx"><a data-component="IconButton" type="button" class="prc-Button-ButtonBase-c50BI ReposFileTreePane-module__IconButton--tNSTv prc-Button-IconButton-szpyj" data-loading="false" data-no-visuals="true" data-size="medium" data-variant="default" aria-describedby=":R6q6mplab:-loading-announcement" aria-labelledby=":Rq6mplab:" href="/SPARC-FAIR-Codeathon/2025-team-F/new/restructuring/examples" data-discover="true"><svg aria-hidden="true" focusable="false" class="octicon octicon-plus" viewBox="0 0 16 16" width="16" height="16" fill="currentColor" display="inline-block" overflow="visible" style="vertical-align:text-bottom"><path d="M7.75 2a.75.75 0 0 1 .75.75V7h4.25a.75.75 0 0 1 0 1.5H8.5v4.25a.75.75 0 0 1-1.5 0V8.5H2.75a.75.75 0 0 1 0-1.5H7V2.75A.75.75 0 0 1 7.75 2Z"></path></svg></a><span class="prc-TooltipV2-Tooltip-cYMVY" data-direction="n" aria-hidden="true" id=":Rq6mplab:">Add file</span><button data-component="IconButton" type="button" class="Box-sc-g0xbh4-0 dPUXSa prc-Button-ButtonBase-c50BI SearchButton-module__IconButton--LGy8b prc-Button-IconButton-szpyj" data-loading="false" data-no-visuals="true" data-size="medium" data-variant="default" aria-describedby=":Rra6mplab:-loading-announcement" aria-labelledby=":R3a6mplab:"><svg aria-hidden="true" focusable="false" class="octicon octicon-search" viewBox="0 0 16 16" width="16" height="16" fill="currentColor" display="inline-block" overflow="visible" style="vertical-align:text-bottom"><path d="M10.68 11.74a6 6 0 0 1-7.922-8.982 6 6 0 0 1 8.982 7.922l3.04 3.04a.749.749 0 0 1-.326 1.275.749.749 0 0 1-.734-.215ZM11.5 7a4.499 4.499 0 1 0-8.997 0A4.499 4.499 0 0 0 11.5 7Z"></path></svg></button><span class="prc-TooltipV2-Tooltip-cYMVY" data-direction="nw" aria-hidden="true" id=":R3a6mplab:">Search this repository</span><button hidden="" data-testid="" data-hotkey-scope="read-only-cursor-text-area"></button></div></div></div><div class="Box-sc-g0xbh4-0 jLLPHh ReposFileTreePane-module__FileResultsList--t38MI FileResultsList-module__Box_1--ZnWjQ"><span class="FileResultsList-module__FilesSearchBox--J5FtW FilesSearchBox-module__TextInput--LKpMn TextInput-wrapper prc-components-TextInputWrapper-i1ofR prc-components-TextInputBaseWrapper-ueK9q" data-leading-visual="true" data-trailing-visual="true" aria-busy="false"><span class="TextInput-icon" id=":R5amplab:" aria-hidden="true"><svg aria-hidden="true" focusable="false" class="octicon octicon-search" viewBox="0 0 16 16" width="16" height="16" fill="currentColor" display="inline-block" overflow="visible" style="vertical-align:text-bottom"><path d="M10.68 11.74a6 6 0 0 1-7.922-8.982 6 6 0 0 1 8.982 7.922l3.04 3.04a.749.749 0 0 1-.326 1.275.749.749 0 0 1-.734-.215ZM11.5 7a4.499 4.499 0 1 0-8.997 0A4.499 4.499 0 0 0 11.5 7Z"></path></svg></span><input type="text" aria-label="Go to file" role="combobox" aria-controls="file-results-list" aria-expanded="false" aria-haspopup="dialog" autoCorrect="off" spellcheck="false" placeholder="Go to file" aria-describedby=":R5amplab: :R5amplabH1:" data-component="input" class="prc-components-Input-Ic-y8" value=""/><span class="TextInput-icon" id=":R5amplabH1:" aria-hidden="true"><div class="FilesSearchBox-module__Box--Ye6rL"><kbd>t</kbd></div></span></span></div><button hidden="" data-testid="" data-hotkey-scope="read-only-cursor-text-area"></button><button hidden=""></button><div class="Box-sc-g0xbh4-0 jLLPHh ReposFileTreePane-module__Box_5--tQNH_"><div class="react-tree-show-tree-items"><div class="ReposFileTreeView-module__Box--V2jWA" data-testid="repos-file-tree-container"><nav aria-label="File Tree Navigation"><span class="prc-src-InternalVisuallyHidden-nlR9R" role="status" aria-live="polite" aria-atomic="true"></span><ul role="tree" aria-label="Files" data-truncate-text="true" class="prc-TreeView-TreeViewRootUlStyles-eZtxW"><li class="PRIVATE_TreeView-item prc-TreeView-TreeViewItem-ShJr0" tabindex="0" id="examples-item" role="treeitem" aria-labelledby=":R3pimplab:" aria-describedby=":R3pimplabH1:" aria-level="1" aria-expanded="true" aria-selected="false"><div class="PRIVATE_TreeView-item-container prc-TreeView-TreeViewItemContainer--2Rkn" style="--level:1;content-visibility:auto;contain-intrinsic-size:auto 2rem"><div style="grid-area:spacer;display:flex"><div style="width:100%;display:flex"></div></div><div class="PRIVATE_TreeView-item-toggle PRIVATE_TreeView-item-toggle--hover PRIVATE_TreeView-item-toggle--end prc-TreeView-TreeViewItemToggle-gWUdE prc-TreeView-TreeViewItemToggleHover-nEgP- prc-TreeView-TreeViewItemToggleEnd-t-AEB"><svg aria-hidden="true" focusable="false" class="octicon octicon-chevron-down" viewBox="0 0 12 12" width="12" height="12" fill="currentColor" display="inline-block" overflow="visible" style="vertical-align:text-bottom"><path d="M6 8.825c-.2 0-.4-.1-.5-.2l-3.3-3.3c-.3-.3-.3-.8 0-1.1.3-.3.8-.3 1.1 0l2.7 2.7 2.7-2.7c.3-.3.8-.3 1.1 0 .3.3.3.8 0 1.1l-3.2 3.2c-.2.2-.4.3-.6.3Z"></path></svg></div><div id=":R3pimplab:" class="PRIVATE_TreeView-item-content prc-TreeView-TreeViewItemContent-f0r0b"><div class="PRIVATE_VisuallyHidden prc-TreeView-TreeViewVisuallyHidden-4-mPv" aria-hidden="true" id=":R3pimplabH1:"></div><div class="PRIVATE_TreeView-item-visual prc-TreeView-TreeViewItemVisual-dRlGq" aria-hidden="true"><div class="PRIVATE_TreeView-directory-icon prc-TreeView-TreeViewDirectoryIcon-PHbeP"><svg aria-hidden="true" focusable="false" class="octicon octicon-file-directory-open-fill" viewBox="0 0 16 16" width="16" height="16" fill="currentColor" display="inline-block" overflow="visible" style="vertical-align:text-bottom"><path d="M.513 1.513A1.75 1.75 0 0 1 1.75 1h3.5c.55 0 1.07.26 1.4.7l.9 1.2a.25.25 0 0 0 .2.1H13a1 1 0 0 1 1 1v.5H2.75a.75.75 0 0 0 0 1.5h11.978a1 1 0 0 1 .994 1.117L15 13.25A1.75 1.75 0 0 1 13.25 15H1.75A1.75 1.75 0 0 1 0 13.25V2.75c0-.464.184-.91.513-1.237Z"></path></svg></div></div><span class="PRIVATE_TreeView-item-content-text prc-TreeView-TreeViewItemContentText-smZM-"><span>examples</span></span></div></div><ul role="group" style="list-style:none;padding:0;margin:0" aria-label=""><li class="PRIVATE_TreeView-item prc-TreeView-TreeViewItem-ShJr0" tabindex="0" id="examples/tf_LSTM_model.ipynb-item" role="treeitem" aria-labelledby=":R2mjpimplab:" aria-describedby=":R2mjpimplabH1:" aria-level="2" aria-current="true" aria-selected="false"><div class="PRIVATE_TreeView-item-container prc-TreeView-TreeViewItemContainer--2Rkn" style="--level:2"><div style="grid-area:spacer;display:flex"><div style="width:100%;display:flex"><div class="PRIVATE_TreeView-item-level-line prc-TreeView-TreeViewItemLevelLine-KPSSL"></div></div></div><div id=":R2mjpimplab:" class="PRIVATE_TreeView-item-content prc-TreeView-TreeViewItemContent-f0r0b"><div class="PRIVATE_VisuallyHidden prc-TreeView-TreeViewVisuallyHidden-4-mPv" aria-hidden="true" id=":R2mjpimplabH1:"></div><div class="PRIVATE_TreeView-item-visual prc-TreeView-TreeViewItemVisual-dRlGq" aria-hidden="true"><svg aria-hidden="true" focusable="false" class="octicon octicon-file" viewBox="0 0 16 16" width="16" height="16" fill="currentColor" display="inline-block" overflow="visible" style="vertical-align:text-bottom"><path d="M2 1.75C2 .784 2.784 0 3.75 0h6.586c.464 0 .909.184 1.237.513l2.914 2.914c.329.328.513.773.513 1.237v9.586A1.75 1.75 0 0 1 13.25 16h-9.5A1.75 1.75 0 0 1 2 14.25Zm1.75-.25a.25.25 0 0 0-.25.25v12.5c0 .138.112.25.25.25h9.5a.25.25 0 0 0 .25-.25V6h-2.75A1.75 1.75 0 0 1 9 4.25V1.5Zm6.75.062V4.25c0 .138.112.25.25.25h2.688l-.011-.013-2.914-2.914-.013-.011Z"></path></svg></div><span class="PRIVATE_TreeView-item-content-text prc-TreeView-TreeViewItemContentText-smZM-"><span>tf_LSTM_model.ipynb</span></span></div></div></li><li class="PRIVATE_TreeView-item prc-TreeView-TreeViewItem-ShJr0" tabindex="0" id="examples/tf_fine_tune_model.ipynb-item" role="treeitem" aria-labelledby=":R4mjpimplab:" aria-describedby=":R4mjpimplabH1:" aria-level="2" aria-selected="false"><div class="PRIVATE_TreeView-item-container prc-TreeView-TreeViewItemContainer--2Rkn" style="--level:2;content-visibility:auto;contain-intrinsic-size:auto 2rem"><div style="grid-area:spacer;display:flex"><div style="width:100%;display:flex"><div class="PRIVATE_TreeView-item-level-line prc-TreeView-TreeViewItemLevelLine-KPSSL"></div></div></div><div id=":R4mjpimplab:" class="PRIVATE_TreeView-item-content prc-TreeView-TreeViewItemContent-f0r0b"><div class="PRIVATE_VisuallyHidden prc-TreeView-TreeViewVisuallyHidden-4-mPv" aria-hidden="true" id=":R4mjpimplabH1:"></div><div class="PRIVATE_TreeView-item-visual prc-TreeView-TreeViewItemVisual-dRlGq" aria-hidden="true"><svg aria-hidden="true" focusable="false" class="octicon octicon-file" viewBox="0 0 16 16" width="16" height="16" fill="currentColor" display="inline-block" overflow="visible" style="vertical-align:text-bottom"><path d="M2 1.75C2 .784 2.784 0 3.75 0h6.586c.464 0 .909.184 1.237.513l2.914 2.914c.329.328.513.773.513 1.237v9.586A1.75 1.75 0 0 1 13.25 16h-9.5A1.75 1.75 0 0 1 2 14.25Zm1.75-.25a.25.25 0 0 0-.25.25v12.5c0 .138.112.25.25.25h9.5a.25.25 0 0 0 .25-.25V6h-2.75A1.75 1.75 0 0 1 9 4.25V1.5Zm6.75.062V4.25c0 .138.112.25.25.25h2.688l-.011-.013-2.914-2.914-.013-.011Z"></path></svg></div><span class="PRIVATE_TreeView-item-content-text prc-TreeView-TreeViewItemContentText-smZM-"><span>tf_fine_tune_model.ipynb</span></span></div></div></li><li class="PRIVATE_TreeView-item prc-TreeView-TreeViewItem-ShJr0" tabindex="0" id="examples/tf_pretrained_model.ipynb-item" role="treeitem" aria-labelledby=":R6mjpimplab:" aria-describedby=":R6mjpimplabH1:" aria-level="2" aria-selected="false"><div class="PRIVATE_TreeView-item-container prc-TreeView-TreeViewItemContainer--2Rkn" style="--level:2;content-visibility:auto;contain-intrinsic-size:auto 2rem"><div style="grid-area:spacer;display:flex"><div style="width:100%;display:flex"><div class="PRIVATE_TreeView-item-level-line prc-TreeView-TreeViewItemLevelLine-KPSSL"></div></div></div><div id=":R6mjpimplab:" class="PRIVATE_TreeView-item-content prc-TreeView-TreeViewItemContent-f0r0b"><div class="PRIVATE_VisuallyHidden prc-TreeView-TreeViewVisuallyHidden-4-mPv" aria-hidden="true" id=":R6mjpimplabH1:"></div><div class="PRIVATE_TreeView-item-visual prc-TreeView-TreeViewItemVisual-dRlGq" aria-hidden="true"><svg aria-hidden="true" focusable="false" class="octicon octicon-file" viewBox="0 0 16 16" width="16" height="16" fill="currentColor" display="inline-block" overflow="visible" style="vertical-align:text-bottom"><path d="M2 1.75C2 .784 2.784 0 3.75 0h6.586c.464 0 .909.184 1.237.513l2.914 2.914c.329.328.513.773.513 1.237v9.586A1.75 1.75 0 0 1 13.25 16h-9.5A1.75 1.75 0 0 1 2 14.25Zm1.75-.25a.25.25 0 0 0-.25.25v12.5c0 .138.112.25.25.25h9.5a.25.25 0 0 0 .25-.25V6h-2.75A1.75 1.75 0 0 1 9 4.25V1.5Zm6.75.062V4.25c0 .138.112.25.25.25h2.688l-.011-.013-2.914-2.914-.013-.011Z"></path></svg></div><span class="PRIVATE_TreeView-item-content-text prc-TreeView-TreeViewItemContentText-smZM-"><span>tf_pretrained_model.ipynb</span></span></div></div></li></ul></li><li class="PRIVATE_TreeView-item prc-TreeView-TreeViewItem-ShJr0" tabindex="0" id="res-item" role="treeitem" aria-labelledby=":R5pimplab:" aria-describedby=":R5pimplabH1:" aria-level="1" aria-expanded="false" aria-selected="false"><div class="PRIVATE_TreeView-item-container prc-TreeView-TreeViewItemContainer--2Rkn" style="--level:1;content-visibility:auto;contain-intrinsic-size:auto 2rem"><div style="grid-area:spacer;display:flex"><div style="width:100%;display:flex"></div></div><div class="PRIVATE_TreeView-item-toggle PRIVATE_TreeView-item-toggle--hover PRIVATE_TreeView-item-toggle--end prc-TreeView-TreeViewItemToggle-gWUdE prc-TreeView-TreeViewItemToggleHover-nEgP- prc-TreeView-TreeViewItemToggleEnd-t-AEB"><svg aria-hidden="true" focusable="false" class="octicon octicon-chevron-right" viewBox="0 0 12 12" width="12" height="12" fill="currentColor" display="inline-block" overflow="visible" style="vertical-align:text-bottom"><path d="M4.7 10c-.2 0-.4-.1-.5-.2-.3-.3-.3-.8 0-1.1L6.9 6 4.2 3.3c-.3-.3-.3-.8 0-1.1.3-.3.8-.3 1.1 0l3.3 3.2c.3.3.3.8 0 1.1L5.3 9.7c-.2.2-.4.3-.6.3Z"></path></svg></div><div id=":R5pimplab:" class="PRIVATE_TreeView-item-content prc-TreeView-TreeViewItemContent-f0r0b"><div class="PRIVATE_VisuallyHidden prc-TreeView-TreeViewVisuallyHidden-4-mPv" aria-hidden="true" id=":R5pimplabH1:"></div><div class="PRIVATE_TreeView-item-visual prc-TreeView-TreeViewItemVisual-dRlGq" aria-hidden="true"><div class="PRIVATE_TreeView-directory-icon prc-TreeView-TreeViewDirectoryIcon-PHbeP"><svg aria-hidden="true" focusable="false" class="octicon octicon-file-directory-fill" viewBox="0 0 16 16" width="16" height="16" fill="currentColor" display="inline-block" overflow="visible" style="vertical-align:text-bottom"><path d="M1.75 1A1.75 1.75 0 0 0 0 2.75v10.5C0 14.216.784 15 1.75 15h12.5A1.75 1.75 0 0 0 16 13.25v-8.5A1.75 1.75 0 0 0 14.25 3H7.5a.25.25 0 0 1-.2-.1l-.9-1.2C6.07 1.26 5.55 1 5 1H1.75Z"></path></svg></div></div><span class="PRIVATE_TreeView-item-content-text prc-TreeView-TreeViewItemContentText-smZM-"><span>res</span></span></div></div></li><li class="PRIVATE_TreeView-item prc-TreeView-TreeViewItem-ShJr0" tabindex="0" id="sparcats-item" role="treeitem" aria-labelledby=":R7pimplab:" aria-describedby=":R7pimplabH1:" aria-level="1" aria-expanded="false" aria-selected="false"><div class="PRIVATE_TreeView-item-container prc-TreeView-TreeViewItemContainer--2Rkn" style="--level:1;content-visibility:auto;contain-intrinsic-size:auto 2rem"><div style="grid-area:spacer;display:flex"><div style="width:100%;display:flex"></div></div><div class="PRIVATE_TreeView-item-toggle PRIVATE_TreeView-item-toggle--hover PRIVATE_TreeView-item-toggle--end prc-TreeView-TreeViewItemToggle-gWUdE prc-TreeView-TreeViewItemToggleHover-nEgP- prc-TreeView-TreeViewItemToggleEnd-t-AEB"><svg aria-hidden="true" focusable="false" class="octicon octicon-chevron-right" viewBox="0 0 12 12" width="12" height="12" fill="currentColor" display="inline-block" overflow="visible" style="vertical-align:text-bottom"><path d="M4.7 10c-.2 0-.4-.1-.5-.2-.3-.3-.3-.8 0-1.1L6.9 6 4.2 3.3c-.3-.3-.3-.8 0-1.1.3-.3.8-.3 1.1 0l3.3 3.2c.3.3.3.8 0 1.1L5.3 9.7c-.2.2-.4.3-.6.3Z"></path></svg></div><div id=":R7pimplab:" class="PRIVATE_TreeView-item-content prc-TreeView-TreeViewItemContent-f0r0b"><div class="PRIVATE_VisuallyHidden prc-TreeView-TreeViewVisuallyHidden-4-mPv" aria-hidden="true" id=":R7pimplabH1:"></div><div class="PRIVATE_TreeView-item-visual prc-TreeView-TreeViewItemVisual-dRlGq" aria-hidden="true"><div class="PRIVATE_TreeView-directory-icon prc-TreeView-TreeViewDirectoryIcon-PHbeP"><svg aria-hidden="true" focusable="false" class="octicon octicon-file-directory-fill" viewBox="0 0 16 16" width="16" height="16" fill="currentColor" display="inline-block" overflow="visible" style="vertical-align:text-bottom"><path d="M1.75 1A1.75 1.75 0 0 0 0 2.75v10.5C0 14.216.784 15 1.75 15h12.5A1.75 1.75 0 0 0 16 13.25v-8.5A1.75 1.75 0 0 0 14.25 3H7.5a.25.25 0 0 1-.2-.1l-.9-1.2C6.07 1.26 5.55 1 5 1H1.75Z"></path></svg></div></div><span class="PRIVATE_TreeView-item-content-text prc-TreeView-TreeViewItemContentText-smZM-"><span>sparcats</span></span></div></div></li><li class="PRIVATE_TreeView-item prc-TreeView-TreeViewItem-ShJr0" tabindex="0" id="tutorials-item" role="treeitem" aria-labelledby=":R9pimplab:" aria-describedby=":R9pimplabH1:" aria-level="1" aria-expanded="false" aria-selected="false"><div class="PRIVATE_TreeView-item-container prc-TreeView-TreeViewItemContainer--2Rkn" style="--level:1;content-visibility:auto;contain-intrinsic-size:auto 2rem"><div style="grid-area:spacer;display:flex"><div style="width:100%;display:flex"></div></div><div class="PRIVATE_TreeView-item-toggle PRIVATE_TreeView-item-toggle--hover PRIVATE_TreeView-item-toggle--end prc-TreeView-TreeViewItemToggle-gWUdE prc-TreeView-TreeViewItemToggleHover-nEgP- prc-TreeView-TreeViewItemToggleEnd-t-AEB"><svg aria-hidden="true" focusable="false" class="octicon octicon-chevron-right" viewBox="0 0 12 12" width="12" height="12" fill="currentColor" display="inline-block" overflow="visible" style="vertical-align:text-bottom"><path d="M4.7 10c-.2 0-.4-.1-.5-.2-.3-.3-.3-.8 0-1.1L6.9 6 4.2 3.3c-.3-.3-.3-.8 0-1.1.3-.3.8-.3 1.1 0l3.3 3.2c.3.3.3.8 0 1.1L5.3 9.7c-.2.2-.4.3-.6.3Z"></path></svg></div><div id=":R9pimplab:" class="PRIVATE_TreeView-item-content prc-TreeView-TreeViewItemContent-f0r0b"><div class="PRIVATE_VisuallyHidden prc-TreeView-TreeViewVisuallyHidden-4-mPv" aria-hidden="true" id=":R9pimplabH1:"></div><div class="PRIVATE_TreeView-item-visual prc-TreeView-TreeViewItemVisual-dRlGq" aria-hidden="true"><div class="PRIVATE_TreeView-directory-icon prc-TreeView-TreeViewDirectoryIcon-PHbeP"><svg aria-hidden="true" focusable="false" class="octicon octicon-file-directory-fill" viewBox="0 0 16 16" width="16" height="16" fill="currentColor" display="inline-block" overflow="visible" style="vertical-align:text-bottom"><path d="M1.75 1A1.75 1.75 0 0 0 0 2.75v10.5C0 14.216.784 15 1.75 15h12.5A1.75 1.75 0 0 0 16 13.25v-8.5A1.75 1.75 0 0 0 14.25 3H7.5a.25.25 0 0 1-.2-.1l-.9-1.2C6.07 1.26 5.55 1 5 1H1.75Z"></path></svg></div></div><span class="PRIVATE_TreeView-item-content-text prc-TreeView-TreeViewItemContentText-smZM-"><span>tutorials</span></span></div></div></li><li class="PRIVATE_TreeView-item prc-TreeView-TreeViewItem-ShJr0" tabindex="0" id="validation-item" role="treeitem" aria-labelledby=":Rbpimplab:" aria-describedby=":RbpimplabH1:" aria-level="1" aria-expanded="false" aria-selected="false"><div class="PRIVATE_TreeView-item-container prc-TreeView-TreeViewItemContainer--2Rkn" style="--level:1;content-visibility:auto;contain-intrinsic-size:auto 2rem"><div style="grid-area:spacer;display:flex"><div style="width:100%;display:flex"></div></div><div class="PRIVATE_TreeView-item-toggle PRIVATE_TreeView-item-toggle--hover PRIVATE_TreeView-item-toggle--end prc-TreeView-TreeViewItemToggle-gWUdE prc-TreeView-TreeViewItemToggleHover-nEgP- prc-TreeView-TreeViewItemToggleEnd-t-AEB"><svg aria-hidden="true" focusable="false" class="octicon octicon-chevron-right" viewBox="0 0 12 12" width="12" height="12" fill="currentColor" display="inline-block" overflow="visible" style="vertical-align:text-bottom"><path d="M4.7 10c-.2 0-.4-.1-.5-.2-.3-.3-.3-.8 0-1.1L6.9 6 4.2 3.3c-.3-.3-.3-.8 0-1.1.3-.3.8-.3 1.1 0l3.3 3.2c.3.3.3.8 0 1.1L5.3 9.7c-.2.2-.4.3-.6.3Z"></path></svg></div><div id=":Rbpimplab:" class="PRIVATE_TreeView-item-content prc-TreeView-TreeViewItemContent-f0r0b"><div class="PRIVATE_VisuallyHidden prc-TreeView-TreeViewVisuallyHidden-4-mPv" aria-hidden="true" id=":RbpimplabH1:"></div><div class="PRIVATE_TreeView-item-visual prc-TreeView-TreeViewItemVisual-dRlGq" aria-hidden="true"><div class="PRIVATE_TreeView-directory-icon prc-TreeView-TreeViewDirectoryIcon-PHbeP"><svg aria-hidden="true" focusable="false" class="octicon octicon-file-directory-fill" viewBox="0 0 16 16" width="16" height="16" fill="currentColor" display="inline-block" overflow="visible" style="vertical-align:text-bottom"><path d="M1.75 1A1.75 1.75 0 0 0 0 2.75v10.5C0 14.216.784 15 1.75 15h12.5A1.75 1.75 0 0 0 16 13.25v-8.5A1.75 1.75 0 0 0 14.25 3H7.5a.25.25 0 0 1-.2-.1l-.9-1.2C6.07 1.26 5.55 1 5 1H1.75Z"></path></svg></div></div><span class="PRIVATE_TreeView-item-content-text prc-TreeView-TreeViewItemContentText-smZM-"><span>validation</span></span></div></div></li><li class="PRIVATE_TreeView-item prc-TreeView-TreeViewItem-ShJr0" tabindex="0" id=".gitignore-item" role="treeitem" aria-labelledby=":Rdpimplab:" aria-describedby=":RdpimplabH1:" aria-level="1" aria-selected="false"><div class="PRIVATE_TreeView-item-container prc-TreeView-TreeViewItemContainer--2Rkn" style="--level:1;content-visibility:auto;contain-intrinsic-size:auto 2rem"><div style="grid-area:spacer;display:flex"><div style="width:100%;display:flex"></div></div><div id=":Rdpimplab:" class="PRIVATE_TreeView-item-content prc-TreeView-TreeViewItemContent-f0r0b"><div class="PRIVATE_VisuallyHidden prc-TreeView-TreeViewVisuallyHidden-4-mPv" aria-hidden="true" id=":RdpimplabH1:"></div><div class="PRIVATE_TreeView-item-visual prc-TreeView-TreeViewItemVisual-dRlGq" aria-hidden="true"><svg aria-hidden="true" focusable="false" class="octicon octicon-file" viewBox="0 0 16 16" width="16" height="16" fill="currentColor" display="inline-block" overflow="visible" style="vertical-align:text-bottom"><path d="M2 1.75C2 .784 2.784 0 3.75 0h6.586c.464 0 .909.184 1.237.513l2.914 2.914c.329.328.513.773.513 1.237v9.586A1.75 1.75 0 0 1 13.25 16h-9.5A1.75 1.75 0 0 1 2 14.25Zm1.75-.25a.25.25 0 0 0-.25.25v12.5c0 .138.112.25.25.25h9.5a.25.25 0 0 0 .25-.25V6h-2.75A1.75 1.75 0 0 1 9 4.25V1.5Zm6.75.062V4.25c0 .138.112.25.25.25h2.688l-.011-.013-2.914-2.914-.013-.011Z"></path></svg></div><span class="PRIVATE_TreeView-item-content-text prc-TreeView-TreeViewItemContentText-smZM-"><span>.gitignore</span></span></div></div></li><li class="PRIVATE_TreeView-item prc-TreeView-TreeViewItem-ShJr0" tabindex="0" id="README.md-item" role="treeitem" aria-labelledby=":Rfpimplab:" aria-describedby=":RfpimplabH1:" aria-level="1" aria-selected="false"><div class="PRIVATE_TreeView-item-container prc-TreeView-TreeViewItemContainer--2Rkn" style="--level:1;content-visibility:auto;contain-intrinsic-size:auto 2rem"><div style="grid-area:spacer;display:flex"><div style="width:100%;display:flex"></div></div><div id=":Rfpimplab:" class="PRIVATE_TreeView-item-content prc-TreeView-TreeViewItemContent-f0r0b"><div class="PRIVATE_VisuallyHidden prc-TreeView-TreeViewVisuallyHidden-4-mPv" aria-hidden="true" id=":RfpimplabH1:"></div><div class="PRIVATE_TreeView-item-visual prc-TreeView-TreeViewItemVisual-dRlGq" aria-hidden="true"><svg aria-hidden="true" focusable="false" class="octicon octicon-file" viewBox="0 0 16 16" width="16" height="16" fill="currentColor" display="inline-block" overflow="visible" style="vertical-align:text-bottom"><path d="M2 1.75C2 .784 2.784 0 3.75 0h6.586c.464 0 .909.184 1.237.513l2.914 2.914c.329.328.513.773.513 1.237v9.586A1.75 1.75 0 0 1 13.25 16h-9.5A1.75 1.75 0 0 1 2 14.25Zm1.75-.25a.25.25 0 0 0-.25.25v12.5c0 .138.112.25.25.25h9.5a.25.25 0 0 0 .25-.25V6h-2.75A1.75 1.75 0 0 1 9 4.25V1.5Zm6.75.062V4.25c0 .138.112.25.25.25h2.688l-.011-.013-2.914-2.914-.013-.011Z"></path></svg></div><span class="PRIVATE_TreeView-item-content-text prc-TreeView-TreeViewItemContentText-smZM-"><span>README.md</span></span></div></div></li></ul></nav></div></div></div></div></div></div><div class="prc-PageLayout-VerticalDivider-4A4Qm prc-PageLayout-PaneVerticalDivider-1c9vy" data-variant="none" data-position="start" style="--spacing:var(--spacing-none)"><div role="slider" aria-label="Draggable pane splitter" aria-valuemin="0" aria-valuemax="0" aria-valuenow="0" aria-valuetext="Pane width 0 pixels" tabindex="0" class="Box-sc-g0xbh4-0 bHLmSv"></div></div></div></div><div class="prc-PageLayout-ContentWrapper-b-QRo CodeView-module__SplitPageLayout_Content--qxR1C" data-is-hidden="false"><div class="prc-PageLayout-Content--F7-I" data-width="full" style="--spacing:var(--spacing-none)"><div data-selector="repos-split-pane-content" tabindex="0" class="Box-sc-g0xbh4-0 leYMvG"><div class="Box-sc-g0xbh4-0 KMPzq"><div class="container CodeViewHeader-module__Box--PofRM"><div class="px-3 pt-3 pb-0" id="StickyHeader"><div class="CodeViewHeader-module__Box_1--KpLzV"><div class="CodeViewHeader-module__Box_2--xzDOt"><div class="CodeViewHeader-module__Box_6--iStzT"><div class="Box-sc-g0xbh4-0 cEytCf"><nav data-testid="breadcrumbs" aria-labelledby="repos-header-breadcrumb--wide-heading" id="repos-header-breadcrumb--wide" class="Box-sc-g0xbh4-0 fzFXnm"><h2 class="sr-only ScreenReaderHeading-module__userSelectNone--vW4Cq prc-Heading-Heading-6CmGO" data-testid="screen-reader-heading" id="repos-header-breadcrumb--wide-heading">Breadcrumbs</h2><ol class="Box-sc-g0xbh4-0 iMnkmv"><li class="Box-sc-g0xbh4-0 ghzDag"><a class="Box-sc-g0xbh4-0 kHuKdh prc-Link-Link-85e08" sx="[object Object]" data-testid="breadcrumbs-repo-link" href="/SPARC-FAIR-Codeathon/2025-team-F/tree/restructuring" data-discover="true">2025-team-F</a></li><li class="Box-sc-g0xbh4-0 ghzDag"><span class="Box-sc-g0xbh4-0 hzJBof prc-Text-Text-0ima0" aria-hidden="true">/</span><a class="Box-sc-g0xbh4-0 kgiVEz prc-Link-Link-85e08" sx="[object Object]" href="/SPARC-FAIR-Codeathon/2025-team-F/tree/restructuring/examples" data-discover="true">examples</a></li></ol></nav><div data-testid="breadcrumbs-filename" class="Box-sc-g0xbh4-0 ghzDag"><span class="Box-sc-g0xbh4-0 hzJBof prc-Text-Text-0ima0" aria-hidden="true">/</span><h1 class="Box-sc-g0xbh4-0 jGhzSQ prc-Heading-Heading-6CmGO" tabindex="-1" id="file-name-id-wide">tf_LSTM_model.ipynb</h1></div><button data-component="IconButton" type="button" class="prc-Button-ButtonBase-c50BI ml-2 prc-Button-IconButton-szpyj" data-loading="false" data-no-visuals="true" data-size="small" data-variant="invisible" aria-describedby=":Rvb9lab:-loading-announcement" aria-labelledby=":R3b9lab:"><svg aria-hidden="true" focusable="false" class="octicon octicon-copy" viewBox="0 0 16 16" width="16" height="16" fill="currentColor" display="inline-block" overflow="visible" style="vertical-align:text-bottom"><path d="M0 6.75C0 5.784.784 5 1.75 5h1.5a.75.75 0 0 1 0 1.5h-1.5a.25.25 0 0 0-.25.25v7.5c0 .138.112.25.25.25h7.5a.25.25 0 0 0 .25-.25v-1.5a.75.75 0 0 1 1.5 0v1.5A1.75 1.75 0 0 1 9.25 16h-7.5A1.75 1.75 0 0 1 0 14.25Z"></path><path d="M5 1.75C5 .784 5.784 0 6.75 0h7.5C15.216 0 16 .784 16 1.75v7.5A1.75 1.75 0 0 1 14.25 11h-7.5A1.75 1.75 0 0 1 5 9.25Zm1.75-.25a.25.25 0 0 0-.25.25v7.5c0 .138.112.25.25.25h7.5a.25.25 0 0 0 .25-.25v-7.5a.25.25 0 0 0-.25-.25Z"></path></svg></button><span class="CopyToClipboardButton-module__tooltip--Dq1IB prc-TooltipV2-Tooltip-cYMVY" data-direction="nw" aria-label="Copy path" aria-hidden="true" id=":R3b9lab:">Copy path</span></div></div><div class="react-code-view-header-element--wide"><div class="CodeViewHeader-module__Box_7--FZfkg"><div class="d-flex gap-2"> <button type="button" class="Box-sc-g0xbh4-0 fjrFuv prc-Button-ButtonBase-c50BI NavigationMenu-module__Button--SJihq" data-loading="false" data-no-visuals="true" data-size="medium" data-variant="default" aria-describedby=":R1ahj9lab:-loading-announcement"><span data-component="buttonContent" class="Box-sc-g0xbh4-0 gUkoLg prc-Button-ButtonContent-HKbr-"><span data-component="text" class="prc-Button-Label-pTQ3x">Blame</span></span></button><button hidden="" data-testid="" data-hotkey-scope="read-only-cursor-text-area"></button><button data-component="IconButton" type="button" data-testid="more-file-actions-button-nav-menu-wide" aria-haspopup="true" aria-expanded="false" tabindex="0" class="prc-Button-ButtonBase-c50BI js-blob-dropdown-click NavigationMenu-module__IconButton--NqJ_L prc-Button-IconButton-szpyj" data-loading="false" data-no-visuals="true" data-size="medium" data-variant="default" aria-describedby=":Rihj9lab:-loading-announcement" aria-labelledby=":Rfihj9lab:" id=":Rihj9lab:"><svg aria-hidden="true" focusable="false" class="octicon octicon-kebab-horizontal" viewBox="0 0 16 16" width="16" height="16" fill="currentColor" display="inline-block" overflow="visible" style="vertical-align:text-bottom"><path d="M8 9a1.5 1.5 0 1 0 0-3 1.5 1.5 0 0 0 0 3ZM1.5 9a1.5 1.5 0 1 0 0-3 1.5 1.5 0 0 0 0 3Zm13 0a1.5 1.5 0 1 0 0-3 1.5 1.5 0 0 0 0 3Z"></path></svg></button><span class="prc-TooltipV2-Tooltip-cYMVY" data-direction="nw" aria-hidden="true" id=":Rfihj9lab:">More file actions</span> </div></div></div><div class="react-code-view-header-element--narrow"><div class="CodeViewHeader-module__Box_7--FZfkg"><div class="d-flex gap-2"> <button type="button" class="Box-sc-g0xbh4-0 fjrFuv prc-Button-ButtonBase-c50BI NavigationMenu-module__Button--SJihq" data-loading="false" data-no-visuals="true" data-size="medium" data-variant="default" aria-describedby=":R1ahr9lab:-loading-announcement"><span data-component="buttonContent" class="Box-sc-g0xbh4-0 gUkoLg prc-Button-ButtonContent-HKbr-"><span data-component="text" class="prc-Button-Label-pTQ3x">Blame</span></span></button><button hidden="" data-testid="" data-hotkey-scope="read-only-cursor-text-area"></button><button data-component="IconButton" type="button" data-testid="more-file-actions-button-nav-menu-narrow" aria-haspopup="true" aria-expanded="false" tabindex="0" class="prc-Button-ButtonBase-c50BI js-blob-dropdown-click NavigationMenu-module__IconButton--NqJ_L prc-Button-IconButton-szpyj" data-loading="false" data-no-visuals="true" data-size="medium" data-variant="default" aria-describedby=":Rihr9lab:-loading-announcement" aria-labelledby=":Rfihr9lab:" id=":Rihr9lab:"><svg aria-hidden="true" focusable="false" class="octicon octicon-kebab-horizontal" viewBox="0 0 16 16" width="16" height="16" fill="currentColor" display="inline-block" overflow="visible" style="vertical-align:text-bottom"><path d="M8 9a1.5 1.5 0 1 0 0-3 1.5 1.5 0 0 0 0 3ZM1.5 9a1.5 1.5 0 1 0 0-3 1.5 1.5 0 0 0 0 3Zm13 0a1.5 1.5 0 1 0 0-3 1.5 1.5 0 0 0 0 3Z"></path></svg></button><span class="prc-TooltipV2-Tooltip-cYMVY" data-direction="nw" aria-hidden="true" id=":Rfihr9lab:">More file actions</span> </div></div></div></div></div></div></div></div><div class="Box-sc-g0xbh4-0 dJxjrT react-code-view-bottom-padding"> <div class="BlobTopBanners-module__Box--g_bGk"></div> <!-- --> <!-- --> </div><div class="Box-sc-g0xbh4-0 dJxjrT"> <!-- --> <!-- --> <div class="d-flex flex-column border rounded-2 mb-3 pl-1"><div class="LatestCommit-module__Box--En0AE"><h2 class="sr-only ScreenReaderHeading-module__userSelectNone--vW4Cq prc-Heading-Heading-6CmGO" data-testid="screen-reader-heading">Latest commit</h2><div style="width:120px" class="Skeleton Skeleton--text" data-testid="loading"> </div><div class="d-flex flex-shrink-0 gap-2"><div data-testid="latest-commit-details" class="d-none d-sm-flex flex-items-center"></div><div class="d-flex gap-2"><h2 class="sr-only ScreenReaderHeading-module__userSelectNone--vW4Cq prc-Heading-Heading-6CmGO" data-testid="screen-reader-heading">History</h2><a href="/SPARC-FAIR-Codeathon/2025-team-F/commits/restructuring/examples/tf_LSTM_model.ipynb" class="prc-Button-ButtonBase-c50BI d-none d-lg-flex LinkButton-module__code-view-link-button--xvCGA flex-items-center fgColor-default" data-loading="false" data-size="small" data-variant="invisible" aria-describedby=":R1bdal9lab:-loading-announcement"><span data-component="buttonContent" data-align="center" class="prc-Button-ButtonContent-HKbr-"><span data-component="leadingVisual" class="prc-Button-Visual-2epfX prc-Button-VisualWrap-Db-eB"><svg aria-hidden="true" focusable="false" class="octicon octicon-history" viewBox="0 0 16 16" width="16" height="16" fill="currentColor" display="inline-block" overflow="visible" style="vertical-align:text-bottom"><path d="m.427 1.927 1.215 1.215a8.002 8.002 0 1 1-1.6 5.685.75.75 0 1 1 1.493-.154 6.5 6.5 0 1 0 1.18-4.458l1.358 1.358A.25.25 0 0 1 3.896 6H.25A.25.25 0 0 1 0 5.75V2.104a.25.25 0 0 1 .427-.177ZM7.75 4a.75.75 0 0 1 .75.75v2.992l2.028.812a.75.75 0 0 1-.557 1.392l-2.5-1A.751.751 0 0 1 7 8.25v-3.5A.75.75 0 0 1 7.75 4Z"></path></svg></span><span data-component="text" class="prc-Button-Label-pTQ3x"><span class="fgColor-default">History</span></span></span></a><div class="d-sm-none"></div><div class="d-flex d-lg-none"><span role="tooltip" aria-label="History" id="history-icon-button-tooltip" class="Tooltip__TooltipBase-sc-17tf59c-0 hWlpPn tooltipped-n"><a aria-label="View commit history for this file." href="/SPARC-FAIR-Codeathon/2025-team-F/commits/restructuring/examples/tf_LSTM_model.ipynb" class="prc-Button-ButtonBase-c50BI LinkButton-module__code-view-link-button--xvCGA flex-items-center fgColor-default" data-loading="false" data-size="small" data-variant="invisible" aria-describedby=":R6bdal9lab:-loading-announcement history-icon-button-tooltip"><span data-component="buttonContent" data-align="center" class="prc-Button-ButtonContent-HKbr-"><span data-component="leadingVisual" class="prc-Button-Visual-2epfX prc-Button-VisualWrap-Db-eB"><svg aria-hidden="true" focusable="false" class="octicon octicon-history" viewBox="0 0 16 16" width="16" height="16" fill="currentColor" display="inline-block" overflow="visible" style="vertical-align:text-bottom"><path d="m.427 1.927 1.215 1.215a8.002 8.002 0 1 1-1.6 5.685.75.75 0 1 1 1.493-.154 6.5 6.5 0 1 0 1.18-4.458l1.358 1.358A.25.25 0 0 1 3.896 6H.25A.25.25 0 0 1 0 5.75V2.104a.25.25 0 0 1 .427-.177ZM7.75 4a.75.75 0 0 1 .75.75v2.992l2.028.812a.75.75 0 0 1-.557 1.392l-2.5-1A.751.751 0 0 1 7 8.25v-3.5A.75.75 0 0 1 7.75 4Z"></path></svg></span></span></a></span></div></div></div></div></div><div class="Box-sc-g0xbh4-0 ldRxiI"><div class="Box-sc-g0xbh4-0 fVkfyA container"><div class="Box-sc-g0xbh4-0 gNAmSV react-code-size-details-banner"><div class="react-code-size-details-banner CodeSizeDetails-module__Box--QdxnQ"><div class="text-mono CodeSizeDetails-module__Box_1--_uFDs"><div data-testid="blob-size" class="CodeSizeDetails-module__Truncate_1--er0Uk prc-Truncate-Truncate-A9Wn6" data-inline="true" title="170 KB" style="--truncate-max-width:100%"><span>405 lines (405 loc) · 170 KB</span></div></div></div></div><div class="Box-sc-g0xbh4-0 jdLMhu react-blob-view-header-sticky" id="repos-sticky-header"><div class="BlobViewHeader-module__Box--pvsIA"><div class="react-blob-sticky-header"><div class="Box-sc-g0xbh4-0 hqwSEx"><div class="FileNameStickyHeader-module__Box_5--xBJ2J"><div class="Box-sc-g0xbh4-0 fHind"><nav data-testid="breadcrumbs" aria-labelledby="sticky-breadcrumb-heading" id="sticky-breadcrumb" class="Box-sc-g0xbh4-0 fzFXnm"><h2 class="sr-only ScreenReaderHeading-module__userSelectNone--vW4Cq prc-Heading-Heading-6CmGO" data-testid="screen-reader-heading" id="sticky-breadcrumb-heading">Breadcrumbs</h2><ol class="Box-sc-g0xbh4-0 iMnkmv"><li class="Box-sc-g0xbh4-0 ghzDag"><a class="Box-sc-g0xbh4-0 kHuKdh prc-Link-Link-85e08" sx="[object Object]" data-testid="breadcrumbs-repo-link" href="/SPARC-FAIR-Codeathon/2025-team-F/tree/restructuring" data-discover="true">2025-team-F</a></li><li class="Box-sc-g0xbh4-0 ghzDag"><span class="Box-sc-g0xbh4-0 oDtgN prc-Text-Text-0ima0" aria-hidden="true">/</span><a class="Box-sc-g0xbh4-0 kgiVEz prc-Link-Link-85e08" sx="[object Object]" href="/SPARC-FAIR-Codeathon/2025-team-F/tree/restructuring/examples" data-discover="true">examples</a></li></ol></nav><div data-testid="breadcrumbs-filename" class="Box-sc-g0xbh4-0 ghzDag"><span class="Box-sc-g0xbh4-0 oDtgN prc-Text-Text-0ima0" aria-hidden="true">/</span><h1 class="Box-sc-g0xbh4-0 dnZoUW prc-Heading-Heading-6CmGO" tabindex="-1" id="sticky-file-name-id">tf_LSTM_model.ipynb</h1></div></div><button type="button" class="prc-Button-ButtonBase-c50BI FileNameStickyHeader-module__Button--SaiiH FileNameStickyHeader-module__GoToTopButton--9lB4x" data-loading="false" data-size="small" data-variant="invisible" aria-describedby=":R4mfal9lab:-loading-announcement"><span data-component="buttonContent" data-align="center" class="prc-Button-ButtonContent-HKbr-"><span data-component="leadingVisual" class="prc-Button-Visual-2epfX prc-Button-VisualWrap-Db-eB"><svg aria-hidden="true" focusable="false" class="octicon octicon-arrow-up" viewBox="0 0 16 16" width="16" height="16" fill="currentColor" display="inline-block" overflow="visible" style="vertical-align:text-bottom"><path d="M3.47 7.78a.75.75 0 0 1 0-1.06l4.25-4.25a.75.75 0 0 1 1.06 0l4.25 4.25a.751.751 0 0 1-.018 1.042.751.751 0 0 1-1.042.018L9 4.81v7.44a.75.75 0 0 1-1.5 0V4.81L4.53 7.78a.75.75 0 0 1-1.06 0Z"></path></svg></span><span data-component="text" class="prc-Button-Label-pTQ3x">Top</span></span></button></div></div></div><div class="Box-sc-g0xbh4-0 gFKFyc BlobViewHeader-module__Box_1--PPihg"><h2 class="sr-only ScreenReaderHeading-module__userSelectNone--vW4Cq prc-Heading-Heading-6CmGO" data-testid="screen-reader-heading">File metadata and controls</h2><div class="BlobViewHeader-module__Box_2--G_jCG"><ul aria-label="File view" class="prc-SegmentedControl-SegmentedControl-e7570 BlobTabButtons-module__SegmentedControl--JMGov" data-size="small"><li class="prc-SegmentedControl-Item-7Aq6h" data-selected=""><button aria-current="true" class="prc-SegmentedControl-Button-ojWXD" type="button" style="--separator-color:transparent"><span class="prc-SegmentedControl-Content-gnQ4n segmentedControl-content"><div class="prc-SegmentedControl-Text-c5gSh segmentedControl-text" data-text="Preview">Preview</div></span></button></li><li class="prc-SegmentedControl-Item-7Aq6h"><button aria-current="false" class="prc-SegmentedControl-Button-ojWXD" type="button" style="--separator-color:var(--borderColor-default, var(--color-border-default, #d0d7de))"><span class="prc-SegmentedControl-Content-gnQ4n segmentedControl-content"><div class="prc-SegmentedControl-Text-c5gSh segmentedControl-text" data-text="Code">Code</div></span></button></li><li class="prc-SegmentedControl-Item-7Aq6h"><button aria-current="false" class="prc-SegmentedControl-Button-ojWXD" type="button" style="--separator-color:var(--borderColor-default, var(--color-border-default, #d0d7de))"><span class="prc-SegmentedControl-Content-gnQ4n segmentedControl-content"><div class="prc-SegmentedControl-Text-c5gSh segmentedControl-text" data-text="Blame">Blame</div></span></button></li></ul><button hidden="" data-testid="" data-hotkey-scope="read-only-cursor-text-area"></button><button hidden="" data-testid="" data-hotkey-scope="read-only-cursor-text-area"></button><button hidden="" data-testid="" data-hotkey-scope="read-only-cursor-text-area"></button><div class="react-code-size-details-in-header CodeSizeDetails-module__Box--QdxnQ"><div class="text-mono CodeSizeDetails-module__Box_1--_uFDs"><div data-testid="blob-size" class="CodeSizeDetails-module__Truncate_1--er0Uk prc-Truncate-Truncate-A9Wn6" data-inline="true" title="170 KB" style="--truncate-max-width:100%"><span>405 lines (405 loc) · 170 KB</span></div></div></div></div><div class="BlobViewHeader-module__Box_3--Kvpex"><div class="pr-0 prc-ButtonGroup-ButtonGroup-vcMeG"><div><button data-component="IconButton" type="button" data-testid="copilot-ask-menu" class="prc-Button-ButtonBase-c50BI AskCopilotButton-module__square--o8kDO prc-Button-IconButton-szpyj" data-loading="false" data-no-visuals="true" data-size="small" data-variant="default" aria-describedby="blob-view-header-copilot-icon-loading-announcement" aria-labelledby=":R2v6fal9lab:" id="blob-view-header-copilot-icon"><svg aria-hidden="true" focusable="false" class="octicon octicon-copilot" viewBox="0 0 16 16" width="16" height="16" fill="currentColor" display="inline-block" overflow="visible" style="vertical-align:text-bottom"><path d="M7.998 15.035c-4.562 0-7.873-2.914-7.998-3.749V9.338c.085-.628.677-1.686 1.588-2.065.013-.07.024-.143.036-.218.029-.183.06-.384.126-.612-.201-.508-.254-1.084-.254-1.656 0-.87.128-1.769.693-2.484.579-.733 1.494-1.124 2.724-1.261 1.206-.134 2.262.034 2.944.765.05.053.096.108.139.165.044-.057.094-.112.143-.165.682-.731 1.738-.899 2.944-.765 1.23.137 2.145.528 2.724 1.261.566.715.693 1.614.693 2.484 0 .572-.053 1.148-.254 1.656.066.228.098.429.126.612.012.076.024.148.037.218.924.385 1.522 1.471 1.591 2.095v1.872c0 .766-3.351 3.795-8.002 3.795Zm0-1.485c2.28 0 4.584-1.11 5.002-1.433V7.862l-.023-.116c-.49.21-1.075.291-1.727.291-1.146 0-2.059-.327-2.71-.991A3.222 3.222 0 0 1 8 6.303a3.24 3.24 0 0 1-.544.743c-.65.664-1.563.991-2.71.991-.652 0-1.236-.081-1.727-.291l-.023.116v4.255c.419.323 2.722 1.433 5.002 1.433ZM6.762 2.83c-.193-.206-.637-.413-1.682-.297-1.019.113-1.479.404-1.713.7-.247.312-.369.789-.369 1.554 0 .793.129 1.171.308 1.371.162.181.519.379 1.442.379.853 0 1.339-.235 1.638-.54.315-.322.527-.827.617-1.553.117-.935-.037-1.395-.241-1.614Zm4.155-.297c-1.044-.116-1.488.091-1.681.297-.204.219-.359.679-.242 1.614.091.726.303 1.231.618 1.553.299.305.784.54 1.638.54.922 0 1.28-.198 1.442-.379.179-.2.308-.578.308-1.371 0-.765-.123-1.242-.37-1.554-.233-.296-.693-.587-1.713-.7Z"></path><path d="M6.25 9.037a.75.75 0 0 1 .75.75v1.501a.75.75 0 0 1-1.5 0V9.787a.75.75 0 0 1 .75-.75Zm4.25.75v1.501a.75.75 0 0 1-1.5 0V9.787a.75.75 0 0 1 1.5 0Z"></path></svg></button><span class="prc-TooltipV2-Tooltip-cYMVY" data-direction="s" aria-hidden="true" id=":R2v6fal9lab:">Ask Copilot about this file</span></div><div></div></div><div class="react-blob-header-edit-and-raw-actions BlobViewHeader-module__Box_4--vFP89"><div class="prc-ButtonGroup-ButtonGroup-vcMeG"><div><a href="https://github.com/SPARC-FAIR-Codeathon/2025-team-F/raw/refs/heads/restructuring/examples/tf_LSTM_model.ipynb" data-testid="raw-button" class="Box-sc-g0xbh4-0 lefpaC prc-Button-ButtonBase-c50BI BlobViewHeader-module__LinkButton--DMph4" data-loading="false" data-no-visuals="true" data-size="small" data-variant="default" aria-describedby=":R1b76fal9lab:-loading-announcement"><span data-component="buttonContent" class="Box-sc-g0xbh4-0 gUkoLg prc-Button-ButtonContent-HKbr-"><span data-component="text" class="prc-Button-Label-pTQ3x">Raw</span></span></a></div><div><button data-component="IconButton" type="button" data-testid="copy-raw-button" class="prc-Button-ButtonBase-c50BI prc-Button-IconButton-szpyj" data-loading="false" data-no-visuals="true" data-size="small" data-variant="default" aria-describedby=":R1mb76fal9lab:-loading-announcement" aria-labelledby=":R6b76fal9lab:"><svg aria-hidden="true" focusable="false" class="octicon octicon-copy" viewBox="0 0 16 16" width="16" height="16" fill="currentColor" display="inline-block" overflow="visible" style="vertical-align:text-bottom"><path d="M0 6.75C0 5.784.784 5 1.75 5h1.5a.75.75 0 0 1 0 1.5h-1.5a.25.25 0 0 0-.25.25v7.5c0 .138.112.25.25.25h7.5a.25.25 0 0 0 .25-.25v-1.5a.75.75 0 0 1 1.5 0v1.5A1.75 1.75 0 0 1 9.25 16h-7.5A1.75 1.75 0 0 1 0 14.25Z"></path><path d="M5 1.75C5 .784 5.784 0 6.75 0h7.5C15.216 0 16 .784 16 1.75v7.5A1.75 1.75 0 0 1 14.25 11h-7.5A1.75 1.75 0 0 1 5 9.25Zm1.75-.25a.25.25 0 0 0-.25.25v7.5c0 .138.112.25.25.25h7.5a.25.25 0 0 0 .25-.25v-7.5a.25.25 0 0 0-.25-.25Z"></path></svg></button><span class="prc-TooltipV2-Tooltip-cYMVY" data-direction="n" aria-hidden="true" id=":R6b76fal9lab:">Copy raw file</span></div><div><button data-component="IconButton" type="button" data-testid="download-raw-button" class="Box-sc-g0xbh4-0 ivobqY prc-Button-ButtonBase-c50BI prc-Button-IconButton-szpyj" data-loading="false" data-no-visuals="true" data-size="small" data-variant="default" aria-describedby=":Rfb76fal9lab:-loading-announcement" aria-labelledby=":R3b76fal9lab:"><svg aria-hidden="true" focusable="false" class="octicon octicon-download" viewBox="0 0 16 16" width="16" height="16" fill="currentColor" display="inline-block" overflow="visible" style="vertical-align:text-bottom"><path d="M2.75 14A1.75 1.75 0 0 1 1 12.25v-2.5a.75.75 0 0 1 1.5 0v2.5c0 .138.112.25.25.25h10.5a.25.25 0 0 0 .25-.25v-2.5a.75.75 0 0 1 1.5 0v2.5A1.75 1.75 0 0 1 13.25 14Z"></path><path d="M7.25 7.689V2a.75.75 0 0 1 1.5 0v5.689l1.97-1.969a.749.749 0 1 1 1.06 1.06l-3.25 3.25a.749.749 0 0 1-1.06 0L4.22 6.78a.749.749 0 1 1 1.06-1.06l1.97 1.969Z"></path></svg></button><span class="prc-TooltipV2-Tooltip-cYMVY" data-direction="n" aria-hidden="true" id=":R3b76fal9lab:">Download raw file</span></div></div><button hidden="" data-testid="raw-button-shortcut" data-hotkey-scope="read-only-cursor-text-area"></button><button hidden="" data-testid="copy-raw-button-shortcut" data-hotkey-scope="read-only-cursor-text-area"></button><button hidden="" data-testid="download-raw-button-shortcut" data-hotkey-scope="read-only-cursor-text-area"></button><a class="js-github-dev-shortcut d-none prc-Link-Link-85e08" href="https://github.dev/"></a><button hidden="" data-testid="" data-hotkey-scope="read-only-cursor-text-area"></button><a class="js-github-dev-new-tab-shortcut d-none prc-Link-Link-85e08" href="https://github.dev/" target="_blank"></a><button hidden="" data-testid="" data-hotkey-scope="read-only-cursor-text-area"></button><div class="prc-ButtonGroup-ButtonGroup-vcMeG"><div><a sx="[object Object]" data-component="IconButton" type="button" data-testid="edit-button" class="Box-sc-g0xbh4-0 iCOsHh prc-Button-ButtonBase-c50BI BlobViewHeader-module__IconButton_1--MzNlL prc-Button-IconButton-szpyj" data-loading="false" data-no-visuals="true" data-size="small" data-variant="default" aria-describedby=":Rdl76fal9lab:-loading-announcement" aria-labelledby=":R1l76fal9lab:" href="/SPARC-FAIR-Codeathon/2025-team-F/edit/restructuring/examples/tf_LSTM_model.ipynb" data-discover="true"><svg aria-hidden="true" focusable="false" class="octicon octicon-pencil" viewBox="0 0 16 16" width="16" height="16" fill="currentColor" display="inline-block" overflow="visible" style="vertical-align:text-bottom"><path d="M11.013 1.427a1.75 1.75 0 0 1 2.474 0l1.086 1.086a1.75 1.75 0 0 1 0 2.474l-8.61 8.61c-.21.21-.47.364-.756.445l-3.251.93a.75.75 0 0 1-.927-.928l.929-3.25c.081-.286.235-.547.445-.758l8.61-8.61Zm.176 4.823L9.75 4.81l-6.286 6.287a.253.253 0 0 0-.064.108l-.558 1.953 1.953-.558a.253.253 0 0 0 .108-.064Zm1.238-3.763a.25.25 0 0 0-.354 0L10.811 3.75l1.439 1.44 1.263-1.263a.25.25 0 0 0 0-.354Z"></path></svg></a><span class="prc-TooltipV2-Tooltip-cYMVY" data-direction="nw" aria-hidden="true" id=":R1l76fal9lab:">Edit this file</span></div><div><button data-component="IconButton" type="button" data-testid="more-edit-button" aria-haspopup="true" aria-expanded="false" tabindex="0" class="prc-Button-ButtonBase-c50BI prc-Button-IconButton-szpyj" data-loading="false" data-no-visuals="true" data-size="small" data-variant="default" aria-describedby=":R2l76fal9lab:-loading-announcement" aria-labelledby=":R1ul76fal9lab:" id=":R2l76fal9lab:"><svg aria-hidden="true" focusable="false" class="octicon octicon-triangle-down" viewBox="0 0 16 16" width="16" height="16" fill="currentColor" display="inline-block" overflow="visible" style="vertical-align:text-bottom"><path d="m4.427 7.427 3.396 3.396a.25.25 0 0 0 .354 0l3.396-3.396A.25.25 0 0 0 11.396 7H4.604a.25.25 0 0 0-.177.427Z"></path></svg></button><span class="prc-TooltipV2-Tooltip-cYMVY" data-direction="nw" aria-hidden="true" id=":R1ul76fal9lab:">More edit options</span></div></div><button hidden="" data-testid="" data-hotkey="e,Shift+E" data-hotkey-scope="read-only-cursor-text-area"></button></div><div class="react-blob-header-edit-and-raw-actions-combined"><button data-component="IconButton" type="button" title="More file actions" data-testid="more-file-actions-button" aria-haspopup="true" aria-expanded="false" tabindex="0" class="prc-Button-ButtonBase-c50BI js-blob-dropdown-click BlobViewHeader-module__IconButton--uO1fA prc-Button-IconButton-szpyj" data-loading="false" data-no-visuals="true" data-size="small" data-variant="invisible" aria-describedby=":R5v6fal9lab:-loading-announcement" aria-labelledby=":R3tv6fal9lab:" id=":R5v6fal9lab:"><svg aria-hidden="true" focusable="false" class="octicon octicon-kebab-horizontal" viewBox="0 0 16 16" width="16" height="16" fill="currentColor" display="inline-block" overflow="visible" style="vertical-align:text-bottom"><path d="M8 9a1.5 1.5 0 1 0 0-3 1.5 1.5 0 0 0 0 3ZM1.5 9a1.5 1.5 0 1 0 0-3 1.5 1.5 0 0 0 0 3Zm13 0a1.5 1.5 0 1 0 0-3 1.5 1.5 0 0 0 0 3Z"></path></svg></button><span class="prc-TooltipV2-Tooltip-cYMVY" data-direction="nw" aria-hidden="true" id=":R3tv6fal9lab:">Edit and raw actions</span></div></div></div></div><div></div></div><div class="Box-sc-g0xbh4-0 hGyMdv"><section aria-labelledby="file-name-id-wide file-name-id-mobile" class="Box-sc-g0xbh4-0 iWAocR"><!--$!--><template></template><div class="Box-sc-g0xbh4-0 fgsa-DI"><span class="prc-Spinner-Box-qNUI9"><svg height="32px" width="32px" viewBox="0 0 16 16" fill="none" aria-hidden="true" aria-label="Loading" class="prc-Spinner-SpinnerAnimation-e7Gf-"><circle cx="8" cy="8" r="7" stroke="currentColor" stroke-opacity="0.25" stroke-width="2" vector-effect="non-scaling-stroke"></circle><path d="M15 8a7.002 7.002 0 00-7-7" stroke="currentColor" stroke-width="2" stroke-linecap="round" vector-effect="non-scaling-stroke"></path></svg></span></div><!--/$--></section></div></div></div> <!-- --> <!-- --> </div></div></div></div></div></div></div><div id="find-result-marks-container" class="Box-sc-g0xbh4-0 cCoXib"></div><button hidden="" data-testid="" data-hotkey-scope="read-only-cursor-text-area"></button><button hidden=""></button></div> <!-- --> <!-- --> <script type="application/json" id="__PRIMER_DATA_:R0:__">{"resolvedServerColorMode":"day"}</script></div>
</react-app>
</turbo-frame>



  </div>

</turbo-frame>

    </main>
  </div>

  </div>

          <footer class="footer pt-8 pb-6 f6 color-fg-muted p-responsive" role="contentinfo" >
  <h2 class='sr-only'>Footer</h2>

  


  <div class="d-flex flex-justify-center flex-items-center flex-column-reverse flex-lg-row flex-wrap flex-lg-nowrap">
    <div class="d-flex flex-items-center flex-shrink-0 mx-2">
      <a aria-label="GitHub Homepage" class="footer-octicon mr-2" href="https://github.com">
        <svg aria-hidden="true" height="24" viewBox="0 0 24 24" version="1.1" width="24" data-view-component="true" class="octicon octicon-mark-github">
    <path d="M12 1C5.923 1 1 5.923 1 12c0 4.867 3.149 8.979 7.521 10.436.55.096.756-.233.756-.522 0-.262-.013-1.128-.013-2.049-2.764.509-3.479-.674-3.699-1.292-.124-.317-.66-1.293-1.127-1.554-.385-.207-.936-.715-.014-.729.866-.014 1.485.797 1.691 1.128.99 1.663 2.571 1.196 3.204.907.096-.715.385-1.196.701-1.471-2.448-.275-5.005-1.224-5.005-5.432 0-1.196.426-2.186 1.128-2.956-.111-.275-.496-1.402.11-2.915 0 0 .921-.288 3.024 1.128a10.193 10.193 0 0 1 2.75-.371c.936 0 1.871.123 2.75.371 2.104-1.43 3.025-1.128 3.025-1.128.605 1.513.221 2.64.111 2.915.701.77 1.127 1.747 1.127 2.956 0 4.222-2.571 5.157-5.019 5.432.399.344.743 1.004.743 2.035 0 1.471-.014 2.654-.014 3.025 0 .289.206.632.756.522C19.851 20.979 23 16.854 23 12c0-6.077-4.922-11-11-11Z"></path>
</svg>
</a>
      <span>
        &copy; 2025 GitHub,&nbsp;Inc.
      </span>
    </div>

    <nav aria-label="Footer">
      <h3 class="sr-only" id="sr-footer-heading">Footer navigation</h3>

      <ul class="list-style-none d-flex flex-justify-center flex-wrap mb-2 mb-lg-0" aria-labelledby="sr-footer-heading">

          <li class="mx-2">
            <a data-analytics-event="{&quot;category&quot;:&quot;Footer&quot;,&quot;action&quot;:&quot;go to Terms&quot;,&quot;label&quot;:&quot;text:terms&quot;}" href="https://docs.github.com/site-policy/github-terms/github-terms-of-service" data-view-component="true" class="Link--secondary Link">Terms</a>
          </li>

          <li class="mx-2">
            <a data-analytics-event="{&quot;category&quot;:&quot;Footer&quot;,&quot;action&quot;:&quot;go to privacy&quot;,&quot;label&quot;:&quot;text:privacy&quot;}" href="https://docs.github.com/site-policy/privacy-policies/github-privacy-statement" data-view-component="true" class="Link--secondary Link">Privacy</a>
          </li>

          <li class="mx-2">
            <a data-analytics-event="{&quot;category&quot;:&quot;Footer&quot;,&quot;action&quot;:&quot;go to security&quot;,&quot;label&quot;:&quot;text:security&quot;}" href="https://github.com/security" data-view-component="true" class="Link--secondary Link">Security</a>
          </li>

          <li class="mx-2">
            <a data-analytics-event="{&quot;category&quot;:&quot;Footer&quot;,&quot;action&quot;:&quot;go to status&quot;,&quot;label&quot;:&quot;text:status&quot;}" href="https://www.githubstatus.com/" data-view-component="true" class="Link--secondary Link">Status</a>
          </li>

          <li class="mx-2">
            <a data-analytics-event="{&quot;category&quot;:&quot;Footer&quot;,&quot;action&quot;:&quot;go to docs&quot;,&quot;label&quot;:&quot;text:docs&quot;}" href="https://docs.github.com/" data-view-component="true" class="Link--secondary Link">Docs</a>
          </li>

          <li class="mx-2">
            <a data-analytics-event="{&quot;category&quot;:&quot;Footer&quot;,&quot;action&quot;:&quot;go to contact&quot;,&quot;label&quot;:&quot;text:contact&quot;}" href="https://support.github.com?tags=dotcom-footer" data-view-component="true" class="Link--secondary Link">Contact</a>
          </li>

          <li class="mx-2" >
  <cookie-consent-link>
    <button
      type="button"
      class="Link--secondary underline-on-hover border-0 p-0 color-bg-transparent"
      data-action="click:cookie-consent-link#showConsentManagement"
      data-analytics-event="{&quot;location&quot;:&quot;footer&quot;,&quot;action&quot;:&quot;cookies&quot;,&quot;context&quot;:&quot;subfooter&quot;,&quot;tag&quot;:&quot;link&quot;,&quot;label&quot;:&quot;cookies_link_subfooter_footer&quot;}"
    >
       Manage cookies
    </button>
  </cookie-consent-link>
</li>

<li class="mx-2">
  <cookie-consent-link>
    <button
      type="button"
      class="Link--secondary underline-on-hover border-0 p-0 color-bg-transparent text-left"
      data-action="click:cookie-consent-link#showConsentManagement"
      data-analytics-event="{&quot;location&quot;:&quot;footer&quot;,&quot;action&quot;:&quot;dont_share_info&quot;,&quot;context&quot;:&quot;subfooter&quot;,&quot;tag&quot;:&quot;link&quot;,&quot;label&quot;:&quot;dont_share_info_link_subfooter_footer&quot;}"
    >
      Do not share my personal information
    </button>
  </cookie-consent-link>
</li>

      </ul>
    </nav>
  </div>
</footer>



    <ghcc-consent id="ghcc" class="position-fixed bottom-0 left-0" style="z-index: 999999"
      data-locale="en"
      data-initial-cookie-consent-allowed=""
      data-cookie-consent-required="false"
    ></ghcc-consent>



  <div id="ajax-error-message" class="ajax-error-message flash flash-error" hidden>
    <svg aria-hidden="true" height="16" viewBox="0 0 16 16" version="1.1" width="16" data-view-component="true" class="octicon octicon-alert">
    <path d="M6.457 1.047c.659-1.234 2.427-1.234 3.086 0l6.082 11.378A1.75 1.75 0 0 1 14.082 15H1.918a1.75 1.75 0 0 1-1.543-2.575Zm1.763.707a.25.25 0 0 0-.44 0L1.698 13.132a.25.25 0 0 0 .22.368h12.164a.25.25 0 0 0 .22-.368Zm.53 3.996v2.5a.75.75 0 0 1-1.5 0v-2.5a.75.75 0 0 1 1.5 0ZM9 11a1 1 0 1 1-2 0 1 1 0 0 1 2 0Z"></path>
</svg>
    <button type="button" class="flash-close js-ajax-error-dismiss" aria-label="Dismiss error">
      <svg aria-hidden="true" height="16" viewBox="0 0 16 16" version="1.1" width="16" data-view-component="true" class="octicon octicon-x">
    <path d="M3.72 3.72a.75.75 0 0 1 1.06 0L8 6.94l3.22-3.22a.749.749 0 0 1 1.275.326.749.749 0 0 1-.215.734L9.06 8l3.22 3.22a.749.749 0 0 1-.326 1.275.749.749 0 0 1-.734-.215L8 9.06l-3.22 3.22a.751.751 0 0 1-1.042-.018.751.751 0 0 1-.018-1.042L6.94 8 3.72 4.78a.75.75 0 0 1 0-1.06Z"></path>
</svg>
    </button>
    You can’t perform that action at this time.
  </div>

    <template id="site-details-dialog">
  <details class="details-reset details-overlay details-overlay-dark lh-default color-fg-default hx_rsm" open>
    <summary role="button" aria-label="Close dialog"></summary>
    <details-dialog class="Box Box--overlay d-flex flex-column anim-fade-in fast hx_rsm-dialog hx_rsm-modal">
      <button class="Box-btn-octicon m-0 btn-octicon position-absolute right-0 top-0" type="button" aria-label="Close dialog" data-close-dialog>
        <svg aria-hidden="true" height="16" viewBox="0 0 16 16" version="1.1" width="16" data-view-component="true" class="octicon octicon-x">
    <path d="M3.72 3.72a.75.75 0 0 1 1.06 0L8 6.94l3.22-3.22a.749.749 0 0 1 1.275.326.749.749 0 0 1-.215.734L9.06 8l3.22 3.22a.749.749 0 0 1-.326 1.275.749.749 0 0 1-.734-.215L8 9.06l-3.22 3.22a.751.751 0 0 1-1.042-.018.751.751 0 0 1-.018-1.042L6.94 8 3.72 4.78a.75.75 0 0 1 0-1.06Z"></path>
</svg>
      </button>
      <div class="octocat-spinner my-6 js-details-dialog-spinner"></div>
    </details-dialog>
  </details>
</template>

    <div class="Popover js-hovercard-content position-absolute" style="display: none; outline: none;">
  <div class="Popover-message Popover-message--bottom-left Popover-message--large Box color-shadow-large" style="width:360px;">
  </div>
</div>

    <template id="snippet-clipboard-copy-button">
  <div class="zeroclipboard-container position-absolute right-0 top-0">
    <clipboard-copy aria-label="Copy" class="ClipboardButton btn js-clipboard-copy m-2 p-0" data-copy-feedback="Copied!" data-tooltip-direction="w">
      <svg aria-hidden="true" height="16" viewBox="0 0 16 16" version="1.1" width="16" data-view-component="true" class="octicon octicon-copy js-clipboard-copy-icon m-2">
    <path d="M0 6.75C0 5.784.784 5 1.75 5h1.5a.75.75 0 0 1 0 1.5h-1.5a.25.25 0 0 0-.25.25v7.5c0 .138.112.25.25.25h7.5a.25.25 0 0 0 .25-.25v-1.5a.75.75 0 0 1 1.5 0v1.5A1.75 1.75 0 0 1 9.25 16h-7.5A1.75 1.75 0 0 1 0 14.25Z"></path><path d="M5 1.75C5 .784 5.784 0 6.75 0h7.5C15.216 0 16 .784 16 1.75v7.5A1.75 1.75 0 0 1 14.25 11h-7.5A1.75 1.75 0 0 1 5 9.25Zm1.75-.25a.25.25 0 0 0-.25.25v7.5c0 .138.112.25.25.25h7.5a.25.25 0 0 0 .25-.25v-7.5a.25.25 0 0 0-.25-.25Z"></path>
</svg>
      <svg aria-hidden="true" height="16" viewBox="0 0 16 16" version="1.1" width="16" data-view-component="true" class="octicon octicon-check js-clipboard-check-icon color-fg-success d-none m-2">
    <path d="M13.78 4.22a.75.75 0 0 1 0 1.06l-7.25 7.25a.75.75 0 0 1-1.06 0L2.22 9.28a.751.751 0 0 1 .018-1.042.751.751 0 0 1 1.042-.018L6 10.94l6.72-6.72a.75.75 0 0 1 1.06 0Z"></path>
</svg>
    </clipboard-copy>
  </div>
</template>
<template id="snippet-clipboard-copy-button-unpositioned">
  <div class="zeroclipboard-container">
    <clipboard-copy aria-label="Copy" class="ClipboardButton btn btn-invisible js-clipboard-copy m-2 p-0 d-flex flex-justify-center flex-items-center" data-copy-feedback="Copied!" data-tooltip-direction="w">
      <svg aria-hidden="true" height="16" viewBox="0 0 16 16" version="1.1" width="16" data-view-component="true" class="octicon octicon-copy js-clipboard-copy-icon">
    <path d="M0 6.75C0 5.784.784 5 1.75 5h1.5a.75.75 0 0 1 0 1.5h-1.5a.25.25 0 0 0-.25.25v7.5c0 .138.112.25.25.25h7.5a.25.25 0 0 0 .25-.25v-1.5a.75.75 0 0 1 1.5 0v1.5A1.75 1.75 0 0 1 9.25 16h-7.5A1.75 1.75 0 0 1 0 14.25Z"></path><path d="M5 1.75C5 .784 5.784 0 6.75 0h7.5C15.216 0 16 .784 16 1.75v7.5A1.75 1.75 0 0 1 14.25 11h-7.5A1.75 1.75 0 0 1 5 9.25Zm1.75-.25a.25.25 0 0 0-.25.25v7.5c0 .138.112.25.25.25h7.5a.25.25 0 0 0 .25-.25v-7.5a.25.25 0 0 0-.25-.25Z"></path>
</svg>
      <svg aria-hidden="true" height="16" viewBox="0 0 16 16" version="1.1" width="16" data-view-component="true" class="octicon octicon-check js-clipboard-check-icon color-fg-success d-none">
    <path d="M13.78 4.22a.75.75 0 0 1 0 1.06l-7.25 7.25a.75.75 0 0 1-1.06 0L2.22 9.28a.751.751 0 0 1 .018-1.042.751.751 0 0 1 1.042-.018L6 10.94l6.72-6.72a.75.75 0 0 1 1.06 0Z"></path>
</svg>
    </clipboard-copy>
  </div>
</template>


    <style>
      .user-mention[href$="/OmkarAthavale"] {
        color: var(--color-user-mention-fg);
        background-color: var(--bgColor-attention-muted, var(--color-attention-subtle));
        border-radius: 2px;
        margin-left: -2px;
        margin-right: -2px;
      }
      .user-mention[href$="/OmkarAthavale"]:before,
      .user-mention[href$="/OmkarAthavale"]:after {
        content: '';
        display: inline-block;
        width: 2px;
      }
    </style>


    </div>
    <div id="js-global-screen-reader-notice" class="sr-only mt-n1" aria-live="polite" aria-atomic="true" ></div>
    <div id="js-global-screen-reader-notice-assertive" class="sr-only mt-n1" aria-live="assertive" aria-atomic="true"></div>
  </body>
</html>

