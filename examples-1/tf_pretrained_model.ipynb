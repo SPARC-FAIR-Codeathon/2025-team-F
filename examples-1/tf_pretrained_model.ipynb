





<!DOCTYPE html>
<html
  lang="en"
  
  data-color-mode="auto" data-light-theme="light" data-dark-theme="dark"
  data-a11y-animated-images="system" data-a11y-link-underlines="true"
  
  >

    <style>
:root {
  --fontStack-monospace: "Monaspace Neon", ui-monospace, SFMono-Regular, SF Mono, Menlo, Consolas, Liberation Mono, monospace !important;
}
</style>




  <head>
    <meta charset="utf-8">
  <link rel="dns-prefetch" href="https://github.githubassets.com">
  <link rel="dns-prefetch" href="https://avatars.githubusercontent.com">
  <link rel="dns-prefetch" href="https://github-cloud.s3.amazonaws.com">
  <link rel="dns-prefetch" href="https://user-images.githubusercontent.com/">
  <link rel="preconnect" href="https://github.githubassets.com" crossorigin>
  <link rel="preconnect" href="https://avatars.githubusercontent.com">

  


  <link crossorigin="anonymous" media="all" rel="stylesheet" href="https://github.githubassets.com/assets/light-d1334f2b22bf.css" /><link crossorigin="anonymous" media="all" rel="stylesheet" href="https://github.githubassets.com/assets/dark-f73a069fd33e.css" /><link data-color-theme="light_high_contrast" crossorigin="anonymous" media="all" rel="stylesheet" data-href="https://github.githubassets.com/assets/light_high_contrast-f695a361c6b2.css" /><link data-color-theme="light_colorblind" crossorigin="anonymous" media="all" rel="stylesheet" data-href="https://github.githubassets.com/assets/light_colorblind-367eb9a4565a.css" /><link data-color-theme="light_colorblind_high_contrast" crossorigin="anonymous" media="all" rel="stylesheet" data-href="https://github.githubassets.com/assets/light_colorblind_high_contrast-183adc0db479.css" /><link data-color-theme="light_tritanopia" crossorigin="anonymous" media="all" rel="stylesheet" data-href="https://github.githubassets.com/assets/light_tritanopia-2ddc677c041d.css" /><link data-color-theme="light_tritanopia_high_contrast" crossorigin="anonymous" media="all" rel="stylesheet" data-href="https://github.githubassets.com/assets/light_tritanopia_high_contrast-649962a5702a.css" /><link data-color-theme="dark_high_contrast" crossorigin="anonymous" media="all" rel="stylesheet" data-href="https://github.githubassets.com/assets/dark_high_contrast-3a0d87f72ad4.css" /><link data-color-theme="dark_colorblind" crossorigin="anonymous" media="all" rel="stylesheet" data-href="https://github.githubassets.com/assets/dark_colorblind-b17a8392e6c4.css" /><link data-color-theme="dark_colorblind_high_contrast" crossorigin="anonymous" media="all" rel="stylesheet" data-href="https://github.githubassets.com/assets/dark_colorblind_high_contrast-e9ff47cedc2b.css" /><link data-color-theme="dark_tritanopia" crossorigin="anonymous" media="all" rel="stylesheet" data-href="https://github.githubassets.com/assets/dark_tritanopia-a1cc7dba9f73.css" /><link data-color-theme="dark_tritanopia_high_contrast" crossorigin="anonymous" media="all" rel="stylesheet" data-href="https://github.githubassets.com/assets/dark_tritanopia_high_contrast-6c4dd39e2b0f.css" /><link data-color-theme="dark_dimmed" crossorigin="anonymous" media="all" rel="stylesheet" data-href="https://github.githubassets.com/assets/dark_dimmed-55459b36aa6d.css" /><link data-color-theme="dark_dimmed_high_contrast" crossorigin="anonymous" media="all" rel="stylesheet" data-href="https://github.githubassets.com/assets/dark_dimmed_high_contrast-9a0ef6e40ed3.css" />

    <style type="text/css">
      :root {
        --tab-size-preference: 8;
      }

      pre, code {
        tab-size: var(--tab-size-preference);
      }
    </style>

    <link crossorigin="anonymous" media="all" rel="stylesheet" href="https://github.githubassets.com/assets/primer-primitives-dc7ca6859caf.css" />
    <link crossorigin="anonymous" media="all" rel="stylesheet" href="https://github.githubassets.com/assets/primer-e11b50dc0d94.css" />
    <link crossorigin="anonymous" media="all" rel="stylesheet" href="https://github.githubassets.com/assets/global-208b03e93e68.css" />
    <link crossorigin="anonymous" media="all" rel="stylesheet" href="https://github.githubassets.com/assets/github-e76c66441660.css" />
  <link crossorigin="anonymous" media="all" rel="stylesheet" href="https://github.githubassets.com/assets/repository-b58e401b73ae.css" />
<link crossorigin="anonymous" media="all" rel="stylesheet" href="https://github.githubassets.com/assets/code-4ea853641043.css" />

  


  <script type="application/json" id="client-env">{"locale":"en","featureFlags":["alternate_user_config_repo","api_insights_show_missing_data_banner","attestations_filtering","attestations_sorting","billingplatform_copilot_premium_sku","client_version_header","code_scanning_security_configuration_ternary_state","codespaces_prebuild_region_target_update","contact_requests_implicit_opt_in","contentful_lp_copilot_extensions","contentful_lp_flex_features","contentful_lp_footnotes","copilot_chat_attach_images","copilot_chat_attach_multiple_images","copilot_chat_disable_model_picker_while_streaming","copilot_chat_group_notifications","copilot_chat_opening_thread_switch","copilot_chat_vision_in_claude","copilot_chat_vision_skip_thread_create","copilot_chat_wholearea_dd","copilot_chat_wholearea_dd_overlay","copilot_coding_agent_task_creation_banner","copilot_custom_copilots_feature_preview","copilot_custom_copilots_images","copilot_duplicate_thread","copilot_free_to_paid_telem","copilot_ftp_hyperspace_upgrade_prompt","copilot_ftp_settings_upgrade","copilot_ftp_upgrade_to_pro_from_models","copilot_ftp_your_copilot_settings","copilot_immersive_agent_branch_selection","copilot_immersive_draft_issue_template_form_ui","copilot_immersive_structured_model_picker","copilot_issue_list_show_more","copilot_markdown_image_allow_list","copilot_no_floating_button","copilot_premium_request_quotas","copilot_read_shared_conversation","copilot_share_active_subthread","copilot_spaces_inline_edit_description","copilot_spaces_input_menu_select","copilot_spaces_permissions_tab","copilot_spaces_upsert_reload_in_background","copilot_spark_allow_empty_commit","copilot_spark_single_user_iteration","copilot_spark_use_billing_headers","copilot_spark_write_iteration_history_to_git","copilot_task_oriented_assistive_prompts","copilot_workbench_agent_seed_tool","copilot_workbench_cache","copilot_workbench_connection_reload_banner","copilot_workbench_preview_analytics","copilot_workbench_ratelimit_fallback","copilot_workbench_refresh_on_wsod","copilot_workbench_synthetic_generation","custom_copilots_128k_window","custom_copilots_capi_mode","custom_copilots_file_uploads","direct_to_salesforce","dotcom_chat_client_side_skills","failbot_report_error_react_apps_on_page","fgpat_permissions_selector_redesign","ghost_pilot_confidence_truncation_25","ghost_pilot_confidence_truncation_40","github_models_scheduled_hydro_events","hpc_improve_dom_insertion_observer","insert_before_patch","issue_fields_report_usage","issues_catch_non_json_graphql_response","issues_label_search_url","issues_preserve_tokens_in_urls","issues_react_blur_item_picker_on_close","issues_react_bots_timeline_pagination","issues_react_create_milestone","issues_react_duplicate_issue","issues_react_include_bots_in_pickers","issues_react_prohibit_title_fallback","issues_react_remove_placeholders","issues_template_picker_redirect","kb_semantic_api_migration","lifecycle_label_name_updates","link_contact_sales_swp_marketo","marketing_fullstory_sampling","marketing_pages_search_explore_provider","memex_mwl_filter_field_delimiter","memex_roadmap_drag_style","nonreporting_relay_graphql_status_codes","primer_react_segmented_control_tooltip","primer_react_select_panel_with_modern_action_list","remove_child_patch","repository_suggester_elastic_search","sample_network_conn_type","scheduled_reminders_updated_limits","site_copilot_plans_emphasize_pro","site_homepage_contentful","site_msbuild_hide_integrations","site_msbuild_launch","site_msbuild_webgl_hero","spark_commit_on_default_branch","spark_sync_repository_after_iteration","swp_enterprise_contact_form","use_paginated_org_picker_cost_center_form","use_paginated_repo_picker_cost_center_form","viewscreen_sandbox","workbench_default_sonnet4","workbench_store_readonly"],"login":"OmkarAthavale","copilotApiOverrideUrl":null}</script>
<script crossorigin="anonymous" type="application/javascript" src="https://github.githubassets.com/assets/wp-runtime-302384e10e8b.js" defer="defer"></script>
<script crossorigin="anonymous" type="application/javascript" src="https://github.githubassets.com/assets/vendors-node_modules_oddbird_popover-polyfill_dist_popover-fn_js-a8c266e5f126.js" defer="defer"></script>
<script crossorigin="anonymous" type="application/javascript" src="https://github.githubassets.com/assets/vendors-node_modules_github_mini-throttle_dist_index_js-node_modules_stacktrace-parser_dist_s-1d3d52-babac9434833.js" defer="defer"></script>
<script crossorigin="anonymous" type="application/javascript" src="https://github.githubassets.com/assets/ui_packages_failbot_failbot_ts-992dcf80dabf.js" defer="defer"></script>
<script crossorigin="anonymous" type="application/javascript" src="https://github.githubassets.com/assets/environment-17084f3f370f.js" defer="defer"></script>
<script crossorigin="anonymous" type="application/javascript" src="https://github.githubassets.com/assets/vendors-node_modules_primer_behaviors_dist_esm_index_mjs-c44edfed7f0d.js" defer="defer"></script>
<script crossorigin="anonymous" type="application/javascript" src="https://github.githubassets.com/assets/vendors-node_modules_github_selector-observer_dist_index_esm_js-cdf2757bd188.js" defer="defer"></script>
<script crossorigin="anonymous" type="application/javascript" src="https://github.githubassets.com/assets/vendors-node_modules_github_relative-time-element_dist_index_js-5913bc24f35d.js" defer="defer"></script>
<script crossorigin="anonymous" type="application/javascript" src="https://github.githubassets.com/assets/vendors-node_modules_github_auto-complete-element_dist_index_js-node_modules_github_catalyst_-8e9f78-c1e2fb329866.js" defer="defer"></script>
<script crossorigin="anonymous" type="application/javascript" src="https://github.githubassets.com/assets/vendors-node_modules_github_text-expander-element_dist_index_js-e50fb7a5fe8c.js" defer="defer"></script>
<script crossorigin="anonymous" type="application/javascript" src="https://github.githubassets.com/assets/vendors-node_modules_github_filter-input-element_dist_index_js-node_modules_github_remote-inp-b5f1d7-514a92c925f0.js" defer="defer"></script>
<script crossorigin="anonymous" type="application/javascript" src="https://github.githubassets.com/assets/vendors-node_modules_github_markdown-toolbar-element_dist_index_js-6a8c7d9a08fe.js" defer="defer"></script>
<script crossorigin="anonymous" type="application/javascript" src="https://github.githubassets.com/assets/vendors-node_modules_github_file-attachment-element_dist_index_js-node_modules_primer_view-co-f03a40-c631b99b0f08.js" defer="defer"></script>
<script crossorigin="anonymous" type="application/javascript" src="https://github.githubassets.com/assets/github-elements-6f8fcdbbf55a.js" defer="defer"></script>
<script crossorigin="anonymous" type="application/javascript" src="https://github.githubassets.com/assets/element-registry-744e39efb5f4.js" defer="defer"></script>
<script crossorigin="anonymous" type="application/javascript" src="https://github.githubassets.com/assets/vendors-node_modules_braintree_browser-detection_dist_browser-detection_js-node_modules_githu-bb80ec-34c4b68b1dd3.js" defer="defer"></script>
<script crossorigin="anonymous" type="application/javascript" src="https://github.githubassets.com/assets/vendors-node_modules_lit-html_lit-html_js-b93a87060d31.js" defer="defer"></script>
<script crossorigin="anonymous" type="application/javascript" src="https://github.githubassets.com/assets/vendors-node_modules_morphdom_dist_morphdom-esm_js-300e8e4e0414.js" defer="defer"></script>
<script crossorigin="anonymous" type="application/javascript" src="https://github.githubassets.com/assets/vendors-node_modules_github_turbo_dist_turbo_es2017-esm_js-595819d3686f.js" defer="defer"></script>
<script crossorigin="anonymous" type="application/javascript" src="https://github.githubassets.com/assets/vendors-node_modules_github_remote-form_dist_index_js-node_modules_delegated-events_dist_inde-893f9f-5f044d8dcee3.js" defer="defer"></script>
<script crossorigin="anonymous" type="application/javascript" src="https://github.githubassets.com/assets/vendors-node_modules_github_quote-selection_dist_index_js-node_modules_github_session-resume_-c39857-68019bebf97d.js" defer="defer"></script>
<script crossorigin="anonymous" type="application/javascript" src="https://github.githubassets.com/assets/ui_packages_updatable-content_updatable-content_ts-19a9ffc8367b.js" defer="defer"></script>
<script crossorigin="anonymous" type="application/javascript" src="https://github.githubassets.com/assets/app_assets_modules_github_behaviors_task-list_ts-app_assets_modules_github_sso_ts-ui_packages-900dde-f953ddf42948.js" defer="defer"></script>
<script crossorigin="anonymous" type="application/javascript" src="https://github.githubassets.com/assets/app_assets_modules_github_sticky-scroll-into-view_ts-c9618dd6662a.js" defer="defer"></script>
<script crossorigin="anonymous" type="application/javascript" src="https://github.githubassets.com/assets/app_assets_modules_github_behaviors_ajax-error_ts-app_assets_modules_github_behaviors_include-d0d0a6-a7da4270c5f4.js" defer="defer"></script>
<script crossorigin="anonymous" type="application/javascript" src="https://github.githubassets.com/assets/app_assets_modules_github_behaviors_commenting_edit_ts-app_assets_modules_github_behaviors_ht-83c235-567e0f340e27.js" defer="defer"></script>
<script crossorigin="anonymous" type="application/javascript" src="https://github.githubassets.com/assets/behaviors-625d7495b728.js" defer="defer"></script>
<script crossorigin="anonymous" type="application/javascript" src="https://github.githubassets.com/assets/vendors-node_modules_delegated-events_dist_index_js-node_modules_github_catalyst_lib_index_js-ea8eaa-a4bd0b8e9717.js" defer="defer"></script>
<script crossorigin="anonymous" type="application/javascript" src="https://github.githubassets.com/assets/notifications-global-ddd47578369b.js" defer="defer"></script>
<script crossorigin="anonymous" type="application/javascript" src="https://github.githubassets.com/assets/vendors-node_modules_github_mini-throttle_dist_index_js-node_modules_github_catalyst_lib_inde-dbbea9-558c1f223d1d.js" defer="defer"></script>
<script crossorigin="anonymous" type="application/javascript" src="https://github.githubassets.com/assets/code-menu-5153545f9e1f.js" defer="defer"></script>
  
  <script crossorigin="anonymous" type="application/javascript" src="https://github.githubassets.com/assets/primer-react-e3f517d7be60.js" defer="defer"></script>
<script crossorigin="anonymous" type="application/javascript" src="https://github.githubassets.com/assets/react-core-da8e42da9f7f.js" defer="defer"></script>
<script crossorigin="anonymous" type="application/javascript" src="https://github.githubassets.com/assets/react-lib-8705026b409a.js" defer="defer"></script>
<script crossorigin="anonymous" type="application/javascript" src="https://github.githubassets.com/assets/octicons-react-d5df7319196a.js" defer="defer"></script>
<script crossorigin="anonymous" type="application/javascript" src="https://github.githubassets.com/assets/vendors-node_modules_emotion_is-prop-valid_dist_emotion-is-prop-valid_esm_js-node_modules_emo-1fff13-e90c4f4db816.js" defer="defer"></script>
<script crossorigin="anonymous" type="application/javascript" src="https://github.githubassets.com/assets/vendors-node_modules_tanstack_query-core_build_modern_queryClient_js-f747879a83cf.js" defer="defer"></script>
<script crossorigin="anonymous" type="application/javascript" src="https://github.githubassets.com/assets/vendors-node_modules_dompurify_dist_purify_es_mjs-7457ebdd1a1f.js" defer="defer"></script>
<script crossorigin="anonymous" type="application/javascript" src="https://github.githubassets.com/assets/vendors-node_modules_github_hydro-analytics-client_dist_analytics-client_js-node_modules_gith-d2d5b7-d1ead38b2474.js" defer="defer"></script>
<script crossorigin="anonymous" type="application/javascript" src="https://github.githubassets.com/assets/vendors-node_modules_lodash-es__Stack_js-node_modules_lodash-es__Uint8Array_js-node_modules_l-4faaa6-16c4e2c524de.js" defer="defer"></script>
<script crossorigin="anonymous" type="application/javascript" src="https://github.githubassets.com/assets/vendors-node_modules_tanstack_react-virtual_dist_esm_index_js-807aab04afeb.js" defer="defer"></script>
<script crossorigin="anonymous" type="application/javascript" src="https://github.githubassets.com/assets/vendors-node_modules_github_catalyst_lib_index_js-node_modules_lodash-es__baseIsEqual_js-5a1e4257e977.js" defer="defer"></script>
<script crossorigin="anonymous" type="application/javascript" src="https://github.githubassets.com/assets/vendors-node_modules_focus-visible_dist_focus-visible_js-node_modules_fzy_js_index_js-node_mo-b36da9-89c0fa93d060.js" defer="defer"></script>
<script crossorigin="anonymous" type="application/javascript" src="https://github.githubassets.com/assets/ui_packages_paths_index_ts-02903aca93fb.js" defer="defer"></script>
<script crossorigin="anonymous" type="application/javascript" src="https://github.githubassets.com/assets/ui_packages_document-metadata_document-metadata_ts-ui_packages_fetch-headers_fetch-headers_ts-57e0e0-bed68ec00644.js" defer="defer"></script>
<script crossorigin="anonymous" type="application/javascript" src="https://github.githubassets.com/assets/ui_packages_ref-selector_RefSelector_tsx-49a575c6713c.js" defer="defer"></script>
<script crossorigin="anonymous" type="application/javascript" src="https://github.githubassets.com/assets/ui_packages_commit-attribution_index_ts-ui_packages_commit-checks-status_index_ts-ui_packages-762eaa-7c0cb4bd2b5c.js" defer="defer"></script>
<script crossorigin="anonymous" type="application/javascript" src="https://github.githubassets.com/assets/ui_packages_app-uuid_app-uuid_ts-ui_packages_repos-file-tree-view_repos-file-tree-view_ts-ui_-e7c631-bae3635f2779.js" defer="defer"></script>
<script crossorigin="anonymous" type="application/javascript" src="https://github.githubassets.com/assets/ui_packages_code-view-shared_hooks_use-canonical-object_ts-ui_packages_code-view-shared_hooks-96ec19-ae69c1d6d8ce.js" defer="defer"></script>
<script crossorigin="anonymous" type="application/javascript" src="https://github.githubassets.com/assets/ui_packages_diffs_diff-parts_ts-21b2322bf20d.js" defer="defer"></script>
<script crossorigin="anonymous" type="application/javascript" src="https://github.githubassets.com/assets/app_assets_modules_react-code-view_utilities_lines_ts-83e8972e3303.js" defer="defer"></script>
<script crossorigin="anonymous" type="application/javascript" src="https://github.githubassets.com/assets/ui_packages_code-nav_code-nav_ts-ui_packages_filter-sort_filter-sort_ts-ui_packages_fuzzy-fil-1f9dbe-90a25aafe017.js" defer="defer"></script>
<script crossorigin="anonymous" type="application/javascript" src="https://github.githubassets.com/assets/react-code-view-04d1b806f918.js" defer="defer"></script>
<link crossorigin="anonymous" media="all" rel="stylesheet" href="https://github.githubassets.com/assets/primer-react.260d30274859410b0337.module.css" />
<link crossorigin="anonymous" media="all" rel="stylesheet" href="https://github.githubassets.com/assets/react-code-view.76f019fa552874dd1b3a.module.css" />


  <title>2025-team-F/examples/tf_pretrained_model.ipynb at restructuring · SPARC-FAIR-Codeathon/2025-team-F</title>



  <meta name="route-pattern" content="/:user_id/:repository/blob/*name(/*path)" data-turbo-transient>
  <meta name="route-controller" content="blob" data-turbo-transient>
  <meta name="route-action" content="show" data-turbo-transient>
  <meta name="fetch-nonce" content="v2:e2092d26-038f-b912-3ee4-c390f9eb3514">

    
  <meta name="current-catalog-service-hash" content="f3abb0cc802f3d7b95fc8762b94bdcb13bf39634c40c357301c4aa1d67a256fb">


  <meta name="request-id" content="0940:37A7EC:3F7A2C:49C4C8:6891803D" data-turbo-transient="true" /><meta name="html-safe-nonce" content="e01e9a43f415a3a7150cf864373c00cb93267cb47abe9cf400d913114c83fbaf" data-turbo-transient="true" /><meta name="visitor-payload" content="eyJyZWZlcnJlciI6Imh0dHBzOi8vZ2l0aHViLmNvbS9TUEFSQy1GQUlSLUNvZGVhdGhvbi8yMDI1LXRlYW0tRi90cmVlL3Jlc3RydWN0dXJpbmcvZXhhbXBsZXMiLCJyZXF1ZXN0X2lkIjoiMDk0MDozN0E3RUM6M0Y3QTJDOjQ5QzRDODo2ODkxODAzRCIsInZpc2l0b3JfaWQiOiIzNTc1NzgxNzY3MTIzNDA0MTY2IiwicmVnaW9uX2VkZ2UiOiJhdXN0cmFsaWFlYXN0IiwicmVnaW9uX3JlbmRlciI6ImlhZCJ9" data-turbo-transient="true" /><meta name="visitor-hmac" content="aaae6c70fb7827fb7a9aeb51905b9f230c795eabc96a78fac0a89c34bbcaee8f" data-turbo-transient="true" />


    <meta name="hovercard-subject-tag" content="repository:1028403411" data-turbo-transient>


  <meta name="github-keyboard-shortcuts" content="repository,source-code,file-tree,copilot" data-turbo-transient="true" />
  

  <meta name="selected-link" value="repo_source" data-turbo-transient>
  <link rel="assets" href="https://github.githubassets.com/">

    <meta name="google-site-verification" content="Apib7-x98H0j5cPqHWwSMm6dNU4GmODRoqxLiDzdx9I">

<meta name="octolytics-url" content="https://collector.github.com/github/collect" /><meta name="octolytics-actor-id" content="25015754" /><meta name="octolytics-actor-login" content="OmkarAthavale" /><meta name="octolytics-actor-hash" content="f29c84683f7527fdbaf993735fb1702eae0926eef7fa12f98c16d6c4069e1cf9" />

  <meta name="analytics-location" content="/&lt;user-name&gt;/&lt;repo-name&gt;/blob/show" data-turbo-transient="true" />

  




    <meta name="user-login" content="OmkarAthavale">

  <link rel="sudo-modal" href="/sessions/sudo_modal">

    <meta name="viewport" content="width=device-width">

    

      <meta name="description" content="Contribute to SPARC-FAIR-Codeathon/2025-team-F development by creating an account on GitHub.">

      <link rel="search" type="application/opensearchdescription+xml" href="/opensearch.xml" title="GitHub">

    <link rel="fluid-icon" href="https://github.com/fluidicon.png" title="GitHub">
    <meta property="fb:app_id" content="1401488693436528">
    <meta name="apple-itunes-app" content="app-id=1477376905, app-argument=https://github.com/SPARC-FAIR-Codeathon/2025-team-F/blob/restructuring/examples/tf_pretrained_model.ipynb" />

      <meta name="twitter:image" content="https://opengraph.githubassets.com/3907d70411f9bc12d9a671c26b799d6260c1415d3158b3679f5fc4cc177cf037/SPARC-FAIR-Codeathon/2025-team-F" /><meta name="twitter:site" content="@github" /><meta name="twitter:card" content="summary_large_image" /><meta name="twitter:title" content="2025-team-F/examples/tf_pretrained_model.ipynb at restructuring · SPARC-FAIR-Codeathon/2025-team-F" /><meta name="twitter:description" content="Contribute to SPARC-FAIR-Codeathon/2025-team-F development by creating an account on GitHub." />
  <meta property="og:image" content="https://opengraph.githubassets.com/3907d70411f9bc12d9a671c26b799d6260c1415d3158b3679f5fc4cc177cf037/SPARC-FAIR-Codeathon/2025-team-F" /><meta property="og:image:alt" content="Contribute to SPARC-FAIR-Codeathon/2025-team-F development by creating an account on GitHub." /><meta property="og:image:width" content="1200" /><meta property="og:image:height" content="600" /><meta property="og:site_name" content="GitHub" /><meta property="og:type" content="object" /><meta property="og:title" content="2025-team-F/examples/tf_pretrained_model.ipynb at restructuring · SPARC-FAIR-Codeathon/2025-team-F" /><meta property="og:url" content="https://github.com/SPARC-FAIR-Codeathon/2025-team-F/blob/restructuring/examples/tf_pretrained_model.ipynb" /><meta property="og:description" content="Contribute to SPARC-FAIR-Codeathon/2025-team-F development by creating an account on GitHub." />
  


      <link rel="shared-web-socket" href="wss://alive.github.com/_sockets/u/25015754/ws?session=eyJ2IjoiVjMiLCJ1IjoyNTAxNTc1NCwicyI6MTc1MzMyNzgxNCwiYyI6Mjk0OTk3NTI4LCJ0IjoxNzU0MzY2MDE4fQ==--cd43dd89c50901c90b119d6a4adbd387c58808ea65147480914056f881d1160f" data-refresh-url="/_alive" data-session-id="a1229148936b0dea618c3e4380e5c443ec08e01199377b83b24674956dab6780">
      <link rel="shared-web-socket-src" href="/assets-cdn/worker/socket-worker-9b665c8109c8.js">


      <meta name="hostname" content="github.com">


      <meta name="keyboard-shortcuts-preference" content="all">
      <meta name="hovercards-preference" content="true">
      <meta name="announcement-preference-hovercard" content="true">

        <meta name="expected-hostname" content="github.com">


  <meta http-equiv="x-pjax-version" content="ffff4effbf138b99d05e6269385ee5862599e294d3f22a9f9d9e3d35b0c33b64" data-turbo-track="reload">
  <meta http-equiv="x-pjax-csp-version" content="8fba9c9418de26103e6176951dd0c38780be21b972f2019085dee08622fdb843" data-turbo-track="reload">
  <meta http-equiv="x-pjax-css-version" content="8c820ad27b0bd4244ace76eb1536212c6668fe8a77a2370374b9dd630d72e0fe" data-turbo-track="reload">
  <meta http-equiv="x-pjax-js-version" content="45ce7b2b519833fe05fb15038a4a1335f6e5da14ca8907911aec1734cb79f648" data-turbo-track="reload">

  <meta name="turbo-cache-control" content="no-preview" data-turbo-transient="">

      <meta name="turbo-cache-control" content="no-cache" data-turbo-transient>

    <meta data-hydrostats="publish">

  <meta name="go-import" content="github.com/SPARC-FAIR-Codeathon/2025-team-F git https://github.com/SPARC-FAIR-Codeathon/2025-team-F.git">

  <meta name="octolytics-dimension-user_id" content="86933347" /><meta name="octolytics-dimension-user_login" content="SPARC-FAIR-Codeathon" /><meta name="octolytics-dimension-repository_id" content="1028403411" /><meta name="octolytics-dimension-repository_nwo" content="SPARC-FAIR-Codeathon/2025-team-F" /><meta name="octolytics-dimension-repository_public" content="true" /><meta name="octolytics-dimension-repository_is_fork" content="false" /><meta name="octolytics-dimension-repository_network_root_id" content="1028403411" /><meta name="octolytics-dimension-repository_network_root_nwo" content="SPARC-FAIR-Codeathon/2025-team-F" />



    

    <meta name="turbo-body-classes" content="logged-in env-production page-responsive">


  <meta name="browser-stats-url" content="https://api.github.com/_private/browser/stats">

  <meta name="browser-errors-url" content="https://api.github.com/_private/browser/errors">

  <meta name="release" content="ee85174bb996345a1a20df8ae25a1891b555dd5f">
  <meta name="ui-target" content="full">

  <link rel="mask-icon" href="https://github.githubassets.com/assets/pinned-octocat-093da3e6fa40.svg" color="#000000">
  <link rel="alternate icon" class="js-site-favicon" type="image/png" href="https://github.githubassets.com/favicons/favicon.png">
  <link rel="icon" class="js-site-favicon" type="image/svg+xml" href="https://github.githubassets.com/favicons/favicon.svg" data-base-href="https://github.githubassets.com/favicons/favicon">

<meta name="theme-color" content="#1e2327">
<meta name="color-scheme" content="light dark" />

  <meta name="msapplication-TileImage" content="/windows-tile.png">
  <meta name="msapplication-TileColor" content="#ffffff">

  <link rel="manifest" href="/manifest.json" crossOrigin="use-credentials">

  </head>

  <body class="logged-in env-production page-responsive" style="word-wrap: break-word;">
    <div data-turbo-body class="logged-in env-production page-responsive" style="word-wrap: break-word;">
      



    <div class="position-relative header-wrapper js-header-wrapper ">
      <a href="#start-of-content" data-skip-target-assigned="false" class="p-3 color-bg-accent-emphasis color-fg-on-emphasis show-on-focus js-skip-to-content">Skip to content</a>

      <span data-view-component="true" class="progress-pjax-loader Progress position-fixed width-full">
    <span style="width: 0%;" data-view-component="true" class="Progress-item progress-pjax-loader-bar left-0 top-0 color-bg-accent-emphasis"></span>
</span>      
      
      <link crossorigin="anonymous" media="all" rel="stylesheet" href="https://github.githubassets.com/assets/primer-react.260d30274859410b0337.module.css" />
<link crossorigin="anonymous" media="all" rel="stylesheet" href="https://github.githubassets.com/assets/keyboard-shortcuts-dialog.f8fba3bd67fe74f9227b.module.css" />

<react-partial
  partial-name="keyboard-shortcuts-dialog"
  data-ssr="false"
  data-attempted-ssr="false"
  data-react-profiling="false"
>
  
  <script type="application/json" data-target="react-partial.embeddedData">{"props":{"docsUrl":"https://docs.github.com/get-started/accessibility/keyboard-shortcuts"}}</script>
  <div data-target="react-partial.reactRoot"></div>
</react-partial>




      

          

              <header class="AppHeader" role="banner">
  <h2 class="sr-only">Navigation Menu</h2>


    

    <div class="AppHeader-globalBar pb-2 js-global-bar">
      <div class="AppHeader-globalBar-start responsive-context-region">
        <div class="">
            <deferred-side-panel data-url="/_side-panels/global">
  <include-fragment data-target="deferred-side-panel.fragment" data-nonce="v2:e2092d26-038f-b912-3ee4-c390f9eb3514" data-view-component="true">
  
      <button aria-label="Open global navigation menu" data-action="click:deferred-side-panel#loadPanel click:deferred-side-panel#panelOpened" data-show-dialog-id="dialog-ffb4dbd5-6ea0-4f24-86b7-f72efb2f6f76" id="dialog-show-dialog-ffb4dbd5-6ea0-4f24-86b7-f72efb2f6f76" type="button" data-view-component="true" class="Button Button--iconOnly Button--secondary Button--medium AppHeader-button p-0 color-fg-muted">  <svg aria-hidden="true" height="16" viewBox="0 0 16 16" version="1.1" width="16" data-view-component="true" class="octicon octicon-three-bars Button-visual">
    <path d="M1 2.75A.75.75 0 0 1 1.75 2h12.5a.75.75 0 0 1 0 1.5H1.75A.75.75 0 0 1 1 2.75Zm0 5A.75.75 0 0 1 1.75 7h12.5a.75.75 0 0 1 0 1.5H1.75A.75.75 0 0 1 1 7.75ZM1.75 12h12.5a.75.75 0 0 1 0 1.5H1.75a.75.75 0 0 1 0-1.5Z"></path>
</svg>
</button>

<dialog-helper>
  <dialog data-target="deferred-side-panel.panel" id="dialog-ffb4dbd5-6ea0-4f24-86b7-f72efb2f6f76" aria-modal="true" aria-labelledby="dialog-ffb4dbd5-6ea0-4f24-86b7-f72efb2f6f76-title" aria-describedby="dialog-ffb4dbd5-6ea0-4f24-86b7-f72efb2f6f76-description" data-view-component="true" class="Overlay Overlay-whenNarrow Overlay--size-small-portrait Overlay--motion-scaleFade Overlay--placement-left SidePanel Overlay--disableScroll">
    <div styles="flex-direction: row;" data-view-component="true" class="Overlay-header">
  <div class="Overlay-headerContentWrap">
    <div class="Overlay-titleWrap">
      <h1 class="Overlay-title sr-only" id="dialog-ffb4dbd5-6ea0-4f24-86b7-f72efb2f6f76-title">
        Global navigation
      </h1>
            <div data-view-component="true" class="d-flex">
      <div data-view-component="true" class="AppHeader-logo position-relative">
        <svg aria-hidden="true" height="24" viewBox="0 0 24 24" version="1.1" width="24" data-view-component="true" class="octicon octicon-mark-github">
    <path d="M12 1C5.923 1 1 5.923 1 12c0 4.867 3.149 8.979 7.521 10.436.55.096.756-.233.756-.522 0-.262-.013-1.128-.013-2.049-2.764.509-3.479-.674-3.699-1.292-.124-.317-.66-1.293-1.127-1.554-.385-.207-.936-.715-.014-.729.866-.014 1.485.797 1.691 1.128.99 1.663 2.571 1.196 3.204.907.096-.715.385-1.196.701-1.471-2.448-.275-5.005-1.224-5.005-5.432 0-1.196.426-2.186 1.128-2.956-.111-.275-.496-1.402.11-2.915 0 0 .921-.288 3.024 1.128a10.193 10.193 0 0 1 2.75-.371c.936 0 1.871.123 2.75.371 2.104-1.43 3.025-1.128 3.025-1.128.605 1.513.221 2.64.111 2.915.701.77 1.127 1.747 1.127 2.956 0 4.222-2.571 5.157-5.019 5.432.399.344.743 1.004.743 2.035 0 1.471-.014 2.654-.014 3.025 0 .289.206.632.756.522C19.851 20.979 23 16.854 23 12c0-6.077-4.922-11-11-11Z"></path>
</svg>
</div></div>
    </div>
    <div class="Overlay-actionWrap">
      <button data-close-dialog-id="dialog-ffb4dbd5-6ea0-4f24-86b7-f72efb2f6f76" aria-label="Close" aria-label="Close" type="button" data-view-component="true" class="close-button Overlay-closeButton"><svg aria-hidden="true" height="16" viewBox="0 0 16 16" version="1.1" width="16" data-view-component="true" class="octicon octicon-x">
    <path d="M3.72 3.72a.75.75 0 0 1 1.06 0L8 6.94l3.22-3.22a.749.749 0 0 1 1.275.326.749.749 0 0 1-.215.734L9.06 8l3.22 3.22a.749.749 0 0 1-.326 1.275.749.749 0 0 1-.734-.215L8 9.06l-3.22 3.22a.751.751 0 0 1-1.042-.018.751.751 0 0 1-.018-1.042L6.94 8 3.72 4.78a.75.75 0 0 1 0-1.06Z"></path>
</svg></button>
    </div>
  </div>
  
</div>
      <scrollable-region data-labelled-by="dialog-ffb4dbd5-6ea0-4f24-86b7-f72efb2f6f76-title">
        <div data-view-component="true" class="Overlay-body d-flex flex-column px-2">    <div data-view-component="true" class="d-flex flex-column mb-3">
        <nav aria-label="Site navigation" data-view-component="true" class="ActionList">
  
  <nav-list>
    <ul data-target="nav-list.topLevelList" data-view-component="true" class="ActionListWrap">
        
          
<li data-item-id="" data-targets="nav-list.items" data-view-component="true" class="ActionListItem">
    
    
    <a data-hotkey="g d" data-analytics-event="{&quot;category&quot;:&quot;Global navigation&quot;,&quot;action&quot;:&quot;HOME&quot;,&quot;label&quot;:null}" id="item-f60db491-1af7-408e-ad23-9442202be1e1" href="/dashboard" data-view-component="true" class="ActionListContent ActionListContent--visual16">
        <span class="ActionListItem-visual ActionListItem-visual--leading">
          <svg aria-hidden="true" height="16" viewBox="0 0 16 16" version="1.1" width="16" data-view-component="true" class="octicon octicon-home">
    <path d="M6.906.664a1.749 1.749 0 0 1 2.187 0l5.25 4.2c.415.332.657.835.657 1.367v7.019A1.75 1.75 0 0 1 13.25 15h-3.5a.75.75 0 0 1-.75-.75V9H7v5.25a.75.75 0 0 1-.75.75h-3.5A1.75 1.75 0 0 1 1 13.25V6.23c0-.531.242-1.034.657-1.366l5.25-4.2Zm1.25 1.171a.25.25 0 0 0-.312 0l-5.25 4.2a.25.25 0 0 0-.094.196v7.019c0 .138.112.25.25.25H5.5V8.25a.75.75 0 0 1 .75-.75h3.5a.75.75 0 0 1 .75.75v5.25h2.75a.25.25 0 0 0 .25-.25V6.23a.25.25 0 0 0-.094-.195Z"></path>
</svg>
        </span>
      
        <span data-view-component="true" class="ActionListItem-label">
          Home
</span>      
</a>
  
</li>

        
          
<li data-item-id="" data-targets="nav-list.items" data-view-component="true" class="ActionListItem">
    
    
    <a data-hotkey="g i" data-analytics-event="{&quot;category&quot;:&quot;Global navigation&quot;,&quot;action&quot;:&quot;ISSUES&quot;,&quot;label&quot;:null}" id="item-0b09844e-8e5a-4f97-a438-0bf070e4bf1a" href="/issues" data-view-component="true" class="ActionListContent ActionListContent--visual16">
        <span class="ActionListItem-visual ActionListItem-visual--leading">
          <svg aria-hidden="true" height="16" viewBox="0 0 16 16" version="1.1" width="16" data-view-component="true" class="octicon octicon-issue-opened">
    <path d="M8 9.5a1.5 1.5 0 1 0 0-3 1.5 1.5 0 0 0 0 3Z"></path><path d="M8 0a8 8 0 1 1 0 16A8 8 0 0 1 8 0ZM1.5 8a6.5 6.5 0 1 0 13 0 6.5 6.5 0 0 0-13 0Z"></path>
</svg>
        </span>
      
        <span data-view-component="true" class="ActionListItem-label">
          Issues
</span>      
</a>
  
</li>

        
          
<li data-item-id="" data-targets="nav-list.items" data-view-component="true" class="ActionListItem">
    
    
    <a data-hotkey="g p" data-analytics-event="{&quot;category&quot;:&quot;Global navigation&quot;,&quot;action&quot;:&quot;PULL_REQUESTS&quot;,&quot;label&quot;:null}" id="item-5015fe95-9b68-4427-bd82-195c5ffa480c" href="/pulls" data-view-component="true" class="ActionListContent ActionListContent--visual16">
        <span class="ActionListItem-visual ActionListItem-visual--leading">
          <svg aria-hidden="true" height="16" viewBox="0 0 16 16" version="1.1" width="16" data-view-component="true" class="octicon octicon-git-pull-request">
    <path d="M1.5 3.25a2.25 2.25 0 1 1 3 2.122v5.256a2.251 2.251 0 1 1-1.5 0V5.372A2.25 2.25 0 0 1 1.5 3.25Zm5.677-.177L9.573.677A.25.25 0 0 1 10 .854V2.5h1A2.5 2.5 0 0 1 13.5 5v5.628a2.251 2.251 0 1 1-1.5 0V5a1 1 0 0 0-1-1h-1v1.646a.25.25 0 0 1-.427.177L7.177 3.427a.25.25 0 0 1 0-.354ZM3.75 2.5a.75.75 0 1 0 0 1.5.75.75 0 0 0 0-1.5Zm0 9.5a.75.75 0 1 0 0 1.5.75.75 0 0 0 0-1.5Zm8.25.75a.75.75 0 1 0 1.5 0 .75.75 0 0 0-1.5 0Z"></path>
</svg>
        </span>
      
        <span data-view-component="true" class="ActionListItem-label">
          Pull requests
</span>      
</a>
  
</li>

        
          
<li data-item-id="" data-targets="nav-list.items" data-item-id="projects" data-view-component="true" class="ActionListItem">
    
    
    <a data-analytics-event="{&quot;category&quot;:&quot;Global navigation&quot;,&quot;action&quot;:&quot;PROJECTS&quot;,&quot;label&quot;:null}" id="item-c5fef833-cb69-489d-9971-d472b3decfe9" href="/projects" data-view-component="true" class="ActionListContent ActionListContent--visual16">
        <span class="ActionListItem-visual ActionListItem-visual--leading">
          <svg aria-hidden="true" height="16" viewBox="0 0 16 16" version="1.1" width="16" data-view-component="true" class="octicon octicon-table">
    <path d="M0 1.75C0 .784.784 0 1.75 0h12.5C15.216 0 16 .784 16 1.75v12.5A1.75 1.75 0 0 1 14.25 16H1.75A1.75 1.75 0 0 1 0 14.25ZM6.5 6.5v8h7.75a.25.25 0 0 0 .25-.25V6.5Zm8-1.5V1.75a.25.25 0 0 0-.25-.25H6.5V5Zm-13 1.5v7.75c0 .138.112.25.25.25H5v-8ZM5 5V1.5H1.75a.25.25 0 0 0-.25.25V5Z"></path>
</svg>
        </span>
      
        <span data-view-component="true" class="ActionListItem-label">
          Projects
</span>      
</a>
  
</li>

        
          
<li data-item-id="" data-targets="nav-list.items" data-view-component="true" class="ActionListItem">
    
    
    <a data-analytics-event="{&quot;category&quot;:&quot;Global navigation&quot;,&quot;action&quot;:&quot;DISCUSSIONS&quot;,&quot;label&quot;:null}" id="item-0a76b0bb-00d8-40d5-8dfa-1dc775352e8b" href="/discussions" data-view-component="true" class="ActionListContent ActionListContent--visual16">
        <span class="ActionListItem-visual ActionListItem-visual--leading">
          <svg aria-hidden="true" height="16" viewBox="0 0 16 16" version="1.1" width="16" data-view-component="true" class="octicon octicon-comment-discussion">
    <path d="M1.75 1h8.5c.966 0 1.75.784 1.75 1.75v5.5A1.75 1.75 0 0 1 10.25 10H7.061l-2.574 2.573A1.458 1.458 0 0 1 2 11.543V10h-.25A1.75 1.75 0 0 1 0 8.25v-5.5C0 1.784.784 1 1.75 1ZM1.5 2.75v5.5c0 .138.112.25.25.25h1a.75.75 0 0 1 .75.75v2.19l2.72-2.72a.749.749 0 0 1 .53-.22h3.5a.25.25 0 0 0 .25-.25v-5.5a.25.25 0 0 0-.25-.25h-8.5a.25.25 0 0 0-.25.25Zm13 2a.25.25 0 0 0-.25-.25h-.5a.75.75 0 0 1 0-1.5h.5c.966 0 1.75.784 1.75 1.75v5.5A1.75 1.75 0 0 1 14.25 12H14v1.543a1.458 1.458 0 0 1-2.487 1.03L9.22 12.28a.749.749 0 0 1 .326-1.275.749.749 0 0 1 .734.215l2.22 2.22v-2.19a.75.75 0 0 1 .75-.75h1a.25.25 0 0 0 .25-.25Z"></path>
</svg>
        </span>
      
        <span data-view-component="true" class="ActionListItem-label">
          Discussions
</span>      
</a>
  
</li>

        
          
<li data-item-id="" data-targets="nav-list.items" data-view-component="true" class="ActionListItem">
    
    
    <a data-analytics-event="{&quot;category&quot;:&quot;Global navigation&quot;,&quot;action&quot;:&quot;CODESPACES&quot;,&quot;label&quot;:null}" id="item-661320b8-6edc-41fe-af27-46a488999799" href="https://github.com/codespaces" data-view-component="true" class="ActionListContent ActionListContent--visual16">
        <span class="ActionListItem-visual ActionListItem-visual--leading">
          <svg aria-hidden="true" height="16" viewBox="0 0 16 16" version="1.1" width="16" data-view-component="true" class="octicon octicon-codespaces">
    <path d="M0 11.25c0-.966.784-1.75 1.75-1.75h12.5c.966 0 1.75.784 1.75 1.75v3A1.75 1.75 0 0 1 14.25 16H1.75A1.75 1.75 0 0 1 0 14.25Zm2-9.5C2 .784 2.784 0 3.75 0h8.5C13.216 0 14 .784 14 1.75v5a1.75 1.75 0 0 1-1.75 1.75h-8.5A1.75 1.75 0 0 1 2 6.75Zm1.75-.25a.25.25 0 0 0-.25.25v5c0 .138.112.25.25.25h8.5a.25.25 0 0 0 .25-.25v-5a.25.25 0 0 0-.25-.25Zm-2 9.5a.25.25 0 0 0-.25.25v3c0 .138.112.25.25.25h12.5a.25.25 0 0 0 .25-.25v-3a.25.25 0 0 0-.25-.25Z"></path><path d="M7 12.75a.75.75 0 0 1 .75-.75h4.5a.75.75 0 0 1 0 1.5h-4.5a.75.75 0 0 1-.75-.75Zm-4 0a.75.75 0 0 1 .75-.75h.5a.75.75 0 0 1 0 1.5h-.5a.75.75 0 0 1-.75-.75Z"></path>
</svg>
        </span>
      
        <span data-view-component="true" class="ActionListItem-label">
          Codespaces
</span>      
</a>
  
</li>

        
          <li role="presentation" aria-hidden="true" data-view-component="true" class="ActionList-sectionDivider hide-whenRegular"></li>
        
          
<li data-item-id="" data-targets="nav-list.items" data-view-component="true" class="ActionListItem">
    
    
    <a data-analytics-event="{&quot;category&quot;:&quot;Global navigation&quot;,&quot;action&quot;:&quot;COPILOT&quot;,&quot;label&quot;:null}" id="item-d807689c-7f46-4b30-b797-fe5c2234a8d1" href="/copilot" data-view-component="true" class="ActionListContent ActionListContent--visual16">
        <span class="ActionListItem-visual ActionListItem-visual--leading">
          <svg aria-hidden="true" height="16" viewBox="0 0 16 16" version="1.1" width="16" data-view-component="true" class="octicon octicon-copilot">
    <path d="M7.998 15.035c-4.562 0-7.873-2.914-7.998-3.749V9.338c.085-.628.677-1.686 1.588-2.065.013-.07.024-.143.036-.218.029-.183.06-.384.126-.612-.201-.508-.254-1.084-.254-1.656 0-.87.128-1.769.693-2.484.579-.733 1.494-1.124 2.724-1.261 1.206-.134 2.262.034 2.944.765.05.053.096.108.139.165.044-.057.094-.112.143-.165.682-.731 1.738-.899 2.944-.765 1.23.137 2.145.528 2.724 1.261.566.715.693 1.614.693 2.484 0 .572-.053 1.148-.254 1.656.066.228.098.429.126.612.012.076.024.148.037.218.924.385 1.522 1.471 1.591 2.095v1.872c0 .766-3.351 3.795-8.002 3.795Zm0-1.485c2.28 0 4.584-1.11 5.002-1.433V7.862l-.023-.116c-.49.21-1.075.291-1.727.291-1.146 0-2.059-.327-2.71-.991A3.222 3.222 0 0 1 8 6.303a3.24 3.24 0 0 1-.544.743c-.65.664-1.563.991-2.71.991-.652 0-1.236-.081-1.727-.291l-.023.116v4.255c.419.323 2.722 1.433 5.002 1.433ZM6.762 2.83c-.193-.206-.637-.413-1.682-.297-1.019.113-1.479.404-1.713.7-.247.312-.369.789-.369 1.554 0 .793.129 1.171.308 1.371.162.181.519.379 1.442.379.853 0 1.339-.235 1.638-.54.315-.322.527-.827.617-1.553.117-.935-.037-1.395-.241-1.614Zm4.155-.297c-1.044-.116-1.488.091-1.681.297-.204.219-.359.679-.242 1.614.091.726.303 1.231.618 1.553.299.305.784.54 1.638.54.922 0 1.28-.198 1.442-.379.179-.2.308-.578.308-1.371 0-.765-.123-1.242-.37-1.554-.233-.296-.693-.587-1.713-.7Z"></path><path d="M6.25 9.037a.75.75 0 0 1 .75.75v1.501a.75.75 0 0 1-1.5 0V9.787a.75.75 0 0 1 .75-.75Zm4.25.75v1.501a.75.75 0 0 1-1.5 0V9.787a.75.75 0 0 1 1.5 0Z"></path>
</svg>
        </span>
      
        <span data-view-component="true" class="ActionListItem-label">
          Copilot
</span>      
</a>
  
</li>

        
          
<li data-item-id="" data-targets="nav-list.items" data-view-component="true" class="ActionListItem hide-whenRegular">
    
    
    <a id="item-9f9ba5b3-5b4b-4dc4-ade7-f5b242e67e2e" href="/copilot/spaces" data-view-component="true" class="ActionListContent ActionListContent--visual16">
        <span class="ActionListItem-visual ActionListItem-visual--leading">
          <svg aria-hidden="true" height="16" viewBox="0 0 16 16" version="1.1" width="16" data-view-component="true" class="octicon octicon-space">
    <path d="M0 13.25V2.75C0 1.784.784 1 1.75 1H5c.551 0 1.07.26 1.4.7l.9 1.2a.25.25 0 0 0 .2.1h6.75c.966 0 1.75.784 1.75 1.75v3.638a.75.75 0 0 1-1.5 0V4.75a.25.25 0 0 0-.25-.25H7.5a1.75 1.75 0 0 1-1.4-.7l-.9-1.2a.25.25 0 0 0-.2-.1H1.75a.25.25 0 0 0-.25.25v10.5c0 .138.112.25.25.25h5.663l.076.004a.75.75 0 0 1 0 1.492L7.413 15H1.75A1.75 1.75 0 0 1 0 13.25Z"></path><path d="M12.265 9.16a.248.248 0 0 1 .467 0l.237.649a3.726 3.726 0 0 0 2.219 2.218l.649.238a.249.249 0 0 1 0 .467l-.649.237a3.728 3.728 0 0 0-2.219 2.219l-.237.649a.249.249 0 0 1-.467 0l-.238-.649a3.726 3.726 0 0 0-2.218-2.219l-.649-.237a.248.248 0 0 1 0-.467l.649-.238a3.725 3.725 0 0 0 2.218-2.218l.238-.649Z"></path>
</svg>
        </span>
      
        <span data-view-component="true" class="ActionListItem-label">
          Spaces
</span>      
</a>
  
</li>

        
          
<li data-item-id="" data-targets="nav-list.items" data-view-component="true" class="ActionListItem ActionListItem--hasSubItem hide-whenRegular">
    
    
    <button id="item-d15b15cb-411d-436c-b2d0-1259c20f6153" type="button" aria-expanded="false" data-action="
            click:nav-list#handleItemWithSubItemClick
            keydown:nav-list#handleItemWithSubItemKeydown
          " data-view-component="true" class="ActionListContent ActionListContent--visual16">
        <span class="ActionListItem-visual ActionListItem-visual--leading">
          <svg aria-hidden="true" height="16" viewBox="0 0 16 16" version="1.1" width="16" data-view-component="true" class="octicon octicon-download">
    <path d="M2.75 14A1.75 1.75 0 0 1 1 12.25v-2.5a.75.75 0 0 1 1.5 0v2.5c0 .138.112.25.25.25h10.5a.25.25 0 0 0 .25-.25v-2.5a.75.75 0 0 1 1.5 0v2.5A1.75 1.75 0 0 1 13.25 14Z"></path><path d="M7.25 7.689V2a.75.75 0 0 1 1.5 0v5.689l1.97-1.969a.749.749 0 1 1 1.06 1.06l-3.25 3.25a.749.749 0 0 1-1.06 0L4.22 6.78a.749.749 0 1 1 1.06-1.06l1.97 1.969Z"></path>
</svg>
        </span>
      
        <span data-view-component="true" class="ActionListItem-label">
          Download Copilot
</span>      
        <span class="ActionListItem-visual ActionListItem-action--trailing">
          <svg aria-hidden="true" height="16" viewBox="0 0 16 16" version="1.1" width="16" data-view-component="true" class="octicon octicon-chevron-down ActionListItem-collapseIcon">
    <path d="M12.78 5.22a.749.749 0 0 1 0 1.06l-4.25 4.25a.749.749 0 0 1-1.06 0L3.22 6.28a.749.749 0 1 1 1.06-1.06L8 8.939l3.72-3.719a.749.749 0 0 1 1.06 0Z"></path>
</svg>
        </span>
</button>
        <ul role="list" data-action="keydown:nav-list#handleItemWithSubItemKeydown" aria-labelledby="item-d15b15cb-411d-436c-b2d0-1259c20f6153" data-view-component="true" class="ActionList ActionList--subGroup">
          
<li data-item-id="" data-targets="nav-list.items" data-view-component="true" class="ActionListItem--subItem ActionListItem">
    
    
    <a id="item-bfec6833-b4e6-4562-a522-670106970c2e" href="https://marketplace.visualstudio.com/items?itemName=GitHub.copilot" data-view-component="true" class="ActionListContent">
      
        <span data-view-component="true" class="ActionListItem-label">
          Visual Studio Code
</span>      
</a>
  
</li>

          
<li data-item-id="" data-targets="nav-list.items" data-view-component="true" class="ActionListItem--subItem ActionListItem">
    
    
    <a id="item-ed3e9639-f3ca-4761-881a-827e13187094" href="https://visualstudio.microsoft.com/github-copilot/" data-view-component="true" class="ActionListContent">
      
        <span data-view-component="true" class="ActionListItem-label">
          Visual Studio
</span>      
</a>
  
</li>

          
<li data-item-id="" data-targets="nav-list.items" data-view-component="true" class="ActionListItem--subItem ActionListItem">
    
    
    <a id="item-0700aa74-25d1-4f37-8d6f-c327ecf93dd1" href="https://github.com/github/CopilotForXcode" data-view-component="true" class="ActionListContent">
      
        <span data-view-component="true" class="ActionListItem-label">
          Xcode
</span>      
</a>
  
</li>

          
<li data-item-id="" data-targets="nav-list.items" data-view-component="true" class="ActionListItem--subItem ActionListItem">
    
    
    <a id="item-9bd689d3-d34d-4478-b144-7d05684bab5d" href="https://plugins.jetbrains.com/plugin/17718-github-copilot" data-view-component="true" class="ActionListContent">
      
        <span data-view-component="true" class="ActionListItem-label">
          JetBrains
</span>      
</a>
  
</li>

          
<li data-item-id="" data-targets="nav-list.items" data-view-component="true" class="ActionListItem--subItem ActionListItem">
    
    
    <a id="item-8ddf2b73-77ed-48b9-887c-439774834e05" href="https://github.com/github/copilot.vim" data-view-component="true" class="ActionListContent">
      
        <span data-view-component="true" class="ActionListItem-label">
          Neovim
</span>      
</a>
  
</li>

          
<li data-item-id="" data-targets="nav-list.items" data-view-component="true" class="ActionListItem--subItem ActionListItem">
    
    
    <a id="item-9b96978d-b13e-4c1e-b98d-9d6a541b8d08" href="https://docs.github.com/en/copilot/how-tos/set-up/installing-github-copilot-in-the-cli" data-view-component="true" class="ActionListContent">
      
        <span data-view-component="true" class="ActionListItem-label">
          CLI
</span>      
</a>
  
</li>

</ul>
</li>

        
          <li role="presentation" aria-hidden="true" data-view-component="true" class="ActionList-sectionDivider"></li>
        
          
<li data-item-id="" data-targets="nav-list.items" data-view-component="true" class="ActionListItem">
    
    
    <a data-analytics-event="{&quot;category&quot;:&quot;Global navigation&quot;,&quot;action&quot;:&quot;EXPLORE&quot;,&quot;label&quot;:null}" id="item-66fe3938-8d76-401a-8588-0cf76c84039a" href="/explore" data-view-component="true" class="ActionListContent ActionListContent--visual16">
        <span class="ActionListItem-visual ActionListItem-visual--leading">
          <svg aria-hidden="true" height="16" viewBox="0 0 16 16" version="1.1" width="16" data-view-component="true" class="octicon octicon-telescope">
    <path d="M14.184 1.143v-.001l1.422 2.464a1.75 1.75 0 0 1-.757 2.451L3.104 11.713a1.75 1.75 0 0 1-2.275-.702l-.447-.775a1.75 1.75 0 0 1 .53-2.32L11.682.573a1.748 1.748 0 0 1 2.502.57Zm-4.709 9.32h-.001l2.644 3.863a.75.75 0 1 1-1.238.848l-1.881-2.75v2.826a.75.75 0 0 1-1.5 0v-2.826l-1.881 2.75a.75.75 0 1 1-1.238-.848l2.049-2.992a.746.746 0 0 1 .293-.253l1.809-.87a.749.749 0 0 1 .944.252ZM9.436 3.92h-.001l-4.97 3.39.942 1.63 5.42-2.61Zm3.091-2.108h.001l-1.85 1.26 1.505 2.605 2.016-.97a.247.247 0 0 0 .13-.151.247.247 0 0 0-.022-.199l-1.422-2.464a.253.253 0 0 0-.161-.119.254.254 0 0 0-.197.038ZM1.756 9.157a.25.25 0 0 0-.075.33l.447.775a.25.25 0 0 0 .325.1l1.598-.769-.83-1.436-1.465 1Z"></path>
</svg>
        </span>
      
        <span data-view-component="true" class="ActionListItem-label">
          Explore
</span>      
</a>
  
</li>

        
          
<li data-item-id="" data-targets="nav-list.items" data-view-component="true" class="ActionListItem">
    
    
    <a data-analytics-event="{&quot;category&quot;:&quot;Global navigation&quot;,&quot;action&quot;:&quot;MARKETPLACE&quot;,&quot;label&quot;:null}" id="item-490f5c68-1a56-4a90-b145-e85c1b5dd2e2" href="/marketplace" data-view-component="true" class="ActionListContent ActionListContent--visual16">
        <span class="ActionListItem-visual ActionListItem-visual--leading">
          <svg aria-hidden="true" height="16" viewBox="0 0 16 16" version="1.1" width="16" data-view-component="true" class="octicon octicon-gift">
    <path d="M2 2.75A2.75 2.75 0 0 1 4.75 0c.983 0 1.873.42 2.57 1.232.268.318.497.668.68 1.042.183-.375.411-.725.68-1.044C9.376.42 10.266 0 11.25 0a2.75 2.75 0 0 1 2.45 4h.55c.966 0 1.75.784 1.75 1.75v2c0 .698-.409 1.301-1 1.582v4.918A1.75 1.75 0 0 1 13.25 16H2.75A1.75 1.75 0 0 1 1 14.25V9.332C.409 9.05 0 8.448 0 7.75v-2C0 4.784.784 4 1.75 4h.55c-.192-.375-.3-.8-.3-1.25ZM7.25 9.5H2.5v4.75c0 .138.112.25.25.25h4.5Zm1.5 0v5h4.5a.25.25 0 0 0 .25-.25V9.5Zm0-4V8h5.5a.25.25 0 0 0 .25-.25v-2a.25.25 0 0 0-.25-.25Zm-7 0a.25.25 0 0 0-.25.25v2c0 .138.112.25.25.25h5.5V5.5h-5.5Zm3-4a1.25 1.25 0 0 0 0 2.5h2.309c-.233-.818-.542-1.401-.878-1.793-.43-.502-.915-.707-1.431-.707ZM8.941 4h2.309a1.25 1.25 0 0 0 0-2.5c-.516 0-1 .205-1.43.707-.337.392-.646.975-.879 1.793Z"></path>
</svg>
        </span>
      
        <span data-view-component="true" class="ActionListItem-label">
          Marketplace
</span>      
</a>
  
</li>

</ul>  </nav-list>
</nav>

        <div data-view-component="true" class="my-3 d-flex flex-justify-center height-full">
          <span data-view-component="true">
  <svg style="box-sizing: content-box; color: var(--color-icon-primary);" width="16" height="16" viewBox="0 0 16 16" fill="none" aria-hidden="true" data-view-component="true" class="anim-rotate">
    <circle cx="8" cy="8" r="7" stroke="currentColor" stroke-opacity="0.25" stroke-width="2" vector-effect="non-scaling-stroke" fill="none" />
    <path d="M15 8a7.002 7.002 0 00-7-7" stroke="currentColor" stroke-width="2" stroke-linecap="round" vector-effect="non-scaling-stroke" />
</svg>    <span class="sr-only">Loading</span>
</span>
</div>
</div>
      <div data-view-component="true" class="flex-1"></div>


      <div data-view-component="true" class="px-2">      <p class="color-fg-subtle text-small text-light">&copy; 2025 GitHub, Inc.</p>

      <div data-view-component="true" class="d-flex flex-wrap text-small text-light">
          <a target="_blank" href="https://github.com/about" data-view-component="true" class="Link mr-2">About</a>
          <a target="_blank" href="https://github.blog" data-view-component="true" class="Link mr-2">Blog</a>
          <a target="_blank" href="https://docs.github.com/site-policy/github-terms/github-terms-of-service" data-view-component="true" class="Link mr-2">Terms</a>
          <a target="_blank" href="https://docs.github.com/site-policy/privacy-policies/github-privacy-statement" data-view-component="true" class="Link mr-2">Privacy</a>
          <a target="_blank" href="https://github.com/security" data-view-component="true" class="Link mr-2">Security</a>
          <a target="_blank" href="https://www.githubstatus.com/" data-view-component="true" class="Link mr-3">Status</a>

</div></div>
</div>
      </scrollable-region>
      
</dialog></dialog-helper>


  <div data-show-on-forbidden-error hidden>
    <div class="Box">
  <div class="blankslate-container">
    <div data-view-component="true" class="blankslate blankslate-spacious color-bg-default rounded-2">
      

      <h3 data-view-component="true" class="blankslate-heading">        Uh oh!
</h3>
      <p data-view-component="true">        <p class="color-fg-muted my-2 mb-2 ws-normal">There was an error while loading. <a class="Link--inTextBlock" data-turbo="false" href="" aria-label="Please reload this page">Please reload this page</a>.</p>
</p>

</div>  </div>
</div>  </div>
</include-fragment></deferred-side-panel>
        </div>

        <a class="AppHeader-logo ml-1 "
          href="https://github.com/"
          data-hotkey="g d"
          aria-label="Homepage "
          data-turbo="false"
          data-analytics-event="{&quot;category&quot;:&quot;Header&quot;,&quot;action&quot;:&quot;go to dashboard&quot;,&quot;label&quot;:&quot;icon:logo&quot;}"
        >
          <svg height="32" aria-hidden="true" viewBox="0 0 24 24" version="1.1" width="32" data-view-component="true" class="octicon octicon-mark-github v-align-middle">
    <path d="M12 1C5.923 1 1 5.923 1 12c0 4.867 3.149 8.979 7.521 10.436.55.096.756-.233.756-.522 0-.262-.013-1.128-.013-2.049-2.764.509-3.479-.674-3.699-1.292-.124-.317-.66-1.293-1.127-1.554-.385-.207-.936-.715-.014-.729.866-.014 1.485.797 1.691 1.128.99 1.663 2.571 1.196 3.204.907.096-.715.385-1.196.701-1.471-2.448-.275-5.005-1.224-5.005-5.432 0-1.196.426-2.186 1.128-2.956-.111-.275-.496-1.402.11-2.915 0 0 .921-.288 3.024 1.128a10.193 10.193 0 0 1 2.75-.371c.936 0 1.871.123 2.75.371 2.104-1.43 3.025-1.128 3.025-1.128.605 1.513.221 2.64.111 2.915.701.77 1.127 1.747 1.127 2.956 0 4.222-2.571 5.157-5.019 5.432.399.344.743 1.004.743 2.035 0 1.471-.014 2.654-.014 3.025 0 .289.206.632.756.522C19.851 20.979 23 16.854 23 12c0-6.077-4.922-11-11-11Z"></path>
</svg>
        </a>

          <context-region-controller
  class="AppHeader-context responsive-context-region"
  data-max-items="5"
  
>
  <div class="AppHeader-context-full">
    <nav role="navigation" aria-label="GitHub Breadcrumb">
      
<context-region data-target="context-region-controller.contextRegion" role="list"  data-action="context-region-changed:context-region-controller#crumbsChanged">
    <context-region-crumb
      data-crumb-id="contextregion-usercrumb-sparc-fair-codeathon"
      data-targets="context-region.crumbs"
      data-label="SPARC-FAIR-Codeathon"
      data-href="/SPARC-FAIR-Codeathon"
      data-pre-rendered
      role="listitem"
      
    >
      <a data-target="context-region-crumb.linkElement" data-analytics-event="{&quot;category&quot;:&quot;SiteHeaderComponent&quot;,&quot;action&quot;:&quot;context_region_crumb&quot;,&quot;label&quot;:&quot;SPARC-FAIR-Codeathon&quot;,&quot;screen_size&quot;:&quot;full&quot;}" data-hovercard-type="organization" data-hovercard-url="/orgs/SPARC-FAIR-Codeathon/hovercard" data-octo-click="hovercard-link-click" data-octo-dimensions="link_type:self" href="/SPARC-FAIR-Codeathon" id="contextregion-usercrumb-sparc-fair-codeathon-link" data-view-component="true" class="AppHeader-context-item">
        <span data-target="context-region-crumb.labelElement" class="AppHeader-context-item-label ">
          SPARC-FAIR-Codeathon
        </span>

</a>
      <context-region-divider data-target="context-region-crumb.dividerElement" data-pre-rendered >
  <span class="AppHeader-context-item-separator">
    <span class="sr-only">/</span>
    <svg width="16" height="16" viewBox="0 0 16 16" xmlns="http://www.w3.org/2000/svg" aria-hidden="true">
      <path d="M10.956 1.27994L6.06418 14.7201L5 14.7201L9.89181 1.27994L10.956 1.27994Z" fill="currentcolor" />
    </svg>
  </span>
</context-region-divider>

    </context-region-crumb>

      <li data-target="context-region-controller.overflowMenuContainer context-region.overflowMenuContainer" role="listitem" hidden>
        <action-menu data-target="context-region-controller.overflowActionMenu" data-select-variant="none" data-view-component="true">
  <focus-group direction="vertical" mnemonics retain>
    <button id="action-menu-418c98a1-08cb-48dc-9211-ae55fa4d8c43-button" popovertarget="action-menu-418c98a1-08cb-48dc-9211-ae55fa4d8c43-overlay" aria-controls="action-menu-418c98a1-08cb-48dc-9211-ae55fa4d8c43-list" aria-haspopup="true" aria-labelledby="tooltip-c0f5088b-c918-4520-a973-f8d93eba25f1" type="button" data-view-component="true" class="Button Button--iconOnly Button--secondary Button--medium">  <svg aria-hidden="true" height="16" viewBox="0 0 16 16" version="1.1" width="16" data-view-component="true" class="octicon octicon-kebab-horizontal Button-visual">
    <path d="M8 9a1.5 1.5 0 1 0 0-3 1.5 1.5 0 0 0 0 3ZM1.5 9a1.5 1.5 0 1 0 0-3 1.5 1.5 0 0 0 0 3Zm13 0a1.5 1.5 0 1 0 0-3 1.5 1.5 0 0 0 0 3Z"></path>
</svg>
</button><tool-tip id="tooltip-c0f5088b-c918-4520-a973-f8d93eba25f1" for="action-menu-418c98a1-08cb-48dc-9211-ae55fa4d8c43-button" popover="manual" data-direction="s" data-type="label" data-view-component="true" class="sr-only position-absolute">Show more breadcrumb items</tool-tip>


<anchored-position data-target="action-menu.overlay" id="action-menu-418c98a1-08cb-48dc-9211-ae55fa4d8c43-overlay" anchor="action-menu-418c98a1-08cb-48dc-9211-ae55fa4d8c43-button" align="start" side="outside-bottom" anchor-offset="normal" popover="auto" data-view-component="true">
  <div data-view-component="true" class="Overlay Overlay--size-auto">
    
      <div data-view-component="true" class="Overlay-body Overlay-body--paddingNone">          <action-list>
  <div data-view-component="true">
    <ul aria-labelledby="action-menu-418c98a1-08cb-48dc-9211-ae55fa4d8c43-button" id="action-menu-418c98a1-08cb-48dc-9211-ae55fa4d8c43-list" role="menu" data-view-component="true" class="ActionListWrap--inset ActionListWrap">
        <li hidden="hidden" data-crumb-id="contextregion-usercrumb-sparc-fair-codeathon" data-targets="context-region.overflowCrumbs action-list.items" data-analytics-event="{&quot;category&quot;:&quot;SiteHeaderComponent&quot;,&quot;action&quot;:&quot;context_region_overflow_menu_crumb&quot;,&quot;label&quot;:&quot;global-navigation&quot;}" role="none" data-view-component="true" class="ActionListItem">
    
    
    <a tabindex="-1" id="item-1d0ba20a-711e-4c2d-b70b-af27a9194317" href="/SPARC-FAIR-Codeathon" role="menuitem" data-view-component="true" class="ActionListContent">
      
        <span data-view-component="true" class="ActionListItem-label">
          SPARC-FAIR-Codeathon
</span>      
</a>
  
</li>
        <li hidden="hidden" data-crumb-id="contextregion-repositorycrumb-2025-team-f" data-targets="context-region.overflowCrumbs action-list.items" data-analytics-event="{&quot;category&quot;:&quot;SiteHeaderComponent&quot;,&quot;action&quot;:&quot;context_region_overflow_menu_crumb&quot;,&quot;label&quot;:&quot;global-navigation&quot;}" role="none" data-view-component="true" class="ActionListItem">
    
    
    <a tabindex="-1" id="item-243f5f02-23b9-43a5-ba33-ad21b13894d4" href="/SPARC-FAIR-Codeathon/2025-team-F" role="menuitem" data-view-component="true" class="ActionListContent">
      
        <span data-view-component="true" class="ActionListItem-label">
          2025-team-F
</span>      
</a>
  
</li>
</ul>    
</div></action-list>


</div>
      
</div></anchored-position>  </focus-group>
</action-menu>
  <context-region-divider data-target="context-region-crumb.dividerElement" data-pre-rendered >
  <span class="AppHeader-context-item-separator">
    <span class="sr-only">/</span>
    <svg width="16" height="16" viewBox="0 0 16 16" xmlns="http://www.w3.org/2000/svg" aria-hidden="true">
      <path d="M10.956 1.27994L6.06418 14.7201L5 14.7201L9.89181 1.27994L10.956 1.27994Z" fill="currentcolor" />
    </svg>
  </span>
</context-region-divider>


      </li>
    <context-region-crumb
      data-crumb-id="contextregion-repositorycrumb-2025-team-f"
      data-targets="context-region.crumbs"
      data-label="2025-team-F"
      data-href="/SPARC-FAIR-Codeathon/2025-team-F"
      data-pre-rendered
      role="listitem"
      
    >
      <a data-target="context-region-crumb.linkElement" data-analytics-event="{&quot;category&quot;:&quot;SiteHeaderComponent&quot;,&quot;action&quot;:&quot;context_region_crumb&quot;,&quot;label&quot;:&quot;2025-team-F&quot;,&quot;screen_size&quot;:&quot;full&quot;}" href="/SPARC-FAIR-Codeathon/2025-team-F" id="contextregion-repositorycrumb-2025-team-f-link" data-view-component="true" class="AppHeader-context-item">
        <span data-target="context-region-crumb.labelElement" class="AppHeader-context-item-label ">
          2025-team-F
        </span>

</a>
      <context-region-divider data-target="context-region-crumb.dividerElement" data-pre-rendered >
  <span class="AppHeader-context-item-separator">
    <span class="sr-only">/</span>
    <svg width="16" height="16" viewBox="0 0 16 16" xmlns="http://www.w3.org/2000/svg" aria-hidden="true">
      <path d="M10.956 1.27994L6.06418 14.7201L5 14.7201L9.89181 1.27994L10.956 1.27994Z" fill="currentcolor" />
    </svg>
  </span>
</context-region-divider>

    </context-region-crumb>

</context-region>

    </nav>
  </div>
</context-region-controller>

      </div>
      <div class="AppHeader-globalBar-end">
          <div class="AppHeader-search" >
              


<qbsearch-input class="search-input" data-scope="repo:SPARC-FAIR-Codeathon/2025-team-F" data-custom-scopes-path="/search/custom_scopes" data-delete-custom-scopes-csrf="amS3-8KFbiN_HQbTfcg6nhiMtcLSGYdT05Yj56BSTRayGabHQefoXmStdqryD8Xvz5qUCYhMVd_A-ltHD9rXKQ" data-max-custom-scopes="10" data-header-redesign-enabled="true" data-initial-value="" data-blackbird-suggestions-path="/search/suggestions" data-jump-to-suggestions-path="/_graphql/GetSuggestedNavigationDestinations" data-current-repository="SPARC-FAIR-Codeathon/2025-team-F" data-current-org="SPARC-FAIR-Codeathon" data-current-owner="" data-logged-in="true" data-copilot-chat-enabled="true" data-nl-search-enabled="false">
  <div
    class="search-input-container search-with-dialog position-relative d-flex flex-row flex-items-center height-auto color-bg-transparent border-0 color-fg-subtle mx-0"
    data-action="click:qbsearch-input#searchInputContainerClicked"
  >
      
            <button type="button" data-action="click:qbsearch-input#handleExpand" class="AppHeader-button AppHeader-search-whenNarrow" aria-label="Search or jump to…" aria-expanded="false" aria-haspopup="dialog">
            <svg aria-hidden="true" height="16" viewBox="0 0 16 16" version="1.1" width="16" data-view-component="true" class="octicon octicon-search">
    <path d="M10.68 11.74a6 6 0 0 1-7.922-8.982 6 6 0 0 1 8.982 7.922l3.04 3.04a.749.749 0 0 1-.326 1.275.749.749 0 0 1-.734-.215ZM11.5 7a4.499 4.499 0 1 0-8.997 0A4.499 4.499 0 0 0 11.5 7Z"></path>
</svg>
          </button>


<div class="AppHeader-search-whenRegular">
  <div class="AppHeader-search-wrap AppHeader-search-wrap--hasTrailing">
    <div class="AppHeader-search-control AppHeader-search-control-overflow">
      <label
        for="AppHeader-searchInput"
        aria-label="Search or jump to…"
        class="AppHeader-search-visual--leading"
      >
        <svg aria-hidden="true" height="16" viewBox="0 0 16 16" version="1.1" width="16" data-view-component="true" class="octicon octicon-search">
    <path d="M10.68 11.74a6 6 0 0 1-7.922-8.982 6 6 0 0 1 8.982 7.922l3.04 3.04a.749.749 0 0 1-.326 1.275.749.749 0 0 1-.734-.215ZM11.5 7a4.499 4.499 0 1 0-8.997 0A4.499 4.499 0 0 0 11.5 7Z"></path>
</svg>
      </label>

                <button
            type="button"
            data-target="qbsearch-input.inputButton"
            data-action="click:qbsearch-input#handleExpand"
            class="AppHeader-searchButton form-control text-left color-fg-subtle no-wrap"
            data-hotkey="s,/"
            data-analytics-event="{&quot;location&quot;:&quot;navbar&quot;,&quot;action&quot;:&quot;searchbar&quot;,&quot;context&quot;:&quot;global&quot;,&quot;tag&quot;:&quot;input&quot;,&quot;label&quot;:&quot;searchbar_input_global_navbar&quot;}"
            aria-describedby="search-error-message-flash"
          >
            <div class="overflow-hidden">
              <span id="qb-input-query" data-target="qbsearch-input.inputButtonText">
                  Type <kbd class="AppHeader-search-kbd">/</kbd> to search
              </span>
            </div>
          </button>

    </div>


  </div>
</div>

    <input type="hidden" name="type" class="js-site-search-type-field">

    
<div class="Overlay--hidden " data-modal-dialog-overlay>
  <modal-dialog data-action="close:qbsearch-input#handleClose cancel:qbsearch-input#handleClose" data-target="qbsearch-input.searchSuggestionsDialog" role="dialog" id="search-suggestions-dialog" aria-modal="true" aria-labelledby="search-suggestions-dialog-header" data-view-component="true" class="Overlay Overlay--width-medium Overlay--height-auto">
      <h1 id="search-suggestions-dialog-header" class="sr-only">Search code, repositories, users, issues, pull requests...</h1>
    <div class="Overlay-body Overlay-body--paddingNone">
      
          <div data-view-component="true">        <div class="search-suggestions position-absolute width-full color-shadow-large border color-fg-default color-bg-default overflow-hidden d-flex flex-column query-builder-container"
          style="border-radius: 12px;"
          data-target="qbsearch-input.queryBuilderContainer"
          hidden
        >
          <!-- '"` --><!-- </textarea></xmp> --></option></form><form id="query-builder-test-form" action="" accept-charset="UTF-8" method="get">
  <query-builder data-target="qbsearch-input.queryBuilder" id="query-builder-query-builder-test" data-filter-key=":" data-view-component="true" class="QueryBuilder search-query-builder">
    <div class="FormControl FormControl--fullWidth">
      <label id="query-builder-test-label" for="query-builder-test" class="FormControl-label sr-only">
        Search
      </label>
      <div
        class="QueryBuilder-StyledInput width-fit "
        data-target="query-builder.styledInput"
      >
          <span id="query-builder-test-leadingvisual-wrap" class="FormControl-input-leadingVisualWrap QueryBuilder-leadingVisualWrap">
            <svg aria-hidden="true" height="16" viewBox="0 0 16 16" version="1.1" width="16" data-view-component="true" class="octicon octicon-search FormControl-input-leadingVisual">
    <path d="M10.68 11.74a6 6 0 0 1-7.922-8.982 6 6 0 0 1 8.982 7.922l3.04 3.04a.749.749 0 0 1-.326 1.275.749.749 0 0 1-.734-.215ZM11.5 7a4.499 4.499 0 1 0-8.997 0A4.499 4.499 0 0 0 11.5 7Z"></path>
</svg>
          </span>
        <div data-target="query-builder.styledInputContainer" class="QueryBuilder-StyledInputContainer">
          <div
            aria-hidden="true"
            class="QueryBuilder-StyledInputContent"
            data-target="query-builder.styledInputContent"
          ></div>
          <div class="QueryBuilder-InputWrapper">
            <div aria-hidden="true" class="QueryBuilder-Sizer" data-target="query-builder.sizer"></div>
            <input id="query-builder-test" name="query-builder-test" value="" autocomplete="off" type="text" role="combobox" spellcheck="false" aria-expanded="false" aria-describedby="validation-2936619f-86ff-46cf-a994-159d0691ed67" data-target="query-builder.input" data-action="
          input:query-builder#inputChange
          blur:query-builder#inputBlur
          keydown:query-builder#inputKeydown
          focus:query-builder#inputFocus
        " data-view-component="true" class="FormControl-input QueryBuilder-Input FormControl-medium" />
          </div>
        </div>
          <span class="sr-only" id="query-builder-test-clear">Clear</span>
          <button role="button" id="query-builder-test-clear-button" aria-labelledby="query-builder-test-clear query-builder-test-label" data-target="query-builder.clearButton" data-action="
                click:query-builder#clear
                focus:query-builder#clearButtonFocus
                blur:query-builder#clearButtonBlur
              " variant="small" hidden="hidden" type="button" data-view-component="true" class="Button Button--iconOnly Button--invisible Button--medium mr-1 px-2 py-0 d-flex flex-items-center rounded-1 color-fg-muted">  <svg aria-hidden="true" height="16" viewBox="0 0 16 16" version="1.1" width="16" data-view-component="true" class="octicon octicon-x-circle-fill Button-visual">
    <path d="M2.343 13.657A8 8 0 1 1 13.658 2.343 8 8 0 0 1 2.343 13.657ZM6.03 4.97a.751.751 0 0 0-1.042.018.751.751 0 0 0-.018 1.042L6.94 8 4.97 9.97a.749.749 0 0 0 .326 1.275.749.749 0 0 0 .734-.215L8 9.06l1.97 1.97a.749.749 0 0 0 1.275-.326.749.749 0 0 0-.215-.734L9.06 8l1.97-1.97a.749.749 0 0 0-.326-1.275.749.749 0 0 0-.734.215L8 6.94Z"></path>
</svg>
</button>

      </div>
      <template id="search-icon">
  <svg aria-hidden="true" height="16" viewBox="0 0 16 16" version="1.1" width="16" data-view-component="true" class="octicon octicon-search">
    <path d="M10.68 11.74a6 6 0 0 1-7.922-8.982 6 6 0 0 1 8.982 7.922l3.04 3.04a.749.749 0 0 1-.326 1.275.749.749 0 0 1-.734-.215ZM11.5 7a4.499 4.499 0 1 0-8.997 0A4.499 4.499 0 0 0 11.5 7Z"></path>
</svg>
</template>

<template id="code-icon">
  <svg aria-hidden="true" height="16" viewBox="0 0 16 16" version="1.1" width="16" data-view-component="true" class="octicon octicon-code">
    <path d="m11.28 3.22 4.25 4.25a.75.75 0 0 1 0 1.06l-4.25 4.25a.749.749 0 0 1-1.275-.326.749.749 0 0 1 .215-.734L13.94 8l-3.72-3.72a.749.749 0 0 1 .326-1.275.749.749 0 0 1 .734.215Zm-6.56 0a.751.751 0 0 1 1.042.018.751.751 0 0 1 .018 1.042L2.06 8l3.72 3.72a.749.749 0 0 1-.326 1.275.749.749 0 0 1-.734-.215L.47 8.53a.75.75 0 0 1 0-1.06Z"></path>
</svg>
</template>

<template id="file-code-icon">
  <svg aria-hidden="true" height="16" viewBox="0 0 16 16" version="1.1" width="16" data-view-component="true" class="octicon octicon-file-code">
    <path d="M4 1.75C4 .784 4.784 0 5.75 0h5.586c.464 0 .909.184 1.237.513l2.914 2.914c.329.328.513.773.513 1.237v8.586A1.75 1.75 0 0 1 14.25 15h-9a.75.75 0 0 1 0-1.5h9a.25.25 0 0 0 .25-.25V6h-2.75A1.75 1.75 0 0 1 10 4.25V1.5H5.75a.25.25 0 0 0-.25.25v2.5a.75.75 0 0 1-1.5 0Zm1.72 4.97a.75.75 0 0 1 1.06 0l2 2a.75.75 0 0 1 0 1.06l-2 2a.749.749 0 0 1-1.275-.326.749.749 0 0 1 .215-.734l1.47-1.47-1.47-1.47a.75.75 0 0 1 0-1.06ZM3.28 7.78 1.81 9.25l1.47 1.47a.751.751 0 0 1-.018 1.042.751.751 0 0 1-1.042.018l-2-2a.75.75 0 0 1 0-1.06l2-2a.751.751 0 0 1 1.042.018.751.751 0 0 1 .018 1.042Zm8.22-6.218V4.25c0 .138.112.25.25.25h2.688l-.011-.013-2.914-2.914-.013-.011Z"></path>
</svg>
</template>

<template id="history-icon">
  <svg aria-hidden="true" height="16" viewBox="0 0 16 16" version="1.1" width="16" data-view-component="true" class="octicon octicon-history">
    <path d="m.427 1.927 1.215 1.215a8.002 8.002 0 1 1-1.6 5.685.75.75 0 1 1 1.493-.154 6.5 6.5 0 1 0 1.18-4.458l1.358 1.358A.25.25 0 0 1 3.896 6H.25A.25.25 0 0 1 0 5.75V2.104a.25.25 0 0 1 .427-.177ZM7.75 4a.75.75 0 0 1 .75.75v2.992l2.028.812a.75.75 0 0 1-.557 1.392l-2.5-1A.751.751 0 0 1 7 8.25v-3.5A.75.75 0 0 1 7.75 4Z"></path>
</svg>
</template>

<template id="repo-icon">
  <svg aria-hidden="true" height="16" viewBox="0 0 16 16" version="1.1" width="16" data-view-component="true" class="octicon octicon-repo">
    <path d="M2 2.5A2.5 2.5 0 0 1 4.5 0h8.75a.75.75 0 0 1 .75.75v12.5a.75.75 0 0 1-.75.75h-2.5a.75.75 0 0 1 0-1.5h1.75v-2h-8a1 1 0 0 0-.714 1.7.75.75 0 1 1-1.072 1.05A2.495 2.495 0 0 1 2 11.5Zm10.5-1h-8a1 1 0 0 0-1 1v6.708A2.486 2.486 0 0 1 4.5 9h8ZM5 12.25a.25.25 0 0 1 .25-.25h3.5a.25.25 0 0 1 .25.25v3.25a.25.25 0 0 1-.4.2l-1.45-1.087a.249.249 0 0 0-.3 0L5.4 15.7a.25.25 0 0 1-.4-.2Z"></path>
</svg>
</template>

<template id="bookmark-icon">
  <svg aria-hidden="true" height="16" viewBox="0 0 16 16" version="1.1" width="16" data-view-component="true" class="octicon octicon-bookmark">
    <path d="M3 2.75C3 1.784 3.784 1 4.75 1h6.5c.966 0 1.75.784 1.75 1.75v11.5a.75.75 0 0 1-1.227.579L8 11.722l-3.773 3.107A.751.751 0 0 1 3 14.25Zm1.75-.25a.25.25 0 0 0-.25.25v9.91l3.023-2.489a.75.75 0 0 1 .954 0l3.023 2.49V2.75a.25.25 0 0 0-.25-.25Z"></path>
</svg>
</template>

<template id="plus-circle-icon">
  <svg aria-hidden="true" height="16" viewBox="0 0 16 16" version="1.1" width="16" data-view-component="true" class="octicon octicon-plus-circle">
    <path d="M8 0a8 8 0 1 1 0 16A8 8 0 0 1 8 0ZM1.5 8a6.5 6.5 0 1 0 13 0 6.5 6.5 0 0 0-13 0Zm7.25-3.25v2.5h2.5a.75.75 0 0 1 0 1.5h-2.5v2.5a.75.75 0 0 1-1.5 0v-2.5h-2.5a.75.75 0 0 1 0-1.5h2.5v-2.5a.75.75 0 0 1 1.5 0Z"></path>
</svg>
</template>

<template id="circle-icon">
  <svg aria-hidden="true" height="16" viewBox="0 0 16 16" version="1.1" width="16" data-view-component="true" class="octicon octicon-dot-fill">
    <path d="M8 4a4 4 0 1 1 0 8 4 4 0 0 1 0-8Z"></path>
</svg>
</template>

<template id="trash-icon">
  <svg aria-hidden="true" height="16" viewBox="0 0 16 16" version="1.1" width="16" data-view-component="true" class="octicon octicon-trash">
    <path d="M11 1.75V3h2.25a.75.75 0 0 1 0 1.5H2.75a.75.75 0 0 1 0-1.5H5V1.75C5 .784 5.784 0 6.75 0h2.5C10.216 0 11 .784 11 1.75ZM4.496 6.675l.66 6.6a.25.25 0 0 0 .249.225h5.19a.25.25 0 0 0 .249-.225l.66-6.6a.75.75 0 0 1 1.492.149l-.66 6.6A1.748 1.748 0 0 1 10.595 15h-5.19a1.75 1.75 0 0 1-1.741-1.575l-.66-6.6a.75.75 0 1 1 1.492-.15ZM6.5 1.75V3h3V1.75a.25.25 0 0 0-.25-.25h-2.5a.25.25 0 0 0-.25.25Z"></path>
</svg>
</template>

<template id="team-icon">
  <svg aria-hidden="true" height="16" viewBox="0 0 16 16" version="1.1" width="16" data-view-component="true" class="octicon octicon-people">
    <path d="M2 5.5a3.5 3.5 0 1 1 5.898 2.549 5.508 5.508 0 0 1 3.034 4.084.75.75 0 1 1-1.482.235 4 4 0 0 0-7.9 0 .75.75 0 0 1-1.482-.236A5.507 5.507 0 0 1 3.102 8.05 3.493 3.493 0 0 1 2 5.5ZM11 4a3.001 3.001 0 0 1 2.22 5.018 5.01 5.01 0 0 1 2.56 3.012.749.749 0 0 1-.885.954.752.752 0 0 1-.549-.514 3.507 3.507 0 0 0-2.522-2.372.75.75 0 0 1-.574-.73v-.352a.75.75 0 0 1 .416-.672A1.5 1.5 0 0 0 11 5.5.75.75 0 0 1 11 4Zm-5.5-.5a2 2 0 1 0-.001 3.999A2 2 0 0 0 5.5 3.5Z"></path>
</svg>
</template>

<template id="project-icon">
  <svg aria-hidden="true" height="16" viewBox="0 0 16 16" version="1.1" width="16" data-view-component="true" class="octicon octicon-project">
    <path d="M1.75 0h12.5C15.216 0 16 .784 16 1.75v12.5A1.75 1.75 0 0 1 14.25 16H1.75A1.75 1.75 0 0 1 0 14.25V1.75C0 .784.784 0 1.75 0ZM1.5 1.75v12.5c0 .138.112.25.25.25h12.5a.25.25 0 0 0 .25-.25V1.75a.25.25 0 0 0-.25-.25H1.75a.25.25 0 0 0-.25.25ZM11.75 3a.75.75 0 0 1 .75.75v7.5a.75.75 0 0 1-1.5 0v-7.5a.75.75 0 0 1 .75-.75Zm-8.25.75a.75.75 0 0 1 1.5 0v5.5a.75.75 0 0 1-1.5 0ZM8 3a.75.75 0 0 1 .75.75v3.5a.75.75 0 0 1-1.5 0v-3.5A.75.75 0 0 1 8 3Z"></path>
</svg>
</template>

<template id="pencil-icon">
  <svg aria-hidden="true" height="16" viewBox="0 0 16 16" version="1.1" width="16" data-view-component="true" class="octicon octicon-pencil">
    <path d="M11.013 1.427a1.75 1.75 0 0 1 2.474 0l1.086 1.086a1.75 1.75 0 0 1 0 2.474l-8.61 8.61c-.21.21-.47.364-.756.445l-3.251.93a.75.75 0 0 1-.927-.928l.929-3.25c.081-.286.235-.547.445-.758l8.61-8.61Zm.176 4.823L9.75 4.81l-6.286 6.287a.253.253 0 0 0-.064.108l-.558 1.953 1.953-.558a.253.253 0 0 0 .108-.064Zm1.238-3.763a.25.25 0 0 0-.354 0L10.811 3.75l1.439 1.44 1.263-1.263a.25.25 0 0 0 0-.354Z"></path>
</svg>
</template>

<template id="copilot-icon">
  <svg aria-hidden="true" height="16" viewBox="0 0 16 16" version="1.1" width="16" data-view-component="true" class="octicon octicon-copilot">
    <path d="M7.998 15.035c-4.562 0-7.873-2.914-7.998-3.749V9.338c.085-.628.677-1.686 1.588-2.065.013-.07.024-.143.036-.218.029-.183.06-.384.126-.612-.201-.508-.254-1.084-.254-1.656 0-.87.128-1.769.693-2.484.579-.733 1.494-1.124 2.724-1.261 1.206-.134 2.262.034 2.944.765.05.053.096.108.139.165.044-.057.094-.112.143-.165.682-.731 1.738-.899 2.944-.765 1.23.137 2.145.528 2.724 1.261.566.715.693 1.614.693 2.484 0 .572-.053 1.148-.254 1.656.066.228.098.429.126.612.012.076.024.148.037.218.924.385 1.522 1.471 1.591 2.095v1.872c0 .766-3.351 3.795-8.002 3.795Zm0-1.485c2.28 0 4.584-1.11 5.002-1.433V7.862l-.023-.116c-.49.21-1.075.291-1.727.291-1.146 0-2.059-.327-2.71-.991A3.222 3.222 0 0 1 8 6.303a3.24 3.24 0 0 1-.544.743c-.65.664-1.563.991-2.71.991-.652 0-1.236-.081-1.727-.291l-.023.116v4.255c.419.323 2.722 1.433 5.002 1.433ZM6.762 2.83c-.193-.206-.637-.413-1.682-.297-1.019.113-1.479.404-1.713.7-.247.312-.369.789-.369 1.554 0 .793.129 1.171.308 1.371.162.181.519.379 1.442.379.853 0 1.339-.235 1.638-.54.315-.322.527-.827.617-1.553.117-.935-.037-1.395-.241-1.614Zm4.155-.297c-1.044-.116-1.488.091-1.681.297-.204.219-.359.679-.242 1.614.091.726.303 1.231.618 1.553.299.305.784.54 1.638.54.922 0 1.28-.198 1.442-.379.179-.2.308-.578.308-1.371 0-.765-.123-1.242-.37-1.554-.233-.296-.693-.587-1.713-.7Z"></path><path d="M6.25 9.037a.75.75 0 0 1 .75.75v1.501a.75.75 0 0 1-1.5 0V9.787a.75.75 0 0 1 .75-.75Zm4.25.75v1.501a.75.75 0 0 1-1.5 0V9.787a.75.75 0 0 1 1.5 0Z"></path>
</svg>
</template>

<template id="copilot-error-icon">
  <svg aria-hidden="true" height="16" viewBox="0 0 16 16" version="1.1" width="16" data-view-component="true" class="octicon octicon-copilot-error">
    <path d="M16 11.24c0 .112-.072.274-.21.467L13 9.688V7.862l-.023-.116c-.49.21-1.075.291-1.727.291-.198 0-.388-.009-.571-.029L6.833 5.226a4.01 4.01 0 0 0 .17-.782c.117-.935-.037-1.395-.241-1.614-.193-.206-.637-.413-1.682-.297-.683.076-1.115.231-1.395.415l-1.257-.91c.579-.564 1.413-.877 2.485-.996 1.206-.134 2.262.034 2.944.765.05.053.096.108.139.165.044-.057.094-.112.143-.165.682-.731 1.738-.899 2.944-.765 1.23.137 2.145.528 2.724 1.261.566.715.693 1.614.693 2.484 0 .572-.053 1.148-.254 1.656.066.228.098.429.126.612.012.076.024.148.037.218.924.385 1.522 1.471 1.591 2.095Zm-5.083-8.707c-1.044-.116-1.488.091-1.681.297-.204.219-.359.679-.242 1.614.091.726.303 1.231.618 1.553.299.305.784.54 1.638.54.922 0 1.28-.198 1.442-.379.179-.2.308-.578.308-1.371 0-.765-.123-1.242-.37-1.554-.233-.296-.693-.587-1.713-.7Zm2.511 11.074c-1.393.776-3.272 1.428-5.43 1.428-4.562 0-7.873-2.914-7.998-3.749V9.338c.085-.628.677-1.686 1.588-2.065.013-.07.024-.143.036-.218.029-.183.06-.384.126-.612-.18-.455-.241-.963-.252-1.475L.31 4.107A.747.747 0 0 1 0 3.509V3.49a.748.748 0 0 1 .625-.73c.156-.026.306.047.435.139l14.667 10.578a.592.592 0 0 1 .227.264.752.752 0 0 1 .046.249v.022a.75.75 0 0 1-1.19.596Zm-1.367-.991L5.635 7.964a5.128 5.128 0 0 1-.889.073c-.652 0-1.236-.081-1.727-.291l-.023.116v4.255c.419.323 2.722 1.433 5.002 1.433 1.539 0 3.089-.505 4.063-.934Z"></path>
</svg>
</template>

<template id="workflow-icon">
  <svg aria-hidden="true" height="16" viewBox="0 0 16 16" version="1.1" width="16" data-view-component="true" class="octicon octicon-workflow">
    <path d="M0 1.75C0 .784.784 0 1.75 0h3.5C6.216 0 7 .784 7 1.75v3.5A1.75 1.75 0 0 1 5.25 7H4v4a1 1 0 0 0 1 1h4v-1.25C9 9.784 9.784 9 10.75 9h3.5c.966 0 1.75.784 1.75 1.75v3.5A1.75 1.75 0 0 1 14.25 16h-3.5A1.75 1.75 0 0 1 9 14.25v-.75H5A2.5 2.5 0 0 1 2.5 11V7h-.75A1.75 1.75 0 0 1 0 5.25Zm1.75-.25a.25.25 0 0 0-.25.25v3.5c0 .138.112.25.25.25h3.5a.25.25 0 0 0 .25-.25v-3.5a.25.25 0 0 0-.25-.25Zm9 9a.25.25 0 0 0-.25.25v3.5c0 .138.112.25.25.25h3.5a.25.25 0 0 0 .25-.25v-3.5a.25.25 0 0 0-.25-.25Z"></path>
</svg>
</template>

<template id="book-icon">
  <svg aria-hidden="true" height="16" viewBox="0 0 16 16" version="1.1" width="16" data-view-component="true" class="octicon octicon-book">
    <path d="M0 1.75A.75.75 0 0 1 .75 1h4.253c1.227 0 2.317.59 3 1.501A3.743 3.743 0 0 1 11.006 1h4.245a.75.75 0 0 1 .75.75v10.5a.75.75 0 0 1-.75.75h-4.507a2.25 2.25 0 0 0-1.591.659l-.622.621a.75.75 0 0 1-1.06 0l-.622-.621A2.25 2.25 0 0 0 5.258 13H.75a.75.75 0 0 1-.75-.75Zm7.251 10.324.004-5.073-.002-2.253A2.25 2.25 0 0 0 5.003 2.5H1.5v9h3.757a3.75 3.75 0 0 1 1.994.574ZM8.755 4.75l-.004 7.322a3.752 3.752 0 0 1 1.992-.572H14.5v-9h-3.495a2.25 2.25 0 0 0-2.25 2.25Z"></path>
</svg>
</template>

<template id="code-review-icon">
  <svg aria-hidden="true" height="16" viewBox="0 0 16 16" version="1.1" width="16" data-view-component="true" class="octicon octicon-code-review">
    <path d="M1.75 1h12.5c.966 0 1.75.784 1.75 1.75v8.5A1.75 1.75 0 0 1 14.25 13H8.061l-2.574 2.573A1.458 1.458 0 0 1 3 14.543V13H1.75A1.75 1.75 0 0 1 0 11.25v-8.5C0 1.784.784 1 1.75 1ZM1.5 2.75v8.5c0 .138.112.25.25.25h2a.75.75 0 0 1 .75.75v2.19l2.72-2.72a.749.749 0 0 1 .53-.22h6.5a.25.25 0 0 0 .25-.25v-8.5a.25.25 0 0 0-.25-.25H1.75a.25.25 0 0 0-.25.25Zm5.28 1.72a.75.75 0 0 1 0 1.06L5.31 7l1.47 1.47a.751.751 0 0 1-.018 1.042.751.751 0 0 1-1.042.018l-2-2a.75.75 0 0 1 0-1.06l2-2a.75.75 0 0 1 1.06 0Zm2.44 0a.75.75 0 0 1 1.06 0l2 2a.75.75 0 0 1 0 1.06l-2 2a.751.751 0 0 1-1.042-.018.751.751 0 0 1-.018-1.042L10.69 7 9.22 5.53a.75.75 0 0 1 0-1.06Z"></path>
</svg>
</template>

<template id="codespaces-icon">
  <svg aria-hidden="true" height="16" viewBox="0 0 16 16" version="1.1" width="16" data-view-component="true" class="octicon octicon-codespaces">
    <path d="M0 11.25c0-.966.784-1.75 1.75-1.75h12.5c.966 0 1.75.784 1.75 1.75v3A1.75 1.75 0 0 1 14.25 16H1.75A1.75 1.75 0 0 1 0 14.25Zm2-9.5C2 .784 2.784 0 3.75 0h8.5C13.216 0 14 .784 14 1.75v5a1.75 1.75 0 0 1-1.75 1.75h-8.5A1.75 1.75 0 0 1 2 6.75Zm1.75-.25a.25.25 0 0 0-.25.25v5c0 .138.112.25.25.25h8.5a.25.25 0 0 0 .25-.25v-5a.25.25 0 0 0-.25-.25Zm-2 9.5a.25.25 0 0 0-.25.25v3c0 .138.112.25.25.25h12.5a.25.25 0 0 0 .25-.25v-3a.25.25 0 0 0-.25-.25Z"></path><path d="M7 12.75a.75.75 0 0 1 .75-.75h4.5a.75.75 0 0 1 0 1.5h-4.5a.75.75 0 0 1-.75-.75Zm-4 0a.75.75 0 0 1 .75-.75h.5a.75.75 0 0 1 0 1.5h-.5a.75.75 0 0 1-.75-.75Z"></path>
</svg>
</template>

<template id="comment-icon">
  <svg aria-hidden="true" height="16" viewBox="0 0 16 16" version="1.1" width="16" data-view-component="true" class="octicon octicon-comment">
    <path d="M1 2.75C1 1.784 1.784 1 2.75 1h10.5c.966 0 1.75.784 1.75 1.75v7.5A1.75 1.75 0 0 1 13.25 12H9.06l-2.573 2.573A1.458 1.458 0 0 1 4 13.543V12H2.75A1.75 1.75 0 0 1 1 10.25Zm1.75-.25a.25.25 0 0 0-.25.25v7.5c0 .138.112.25.25.25h2a.75.75 0 0 1 .75.75v2.19l2.72-2.72a.749.749 0 0 1 .53-.22h4.5a.25.25 0 0 0 .25-.25v-7.5a.25.25 0 0 0-.25-.25Z"></path>
</svg>
</template>

<template id="comment-discussion-icon">
  <svg aria-hidden="true" height="16" viewBox="0 0 16 16" version="1.1" width="16" data-view-component="true" class="octicon octicon-comment-discussion">
    <path d="M1.75 1h8.5c.966 0 1.75.784 1.75 1.75v5.5A1.75 1.75 0 0 1 10.25 10H7.061l-2.574 2.573A1.458 1.458 0 0 1 2 11.543V10h-.25A1.75 1.75 0 0 1 0 8.25v-5.5C0 1.784.784 1 1.75 1ZM1.5 2.75v5.5c0 .138.112.25.25.25h1a.75.75 0 0 1 .75.75v2.19l2.72-2.72a.749.749 0 0 1 .53-.22h3.5a.25.25 0 0 0 .25-.25v-5.5a.25.25 0 0 0-.25-.25h-8.5a.25.25 0 0 0-.25.25Zm13 2a.25.25 0 0 0-.25-.25h-.5a.75.75 0 0 1 0-1.5h.5c.966 0 1.75.784 1.75 1.75v5.5A1.75 1.75 0 0 1 14.25 12H14v1.543a1.458 1.458 0 0 1-2.487 1.03L9.22 12.28a.749.749 0 0 1 .326-1.275.749.749 0 0 1 .734.215l2.22 2.22v-2.19a.75.75 0 0 1 .75-.75h1a.25.25 0 0 0 .25-.25Z"></path>
</svg>
</template>

<template id="organization-icon">
  <svg aria-hidden="true" height="16" viewBox="0 0 16 16" version="1.1" width="16" data-view-component="true" class="octicon octicon-organization">
    <path d="M1.75 16A1.75 1.75 0 0 1 0 14.25V1.75C0 .784.784 0 1.75 0h8.5C11.216 0 12 .784 12 1.75v12.5c0 .085-.006.168-.018.25h2.268a.25.25 0 0 0 .25-.25V8.285a.25.25 0 0 0-.111-.208l-1.055-.703a.749.749 0 1 1 .832-1.248l1.055.703c.487.325.779.871.779 1.456v5.965A1.75 1.75 0 0 1 14.25 16h-3.5a.766.766 0 0 1-.197-.026c-.099.017-.2.026-.303.026h-3a.75.75 0 0 1-.75-.75V14h-1v1.25a.75.75 0 0 1-.75.75Zm-.25-1.75c0 .138.112.25.25.25H4v-1.25a.75.75 0 0 1 .75-.75h2.5a.75.75 0 0 1 .75.75v1.25h2.25a.25.25 0 0 0 .25-.25V1.75a.25.25 0 0 0-.25-.25h-8.5a.25.25 0 0 0-.25.25ZM3.75 6h.5a.75.75 0 0 1 0 1.5h-.5a.75.75 0 0 1 0-1.5ZM3 3.75A.75.75 0 0 1 3.75 3h.5a.75.75 0 0 1 0 1.5h-.5A.75.75 0 0 1 3 3.75Zm4 3A.75.75 0 0 1 7.75 6h.5a.75.75 0 0 1 0 1.5h-.5A.75.75 0 0 1 7 6.75ZM7.75 3h.5a.75.75 0 0 1 0 1.5h-.5a.75.75 0 0 1 0-1.5ZM3 9.75A.75.75 0 0 1 3.75 9h.5a.75.75 0 0 1 0 1.5h-.5A.75.75 0 0 1 3 9.75ZM7.75 9h.5a.75.75 0 0 1 0 1.5h-.5a.75.75 0 0 1 0-1.5Z"></path>
</svg>
</template>

<template id="rocket-icon">
  <svg aria-hidden="true" height="16" viewBox="0 0 16 16" version="1.1" width="16" data-view-component="true" class="octicon octicon-rocket">
    <path d="M14.064 0h.186C15.216 0 16 .784 16 1.75v.186a8.752 8.752 0 0 1-2.564 6.186l-.458.459c-.314.314-.641.616-.979.904v3.207c0 .608-.315 1.172-.833 1.49l-2.774 1.707a.749.749 0 0 1-1.11-.418l-.954-3.102a1.214 1.214 0 0 1-.145-.125L3.754 9.816a1.218 1.218 0 0 1-.124-.145L.528 8.717a.749.749 0 0 1-.418-1.11l1.71-2.774A1.748 1.748 0 0 1 3.31 4h3.204c.288-.338.59-.665.904-.979l.459-.458A8.749 8.749 0 0 1 14.064 0ZM8.938 3.623h-.002l-.458.458c-.76.76-1.437 1.598-2.02 2.5l-1.5 2.317 2.143 2.143 2.317-1.5c.902-.583 1.74-1.26 2.499-2.02l.459-.458a7.25 7.25 0 0 0 2.123-5.127V1.75a.25.25 0 0 0-.25-.25h-.186a7.249 7.249 0 0 0-5.125 2.123ZM3.56 14.56c-.732.732-2.334 1.045-3.005 1.148a.234.234 0 0 1-.201-.064.234.234 0 0 1-.064-.201c.103-.671.416-2.273 1.15-3.003a1.502 1.502 0 1 1 2.12 2.12Zm6.94-3.935c-.088.06-.177.118-.266.175l-2.35 1.521.548 1.783 1.949-1.2a.25.25 0 0 0 .119-.213ZM3.678 8.116 5.2 5.766c.058-.09.117-.178.176-.266H3.309a.25.25 0 0 0-.213.119l-1.2 1.95ZM12 5a1 1 0 1 1-2 0 1 1 0 0 1 2 0Z"></path>
</svg>
</template>

<template id="shield-check-icon">
  <svg aria-hidden="true" height="16" viewBox="0 0 16 16" version="1.1" width="16" data-view-component="true" class="octicon octicon-shield-check">
    <path d="m8.533.133 5.25 1.68A1.75 1.75 0 0 1 15 3.48V7c0 1.566-.32 3.182-1.303 4.682-.983 1.498-2.585 2.813-5.032 3.855a1.697 1.697 0 0 1-1.33 0c-2.447-1.042-4.049-2.357-5.032-3.855C1.32 10.182 1 8.566 1 7V3.48a1.75 1.75 0 0 1 1.217-1.667l5.25-1.68a1.748 1.748 0 0 1 1.066 0Zm-.61 1.429.001.001-5.25 1.68a.251.251 0 0 0-.174.237V7c0 1.36.275 2.666 1.057 3.859.784 1.194 2.121 2.342 4.366 3.298a.196.196 0 0 0 .154 0c2.245-.957 3.582-2.103 4.366-3.297C13.225 9.666 13.5 8.358 13.5 7V3.48a.25.25 0 0 0-.174-.238l-5.25-1.68a.25.25 0 0 0-.153 0ZM11.28 6.28l-3.5 3.5a.75.75 0 0 1-1.06 0l-1.5-1.5a.749.749 0 0 1 .326-1.275.749.749 0 0 1 .734.215l.97.97 2.97-2.97a.751.751 0 0 1 1.042.018.751.751 0 0 1 .018 1.042Z"></path>
</svg>
</template>

<template id="heart-icon">
  <svg aria-hidden="true" height="16" viewBox="0 0 16 16" version="1.1" width="16" data-view-component="true" class="octicon octicon-heart">
    <path d="m8 14.25.345.666a.75.75 0 0 1-.69 0l-.008-.004-.018-.01a7.152 7.152 0 0 1-.31-.17 22.055 22.055 0 0 1-3.434-2.414C2.045 10.731 0 8.35 0 5.5 0 2.836 2.086 1 4.25 1 5.797 1 7.153 1.802 8 3.02 8.847 1.802 10.203 1 11.75 1 13.914 1 16 2.836 16 5.5c0 2.85-2.045 5.231-3.885 6.818a22.066 22.066 0 0 1-3.744 2.584l-.018.01-.006.003h-.002ZM4.25 2.5c-1.336 0-2.75 1.164-2.75 3 0 2.15 1.58 4.144 3.365 5.682A20.58 20.58 0 0 0 8 13.393a20.58 20.58 0 0 0 3.135-2.211C12.92 9.644 14.5 7.65 14.5 5.5c0-1.836-1.414-3-2.75-3-1.373 0-2.609.986-3.029 2.456a.749.749 0 0 1-1.442 0C6.859 3.486 5.623 2.5 4.25 2.5Z"></path>
</svg>
</template>

<template id="server-icon">
  <svg aria-hidden="true" height="16" viewBox="0 0 16 16" version="1.1" width="16" data-view-component="true" class="octicon octicon-server">
    <path d="M1.75 1h12.5c.966 0 1.75.784 1.75 1.75v4c0 .372-.116.717-.314 1 .198.283.314.628.314 1v4a1.75 1.75 0 0 1-1.75 1.75H1.75A1.75 1.75 0 0 1 0 12.75v-4c0-.358.109-.707.314-1a1.739 1.739 0 0 1-.314-1v-4C0 1.784.784 1 1.75 1ZM1.5 2.75v4c0 .138.112.25.25.25h12.5a.25.25 0 0 0 .25-.25v-4a.25.25 0 0 0-.25-.25H1.75a.25.25 0 0 0-.25.25Zm.25 5.75a.25.25 0 0 0-.25.25v4c0 .138.112.25.25.25h12.5a.25.25 0 0 0 .25-.25v-4a.25.25 0 0 0-.25-.25ZM7 4.75A.75.75 0 0 1 7.75 4h4.5a.75.75 0 0 1 0 1.5h-4.5A.75.75 0 0 1 7 4.75ZM7.75 10h4.5a.75.75 0 0 1 0 1.5h-4.5a.75.75 0 0 1 0-1.5ZM3 4.75A.75.75 0 0 1 3.75 4h.5a.75.75 0 0 1 0 1.5h-.5A.75.75 0 0 1 3 4.75ZM3.75 10h.5a.75.75 0 0 1 0 1.5h-.5a.75.75 0 0 1 0-1.5Z"></path>
</svg>
</template>

<template id="globe-icon">
  <svg aria-hidden="true" height="16" viewBox="0 0 16 16" version="1.1" width="16" data-view-component="true" class="octicon octicon-globe">
    <path d="M8 0a8 8 0 1 1 0 16A8 8 0 0 1 8 0ZM5.78 8.75a9.64 9.64 0 0 0 1.363 4.177c.255.426.542.832.857 1.215.245-.296.551-.705.857-1.215A9.64 9.64 0 0 0 10.22 8.75Zm4.44-1.5a9.64 9.64 0 0 0-1.363-4.177c-.307-.51-.612-.919-.857-1.215a9.927 9.927 0 0 0-.857 1.215A9.64 9.64 0 0 0 5.78 7.25Zm-5.944 1.5H1.543a6.507 6.507 0 0 0 4.666 5.5c-.123-.181-.24-.365-.352-.552-.715-1.192-1.437-2.874-1.581-4.948Zm-2.733-1.5h2.733c.144-2.074.866-3.756 1.58-4.948.12-.197.237-.381.353-.552a6.507 6.507 0 0 0-4.666 5.5Zm10.181 1.5c-.144 2.074-.866 3.756-1.58 4.948-.12.197-.237.381-.353.552a6.507 6.507 0 0 0 4.666-5.5Zm2.733-1.5a6.507 6.507 0 0 0-4.666-5.5c.123.181.24.365.353.552.714 1.192 1.436 2.874 1.58 4.948Z"></path>
</svg>
</template>

<template id="issue-opened-icon">
  <svg aria-hidden="true" height="16" viewBox="0 0 16 16" version="1.1" width="16" data-view-component="true" class="octicon octicon-issue-opened">
    <path d="M8 9.5a1.5 1.5 0 1 0 0-3 1.5 1.5 0 0 0 0 3Z"></path><path d="M8 0a8 8 0 1 1 0 16A8 8 0 0 1 8 0ZM1.5 8a6.5 6.5 0 1 0 13 0 6.5 6.5 0 0 0-13 0Z"></path>
</svg>
</template>

<template id="device-mobile-icon">
  <svg aria-hidden="true" height="16" viewBox="0 0 16 16" version="1.1" width="16" data-view-component="true" class="octicon octicon-device-mobile">
    <path d="M3.75 0h8.5C13.216 0 14 .784 14 1.75v12.5A1.75 1.75 0 0 1 12.25 16h-8.5A1.75 1.75 0 0 1 2 14.25V1.75C2 .784 2.784 0 3.75 0ZM3.5 1.75v12.5c0 .138.112.25.25.25h8.5a.25.25 0 0 0 .25-.25V1.75a.25.25 0 0 0-.25-.25h-8.5a.25.25 0 0 0-.25.25ZM8 13a1 1 0 1 1 0-2 1 1 0 0 1 0 2Z"></path>
</svg>
</template>

<template id="package-icon">
  <svg aria-hidden="true" height="16" viewBox="0 0 16 16" version="1.1" width="16" data-view-component="true" class="octicon octicon-package">
    <path d="m8.878.392 5.25 3.045c.54.314.872.89.872 1.514v6.098a1.75 1.75 0 0 1-.872 1.514l-5.25 3.045a1.75 1.75 0 0 1-1.756 0l-5.25-3.045A1.75 1.75 0 0 1 1 11.049V4.951c0-.624.332-1.201.872-1.514L7.122.392a1.75 1.75 0 0 1 1.756 0ZM7.875 1.69l-4.63 2.685L8 7.133l4.755-2.758-4.63-2.685a.248.248 0 0 0-.25 0ZM2.5 5.677v5.372c0 .09.047.171.125.216l4.625 2.683V8.432Zm6.25 8.271 4.625-2.683a.25.25 0 0 0 .125-.216V5.677L8.75 8.432Z"></path>
</svg>
</template>

<template id="credit-card-icon">
  <svg aria-hidden="true" height="16" viewBox="0 0 16 16" version="1.1" width="16" data-view-component="true" class="octicon octicon-credit-card">
    <path d="M10.75 9a.75.75 0 0 0 0 1.5h1.5a.75.75 0 0 0 0-1.5h-1.5Z"></path><path d="M0 3.75C0 2.784.784 2 1.75 2h12.5c.966 0 1.75.784 1.75 1.75v8.5A1.75 1.75 0 0 1 14.25 14H1.75A1.75 1.75 0 0 1 0 12.25ZM14.5 6.5h-13v5.75c0 .138.112.25.25.25h12.5a.25.25 0 0 0 .25-.25Zm0-2.75a.25.25 0 0 0-.25-.25H1.75a.25.25 0 0 0-.25.25V5h13Z"></path>
</svg>
</template>

<template id="play-icon">
  <svg aria-hidden="true" height="16" viewBox="0 0 16 16" version="1.1" width="16" data-view-component="true" class="octicon octicon-play">
    <path d="M8 0a8 8 0 1 1 0 16A8 8 0 0 1 8 0ZM1.5 8a6.5 6.5 0 1 0 13 0 6.5 6.5 0 0 0-13 0Zm4.879-2.773 4.264 2.559a.25.25 0 0 1 0 .428l-4.264 2.559A.25.25 0 0 1 6 10.559V5.442a.25.25 0 0 1 .379-.215Z"></path>
</svg>
</template>

<template id="gift-icon">
  <svg aria-hidden="true" height="16" viewBox="0 0 16 16" version="1.1" width="16" data-view-component="true" class="octicon octicon-gift">
    <path d="M2 2.75A2.75 2.75 0 0 1 4.75 0c.983 0 1.873.42 2.57 1.232.268.318.497.668.68 1.042.183-.375.411-.725.68-1.044C9.376.42 10.266 0 11.25 0a2.75 2.75 0 0 1 2.45 4h.55c.966 0 1.75.784 1.75 1.75v2c0 .698-.409 1.301-1 1.582v4.918A1.75 1.75 0 0 1 13.25 16H2.75A1.75 1.75 0 0 1 1 14.25V9.332C.409 9.05 0 8.448 0 7.75v-2C0 4.784.784 4 1.75 4h.55c-.192-.375-.3-.8-.3-1.25ZM7.25 9.5H2.5v4.75c0 .138.112.25.25.25h4.5Zm1.5 0v5h4.5a.25.25 0 0 0 .25-.25V9.5Zm0-4V8h5.5a.25.25 0 0 0 .25-.25v-2a.25.25 0 0 0-.25-.25Zm-7 0a.25.25 0 0 0-.25.25v2c0 .138.112.25.25.25h5.5V5.5h-5.5Zm3-4a1.25 1.25 0 0 0 0 2.5h2.309c-.233-.818-.542-1.401-.878-1.793-.43-.502-.915-.707-1.431-.707ZM8.941 4h2.309a1.25 1.25 0 0 0 0-2.5c-.516 0-1 .205-1.43.707-.337.392-.646.975-.879 1.793Z"></path>
</svg>
</template>

<template id="code-square-icon">
  <svg aria-hidden="true" height="16" viewBox="0 0 16 16" version="1.1" width="16" data-view-component="true" class="octicon octicon-code-square">
    <path d="M0 1.75C0 .784.784 0 1.75 0h12.5C15.216 0 16 .784 16 1.75v12.5A1.75 1.75 0 0 1 14.25 16H1.75A1.75 1.75 0 0 1 0 14.25Zm1.75-.25a.25.25 0 0 0-.25.25v12.5c0 .138.112.25.25.25h12.5a.25.25 0 0 0 .25-.25V1.75a.25.25 0 0 0-.25-.25Zm7.47 3.97a.75.75 0 0 1 1.06 0l2 2a.75.75 0 0 1 0 1.06l-2 2a.749.749 0 0 1-1.275-.326.749.749 0 0 1 .215-.734L10.69 8 9.22 6.53a.75.75 0 0 1 0-1.06ZM6.78 6.53 5.31 8l1.47 1.47a.749.749 0 0 1-.326 1.275.749.749 0 0 1-.734-.215l-2-2a.75.75 0 0 1 0-1.06l2-2a.751.751 0 0 1 1.042.018.751.751 0 0 1 .018 1.042Z"></path>
</svg>
</template>

<template id="device-desktop-icon">
  <svg aria-hidden="true" height="16" viewBox="0 0 16 16" version="1.1" width="16" data-view-component="true" class="octicon octicon-device-desktop">
    <path d="M14.25 1c.966 0 1.75.784 1.75 1.75v7.5A1.75 1.75 0 0 1 14.25 12h-3.727c.099 1.041.52 1.872 1.292 2.757A.752.752 0 0 1 11.25 16h-6.5a.75.75 0 0 1-.565-1.243c.772-.885 1.192-1.716 1.292-2.757H1.75A1.75 1.75 0 0 1 0 10.25v-7.5C0 1.784.784 1 1.75 1ZM1.75 2.5a.25.25 0 0 0-.25.25v7.5c0 .138.112.25.25.25h12.5a.25.25 0 0 0 .25-.25v-7.5a.25.25 0 0 0-.25-.25ZM9.018 12H6.982a5.72 5.72 0 0 1-.765 2.5h3.566a5.72 5.72 0 0 1-.765-2.5Z"></path>
</svg>
</template>

        <div class="position-relative">
                <ul
                  role="listbox"
                  class="ActionListWrap QueryBuilder-ListWrap"
                  aria-label="Suggestions"
                  data-action="
                    combobox-commit:query-builder#comboboxCommit
                    mousedown:query-builder#resultsMousedown
                  "
                  data-target="query-builder.resultsList"
                  data-persist-list=false
                  id="query-builder-test-results"
                  tabindex="-1"
                ></ul>
        </div>
      <div class="FormControl-inlineValidation" id="validation-2936619f-86ff-46cf-a994-159d0691ed67" hidden="hidden">
        <span class="FormControl-inlineValidation--visual">
          <svg aria-hidden="true" height="12" viewBox="0 0 12 12" version="1.1" width="12" data-view-component="true" class="octicon octicon-alert-fill">
    <path d="M4.855.708c.5-.896 1.79-.896 2.29 0l4.675 8.351a1.312 1.312 0 0 1-1.146 1.954H1.33A1.313 1.313 0 0 1 .183 9.058ZM7 7V3H5v4Zm-1 3a1 1 0 1 0 0-2 1 1 0 0 0 0 2Z"></path>
</svg>
        </span>
        <span></span>
</div>    </div>
    <div data-target="query-builder.screenReaderFeedback" aria-live="polite" aria-atomic="true" class="sr-only"></div>
</query-builder></form>
          <div class="d-flex flex-row color-fg-muted px-3 text-small color-bg-default search-feedback-prompt">
            <a target="_blank" href="https://docs.github.com/search-github/github-code-search/understanding-github-code-search-syntax" data-view-component="true" class="Link color-fg-accent text-normal ml-2">Search syntax tips</a>            <div class="d-flex flex-1"></div>
              <button data-action="click:qbsearch-input#showFeedbackDialog" type="button" data-view-component="true" class="Button--link Button--medium Button color-fg-accent text-normal ml-2">  <span class="Button-content">
    <span class="Button-label">Give feedback</span>
  </span>
</button>
          </div>
        </div>
</div>

    </div>
</modal-dialog></div>
  </div>
  <div data-action="click:qbsearch-input#retract" class="dark-backdrop position-fixed" hidden data-target="qbsearch-input.darkBackdrop"></div>
  <div class="color-fg-default">
    
<dialog-helper>
  <dialog data-target="qbsearch-input.feedbackDialog" data-action="close:qbsearch-input#handleDialogClose cancel:qbsearch-input#handleDialogClose" id="feedback-dialog" aria-modal="true" aria-labelledby="feedback-dialog-title" aria-describedby="feedback-dialog-description" data-view-component="true" class="Overlay Overlay-whenNarrow Overlay--size-medium Overlay--motion-scaleFade Overlay--disableScroll">
    <div data-view-component="true" class="Overlay-header">
  <div class="Overlay-headerContentWrap">
    <div class="Overlay-titleWrap">
      <h1 class="Overlay-title " id="feedback-dialog-title">
        Provide feedback
      </h1>
        
    </div>
    <div class="Overlay-actionWrap">
      <button data-close-dialog-id="feedback-dialog" aria-label="Close" aria-label="Close" type="button" data-view-component="true" class="close-button Overlay-closeButton"><svg aria-hidden="true" height="16" viewBox="0 0 16 16" version="1.1" width="16" data-view-component="true" class="octicon octicon-x">
    <path d="M3.72 3.72a.75.75 0 0 1 1.06 0L8 6.94l3.22-3.22a.749.749 0 0 1 1.275.326.749.749 0 0 1-.215.734L9.06 8l3.22 3.22a.749.749 0 0 1-.326 1.275.749.749 0 0 1-.734-.215L8 9.06l-3.22 3.22a.751.751 0 0 1-1.042-.018.751.751 0 0 1-.018-1.042L6.94 8 3.72 4.78a.75.75 0 0 1 0-1.06Z"></path>
</svg></button>
    </div>
  </div>
  
</div>
      <scrollable-region data-labelled-by="feedback-dialog-title">
        <div data-view-component="true" class="Overlay-body">        <!-- '"` --><!-- </textarea></xmp> --></option></form><form id="code-search-feedback-form" data-turbo="false" action="/search/feedback" accept-charset="UTF-8" method="post"><input type="hidden" name="authenticity_token" value="zI-OOZ_1WbX5fYVtvL_n9DwyDqbQnKqfW06kJJ8O5OluyvY5Ki33eKSEVWXIKysk5scUJClLco_Furias0V2xg" />
          <p>We read every piece of feedback, and take your input very seriously.</p>
          <textarea name="feedback" class="form-control width-full mb-2" style="height: 120px" id="feedback"></textarea>
          <input name="include_email" id="include_email" aria-label="Include my email address so I can be contacted" class="form-control mr-2" type="checkbox">
          <label for="include_email" style="font-weight: normal">Include my email address so I can be contacted</label>
</form></div>
      </scrollable-region>
      <div data-view-component="true" class="Overlay-footer Overlay-footer--alignEnd">          <button data-close-dialog-id="feedback-dialog" type="button" data-view-component="true" class="btn">    Cancel
</button>
          <button form="code-search-feedback-form" data-action="click:qbsearch-input#submitFeedback" type="submit" data-view-component="true" class="btn-primary btn">    Submit feedback
</button>
</div>
</dialog></dialog-helper>

    <custom-scopes data-target="qbsearch-input.customScopesManager">
    
<dialog-helper>
  <dialog data-target="custom-scopes.customScopesModalDialog" data-action="close:qbsearch-input#handleDialogClose cancel:qbsearch-input#handleDialogClose" id="custom-scopes-dialog" aria-modal="true" aria-labelledby="custom-scopes-dialog-title" aria-describedby="custom-scopes-dialog-description" data-view-component="true" class="Overlay Overlay-whenNarrow Overlay--size-medium Overlay--motion-scaleFade Overlay--disableScroll">
    <div data-view-component="true" class="Overlay-header Overlay-header--divided">
  <div class="Overlay-headerContentWrap">
    <div class="Overlay-titleWrap">
      <h1 class="Overlay-title " id="custom-scopes-dialog-title">
        Saved searches
      </h1>
        <h2 id="custom-scopes-dialog-description" class="Overlay-description">Use saved searches to filter your results more quickly</h2>
    </div>
    <div class="Overlay-actionWrap">
      <button data-close-dialog-id="custom-scopes-dialog" aria-label="Close" aria-label="Close" type="button" data-view-component="true" class="close-button Overlay-closeButton"><svg aria-hidden="true" height="16" viewBox="0 0 16 16" version="1.1" width="16" data-view-component="true" class="octicon octicon-x">
    <path d="M3.72 3.72a.75.75 0 0 1 1.06 0L8 6.94l3.22-3.22a.749.749 0 0 1 1.275.326.749.749 0 0 1-.215.734L9.06 8l3.22 3.22a.749.749 0 0 1-.326 1.275.749.749 0 0 1-.734-.215L8 9.06l-3.22 3.22a.751.751 0 0 1-1.042-.018.751.751 0 0 1-.018-1.042L6.94 8 3.72 4.78a.75.75 0 0 1 0-1.06Z"></path>
</svg></button>
    </div>
  </div>
  
</div>
      <scrollable-region data-labelled-by="custom-scopes-dialog-title">
        <div data-view-component="true" class="Overlay-body">        <div data-target="custom-scopes.customScopesModalDialogFlash"></div>

        <div hidden class="create-custom-scope-form" data-target="custom-scopes.createCustomScopeForm">
        <!-- '"` --><!-- </textarea></xmp> --></option></form><form id="custom-scopes-dialog-form" data-turbo="false" action="/search/custom_scopes" accept-charset="UTF-8" method="post"><input type="hidden" name="authenticity_token" value="VGqGBgT44j202LvB2QlwsnW8kkpAcjTbjOjJdiAd59p9qilElVl-B5HaMxZnjctUedcpSSg-n9z_1Au5LJwS2g" />
          <div data-target="custom-scopes.customScopesModalDialogFlash"></div>

          <input type="hidden" id="custom_scope_id" name="custom_scope_id" data-target="custom-scopes.customScopesIdField">

          <div class="form-group">
            <label for="custom_scope_name">Name</label>
            <auto-check src="/search/custom_scopes/check_name" required>
              <input
                type="text"
                name="custom_scope_name"
                id="custom_scope_name"
                data-target="custom-scopes.customScopesNameField"
                class="form-control"
                autocomplete="off"
                placeholder="github-ruby"
                required
                maxlength="50">
              <input type="hidden" value="d_TVAEgB9NzWLKAYAydXlUrWiUO5EWSnoajxBi1AG6JucYVa-VoQ8y4DFSMpmfZxJEZBlJ8FkmEEYPfN57i4LQ" data-csrf="true" />
            </auto-check>
          </div>

          <div class="form-group">
            <label for="custom_scope_query">Query</label>
            <input
              type="text"
              name="custom_scope_query"
              id="custom_scope_query"
              data-target="custom-scopes.customScopesQueryField"
              class="form-control"
              autocomplete="off"
              placeholder="(repo:mona/a OR repo:mona/b) AND lang:python"
              required
              maxlength="500">
          </div>

          <p class="text-small color-fg-muted">
            To see all available qualifiers, see our <a class="Link--inTextBlock" href="https://docs.github.com/search-github/github-code-search/understanding-github-code-search-syntax">documentation</a>.
          </p>
</form>        </div>

        <div data-target="custom-scopes.manageCustomScopesForm">
          <div data-target="custom-scopes.list"></div>
        </div>

</div>
      </scrollable-region>
      <div data-view-component="true" class="Overlay-footer Overlay-footer--alignEnd Overlay-footer--divided">          <button data-action="click:custom-scopes#customScopesCancel" type="button" data-view-component="true" class="btn">    Cancel
</button>
          <button form="custom-scopes-dialog-form" data-action="click:custom-scopes#customScopesSubmit" data-target="custom-scopes.customScopesSubmitButton" type="submit" data-view-component="true" class="btn-primary btn">    Create saved search
</button>
</div>
</dialog></dialog-helper>
    </custom-scopes>
  </div>
</qbsearch-input>  <input type="hidden" value="eOPcmA2CRU68MRC0Y_UWnhugoNXLkv56Jt3Gd3XqCIQVD9yDd6nUGFQPk7f3-wbQGqBG0bkYyZvKjLPdQe_lxw" data-csrf="true" class="js-data-jump-to-suggestions-path-csrf" />


          </div>

        
          <div class="AppHeader-CopilotChat hide-sm hide-md">
  <react-partial-anchor>
      <a href="/copilot" data-target="react-partial-anchor.anchor" id="copilot-chat-header-button" aria-labelledby="tooltip-9fc1a3ad-86f1-4ba6-8db9-2beadd2c44f3" data-view-component="true" class="Button Button--iconOnly Button--secondary Button--medium AppHeader-button AppHeader-buttonLeft cursor-wait">  <svg aria-hidden="true" height="16" viewBox="0 0 16 16" version="1.1" width="16" data-view-component="true" class="octicon octicon-copilot Button-visual">
    <path d="M7.998 15.035c-4.562 0-7.873-2.914-7.998-3.749V9.338c.085-.628.677-1.686 1.588-2.065.013-.07.024-.143.036-.218.029-.183.06-.384.126-.612-.201-.508-.254-1.084-.254-1.656 0-.87.128-1.769.693-2.484.579-.733 1.494-1.124 2.724-1.261 1.206-.134 2.262.034 2.944.765.05.053.096.108.139.165.044-.057.094-.112.143-.165.682-.731 1.738-.899 2.944-.765 1.23.137 2.145.528 2.724 1.261.566.715.693 1.614.693 2.484 0 .572-.053 1.148-.254 1.656.066.228.098.429.126.612.012.076.024.148.037.218.924.385 1.522 1.471 1.591 2.095v1.872c0 .766-3.351 3.795-8.002 3.795Zm0-1.485c2.28 0 4.584-1.11 5.002-1.433V7.862l-.023-.116c-.49.21-1.075.291-1.727.291-1.146 0-2.059-.327-2.71-.991A3.222 3.222 0 0 1 8 6.303a3.24 3.24 0 0 1-.544.743c-.65.664-1.563.991-2.71.991-.652 0-1.236-.081-1.727-.291l-.023.116v4.255c.419.323 2.722 1.433 5.002 1.433ZM6.762 2.83c-.193-.206-.637-.413-1.682-.297-1.019.113-1.479.404-1.713.7-.247.312-.369.789-.369 1.554 0 .793.129 1.171.308 1.371.162.181.519.379 1.442.379.853 0 1.339-.235 1.638-.54.315-.322.527-.827.617-1.553.117-.935-.037-1.395-.241-1.614Zm4.155-.297c-1.044-.116-1.488.091-1.681.297-.204.219-.359.679-.242 1.614.091.726.303 1.231.618 1.553.299.305.784.54 1.638.54.922 0 1.28-.198 1.442-.379.179-.2.308-.578.308-1.371 0-.765-.123-1.242-.37-1.554-.233-.296-.693-.587-1.713-.7Z"></path><path d="M6.25 9.037a.75.75 0 0 1 .75.75v1.501a.75.75 0 0 1-1.5 0V9.787a.75.75 0 0 1 .75-.75Zm4.25.75v1.501a.75.75 0 0 1-1.5 0V9.787a.75.75 0 0 1 1.5 0Z"></path>
</svg>
</a><tool-tip id="tooltip-9fc1a3ad-86f1-4ba6-8db9-2beadd2c44f3" for="copilot-chat-header-button" popover="manual" data-direction="s" data-type="label" data-view-component="true" class="sr-only position-absolute">Chat with Copilot</tool-tip>

    <template data-target="react-partial-anchor.template">
      <script crossorigin="anonymous" type="application/javascript" src="https://github.githubassets.com/assets/vendors-node_modules_tanstack_react-query_build_modern_useQuery_js-8a047a904eb7.js" defer="defer"></script>
<script crossorigin="anonymous" type="application/javascript" src="https://github.githubassets.com/assets/vendors-node_modules_focus-visible_dist_focus-visible_js-node_modules_github_hotkey_dist_inde-336f14-af1017addab8.js" defer="defer"></script>
<script crossorigin="anonymous" type="application/javascript" src="https://github.githubassets.com/assets/vendors-node_modules_react-relay_index_js-cce72ae26cdb.js" defer="defer"></script>
<script crossorigin="anonymous" type="application/javascript" src="https://github.githubassets.com/assets/vendors-node_modules_remark-gfm_lib_index_js-node_modules_remark-parse_lib_index_js-node_modu-44d0fc-7eaa74070c73.js" defer="defer"></script>
<script crossorigin="anonymous" type="application/javascript" src="https://github.githubassets.com/assets/vendors-node_modules_hastscript_lib_index_js-node_modules_lowlight_lib_all_js-node_modules_re-7714c4-3ff6cb9f66a5.js" defer="defer"></script>
<script crossorigin="anonymous" type="application/javascript" src="https://github.githubassets.com/assets/vendors-node_modules_diff_lib_index_mjs-3d31f78b8478.js" defer="defer"></script>
<script crossorigin="anonymous" type="application/javascript" src="https://github.githubassets.com/assets/vendors-node_modules_github_mini-throttle_dist_decorators_js-node_modules_accname_dist_access-ce77c7-4daf69fcf5e0.js" defer="defer"></script>
<script crossorigin="anonymous" type="application/javascript" src="https://github.githubassets.com/assets/vendors-node_modules_emoji-regex_index_js-node_modules_tanstack_react-query_build_modern_useM-a11183-4baedbb2bacd.js" defer="defer"></script>
<script crossorigin="anonymous" type="application/javascript" src="https://github.githubassets.com/assets/vendors-node_modules_github_hydro-analytics-client_dist_analytics-client_js-node_modules_gith-3037e1-32a46ebb5721.js" defer="defer"></script>
<script crossorigin="anonymous" type="application/javascript" src="https://github.githubassets.com/assets/ui_packages_relay-environment_relay-environment_ts-6880df42a34b.js" defer="defer"></script>
<script crossorigin="anonymous" type="application/javascript" src="https://github.githubassets.com/assets/ui_packages_copilot-chat_utils_copilot-chat-helpers_ts-6bb98028000c.js" defer="defer"></script>
<script crossorigin="anonymous" type="application/javascript" src="https://github.githubassets.com/assets/ui_packages_item-picker_components_RepositoryPicker_tsx-4c709ef44797.js" defer="defer"></script>
<script crossorigin="anonymous" type="application/javascript" src="https://github.githubassets.com/assets/ui_packages_copilot-markdown_MarkdownRenderer_tsx-025b155ec3c4.js" defer="defer"></script>
<script crossorigin="anonymous" type="application/javascript" src="https://github.githubassets.com/assets/ui_packages_copilot-chat_utils_CopilotChatContext_tsx-b38d21c723cc.js" defer="defer"></script>
<script crossorigin="anonymous" type="application/javascript" src="https://github.githubassets.com/assets/ui_packages_copilot-chat_components_ModelPicker_tsx-66d98d7be657.js" defer="defer"></script>
<script crossorigin="anonymous" type="application/javascript" src="https://github.githubassets.com/assets/ui_packages_copilot-chat_components_CopilotIconAnimation_tsx-1da7f48de940.js" defer="defer"></script>
<script crossorigin="anonymous" type="application/javascript" src="https://github.githubassets.com/assets/ui_packages_document-metadata_document-metadata_ts-ui_packages_promise-with-resolvers-polyfil-93a5fb-fa290f04594b.js" defer="defer"></script>
<script crossorigin="anonymous" type="application/javascript" src="https://github.githubassets.com/assets/ui_packages_copilot-chat_entry_ts-ui_packages_use-client-value_use-client-value_ts-ui_package-24032a-de561a0b3bce.js" defer="defer"></script>
<script crossorigin="anonymous" type="application/javascript" src="https://github.githubassets.com/assets/copilot-chat-a8c9c44e9e2f.js" defer="defer"></script>
<link crossorigin="anonymous" media="all" rel="stylesheet" href="https://github.githubassets.com/assets/primer-react.260d30274859410b0337.module.css" />
<link crossorigin="anonymous" media="all" rel="stylesheet" href="https://github.githubassets.com/assets/ui_packages_document-metadata_document-metadata_ts-ui_packages_promise-with-resolvers-polyfil-93a5fb.a97da77ef9ffbbb01961.module.css" />
<link crossorigin="anonymous" media="all" rel="stylesheet" href="https://github.githubassets.com/assets/copilot-chat.28666a8d26ecd3bb66c4.module.css" />
      <link crossorigin="anonymous" media="all" rel="stylesheet" href="https://github.githubassets.com/assets/copilot-markdown-rendering-ddd978d4a7c0.css" />
      <include-fragment src="/github-copilot/chat?skip_anchor=true" data-nonce="v2:e2092d26-038f-b912-3ee4-c390f9eb3514" data-view-component="true">
  
  <div data-show-on-forbidden-error hidden>
    <div class="Box">
  <div class="blankslate-container">
    <div data-view-component="true" class="blankslate blankslate-spacious color-bg-default rounded-2">
      

      <h3 data-view-component="true" class="blankslate-heading">        Uh oh!
</h3>
      <p data-view-component="true">        <p class="color-fg-muted my-2 mb-2 ws-normal">There was an error while loading. <a class="Link--inTextBlock" data-turbo="false" href="" aria-label="Please reload this page">Please reload this page</a>.</p>
</p>

</div>  </div>
</div>  </div>
</include-fragment>
    </template>
  </react-partial-anchor>
  <react-partial-anchor>
    <button id="global-copilot-menu-button" data-target="react-partial-anchor.anchor" aria-expanded="false" aria-labelledby="tooltip-962709e7-cafa-4fbf-ae5d-597f927e46a8" type="button" data-view-component="true" class="Button Button--iconOnly Button--secondary Button--medium AppHeader-button AppHeader-buttonRight ">  <svg aria-hidden="true" height="16" viewBox="0 0 16 16" version="1.1" width="16" data-view-component="true" class="octicon octicon-triangle-down Button-visual">
    <path d="m4.427 7.427 3.396 3.396a.25.25 0 0 0 .354 0l3.396-3.396A.25.25 0 0 0 11.396 7H4.604a.25.25 0 0 0-.177.427Z"></path>
</svg>
</button><tool-tip id="tooltip-962709e7-cafa-4fbf-ae5d-597f927e46a8" for="global-copilot-menu-button" popover="manual" data-direction="s" data-type="label" data-view-component="true" class="sr-only position-absolute">Open Copilot… (Alt+Shift+C)</tool-tip>

    <template data-target="react-partial-anchor.template">
      <link crossorigin="anonymous" media="all" rel="stylesheet" href="https://github.githubassets.com/assets/primer-react.260d30274859410b0337.module.css" />
<link crossorigin="anonymous" media="all" rel="stylesheet" href="https://github.githubassets.com/assets/ui_packages_agent-sessions_utils_uuid_ts-ui_packages_agent-sessions_components_NewTaskChatInp-867ea1.2e1147cad88bd78932e9.module.css" />
<link crossorigin="anonymous" media="all" rel="stylesheet" href="https://github.githubassets.com/assets/global-copilot-menu.482572570c598edaa829.module.css" />

<react-partial
  partial-name="global-copilot-menu"
  data-ssr="false"
  data-attempted-ssr="false"
  data-react-profiling="false"
>
  
  <script type="application/json" data-target="react-partial.embeddedData">{"props":{}}</script>
  <div data-target="react-partial.reactRoot"></div>
</react-partial>

    </template>
  </react-partial-anchor>
</div>




        <div class="AppHeader-actions position-relative">
             <react-partial-anchor>
      <button id="global-create-menu-anchor" aria-label="Create something new" data-target="react-partial-anchor.anchor" type="button" disabled="disabled" data-view-component="true" class="AppHeader-button global-create-button cursor-wait Button--secondary Button--medium Button width-auto color-fg-muted">  <span class="Button-content">
      <span class="Button-visual Button-leadingVisual">
        <svg aria-hidden="true" height="16" viewBox="0 0 16 16" version="1.1" width="16" data-view-component="true" class="octicon octicon-plus">
    <path d="M7.75 2a.75.75 0 0 1 .75.75V7h4.25a.75.75 0 0 1 0 1.5H8.5v4.25a.75.75 0 0 1-1.5 0V8.5H2.75a.75.75 0 0 1 0-1.5H7V2.75A.75.75 0 0 1 7.75 2Z"></path>
</svg>
      </span>
    <span class="Button-label"><svg aria-hidden="true" height="16" viewBox="0 0 16 16" version="1.1" width="16" data-view-component="true" class="octicon octicon-triangle-down">
    <path d="m4.427 7.427 3.396 3.396a.25.25 0 0 0 .354 0l3.396-3.396A.25.25 0 0 0 11.396 7H4.604a.25.25 0 0 0-.177.427Z"></path>
</svg></span>
  </span>
</button><tool-tip id="tooltip-5ab27910-494f-4ff9-8123-c1bfb112249f" for="global-create-menu-anchor" popover="manual" data-direction="s" data-type="description" data-view-component="true" class="sr-only position-absolute">Create new...</tool-tip>

      <template data-target="react-partial-anchor.template">
        <link crossorigin="anonymous" media="all" rel="stylesheet" href="https://github.githubassets.com/assets/primer-react.260d30274859410b0337.module.css" />
<link crossorigin="anonymous" media="all" rel="stylesheet" href="https://github.githubassets.com/assets/global-create-menu.be9cb11ea6367dfdb719.module.css" />

<react-partial
  partial-name="global-create-menu"
  data-ssr="false"
  data-attempted-ssr="false"
  data-react-profiling="false"
>
  
  <script type="application/json" data-target="react-partial.embeddedData">{"props":{"createRepo":true,"importRepo":true,"codespaces":true,"spark":false,"codingAgent":false,"gist":true,"createOrg":true,"createProject":false,"createProjectUrl":"/OmkarAthavale?tab=projects","createLegacyProject":false,"createIssue":true,"org":null,"owner":"SPARC-FAIR-Codeathon","repo":"2025-team-F"}}</script>
  <div data-target="react-partial.reactRoot"></div>
</react-partial>

      </template>
    </react-partial-anchor>


            <a href="/issues" data-analytics-event="{&quot;category&quot;:&quot;Global navigation&quot;,&quot;action&quot;:&quot;ISSUES_HEADER&quot;,&quot;label&quot;:null}" id="icon-button-2600af5f-e117-44ec-a5c5-efc03cfe02aa" aria-labelledby="tooltip-c1925ddd-5361-44ff-9bfb-104bbaaa2ed3" data-view-component="true" class="Button Button--iconOnly Button--secondary Button--medium AppHeader-button color-fg-muted">  <svg aria-hidden="true" height="16" viewBox="0 0 16 16" version="1.1" width="16" data-view-component="true" class="octicon octicon-issue-opened Button-visual">
    <path d="M8 9.5a1.5 1.5 0 1 0 0-3 1.5 1.5 0 0 0 0 3Z"></path><path d="M8 0a8 8 0 1 1 0 16A8 8 0 0 1 8 0ZM1.5 8a6.5 6.5 0 1 0 13 0 6.5 6.5 0 0 0-13 0Z"></path>
</svg>
</a><tool-tip id="tooltip-c1925ddd-5361-44ff-9bfb-104bbaaa2ed3" for="icon-button-2600af5f-e117-44ec-a5c5-efc03cfe02aa" popover="manual" data-direction="s" data-type="label" data-view-component="true" class="sr-only position-absolute">Your issues</tool-tip>

            <a href="/pulls" data-analytics-event="{&quot;category&quot;:&quot;Global navigation&quot;,&quot;action&quot;:&quot;PULL_REQUESTS_HEADER&quot;,&quot;label&quot;:null}" id="icon-button-7d8058b9-7e1d-41a8-a574-6da2f43e25c3" aria-labelledby="tooltip-63cda2ff-7bbc-40d7-a28b-5173d21529d5" data-view-component="true" class="Button Button--iconOnly Button--secondary Button--medium AppHeader-button color-fg-muted">  <svg aria-hidden="true" height="16" viewBox="0 0 16 16" version="1.1" width="16" data-view-component="true" class="octicon octicon-git-pull-request Button-visual">
    <path d="M1.5 3.25a2.25 2.25 0 1 1 3 2.122v5.256a2.251 2.251 0 1 1-1.5 0V5.372A2.25 2.25 0 0 1 1.5 3.25Zm5.677-.177L9.573.677A.25.25 0 0 1 10 .854V2.5h1A2.5 2.5 0 0 1 13.5 5v5.628a2.251 2.251 0 1 1-1.5 0V5a1 1 0 0 0-1-1h-1v1.646a.25.25 0 0 1-.427.177L7.177 3.427a.25.25 0 0 1 0-.354ZM3.75 2.5a.75.75 0 1 0 0 1.5.75.75 0 0 0 0-1.5Zm0 9.5a.75.75 0 1 0 0 1.5.75.75 0 0 0 0-1.5Zm8.25.75a.75.75 0 1 0 1.5 0 .75.75 0 0 0-1.5 0Z"></path>
</svg>
</a><tool-tip id="tooltip-63cda2ff-7bbc-40d7-a28b-5173d21529d5" for="icon-button-7d8058b9-7e1d-41a8-a574-6da2f43e25c3" popover="manual" data-direction="s" data-type="label" data-view-component="true" class="sr-only position-absolute">Your pull requests</tool-tip>

        </div>

          <notification-indicator data-channel="eyJjIjoibm90aWZpY2F0aW9uLWNoYW5nZWQ6MjUwMTU3NTQiLCJ0IjoxNzU0MzY2MDE4fQ==--7de0ecb7620d5ca1af7effa690062094ad6ced230643a314f2e752a1305c7536" data-indicator-mode="none" data-tooltip-global="You have unread notifications" data-tooltip-unavailable="Notifications are unavailable at the moment." data-tooltip-none="You have no unread notifications" data-header-redesign-enabled="true" data-fetch-indicator-src="/notifications/indicator" data-fetch-indicator-enabled="true" data-view-component="true" class="js-socket-channel">
    <a id="AppHeader-notifications-button" href="/notifications" aria-labelledby="notification-indicator-tooltip" data-hotkey="g n" data-target="notification-indicator.link" data-analytics-event="{&quot;category&quot;:&quot;Global navigation&quot;,&quot;action&quot;:&quot;NOTIFICATIONS_HEADER&quot;,&quot;label&quot;:null}" data-view-component="true" class="Button Button--iconOnly Button--secondary Button--medium AppHeader-button  color-fg-muted">  <svg aria-hidden="true" height="16" viewBox="0 0 16 16" version="1.1" width="16" data-view-component="true" class="octicon octicon-inbox Button-visual">
    <path d="M2.8 2.06A1.75 1.75 0 0 1 4.41 1h7.18c.7 0 1.333.417 1.61 1.06l2.74 6.395c.04.093.06.194.06.295v4.5A1.75 1.75 0 0 1 14.25 15H1.75A1.75 1.75 0 0 1 0 13.25v-4.5c0-.101.02-.202.06-.295Zm1.61.44a.25.25 0 0 0-.23.152L1.887 8H4.75a.75.75 0 0 1 .6.3L6.625 10h2.75l1.275-1.7a.75.75 0 0 1 .6-.3h2.863L11.82 2.652a.25.25 0 0 0-.23-.152Zm10.09 7h-2.875l-1.275 1.7a.75.75 0 0 1-.6.3h-3.5a.75.75 0 0 1-.6-.3L4.375 9.5H1.5v3.75c0 .138.112.25.25.25h12.5a.25.25 0 0 0 .25-.25Z"></path>
</svg>
</a>

    <tool-tip id="notification-indicator-tooltip" data-target="notification-indicator.tooltip" for="AppHeader-notifications-button" popover="manual" data-direction="s" data-type="label" data-view-component="true" class="sr-only position-absolute">Notifications</tool-tip>
</notification-indicator>

        <div class="AppHeader-user">
          <deferred-side-panel data-url="/_side-panels/user?repository_id=1028403411">
  <include-fragment data-target="deferred-side-panel.fragment" data-nonce="v2:e2092d26-038f-b912-3ee4-c390f9eb3514" data-view-component="true">
  
    <react-partial-anchor
  
>
  <button data-target="react-partial-anchor.anchor" data-login="OmkarAthavale" aria-label="Open user navigation menu" type="button" data-view-component="true" class="cursor-wait Button--invisible Button--medium Button Button--invisible-noVisuals color-bg-transparent p-0">  <span class="Button-content">
    <span class="Button-label"><img src="https://avatars.githubusercontent.com/u/25015754?v=4" alt="" size="32" height="32" width="32" data-view-component="true" class="avatar circle" /></span>
  </span>
</button>
  <template data-target="react-partial-anchor.template">
    <link crossorigin="anonymous" media="all" rel="stylesheet" href="https://github.githubassets.com/assets/primer-react.260d30274859410b0337.module.css" />
<link crossorigin="anonymous" media="all" rel="stylesheet" href="https://github.githubassets.com/assets/global-user-nav-drawer.e8cf9cec9edb459b70de.module.css" />

<react-partial
  partial-name="global-user-nav-drawer"
  data-ssr="false"
  data-attempted-ssr="false"
  data-react-profiling="false"
>
  
  <script type="application/json" data-target="react-partial.embeddedData">{"props":{"owner":{"login":"OmkarAthavale","name":null,"avatarUrl":"https://avatars.githubusercontent.com/u/25015754?v=4"},"drawerId":"global-user-nav-drawer","lazyLoadItemDataFetchUrl":"/_side-panels/user.json","canAddAccount":true,"addAccountPath":"/login?add_account=1\u0026return_to=https%3A%2F%2Fgithub.com%2FSPARC-FAIR-Codeathon%2F2025-team-F%2Fblob%2Frestructuring%2Fexamples%2Ftf_pretrained_model.ipynb","switchAccountPath":"/switch_account","loginAccountPath":"/login?add_account=1","projectsPath":"/OmkarAthavale?tab=projects","gistsUrl":"https://gist.github.com/mine","docsUrl":"https://docs.github.com","yourEnterpriseUrl":null,"enterpriseSettingsUrl":null,"supportUrl":"https://support.github.com","showAccountSwitcher":true,"showCopilot":true,"showEnterprises":true,"showEnterprise":false,"showGithubMCPServerCTA":true,"showGists":true,"showOrganizations":true,"showSponsors":true,"showUpgrade":true,"showFeaturesPreviews":true,"showEnterpriseSettings":false,"createMenuProps":{"createRepo":true,"importRepo":true,"codespaces":true,"spark":false,"codingAgent":false,"gist":true,"createOrg":true,"createProject":false,"createProjectUrl":"/OmkarAthavale?tab=projects","createLegacyProject":false,"createIssue":true,"org":null,"owner":"SPARC-FAIR-Codeathon","repo":"2025-team-F"}}}</script>
  <div data-target="react-partial.reactRoot"></div>
</react-partial>

  </template>
</react-partial-anchor>


  <div data-show-on-forbidden-error hidden>
    <div class="Box">
  <div class="blankslate-container">
    <div data-view-component="true" class="blankslate blankslate-spacious color-bg-default rounded-2">
      

      <h3 data-view-component="true" class="blankslate-heading">        Uh oh!
</h3>
      <p data-view-component="true">        <p class="color-fg-muted my-2 mb-2 ws-normal">There was an error while loading. <a class="Link--inTextBlock" data-turbo="false" href="" aria-label="Please reload this page">Please reload this page</a>.</p>
</p>

</div>  </div>
</div>  </div>
</include-fragment></deferred-side-panel>
        </div>

        <div class="position-absolute mt-2">
            
<site-header-logged-in-user-menu>

</site-header-logged-in-user-menu>

        </div>
      </div>
    </div>


    
        <div class="AppHeader-localBar" >
          <nav data-pjax="#js-repo-pjax-container" aria-label="Repository" data-view-component="true" class="js-repo-nav js-sidenav-container-pjax js-responsive-underlinenav overflow-hidden UnderlineNav">

  <ul data-view-component="true" class="UnderlineNav-body list-style-none">
      <li data-view-component="true" class="d-inline-flex">
  <a id="code-tab" href="/SPARC-FAIR-Codeathon/2025-team-F/tree/restructuring" data-tab-item="i0code-tab" data-selected-links="repo_source repo_downloads repo_commits repo_releases repo_tags repo_branches repo_packages repo_deployments repo_attestations /SPARC-FAIR-Codeathon/2025-team-F/tree/restructuring" data-pjax="#repo-content-pjax-container" data-turbo-frame="repo-content-turbo-frame" data-hotkey="g c" data-analytics-event="{&quot;category&quot;:&quot;Underline navbar&quot;,&quot;action&quot;:&quot;Click tab&quot;,&quot;label&quot;:&quot;Code&quot;,&quot;target&quot;:&quot;UNDERLINE_NAV.TAB&quot;}" data-view-component="true" class="UnderlineNav-item no-wrap js-responsive-underlinenav-item js-selected-navigation-item">
    
              <svg aria-hidden="true" height="16" viewBox="0 0 16 16" version="1.1" width="16" data-view-component="true" class="octicon octicon-code UnderlineNav-octicon d-none d-sm-inline">
    <path d="m11.28 3.22 4.25 4.25a.75.75 0 0 1 0 1.06l-4.25 4.25a.749.749 0 0 1-1.275-.326.749.749 0 0 1 .215-.734L13.94 8l-3.72-3.72a.749.749 0 0 1 .326-1.275.749.749 0 0 1 .734.215Zm-6.56 0a.751.751 0 0 1 1.042.018.751.751 0 0 1 .018 1.042L2.06 8l3.72 3.72a.749.749 0 0 1-.326 1.275.749.749 0 0 1-.734-.215L.47 8.53a.75.75 0 0 1 0-1.06Z"></path>
</svg>
        <span data-content="Code">Code</span>
          <span id="code-repo-tab-count" data-pjax-replace="" data-turbo-replace="" title="Not available" data-view-component="true" class="Counter"></span>


    
</a></li>
      <li data-view-component="true" class="d-inline-flex">
  <a id="issues-tab" href="/SPARC-FAIR-Codeathon/2025-team-F/issues" data-tab-item="i1issues-tab" data-selected-links="repo_issues repo_labels repo_milestones /SPARC-FAIR-Codeathon/2025-team-F/issues" data-pjax="#repo-content-pjax-container" data-turbo-frame="repo-content-turbo-frame" data-hotkey="g i" data-analytics-event="{&quot;category&quot;:&quot;Underline navbar&quot;,&quot;action&quot;:&quot;Click tab&quot;,&quot;label&quot;:&quot;Issues&quot;,&quot;target&quot;:&quot;UNDERLINE_NAV.TAB&quot;}" data-view-component="true" class="UnderlineNav-item no-wrap js-responsive-underlinenav-item js-selected-navigation-item">
    
              <svg aria-hidden="true" height="16" viewBox="0 0 16 16" version="1.1" width="16" data-view-component="true" class="octicon octicon-issue-opened UnderlineNav-octicon d-none d-sm-inline">
    <path d="M8 9.5a1.5 1.5 0 1 0 0-3 1.5 1.5 0 0 0 0 3Z"></path><path d="M8 0a8 8 0 1 1 0 16A8 8 0 0 1 8 0ZM1.5 8a6.5 6.5 0 1 0 13 0 6.5 6.5 0 0 0-13 0Z"></path>
</svg>
        <span data-content="Issues">Issues</span>
          <span id="issues-repo-tab-count" data-pjax-replace="" data-turbo-replace="" title="0" hidden="hidden" data-view-component="true" class="Counter">0</span>


    
</a></li>
      <li data-view-component="true" class="d-inline-flex">
  <a id="pull-requests-tab" href="/SPARC-FAIR-Codeathon/2025-team-F/pulls" data-tab-item="i2pull-requests-tab" data-selected-links="repo_pulls checks /SPARC-FAIR-Codeathon/2025-team-F/pulls" data-pjax="#repo-content-pjax-container" data-turbo-frame="repo-content-turbo-frame" data-hotkey="g p" data-analytics-event="{&quot;category&quot;:&quot;Underline navbar&quot;,&quot;action&quot;:&quot;Click tab&quot;,&quot;label&quot;:&quot;Pull requests&quot;,&quot;target&quot;:&quot;UNDERLINE_NAV.TAB&quot;}" data-view-component="true" class="UnderlineNav-item no-wrap js-responsive-underlinenav-item js-selected-navigation-item">
    
              <svg aria-hidden="true" height="16" viewBox="0 0 16 16" version="1.1" width="16" data-view-component="true" class="octicon octicon-git-pull-request UnderlineNav-octicon d-none d-sm-inline">
    <path d="M1.5 3.25a2.25 2.25 0 1 1 3 2.122v5.256a2.251 2.251 0 1 1-1.5 0V5.372A2.25 2.25 0 0 1 1.5 3.25Zm5.677-.177L9.573.677A.25.25 0 0 1 10 .854V2.5h1A2.5 2.5 0 0 1 13.5 5v5.628a2.251 2.251 0 1 1-1.5 0V5a1 1 0 0 0-1-1h-1v1.646a.25.25 0 0 1-.427.177L7.177 3.427a.25.25 0 0 1 0-.354ZM3.75 2.5a.75.75 0 1 0 0 1.5.75.75 0 0 0 0-1.5Zm0 9.5a.75.75 0 1 0 0 1.5.75.75 0 0 0 0-1.5Zm8.25.75a.75.75 0 1 0 1.5 0 .75.75 0 0 0-1.5 0Z"></path>
</svg>
        <span data-content="Pull requests">Pull requests</span>
          <span id="pull-requests-repo-tab-count" data-pjax-replace="" data-turbo-replace="" title="0" hidden="hidden" data-view-component="true" class="Counter">0</span>


    
</a></li>
      <li data-view-component="true" class="d-inline-flex">
  <a id="actions-tab" href="/SPARC-FAIR-Codeathon/2025-team-F/actions" data-tab-item="i3actions-tab" data-selected-links="repo_actions /SPARC-FAIR-Codeathon/2025-team-F/actions" data-pjax="#repo-content-pjax-container" data-turbo-frame="repo-content-turbo-frame" data-hotkey="g a" data-analytics-event="{&quot;category&quot;:&quot;Underline navbar&quot;,&quot;action&quot;:&quot;Click tab&quot;,&quot;label&quot;:&quot;Actions&quot;,&quot;target&quot;:&quot;UNDERLINE_NAV.TAB&quot;}" data-view-component="true" class="UnderlineNav-item no-wrap js-responsive-underlinenav-item js-selected-navigation-item">
    
              <svg aria-hidden="true" height="16" viewBox="0 0 16 16" version="1.1" width="16" data-view-component="true" class="octicon octicon-play UnderlineNav-octicon d-none d-sm-inline">
    <path d="M8 0a8 8 0 1 1 0 16A8 8 0 0 1 8 0ZM1.5 8a6.5 6.5 0 1 0 13 0 6.5 6.5 0 0 0-13 0Zm4.879-2.773 4.264 2.559a.25.25 0 0 1 0 .428l-4.264 2.559A.25.25 0 0 1 6 10.559V5.442a.25.25 0 0 1 .379-.215Z"></path>
</svg>
        <span data-content="Actions">Actions</span>
          <span id="actions-repo-tab-count" data-pjax-replace="" data-turbo-replace="" title="Not available" data-view-component="true" class="Counter"></span>


    
</a></li>
      <li data-view-component="true" class="d-inline-flex">
  <a id="projects-tab" href="/SPARC-FAIR-Codeathon/2025-team-F/projects" data-tab-item="i4projects-tab" data-selected-links="repo_projects new_repo_project repo_project /SPARC-FAIR-Codeathon/2025-team-F/projects" data-pjax="#repo-content-pjax-container" data-turbo-frame="repo-content-turbo-frame" data-hotkey="g b" data-analytics-event="{&quot;category&quot;:&quot;Underline navbar&quot;,&quot;action&quot;:&quot;Click tab&quot;,&quot;label&quot;:&quot;Projects&quot;,&quot;target&quot;:&quot;UNDERLINE_NAV.TAB&quot;}" data-view-component="true" class="UnderlineNav-item no-wrap js-responsive-underlinenav-item js-selected-navigation-item">
    
              <svg aria-hidden="true" height="16" viewBox="0 0 16 16" version="1.1" width="16" data-view-component="true" class="octicon octicon-table UnderlineNav-octicon d-none d-sm-inline">
    <path d="M0 1.75C0 .784.784 0 1.75 0h12.5C15.216 0 16 .784 16 1.75v12.5A1.75 1.75 0 0 1 14.25 16H1.75A1.75 1.75 0 0 1 0 14.25ZM6.5 6.5v8h7.75a.25.25 0 0 0 .25-.25V6.5Zm8-1.5V1.75a.25.25 0 0 0-.25-.25H6.5V5Zm-13 1.5v7.75c0 .138.112.25.25.25H5v-8ZM5 5V1.5H1.75a.25.25 0 0 0-.25.25V5Z"></path>
</svg>
        <span data-content="Projects">Projects</span>
          <span id="projects-repo-tab-count" data-pjax-replace="" data-turbo-replace="" title="0" hidden="hidden" data-view-component="true" class="Counter">0</span>


    
</a></li>
      <li data-view-component="true" class="d-inline-flex">
  <a id="wiki-tab" href="/SPARC-FAIR-Codeathon/2025-team-F/wiki" data-tab-item="i5wiki-tab" data-selected-links="repo_wiki /SPARC-FAIR-Codeathon/2025-team-F/wiki" data-pjax="#repo-content-pjax-container" data-turbo-frame="repo-content-turbo-frame" data-hotkey="g w" data-analytics-event="{&quot;category&quot;:&quot;Underline navbar&quot;,&quot;action&quot;:&quot;Click tab&quot;,&quot;label&quot;:&quot;Wiki&quot;,&quot;target&quot;:&quot;UNDERLINE_NAV.TAB&quot;}" data-view-component="true" class="UnderlineNav-item no-wrap js-responsive-underlinenav-item js-selected-navigation-item">
    
              <svg aria-hidden="true" height="16" viewBox="0 0 16 16" version="1.1" width="16" data-view-component="true" class="octicon octicon-book UnderlineNav-octicon d-none d-sm-inline">
    <path d="M0 1.75A.75.75 0 0 1 .75 1h4.253c1.227 0 2.317.59 3 1.501A3.743 3.743 0 0 1 11.006 1h4.245a.75.75 0 0 1 .75.75v10.5a.75.75 0 0 1-.75.75h-4.507a2.25 2.25 0 0 0-1.591.659l-.622.621a.75.75 0 0 1-1.06 0l-.622-.621A2.25 2.25 0 0 0 5.258 13H.75a.75.75 0 0 1-.75-.75Zm7.251 10.324.004-5.073-.002-2.253A2.25 2.25 0 0 0 5.003 2.5H1.5v9h3.757a3.75 3.75 0 0 1 1.994.574ZM8.755 4.75l-.004 7.322a3.752 3.752 0 0 1 1.992-.572H14.5v-9h-3.495a2.25 2.25 0 0 0-2.25 2.25Z"></path>
</svg>
        <span data-content="Wiki">Wiki</span>
          <span id="wiki-repo-tab-count" data-pjax-replace="" data-turbo-replace="" title="Not available" data-view-component="true" class="Counter"></span>


    
</a></li>
      <li data-view-component="true" class="d-inline-flex">
  <a id="security-tab" href="/SPARC-FAIR-Codeathon/2025-team-F/security" data-tab-item="i6security-tab" data-selected-links="security overview alerts policy token_scanning code_scanning /SPARC-FAIR-Codeathon/2025-team-F/security" data-pjax="#repo-content-pjax-container" data-turbo-frame="repo-content-turbo-frame" data-hotkey="g s" data-analytics-event="{&quot;category&quot;:&quot;Underline navbar&quot;,&quot;action&quot;:&quot;Click tab&quot;,&quot;label&quot;:&quot;Security&quot;,&quot;target&quot;:&quot;UNDERLINE_NAV.TAB&quot;}" data-view-component="true" class="UnderlineNav-item no-wrap js-responsive-underlinenav-item js-selected-navigation-item">
    
              <svg aria-hidden="true" height="16" viewBox="0 0 16 16" version="1.1" width="16" data-view-component="true" class="octicon octicon-shield UnderlineNav-octicon d-none d-sm-inline">
    <path d="M7.467.133a1.748 1.748 0 0 1 1.066 0l5.25 1.68A1.75 1.75 0 0 1 15 3.48V7c0 1.566-.32 3.182-1.303 4.682-.983 1.498-2.585 2.813-5.032 3.855a1.697 1.697 0 0 1-1.33 0c-2.447-1.042-4.049-2.357-5.032-3.855C1.32 10.182 1 8.566 1 7V3.48a1.75 1.75 0 0 1 1.217-1.667Zm.61 1.429a.25.25 0 0 0-.153 0l-5.25 1.68a.25.25 0 0 0-.174.238V7c0 1.358.275 2.666 1.057 3.86.784 1.194 2.121 2.34 4.366 3.297a.196.196 0 0 0 .154 0c2.245-.956 3.582-2.104 4.366-3.298C13.225 9.666 13.5 8.36 13.5 7V3.48a.251.251 0 0 0-.174-.237l-5.25-1.68ZM8.75 4.75v3a.75.75 0 0 1-1.5 0v-3a.75.75 0 0 1 1.5 0ZM9 10.5a1 1 0 1 1-2 0 1 1 0 0 1 2 0Z"></path>
</svg>
        <span data-content="Security">Security</span>
          <include-fragment src="/SPARC-FAIR-Codeathon/2025-team-F/security/overall-count" accept="text/fragment+html" data-nonce="v2:e2092d26-038f-b912-3ee4-c390f9eb3514" data-view-component="true">
  
  <div data-show-on-forbidden-error hidden>
    <div class="Box">
  <div class="blankslate-container">
    <div data-view-component="true" class="blankslate blankslate-spacious color-bg-default rounded-2">
      

      <h3 data-view-component="true" class="blankslate-heading">        Uh oh!
</h3>
      <p data-view-component="true">        <p class="color-fg-muted my-2 mb-2 ws-normal">There was an error while loading. <a class="Link--inTextBlock" data-turbo="false" href="" aria-label="Please reload this page">Please reload this page</a>.</p>
</p>

</div>  </div>
</div>  </div>
</include-fragment>

    
</a></li>
      <li data-view-component="true" class="d-inline-flex">
  <a id="insights-tab" href="/SPARC-FAIR-Codeathon/2025-team-F/pulse" data-tab-item="i7insights-tab" data-selected-links="repo_graphs repo_contributors dependency_graph dependabot_updates pulse people community /SPARC-FAIR-Codeathon/2025-team-F/pulse" data-pjax="#repo-content-pjax-container" data-turbo-frame="repo-content-turbo-frame" data-analytics-event="{&quot;category&quot;:&quot;Underline navbar&quot;,&quot;action&quot;:&quot;Click tab&quot;,&quot;label&quot;:&quot;Insights&quot;,&quot;target&quot;:&quot;UNDERLINE_NAV.TAB&quot;}" data-view-component="true" class="UnderlineNav-item no-wrap js-responsive-underlinenav-item js-selected-navigation-item">
    
              <svg aria-hidden="true" height="16" viewBox="0 0 16 16" version="1.1" width="16" data-view-component="true" class="octicon octicon-graph UnderlineNav-octicon d-none d-sm-inline">
    <path d="M1.5 1.75V13.5h13.75a.75.75 0 0 1 0 1.5H.75a.75.75 0 0 1-.75-.75V1.75a.75.75 0 0 1 1.5 0Zm14.28 2.53-5.25 5.25a.75.75 0 0 1-1.06 0L7 7.06 4.28 9.78a.751.751 0 0 1-1.042-.018.751.751 0 0 1-.018-1.042l3.25-3.25a.75.75 0 0 1 1.06 0L10 7.94l4.72-4.72a.751.751 0 0 1 1.042.018.751.751 0 0 1 .018 1.042Z"></path>
</svg>
        <span data-content="Insights">Insights</span>
          <span id="insights-repo-tab-count" data-pjax-replace="" data-turbo-replace="" title="Not available" data-view-component="true" class="Counter"></span>


    
</a></li>
</ul>
    <div style="visibility:hidden;" data-view-component="true" class="UnderlineNav-actions js-responsive-underlinenav-overflow position-absolute pr-3 pr-md-4 pr-lg-5 right-0">      <action-menu data-select-variant="none" data-view-component="true">
  <focus-group direction="vertical" mnemonics retain>
    <button id="action-menu-d8f4be42-89cf-4465-91ad-9aa71c41a4a3-button" popovertarget="action-menu-d8f4be42-89cf-4465-91ad-9aa71c41a4a3-overlay" aria-controls="action-menu-d8f4be42-89cf-4465-91ad-9aa71c41a4a3-list" aria-haspopup="true" aria-labelledby="tooltip-5b9a5658-04e7-42fa-b55e-e91ce1b60892" type="button" data-view-component="true" class="Button Button--iconOnly Button--secondary Button--medium UnderlineNav-item">  <svg aria-hidden="true" height="16" viewBox="0 0 16 16" version="1.1" width="16" data-view-component="true" class="octicon octicon-kebab-horizontal Button-visual">
    <path d="M8 9a1.5 1.5 0 1 0 0-3 1.5 1.5 0 0 0 0 3ZM1.5 9a1.5 1.5 0 1 0 0-3 1.5 1.5 0 0 0 0 3Zm13 0a1.5 1.5 0 1 0 0-3 1.5 1.5 0 0 0 0 3Z"></path>
</svg>
</button><tool-tip id="tooltip-5b9a5658-04e7-42fa-b55e-e91ce1b60892" for="action-menu-d8f4be42-89cf-4465-91ad-9aa71c41a4a3-button" popover="manual" data-direction="s" data-type="label" data-view-component="true" class="sr-only position-absolute">Additional navigation options</tool-tip>


<anchored-position data-target="action-menu.overlay" id="action-menu-d8f4be42-89cf-4465-91ad-9aa71c41a4a3-overlay" anchor="action-menu-d8f4be42-89cf-4465-91ad-9aa71c41a4a3-button" align="start" side="outside-bottom" anchor-offset="normal" popover="auto" data-view-component="true">
  <div data-view-component="true" class="Overlay Overlay--size-auto">
    
      <div data-view-component="true" class="Overlay-body Overlay-body--paddingNone">          <action-list>
  <div data-view-component="true">
    <ul aria-labelledby="action-menu-d8f4be42-89cf-4465-91ad-9aa71c41a4a3-button" id="action-menu-d8f4be42-89cf-4465-91ad-9aa71c41a4a3-list" role="menu" data-view-component="true" class="ActionListWrap--inset ActionListWrap">
        <li hidden="hidden" data-menu-item="i0code-tab" data-targets="action-list.items" role="none" data-view-component="true" class="ActionListItem">
    
    
    <a tabindex="-1" id="item-f0fb8f5a-a517-4dbd-a654-f7cfbbf24214" href="/SPARC-FAIR-Codeathon/2025-team-F/tree/restructuring" role="menuitem" data-view-component="true" class="ActionListContent ActionListContent--visual16">
        <span class="ActionListItem-visual ActionListItem-visual--leading">
          <svg aria-hidden="true" height="16" viewBox="0 0 16 16" version="1.1" width="16" data-view-component="true" class="octicon octicon-code">
    <path d="m11.28 3.22 4.25 4.25a.75.75 0 0 1 0 1.06l-4.25 4.25a.749.749 0 0 1-1.275-.326.749.749 0 0 1 .215-.734L13.94 8l-3.72-3.72a.749.749 0 0 1 .326-1.275.749.749 0 0 1 .734.215Zm-6.56 0a.751.751 0 0 1 1.042.018.751.751 0 0 1 .018 1.042L2.06 8l3.72 3.72a.749.749 0 0 1-.326 1.275.749.749 0 0 1-.734-.215L.47 8.53a.75.75 0 0 1 0-1.06Z"></path>
</svg>
        </span>
      
        <span data-view-component="true" class="ActionListItem-label">
          Code
</span>      
</a>
  
</li>
        <li hidden="hidden" data-menu-item="i1issues-tab" data-targets="action-list.items" role="none" data-view-component="true" class="ActionListItem">
    
    
    <a tabindex="-1" id="item-c1d08be2-0e66-457b-bd0c-b96740dd1ed8" href="/SPARC-FAIR-Codeathon/2025-team-F/issues" role="menuitem" data-view-component="true" class="ActionListContent ActionListContent--visual16">
        <span class="ActionListItem-visual ActionListItem-visual--leading">
          <svg aria-hidden="true" height="16" viewBox="0 0 16 16" version="1.1" width="16" data-view-component="true" class="octicon octicon-issue-opened">
    <path d="M8 9.5a1.5 1.5 0 1 0 0-3 1.5 1.5 0 0 0 0 3Z"></path><path d="M8 0a8 8 0 1 1 0 16A8 8 0 0 1 8 0ZM1.5 8a6.5 6.5 0 1 0 13 0 6.5 6.5 0 0 0-13 0Z"></path>
</svg>
        </span>
      
        <span data-view-component="true" class="ActionListItem-label">
          Issues
</span>      
</a>
  
</li>
        <li hidden="hidden" data-menu-item="i2pull-requests-tab" data-targets="action-list.items" role="none" data-view-component="true" class="ActionListItem">
    
    
    <a tabindex="-1" id="item-14472cc1-fb31-4755-bedf-665d026e37ec" href="/SPARC-FAIR-Codeathon/2025-team-F/pulls" role="menuitem" data-view-component="true" class="ActionListContent ActionListContent--visual16">
        <span class="ActionListItem-visual ActionListItem-visual--leading">
          <svg aria-hidden="true" height="16" viewBox="0 0 16 16" version="1.1" width="16" data-view-component="true" class="octicon octicon-git-pull-request">
    <path d="M1.5 3.25a2.25 2.25 0 1 1 3 2.122v5.256a2.251 2.251 0 1 1-1.5 0V5.372A2.25 2.25 0 0 1 1.5 3.25Zm5.677-.177L9.573.677A.25.25 0 0 1 10 .854V2.5h1A2.5 2.5 0 0 1 13.5 5v5.628a2.251 2.251 0 1 1-1.5 0V5a1 1 0 0 0-1-1h-1v1.646a.25.25 0 0 1-.427.177L7.177 3.427a.25.25 0 0 1 0-.354ZM3.75 2.5a.75.75 0 1 0 0 1.5.75.75 0 0 0 0-1.5Zm0 9.5a.75.75 0 1 0 0 1.5.75.75 0 0 0 0-1.5Zm8.25.75a.75.75 0 1 0 1.5 0 .75.75 0 0 0-1.5 0Z"></path>
</svg>
        </span>
      
        <span data-view-component="true" class="ActionListItem-label">
          Pull requests
</span>      
</a>
  
</li>
        <li hidden="hidden" data-menu-item="i3actions-tab" data-targets="action-list.items" role="none" data-view-component="true" class="ActionListItem">
    
    
    <a tabindex="-1" id="item-c6832c9f-014f-48b1-ad8e-c3d29873557a" href="/SPARC-FAIR-Codeathon/2025-team-F/actions" role="menuitem" data-view-component="true" class="ActionListContent ActionListContent--visual16">
        <span class="ActionListItem-visual ActionListItem-visual--leading">
          <svg aria-hidden="true" height="16" viewBox="0 0 16 16" version="1.1" width="16" data-view-component="true" class="octicon octicon-play">
    <path d="M8 0a8 8 0 1 1 0 16A8 8 0 0 1 8 0ZM1.5 8a6.5 6.5 0 1 0 13 0 6.5 6.5 0 0 0-13 0Zm4.879-2.773 4.264 2.559a.25.25 0 0 1 0 .428l-4.264 2.559A.25.25 0 0 1 6 10.559V5.442a.25.25 0 0 1 .379-.215Z"></path>
</svg>
        </span>
      
        <span data-view-component="true" class="ActionListItem-label">
          Actions
</span>      
</a>
  
</li>
        <li hidden="hidden" data-menu-item="i4projects-tab" data-targets="action-list.items" role="none" data-view-component="true" class="ActionListItem">
    
    
    <a tabindex="-1" id="item-9eb6eb27-eea9-4043-a2f4-d8d6116b28da" href="/SPARC-FAIR-Codeathon/2025-team-F/projects" role="menuitem" data-view-component="true" class="ActionListContent ActionListContent--visual16">
        <span class="ActionListItem-visual ActionListItem-visual--leading">
          <svg aria-hidden="true" height="16" viewBox="0 0 16 16" version="1.1" width="16" data-view-component="true" class="octicon octicon-table">
    <path d="M0 1.75C0 .784.784 0 1.75 0h12.5C15.216 0 16 .784 16 1.75v12.5A1.75 1.75 0 0 1 14.25 16H1.75A1.75 1.75 0 0 1 0 14.25ZM6.5 6.5v8h7.75a.25.25 0 0 0 .25-.25V6.5Zm8-1.5V1.75a.25.25 0 0 0-.25-.25H6.5V5Zm-13 1.5v7.75c0 .138.112.25.25.25H5v-8ZM5 5V1.5H1.75a.25.25 0 0 0-.25.25V5Z"></path>
</svg>
        </span>
      
        <span data-view-component="true" class="ActionListItem-label">
          Projects
</span>      
</a>
  
</li>
        <li hidden="hidden" data-menu-item="i5wiki-tab" data-targets="action-list.items" role="none" data-view-component="true" class="ActionListItem">
    
    
    <a tabindex="-1" id="item-da4f48ed-0361-4c8d-ac38-71657645d9c7" href="/SPARC-FAIR-Codeathon/2025-team-F/wiki" role="menuitem" data-view-component="true" class="ActionListContent ActionListContent--visual16">
        <span class="ActionListItem-visual ActionListItem-visual--leading">
          <svg aria-hidden="true" height="16" viewBox="0 0 16 16" version="1.1" width="16" data-view-component="true" class="octicon octicon-book">
    <path d="M0 1.75A.75.75 0 0 1 .75 1h4.253c1.227 0 2.317.59 3 1.501A3.743 3.743 0 0 1 11.006 1h4.245a.75.75 0 0 1 .75.75v10.5a.75.75 0 0 1-.75.75h-4.507a2.25 2.25 0 0 0-1.591.659l-.622.621a.75.75 0 0 1-1.06 0l-.622-.621A2.25 2.25 0 0 0 5.258 13H.75a.75.75 0 0 1-.75-.75Zm7.251 10.324.004-5.073-.002-2.253A2.25 2.25 0 0 0 5.003 2.5H1.5v9h3.757a3.75 3.75 0 0 1 1.994.574ZM8.755 4.75l-.004 7.322a3.752 3.752 0 0 1 1.992-.572H14.5v-9h-3.495a2.25 2.25 0 0 0-2.25 2.25Z"></path>
</svg>
        </span>
      
        <span data-view-component="true" class="ActionListItem-label">
          Wiki
</span>      
</a>
  
</li>
        <li hidden="hidden" data-menu-item="i6security-tab" data-targets="action-list.items" role="none" data-view-component="true" class="ActionListItem">
    
    
    <a tabindex="-1" id="item-70fc5692-f856-4ee2-a4e5-9b39876a9b27" href="/SPARC-FAIR-Codeathon/2025-team-F/security" role="menuitem" data-view-component="true" class="ActionListContent ActionListContent--visual16">
        <span class="ActionListItem-visual ActionListItem-visual--leading">
          <svg aria-hidden="true" height="16" viewBox="0 0 16 16" version="1.1" width="16" data-view-component="true" class="octicon octicon-shield">
    <path d="M7.467.133a1.748 1.748 0 0 1 1.066 0l5.25 1.68A1.75 1.75 0 0 1 15 3.48V7c0 1.566-.32 3.182-1.303 4.682-.983 1.498-2.585 2.813-5.032 3.855a1.697 1.697 0 0 1-1.33 0c-2.447-1.042-4.049-2.357-5.032-3.855C1.32 10.182 1 8.566 1 7V3.48a1.75 1.75 0 0 1 1.217-1.667Zm.61 1.429a.25.25 0 0 0-.153 0l-5.25 1.68a.25.25 0 0 0-.174.238V7c0 1.358.275 2.666 1.057 3.86.784 1.194 2.121 2.34 4.366 3.297a.196.196 0 0 0 .154 0c2.245-.956 3.582-2.104 4.366-3.298C13.225 9.666 13.5 8.36 13.5 7V3.48a.251.251 0 0 0-.174-.237l-5.25-1.68ZM8.75 4.75v3a.75.75 0 0 1-1.5 0v-3a.75.75 0 0 1 1.5 0ZM9 10.5a1 1 0 1 1-2 0 1 1 0 0 1 2 0Z"></path>
</svg>
        </span>
      
        <span data-view-component="true" class="ActionListItem-label">
          Security
</span>      
</a>
  
</li>
        <li hidden="hidden" data-menu-item="i7insights-tab" data-targets="action-list.items" role="none" data-view-component="true" class="ActionListItem">
    
    
    <a tabindex="-1" id="item-248d0407-86c3-44cd-8402-9891c104843b" href="/SPARC-FAIR-Codeathon/2025-team-F/pulse" role="menuitem" data-view-component="true" class="ActionListContent ActionListContent--visual16">
        <span class="ActionListItem-visual ActionListItem-visual--leading">
          <svg aria-hidden="true" height="16" viewBox="0 0 16 16" version="1.1" width="16" data-view-component="true" class="octicon octicon-graph">
    <path d="M1.5 1.75V13.5h13.75a.75.75 0 0 1 0 1.5H.75a.75.75 0 0 1-.75-.75V1.75a.75.75 0 0 1 1.5 0Zm14.28 2.53-5.25 5.25a.75.75 0 0 1-1.06 0L7 7.06 4.28 9.78a.751.751 0 0 1-1.042-.018.751.751 0 0 1-.018-1.042l3.25-3.25a.75.75 0 0 1 1.06 0L10 7.94l4.72-4.72a.751.751 0 0 1 1.042.018.751.751 0 0 1 .018 1.042Z"></path>
</svg>
        </span>
      
        <span data-view-component="true" class="ActionListItem-label">
          Insights
</span>      
</a>
  
</li>
</ul>    
</div></action-list>


</div>
      
</div></anchored-position>  </focus-group>
</action-menu></div>
</nav>
          
        </div>
</header>


      <div hidden="hidden" data-view-component="true" class="js-stale-session-flash stale-session-flash flash flash-warn flash-full">
  
        <svg aria-hidden="true" height="16" viewBox="0 0 16 16" version="1.1" width="16" data-view-component="true" class="octicon octicon-alert">
    <path d="M6.457 1.047c.659-1.234 2.427-1.234 3.086 0l6.082 11.378A1.75 1.75 0 0 1 14.082 15H1.918a1.75 1.75 0 0 1-1.543-2.575Zm1.763.707a.25.25 0 0 0-.44 0L1.698 13.132a.25.25 0 0 0 .22.368h12.164a.25.25 0 0 0 .22-.368Zm.53 3.996v2.5a.75.75 0 0 1-1.5 0v-2.5a.75.75 0 0 1 1.5 0ZM9 11a1 1 0 1 1-2 0 1 1 0 0 1 2 0Z"></path>
</svg>
        <span class="js-stale-session-flash-signed-in" hidden>You signed in with another tab or window. <a class="Link--inTextBlock" href="">Reload</a> to refresh your session.</span>
        <span class="js-stale-session-flash-signed-out" hidden>You signed out in another tab or window. <a class="Link--inTextBlock" href="">Reload</a> to refresh your session.</span>
        <span class="js-stale-session-flash-switched" hidden>You switched accounts on another tab or window. <a class="Link--inTextBlock" href="">Reload</a> to refresh your session.</span>

    <button id="icon-button-f6efd323-6b63-4e23-8d74-7aa0a1cd93aa" aria-labelledby="tooltip-2d93364e-8216-4c99-a7b9-0a307e184f61" type="button" data-view-component="true" class="Button Button--iconOnly Button--invisible Button--medium flash-close js-flash-close">  <svg aria-hidden="true" height="16" viewBox="0 0 16 16" version="1.1" width="16" data-view-component="true" class="octicon octicon-x Button-visual">
    <path d="M3.72 3.72a.75.75 0 0 1 1.06 0L8 6.94l3.22-3.22a.749.749 0 0 1 1.275.326.749.749 0 0 1-.215.734L9.06 8l3.22 3.22a.749.749 0 0 1-.326 1.275.749.749 0 0 1-.734-.215L8 9.06l-3.22 3.22a.751.751 0 0 1-1.042-.018.751.751 0 0 1-.018-1.042L6.94 8 3.72 4.78a.75.75 0 0 1 0-1.06Z"></path>
</svg>
</button><tool-tip id="tooltip-2d93364e-8216-4c99-a7b9-0a307e184f61" for="icon-button-f6efd323-6b63-4e23-8d74-7aa0a1cd93aa" popover="manual" data-direction="s" data-type="label" data-view-component="true" class="sr-only position-absolute">Dismiss alert</tool-tip>


  
</div>
        
          
    </div>

  <div id="start-of-content" class="show-on-focus"></div>








    <div id="js-flash-container" class="flash-container" data-turbo-replace>




  <template class="js-flash-template">
    
<div class="flash flash-full   {{ className }}">
  <div >
    <button autofocus class="flash-close js-flash-close" type="button" aria-label="Dismiss this message">
      <svg aria-hidden="true" height="16" viewBox="0 0 16 16" version="1.1" width="16" data-view-component="true" class="octicon octicon-x">
    <path d="M3.72 3.72a.75.75 0 0 1 1.06 0L8 6.94l3.22-3.22a.749.749 0 0 1 1.275.326.749.749 0 0 1-.215.734L9.06 8l3.22 3.22a.749.749 0 0 1-.326 1.275.749.749 0 0 1-.734-.215L8 9.06l-3.22 3.22a.751.751 0 0 1-1.042-.018.751.751 0 0 1-.018-1.042L6.94 8 3.72 4.78a.75.75 0 0 1 0-1.06Z"></path>
</svg>
    </button>
    <div aria-atomic="true" role="alert" class="js-flash-alert">
      
      <div>{{ message }}</div>

    </div>
  </div>
</div>
  </template>
</div>


    
  <notification-shelf-watcher data-base-url="https://github.com/notifications/beta/shelf" data-channel="eyJjIjoibm90aWZpY2F0aW9uLWNoYW5nZWQ6MjUwMTU3NTQiLCJ0IjoxNzU0MzY2MDE4fQ==--7de0ecb7620d5ca1af7effa690062094ad6ced230643a314f2e752a1305c7536" data-view-component="true" class="js-socket-channel"></notification-shelf-watcher>
  <div hidden data-initial data-target="notification-shelf-watcher.placeholder"></div>






  <div
    class="application-main "
    data-commit-hovercards-enabled
    data-discussion-hovercards-enabled
    data-issue-and-pr-hovercards-enabled
    data-project-hovercards-enabled
  >
        <div itemscope itemtype="http://schema.org/SoftwareSourceCode" class="">
    <main id="js-repo-pjax-container" >
      
      
    

    






    
  <div id="repository-container-header" data-turbo-replace hidden ></div>




<turbo-frame id="repo-content-turbo-frame" target="_top" data-turbo-action="advance" class="">
    <div id="repo-content-pjax-container" class="repository-content " >
      <a href="https://github.dev/" class="d-none js-github-dev-shortcut" data-hotkey=".,Mod+Alt+.">Open in github.dev</a>
  <a href="https://github.dev/" class="d-none js-github-dev-new-tab-shortcut" data-hotkey="Shift+.,Shift+&gt;,&gt;" target="_blank" rel="noopener noreferrer">Open in a new github.dev tab</a>
    <a class="d-none" data-hotkey=",,Mod+Alt+," target="_blank" href="/codespaces/new/SPARC-FAIR-Codeathon/2025-team-F/tree/restructuring?resume=1">Open in codespace</a>




    
      
    








<react-app
  app-name="react-code-view"
  initial-path="/SPARC-FAIR-Codeathon/2025-team-F/blob/restructuring/examples/tf_pretrained_model.ipynb"
    style="display: block; min-height: calc(100vh - 64px);"
  data-attempted-ssr="true"
  data-ssr="true"
  data-lazy="false"
  data-alternate="false"
  data-data-router-enabled="false"
  data-react-profiling="false"
>
  
  <script type="application/json" data-target="react-app.embeddedData">{"payload":{"allShortcutsEnabled":true,"fileTree":{"examples":{"items":[{"name":"tf_LSTM_model.ipynb","path":"examples/tf_LSTM_model.ipynb","contentType":"file"},{"name":"tf_fine_tune_model.ipynb","path":"examples/tf_fine_tune_model.ipynb","contentType":"file"},{"name":"tf_pretrained_model.ipynb","path":"examples/tf_pretrained_model.ipynb","contentType":"file"}],"totalCount":3},"":{"items":[{"name":"examples","path":"examples","contentType":"directory"},{"name":"res","path":"res","contentType":"directory"},{"name":"sparcats","path":"sparcats","contentType":"directory"},{"name":"tutorials","path":"tutorials","contentType":"directory"},{"name":"validation","path":"validation","contentType":"directory"},{"name":".gitignore","path":".gitignore","contentType":"file"},{"name":"README.md","path":"README.md","contentType":"file"}],"totalCount":7}},"fileTreeProcessingTime":4.308187,"foldersToFetch":[],"incompleteFileTree":false,"repo":{"id":1028403411,"defaultBranch":"main","name":"2025-team-F","ownerLogin":"SPARC-FAIR-Codeathon","currentUserCanPush":true,"isFork":false,"isEmpty":false,"createdAt":"2025-07-30T01:31:47.000+12:00","ownerAvatar":"https://avatars.githubusercontent.com/u/86933347?v=4","public":true,"private":false,"isOrgOwned":true},"codeLineWrapEnabled":false,"symbolsExpanded":true,"treeExpanded":true,"refInfo":{"name":"restructuring","listCacheKey":"v0:1754358575.0","canEdit":true,"refType":"branch","currentOid":"a9b737d6605e940cecafeba1051dc57086168679"},"path":"examples/tf_pretrained_model.ipynb","currentUser":{"id":25015754,"login":"OmkarAthavale","userEmail":"oa1234@live.com"},"blob":{"rawLines":["{"," \"cells\": [","  {","   \"cell_type\": \"code\",","   \"execution_count\": 104,","   \"id\": \"a8fd7ccc-47ea-4d9e-b248-26ed216ed96a\",","   \"metadata\": {},","   \"outputs\": [","    {","     \"name\": \"stdout\",","     \"output_type\": \"stream\",","     \"text\": [","      \"Requirement already satisfied: pandas in /opt/conda/lib/python3.7/site-packages (1.3.5)\\n\",","      \"Requirement already satisfied: python-dateutil\u003e=2.7.3 in /opt/conda/lib/python3.7/site-packages (from pandas) (2.9.0)\\n\",","      \"Requirement already satisfied: pytz\u003e=2017.3 in /opt/conda/lib/python3.7/site-packages (from pandas) (2024.2)\\n\",","      \"Requirement already satisfied: numpy\u003e=1.17.3 in /opt/conda/lib/python3.7/site-packages (from pandas) (1.21.6)\\n\",","      \"Requirement already satisfied: six\u003e=1.5 in /opt/conda/lib/python3.7/site-packages (from python-dateutil\u003e=2.7.3-\u003epandas) (1.16.0)\\n\",","      \"Requirement already satisfied: tensorflow in /opt/conda/lib/python3.7/site-packages (2.11.0)\\n\",","      \"Requirement already satisfied: absl-py\u003e=1.0.0 in /opt/conda/lib/python3.7/site-packages (from tensorflow) (2.1.0)\\n\",","      \"Requirement already satisfied: astunparse\u003e=1.6.0 in /opt/conda/lib/python3.7/site-packages (from tensorflow) (1.6.3)\\n\",","      \"Requirement already satisfied: flatbuffers\u003e=2.0 in /opt/conda/lib/python3.7/site-packages (from tensorflow) (25.2.10)\\n\",","      \"Requirement already satisfied: gast\u003c=0.4.0,\u003e=0.2.1 in /opt/conda/lib/python3.7/site-packages (from tensorflow) (0.4.0)\\n\",","      \"Requirement already satisfied: google-pasta\u003e=0.1.1 in /opt/conda/lib/python3.7/site-packages (from tensorflow) (0.2.0)\\n\",","      \"Requirement already satisfied: grpcio\u003c2.0,\u003e=1.24.3 in /opt/conda/lib/python3.7/site-packages (from tensorflow) (1.62.3)\\n\",","      \"Requirement already satisfied: h5py\u003e=2.9.0 in /opt/conda/lib/python3.7/site-packages (from tensorflow) (3.8.0)\\n\",","      \"Requirement already satisfied: keras\u003c2.12,\u003e=2.11.0 in /opt/conda/lib/python3.7/site-packages (from tensorflow) (2.11.0)\\n\",","      \"Requirement already satisfied: libclang\u003e=13.0.0 in /opt/conda/lib/python3.7/site-packages (from tensorflow) (18.1.1)\\n\",","      \"Requirement already satisfied: numpy\u003e=1.20 in /opt/conda/lib/python3.7/site-packages (from tensorflow) (1.21.6)\\n\",","      \"Requirement already satisfied: opt-einsum\u003e=2.3.2 in /opt/conda/lib/python3.7/site-packages (from tensorflow) (3.3.0)\\n\",","      \"Requirement already satisfied: packaging in /opt/conda/lib/python3.7/site-packages (from tensorflow) (23.2)\\n\",","      \"Requirement already satisfied: protobuf\u003c3.20,\u003e=3.9.2 in /opt/conda/lib/python3.7/site-packages (from tensorflow) (3.19.6)\\n\",","      \"Requirement already satisfied: setuptools in /opt/conda/lib/python3.7/site-packages (from tensorflow) (68.0.0)\\n\",","      \"Requirement already satisfied: six\u003e=1.12.0 in /opt/conda/lib/python3.7/site-packages (from tensorflow) (1.16.0)\\n\",","      \"Requirement already satisfied: tensorboard\u003c2.12,\u003e=2.11 in /opt/conda/lib/python3.7/site-packages (from tensorflow) (2.11.2)\\n\",","      \"Requirement already satisfied: tensorflow-estimator\u003c2.12,\u003e=2.11.0 in /opt/conda/lib/python3.7/site-packages (from tensorflow) (2.11.0)\\n\",","      \"Requirement already satisfied: termcolor\u003e=1.1.0 in /opt/conda/lib/python3.7/site-packages (from tensorflow) (2.3.0)\\n\",","      \"Requirement already satisfied: typing-extensions\u003e=3.6.6 in /opt/conda/lib/python3.7/site-packages (from tensorflow) (4.7.1)\\n\",","      \"Requirement already satisfied: wrapt\u003e=1.11.0 in /opt/conda/lib/python3.7/site-packages (from tensorflow) (1.16.0)\\n\",","      \"Requirement already satisfied: tensorflow-io-gcs-filesystem\u003e=0.23.1 in /opt/conda/lib/python3.7/site-packages (from tensorflow) (0.34.0)\\n\",","      \"Requirement already satisfied: wheel\u003c1.0,\u003e=0.23.0 in /opt/conda/lib/python3.7/site-packages (from astunparse\u003e=1.6.0-\u003etensorflow) (0.42.0)\\n\",","      \"Requirement already satisfied: google-auth\u003c3,\u003e=1.6.3 in /opt/conda/lib/python3.7/site-packages (from tensorboard\u003c2.12,\u003e=2.11-\u003etensorflow) (2.40.3)\\n\",","      \"Requirement already satisfied: google-auth-oauthlib\u003c0.5,\u003e=0.4.1 in /opt/conda/lib/python3.7/site-packages (from tensorboard\u003c2.12,\u003e=2.11-\u003etensorflow) (0.4.6)\\n\",","      \"Requirement already satisfied: markdown\u003e=2.6.8 in /opt/conda/lib/python3.7/site-packages (from tensorboard\u003c2.12,\u003e=2.11-\u003etensorflow) (3.4.4)\\n\",","      \"Requirement already satisfied: requests\u003c3,\u003e=2.21.0 in /opt/conda/lib/python3.7/site-packages (from tensorboard\u003c2.12,\u003e=2.11-\u003etensorflow) (2.28.2)\\n\",","      \"Requirement already satisfied: tensorboard-data-server\u003c0.7.0,\u003e=0.6.0 in /opt/conda/lib/python3.7/site-packages (from tensorboard\u003c2.12,\u003e=2.11-\u003etensorflow) (0.6.1)\\n\",","      \"Requirement already satisfied: tensorboard-plugin-wit\u003e=1.6.0 in /opt/conda/lib/python3.7/site-packages (from tensorboard\u003c2.12,\u003e=2.11-\u003etensorflow) (1.8.1)\\n\",","      \"Requirement already satisfied: werkzeug\u003e=1.0.1 in /opt/conda/lib/python3.7/site-packages (from tensorboard\u003c2.12,\u003e=2.11-\u003etensorflow) (2.2.3)\\n\",","      \"Requirement already satisfied: cachetools\u003c6.0,\u003e=2.0.0 in /opt/conda/lib/python3.7/site-packages (from google-auth\u003c3,\u003e=1.6.3-\u003etensorboard\u003c2.12,\u003e=2.11-\u003etensorflow) (5.5.2)\\n\",","      \"Requirement already satisfied: pyasn1-modules\u003e=0.2.1 in /opt/conda/lib/python3.7/site-packages (from google-auth\u003c3,\u003e=1.6.3-\u003etensorboard\u003c2.12,\u003e=2.11-\u003etensorflow) (0.3.0)\\n\",","      \"Requirement already satisfied: rsa\u003c5,\u003e=3.1.4 in /opt/conda/lib/python3.7/site-packages (from google-auth\u003c3,\u003e=1.6.3-\u003etensorboard\u003c2.12,\u003e=2.11-\u003etensorflow) (4.9.1)\\n\",","      \"Requirement already satisfied: requests-oauthlib\u003e=0.7.0 in /opt/conda/lib/python3.7/site-packages (from google-auth-oauthlib\u003c0.5,\u003e=0.4.1-\u003etensorboard\u003c2.12,\u003e=2.11-\u003etensorflow) (2.0.0)\\n\",","      \"Requirement already satisfied: importlib-metadata\u003e=4.4 in /opt/conda/lib/python3.7/site-packages (from markdown\u003e=2.6.8-\u003etensorboard\u003c2.12,\u003e=2.11-\u003etensorflow) (4.11.4)\\n\",","      \"Requirement already satisfied: charset-normalizer\u003c4,\u003e=2 in /opt/conda/lib/python3.7/site-packages (from requests\u003c3,\u003e=2.21.0-\u003etensorboard\u003c2.12,\u003e=2.11-\u003etensorflow) (3.1.0)\\n\",","      \"Requirement already satisfied: idna\u003c4,\u003e=2.5 in /opt/conda/lib/python3.7/site-packages (from requests\u003c3,\u003e=2.21.0-\u003etensorboard\u003c2.12,\u003e=2.11-\u003etensorflow) (3.4)\\n\",","      \"Requirement already satisfied: urllib3\u003c1.27,\u003e=1.21.1 in /opt/conda/lib/python3.7/site-packages (from requests\u003c3,\u003e=2.21.0-\u003etensorboard\u003c2.12,\u003e=2.11-\u003etensorflow) (1.26.15)\\n\",","      \"Requirement already satisfied: certifi\u003e=2017.4.17 in /opt/conda/lib/python3.7/site-packages (from requests\u003c3,\u003e=2.21.0-\u003etensorboard\u003c2.12,\u003e=2.11-\u003etensorflow) (2024.8.30)\\n\",","      \"Requirement already satisfied: MarkupSafe\u003e=2.1.1 in /opt/conda/lib/python3.7/site-packages (from werkzeug\u003e=1.0.1-\u003etensorboard\u003c2.12,\u003e=2.11-\u003etensorflow) (2.1.1)\\n\",","      \"Requirement already satisfied: zipp\u003e=0.5 in /opt/conda/lib/python3.7/site-packages (from importlib-metadata\u003e=4.4-\u003emarkdown\u003e=2.6.8-\u003etensorboard\u003c2.12,\u003e=2.11-\u003etensorflow) (3.15.0)\\n\",","      \"Requirement already satisfied: pyasn1\u003c0.6.0,\u003e=0.4.6 in /opt/conda/lib/python3.7/site-packages (from pyasn1-modules\u003e=0.2.1-\u003egoogle-auth\u003c3,\u003e=1.6.3-\u003etensorboard\u003c2.12,\u003e=2.11-\u003etensorflow) (0.5.1)\\n\",","      \"Requirement already satisfied: oauthlib\u003e=3.0.0 in /opt/conda/lib/python3.7/site-packages (from requests-oauthlib\u003e=0.7.0-\u003egoogle-auth-oauthlib\u003c0.5,\u003e=0.4.1-\u003etensorboard\u003c2.12,\u003e=2.11-\u003etensorflow) (3.2.2)\\n\",","      \"Requirement already satisfied: scikit-learn in /opt/conda/lib/python3.7/site-packages (1.0.2)\\n\",","      \"Requirement already satisfied: numpy\u003e=1.14.6 in /opt/conda/lib/python3.7/site-packages (from scikit-learn) (1.21.6)\\n\",","      \"Requirement already satisfied: scipy\u003e=1.1.0 in /opt/conda/lib/python3.7/site-packages (from scikit-learn) (1.7.3)\\n\",","      \"Requirement already satisfied: joblib\u003e=0.11 in /opt/conda/lib/python3.7/site-packages (from scikit-learn) (1.3.2)\\n\",","      \"Requirement already satisfied: threadpoolctl\u003e=2.0.0 in /opt/conda/lib/python3.7/site-packages (from scikit-learn) (3.1.0)\\n\"","     ]","    }","   ],","   \"source\": [","    \"import sys\\n\",","    \"!{sys.executable} -m pip install pandas\\n\",","    \"!{sys.executable} -m pip install tensorflow\\n\",","    \"!{sys.executable} -m pip install scikit-learn\"","   ]","  },","  {","   \"cell_type\": \"code\",","   \"execution_count\": 16,","   \"id\": \"55ffcc7e-d506-4856-9e07-bf52762b1f8c\",","   \"metadata\": {},","   \"outputs\": [],","   \"source\": [","    \"import numpy as np\\n\",","    \"import pandas as pd\\n\",","    \"import matplotlib.pyplot as plt\\n\",","    \"import tensorflow as tf\\n\",","    \"\\n\",","    \"from sklearn.preprocessing import MinMaxScaler\\n\",","    \"from sklearn.model_selection import train_test_split\"","   ]","  },","  {","   \"cell_type\": \"code\",","   \"execution_count\": 17,","   \"id\": \"563e0a54-91cb-4f34-b2bf-8bbd610d54b3\",","   \"metadata\": {},","   \"outputs\": [","    {","     \"data\": {","      \"image/png\": \"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\\n\",","      \"text/plain\": [","       \"\u003cFigure size 640x480 with 1 Axes\u003e\"","      ]","     },","     \"metadata\": {},","     \"output_type\": \"display_data\"","    }","   ],","   \"source\": [","    \"clean_data = pd.read_csv('validation/output/sparc_data.csv')\\n\",","    \"original_signal = clean_data.iloc[:, 1::].to_numpy()\\n\",","    \"\\n\",","    \"og_scaler = MinMaxScaler(feature_range=(0,1))\\n\",","    \"scaled_original_signal = og_scaler.fit_transform(original_signal)\\n\",","    \"\\n\",","    \"plt.plot(scaled_original_signal)\\n\",","    \"plt.title('Signal to predict with')\\n\",","    \"plt.xlabel('Time')\\n\",","    \"plt.ylabel('Signal')\\n\",","    \"plt.show()\"","   ]","  },","  {","   \"cell_type\": \"code\",","   \"execution_count\": 18,","   \"id\": \"75471d8e-a478-4fdc-b7ea-c61a853fc5ce\",","   \"metadata\": {},","   \"outputs\": [],","   \"source\": [","    \"# Path to your saved model directory or .h5 file\\n\",","    \"model_path = 'validation/output/pretrained_LSTM.h5'\\n\",","    \"\\n\",","    \"# Load the pretrained model\\n\",","    \"model = tf.keras.models.load_model(model_path)\"","   ]","  },","  {","   \"cell_type\": \"code\",","   \"execution_count\": 19,","   \"id\": \"7711e078-4630-45ec-ac7e-50ccca0f50b6\",","   \"metadata\": {},","   \"outputs\": [],","   \"source\": [","    \"window_size = 20\\n\",","    \"seed_sequence = np.copy(scaled_original_signal[-window_size:]) \\n\",","    \"\\n\",","    \"# List to store predictions\\n\",","    \"predictions = []\\n\",","    \"nb_predictions = 100\\n\",","    \"\\n\",","    \"# Make n predictions\\n\",","    \"for i in range(nb_predictions):\\n\",","    \"    # Reshape to model input shape: (1, window_size, 1)\\n\",","    \"    input_seq = np.reshape(seed_sequence[i:window_size+i], (1, window_size, 1))\\n\",","    \"    \\n\",","    \"    # Predict next value (shape will be (1, 1))\\n\",","    \"    next_val = model.predict(input_seq, verbose=0)[0, 0]\\n\",","    \"    \\n\",","    \"    # Append prediction to results\\n\",","    \"    predictions.append(next_val)\\n\",","    \"    seed_sequence = np.append(seed_sequence, next_val)\\n\",","    \"    \\n\",","    \"predictions = og_scaler.inverse_transform(np.array(predictions).reshape(-1,1)).flatten()\"","   ]","  },","  {","   \"cell_type\": \"code\",","   \"execution_count\": 20,","   \"id\": \"bf0fcbdb-d76b-4066-af34-862f7179ae8d\",","   \"metadata\": {},","   \"outputs\": [","    {","     \"data\": {","      \"image/png\": \"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\\n\",","      \"text/plain\": [","       \"\u003cFigure size 1200x600 with 1 Axes\u003e\"","      ]","     },","     \"metadata\": {},","     \"output_type\": \"display_data\"","    }","   ],","   \"source\": [","    \"plt.figure(figsize=(12, 6))\\n\",","    \"plt.plot(original_signal, label='Actual')\\n\",","    \"plt.plot(np.linspace(len(original_signal), len(original_signal) + nb_predictions, nb_predictions),predictions, label='Predicted')\\n\",","    \"plt.title('Actual vs Predicted')\\n\",","    \"plt.xlabel('Time')\\n\",","    \"plt.ylabel('Signal')\\n\",","    \"plt.legend()\\n\",","    \"plt.show()\"","   ]","  },","  {","   \"cell_type\": \"code\",","   \"execution_count\": null,","   \"id\": \"57a4036e-3727-4d33-8898-507daedee699\",","   \"metadata\": {},","   \"outputs\": [],","   \"source\": []","  }"," ],"," \"metadata\": {","  \"kernelspec\": {","   \"display_name\": \"Python 3 (ipykernel)\",","   \"language\": \"python\",","   \"name\": \"python3\"","  },","  \"language_info\": {","   \"codemirror_mode\": {","    \"name\": \"ipython\",","    \"version\": 3","   },","   \"file_extension\": \".py\",","   \"mimetype\": \"text/x-python\",","   \"name\": \"python\",","   \"nbconvert_exporter\": \"python\",","   \"pygments_lexer\": \"ipython3\",","   \"version\": \"3.7.12\"","  }"," },"," \"nbformat\": 4,"," \"nbformat_minor\": 5","}"],"stylingDirectives":null,"colorizedLines":null,"csv":null,"csvError":null,"dependabotInfo":{"showConfigurationBanner":false,"configFilePath":null,"networkDependabotPath":"/SPARC-FAIR-Codeathon/2025-team-F/network/updates","dismissConfigurationNoticePath":"/settings/dismiss-notice/dependabot_configuration_notice","configurationNoticeDismissed":false},"displayName":"tf_pretrained_model.ipynb","displayUrl":"https://notebooks.githubusercontent.com/view/ipynb?browser=edge\u0026bypass_fastly=true\u0026color_mode=auto\u0026commit=a9b737d6605e940cecafeba1051dc57086168679\u0026device=unknown_device\u0026docs_host=https%3A%2F%2Fdocs.github.com\u0026enc_url=68747470733a2f2f7261772e67697468756275736572636f6e74656e742e636f6d2f53504152432d464149522d436f64656174686f6e2f323032352d7465616d2d462f613962373337643636303565393430636563616665626131303531646335373038363136383637392f6578616d706c65732f74665f707265747261696e65645f6d6f64656c2e6970796e62\u0026logged_in=true\u0026nwo=SPARC-FAIR-Codeathon%2F2025-team-F\u0026path=examples%2Ftf_pretrained_model.ipynb\u0026platform=windows\u0026repository_id=1028403411\u0026repository_type=Repository\u0026version=138","headerInfo":{"blobSize":"159 KB","deleteTooltip":"Delete this file","editTooltip":"Edit this file","ghDesktopPath":"x-github-client://openRepo/https://github.com/SPARC-FAIR-Codeathon/2025-team-F?branch=restructuring\u0026filepath=examples%2Ftf_pretrained_model.ipynb","isGitLfs":false,"onBranch":true,"shortPath":"df81e35","siteNavLoginPath":"/login?return_to=https%3A%2F%2Fgithub.com%2FSPARC-FAIR-Codeathon%2F2025-team-F%2Fblob%2Frestructuring%2Fexamples%2Ftf_pretrained_model.ipynb","isCSV":false,"isRichtext":false,"toc":null,"lineInfo":{"truncatedLoc":"224","truncatedSloc":"224"},"mode":"file"},"image":false,"isCodeownersFile":null,"isPlain":false,"isValidLegacyIssueTemplate":false,"issueTemplate":null,"discussionTemplate":null,"language":"Jupyter Notebook","languageID":185,"large":false,"planSupportInfo":{"repoIsFork":null,"repoOwnedByCurrentUser":null,"requestFullPath":"/SPARC-FAIR-Codeathon/2025-team-F/blob/restructuring/examples/tf_pretrained_model.ipynb","showFreeOrgGatedFeatureMessage":null,"showPlanSupportBanner":null,"upgradeDataAttributes":null,"upgradePath":null},"publishBannersInfo":{"dismissActionNoticePath":"/settings/dismiss-notice/publish_action_from_dockerfile","releasePath":"/SPARC-FAIR-Codeathon/2025-team-F/releases/new?marketplace=true","showPublishActionBanner":false},"rawBlobUrl":"https://github.com/SPARC-FAIR-Codeathon/2025-team-F/raw/refs/heads/restructuring/examples/tf_pretrained_model.ipynb","renderImageOrRaw":false,"richText":null,"renderedFileInfo":{"identityUUID":"faf6eab3-a870-4d38-a97e-3dd89079bf67","renderFileType":"ipynb","size":162502},"shortPath":null,"symbolsEnabled":true,"tabSize":8,"topBannersInfo":{"overridingGlobalFundingFile":false,"globalPreferredFundingPath":null,"showInvalidCitationWarning":false,"citationHelpUrl":"https://docs.github.com/github/creating-cloning-and-archiving-repositories/creating-a-repository-on-github/about-citation-files","actionsOnboardingTip":null},"truncated":false,"viewable":true,"workflowRedirectUrl":null,"symbols":{"timed_out":false,"not_analyzed":true,"symbols":[]}},"copilotInfo":null,"copilotAccessAllowed":true,"modelsAccessAllowed":false,"modelsRepoIntegrationEnabled":false,"isMarketplaceEnabled":true,"csrf_tokens":{"/SPARC-FAIR-Codeathon/2025-team-F/branches":{"post":"Lq-wE2Ykg0k3kCrFWbWYFrkGzuCwUW98NXobgbaJw0BCN8f_JvN-2YPtqQZ3_Lq4KECkO7k9LJHi6H5FcU41-Q"},"/repos/preferences":{"post":"uPT6zuRlynILrsIWDJSF0eh2RnnlsAa8g5Y_eyQber_tWAXn-UD57C4kQP0lLbLorQBRA-WfoMuqynZ-oQEi8Q"}}},"title":"2025-team-F/examples/tf_pretrained_model.ipynb at restructuring · SPARC-FAIR-Codeathon/2025-team-F","appPayload":{"helpUrl":"https://docs.github.com","findFileWorkerPath":"/assets-cdn/worker/find-file-worker-263cab1760dd.js","findInFileWorkerPath":"/assets-cdn/worker/find-in-file-worker-0b6f8702959e.js","githubDevUrl":"https://github.dev/","enabled_features":{"code_nav_ui_events":false,"react_blob_overlay":true,"accessible_code_button":true}}}</script>
  <div data-target="react-app.reactRoot"><style data-styled="true" data-styled-version="5.3.11">.gISSDQ{width:100%;}/*!sc*/
@media screen and (min-width:544px){.gISSDQ{width:100%;}}/*!sc*/
@media screen and (min-width:768px){.gISSDQ{width:auto;}}/*!sc*/
.birIjn{max-height:100%;height:100%;display:-webkit-box;display:-webkit-flex;display:-ms-flexbox;display:flex;-webkit-flex-direction:column;-ms-flex-direction:column;flex-direction:column;}/*!sc*/
@media screen and (max-width:768px){.birIjn{display:none;}}/*!sc*/
@media screen and (min-width:768px){.birIjn{max-height:100vh;height:100vh;}}/*!sc*/
.jfIeyl{display:-webkit-box;display:-webkit-flex;display:-ms-flexbox;display:flex;width:100%;margin-bottom:16px;-webkit-align-items:center;-webkit-box-align:center;-ms-flex-align:center;align-items:center;}/*!sc*/
.kOkWgo{font-size:16px;margin-left:8px;}/*!sc*/
.dPUXSa[data-size="medium"][data-no-visuals]{border-top-left-radius:0;border-bottom-left-radius:0;}/*!sc*/
@media screen and (max-width:768px){.jLLPHh{display:none;}}/*!sc*/
.bHLmSv{position:absolute;inset:0 -2px;cursor:col-resize;background-color:transparent;-webkit-transition-delay:0.1s;transition-delay:0.1s;}/*!sc*/
.bHLmSv:hover{background-color:var(--bgColor-neutral-muted,var(--color-neutral-muted,rgba(175,184,193,0.2)));}/*!sc*/
.leYMvG{margin-left:auto;margin-right:auto;-webkit-flex-direction:column;-ms-flex-direction:column;flex-direction:column;padding-bottom:40px;max-width:100%;margin-top:0;}/*!sc*/
.KMPzq{display:inherit;}/*!sc*/
.cEytCf{display:-webkit-box;display:-webkit-flex;display:-ms-flexbox;display:flex;-webkit-flex-direction:row;-ms-flex-direction:row;flex-direction:row;font-size:16px;min-width:0;-webkit-flex-shrink:1;-ms-flex-negative:1;flex-shrink:1;-webkit-flex-wrap:wrap;-ms-flex-wrap:wrap;flex-wrap:wrap;max-width:100%;-webkit-align-items:center;-webkit-box-align:center;-ms-flex-align:center;align-items:center;}/*!sc*/
.fzFXnm{max-width:100%;}/*!sc*/
.iMnkmv{max-width:100%;list-style:none;display:inline-block;}/*!sc*/
.ghzDag{display:inline-block;max-width:100%;}/*!sc*/
.kHuKdh{font-weight:600;}/*!sc*/
.hzJBof{padding-left:4px;padding-right:4px;font-weight:400;color:var(--fgColor-muted,var(--color-fg-muted,#656d76));font-size:16px;}/*!sc*/
.kgiVEz{font-weight:400;}/*!sc*/
.jGhzSQ{font-weight:600;display:inline-block;max-width:100%;font-size:16px;}/*!sc*/
.fjrFuv[data-size="medium"][data-no-visuals]{display:none;}/*!sc*/
.gUkoLg{-webkit-box-pack:center;-webkit-justify-content:center;-ms-flex-pack:center;justify-content:center;}/*!sc*/
.dJxjrT{margin-left:16px;margin-right:16px;}/*!sc*/
.ldRxiI{display:-webkit-box;display:-webkit-flex;display:-ms-flexbox;display:flex;-webkit-flex-direction:row;-ms-flex-direction:row;flex-direction:row;}/*!sc*/
.fVkfyA{width:100%;height:-webkit-fit-content;height:-moz-fit-content;height:fit-content;min-width:0;margin-right:0;}/*!sc*/
.gNAmSV{height:40px;padding-left:4px;padding-bottom:16px;}/*!sc*/
.jdLMhu{top:0px;z-index:4;background:var(--bgColor-default,var(--color-canvas-default));position:-webkit-sticky;position:sticky;}/*!sc*/
.hqwSEx{display:none;min-width:0;padding-top:8px;padding-bottom:8px;}/*!sc*/
.fHind{display:-webkit-box;display:-webkit-flex;display:-ms-flexbox;display:flex;-webkit-flex-direction:row;-ms-flex-direction:row;flex-direction:row;font-size:14px;min-width:0;-webkit-flex-shrink:1;-ms-flex-negative:1;flex-shrink:1;-webkit-flex-wrap:wrap;-ms-flex-wrap:wrap;flex-wrap:wrap;max-width:100%;-webkit-align-items:center;-webkit-box-align:center;-ms-flex-align:center;align-items:center;}/*!sc*/
.oDtgN{padding-left:4px;padding-right:4px;font-weight:400;color:var(--fgColor-muted,var(--color-fg-muted,#656d76));font-size:14px;}/*!sc*/
.dnZoUW{font-weight:600;display:inline-block;max-width:100%;font-size:14px;}/*!sc*/
.gFKFyc{border-radius:6px 6px 0px 0px;}/*!sc*/
.lefpaC linkButtonSx:hover:not([disabled]){-webkit-text-decoration:none;text-decoration:none;}/*!sc*/
.lefpaC linkButtonSx:focus:not([disabled]){-webkit-text-decoration:none;text-decoration:none;}/*!sc*/
.lefpaC linkButtonSx:active:not([disabled]){-webkit-text-decoration:none;text-decoration:none;}/*!sc*/
.ivobqY[data-size="small"][data-no-visuals]{border-top-left-radius:0;border-bottom-left-radius:0;}/*!sc*/
.iCOsHh[data-size="small"][data-no-visuals]:hover:not([disabled]){-webkit-text-decoration:none;text-decoration:none;}/*!sc*/
.iCOsHh[data-size="small"][data-no-visuals]:focus:not([disabled]){-webkit-text-decoration:none;text-decoration:none;}/*!sc*/
.iCOsHh[data-size="small"][data-no-visuals]:active:not([disabled]){-webkit-text-decoration:none;text-decoration:none;}/*!sc*/
.hGyMdv{border:1px solid;border-top:none;border-color:var(--borderColor-default,var(--color-border-default,#d0d7de));border-radius:0px 0px 6px 6px;min-width:273px;}/*!sc*/
.iWAocR{background-color:var(--bgColor-default,var(--color-canvas-default));border:0px;border-width:0;border-radius:0px 0px 6px 6px;padding:0;min-width:0;margin-top:46px;overflow:auto;}/*!sc*/
.cCoXib{position:fixed;top:0;right:0;height:100%;width:15px;-webkit-transition:-webkit-transform 0.3s;-webkit-transition:transform 0.3s;transition:transform 0.3s;z-index:1;}/*!sc*/
.cCoXib:hover{-webkit-transform:scaleX(1.5);-ms-transform:scaleX(1.5);transform:scaleX(1.5);}/*!sc*/
.fgsa-DI{display:-webkit-box;display:-webkit-flex;display:-ms-flexbox;display:flex;-webkit-flex-direction:column;-ms-flex-direction:column;flex-direction:column;-webkit-align-items:center;-webkit-box-align:center;-ms-flex-align:center;align-items:center;padding-top:16px;padding-bottom:16px;}/*!sc*/
data-styled.g1[id="Box-sc-g0xbh4-0"]{content:"gISSDQ,birIjn,jfIeyl,kOkWgo,dPUXSa,jLLPHh,bHLmSv,leYMvG,KMPzq,cEytCf,fzFXnm,iMnkmv,ghzDag,kHuKdh,hzJBof,kgiVEz,jGhzSQ,fjrFuv,gUkoLg,dJxjrT,ldRxiI,fVkfyA,gNAmSV,jdLMhu,hqwSEx,fHind,oDtgN,dnZoUW,gFKFyc,lefpaC,ivobqY,iCOsHh,hGyMdv,iWAocR,cCoXib,fgsa-DI,"}/*!sc*/
.hWlpPn{position:relative;display:inline-block;}/*!sc*/
.hWlpPn::after{position:absolute;z-index:1000000;display:none;padding:0.5em 0.75em;font:normal normal 11px/1.5 -apple-system,BlinkMacSystemFont,"Segoe UI","Noto Sans",Helvetica,Arial,sans-serif,"Apple Color Emoji","Segoe UI Emoji";-webkit-font-smoothing:subpixel-antialiased;color:var(--tooltip-fgColor,var(--fgColor-onEmphasis,var(--color-fg-on-emphasis,#ffffff)));text-align:center;-webkit-text-decoration:none;text-decoration:none;text-shadow:none;text-transform:none;-webkit-letter-spacing:normal;-moz-letter-spacing:normal;-ms-letter-spacing:normal;letter-spacing:normal;word-wrap:break-word;white-space:pre;pointer-events:none;content:attr(aria-label);background:var(--tooltip-bgColor,var(--bgColor-emphasis,var(--color-neutral-emphasis-plus,#24292f)));border-radius:6px;opacity:0;}/*!sc*/
@-webkit-keyframes tooltip-appear{from{opacity:0;}to{opacity:1;}}/*!sc*/
@keyframes tooltip-appear{from{opacity:0;}to{opacity:1;}}/*!sc*/
.hWlpPn:hover::after,.hWlpPn:active::after,.hWlpPn:focus::after,.hWlpPn:focus-within::after{display:inline-block;-webkit-text-decoration:none;text-decoration:none;-webkit-animation-name:tooltip-appear;animation-name:tooltip-appear;-webkit-animation-duration:0.1s;animation-duration:0.1s;-webkit-animation-fill-mode:forwards;animation-fill-mode:forwards;-webkit-animation-timing-function:ease-in;animation-timing-function:ease-in;-webkit-animation-delay:0s;animation-delay:0s;}/*!sc*/
.hWlpPn.tooltipped-no-delay:hover::after,.hWlpPn.tooltipped-no-delay:active::after,.hWlpPn.tooltipped-no-delay:focus::after,.hWlpPn.tooltipped-no-delay:focus-within::after{-webkit-animation-delay:0s;animation-delay:0s;}/*!sc*/
.hWlpPn.tooltipped-multiline:hover::after,.hWlpPn.tooltipped-multiline:active::after,.hWlpPn.tooltipped-multiline:focus::after,.hWlpPn.tooltipped-multiline:focus-within::after{display:table-cell;}/*!sc*/
.hWlpPn.tooltipped-s::after,.hWlpPn.tooltipped-se::after,.hWlpPn.tooltipped-sw::after{top:100%;right:50%;margin-top:6px;}/*!sc*/
.hWlpPn.tooltipped-se::after{right:auto;left:50%;margin-left:-16px;}/*!sc*/
.hWlpPn.tooltipped-sw::after{margin-right:-16px;}/*!sc*/
.hWlpPn.tooltipped-n::after,.hWlpPn.tooltipped-ne::after,.hWlpPn.tooltipped-nw::after{right:50%;bottom:100%;margin-bottom:6px;}/*!sc*/
.hWlpPn.tooltipped-ne::after{right:auto;left:50%;margin-left:-16px;}/*!sc*/
.hWlpPn.tooltipped-nw::after{margin-right:-16px;}/*!sc*/
.hWlpPn.tooltipped-s::after,.hWlpPn.tooltipped-n::after{-webkit-transform:translateX(50%);-ms-transform:translateX(50%);transform:translateX(50%);}/*!sc*/
.hWlpPn.tooltipped-w::after{right:100%;bottom:50%;margin-right:6px;-webkit-transform:translateY(50%);-ms-transform:translateY(50%);transform:translateY(50%);}/*!sc*/
.hWlpPn.tooltipped-e::after{bottom:50%;left:100%;margin-left:6px;-webkit-transform:translateY(50%);-ms-transform:translateY(50%);transform:translateY(50%);}/*!sc*/
.hWlpPn.tooltipped-multiline::after{width:-webkit-max-content;width:-moz-max-content;width:max-content;max-width:250px;word-wrap:break-word;white-space:pre-line;border-collapse:separate;}/*!sc*/
.hWlpPn.tooltipped-multiline.tooltipped-s::after,.hWlpPn.tooltipped-multiline.tooltipped-n::after{right:auto;left:50%;-webkit-transform:translateX(-50%);-ms-transform:translateX(-50%);transform:translateX(-50%);}/*!sc*/
.hWlpPn.tooltipped-multiline.tooltipped-w::after,.hWlpPn.tooltipped-multiline.tooltipped-e::after{right:100%;}/*!sc*/
.hWlpPn.tooltipped-align-right-2::after{right:0;margin-right:0;}/*!sc*/
.hWlpPn.tooltipped-align-left-2::after{left:0;margin-left:0;}/*!sc*/
data-styled.g4[id="Tooltip__TooltipBase-sc-17tf59c-0"]{content:"hWlpPn,"}/*!sc*/
</style><meta data-hydrostats="publish"/> <!-- --> <!-- --> <button hidden="" data-testid="header-permalink-button" data-hotkey-scope="read-only-cursor-text-area"></button><button hidden=""></button><div><div style="--spacing:var(--spacing-none)" class="prc-PageLayout-PageLayoutRoot-1zlEO"><div class="prc-PageLayout-PageLayoutWrapper-s2ao4" data-width="full"><div class="prc-PageLayout-PageLayoutContent-jzDMn"><div tabindex="0" class="Box-sc-g0xbh4-0 gISSDQ"><div class="prc-PageLayout-PaneWrapper-nGO0U ReposFileTreePane-module__Pane--wS7IV ReposFileTreePane-module__HidePaneWithTreeOverlay--fHI8k" style="--offset-header:0px;--spacing-row:var(--spacing-none);--spacing-column:var(--spacing-none)" data-is-hidden="false" data-position="start" data-sticky="true"><div class="prc-PageLayout-HorizontalDivider-CYLp5 prc-PageLayout-PaneHorizontalDivider-4exOb" data-variant="none" data-position="start" style="--spacing-divider:var(--spacing-none);--spacing:var(--spacing-none)"></div><div class="prc-PageLayout-Pane-Vl5LI" data-resizable="true" style="--spacing:var(--spacing-none);--pane-min-width:256px;--pane-max-width:calc(100vw - var(--pane-max-width-diff));--pane-width-size:var(--pane-width-large);--pane-width:320px"><div class="react-tree-pane-contents-3-panel"><div id="repos-file-tree" class="Box-sc-g0xbh4-0 birIjn"><div class="ReposFileTreePane-module__Box_1--Bz4Aw"><div class="Box-sc-g0xbh4-0 jfIeyl"><h2 class="use-tree-pane-module__Heading--DlnQ2 prc-Heading-Heading-6CmGO"><button type="button" aria-label="Expand file tree" data-testid="expand-file-tree-button-mobile" class="prc-Button-ButtonBase-c50BI ExpandFileTreeButton-module__Button_1--M2dXF" data-loading="false" data-size="medium" data-variant="invisible" aria-describedby=":Rl6mplab:-loading-announcement"><span data-component="buttonContent" data-align="center" class="prc-Button-ButtonContent-HKbr-"><span data-component="leadingVisual" class="prc-Button-Visual-2epfX prc-Button-VisualWrap-Db-eB"><svg aria-hidden="true" focusable="false" class="octicon octicon-arrow-left" viewBox="0 0 16 16" width="16" height="16" fill="currentColor" display="inline-block" overflow="visible" style="vertical-align:text-bottom"><path d="M7.78 12.53a.75.75 0 0 1-1.06 0L2.47 8.28a.75.75 0 0 1 0-1.06l4.25-4.25a.751.751 0 0 1 1.042.018.751.751 0 0 1 .018 1.042L4.81 7h7.44a.75.75 0 0 1 0 1.5H4.81l2.97 2.97a.75.75 0 0 1 0 1.06Z"></path></svg></span><span data-component="text" class="prc-Button-Label-pTQ3x">Files</span></span></button><button data-component="IconButton" type="button" data-testid="collapse-file-tree-button" aria-expanded="true" aria-controls="repos-file-tree" class="prc-Button-ButtonBase-c50BI position-relative ExpandFileTreeButton-module__expandButton--gL4is ExpandFileTreeButton-module__filesButtonBreakpoint--WfX9t fgColor-muted prc-Button-IconButton-szpyj" data-loading="false" data-no-visuals="true" data-size="medium" data-variant="invisible" aria-describedby=":R756mplab:-loading-announcement" aria-labelledby=":R156mplab:"><svg aria-hidden="true" focusable="false" class="octicon octicon-sidebar-expand" viewBox="0 0 16 16" width="16" height="16" fill="currentColor" display="inline-block" overflow="visible" style="vertical-align:text-bottom"><path d="m4.177 7.823 2.396-2.396A.25.25 0 0 1 7 5.604v4.792a.25.25 0 0 1-.427.177L4.177 8.177a.25.25 0 0 1 0-.354Z"></path><path d="M0 1.75C0 .784.784 0 1.75 0h12.5C15.216 0 16 .784 16 1.75v12.5A1.75 1.75 0 0 1 14.25 16H1.75A1.75 1.75 0 0 1 0 14.25Zm1.75-.25a.25.25 0 0 0-.25.25v12.5c0 .138.112.25.25.25H9.5v-13Zm12.5 13a.25.25 0 0 0 .25-.25V1.75a.25.25 0 0 0-.25-.25H11v13Z"></path></svg></button><span class="prc-TooltipV2-Tooltip-cYMVY" data-direction="se" aria-hidden="true" id=":R156mplab:">Collapse file tree</span><button hidden="" data-testid="" data-hotkey-scope="read-only-cursor-text-area"></button></h2><h2 class="Box-sc-g0xbh4-0 kOkWgo prc-Heading-Heading-6CmGO">Files</h2></div><div class="ReposFileTreePane-module__Box_2--uC_pl"><div class="ReposFileTreePane-module__Box_3--Tgoja"><button style="min-width:0" type="button" aria-haspopup="true" aria-expanded="false" tabindex="0" aria-label="restructuring branch" data-testid="anchor-button" class="prc-Button-ButtonBase-c50BI react-repos-tree-pane-ref-selector width-full ref-selector-class RefSelectorAnchoredOverlay-module__RefSelectorOverlayBtn--VlL0G" data-loading="false" data-size="medium" data-variant="default" aria-describedby="branch-picker-repos-header-ref-selector-loading-announcement" id="branch-picker-repos-header-ref-selector"><span data-component="buttonContent" data-align="center" class="prc-Button-ButtonContent-HKbr-"><span data-component="text" class="prc-Button-Label-pTQ3x"><div class="RefSelectorAnchoredOverlay-module__RefSelectorOverlayContainer--zopKZ"><div class="RefSelectorAnchoredOverlay-module__RefSelectorOverlayHeader--j083h"><svg aria-hidden="true" focusable="false" class="octicon octicon-git-branch" viewBox="0 0 16 16" width="16" height="16" fill="currentColor" display="inline-block" overflow="visible" style="vertical-align:text-bottom"><path d="M9.5 3.25a2.25 2.25 0 1 1 3 2.122V6A2.5 2.5 0 0 1 10 8.5H6a1 1 0 0 0-1 1v1.128a2.251 2.251 0 1 1-1.5 0V5.372a2.25 2.25 0 1 1 1.5 0v1.836A2.493 2.493 0 0 1 6 7h4a1 1 0 0 0 1-1v-.628A2.25 2.25 0 0 1 9.5 3.25Zm-6 0a.75.75 0 1 0 1.5 0 .75.75 0 0 0-1.5 0Zm8.25-.75a.75.75 0 1 0 0 1.5.75.75 0 0 0 0-1.5ZM4.25 12a.75.75 0 1 0 0 1.5.75.75 0 0 0 0-1.5Z"></path></svg></div><div class="ref-selector-button-text-container RefSelectorAnchoredOverlay-module__RefSelectorBtnTextContainer--k6jL0"><span class="RefSelectorAnchoredOverlay-module__RefSelectorText--A0p63"> <!-- -->restructuring</span></div></div></span><span data-component="trailingVisual" class="prc-Button-Visual-2epfX prc-Button-VisualWrap-Db-eB"><svg aria-hidden="true" focusable="false" class="octicon octicon-triangle-down" viewBox="0 0 16 16" width="16" height="16" fill="currentColor" display="inline-block" overflow="visible" style="vertical-align:text-bottom"><path d="m4.427 7.427 3.396 3.396a.25.25 0 0 0 .354 0l3.396-3.396A.25.25 0 0 0 11.396 7H4.604a.25.25 0 0 0-.177.427Z"></path></svg></span></span></button><button hidden="" data-hotkey-scope="read-only-cursor-text-area"></button></div><div class="ReposFileTreePane-module__Box_4--brBpx"><a data-component="IconButton" type="button" class="prc-Button-ButtonBase-c50BI ReposFileTreePane-module__IconButton--tNSTv prc-Button-IconButton-szpyj" data-loading="false" data-no-visuals="true" data-size="medium" data-variant="default" aria-describedby=":R6q6mplab:-loading-announcement" aria-labelledby=":Rq6mplab:" href="/SPARC-FAIR-Codeathon/2025-team-F/new/restructuring/examples" data-discover="true"><svg aria-hidden="true" focusable="false" class="octicon octicon-plus" viewBox="0 0 16 16" width="16" height="16" fill="currentColor" display="inline-block" overflow="visible" style="vertical-align:text-bottom"><path d="M7.75 2a.75.75 0 0 1 .75.75V7h4.25a.75.75 0 0 1 0 1.5H8.5v4.25a.75.75 0 0 1-1.5 0V8.5H2.75a.75.75 0 0 1 0-1.5H7V2.75A.75.75 0 0 1 7.75 2Z"></path></svg></a><span class="prc-TooltipV2-Tooltip-cYMVY" data-direction="n" aria-hidden="true" id=":Rq6mplab:">Add file</span><button data-component="IconButton" type="button" class="Box-sc-g0xbh4-0 dPUXSa prc-Button-ButtonBase-c50BI SearchButton-module__IconButton--LGy8b prc-Button-IconButton-szpyj" data-loading="false" data-no-visuals="true" data-size="medium" data-variant="default" aria-describedby=":Rra6mplab:-loading-announcement" aria-labelledby=":R3a6mplab:"><svg aria-hidden="true" focusable="false" class="octicon octicon-search" viewBox="0 0 16 16" width="16" height="16" fill="currentColor" display="inline-block" overflow="visible" style="vertical-align:text-bottom"><path d="M10.68 11.74a6 6 0 0 1-7.922-8.982 6 6 0 0 1 8.982 7.922l3.04 3.04a.749.749 0 0 1-.326 1.275.749.749 0 0 1-.734-.215ZM11.5 7a4.499 4.499 0 1 0-8.997 0A4.499 4.499 0 0 0 11.5 7Z"></path></svg></button><span class="prc-TooltipV2-Tooltip-cYMVY" data-direction="nw" aria-hidden="true" id=":R3a6mplab:">Search this repository</span><button hidden="" data-testid="" data-hotkey-scope="read-only-cursor-text-area"></button></div></div></div><div class="Box-sc-g0xbh4-0 jLLPHh ReposFileTreePane-module__FileResultsList--t38MI FileResultsList-module__Box_1--ZnWjQ"><span class="FileResultsList-module__FilesSearchBox--J5FtW FilesSearchBox-module__TextInput--LKpMn TextInput-wrapper prc-components-TextInputWrapper-i1ofR prc-components-TextInputBaseWrapper-ueK9q" data-leading-visual="true" data-trailing-visual="true" aria-busy="false"><span class="TextInput-icon" id=":R5amplab:" aria-hidden="true"><svg aria-hidden="true" focusable="false" class="octicon octicon-search" viewBox="0 0 16 16" width="16" height="16" fill="currentColor" display="inline-block" overflow="visible" style="vertical-align:text-bottom"><path d="M10.68 11.74a6 6 0 0 1-7.922-8.982 6 6 0 0 1 8.982 7.922l3.04 3.04a.749.749 0 0 1-.326 1.275.749.749 0 0 1-.734-.215ZM11.5 7a4.499 4.499 0 1 0-8.997 0A4.499 4.499 0 0 0 11.5 7Z"></path></svg></span><input type="text" aria-label="Go to file" role="combobox" aria-controls="file-results-list" aria-expanded="false" aria-haspopup="dialog" autoCorrect="off" spellcheck="false" placeholder="Go to file" aria-describedby=":R5amplab: :R5amplabH1:" data-component="input" class="prc-components-Input-Ic-y8" value=""/><span class="TextInput-icon" id=":R5amplabH1:" aria-hidden="true"><div class="FilesSearchBox-module__Box--Ye6rL"><kbd>t</kbd></div></span></span></div><button hidden="" data-testid="" data-hotkey-scope="read-only-cursor-text-area"></button><button hidden=""></button><div class="Box-sc-g0xbh4-0 jLLPHh ReposFileTreePane-module__Box_5--tQNH_"><div class="react-tree-show-tree-items"><div class="ReposFileTreeView-module__Box--V2jWA" data-testid="repos-file-tree-container"><nav aria-label="File Tree Navigation"><span class="prc-src-InternalVisuallyHidden-nlR9R" role="status" aria-live="polite" aria-atomic="true"></span><ul role="tree" aria-label="Files" data-truncate-text="true" class="prc-TreeView-TreeViewRootUlStyles-eZtxW"><li class="PRIVATE_TreeView-item prc-TreeView-TreeViewItem-ShJr0" tabindex="0" id="examples-item" role="treeitem" aria-labelledby=":R3pimplab:" aria-describedby=":R3pimplabH1:" aria-level="1" aria-expanded="true" aria-selected="false"><div class="PRIVATE_TreeView-item-container prc-TreeView-TreeViewItemContainer--2Rkn" style="--level:1;content-visibility:auto;contain-intrinsic-size:auto 2rem"><div style="grid-area:spacer;display:flex"><div style="width:100%;display:flex"></div></div><div class="PRIVATE_TreeView-item-toggle PRIVATE_TreeView-item-toggle--hover PRIVATE_TreeView-item-toggle--end prc-TreeView-TreeViewItemToggle-gWUdE prc-TreeView-TreeViewItemToggleHover-nEgP- prc-TreeView-TreeViewItemToggleEnd-t-AEB"><svg aria-hidden="true" focusable="false" class="octicon octicon-chevron-down" viewBox="0 0 12 12" width="12" height="12" fill="currentColor" display="inline-block" overflow="visible" style="vertical-align:text-bottom"><path d="M6 8.825c-.2 0-.4-.1-.5-.2l-3.3-3.3c-.3-.3-.3-.8 0-1.1.3-.3.8-.3 1.1 0l2.7 2.7 2.7-2.7c.3-.3.8-.3 1.1 0 .3.3.3.8 0 1.1l-3.2 3.2c-.2.2-.4.3-.6.3Z"></path></svg></div><div id=":R3pimplab:" class="PRIVATE_TreeView-item-content prc-TreeView-TreeViewItemContent-f0r0b"><div class="PRIVATE_VisuallyHidden prc-TreeView-TreeViewVisuallyHidden-4-mPv" aria-hidden="true" id=":R3pimplabH1:"></div><div class="PRIVATE_TreeView-item-visual prc-TreeView-TreeViewItemVisual-dRlGq" aria-hidden="true"><div class="PRIVATE_TreeView-directory-icon prc-TreeView-TreeViewDirectoryIcon-PHbeP"><svg aria-hidden="true" focusable="false" class="octicon octicon-file-directory-open-fill" viewBox="0 0 16 16" width="16" height="16" fill="currentColor" display="inline-block" overflow="visible" style="vertical-align:text-bottom"><path d="M.513 1.513A1.75 1.75 0 0 1 1.75 1h3.5c.55 0 1.07.26 1.4.7l.9 1.2a.25.25 0 0 0 .2.1H13a1 1 0 0 1 1 1v.5H2.75a.75.75 0 0 0 0 1.5h11.978a1 1 0 0 1 .994 1.117L15 13.25A1.75 1.75 0 0 1 13.25 15H1.75A1.75 1.75 0 0 1 0 13.25V2.75c0-.464.184-.91.513-1.237Z"></path></svg></div></div><span class="PRIVATE_TreeView-item-content-text prc-TreeView-TreeViewItemContentText-smZM-"><span>examples</span></span></div></div><ul role="group" style="list-style:none;padding:0;margin:0" aria-label=""><li class="PRIVATE_TreeView-item prc-TreeView-TreeViewItem-ShJr0" tabindex="0" id="examples/tf_LSTM_model.ipynb-item" role="treeitem" aria-labelledby=":R2mjpimplab:" aria-describedby=":R2mjpimplabH1:" aria-level="2" aria-selected="false"><div class="PRIVATE_TreeView-item-container prc-TreeView-TreeViewItemContainer--2Rkn" style="--level:2;content-visibility:auto;contain-intrinsic-size:auto 2rem"><div style="grid-area:spacer;display:flex"><div style="width:100%;display:flex"><div class="PRIVATE_TreeView-item-level-line prc-TreeView-TreeViewItemLevelLine-KPSSL"></div></div></div><div id=":R2mjpimplab:" class="PRIVATE_TreeView-item-content prc-TreeView-TreeViewItemContent-f0r0b"><div class="PRIVATE_VisuallyHidden prc-TreeView-TreeViewVisuallyHidden-4-mPv" aria-hidden="true" id=":R2mjpimplabH1:"></div><div class="PRIVATE_TreeView-item-visual prc-TreeView-TreeViewItemVisual-dRlGq" aria-hidden="true"><svg aria-hidden="true" focusable="false" class="octicon octicon-file" viewBox="0 0 16 16" width="16" height="16" fill="currentColor" display="inline-block" overflow="visible" style="vertical-align:text-bottom"><path d="M2 1.75C2 .784 2.784 0 3.75 0h6.586c.464 0 .909.184 1.237.513l2.914 2.914c.329.328.513.773.513 1.237v9.586A1.75 1.75 0 0 1 13.25 16h-9.5A1.75 1.75 0 0 1 2 14.25Zm1.75-.25a.25.25 0 0 0-.25.25v12.5c0 .138.112.25.25.25h9.5a.25.25 0 0 0 .25-.25V6h-2.75A1.75 1.75 0 0 1 9 4.25V1.5Zm6.75.062V4.25c0 .138.112.25.25.25h2.688l-.011-.013-2.914-2.914-.013-.011Z"></path></svg></div><span class="PRIVATE_TreeView-item-content-text prc-TreeView-TreeViewItemContentText-smZM-"><span>tf_LSTM_model.ipynb</span></span></div></div></li><li class="PRIVATE_TreeView-item prc-TreeView-TreeViewItem-ShJr0" tabindex="0" id="examples/tf_fine_tune_model.ipynb-item" role="treeitem" aria-labelledby=":R4mjpimplab:" aria-describedby=":R4mjpimplabH1:" aria-level="2" aria-selected="false"><div class="PRIVATE_TreeView-item-container prc-TreeView-TreeViewItemContainer--2Rkn" style="--level:2;content-visibility:auto;contain-intrinsic-size:auto 2rem"><div style="grid-area:spacer;display:flex"><div style="width:100%;display:flex"><div class="PRIVATE_TreeView-item-level-line prc-TreeView-TreeViewItemLevelLine-KPSSL"></div></div></div><div id=":R4mjpimplab:" class="PRIVATE_TreeView-item-content prc-TreeView-TreeViewItemContent-f0r0b"><div class="PRIVATE_VisuallyHidden prc-TreeView-TreeViewVisuallyHidden-4-mPv" aria-hidden="true" id=":R4mjpimplabH1:"></div><div class="PRIVATE_TreeView-item-visual prc-TreeView-TreeViewItemVisual-dRlGq" aria-hidden="true"><svg aria-hidden="true" focusable="false" class="octicon octicon-file" viewBox="0 0 16 16" width="16" height="16" fill="currentColor" display="inline-block" overflow="visible" style="vertical-align:text-bottom"><path d="M2 1.75C2 .784 2.784 0 3.75 0h6.586c.464 0 .909.184 1.237.513l2.914 2.914c.329.328.513.773.513 1.237v9.586A1.75 1.75 0 0 1 13.25 16h-9.5A1.75 1.75 0 0 1 2 14.25Zm1.75-.25a.25.25 0 0 0-.25.25v12.5c0 .138.112.25.25.25h9.5a.25.25 0 0 0 .25-.25V6h-2.75A1.75 1.75 0 0 1 9 4.25V1.5Zm6.75.062V4.25c0 .138.112.25.25.25h2.688l-.011-.013-2.914-2.914-.013-.011Z"></path></svg></div><span class="PRIVATE_TreeView-item-content-text prc-TreeView-TreeViewItemContentText-smZM-"><span>tf_fine_tune_model.ipynb</span></span></div></div></li><li class="PRIVATE_TreeView-item prc-TreeView-TreeViewItem-ShJr0" tabindex="0" id="examples/tf_pretrained_model.ipynb-item" role="treeitem" aria-labelledby=":R6mjpimplab:" aria-describedby=":R6mjpimplabH1:" aria-level="2" aria-current="true" aria-selected="false"><div class="PRIVATE_TreeView-item-container prc-TreeView-TreeViewItemContainer--2Rkn" style="--level:2"><div style="grid-area:spacer;display:flex"><div style="width:100%;display:flex"><div class="PRIVATE_TreeView-item-level-line prc-TreeView-TreeViewItemLevelLine-KPSSL"></div></div></div><div id=":R6mjpimplab:" class="PRIVATE_TreeView-item-content prc-TreeView-TreeViewItemContent-f0r0b"><div class="PRIVATE_VisuallyHidden prc-TreeView-TreeViewVisuallyHidden-4-mPv" aria-hidden="true" id=":R6mjpimplabH1:"></div><div class="PRIVATE_TreeView-item-visual prc-TreeView-TreeViewItemVisual-dRlGq" aria-hidden="true"><svg aria-hidden="true" focusable="false" class="octicon octicon-file" viewBox="0 0 16 16" width="16" height="16" fill="currentColor" display="inline-block" overflow="visible" style="vertical-align:text-bottom"><path d="M2 1.75C2 .784 2.784 0 3.75 0h6.586c.464 0 .909.184 1.237.513l2.914 2.914c.329.328.513.773.513 1.237v9.586A1.75 1.75 0 0 1 13.25 16h-9.5A1.75 1.75 0 0 1 2 14.25Zm1.75-.25a.25.25 0 0 0-.25.25v12.5c0 .138.112.25.25.25h9.5a.25.25 0 0 0 .25-.25V6h-2.75A1.75 1.75 0 0 1 9 4.25V1.5Zm6.75.062V4.25c0 .138.112.25.25.25h2.688l-.011-.013-2.914-2.914-.013-.011Z"></path></svg></div><span class="PRIVATE_TreeView-item-content-text prc-TreeView-TreeViewItemContentText-smZM-"><span>tf_pretrained_model.ipynb</span></span></div></div></li></ul></li><li class="PRIVATE_TreeView-item prc-TreeView-TreeViewItem-ShJr0" tabindex="0" id="res-item" role="treeitem" aria-labelledby=":R5pimplab:" aria-describedby=":R5pimplabH1:" aria-level="1" aria-expanded="false" aria-selected="false"><div class="PRIVATE_TreeView-item-container prc-TreeView-TreeViewItemContainer--2Rkn" style="--level:1;content-visibility:auto;contain-intrinsic-size:auto 2rem"><div style="grid-area:spacer;display:flex"><div style="width:100%;display:flex"></div></div><div class="PRIVATE_TreeView-item-toggle PRIVATE_TreeView-item-toggle--hover PRIVATE_TreeView-item-toggle--end prc-TreeView-TreeViewItemToggle-gWUdE prc-TreeView-TreeViewItemToggleHover-nEgP- prc-TreeView-TreeViewItemToggleEnd-t-AEB"><svg aria-hidden="true" focusable="false" class="octicon octicon-chevron-right" viewBox="0 0 12 12" width="12" height="12" fill="currentColor" display="inline-block" overflow="visible" style="vertical-align:text-bottom"><path d="M4.7 10c-.2 0-.4-.1-.5-.2-.3-.3-.3-.8 0-1.1L6.9 6 4.2 3.3c-.3-.3-.3-.8 0-1.1.3-.3.8-.3 1.1 0l3.3 3.2c.3.3.3.8 0 1.1L5.3 9.7c-.2.2-.4.3-.6.3Z"></path></svg></div><div id=":R5pimplab:" class="PRIVATE_TreeView-item-content prc-TreeView-TreeViewItemContent-f0r0b"><div class="PRIVATE_VisuallyHidden prc-TreeView-TreeViewVisuallyHidden-4-mPv" aria-hidden="true" id=":R5pimplabH1:"></div><div class="PRIVATE_TreeView-item-visual prc-TreeView-TreeViewItemVisual-dRlGq" aria-hidden="true"><div class="PRIVATE_TreeView-directory-icon prc-TreeView-TreeViewDirectoryIcon-PHbeP"><svg aria-hidden="true" focusable="false" class="octicon octicon-file-directory-fill" viewBox="0 0 16 16" width="16" height="16" fill="currentColor" display="inline-block" overflow="visible" style="vertical-align:text-bottom"><path d="M1.75 1A1.75 1.75 0 0 0 0 2.75v10.5C0 14.216.784 15 1.75 15h12.5A1.75 1.75 0 0 0 16 13.25v-8.5A1.75 1.75 0 0 0 14.25 3H7.5a.25.25 0 0 1-.2-.1l-.9-1.2C6.07 1.26 5.55 1 5 1H1.75Z"></path></svg></div></div><span class="PRIVATE_TreeView-item-content-text prc-TreeView-TreeViewItemContentText-smZM-"><span>res</span></span></div></div></li><li class="PRIVATE_TreeView-item prc-TreeView-TreeViewItem-ShJr0" tabindex="0" id="sparcats-item" role="treeitem" aria-labelledby=":R7pimplab:" aria-describedby=":R7pimplabH1:" aria-level="1" aria-expanded="false" aria-selected="false"><div class="PRIVATE_TreeView-item-container prc-TreeView-TreeViewItemContainer--2Rkn" style="--level:1;content-visibility:auto;contain-intrinsic-size:auto 2rem"><div style="grid-area:spacer;display:flex"><div style="width:100%;display:flex"></div></div><div class="PRIVATE_TreeView-item-toggle PRIVATE_TreeView-item-toggle--hover PRIVATE_TreeView-item-toggle--end prc-TreeView-TreeViewItemToggle-gWUdE prc-TreeView-TreeViewItemToggleHover-nEgP- prc-TreeView-TreeViewItemToggleEnd-t-AEB"><svg aria-hidden="true" focusable="false" class="octicon octicon-chevron-right" viewBox="0 0 12 12" width="12" height="12" fill="currentColor" display="inline-block" overflow="visible" style="vertical-align:text-bottom"><path d="M4.7 10c-.2 0-.4-.1-.5-.2-.3-.3-.3-.8 0-1.1L6.9 6 4.2 3.3c-.3-.3-.3-.8 0-1.1.3-.3.8-.3 1.1 0l3.3 3.2c.3.3.3.8 0 1.1L5.3 9.7c-.2.2-.4.3-.6.3Z"></path></svg></div><div id=":R7pimplab:" class="PRIVATE_TreeView-item-content prc-TreeView-TreeViewItemContent-f0r0b"><div class="PRIVATE_VisuallyHidden prc-TreeView-TreeViewVisuallyHidden-4-mPv" aria-hidden="true" id=":R7pimplabH1:"></div><div class="PRIVATE_TreeView-item-visual prc-TreeView-TreeViewItemVisual-dRlGq" aria-hidden="true"><div class="PRIVATE_TreeView-directory-icon prc-TreeView-TreeViewDirectoryIcon-PHbeP"><svg aria-hidden="true" focusable="false" class="octicon octicon-file-directory-fill" viewBox="0 0 16 16" width="16" height="16" fill="currentColor" display="inline-block" overflow="visible" style="vertical-align:text-bottom"><path d="M1.75 1A1.75 1.75 0 0 0 0 2.75v10.5C0 14.216.784 15 1.75 15h12.5A1.75 1.75 0 0 0 16 13.25v-8.5A1.75 1.75 0 0 0 14.25 3H7.5a.25.25 0 0 1-.2-.1l-.9-1.2C6.07 1.26 5.55 1 5 1H1.75Z"></path></svg></div></div><span class="PRIVATE_TreeView-item-content-text prc-TreeView-TreeViewItemContentText-smZM-"><span>sparcats</span></span></div></div></li><li class="PRIVATE_TreeView-item prc-TreeView-TreeViewItem-ShJr0" tabindex="0" id="tutorials-item" role="treeitem" aria-labelledby=":R9pimplab:" aria-describedby=":R9pimplabH1:" aria-level="1" aria-expanded="false" aria-selected="false"><div class="PRIVATE_TreeView-item-container prc-TreeView-TreeViewItemContainer--2Rkn" style="--level:1;content-visibility:auto;contain-intrinsic-size:auto 2rem"><div style="grid-area:spacer;display:flex"><div style="width:100%;display:flex"></div></div><div class="PRIVATE_TreeView-item-toggle PRIVATE_TreeView-item-toggle--hover PRIVATE_TreeView-item-toggle--end prc-TreeView-TreeViewItemToggle-gWUdE prc-TreeView-TreeViewItemToggleHover-nEgP- prc-TreeView-TreeViewItemToggleEnd-t-AEB"><svg aria-hidden="true" focusable="false" class="octicon octicon-chevron-right" viewBox="0 0 12 12" width="12" height="12" fill="currentColor" display="inline-block" overflow="visible" style="vertical-align:text-bottom"><path d="M4.7 10c-.2 0-.4-.1-.5-.2-.3-.3-.3-.8 0-1.1L6.9 6 4.2 3.3c-.3-.3-.3-.8 0-1.1.3-.3.8-.3 1.1 0l3.3 3.2c.3.3.3.8 0 1.1L5.3 9.7c-.2.2-.4.3-.6.3Z"></path></svg></div><div id=":R9pimplab:" class="PRIVATE_TreeView-item-content prc-TreeView-TreeViewItemContent-f0r0b"><div class="PRIVATE_VisuallyHidden prc-TreeView-TreeViewVisuallyHidden-4-mPv" aria-hidden="true" id=":R9pimplabH1:"></div><div class="PRIVATE_TreeView-item-visual prc-TreeView-TreeViewItemVisual-dRlGq" aria-hidden="true"><div class="PRIVATE_TreeView-directory-icon prc-TreeView-TreeViewDirectoryIcon-PHbeP"><svg aria-hidden="true" focusable="false" class="octicon octicon-file-directory-fill" viewBox="0 0 16 16" width="16" height="16" fill="currentColor" display="inline-block" overflow="visible" style="vertical-align:text-bottom"><path d="M1.75 1A1.75 1.75 0 0 0 0 2.75v10.5C0 14.216.784 15 1.75 15h12.5A1.75 1.75 0 0 0 16 13.25v-8.5A1.75 1.75 0 0 0 14.25 3H7.5a.25.25 0 0 1-.2-.1l-.9-1.2C6.07 1.26 5.55 1 5 1H1.75Z"></path></svg></div></div><span class="PRIVATE_TreeView-item-content-text prc-TreeView-TreeViewItemContentText-smZM-"><span>tutorials</span></span></div></div></li><li class="PRIVATE_TreeView-item prc-TreeView-TreeViewItem-ShJr0" tabindex="0" id="validation-item" role="treeitem" aria-labelledby=":Rbpimplab:" aria-describedby=":RbpimplabH1:" aria-level="1" aria-expanded="false" aria-selected="false"><div class="PRIVATE_TreeView-item-container prc-TreeView-TreeViewItemContainer--2Rkn" style="--level:1;content-visibility:auto;contain-intrinsic-size:auto 2rem"><div style="grid-area:spacer;display:flex"><div style="width:100%;display:flex"></div></div><div class="PRIVATE_TreeView-item-toggle PRIVATE_TreeView-item-toggle--hover PRIVATE_TreeView-item-toggle--end prc-TreeView-TreeViewItemToggle-gWUdE prc-TreeView-TreeViewItemToggleHover-nEgP- prc-TreeView-TreeViewItemToggleEnd-t-AEB"><svg aria-hidden="true" focusable="false" class="octicon octicon-chevron-right" viewBox="0 0 12 12" width="12" height="12" fill="currentColor" display="inline-block" overflow="visible" style="vertical-align:text-bottom"><path d="M4.7 10c-.2 0-.4-.1-.5-.2-.3-.3-.3-.8 0-1.1L6.9 6 4.2 3.3c-.3-.3-.3-.8 0-1.1.3-.3.8-.3 1.1 0l3.3 3.2c.3.3.3.8 0 1.1L5.3 9.7c-.2.2-.4.3-.6.3Z"></path></svg></div><div id=":Rbpimplab:" class="PRIVATE_TreeView-item-content prc-TreeView-TreeViewItemContent-f0r0b"><div class="PRIVATE_VisuallyHidden prc-TreeView-TreeViewVisuallyHidden-4-mPv" aria-hidden="true" id=":RbpimplabH1:"></div><div class="PRIVATE_TreeView-item-visual prc-TreeView-TreeViewItemVisual-dRlGq" aria-hidden="true"><div class="PRIVATE_TreeView-directory-icon prc-TreeView-TreeViewDirectoryIcon-PHbeP"><svg aria-hidden="true" focusable="false" class="octicon octicon-file-directory-fill" viewBox="0 0 16 16" width="16" height="16" fill="currentColor" display="inline-block" overflow="visible" style="vertical-align:text-bottom"><path d="M1.75 1A1.75 1.75 0 0 0 0 2.75v10.5C0 14.216.784 15 1.75 15h12.5A1.75 1.75 0 0 0 16 13.25v-8.5A1.75 1.75 0 0 0 14.25 3H7.5a.25.25 0 0 1-.2-.1l-.9-1.2C6.07 1.26 5.55 1 5 1H1.75Z"></path></svg></div></div><span class="PRIVATE_TreeView-item-content-text prc-TreeView-TreeViewItemContentText-smZM-"><span>validation</span></span></div></div></li><li class="PRIVATE_TreeView-item prc-TreeView-TreeViewItem-ShJr0" tabindex="0" id=".gitignore-item" role="treeitem" aria-labelledby=":Rdpimplab:" aria-describedby=":RdpimplabH1:" aria-level="1" aria-selected="false"><div class="PRIVATE_TreeView-item-container prc-TreeView-TreeViewItemContainer--2Rkn" style="--level:1;content-visibility:auto;contain-intrinsic-size:auto 2rem"><div style="grid-area:spacer;display:flex"><div style="width:100%;display:flex"></div></div><div id=":Rdpimplab:" class="PRIVATE_TreeView-item-content prc-TreeView-TreeViewItemContent-f0r0b"><div class="PRIVATE_VisuallyHidden prc-TreeView-TreeViewVisuallyHidden-4-mPv" aria-hidden="true" id=":RdpimplabH1:"></div><div class="PRIVATE_TreeView-item-visual prc-TreeView-TreeViewItemVisual-dRlGq" aria-hidden="true"><svg aria-hidden="true" focusable="false" class="octicon octicon-file" viewBox="0 0 16 16" width="16" height="16" fill="currentColor" display="inline-block" overflow="visible" style="vertical-align:text-bottom"><path d="M2 1.75C2 .784 2.784 0 3.75 0h6.586c.464 0 .909.184 1.237.513l2.914 2.914c.329.328.513.773.513 1.237v9.586A1.75 1.75 0 0 1 13.25 16h-9.5A1.75 1.75 0 0 1 2 14.25Zm1.75-.25a.25.25 0 0 0-.25.25v12.5c0 .138.112.25.25.25h9.5a.25.25 0 0 0 .25-.25V6h-2.75A1.75 1.75 0 0 1 9 4.25V1.5Zm6.75.062V4.25c0 .138.112.25.25.25h2.688l-.011-.013-2.914-2.914-.013-.011Z"></path></svg></div><span class="PRIVATE_TreeView-item-content-text prc-TreeView-TreeViewItemContentText-smZM-"><span>.gitignore</span></span></div></div></li><li class="PRIVATE_TreeView-item prc-TreeView-TreeViewItem-ShJr0" tabindex="0" id="README.md-item" role="treeitem" aria-labelledby=":Rfpimplab:" aria-describedby=":RfpimplabH1:" aria-level="1" aria-selected="false"><div class="PRIVATE_TreeView-item-container prc-TreeView-TreeViewItemContainer--2Rkn" style="--level:1;content-visibility:auto;contain-intrinsic-size:auto 2rem"><div style="grid-area:spacer;display:flex"><div style="width:100%;display:flex"></div></div><div id=":Rfpimplab:" class="PRIVATE_TreeView-item-content prc-TreeView-TreeViewItemContent-f0r0b"><div class="PRIVATE_VisuallyHidden prc-TreeView-TreeViewVisuallyHidden-4-mPv" aria-hidden="true" id=":RfpimplabH1:"></div><div class="PRIVATE_TreeView-item-visual prc-TreeView-TreeViewItemVisual-dRlGq" aria-hidden="true"><svg aria-hidden="true" focusable="false" class="octicon octicon-file" viewBox="0 0 16 16" width="16" height="16" fill="currentColor" display="inline-block" overflow="visible" style="vertical-align:text-bottom"><path d="M2 1.75C2 .784 2.784 0 3.75 0h6.586c.464 0 .909.184 1.237.513l2.914 2.914c.329.328.513.773.513 1.237v9.586A1.75 1.75 0 0 1 13.25 16h-9.5A1.75 1.75 0 0 1 2 14.25Zm1.75-.25a.25.25 0 0 0-.25.25v12.5c0 .138.112.25.25.25h9.5a.25.25 0 0 0 .25-.25V6h-2.75A1.75 1.75 0 0 1 9 4.25V1.5Zm6.75.062V4.25c0 .138.112.25.25.25h2.688l-.011-.013-2.914-2.914-.013-.011Z"></path></svg></div><span class="PRIVATE_TreeView-item-content-text prc-TreeView-TreeViewItemContentText-smZM-"><span>README.md</span></span></div></div></li></ul></nav></div></div></div></div></div></div><div class="prc-PageLayout-VerticalDivider-4A4Qm prc-PageLayout-PaneVerticalDivider-1c9vy" data-variant="none" data-position="start" style="--spacing:var(--spacing-none)"><div role="slider" aria-label="Draggable pane splitter" aria-valuemin="0" aria-valuemax="0" aria-valuenow="0" aria-valuetext="Pane width 0 pixels" tabindex="0" class="Box-sc-g0xbh4-0 bHLmSv"></div></div></div></div><div class="prc-PageLayout-ContentWrapper-b-QRo CodeView-module__SplitPageLayout_Content--qxR1C" data-is-hidden="false"><div class="prc-PageLayout-Content--F7-I" data-width="full" style="--spacing:var(--spacing-none)"><div data-selector="repos-split-pane-content" tabindex="0" class="Box-sc-g0xbh4-0 leYMvG"><div class="Box-sc-g0xbh4-0 KMPzq"><div class="container CodeViewHeader-module__Box--PofRM"><div class="px-3 pt-3 pb-0" id="StickyHeader"><div class="CodeViewHeader-module__Box_1--KpLzV"><div class="CodeViewHeader-module__Box_2--xzDOt"><div class="CodeViewHeader-module__Box_6--iStzT"><div class="Box-sc-g0xbh4-0 cEytCf"><nav data-testid="breadcrumbs" aria-labelledby="repos-header-breadcrumb--wide-heading" id="repos-header-breadcrumb--wide" class="Box-sc-g0xbh4-0 fzFXnm"><h2 class="sr-only ScreenReaderHeading-module__userSelectNone--vW4Cq prc-Heading-Heading-6CmGO" data-testid="screen-reader-heading" id="repos-header-breadcrumb--wide-heading">Breadcrumbs</h2><ol class="Box-sc-g0xbh4-0 iMnkmv"><li class="Box-sc-g0xbh4-0 ghzDag"><a class="Box-sc-g0xbh4-0 kHuKdh prc-Link-Link-85e08" sx="[object Object]" data-testid="breadcrumbs-repo-link" href="/SPARC-FAIR-Codeathon/2025-team-F/tree/restructuring" data-discover="true">2025-team-F</a></li><li class="Box-sc-g0xbh4-0 ghzDag"><span class="Box-sc-g0xbh4-0 hzJBof prc-Text-Text-0ima0" aria-hidden="true">/</span><a class="Box-sc-g0xbh4-0 kgiVEz prc-Link-Link-85e08" sx="[object Object]" href="/SPARC-FAIR-Codeathon/2025-team-F/tree/restructuring/examples" data-discover="true">examples</a></li></ol></nav><div data-testid="breadcrumbs-filename" class="Box-sc-g0xbh4-0 ghzDag"><span class="Box-sc-g0xbh4-0 hzJBof prc-Text-Text-0ima0" aria-hidden="true">/</span><h1 class="Box-sc-g0xbh4-0 jGhzSQ prc-Heading-Heading-6CmGO" tabindex="-1" id="file-name-id-wide">tf_pretrained_model.ipynb</h1></div><button data-component="IconButton" type="button" class="prc-Button-ButtonBase-c50BI ml-2 prc-Button-IconButton-szpyj" data-loading="false" data-no-visuals="true" data-size="small" data-variant="invisible" aria-describedby=":Rvb9lab:-loading-announcement" aria-labelledby=":R3b9lab:"><svg aria-hidden="true" focusable="false" class="octicon octicon-copy" viewBox="0 0 16 16" width="16" height="16" fill="currentColor" display="inline-block" overflow="visible" style="vertical-align:text-bottom"><path d="M0 6.75C0 5.784.784 5 1.75 5h1.5a.75.75 0 0 1 0 1.5h-1.5a.25.25 0 0 0-.25.25v7.5c0 .138.112.25.25.25h7.5a.25.25 0 0 0 .25-.25v-1.5a.75.75 0 0 1 1.5 0v1.5A1.75 1.75 0 0 1 9.25 16h-7.5A1.75 1.75 0 0 1 0 14.25Z"></path><path d="M5 1.75C5 .784 5.784 0 6.75 0h7.5C15.216 0 16 .784 16 1.75v7.5A1.75 1.75 0 0 1 14.25 11h-7.5A1.75 1.75 0 0 1 5 9.25Zm1.75-.25a.25.25 0 0 0-.25.25v7.5c0 .138.112.25.25.25h7.5a.25.25 0 0 0 .25-.25v-7.5a.25.25 0 0 0-.25-.25Z"></path></svg></button><span class="CopyToClipboardButton-module__tooltip--Dq1IB prc-TooltipV2-Tooltip-cYMVY" data-direction="nw" aria-label="Copy path" aria-hidden="true" id=":R3b9lab:">Copy path</span></div></div><div class="react-code-view-header-element--wide"><div class="CodeViewHeader-module__Box_7--FZfkg"><div class="d-flex gap-2"> <button type="button" class="Box-sc-g0xbh4-0 fjrFuv prc-Button-ButtonBase-c50BI NavigationMenu-module__Button--SJihq" data-loading="false" data-no-visuals="true" data-size="medium" data-variant="default" aria-describedby=":R1ahj9lab:-loading-announcement"><span data-component="buttonContent" class="Box-sc-g0xbh4-0 gUkoLg prc-Button-ButtonContent-HKbr-"><span data-component="text" class="prc-Button-Label-pTQ3x">Blame</span></span></button><button hidden="" data-testid="" data-hotkey-scope="read-only-cursor-text-area"></button><button data-component="IconButton" type="button" data-testid="more-file-actions-button-nav-menu-wide" aria-haspopup="true" aria-expanded="false" tabindex="0" class="prc-Button-ButtonBase-c50BI js-blob-dropdown-click NavigationMenu-module__IconButton--NqJ_L prc-Button-IconButton-szpyj" data-loading="false" data-no-visuals="true" data-size="medium" data-variant="default" aria-describedby=":Rihj9lab:-loading-announcement" aria-labelledby=":Rfihj9lab:" id=":Rihj9lab:"><svg aria-hidden="true" focusable="false" class="octicon octicon-kebab-horizontal" viewBox="0 0 16 16" width="16" height="16" fill="currentColor" display="inline-block" overflow="visible" style="vertical-align:text-bottom"><path d="M8 9a1.5 1.5 0 1 0 0-3 1.5 1.5 0 0 0 0 3ZM1.5 9a1.5 1.5 0 1 0 0-3 1.5 1.5 0 0 0 0 3Zm13 0a1.5 1.5 0 1 0 0-3 1.5 1.5 0 0 0 0 3Z"></path></svg></button><span class="prc-TooltipV2-Tooltip-cYMVY" data-direction="nw" aria-hidden="true" id=":Rfihj9lab:">More file actions</span> </div></div></div><div class="react-code-view-header-element--narrow"><div class="CodeViewHeader-module__Box_7--FZfkg"><div class="d-flex gap-2"> <button type="button" class="Box-sc-g0xbh4-0 fjrFuv prc-Button-ButtonBase-c50BI NavigationMenu-module__Button--SJihq" data-loading="false" data-no-visuals="true" data-size="medium" data-variant="default" aria-describedby=":R1ahr9lab:-loading-announcement"><span data-component="buttonContent" class="Box-sc-g0xbh4-0 gUkoLg prc-Button-ButtonContent-HKbr-"><span data-component="text" class="prc-Button-Label-pTQ3x">Blame</span></span></button><button hidden="" data-testid="" data-hotkey-scope="read-only-cursor-text-area"></button><button data-component="IconButton" type="button" data-testid="more-file-actions-button-nav-menu-narrow" aria-haspopup="true" aria-expanded="false" tabindex="0" class="prc-Button-ButtonBase-c50BI js-blob-dropdown-click NavigationMenu-module__IconButton--NqJ_L prc-Button-IconButton-szpyj" data-loading="false" data-no-visuals="true" data-size="medium" data-variant="default" aria-describedby=":Rihr9lab:-loading-announcement" aria-labelledby=":Rfihr9lab:" id=":Rihr9lab:"><svg aria-hidden="true" focusable="false" class="octicon octicon-kebab-horizontal" viewBox="0 0 16 16" width="16" height="16" fill="currentColor" display="inline-block" overflow="visible" style="vertical-align:text-bottom"><path d="M8 9a1.5 1.5 0 1 0 0-3 1.5 1.5 0 0 0 0 3ZM1.5 9a1.5 1.5 0 1 0 0-3 1.5 1.5 0 0 0 0 3Zm13 0a1.5 1.5 0 1 0 0-3 1.5 1.5 0 0 0 0 3Z"></path></svg></button><span class="prc-TooltipV2-Tooltip-cYMVY" data-direction="nw" aria-hidden="true" id=":Rfihr9lab:">More file actions</span> </div></div></div></div></div></div></div></div><div class="Box-sc-g0xbh4-0 dJxjrT react-code-view-bottom-padding"> <div class="BlobTopBanners-module__Box--g_bGk"></div> <!-- --> <!-- --> </div><div class="Box-sc-g0xbh4-0 dJxjrT"> <!-- --> <!-- --> <div class="d-flex flex-column border rounded-2 mb-3 pl-1"><div class="LatestCommit-module__Box--En0AE"><h2 class="sr-only ScreenReaderHeading-module__userSelectNone--vW4Cq prc-Heading-Heading-6CmGO" data-testid="screen-reader-heading">Latest commit</h2><div style="width:120px" class="Skeleton Skeleton--text" data-testid="loading"> </div><div class="d-flex flex-shrink-0 gap-2"><div data-testid="latest-commit-details" class="d-none d-sm-flex flex-items-center"></div><div class="d-flex gap-2"><h2 class="sr-only ScreenReaderHeading-module__userSelectNone--vW4Cq prc-Heading-Heading-6CmGO" data-testid="screen-reader-heading">History</h2><a href="/SPARC-FAIR-Codeathon/2025-team-F/commits/restructuring/examples/tf_pretrained_model.ipynb" class="prc-Button-ButtonBase-c50BI d-none d-lg-flex LinkButton-module__code-view-link-button--xvCGA flex-items-center fgColor-default" data-loading="false" data-size="small" data-variant="invisible" aria-describedby=":R1bdal9lab:-loading-announcement"><span data-component="buttonContent" data-align="center" class="prc-Button-ButtonContent-HKbr-"><span data-component="leadingVisual" class="prc-Button-Visual-2epfX prc-Button-VisualWrap-Db-eB"><svg aria-hidden="true" focusable="false" class="octicon octicon-history" viewBox="0 0 16 16" width="16" height="16" fill="currentColor" display="inline-block" overflow="visible" style="vertical-align:text-bottom"><path d="m.427 1.927 1.215 1.215a8.002 8.002 0 1 1-1.6 5.685.75.75 0 1 1 1.493-.154 6.5 6.5 0 1 0 1.18-4.458l1.358 1.358A.25.25 0 0 1 3.896 6H.25A.25.25 0 0 1 0 5.75V2.104a.25.25 0 0 1 .427-.177ZM7.75 4a.75.75 0 0 1 .75.75v2.992l2.028.812a.75.75 0 0 1-.557 1.392l-2.5-1A.751.751 0 0 1 7 8.25v-3.5A.75.75 0 0 1 7.75 4Z"></path></svg></span><span data-component="text" class="prc-Button-Label-pTQ3x"><span class="fgColor-default">History</span></span></span></a><div class="d-sm-none"></div><div class="d-flex d-lg-none"><span role="tooltip" aria-label="History" id="history-icon-button-tooltip" class="Tooltip__TooltipBase-sc-17tf59c-0 hWlpPn tooltipped-n"><a aria-label="View commit history for this file." href="/SPARC-FAIR-Codeathon/2025-team-F/commits/restructuring/examples/tf_pretrained_model.ipynb" class="prc-Button-ButtonBase-c50BI LinkButton-module__code-view-link-button--xvCGA flex-items-center fgColor-default" data-loading="false" data-size="small" data-variant="invisible" aria-describedby=":R6bdal9lab:-loading-announcement history-icon-button-tooltip"><span data-component="buttonContent" data-align="center" class="prc-Button-ButtonContent-HKbr-"><span data-component="leadingVisual" class="prc-Button-Visual-2epfX prc-Button-VisualWrap-Db-eB"><svg aria-hidden="true" focusable="false" class="octicon octicon-history" viewBox="0 0 16 16" width="16" height="16" fill="currentColor" display="inline-block" overflow="visible" style="vertical-align:text-bottom"><path d="m.427 1.927 1.215 1.215a8.002 8.002 0 1 1-1.6 5.685.75.75 0 1 1 1.493-.154 6.5 6.5 0 1 0 1.18-4.458l1.358 1.358A.25.25 0 0 1 3.896 6H.25A.25.25 0 0 1 0 5.75V2.104a.25.25 0 0 1 .427-.177ZM7.75 4a.75.75 0 0 1 .75.75v2.992l2.028.812a.75.75 0 0 1-.557 1.392l-2.5-1A.751.751 0 0 1 7 8.25v-3.5A.75.75 0 0 1 7.75 4Z"></path></svg></span></span></a></span></div></div></div></div></div><div class="Box-sc-g0xbh4-0 ldRxiI"><div class="Box-sc-g0xbh4-0 fVkfyA container"><div class="Box-sc-g0xbh4-0 gNAmSV react-code-size-details-banner"><div class="react-code-size-details-banner CodeSizeDetails-module__Box--QdxnQ"><div class="text-mono CodeSizeDetails-module__Box_1--_uFDs"><div data-testid="blob-size" class="CodeSizeDetails-module__Truncate_1--er0Uk prc-Truncate-Truncate-A9Wn6" data-inline="true" title="159 KB" style="--truncate-max-width:100%"><span>224 lines (224 loc) · 159 KB</span></div></div></div></div><div class="Box-sc-g0xbh4-0 jdLMhu react-blob-view-header-sticky" id="repos-sticky-header"><div class="BlobViewHeader-module__Box--pvsIA"><div class="react-blob-sticky-header"><div class="Box-sc-g0xbh4-0 hqwSEx"><div class="FileNameStickyHeader-module__Box_5--xBJ2J"><div class="Box-sc-g0xbh4-0 fHind"><nav data-testid="breadcrumbs" aria-labelledby="sticky-breadcrumb-heading" id="sticky-breadcrumb" class="Box-sc-g0xbh4-0 fzFXnm"><h2 class="sr-only ScreenReaderHeading-module__userSelectNone--vW4Cq prc-Heading-Heading-6CmGO" data-testid="screen-reader-heading" id="sticky-breadcrumb-heading">Breadcrumbs</h2><ol class="Box-sc-g0xbh4-0 iMnkmv"><li class="Box-sc-g0xbh4-0 ghzDag"><a class="Box-sc-g0xbh4-0 kHuKdh prc-Link-Link-85e08" sx="[object Object]" data-testid="breadcrumbs-repo-link" href="/SPARC-FAIR-Codeathon/2025-team-F/tree/restructuring" data-discover="true">2025-team-F</a></li><li class="Box-sc-g0xbh4-0 ghzDag"><span class="Box-sc-g0xbh4-0 oDtgN prc-Text-Text-0ima0" aria-hidden="true">/</span><a class="Box-sc-g0xbh4-0 kgiVEz prc-Link-Link-85e08" sx="[object Object]" href="/SPARC-FAIR-Codeathon/2025-team-F/tree/restructuring/examples" data-discover="true">examples</a></li></ol></nav><div data-testid="breadcrumbs-filename" class="Box-sc-g0xbh4-0 ghzDag"><span class="Box-sc-g0xbh4-0 oDtgN prc-Text-Text-0ima0" aria-hidden="true">/</span><h1 class="Box-sc-g0xbh4-0 dnZoUW prc-Heading-Heading-6CmGO" tabindex="-1" id="sticky-file-name-id">tf_pretrained_model.ipynb</h1></div></div><button type="button" class="prc-Button-ButtonBase-c50BI FileNameStickyHeader-module__Button--SaiiH FileNameStickyHeader-module__GoToTopButton--9lB4x" data-loading="false" data-size="small" data-variant="invisible" aria-describedby=":R4mfal9lab:-loading-announcement"><span data-component="buttonContent" data-align="center" class="prc-Button-ButtonContent-HKbr-"><span data-component="leadingVisual" class="prc-Button-Visual-2epfX prc-Button-VisualWrap-Db-eB"><svg aria-hidden="true" focusable="false" class="octicon octicon-arrow-up" viewBox="0 0 16 16" width="16" height="16" fill="currentColor" display="inline-block" overflow="visible" style="vertical-align:text-bottom"><path d="M3.47 7.78a.75.75 0 0 1 0-1.06l4.25-4.25a.75.75 0 0 1 1.06 0l4.25 4.25a.751.751 0 0 1-.018 1.042.751.751 0 0 1-1.042.018L9 4.81v7.44a.75.75 0 0 1-1.5 0V4.81L4.53 7.78a.75.75 0 0 1-1.06 0Z"></path></svg></span><span data-component="text" class="prc-Button-Label-pTQ3x">Top</span></span></button></div></div></div><div class="Box-sc-g0xbh4-0 gFKFyc BlobViewHeader-module__Box_1--PPihg"><h2 class="sr-only ScreenReaderHeading-module__userSelectNone--vW4Cq prc-Heading-Heading-6CmGO" data-testid="screen-reader-heading">File metadata and controls</h2><div class="BlobViewHeader-module__Box_2--G_jCG"><ul aria-label="File view" class="prc-SegmentedControl-SegmentedControl-e7570 BlobTabButtons-module__SegmentedControl--JMGov" data-size="small"><li class="prc-SegmentedControl-Item-7Aq6h" data-selected=""><button aria-current="true" class="prc-SegmentedControl-Button-ojWXD" type="button" style="--separator-color:transparent"><span class="prc-SegmentedControl-Content-gnQ4n segmentedControl-content"><div class="prc-SegmentedControl-Text-c5gSh segmentedControl-text" data-text="Preview">Preview</div></span></button></li><li class="prc-SegmentedControl-Item-7Aq6h"><button aria-current="false" class="prc-SegmentedControl-Button-ojWXD" type="button" style="--separator-color:var(--borderColor-default, var(--color-border-default, #d0d7de))"><span class="prc-SegmentedControl-Content-gnQ4n segmentedControl-content"><div class="prc-SegmentedControl-Text-c5gSh segmentedControl-text" data-text="Code">Code</div></span></button></li><li class="prc-SegmentedControl-Item-7Aq6h"><button aria-current="false" class="prc-SegmentedControl-Button-ojWXD" type="button" style="--separator-color:var(--borderColor-default, var(--color-border-default, #d0d7de))"><span class="prc-SegmentedControl-Content-gnQ4n segmentedControl-content"><div class="prc-SegmentedControl-Text-c5gSh segmentedControl-text" data-text="Blame">Blame</div></span></button></li></ul><button hidden="" data-testid="" data-hotkey-scope="read-only-cursor-text-area"></button><button hidden="" data-testid="" data-hotkey-scope="read-only-cursor-text-area"></button><button hidden="" data-testid="" data-hotkey-scope="read-only-cursor-text-area"></button><div class="react-code-size-details-in-header CodeSizeDetails-module__Box--QdxnQ"><div class="text-mono CodeSizeDetails-module__Box_1--_uFDs"><div data-testid="blob-size" class="CodeSizeDetails-module__Truncate_1--er0Uk prc-Truncate-Truncate-A9Wn6" data-inline="true" title="159 KB" style="--truncate-max-width:100%"><span>224 lines (224 loc) · 159 KB</span></div></div></div></div><div class="BlobViewHeader-module__Box_3--Kvpex"><div class="pr-0 prc-ButtonGroup-ButtonGroup-vcMeG"><div><button data-component="IconButton" type="button" data-testid="copilot-ask-menu" class="prc-Button-ButtonBase-c50BI AskCopilotButton-module__square--o8kDO prc-Button-IconButton-szpyj" data-loading="false" data-no-visuals="true" data-size="small" data-variant="default" aria-describedby="blob-view-header-copilot-icon-loading-announcement" aria-labelledby=":R2v6fal9lab:" id="blob-view-header-copilot-icon"><svg aria-hidden="true" focusable="false" class="octicon octicon-copilot" viewBox="0 0 16 16" width="16" height="16" fill="currentColor" display="inline-block" overflow="visible" style="vertical-align:text-bottom"><path d="M7.998 15.035c-4.562 0-7.873-2.914-7.998-3.749V9.338c.085-.628.677-1.686 1.588-2.065.013-.07.024-.143.036-.218.029-.183.06-.384.126-.612-.201-.508-.254-1.084-.254-1.656 0-.87.128-1.769.693-2.484.579-.733 1.494-1.124 2.724-1.261 1.206-.134 2.262.034 2.944.765.05.053.096.108.139.165.044-.057.094-.112.143-.165.682-.731 1.738-.899 2.944-.765 1.23.137 2.145.528 2.724 1.261.566.715.693 1.614.693 2.484 0 .572-.053 1.148-.254 1.656.066.228.098.429.126.612.012.076.024.148.037.218.924.385 1.522 1.471 1.591 2.095v1.872c0 .766-3.351 3.795-8.002 3.795Zm0-1.485c2.28 0 4.584-1.11 5.002-1.433V7.862l-.023-.116c-.49.21-1.075.291-1.727.291-1.146 0-2.059-.327-2.71-.991A3.222 3.222 0 0 1 8 6.303a3.24 3.24 0 0 1-.544.743c-.65.664-1.563.991-2.71.991-.652 0-1.236-.081-1.727-.291l-.023.116v4.255c.419.323 2.722 1.433 5.002 1.433ZM6.762 2.83c-.193-.206-.637-.413-1.682-.297-1.019.113-1.479.404-1.713.7-.247.312-.369.789-.369 1.554 0 .793.129 1.171.308 1.371.162.181.519.379 1.442.379.853 0 1.339-.235 1.638-.54.315-.322.527-.827.617-1.553.117-.935-.037-1.395-.241-1.614Zm4.155-.297c-1.044-.116-1.488.091-1.681.297-.204.219-.359.679-.242 1.614.091.726.303 1.231.618 1.553.299.305.784.54 1.638.54.922 0 1.28-.198 1.442-.379.179-.2.308-.578.308-1.371 0-.765-.123-1.242-.37-1.554-.233-.296-.693-.587-1.713-.7Z"></path><path d="M6.25 9.037a.75.75 0 0 1 .75.75v1.501a.75.75 0 0 1-1.5 0V9.787a.75.75 0 0 1 .75-.75Zm4.25.75v1.501a.75.75 0 0 1-1.5 0V9.787a.75.75 0 0 1 1.5 0Z"></path></svg></button><span class="prc-TooltipV2-Tooltip-cYMVY" data-direction="s" aria-hidden="true" id=":R2v6fal9lab:">Ask Copilot about this file</span></div><div></div></div><div class="react-blob-header-edit-and-raw-actions BlobViewHeader-module__Box_4--vFP89"><div class="prc-ButtonGroup-ButtonGroup-vcMeG"><div><a href="https://github.com/SPARC-FAIR-Codeathon/2025-team-F/raw/refs/heads/restructuring/examples/tf_pretrained_model.ipynb" data-testid="raw-button" class="Box-sc-g0xbh4-0 lefpaC prc-Button-ButtonBase-c50BI BlobViewHeader-module__LinkButton--DMph4" data-loading="false" data-no-visuals="true" data-size="small" data-variant="default" aria-describedby=":R1b76fal9lab:-loading-announcement"><span data-component="buttonContent" class="Box-sc-g0xbh4-0 gUkoLg prc-Button-ButtonContent-HKbr-"><span data-component="text" class="prc-Button-Label-pTQ3x">Raw</span></span></a></div><div><button data-component="IconButton" type="button" data-testid="copy-raw-button" class="prc-Button-ButtonBase-c50BI prc-Button-IconButton-szpyj" data-loading="false" data-no-visuals="true" data-size="small" data-variant="default" aria-describedby=":R1mb76fal9lab:-loading-announcement" aria-labelledby=":R6b76fal9lab:"><svg aria-hidden="true" focusable="false" class="octicon octicon-copy" viewBox="0 0 16 16" width="16" height="16" fill="currentColor" display="inline-block" overflow="visible" style="vertical-align:text-bottom"><path d="M0 6.75C0 5.784.784 5 1.75 5h1.5a.75.75 0 0 1 0 1.5h-1.5a.25.25 0 0 0-.25.25v7.5c0 .138.112.25.25.25h7.5a.25.25 0 0 0 .25-.25v-1.5a.75.75 0 0 1 1.5 0v1.5A1.75 1.75 0 0 1 9.25 16h-7.5A1.75 1.75 0 0 1 0 14.25Z"></path><path d="M5 1.75C5 .784 5.784 0 6.75 0h7.5C15.216 0 16 .784 16 1.75v7.5A1.75 1.75 0 0 1 14.25 11h-7.5A1.75 1.75 0 0 1 5 9.25Zm1.75-.25a.25.25 0 0 0-.25.25v7.5c0 .138.112.25.25.25h7.5a.25.25 0 0 0 .25-.25v-7.5a.25.25 0 0 0-.25-.25Z"></path></svg></button><span class="prc-TooltipV2-Tooltip-cYMVY" data-direction="n" aria-hidden="true" id=":R6b76fal9lab:">Copy raw file</span></div><div><button data-component="IconButton" type="button" data-testid="download-raw-button" class="Box-sc-g0xbh4-0 ivobqY prc-Button-ButtonBase-c50BI prc-Button-IconButton-szpyj" data-loading="false" data-no-visuals="true" data-size="small" data-variant="default" aria-describedby=":Rfb76fal9lab:-loading-announcement" aria-labelledby=":R3b76fal9lab:"><svg aria-hidden="true" focusable="false" class="octicon octicon-download" viewBox="0 0 16 16" width="16" height="16" fill="currentColor" display="inline-block" overflow="visible" style="vertical-align:text-bottom"><path d="M2.75 14A1.75 1.75 0 0 1 1 12.25v-2.5a.75.75 0 0 1 1.5 0v2.5c0 .138.112.25.25.25h10.5a.25.25 0 0 0 .25-.25v-2.5a.75.75 0 0 1 1.5 0v2.5A1.75 1.75 0 0 1 13.25 14Z"></path><path d="M7.25 7.689V2a.75.75 0 0 1 1.5 0v5.689l1.97-1.969a.749.749 0 1 1 1.06 1.06l-3.25 3.25a.749.749 0 0 1-1.06 0L4.22 6.78a.749.749 0 1 1 1.06-1.06l1.97 1.969Z"></path></svg></button><span class="prc-TooltipV2-Tooltip-cYMVY" data-direction="n" aria-hidden="true" id=":R3b76fal9lab:">Download raw file</span></div></div><button hidden="" data-testid="raw-button-shortcut" data-hotkey-scope="read-only-cursor-text-area"></button><button hidden="" data-testid="copy-raw-button-shortcut" data-hotkey-scope="read-only-cursor-text-area"></button><button hidden="" data-testid="download-raw-button-shortcut" data-hotkey-scope="read-only-cursor-text-area"></button><a class="js-github-dev-shortcut d-none prc-Link-Link-85e08" href="https://github.dev/"></a><button hidden="" data-testid="" data-hotkey-scope="read-only-cursor-text-area"></button><a class="js-github-dev-new-tab-shortcut d-none prc-Link-Link-85e08" href="https://github.dev/" target="_blank"></a><button hidden="" data-testid="" data-hotkey-scope="read-only-cursor-text-area"></button><div class="prc-ButtonGroup-ButtonGroup-vcMeG"><div><a sx="[object Object]" data-component="IconButton" type="button" data-testid="edit-button" class="Box-sc-g0xbh4-0 iCOsHh prc-Button-ButtonBase-c50BI BlobViewHeader-module__IconButton_1--MzNlL prc-Button-IconButton-szpyj" data-loading="false" data-no-visuals="true" data-size="small" data-variant="default" aria-describedby=":Rdl76fal9lab:-loading-announcement" aria-labelledby=":R1l76fal9lab:" href="/SPARC-FAIR-Codeathon/2025-team-F/edit/restructuring/examples/tf_pretrained_model.ipynb" data-discover="true"><svg aria-hidden="true" focusable="false" class="octicon octicon-pencil" viewBox="0 0 16 16" width="16" height="16" fill="currentColor" display="inline-block" overflow="visible" style="vertical-align:text-bottom"><path d="M11.013 1.427a1.75 1.75 0 0 1 2.474 0l1.086 1.086a1.75 1.75 0 0 1 0 2.474l-8.61 8.61c-.21.21-.47.364-.756.445l-3.251.93a.75.75 0 0 1-.927-.928l.929-3.25c.081-.286.235-.547.445-.758l8.61-8.61Zm.176 4.823L9.75 4.81l-6.286 6.287a.253.253 0 0 0-.064.108l-.558 1.953 1.953-.558a.253.253 0 0 0 .108-.064Zm1.238-3.763a.25.25 0 0 0-.354 0L10.811 3.75l1.439 1.44 1.263-1.263a.25.25 0 0 0 0-.354Z"></path></svg></a><span class="prc-TooltipV2-Tooltip-cYMVY" data-direction="nw" aria-hidden="true" id=":R1l76fal9lab:">Edit this file</span></div><div><button data-component="IconButton" type="button" data-testid="more-edit-button" aria-haspopup="true" aria-expanded="false" tabindex="0" class="prc-Button-ButtonBase-c50BI prc-Button-IconButton-szpyj" data-loading="false" data-no-visuals="true" data-size="small" data-variant="default" aria-describedby=":R2l76fal9lab:-loading-announcement" aria-labelledby=":R1ul76fal9lab:" id=":R2l76fal9lab:"><svg aria-hidden="true" focusable="false" class="octicon octicon-triangle-down" viewBox="0 0 16 16" width="16" height="16" fill="currentColor" display="inline-block" overflow="visible" style="vertical-align:text-bottom"><path d="m4.427 7.427 3.396 3.396a.25.25 0 0 0 .354 0l3.396-3.396A.25.25 0 0 0 11.396 7H4.604a.25.25 0 0 0-.177.427Z"></path></svg></button><span class="prc-TooltipV2-Tooltip-cYMVY" data-direction="nw" aria-hidden="true" id=":R1ul76fal9lab:">More edit options</span></div></div><button hidden="" data-testid="" data-hotkey="e,Shift+E" data-hotkey-scope="read-only-cursor-text-area"></button></div><div class="react-blob-header-edit-and-raw-actions-combined"><button data-component="IconButton" type="button" title="More file actions" data-testid="more-file-actions-button" aria-haspopup="true" aria-expanded="false" tabindex="0" class="prc-Button-ButtonBase-c50BI js-blob-dropdown-click BlobViewHeader-module__IconButton--uO1fA prc-Button-IconButton-szpyj" data-loading="false" data-no-visuals="true" data-size="small" data-variant="invisible" aria-describedby=":R5v6fal9lab:-loading-announcement" aria-labelledby=":R3tv6fal9lab:" id=":R5v6fal9lab:"><svg aria-hidden="true" focusable="false" class="octicon octicon-kebab-horizontal" viewBox="0 0 16 16" width="16" height="16" fill="currentColor" display="inline-block" overflow="visible" style="vertical-align:text-bottom"><path d="M8 9a1.5 1.5 0 1 0 0-3 1.5 1.5 0 0 0 0 3ZM1.5 9a1.5 1.5 0 1 0 0-3 1.5 1.5 0 0 0 0 3Zm13 0a1.5 1.5 0 1 0 0-3 1.5 1.5 0 0 0 0 3Z"></path></svg></button><span class="prc-TooltipV2-Tooltip-cYMVY" data-direction="nw" aria-hidden="true" id=":R3tv6fal9lab:">Edit and raw actions</span></div></div></div></div><div></div></div><div class="Box-sc-g0xbh4-0 hGyMdv"><section aria-labelledby="file-name-id-wide file-name-id-mobile" class="Box-sc-g0xbh4-0 iWAocR"><!--$!--><template></template><div class="Box-sc-g0xbh4-0 fgsa-DI"><span class="prc-Spinner-Box-qNUI9"><svg height="32px" width="32px" viewBox="0 0 16 16" fill="none" aria-hidden="true" aria-label="Loading" class="prc-Spinner-SpinnerAnimation-e7Gf-"><circle cx="8" cy="8" r="7" stroke="currentColor" stroke-opacity="0.25" stroke-width="2" vector-effect="non-scaling-stroke"></circle><path d="M15 8a7.002 7.002 0 00-7-7" stroke="currentColor" stroke-width="2" stroke-linecap="round" vector-effect="non-scaling-stroke"></path></svg></span></div><!--/$--></section></div></div></div> <!-- --> <!-- --> </div></div></div></div></div></div></div><div id="find-result-marks-container" class="Box-sc-g0xbh4-0 cCoXib"></div><button hidden="" data-testid="" data-hotkey-scope="read-only-cursor-text-area"></button><button hidden=""></button></div> <!-- --> <!-- --> <script type="application/json" id="__PRIMER_DATA_:R0:__">{"resolvedServerColorMode":"day"}</script></div>
</react-app>
</turbo-frame>



  </div>

</turbo-frame>

    </main>
  </div>

  </div>

          <footer class="footer pt-8 pb-6 f6 color-fg-muted p-responsive" role="contentinfo" >
  <h2 class='sr-only'>Footer</h2>

  


  <div class="d-flex flex-justify-center flex-items-center flex-column-reverse flex-lg-row flex-wrap flex-lg-nowrap">
    <div class="d-flex flex-items-center flex-shrink-0 mx-2">
      <a aria-label="GitHub Homepage" class="footer-octicon mr-2" href="https://github.com">
        <svg aria-hidden="true" height="24" viewBox="0 0 24 24" version="1.1" width="24" data-view-component="true" class="octicon octicon-mark-github">
    <path d="M12 1C5.923 1 1 5.923 1 12c0 4.867 3.149 8.979 7.521 10.436.55.096.756-.233.756-.522 0-.262-.013-1.128-.013-2.049-2.764.509-3.479-.674-3.699-1.292-.124-.317-.66-1.293-1.127-1.554-.385-.207-.936-.715-.014-.729.866-.014 1.485.797 1.691 1.128.99 1.663 2.571 1.196 3.204.907.096-.715.385-1.196.701-1.471-2.448-.275-5.005-1.224-5.005-5.432 0-1.196.426-2.186 1.128-2.956-.111-.275-.496-1.402.11-2.915 0 0 .921-.288 3.024 1.128a10.193 10.193 0 0 1 2.75-.371c.936 0 1.871.123 2.75.371 2.104-1.43 3.025-1.128 3.025-1.128.605 1.513.221 2.64.111 2.915.701.77 1.127 1.747 1.127 2.956 0 4.222-2.571 5.157-5.019 5.432.399.344.743 1.004.743 2.035 0 1.471-.014 2.654-.014 3.025 0 .289.206.632.756.522C19.851 20.979 23 16.854 23 12c0-6.077-4.922-11-11-11Z"></path>
</svg>
</a>
      <span>
        &copy; 2025 GitHub,&nbsp;Inc.
      </span>
    </div>

    <nav aria-label="Footer">
      <h3 class="sr-only" id="sr-footer-heading">Footer navigation</h3>

      <ul class="list-style-none d-flex flex-justify-center flex-wrap mb-2 mb-lg-0" aria-labelledby="sr-footer-heading">

          <li class="mx-2">
            <a data-analytics-event="{&quot;category&quot;:&quot;Footer&quot;,&quot;action&quot;:&quot;go to Terms&quot;,&quot;label&quot;:&quot;text:terms&quot;}" href="https://docs.github.com/site-policy/github-terms/github-terms-of-service" data-view-component="true" class="Link--secondary Link">Terms</a>
          </li>

          <li class="mx-2">
            <a data-analytics-event="{&quot;category&quot;:&quot;Footer&quot;,&quot;action&quot;:&quot;go to privacy&quot;,&quot;label&quot;:&quot;text:privacy&quot;}" href="https://docs.github.com/site-policy/privacy-policies/github-privacy-statement" data-view-component="true" class="Link--secondary Link">Privacy</a>
          </li>

          <li class="mx-2">
            <a data-analytics-event="{&quot;category&quot;:&quot;Footer&quot;,&quot;action&quot;:&quot;go to security&quot;,&quot;label&quot;:&quot;text:security&quot;}" href="https://github.com/security" data-view-component="true" class="Link--secondary Link">Security</a>
          </li>

          <li class="mx-2">
            <a data-analytics-event="{&quot;category&quot;:&quot;Footer&quot;,&quot;action&quot;:&quot;go to status&quot;,&quot;label&quot;:&quot;text:status&quot;}" href="https://www.githubstatus.com/" data-view-component="true" class="Link--secondary Link">Status</a>
          </li>

          <li class="mx-2">
            <a data-analytics-event="{&quot;category&quot;:&quot;Footer&quot;,&quot;action&quot;:&quot;go to docs&quot;,&quot;label&quot;:&quot;text:docs&quot;}" href="https://docs.github.com/" data-view-component="true" class="Link--secondary Link">Docs</a>
          </li>

          <li class="mx-2">
            <a data-analytics-event="{&quot;category&quot;:&quot;Footer&quot;,&quot;action&quot;:&quot;go to contact&quot;,&quot;label&quot;:&quot;text:contact&quot;}" href="https://support.github.com?tags=dotcom-footer" data-view-component="true" class="Link--secondary Link">Contact</a>
          </li>

          <li class="mx-2" >
  <cookie-consent-link>
    <button
      type="button"
      class="Link--secondary underline-on-hover border-0 p-0 color-bg-transparent"
      data-action="click:cookie-consent-link#showConsentManagement"
      data-analytics-event="{&quot;location&quot;:&quot;footer&quot;,&quot;action&quot;:&quot;cookies&quot;,&quot;context&quot;:&quot;subfooter&quot;,&quot;tag&quot;:&quot;link&quot;,&quot;label&quot;:&quot;cookies_link_subfooter_footer&quot;}"
    >
       Manage cookies
    </button>
  </cookie-consent-link>
</li>

<li class="mx-2">
  <cookie-consent-link>
    <button
      type="button"
      class="Link--secondary underline-on-hover border-0 p-0 color-bg-transparent text-left"
      data-action="click:cookie-consent-link#showConsentManagement"
      data-analytics-event="{&quot;location&quot;:&quot;footer&quot;,&quot;action&quot;:&quot;dont_share_info&quot;,&quot;context&quot;:&quot;subfooter&quot;,&quot;tag&quot;:&quot;link&quot;,&quot;label&quot;:&quot;dont_share_info_link_subfooter_footer&quot;}"
    >
      Do not share my personal information
    </button>
  </cookie-consent-link>
</li>

      </ul>
    </nav>
  </div>
</footer>



    <ghcc-consent id="ghcc" class="position-fixed bottom-0 left-0" style="z-index: 999999"
      data-locale="en"
      data-initial-cookie-consent-allowed=""
      data-cookie-consent-required="false"
    ></ghcc-consent>



  <div id="ajax-error-message" class="ajax-error-message flash flash-error" hidden>
    <svg aria-hidden="true" height="16" viewBox="0 0 16 16" version="1.1" width="16" data-view-component="true" class="octicon octicon-alert">
    <path d="M6.457 1.047c.659-1.234 2.427-1.234 3.086 0l6.082 11.378A1.75 1.75 0 0 1 14.082 15H1.918a1.75 1.75 0 0 1-1.543-2.575Zm1.763.707a.25.25 0 0 0-.44 0L1.698 13.132a.25.25 0 0 0 .22.368h12.164a.25.25 0 0 0 .22-.368Zm.53 3.996v2.5a.75.75 0 0 1-1.5 0v-2.5a.75.75 0 0 1 1.5 0ZM9 11a1 1 0 1 1-2 0 1 1 0 0 1 2 0Z"></path>
</svg>
    <button type="button" class="flash-close js-ajax-error-dismiss" aria-label="Dismiss error">
      <svg aria-hidden="true" height="16" viewBox="0 0 16 16" version="1.1" width="16" data-view-component="true" class="octicon octicon-x">
    <path d="M3.72 3.72a.75.75 0 0 1 1.06 0L8 6.94l3.22-3.22a.749.749 0 0 1 1.275.326.749.749 0 0 1-.215.734L9.06 8l3.22 3.22a.749.749 0 0 1-.326 1.275.749.749 0 0 1-.734-.215L8 9.06l-3.22 3.22a.751.751 0 0 1-1.042-.018.751.751 0 0 1-.018-1.042L6.94 8 3.72 4.78a.75.75 0 0 1 0-1.06Z"></path>
</svg>
    </button>
    You can’t perform that action at this time.
  </div>

    <template id="site-details-dialog">
  <details class="details-reset details-overlay details-overlay-dark lh-default color-fg-default hx_rsm" open>
    <summary role="button" aria-label="Close dialog"></summary>
    <details-dialog class="Box Box--overlay d-flex flex-column anim-fade-in fast hx_rsm-dialog hx_rsm-modal">
      <button class="Box-btn-octicon m-0 btn-octicon position-absolute right-0 top-0" type="button" aria-label="Close dialog" data-close-dialog>
        <svg aria-hidden="true" height="16" viewBox="0 0 16 16" version="1.1" width="16" data-view-component="true" class="octicon octicon-x">
    <path d="M3.72 3.72a.75.75 0 0 1 1.06 0L8 6.94l3.22-3.22a.749.749 0 0 1 1.275.326.749.749 0 0 1-.215.734L9.06 8l3.22 3.22a.749.749 0 0 1-.326 1.275.749.749 0 0 1-.734-.215L8 9.06l-3.22 3.22a.751.751 0 0 1-1.042-.018.751.751 0 0 1-.018-1.042L6.94 8 3.72 4.78a.75.75 0 0 1 0-1.06Z"></path>
</svg>
      </button>
      <div class="octocat-spinner my-6 js-details-dialog-spinner"></div>
    </details-dialog>
  </details>
</template>

    <div class="Popover js-hovercard-content position-absolute" style="display: none; outline: none;">
  <div class="Popover-message Popover-message--bottom-left Popover-message--large Box color-shadow-large" style="width:360px;">
  </div>
</div>

    <template id="snippet-clipboard-copy-button">
  <div class="zeroclipboard-container position-absolute right-0 top-0">
    <clipboard-copy aria-label="Copy" class="ClipboardButton btn js-clipboard-copy m-2 p-0" data-copy-feedback="Copied!" data-tooltip-direction="w">
      <svg aria-hidden="true" height="16" viewBox="0 0 16 16" version="1.1" width="16" data-view-component="true" class="octicon octicon-copy js-clipboard-copy-icon m-2">
    <path d="M0 6.75C0 5.784.784 5 1.75 5h1.5a.75.75 0 0 1 0 1.5h-1.5a.25.25 0 0 0-.25.25v7.5c0 .138.112.25.25.25h7.5a.25.25 0 0 0 .25-.25v-1.5a.75.75 0 0 1 1.5 0v1.5A1.75 1.75 0 0 1 9.25 16h-7.5A1.75 1.75 0 0 1 0 14.25Z"></path><path d="M5 1.75C5 .784 5.784 0 6.75 0h7.5C15.216 0 16 .784 16 1.75v7.5A1.75 1.75 0 0 1 14.25 11h-7.5A1.75 1.75 0 0 1 5 9.25Zm1.75-.25a.25.25 0 0 0-.25.25v7.5c0 .138.112.25.25.25h7.5a.25.25 0 0 0 .25-.25v-7.5a.25.25 0 0 0-.25-.25Z"></path>
</svg>
      <svg aria-hidden="true" height="16" viewBox="0 0 16 16" version="1.1" width="16" data-view-component="true" class="octicon octicon-check js-clipboard-check-icon color-fg-success d-none m-2">
    <path d="M13.78 4.22a.75.75 0 0 1 0 1.06l-7.25 7.25a.75.75 0 0 1-1.06 0L2.22 9.28a.751.751 0 0 1 .018-1.042.751.751 0 0 1 1.042-.018L6 10.94l6.72-6.72a.75.75 0 0 1 1.06 0Z"></path>
</svg>
    </clipboard-copy>
  </div>
</template>
<template id="snippet-clipboard-copy-button-unpositioned">
  <div class="zeroclipboard-container">
    <clipboard-copy aria-label="Copy" class="ClipboardButton btn btn-invisible js-clipboard-copy m-2 p-0 d-flex flex-justify-center flex-items-center" data-copy-feedback="Copied!" data-tooltip-direction="w">
      <svg aria-hidden="true" height="16" viewBox="0 0 16 16" version="1.1" width="16" data-view-component="true" class="octicon octicon-copy js-clipboard-copy-icon">
    <path d="M0 6.75C0 5.784.784 5 1.75 5h1.5a.75.75 0 0 1 0 1.5h-1.5a.25.25 0 0 0-.25.25v7.5c0 .138.112.25.25.25h7.5a.25.25 0 0 0 .25-.25v-1.5a.75.75 0 0 1 1.5 0v1.5A1.75 1.75 0 0 1 9.25 16h-7.5A1.75 1.75 0 0 1 0 14.25Z"></path><path d="M5 1.75C5 .784 5.784 0 6.75 0h7.5C15.216 0 16 .784 16 1.75v7.5A1.75 1.75 0 0 1 14.25 11h-7.5A1.75 1.75 0 0 1 5 9.25Zm1.75-.25a.25.25 0 0 0-.25.25v7.5c0 .138.112.25.25.25h7.5a.25.25 0 0 0 .25-.25v-7.5a.25.25 0 0 0-.25-.25Z"></path>
</svg>
      <svg aria-hidden="true" height="16" viewBox="0 0 16 16" version="1.1" width="16" data-view-component="true" class="octicon octicon-check js-clipboard-check-icon color-fg-success d-none">
    <path d="M13.78 4.22a.75.75 0 0 1 0 1.06l-7.25 7.25a.75.75 0 0 1-1.06 0L2.22 9.28a.751.751 0 0 1 .018-1.042.751.751 0 0 1 1.042-.018L6 10.94l6.72-6.72a.75.75 0 0 1 1.06 0Z"></path>
</svg>
    </clipboard-copy>
  </div>
</template>


    <style>
      .user-mention[href$="/OmkarAthavale"] {
        color: var(--color-user-mention-fg);
        background-color: var(--bgColor-attention-muted, var(--color-attention-subtle));
        border-radius: 2px;
        margin-left: -2px;
        margin-right: -2px;
      }
      .user-mention[href$="/OmkarAthavale"]:before,
      .user-mention[href$="/OmkarAthavale"]:after {
        content: '';
        display: inline-block;
        width: 2px;
      }
    </style>


    </div>
    <div id="js-global-screen-reader-notice" class="sr-only mt-n1" aria-live="polite" aria-atomic="true" ></div>
    <div id="js-global-screen-reader-notice-assertive" class="sr-only mt-n1" aria-live="assertive" aria-atomic="true"></div>
  </body>
</html>

