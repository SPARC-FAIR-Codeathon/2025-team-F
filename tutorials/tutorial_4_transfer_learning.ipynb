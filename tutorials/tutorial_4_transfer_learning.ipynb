{
 "cells": [
  {
   "cell_type": "markdown",
   "metadata": {},
   "source": [
    "# Tutorial 4: Transfer learning\n",
    "\n",
    "Search for public data\n",
    "\n",
    "Augment public and private data\n",
    "\n",
    "Pretrain model on augmented public data\n",
    "\n",
    "Train model on test train split augmented private data\n",
    "\n",
    "run model on private data\n",
    "\n",
    "![alt tex](image.png \"Title\")"
   ]
  }
 ],
 "metadata": {
  "language_info": {
   "name": "python"
  }
 },
 "nbformat": 4,
 "nbformat_minor": 2
}
