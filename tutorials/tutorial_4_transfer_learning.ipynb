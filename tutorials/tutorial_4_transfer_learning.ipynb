{
 "cells": [
  {
   "cell_type": "markdown",
   "metadata": {},
   "source": [
    "# Tutorial 4: Transfer learning\n",
    "In this tutorial we will use the __SPARCats Search service__ to identify and retrieve a relevant public dataset. The __SPARCats Augment service__ will generate a synthetic augmented dataset, that will then be used to fine-tune an existing pre-trained model. The __SPARCats Preprocessing data service__ will prepare the data for training which takes place in the __SPARCats Fine-tune service__.\n",
    "\n",
    "## Searching for data\n",
    "Open the __SPARCats Search service__ node to identify the data that will be used for training. \n",
    "\n",
    "## Augmenting training data\n",
    "To train the LSTM model, enough data to learn on needs to be provided. Synthetic data can be created from the existing data to increase the training data volume. The __SPARCats Augment service__ node takes the input data and performs mathematic operations (time warping, jittering, and drifting) to generate synthetic data. \n",
    "\n",
    "## Pre-processing data for training\n",
    "The LSTM model requires a specific format for training. The model is trained to predict the next point in the signal based on the previous 20 points. Therefore, the training data must be prepared to be read-in by the model correctly. \n",
    "\n",
    "The __SPARCats Preprocessing data service__ will prepare the input data. The data must be a .csv file that only contains columns of signals. Each column is read and chopped into blocks of 20 points before being concatenated for training. \n",
    "\n",
    "## Loading and fine-tuning the pre-trained model\n",
    "The model is loaded and fine-tuned in the __SPARCats Fine-tune service__. The fine-tuning process further trains the model to fit to the new data. In this example, the model was trained on generated sine waves and the fine-tuning process on the augmented data will improve the prediction on the data. \n",
    "\n",
    "The input file is the data that has been pre-processed to train the model. Once the fine-tuning process is complete, the model runs an inference on the signal to predict the 50 next data points in the trace. "
   ]
  }
 ],
 "metadata": {
  "kernelspec": {
   "display_name": "Python (3.12.10)",
   "language": "python",
   "name": "kpy312"
  },
  "language_info": {
   "codemirror_mode": {
    "name": "ipython",
    "version": 3
   },
   "file_extension": ".py",
   "mimetype": "text/x-python",
   "name": "python",
   "nbconvert_exporter": "python",
   "pygments_lexer": "ipython3",
   "version": "3.12.3"
  }
 },
 "nbformat": 4,
 "nbformat_minor": 4
}
