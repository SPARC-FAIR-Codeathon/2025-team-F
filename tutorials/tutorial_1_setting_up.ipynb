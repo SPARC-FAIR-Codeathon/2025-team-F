{
 "cells": [
  {
   "cell_type": "markdown",
   "metadata": {},
   "source": [
    "# Tutorial 1: Basic set up\n",
    "In this tutorial we will import a private dataset. The SPARCats augment service will generate a synthetic augmented dataset, that will then be used for training. \n",
    "\n",
    "## o<sup>2</sup>S<sup>2</sup>PARC\n",
    "SPARCats is a service available through the [o<sup>2</sup>S<sup>2</sup>PARC](https://osparc.io/) platform. To use it you will need to register an account and sign in. From this point you will need to select [+ NEW > Empty study] in the top left of your workspace. In the centre of the workspace you can double-click to add a node. Here double click (left mouse) and select [File picker]. \n",
    "![alt tex](../res/File_picker.png \"File picker\")\n",
    "\n",
    "TODO - what data are we importing?\n",
    "\n",
    "Now we have imported our data into o<sup>2</sup>S<sup>2</sup>PARC\n",
    "\n",
    "## Creating a workflow\n",
    "Now it is time to create our first SPARCats workflow. Search SPARCats and add a SPARCats augment. The augment is configurable, but we are happy to use the default parameters for this tutorial. \n",
    "\n",
    "Search and add [TODO - service for plotting] to display the augmented data. Pipe in the augmented data. \n",
    "Search and add [TODO - model for training] to train a model on the augmented data. Pipe in the augmented data. \n",
    "![alt tex](image.png \"Title\") *Image showing SPARCats search into augment into train to be included later.\n",
    "\n",
    "Select [Run] - located in the top left of the work space. \n",
    "\n",
    "You can now see your first visualisations! The resulting model and figures can be saved if desired. \n"
   ]
  }
 ],
 "metadata": {
  "language_info": {
   "name": "python"
  }
 },
 "nbformat": 4,
 "nbformat_minor": 2
}
