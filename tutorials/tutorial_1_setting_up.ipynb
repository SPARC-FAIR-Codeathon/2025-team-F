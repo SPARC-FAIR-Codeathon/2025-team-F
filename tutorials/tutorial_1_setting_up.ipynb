{
 "cells": [
  {
   "cell_type": "markdown",
   "metadata": {},
   "source": [
    "# Tutorial 1: Basic set up\n",
    "In this tutorial we will import a private dataset. The __SPARCats Augment service__ will generate a synthetic augmented dataset, that will then be used to train a model. The __SPARCats Preprocessing data service__ will prepare the data for training which takes place in the __SPARCats LSTM service__.\n",
    "\n",
    "## o<sup>2</sup>S<sup>2</sup>PARC\n",
    "SPARCats is a service available through the [o<sup>2</sup>S<sup>2</sup>PARC](https://osparc.io/) platform. To use it you will need to register an account and sign in. From this point you can find the __SPARCat workflows__ in the tutorial hub. \n",
    "\n",
    "## Importing data\n",
    "The __SPARCats Import service__ allows you to select the data you want to augment and use for training the model.\n",
    "\n",
    "## Augmenting training data\n",
    "To train the LSTM model, enough data needs to be provided. Synthetic data can be created from the existing data to increase the training data volume. \n",
    "\n",
    "The __SPARCats Augment service__ node takes the input data and performs mathematic operations (time warping, jittering, and drifting) to generate synthetic data. The data must be a .csv file that only contains one column of signal to augment. \n",
    "\n",
    "## Pre-processing data for training\n",
    "The LSTM model requires a specific format for training. The model is trained to predict the next point in the signal based on the previous 20 points. Therefore, the training data must be prepared to be read-in by the model correctly. \n",
    "\n",
    "The __SPARCats Preprocessing data service__ will prepare the input data. The data must be a .csv file that only contains columns of signals. Each column is read and chopped into blocks of 20 points before being concatenated for training. \n",
    "\n",
    "## Training the model\n",
    "The __SPARCats LSTM service__ defines the model that will be trained on the augmented data. It uses the output of the __SPARCats Preprocessing data service__. Once the training process is complete, the model runs an inference on the signal to predict the 50 next data points in the trace. "
   ]
  }
 ],
 "metadata": {
  "kernelspec": {
   "display_name": "Python (3.12.10)",
   "language": "python",
   "name": "kpy312"
  },
  "language_info": {
   "codemirror_mode": {
    "name": "ipython",
    "version": 3
   },
   "file_extension": ".py",
   "mimetype": "text/x-python",
   "name": "python",
   "nbconvert_exporter": "python",
   "pygments_lexer": "ipython3",
   "version": "3.12.3"
  }
 },
 "nbformat": 4,
 "nbformat_minor": 4
}
