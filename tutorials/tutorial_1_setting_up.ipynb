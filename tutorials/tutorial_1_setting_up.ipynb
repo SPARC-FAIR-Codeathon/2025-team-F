{
 "cells": [
  {
   "cell_type": "markdown",
   "metadata": {},
   "source": [
    "# Tutorial 1: Basic set up\n",
    "\n",
    "## o<sup>2</sup>S<sup>2</sup>PARC\n",
    "\n",
    "Create account\n",
    "Navigate\n",
    "New project\n",
    "Search SPARCats\n",
    "\n",
    "## Creating a workflow\n",
    "\n",
    "Select modules\n",
    "Connect\n",
    "Run\n",
    "\n"
   ]
  }
 ],
 "metadata": {
  "language_info": {
   "name": "python"
  }
 },
 "nbformat": 4,
 "nbformat_minor": 2
}
