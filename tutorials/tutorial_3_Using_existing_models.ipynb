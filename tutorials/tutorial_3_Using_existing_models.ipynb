{
 "cells": [
  {
   "cell_type": "markdown",
   "metadata": {},
   "source": [
    "# Tutorial 3: Using existing models\n",
    "In this tutorial we will use the SPARCats search service to identify and retrieve a relevant public dataset. The SPARCats augment service will generate a synthetic augmented dataset, that will then be used for training. \n",
    "\n",
    "SPARCats search\n",
    "note that it is configurable\n",
    "\n",
    "Pipe data to augment\n",
    "\n",
    "Pipe augmented data into test/train split\n",
    "\n",
    "test train split to train\n",
    "\n",
    "training output\n",
    "\n",
    "![alt tex](image.png \"Title\")"
   ]
  }
 ],
 "metadata": {
  "language_info": {
   "name": "python"
  }
 },
 "nbformat": 4,
 "nbformat_minor": 2
}
