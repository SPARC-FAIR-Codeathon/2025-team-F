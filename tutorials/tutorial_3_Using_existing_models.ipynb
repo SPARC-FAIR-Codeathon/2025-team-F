{
 "cells": [
  {
   "cell_type": "markdown",
   "metadata": {},
   "source": [
    "# Tutorial 3: Using existing models\n",
    "In this tutorial we will use the SPARCats search service to identify and retrieve a relevant public dataset. The SPARCats augment service will generate a synthetic augmented dataset, that will then be used for training. \n",
    "\n",
    "Add a SPARCats search service and configure the search for [TODO]\n",
    "\n",
    "Add a SPARCats augment service and pipe in the public data from search. Note that the SPARCats augment service is configurable, but we are happy to use the default paramenters for this tutorial. \n",
    "![alt tex](image.png \"Title\") *Search into Augment\n",
    "\n",
    "Add a SPARCats train split service and pipe in the augmented data. Configure the train split service to [TODO]\n",
    "\n",
    "test train split to train\n",
    "\n",
    "training output\n",
    "\n",
    "![alt tex](image.png \"Title\")"
   ]
  }
 ],
 "metadata": {
  "language_info": {
   "name": "python"
  }
 },
 "nbformat": 4,
 "nbformat_minor": 2
}
