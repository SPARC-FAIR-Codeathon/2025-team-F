{
 "cells": [
  {
   "cell_type": "markdown",
   "metadata": {},
   "source": [
    "# Tutorial 3: Using existing models\n",
    "In this tutorial we will use the SPARCats test/train split service to identify and retrieve a relevant public dataset. The SPARCats augment service will generate a synthetic augmented dataset, this dataset will be passed into a pretrained model.\n",
    "\n",
    "## Setting up: \n",
    "Add a SPARCats search service and configure the search for [TODO]\n",
    "\n",
    "Add a SPARCats augment service and pipe in the public data from search. Note that the SPARCats augment service is configurable, but we are happy to use the default paramenters for this tutorial. \n",
    "![alt tex](image.png \"Title\") *Search into Augment\n",
    "\n",
    "Add a SPARCats train split service and pipe in the augmented data. Configure the train split service to [TODO]\n",
    "\n",
    "\n",
    "![alt tex](image.png \"Title\")"
   ]
  }
 ],
 "metadata": {
  "language_info": {
   "name": "python"
  }
 },
 "nbformat": 4,
 "nbformat_minor": 2
}
