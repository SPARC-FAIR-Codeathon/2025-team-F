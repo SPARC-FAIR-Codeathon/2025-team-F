{
 "cells": [
  {
   "cell_type": "markdown",
   "metadata": {},
   "source": [
    "# Tutorial 3: Using an existing model\n",
    "In this tutorial we will use the __SPARCats Search service__ to identify and retrieve a relevant public dataset. The __SPARCats Augment service__ will generate a synthetic augmented dataset, that will then be used for training the model. The __SPARCats Preprocessing data service__ will prepare the data for training which takes place in the __SPARCats LSTM service__.\n",
    "\n",
    "## o<sup>2</sup>S<sup>2</sup>PARC\n",
    "SPARCats is a service available through the [o<sup>2</sup>S<sup>2</sup>PARC](https://osparc.io/) platform. To use it you will need to register an account and sign in. From this point you can find the __SPARCat workflows__ in the tutorial hub. \n",
    "\n",
    "## Searching for existing data\n",
    "The __SPARCats Search service__ is a configurable search tool to find relevent data from the SPARC data portal. We will configure it to search for the following data [Experiment = , Species = , Sex = , Organ = ]. When run, the search will return the data fitting these search conditions. \n",
    "\n",
    "Use the __SPARCats Search service__ node to identify the data that will be used to predict with. \n",
    "\n",
    "## Using the model\n",
    "The __SPARCats pre-trained LSTM service__ will load the data that was selected in the __SPARCats Search service__. This model has already been trained and can be used directly for inference. The model predicts the next point in the signal using 20 previous data points. \n",
    "\n",
    "Here, the model runs an inference on the signal to predict the 50 next data points in the trace. "
   ]
  }
 ],
 "metadata": {
  "kernelspec": {
   "display_name": "Python (3.12.10)",
   "language": "python",
   "name": "kpy312"
  },
  "language_info": {
   "codemirror_mode": {
    "name": "ipython",
    "version": 3
   },
   "file_extension": ".py",
   "mimetype": "text/x-python",
   "name": "python",
   "nbconvert_exporter": "python",
   "pygments_lexer": "ipython3",
   "version": "3.12.3"
  }
 },
 "nbformat": 4,
 "nbformat_minor": 4
}
