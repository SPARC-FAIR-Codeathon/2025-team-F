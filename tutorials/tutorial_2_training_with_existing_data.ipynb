{
 "cells": [
  {
   "cell_type": "markdown",
   "metadata": {},
   "source": [
    "# Tutorial 2: Training with existing data\n",
    "In this tutorial we will use the SPARCats search service to identify and retrieve a relevant public dataset. The SPARCats augment service will generate a synthetic augmented dataset, that will then be used for training. \n",
    "\n",
    "Open new o<sup>2</sup>S<sup>2</sup>PARC project\n",
    "Add the SPARCats search service. This is a configurable search tool to find relevent data from the SPARC data portal. We will configure it to search for the following data [Experiment = , Species = , Sex = , Organ = ]. When run, the search will return the data fitting these search conditions. \n",
    "![alt tex](image.png \"Title\") *SPARCats search\n",
    "\n",
    "Next add a SPARCats augment service. Pipe the public data from SPARC into the augment service to create an synthetic dataset. \n",
    "\n",
    "![alt tex](image.png \"Title\") *Image showing SPARCats search into augment to be included later\n",
    "\n",
    "Note on configuring augment service\n",
    "\n",
    "Pipe augmented data into model\n",
    "model can be saved\n",
    "\n",
    "Evaluate model with real data\n",
    "\n",
    "\n",
    "\n"
   ]
  }
 ],
 "metadata": {
  "language_info": {
   "name": "python"
  }
 },
 "nbformat": 4,
 "nbformat_minor": 2
}
