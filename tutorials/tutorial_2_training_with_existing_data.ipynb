{
 "cells": [
  {
   "cell_type": "markdown",
   "metadata": {},
   "source": [
    "# Tutorial 2: Training with existing data\n",
    "\n",
    "Open new o<sup>2</sup>S<sup>2</sup>PARC project\n",
    "\n",
    "Import data\n",
    "\n",
    "Add augment service\n",
    "\n",
    "Note on configuring augment service\n",
    "\n",
    "Pipe augmented data into model\n",
    "model can be saved\n",
    "\n",
    "Evaluate model with real data\n",
    "\n",
    "\n",
    "\n",
    "\n",
    "![alt tex](image.png \"Title\")"
   ]
  }
 ],
 "metadata": {
  "language_info": {
   "name": "python"
  }
 },
 "nbformat": 4,
 "nbformat_minor": 2
}
