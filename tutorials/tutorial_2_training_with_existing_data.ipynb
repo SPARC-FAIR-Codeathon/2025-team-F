{
 "cells": [
  {
   "cell_type": "markdown",
   "metadata": {},
   "source": [
    "# Tutorial 2: Training with existing data\n",
    "In this tutorial we will use the __SPARCats Search service__ to identify and retrieve a relevant public dataset. The __SPARCats Augment service__ will generate a synthetic augmented dataset, that will then be used for training. \n",
    "\n",
    "## o<sup>2</sup>S<sup>2</sup>PARC\n",
    "SPARCats is a service available through the [o<sup>2</sup>S<sup>2</sup>PARC](https://osparc.io/) platform. To use it you will need to register an account and sign in. From this point you can find the __SPARCat workflows__ in the tutorial hub. \n",
    "\n",
    "## Searching for existing data\n",
    "Add the __SPARCats Search service__. This is a configurable search tool to find relevent data from the SPARC data portal. We will configure it to search for the following data [Experiment = , Species = , Sex = , Organ = ]. When run, the search will return the data fitting these search conditions. \n",
    "\n",
    "Use the __SPARCats Search service__ node to identify the data that will be augmented and trained on. \n",
    "\n",
    "## Augmenting training data\n",
    "To train the LSTM model, enough data needs to be provided. Synthetic data can be created from the existing data to increase the training data volume. The __SPARCats Augment service__ node takes the input data and performs mathematic operations (time warping, jittering, and drifting) to generate synthetic data. \n",
    "\n",
    "## Pre-processing data for training\n",
    "The LSTM model requires a specific format for training. The model is trained to predict the next point in the signal based on the previous 20 points. Therefore, the training data must be prepared to be read-in by the model correctly. \n",
    "\n",
    "The __SPARCats Preprocessing data service__ will prepare the input data. The data must be a .csv file that only contains columns of signals. Each column is read and chopped into blocks of 20 points before being concatenated for training. \n",
    "\n",
    "## Training the model\n",
    "The __SPARCats LSTM service__ defines the model that will be trained on the augmented data. It uses the output of the __SPARCats Preprocessing data service__. Once the training process is complete, the model runs an inference on the signal to predict the 50 next data points in the trace. "
   ]
  }
 ],
 "metadata": {
  "kernelspec": {
   "display_name": "Python (3.12.10)",
   "language": "python",
   "name": "kpy312"
  },
  "language_info": {
   "codemirror_mode": {
    "name": "ipython",
    "version": 3
   },
   "file_extension": ".py",
   "mimetype": "text/x-python",
   "name": "python",
   "nbconvert_exporter": "python",
   "pygments_lexer": "ipython3",
   "version": "3.12.3"
  }
 },
 "nbformat": 4,
 "nbformat_minor": 4
}
