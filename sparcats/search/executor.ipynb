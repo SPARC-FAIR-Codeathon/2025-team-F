{
 "cells": [
  {
   "cell_type": "code",
   "execution_count": null,
   "id": "8a031d6e9780584f",
   "metadata": {},
   "outputs": [],
   "source": [
    "import sys\n",
    "!{sys.executable} -m pip install sparc_me dotenv\n",
    "\n",
    "from src.search import get_valid_datasets\n",
    "import json\n",
    "\n",
    "\n",
    "with open(\"inputs/input_form.json\", 'r') as f:\n",
    "    inputs = json.load(f)\n",
    "\n",
    "outputs = {}\n",
    "exact_dataset, relevant_datasets = get_valid_datasets(inputs[\"exp_approach\"], inputs[\"species\"], inputs[\"organ\"],\n",
    "                                                      inputs[\"sex\"])\n",
    "outputs[\"exact_dataset\"] = exact_dataset\n",
    "outputs[\"relevant_datasets\"] = relevant_datasets\n",
    "with open('outputs/output.json', 'w', encoding='utf-8') as f:\n",
    "    json.dump(outputs, f, ensure_ascii=False, indent=4)"
   ]
  },
  {
   "cell_type": "code",
   "execution_count": null,
   "id": "32020c65",
   "metadata": {},
   "outputs": [],
   "source": []
  }
 ],
 "metadata": {
  "kernelspec": {
   "display_name": "Python 3",
   "language": "python",
   "name": "python3"
  },
  "language_info": {
   "codemirror_mode": {
    "name": "ipython",
    "version": 2
   },
   "file_extension": ".py",
   "mimetype": "text/x-python",
   "name": "python",
   "nbconvert_exporter": "python",
   "pygments_lexer": "ipython2",
   "version": "2.7.6"
  }
 },
 "nbformat": 4,
 "nbformat_minor": 5
}
