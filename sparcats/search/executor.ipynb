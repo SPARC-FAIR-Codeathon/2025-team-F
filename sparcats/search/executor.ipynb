{
 "cells": [
  {
   "cell_type": "code",
   "id": "initial_id",
   "metadata": {
    "collapsed": true,
    "ExecuteTime": {
     "end_time": "2025-08-05T02:56:33.454416Z",
     "start_time": "2025-08-05T02:48:57.937994Z"
    }
   },
   "source": [
    "from sparcats.search.src.search import get_valid_datasets\n",
    "import json\n",
    "\n",
    "with open(\"inputs/input_form.json\", 'r') as f:\n",
    "    inputs = json.load(f)        \n",
    "\n",
    "outputs = {}\n",
    "exact_dataset, relevant_datasets = get_valid_datasets(inputs[\"exp_approach\"], inputs[\"species\"], inputs[\"organ\"], inputs[\"sex\"])\n",
    "outputs[\"exact_dataset\"] = exact_dataset\n",
    "outputs[\"relevant_datasets\"] = relevant_datasets\n",
    "with open('outputs/output.json', 'w', encoding='utf-8') as f:\n",
    "    json.dump(outputs, f, ensure_ascii=False, indent=4)"
   ],
   "outputs": [
    {
     "ename": "KeyError",
     "evalue": "'relevant_datasets'",
     "output_type": "error",
     "traceback": [
      "\u001B[0;31m---------------------------------------------------------------------------\u001B[0m",
      "\u001B[0;31mKeyError\u001B[0m                                  Traceback (most recent call last)",
      "Cell \u001B[0;32mIn[1], line 10\u001B[0m\n\u001B[1;32m      7\u001B[0m outputs \u001B[38;5;241m=\u001B[39m {}\n\u001B[1;32m      8\u001B[0m exact_dataset, relevant_datasets \u001B[38;5;241m=\u001B[39m get_valid_datasets(inputs[\u001B[38;5;124m\"\u001B[39m\u001B[38;5;124mexp_approach\u001B[39m\u001B[38;5;124m\"\u001B[39m], inputs[\u001B[38;5;124m\"\u001B[39m\u001B[38;5;124mspecies\u001B[39m\u001B[38;5;124m\"\u001B[39m], inputs[\u001B[38;5;124m\"\u001B[39m\u001B[38;5;124morgan\u001B[39m\u001B[38;5;124m\"\u001B[39m], inputs[\u001B[38;5;124m\"\u001B[39m\u001B[38;5;124msex\u001B[39m\u001B[38;5;124m\"\u001B[39m])\n\u001B[0;32m---> 10\u001B[0m outputs[\u001B[38;5;124m\"\u001B[39m\u001B[38;5;124mexact_dataset\u001B[39m\u001B[38;5;124m\"\u001B[39m] \u001B[38;5;241m=\u001B[39m exact_dataset, \u001B[43moutputs\u001B[49m\u001B[43m[\u001B[49m\u001B[38;5;124;43m\"\u001B[39;49m\u001B[38;5;124;43mrelevant_datasets\u001B[39;49m\u001B[38;5;124;43m\"\u001B[39;49m\u001B[43m]\u001B[49m, relevant_datasets\n\u001B[1;32m     11\u001B[0m \u001B[38;5;28mprint\u001B[39m(outputs[\u001B[38;5;124m\"\u001B[39m\u001B[38;5;124mexact_dataset\u001B[39m\u001B[38;5;124m\"\u001B[39m])\n\u001B[1;32m     12\u001B[0m \u001B[38;5;28;01mwith\u001B[39;00m \u001B[38;5;28mopen\u001B[39m(\u001B[38;5;124m'\u001B[39m\u001B[38;5;124moutputs/output.json\u001B[39m\u001B[38;5;124m'\u001B[39m, \u001B[38;5;124m'\u001B[39m\u001B[38;5;124mw\u001B[39m\u001B[38;5;124m'\u001B[39m, encoding\u001B[38;5;241m=\u001B[39m\u001B[38;5;124m'\u001B[39m\u001B[38;5;124mutf-8\u001B[39m\u001B[38;5;124m'\u001B[39m) \u001B[38;5;28;01mas\u001B[39;00m f:\n",
      "\u001B[0;31mKeyError\u001B[0m: 'relevant_datasets'"
     ]
    }
   ],
   "execution_count": 1
  }
 ],
 "metadata": {
  "kernelspec": {
   "display_name": "Python 3",
   "language": "python",
   "name": "python3"
  },
  "language_info": {
   "codemirror_mode": {
    "name": "ipython",
    "version": 2
   },
   "file_extension": ".py",
   "mimetype": "text/x-python",
   "name": "python",
   "nbconvert_exporter": "python",
   "pygments_lexer": "ipython2",
   "version": "2.7.6"
  }
 },
 "nbformat": 4,
 "nbformat_minor": 5
}
