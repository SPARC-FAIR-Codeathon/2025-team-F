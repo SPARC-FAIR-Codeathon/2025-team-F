{
 "cells": [
  {
   "metadata": {
    "ExecuteTime": {
     "end_time": "2025-08-05T03:16:21.253458Z",
     "start_time": "2025-08-05T03:16:08.749299Z"
    }
   },
   "cell_type": "code",
   "source": [
    "from sparcats.download.src.download import download_timeseries_files\n",
    "import os.path\n",
    "\n",
    "import json\n",
    "\n",
    "with open(\"inputs/input_form.json\", 'r') as f:\n",
    "    inputs = json.load(f) \n",
    "\n",
    "# Arguments versionID, sex, out_path, primary_files_only, num_subjects, num_files_per_subject can be added in the json file.  \n",
    "outputs = download_timeseries_files(inputs[\"datasetID\"], out_path=str(os.path.abspath(\"outputs/\")))\n",
    "\n",
    "with open('outputs/output.json', 'w', encoding='utf-8') as f:\n",
    "    json.dump(outputs, f, ensure_ascii=False, indent=4)\n"
   ],
   "id": "39e03bd927c41a8b",
   "outputs": [
    {
     "name": "stdout",
     "output_type": "stream",
     "text": [
      "Downloading first [1] for first [1] subject(s).\n"
     ]
    }
   ],
   "execution_count": 11
  }
 ],
 "metadata": {
  "kernelspec": {
   "display_name": "Python 3",
   "language": "python",
   "name": "python3"
  },
  "language_info": {
   "codemirror_mode": {
    "name": "ipython",
    "version": 2
   },
   "file_extension": ".py",
   "mimetype": "text/x-python",
   "name": "python",
   "nbconvert_exporter": "python",
   "pygments_lexer": "ipython2",
   "version": "2.7.6"
  }
 },
 "nbformat": 4,
 "nbformat_minor": 5
}
