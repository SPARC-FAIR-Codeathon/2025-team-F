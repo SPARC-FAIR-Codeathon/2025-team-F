{
 "cells": [
  {
   "cell_type": "code",
   "execution_count": null,
   "id": "initial_id",
   "metadata": {
    "collapsed": true
   },
   "outputs": [],
   "source": [
    "import sys\n",
    "!{sys.executable} -m pip install tsaug pandas scipy \n",
    "\n",
    "import src.augment_service as augment\n",
    "import warnings\n",
    "import pathlib\n",
    "import os\n",
    "\n",
    "\n",
    "input_data = augment.parse_json(\"inputs/input_form.json\")\n",
    "\n",
    "nb_signals = input_data[\"nb_signals\"]  # Number of augmented signals to create\n",
    "\n",
    "# Read input data\n",
    "for filepath in input_data[\"source_data_files\"]:\n",
    "\n",
    "    if filepath.endswith('.csv'):\n",
    "        data = augment.read_from_csv(\"inputs/\" + filepath)\n",
    "    elif filepath.endswith('.mat'):\n",
    "        data = augment.read_from_mat(\"inputs/\" + filepath)\n",
    "    else:\n",
    "        warnings.warn(f\"Unsupported file type for {filepath}. Supported types are .csv and .mat.\")\n",
    "\n",
    "arr_augmenters = augment.setup_augmenter(input_data)\n",
    "augmenter = augment.create_augmenter(arr_augmenters)\n",
    "\n",
    "augmented_data = augment.generate_augmented_data(data, augmenter, nb_signals)\n",
    "augment.save_to_csv(augmented_data, 1, \"outputs/augmented_data.csv\")\n"
   ]
  }
 ],
 "metadata": {
  "kernelspec": {
   "display_name": "Python 3",
   "language": "python",
   "name": "python3"
  },
  "language_info": {
   "codemirror_mode": {
    "name": "ipython",
    "version": 2
   },
   "file_extension": ".py",
   "mimetype": "text/x-python",
   "name": "python",
   "nbconvert_exporter": "python",
   "pygments_lexer": "ipython2",
   "version": "2.7.6"
  }
 },
 "nbformat": 4,
 "nbformat_minor": 5
}
