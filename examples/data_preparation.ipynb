{
 "cells": [
  {
   "cell_type": "code",
   "execution_count": 3,
   "id": "cdd3c1b1-04e7-4b2b-8673-71283c7386e1",
   "metadata": {},
   "outputs": [
    {
     "name": "stdout",
     "output_type": "stream",
     "text": [
      "Requirement already satisfied: pandas in /opt/conda/lib/python3.7/site-packages (1.3.5)\n",
      "Requirement already satisfied: python-dateutil>=2.7.3 in /opt/conda/lib/python3.7/site-packages (from pandas) (2.9.0)\n",
      "Requirement already satisfied: pytz>=2017.3 in /opt/conda/lib/python3.7/site-packages (from pandas) (2024.2)\n",
      "Requirement already satisfied: numpy>=1.17.3 in /opt/conda/lib/python3.7/site-packages (from pandas) (1.21.6)\n",
      "Requirement already satisfied: six>=1.5 in /opt/conda/lib/python3.7/site-packages (from python-dateutil>=2.7.3->pandas) (1.16.0)\n",
      "Requirement already satisfied: scikit-learn in /opt/conda/lib/python3.7/site-packages (1.0.2)\n",
      "Requirement already satisfied: numpy>=1.14.6 in /opt/conda/lib/python3.7/site-packages (from scikit-learn) (1.21.6)\n",
      "Requirement already satisfied: scipy>=1.1.0 in /opt/conda/lib/python3.7/site-packages (from scikit-learn) (1.7.3)\n",
      "Requirement already satisfied: joblib>=0.11 in /opt/conda/lib/python3.7/site-packages (from scikit-learn) (1.3.2)\n",
      "Requirement already satisfied: threadpoolctl>=2.0.0 in /opt/conda/lib/python3.7/site-packages (from scikit-learn) (3.1.0)\n"
     ]
    }
   ],
   "source": [
    "import sys\n",
    "!{sys.executable} -m pip install pandas\n",
    "!{sys.executable} -m pip install scikit-learn"
   ]
  },
  {
   "cell_type": "code",
   "execution_count": 4,
   "id": "86405546-f598-4d18-8840-34ba0558bd49",
   "metadata": {},
   "outputs": [],
   "source": [
    "import numpy as np\n",
    "import pandas as pd\n",
    "\n",
    "from sklearn.preprocessing import MinMaxScaler\n",
    "from sklearn.model_selection import train_test_split"
   ]
  },
  {
   "cell_type": "code",
   "execution_count": 5,
   "id": "10c6fd44-c9bd-4875-a03c-72dbcc64ca20",
   "metadata": {},
   "outputs": [],
   "source": [
    "# Define a function to create the dataset for the LSTM model\n",
    "\n",
    "def create_dataset(signal, window_size=20):\n",
    "    X, y = [], []\n",
    "    for i in range(len(signal) - window_size):\n",
    "        X.append(signal[i:i+window_size])\n",
    "        y.append(signal[i+window_size])\n",
    "    return np.array(X), np.array(y)"
   ]
  },
  {
   "cell_type": "code",
   "execution_count": 6,
   "id": "3c08a786-47ad-42d9-b86d-582968b7fe6b",
   "metadata": {},
   "outputs": [],
   "source": [
    "# Read in data and normalise it\n",
    "\n",
    "data = pd.read_csv('data/sparc_data_augmented.csv')\n",
    "extracted_data = data.iloc[:, 1::].to_numpy()\n",
    "\n",
    "scaler = MinMaxScaler(feature_range=(0,1))\n",
    "scaled_data = scaler.fit_transform(extracted_data)\n"
   ]
  },
  {
   "cell_type": "code",
   "execution_count": 7,
   "id": "dd35f4aa-cb85-4691-9b63-aa21d7f1e490",
   "metadata": {},
   "outputs": [],
   "source": [
    "# Create the training dataset from the loaded data\n",
    "\n",
    "X_train_all, y_train_all = [], []\n",
    "window_size = 20\n",
    "\n",
    "for i in range(scaled_data.shape[1]):  # a list of 10 signals\n",
    "    X_aug, y_aug = create_dataset(scaled_data[:, i], window_size)\n",
    "    X_train_all.append(X_aug)\n",
    "    y_train_all.append(y_aug)\n",
    "\n",
    "# Combine all augmented data into single arrays\n",
    "X_train = np.concatenate(X_train_all, axis=0)\n",
    "y_train = np.concatenate(y_train_all, axis=0)\n",
    "\n",
    "# Reshape if univariate (LSTM expects shape (samples, timesteps, features))\n",
    "X_train = X_train.reshape((X_train.shape[0], X_train.shape[1], 1))"
   ]
  },
  {
   "cell_type": "code",
   "execution_count": null,
   "id": "585ebef2-4e08-403f-b5ac-e7f2067ce5d7",
   "metadata": {},
   "outputs": [],
   "source": []
  }
 ],
 "metadata": {
  "kernelspec": {
   "display_name": "Python 3 (ipykernel)",
   "language": "python",
   "name": "python3"
  },
  "language_info": {
   "codemirror_mode": {
    "name": "ipython",
    "version": 3
   },
   "file_extension": ".py",
   "mimetype": "text/x-python",
   "name": "python",
   "nbconvert_exporter": "python",
   "pygments_lexer": "ipython3",
   "version": "3.7.12"
  }
 },
 "nbformat": 4,
 "nbformat_minor": 5
}
