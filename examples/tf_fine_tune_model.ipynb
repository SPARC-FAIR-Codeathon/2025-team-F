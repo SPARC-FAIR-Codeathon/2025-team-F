





<!DOCTYPE html>
<html
  lang="en"
  
  data-color-mode="auto" data-light-theme="light" data-dark-theme="dark"
  data-a11y-animated-images="system" data-a11y-link-underlines="true"
  
  >

    <style>
:root {
  --fontStack-monospace: "Monaspace Neon", ui-monospace, SFMono-Regular, SF Mono, Menlo, Consolas, Liberation Mono, monospace !important;
}
</style>




  <head>
    <meta charset="utf-8">
  <link rel="dns-prefetch" href="https://github.githubassets.com">
  <link rel="dns-prefetch" href="https://avatars.githubusercontent.com">
  <link rel="dns-prefetch" href="https://github-cloud.s3.amazonaws.com">
  <link rel="dns-prefetch" href="https://user-images.githubusercontent.com/">
  <link rel="preconnect" href="https://github.githubassets.com" crossorigin>
  <link rel="preconnect" href="https://avatars.githubusercontent.com">

  


  <link crossorigin="anonymous" media="all" rel="stylesheet" href="https://github.githubassets.com/assets/light-d1334f2b22bf.css" /><link crossorigin="anonymous" media="all" rel="stylesheet" href="https://github.githubassets.com/assets/dark-f73a069fd33e.css" /><link data-color-theme="light_high_contrast" crossorigin="anonymous" media="all" rel="stylesheet" data-href="https://github.githubassets.com/assets/light_high_contrast-f695a361c6b2.css" /><link data-color-theme="light_colorblind" crossorigin="anonymous" media="all" rel="stylesheet" data-href="https://github.githubassets.com/assets/light_colorblind-367eb9a4565a.css" /><link data-color-theme="light_colorblind_high_contrast" crossorigin="anonymous" media="all" rel="stylesheet" data-href="https://github.githubassets.com/assets/light_colorblind_high_contrast-183adc0db479.css" /><link data-color-theme="light_tritanopia" crossorigin="anonymous" media="all" rel="stylesheet" data-href="https://github.githubassets.com/assets/light_tritanopia-2ddc677c041d.css" /><link data-color-theme="light_tritanopia_high_contrast" crossorigin="anonymous" media="all" rel="stylesheet" data-href="https://github.githubassets.com/assets/light_tritanopia_high_contrast-649962a5702a.css" /><link data-color-theme="dark_high_contrast" crossorigin="anonymous" media="all" rel="stylesheet" data-href="https://github.githubassets.com/assets/dark_high_contrast-3a0d87f72ad4.css" /><link data-color-theme="dark_colorblind" crossorigin="anonymous" media="all" rel="stylesheet" data-href="https://github.githubassets.com/assets/dark_colorblind-b17a8392e6c4.css" /><link data-color-theme="dark_colorblind_high_contrast" crossorigin="anonymous" media="all" rel="stylesheet" data-href="https://github.githubassets.com/assets/dark_colorblind_high_contrast-e9ff47cedc2b.css" /><link data-color-theme="dark_tritanopia" crossorigin="anonymous" media="all" rel="stylesheet" data-href="https://github.githubassets.com/assets/dark_tritanopia-a1cc7dba9f73.css" /><link data-color-theme="dark_tritanopia_high_contrast" crossorigin="anonymous" media="all" rel="stylesheet" data-href="https://github.githubassets.com/assets/dark_tritanopia_high_contrast-6c4dd39e2b0f.css" /><link data-color-theme="dark_dimmed" crossorigin="anonymous" media="all" rel="stylesheet" data-href="https://github.githubassets.com/assets/dark_dimmed-55459b36aa6d.css" /><link data-color-theme="dark_dimmed_high_contrast" crossorigin="anonymous" media="all" rel="stylesheet" data-href="https://github.githubassets.com/assets/dark_dimmed_high_contrast-9a0ef6e40ed3.css" />

    <style type="text/css">
      :root {
        --tab-size-preference: 8;
      }

      pre, code {
        tab-size: var(--tab-size-preference);
      }
    </style>

    <link crossorigin="anonymous" media="all" rel="stylesheet" href="https://github.githubassets.com/assets/primer-primitives-dc7ca6859caf.css" />
    <link crossorigin="anonymous" media="all" rel="stylesheet" href="https://github.githubassets.com/assets/primer-e11b50dc0d94.css" />
    <link crossorigin="anonymous" media="all" rel="stylesheet" href="https://github.githubassets.com/assets/global-208b03e93e68.css" />
    <link crossorigin="anonymous" media="all" rel="stylesheet" href="https://github.githubassets.com/assets/github-e76c66441660.css" />
  <link crossorigin="anonymous" media="all" rel="stylesheet" href="https://github.githubassets.com/assets/repository-b58e401b73ae.css" />
<link crossorigin="anonymous" media="all" rel="stylesheet" href="https://github.githubassets.com/assets/code-4ea853641043.css" />

  


  <script type="application/json" id="client-env">{"locale":"en","featureFlags":["alternate_user_config_repo","api_insights_show_missing_data_banner","attestations_filtering","attestations_sorting","billingplatform_copilot_premium_sku","client_version_header","code_scanning_security_configuration_ternary_state","codespaces_prebuild_region_target_update","contact_requests_implicit_opt_in","contentful_lp_copilot_extensions","contentful_lp_flex_features","contentful_lp_footnotes","copilot_chat_attach_images","copilot_chat_attach_multiple_images","copilot_chat_disable_model_picker_while_streaming","copilot_chat_group_notifications","copilot_chat_opening_thread_switch","copilot_chat_vision_in_claude","copilot_chat_vision_skip_thread_create","copilot_chat_wholearea_dd","copilot_chat_wholearea_dd_overlay","copilot_coding_agent_task_creation_banner","copilot_custom_copilots_feature_preview","copilot_custom_copilots_images","copilot_duplicate_thread","copilot_free_to_paid_telem","copilot_ftp_hyperspace_upgrade_prompt","copilot_ftp_settings_upgrade","copilot_ftp_upgrade_to_pro_from_models","copilot_ftp_your_copilot_settings","copilot_immersive_agent_branch_selection","copilot_immersive_draft_issue_template_form_ui","copilot_immersive_structured_model_picker","copilot_issue_list_show_more","copilot_markdown_image_allow_list","copilot_no_floating_button","copilot_premium_request_quotas","copilot_read_shared_conversation","copilot_share_active_subthread","copilot_spaces_inline_edit_description","copilot_spaces_input_menu_select","copilot_spaces_permissions_tab","copilot_spaces_upsert_reload_in_background","copilot_spark_allow_empty_commit","copilot_spark_single_user_iteration","copilot_spark_use_billing_headers","copilot_spark_write_iteration_history_to_git","copilot_task_oriented_assistive_prompts","copilot_workbench_agent_seed_tool","copilot_workbench_cache","copilot_workbench_connection_reload_banner","copilot_workbench_preview_analytics","copilot_workbench_ratelimit_fallback","copilot_workbench_refresh_on_wsod","copilot_workbench_synthetic_generation","custom_copilots_128k_window","custom_copilots_capi_mode","custom_copilots_file_uploads","direct_to_salesforce","dotcom_chat_client_side_skills","failbot_report_error_react_apps_on_page","fgpat_permissions_selector_redesign","ghost_pilot_confidence_truncation_25","ghost_pilot_confidence_truncation_40","github_models_scheduled_hydro_events","hpc_improve_dom_insertion_observer","insert_before_patch","issue_fields_report_usage","issues_catch_non_json_graphql_response","issues_label_search_url","issues_preserve_tokens_in_urls","issues_react_blur_item_picker_on_close","issues_react_bots_timeline_pagination","issues_react_create_milestone","issues_react_duplicate_issue","issues_react_include_bots_in_pickers","issues_react_prohibit_title_fallback","issues_react_remove_placeholders","issues_template_picker_redirect","kb_semantic_api_migration","lifecycle_label_name_updates","link_contact_sales_swp_marketo","marketing_fullstory_sampling","marketing_pages_search_explore_provider","memex_mwl_filter_field_delimiter","memex_roadmap_drag_style","nonreporting_relay_graphql_status_codes","primer_react_segmented_control_tooltip","primer_react_select_panel_with_modern_action_list","remove_child_patch","repository_suggester_elastic_search","sample_network_conn_type","scheduled_reminders_updated_limits","site_copilot_plans_emphasize_pro","site_homepage_contentful","site_msbuild_hide_integrations","site_msbuild_launch","site_msbuild_webgl_hero","spark_commit_on_default_branch","spark_sync_repository_after_iteration","swp_enterprise_contact_form","use_paginated_org_picker_cost_center_form","use_paginated_repo_picker_cost_center_form","viewscreen_sandbox","workbench_default_sonnet4","workbench_store_readonly"],"login":"OmkarAthavale","copilotApiOverrideUrl":null}</script>
<script crossorigin="anonymous" type="application/javascript" src="https://github.githubassets.com/assets/wp-runtime-302384e10e8b.js" defer="defer"></script>
<script crossorigin="anonymous" type="application/javascript" src="https://github.githubassets.com/assets/vendors-node_modules_oddbird_popover-polyfill_dist_popover-fn_js-a8c266e5f126.js" defer="defer"></script>
<script crossorigin="anonymous" type="application/javascript" src="https://github.githubassets.com/assets/vendors-node_modules_github_mini-throttle_dist_index_js-node_modules_stacktrace-parser_dist_s-1d3d52-babac9434833.js" defer="defer"></script>
<script crossorigin="anonymous" type="application/javascript" src="https://github.githubassets.com/assets/ui_packages_failbot_failbot_ts-992dcf80dabf.js" defer="defer"></script>
<script crossorigin="anonymous" type="application/javascript" src="https://github.githubassets.com/assets/environment-17084f3f370f.js" defer="defer"></script>
<script crossorigin="anonymous" type="application/javascript" src="https://github.githubassets.com/assets/vendors-node_modules_primer_behaviors_dist_esm_index_mjs-c44edfed7f0d.js" defer="defer"></script>
<script crossorigin="anonymous" type="application/javascript" src="https://github.githubassets.com/assets/vendors-node_modules_github_selector-observer_dist_index_esm_js-cdf2757bd188.js" defer="defer"></script>
<script crossorigin="anonymous" type="application/javascript" src="https://github.githubassets.com/assets/vendors-node_modules_github_relative-time-element_dist_index_js-5913bc24f35d.js" defer="defer"></script>
<script crossorigin="anonymous" type="application/javascript" src="https://github.githubassets.com/assets/vendors-node_modules_github_auto-complete-element_dist_index_js-node_modules_github_catalyst_-8e9f78-c1e2fb329866.js" defer="defer"></script>
<script crossorigin="anonymous" type="application/javascript" src="https://github.githubassets.com/assets/vendors-node_modules_github_text-expander-element_dist_index_js-e50fb7a5fe8c.js" defer="defer"></script>
<script crossorigin="anonymous" type="application/javascript" src="https://github.githubassets.com/assets/vendors-node_modules_github_filter-input-element_dist_index_js-node_modules_github_remote-inp-b5f1d7-514a92c925f0.js" defer="defer"></script>
<script crossorigin="anonymous" type="application/javascript" src="https://github.githubassets.com/assets/vendors-node_modules_github_markdown-toolbar-element_dist_index_js-6a8c7d9a08fe.js" defer="defer"></script>
<script crossorigin="anonymous" type="application/javascript" src="https://github.githubassets.com/assets/vendors-node_modules_github_file-attachment-element_dist_index_js-node_modules_primer_view-co-f03a40-c631b99b0f08.js" defer="defer"></script>
<script crossorigin="anonymous" type="application/javascript" src="https://github.githubassets.com/assets/github-elements-6f8fcdbbf55a.js" defer="defer"></script>
<script crossorigin="anonymous" type="application/javascript" src="https://github.githubassets.com/assets/element-registry-744e39efb5f4.js" defer="defer"></script>
<script crossorigin="anonymous" type="application/javascript" src="https://github.githubassets.com/assets/vendors-node_modules_braintree_browser-detection_dist_browser-detection_js-node_modules_githu-bb80ec-34c4b68b1dd3.js" defer="defer"></script>
<script crossorigin="anonymous" type="application/javascript" src="https://github.githubassets.com/assets/vendors-node_modules_lit-html_lit-html_js-b93a87060d31.js" defer="defer"></script>
<script crossorigin="anonymous" type="application/javascript" src="https://github.githubassets.com/assets/vendors-node_modules_morphdom_dist_morphdom-esm_js-300e8e4e0414.js" defer="defer"></script>
<script crossorigin="anonymous" type="application/javascript" src="https://github.githubassets.com/assets/vendors-node_modules_github_turbo_dist_turbo_es2017-esm_js-595819d3686f.js" defer="defer"></script>
<script crossorigin="anonymous" type="application/javascript" src="https://github.githubassets.com/assets/vendors-node_modules_github_remote-form_dist_index_js-node_modules_delegated-events_dist_inde-893f9f-5f044d8dcee3.js" defer="defer"></script>
<script crossorigin="anonymous" type="application/javascript" src="https://github.githubassets.com/assets/vendors-node_modules_github_quote-selection_dist_index_js-node_modules_github_session-resume_-c39857-68019bebf97d.js" defer="defer"></script>
<script crossorigin="anonymous" type="application/javascript" src="https://github.githubassets.com/assets/ui_packages_updatable-content_updatable-content_ts-19a9ffc8367b.js" defer="defer"></script>
<script crossorigin="anonymous" type="application/javascript" src="https://github.githubassets.com/assets/app_assets_modules_github_behaviors_task-list_ts-app_assets_modules_github_sso_ts-ui_packages-900dde-f953ddf42948.js" defer="defer"></script>
<script crossorigin="anonymous" type="application/javascript" src="https://github.githubassets.com/assets/app_assets_modules_github_sticky-scroll-into-view_ts-c9618dd6662a.js" defer="defer"></script>
<script crossorigin="anonymous" type="application/javascript" src="https://github.githubassets.com/assets/app_assets_modules_github_behaviors_ajax-error_ts-app_assets_modules_github_behaviors_include-d0d0a6-a7da4270c5f4.js" defer="defer"></script>
<script crossorigin="anonymous" type="application/javascript" src="https://github.githubassets.com/assets/app_assets_modules_github_behaviors_commenting_edit_ts-app_assets_modules_github_behaviors_ht-83c235-567e0f340e27.js" defer="defer"></script>
<script crossorigin="anonymous" type="application/javascript" src="https://github.githubassets.com/assets/behaviors-625d7495b728.js" defer="defer"></script>
<script crossorigin="anonymous" type="application/javascript" src="https://github.githubassets.com/assets/vendors-node_modules_delegated-events_dist_index_js-node_modules_github_catalyst_lib_index_js-ea8eaa-a4bd0b8e9717.js" defer="defer"></script>
<script crossorigin="anonymous" type="application/javascript" src="https://github.githubassets.com/assets/notifications-global-ddd47578369b.js" defer="defer"></script>
<script crossorigin="anonymous" type="application/javascript" src="https://github.githubassets.com/assets/vendors-node_modules_github_mini-throttle_dist_index_js-node_modules_github_catalyst_lib_inde-dbbea9-558c1f223d1d.js" defer="defer"></script>
<script crossorigin="anonymous" type="application/javascript" src="https://github.githubassets.com/assets/code-menu-5153545f9e1f.js" defer="defer"></script>
  
  <script crossorigin="anonymous" type="application/javascript" src="https://github.githubassets.com/assets/primer-react-e3f517d7be60.js" defer="defer"></script>
<script crossorigin="anonymous" type="application/javascript" src="https://github.githubassets.com/assets/react-core-da8e42da9f7f.js" defer="defer"></script>
<script crossorigin="anonymous" type="application/javascript" src="https://github.githubassets.com/assets/react-lib-8705026b409a.js" defer="defer"></script>
<script crossorigin="anonymous" type="application/javascript" src="https://github.githubassets.com/assets/octicons-react-d5df7319196a.js" defer="defer"></script>
<script crossorigin="anonymous" type="application/javascript" src="https://github.githubassets.com/assets/vendors-node_modules_emotion_is-prop-valid_dist_emotion-is-prop-valid_esm_js-node_modules_emo-1fff13-e90c4f4db816.js" defer="defer"></script>
<script crossorigin="anonymous" type="application/javascript" src="https://github.githubassets.com/assets/vendors-node_modules_tanstack_query-core_build_modern_queryClient_js-f747879a83cf.js" defer="defer"></script>
<script crossorigin="anonymous" type="application/javascript" src="https://github.githubassets.com/assets/vendors-node_modules_dompurify_dist_purify_es_mjs-7457ebdd1a1f.js" defer="defer"></script>
<script crossorigin="anonymous" type="application/javascript" src="https://github.githubassets.com/assets/vendors-node_modules_github_hydro-analytics-client_dist_analytics-client_js-node_modules_gith-d2d5b7-d1ead38b2474.js" defer="defer"></script>
<script crossorigin="anonymous" type="application/javascript" src="https://github.githubassets.com/assets/vendors-node_modules_lodash-es__Stack_js-node_modules_lodash-es__Uint8Array_js-node_modules_l-4faaa6-16c4e2c524de.js" defer="defer"></script>
<script crossorigin="anonymous" type="application/javascript" src="https://github.githubassets.com/assets/vendors-node_modules_tanstack_react-virtual_dist_esm_index_js-807aab04afeb.js" defer="defer"></script>
<script crossorigin="anonymous" type="application/javascript" src="https://github.githubassets.com/assets/vendors-node_modules_github_catalyst_lib_index_js-node_modules_lodash-es__baseIsEqual_js-5a1e4257e977.js" defer="defer"></script>
<script crossorigin="anonymous" type="application/javascript" src="https://github.githubassets.com/assets/vendors-node_modules_focus-visible_dist_focus-visible_js-node_modules_fzy_js_index_js-node_mo-b36da9-89c0fa93d060.js" defer="defer"></script>
<script crossorigin="anonymous" type="application/javascript" src="https://github.githubassets.com/assets/ui_packages_paths_index_ts-02903aca93fb.js" defer="defer"></script>
<script crossorigin="anonymous" type="application/javascript" src="https://github.githubassets.com/assets/ui_packages_document-metadata_document-metadata_ts-ui_packages_fetch-headers_fetch-headers_ts-57e0e0-bed68ec00644.js" defer="defer"></script>
<script crossorigin="anonymous" type="application/javascript" src="https://github.githubassets.com/assets/ui_packages_ref-selector_RefSelector_tsx-49a575c6713c.js" defer="defer"></script>
<script crossorigin="anonymous" type="application/javascript" src="https://github.githubassets.com/assets/ui_packages_commit-attribution_index_ts-ui_packages_commit-checks-status_index_ts-ui_packages-762eaa-7c0cb4bd2b5c.js" defer="defer"></script>
<script crossorigin="anonymous" type="application/javascript" src="https://github.githubassets.com/assets/ui_packages_app-uuid_app-uuid_ts-ui_packages_repos-file-tree-view_repos-file-tree-view_ts-ui_-e7c631-bae3635f2779.js" defer="defer"></script>
<script crossorigin="anonymous" type="application/javascript" src="https://github.githubassets.com/assets/ui_packages_code-view-shared_hooks_use-canonical-object_ts-ui_packages_code-view-shared_hooks-96ec19-ae69c1d6d8ce.js" defer="defer"></script>
<script crossorigin="anonymous" type="application/javascript" src="https://github.githubassets.com/assets/ui_packages_diffs_diff-parts_ts-21b2322bf20d.js" defer="defer"></script>
<script crossorigin="anonymous" type="application/javascript" src="https://github.githubassets.com/assets/app_assets_modules_react-code-view_utilities_lines_ts-83e8972e3303.js" defer="defer"></script>
<script crossorigin="anonymous" type="application/javascript" src="https://github.githubassets.com/assets/ui_packages_code-nav_code-nav_ts-ui_packages_filter-sort_filter-sort_ts-ui_packages_fuzzy-fil-1f9dbe-90a25aafe017.js" defer="defer"></script>
<script crossorigin="anonymous" type="application/javascript" src="https://github.githubassets.com/assets/react-code-view-04d1b806f918.js" defer="defer"></script>
<link crossorigin="anonymous" media="all" rel="stylesheet" href="https://github.githubassets.com/assets/primer-react.260d30274859410b0337.module.css" />
<link crossorigin="anonymous" media="all" rel="stylesheet" href="https://github.githubassets.com/assets/react-code-view.76f019fa552874dd1b3a.module.css" />


  <title>2025-team-F/examples/tf_fine_tune_model.ipynb at restructuring · SPARC-FAIR-Codeathon/2025-team-F</title>



  <meta name="route-pattern" content="/:user_id/:repository/blob/*name(/*path)" data-turbo-transient>
  <meta name="route-controller" content="blob" data-turbo-transient>
  <meta name="route-action" content="show" data-turbo-transient>
  <meta name="fetch-nonce" content="v2:f1949f1a-672c-e7f0-8d78-691590dbac59">

    
  <meta name="current-catalog-service-hash" content="f3abb0cc802f3d7b95fc8762b94bdcb13bf39634c40c357301c4aa1d67a256fb">


  <meta name="request-id" content="0940:37A7EC:3F7564:49BF65:68918038" data-turbo-transient="true" /><meta name="html-safe-nonce" content="e01e9a43f415a3a7150cf864373c00cb93267cb47abe9cf400d913114c83fbaf" data-turbo-transient="true" /><meta name="visitor-payload" content="eyJyZWZlcnJlciI6Imh0dHBzOi8vZ2l0aHViLmNvbS9TUEFSQy1GQUlSLUNvZGVhdGhvbi8yMDI1LXRlYW0tRi90cmVlL3Jlc3RydWN0dXJpbmcvZXhhbXBsZXMiLCJyZXF1ZXN0X2lkIjoiMDk0MDozN0E3RUM6M0Y3NTY0OjQ5QkY2NTo2ODkxODAzOCIsInZpc2l0b3JfaWQiOiIzNTc1NzgxNzY3MTIzNDA0MTY2IiwicmVnaW9uX2VkZ2UiOiJhdXN0cmFsaWFlYXN0IiwicmVnaW9uX3JlbmRlciI6ImlhZCJ9" data-turbo-transient="true" /><meta name="visitor-hmac" content="f40b87afe6eec9f02f762d3b109beef0cf558864cb93d1cdc6f433db4bfb407a" data-turbo-transient="true" />


    <meta name="hovercard-subject-tag" content="repository:1028403411" data-turbo-transient>


  <meta name="github-keyboard-shortcuts" content="repository,source-code,file-tree,copilot" data-turbo-transient="true" />
  

  <meta name="selected-link" value="repo_source" data-turbo-transient>
  <link rel="assets" href="https://github.githubassets.com/">

    <meta name="google-site-verification" content="Apib7-x98H0j5cPqHWwSMm6dNU4GmODRoqxLiDzdx9I">

<meta name="octolytics-url" content="https://collector.github.com/github/collect" /><meta name="octolytics-actor-id" content="25015754" /><meta name="octolytics-actor-login" content="OmkarAthavale" /><meta name="octolytics-actor-hash" content="f29c84683f7527fdbaf993735fb1702eae0926eef7fa12f98c16d6c4069e1cf9" />

  <meta name="analytics-location" content="/&lt;user-name&gt;/&lt;repo-name&gt;/blob/show" data-turbo-transient="true" />

  




    <meta name="user-login" content="OmkarAthavale">

  <link rel="sudo-modal" href="/sessions/sudo_modal">

    <meta name="viewport" content="width=device-width">

    

      <meta name="description" content="Contribute to SPARC-FAIR-Codeathon/2025-team-F development by creating an account on GitHub.">

      <link rel="search" type="application/opensearchdescription+xml" href="/opensearch.xml" title="GitHub">

    <link rel="fluid-icon" href="https://github.com/fluidicon.png" title="GitHub">
    <meta property="fb:app_id" content="1401488693436528">
    <meta name="apple-itunes-app" content="app-id=1477376905, app-argument=https://github.com/SPARC-FAIR-Codeathon/2025-team-F/blob/restructuring/examples/tf_fine_tune_model.ipynb" />

      <meta name="twitter:image" content="https://opengraph.githubassets.com/3907d70411f9bc12d9a671c26b799d6260c1415d3158b3679f5fc4cc177cf037/SPARC-FAIR-Codeathon/2025-team-F" /><meta name="twitter:site" content="@github" /><meta name="twitter:card" content="summary_large_image" /><meta name="twitter:title" content="2025-team-F/examples/tf_fine_tune_model.ipynb at restructuring · SPARC-FAIR-Codeathon/2025-team-F" /><meta name="twitter:description" content="Contribute to SPARC-FAIR-Codeathon/2025-team-F development by creating an account on GitHub." />
  <meta property="og:image" content="https://opengraph.githubassets.com/3907d70411f9bc12d9a671c26b799d6260c1415d3158b3679f5fc4cc177cf037/SPARC-FAIR-Codeathon/2025-team-F" /><meta property="og:image:alt" content="Contribute to SPARC-FAIR-Codeathon/2025-team-F development by creating an account on GitHub." /><meta property="og:image:width" content="1200" /><meta property="og:image:height" content="600" /><meta property="og:site_name" content="GitHub" /><meta property="og:type" content="object" /><meta property="og:title" content="2025-team-F/examples/tf_fine_tune_model.ipynb at restructuring · SPARC-FAIR-Codeathon/2025-team-F" /><meta property="og:url" content="https://github.com/SPARC-FAIR-Codeathon/2025-team-F/blob/restructuring/examples/tf_fine_tune_model.ipynb" /><meta property="og:description" content="Contribute to SPARC-FAIR-Codeathon/2025-team-F development by creating an account on GitHub." />
  


      <link rel="shared-web-socket" href="wss://alive.github.com/_sockets/u/25015754/ws?session=eyJ2IjoiVjMiLCJ1IjoyNTAxNTc1NCwicyI6MTc1MzMyNzgxNCwiYyI6MzIwNTcyMDMwMSwidCI6MTc1NDM2NjAxM30=--00246d6842133b7b0e1b6463b89560dd054d6797b7179f3935a03d726548dc3a" data-refresh-url="/_alive" data-session-id="a1229148936b0dea618c3e4380e5c443ec08e01199377b83b24674956dab6780">
      <link rel="shared-web-socket-src" href="/assets-cdn/worker/socket-worker-9b665c8109c8.js">


      <meta name="hostname" content="github.com">


      <meta name="keyboard-shortcuts-preference" content="all">
      <meta name="hovercards-preference" content="true">
      <meta name="announcement-preference-hovercard" content="true">

        <meta name="expected-hostname" content="github.com">


  <meta http-equiv="x-pjax-version" content="ffff4effbf138b99d05e6269385ee5862599e294d3f22a9f9d9e3d35b0c33b64" data-turbo-track="reload">
  <meta http-equiv="x-pjax-csp-version" content="8fba9c9418de26103e6176951dd0c38780be21b972f2019085dee08622fdb843" data-turbo-track="reload">
  <meta http-equiv="x-pjax-css-version" content="8c820ad27b0bd4244ace76eb1536212c6668fe8a77a2370374b9dd630d72e0fe" data-turbo-track="reload">
  <meta http-equiv="x-pjax-js-version" content="45ce7b2b519833fe05fb15038a4a1335f6e5da14ca8907911aec1734cb79f648" data-turbo-track="reload">

  <meta name="turbo-cache-control" content="no-preview" data-turbo-transient="">

      <meta name="turbo-cache-control" content="no-cache" data-turbo-transient>

    <meta data-hydrostats="publish">

  <meta name="go-import" content="github.com/SPARC-FAIR-Codeathon/2025-team-F git https://github.com/SPARC-FAIR-Codeathon/2025-team-F.git">

  <meta name="octolytics-dimension-user_id" content="86933347" /><meta name="octolytics-dimension-user_login" content="SPARC-FAIR-Codeathon" /><meta name="octolytics-dimension-repository_id" content="1028403411" /><meta name="octolytics-dimension-repository_nwo" content="SPARC-FAIR-Codeathon/2025-team-F" /><meta name="octolytics-dimension-repository_public" content="true" /><meta name="octolytics-dimension-repository_is_fork" content="false" /><meta name="octolytics-dimension-repository_network_root_id" content="1028403411" /><meta name="octolytics-dimension-repository_network_root_nwo" content="SPARC-FAIR-Codeathon/2025-team-F" />



    

    <meta name="turbo-body-classes" content="logged-in env-production page-responsive">


  <meta name="browser-stats-url" content="https://api.github.com/_private/browser/stats">

  <meta name="browser-errors-url" content="https://api.github.com/_private/browser/errors">

  <meta name="release" content="ee85174bb996345a1a20df8ae25a1891b555dd5f">
  <meta name="ui-target" content="full">

  <link rel="mask-icon" href="https://github.githubassets.com/assets/pinned-octocat-093da3e6fa40.svg" color="#000000">
  <link rel="alternate icon" class="js-site-favicon" type="image/png" href="https://github.githubassets.com/favicons/favicon.png">
  <link rel="icon" class="js-site-favicon" type="image/svg+xml" href="https://github.githubassets.com/favicons/favicon.svg" data-base-href="https://github.githubassets.com/favicons/favicon">

<meta name="theme-color" content="#1e2327">
<meta name="color-scheme" content="light dark" />

  <meta name="msapplication-TileImage" content="/windows-tile.png">
  <meta name="msapplication-TileColor" content="#ffffff">

  <link rel="manifest" href="/manifest.json" crossOrigin="use-credentials">

  </head>

  <body class="logged-in env-production page-responsive" style="word-wrap: break-word;">
    <div data-turbo-body class="logged-in env-production page-responsive" style="word-wrap: break-word;">
      



    <div class="position-relative header-wrapper js-header-wrapper ">
      <a href="#start-of-content" data-skip-target-assigned="false" class="p-3 color-bg-accent-emphasis color-fg-on-emphasis show-on-focus js-skip-to-content">Skip to content</a>

      <span data-view-component="true" class="progress-pjax-loader Progress position-fixed width-full">
    <span style="width: 0%;" data-view-component="true" class="Progress-item progress-pjax-loader-bar left-0 top-0 color-bg-accent-emphasis"></span>
</span>      
      
      <link crossorigin="anonymous" media="all" rel="stylesheet" href="https://github.githubassets.com/assets/primer-react.260d30274859410b0337.module.css" />
<link crossorigin="anonymous" media="all" rel="stylesheet" href="https://github.githubassets.com/assets/keyboard-shortcuts-dialog.f8fba3bd67fe74f9227b.module.css" />

<react-partial
  partial-name="keyboard-shortcuts-dialog"
  data-ssr="false"
  data-attempted-ssr="false"
  data-react-profiling="false"
>
  
  <script type="application/json" data-target="react-partial.embeddedData">{"props":{"docsUrl":"https://docs.github.com/get-started/accessibility/keyboard-shortcuts"}}</script>
  <div data-target="react-partial.reactRoot"></div>
</react-partial>




      

          

              <header class="AppHeader" role="banner">
  <h2 class="sr-only">Navigation Menu</h2>


    

    <div class="AppHeader-globalBar pb-2 js-global-bar">
      <div class="AppHeader-globalBar-start responsive-context-region">
        <div class="">
            <deferred-side-panel data-url="/_side-panels/global">
  <include-fragment data-target="deferred-side-panel.fragment" data-nonce="v2:f1949f1a-672c-e7f0-8d78-691590dbac59" data-view-component="true">
  
      <button aria-label="Open global navigation menu" data-action="click:deferred-side-panel#loadPanel click:deferred-side-panel#panelOpened" data-show-dialog-id="dialog-d37aa1e9-6f31-4ce9-8463-6a5eb6525586" id="dialog-show-dialog-d37aa1e9-6f31-4ce9-8463-6a5eb6525586" type="button" data-view-component="true" class="Button Button--iconOnly Button--secondary Button--medium AppHeader-button p-0 color-fg-muted">  <svg aria-hidden="true" height="16" viewBox="0 0 16 16" version="1.1" width="16" data-view-component="true" class="octicon octicon-three-bars Button-visual">
    <path d="M1 2.75A.75.75 0 0 1 1.75 2h12.5a.75.75 0 0 1 0 1.5H1.75A.75.75 0 0 1 1 2.75Zm0 5A.75.75 0 0 1 1.75 7h12.5a.75.75 0 0 1 0 1.5H1.75A.75.75 0 0 1 1 7.75ZM1.75 12h12.5a.75.75 0 0 1 0 1.5H1.75a.75.75 0 0 1 0-1.5Z"></path>
</svg>
</button>

<dialog-helper>
  <dialog data-target="deferred-side-panel.panel" id="dialog-d37aa1e9-6f31-4ce9-8463-6a5eb6525586" aria-modal="true" aria-labelledby="dialog-d37aa1e9-6f31-4ce9-8463-6a5eb6525586-title" aria-describedby="dialog-d37aa1e9-6f31-4ce9-8463-6a5eb6525586-description" data-view-component="true" class="Overlay Overlay-whenNarrow Overlay--size-small-portrait Overlay--motion-scaleFade Overlay--placement-left SidePanel Overlay--disableScroll">
    <div styles="flex-direction: row;" data-view-component="true" class="Overlay-header">
  <div class="Overlay-headerContentWrap">
    <div class="Overlay-titleWrap">
      <h1 class="Overlay-title sr-only" id="dialog-d37aa1e9-6f31-4ce9-8463-6a5eb6525586-title">
        Global navigation
      </h1>
            <div data-view-component="true" class="d-flex">
      <div data-view-component="true" class="AppHeader-logo position-relative">
        <svg aria-hidden="true" height="24" viewBox="0 0 24 24" version="1.1" width="24" data-view-component="true" class="octicon octicon-mark-github">
    <path d="M12 1C5.923 1 1 5.923 1 12c0 4.867 3.149 8.979 7.521 10.436.55.096.756-.233.756-.522 0-.262-.013-1.128-.013-2.049-2.764.509-3.479-.674-3.699-1.292-.124-.317-.66-1.293-1.127-1.554-.385-.207-.936-.715-.014-.729.866-.014 1.485.797 1.691 1.128.99 1.663 2.571 1.196 3.204.907.096-.715.385-1.196.701-1.471-2.448-.275-5.005-1.224-5.005-5.432 0-1.196.426-2.186 1.128-2.956-.111-.275-.496-1.402.11-2.915 0 0 .921-.288 3.024 1.128a10.193 10.193 0 0 1 2.75-.371c.936 0 1.871.123 2.75.371 2.104-1.43 3.025-1.128 3.025-1.128.605 1.513.221 2.64.111 2.915.701.77 1.127 1.747 1.127 2.956 0 4.222-2.571 5.157-5.019 5.432.399.344.743 1.004.743 2.035 0 1.471-.014 2.654-.014 3.025 0 .289.206.632.756.522C19.851 20.979 23 16.854 23 12c0-6.077-4.922-11-11-11Z"></path>
</svg>
</div></div>
    </div>
    <div class="Overlay-actionWrap">
      <button data-close-dialog-id="dialog-d37aa1e9-6f31-4ce9-8463-6a5eb6525586" aria-label="Close" aria-label="Close" type="button" data-view-component="true" class="close-button Overlay-closeButton"><svg aria-hidden="true" height="16" viewBox="0 0 16 16" version="1.1" width="16" data-view-component="true" class="octicon octicon-x">
    <path d="M3.72 3.72a.75.75 0 0 1 1.06 0L8 6.94l3.22-3.22a.749.749 0 0 1 1.275.326.749.749 0 0 1-.215.734L9.06 8l3.22 3.22a.749.749 0 0 1-.326 1.275.749.749 0 0 1-.734-.215L8 9.06l-3.22 3.22a.751.751 0 0 1-1.042-.018.751.751 0 0 1-.018-1.042L6.94 8 3.72 4.78a.75.75 0 0 1 0-1.06Z"></path>
</svg></button>
    </div>
  </div>
  
</div>
      <scrollable-region data-labelled-by="dialog-d37aa1e9-6f31-4ce9-8463-6a5eb6525586-title">
        <div data-view-component="true" class="Overlay-body d-flex flex-column px-2">    <div data-view-component="true" class="d-flex flex-column mb-3">
        <nav aria-label="Site navigation" data-view-component="true" class="ActionList">
  
  <nav-list>
    <ul data-target="nav-list.topLevelList" data-view-component="true" class="ActionListWrap">
        
          
<li data-item-id="" data-targets="nav-list.items" data-view-component="true" class="ActionListItem">
    
    
    <a data-hotkey="g d" data-analytics-event="{&quot;category&quot;:&quot;Global navigation&quot;,&quot;action&quot;:&quot;HOME&quot;,&quot;label&quot;:null}" id="item-1a703877-12a3-449a-822d-0bf67ff49ef7" href="/dashboard" data-view-component="true" class="ActionListContent ActionListContent--visual16">
        <span class="ActionListItem-visual ActionListItem-visual--leading">
          <svg aria-hidden="true" height="16" viewBox="0 0 16 16" version="1.1" width="16" data-view-component="true" class="octicon octicon-home">
    <path d="M6.906.664a1.749 1.749 0 0 1 2.187 0l5.25 4.2c.415.332.657.835.657 1.367v7.019A1.75 1.75 0 0 1 13.25 15h-3.5a.75.75 0 0 1-.75-.75V9H7v5.25a.75.75 0 0 1-.75.75h-3.5A1.75 1.75 0 0 1 1 13.25V6.23c0-.531.242-1.034.657-1.366l5.25-4.2Zm1.25 1.171a.25.25 0 0 0-.312 0l-5.25 4.2a.25.25 0 0 0-.094.196v7.019c0 .138.112.25.25.25H5.5V8.25a.75.75 0 0 1 .75-.75h3.5a.75.75 0 0 1 .75.75v5.25h2.75a.25.25 0 0 0 .25-.25V6.23a.25.25 0 0 0-.094-.195Z"></path>
</svg>
        </span>
      
        <span data-view-component="true" class="ActionListItem-label">
          Home
</span>      
</a>
  
</li>

        
          
<li data-item-id="" data-targets="nav-list.items" data-view-component="true" class="ActionListItem">
    
    
    <a data-hotkey="g i" data-analytics-event="{&quot;category&quot;:&quot;Global navigation&quot;,&quot;action&quot;:&quot;ISSUES&quot;,&quot;label&quot;:null}" id="item-d80a1631-10a8-4d8f-91c8-4f27e4d4b635" href="/issues" data-view-component="true" class="ActionListContent ActionListContent--visual16">
        <span class="ActionListItem-visual ActionListItem-visual--leading">
          <svg aria-hidden="true" height="16" viewBox="0 0 16 16" version="1.1" width="16" data-view-component="true" class="octicon octicon-issue-opened">
    <path d="M8 9.5a1.5 1.5 0 1 0 0-3 1.5 1.5 0 0 0 0 3Z"></path><path d="M8 0a8 8 0 1 1 0 16A8 8 0 0 1 8 0ZM1.5 8a6.5 6.5 0 1 0 13 0 6.5 6.5 0 0 0-13 0Z"></path>
</svg>
        </span>
      
        <span data-view-component="true" class="ActionListItem-label">
          Issues
</span>      
</a>
  
</li>

        
          
<li data-item-id="" data-targets="nav-list.items" data-view-component="true" class="ActionListItem">
    
    
    <a data-hotkey="g p" data-analytics-event="{&quot;category&quot;:&quot;Global navigation&quot;,&quot;action&quot;:&quot;PULL_REQUESTS&quot;,&quot;label&quot;:null}" id="item-6a778b7b-3c3f-4e41-8e4f-82ddfe645d63" href="/pulls" data-view-component="true" class="ActionListContent ActionListContent--visual16">
        <span class="ActionListItem-visual ActionListItem-visual--leading">
          <svg aria-hidden="true" height="16" viewBox="0 0 16 16" version="1.1" width="16" data-view-component="true" class="octicon octicon-git-pull-request">
    <path d="M1.5 3.25a2.25 2.25 0 1 1 3 2.122v5.256a2.251 2.251 0 1 1-1.5 0V5.372A2.25 2.25 0 0 1 1.5 3.25Zm5.677-.177L9.573.677A.25.25 0 0 1 10 .854V2.5h1A2.5 2.5 0 0 1 13.5 5v5.628a2.251 2.251 0 1 1-1.5 0V5a1 1 0 0 0-1-1h-1v1.646a.25.25 0 0 1-.427.177L7.177 3.427a.25.25 0 0 1 0-.354ZM3.75 2.5a.75.75 0 1 0 0 1.5.75.75 0 0 0 0-1.5Zm0 9.5a.75.75 0 1 0 0 1.5.75.75 0 0 0 0-1.5Zm8.25.75a.75.75 0 1 0 1.5 0 .75.75 0 0 0-1.5 0Z"></path>
</svg>
        </span>
      
        <span data-view-component="true" class="ActionListItem-label">
          Pull requests
</span>      
</a>
  
</li>

        
          
<li data-item-id="" data-targets="nav-list.items" data-item-id="projects" data-view-component="true" class="ActionListItem">
    
    
    <a data-analytics-event="{&quot;category&quot;:&quot;Global navigation&quot;,&quot;action&quot;:&quot;PROJECTS&quot;,&quot;label&quot;:null}" id="item-0ae013cb-53ec-47b6-a2eb-afb5ee4426d7" href="/projects" data-view-component="true" class="ActionListContent ActionListContent--visual16">
        <span class="ActionListItem-visual ActionListItem-visual--leading">
          <svg aria-hidden="true" height="16" viewBox="0 0 16 16" version="1.1" width="16" data-view-component="true" class="octicon octicon-table">
    <path d="M0 1.75C0 .784.784 0 1.75 0h12.5C15.216 0 16 .784 16 1.75v12.5A1.75 1.75 0 0 1 14.25 16H1.75A1.75 1.75 0 0 1 0 14.25ZM6.5 6.5v8h7.75a.25.25 0 0 0 .25-.25V6.5Zm8-1.5V1.75a.25.25 0 0 0-.25-.25H6.5V5Zm-13 1.5v7.75c0 .138.112.25.25.25H5v-8ZM5 5V1.5H1.75a.25.25 0 0 0-.25.25V5Z"></path>
</svg>
        </span>
      
        <span data-view-component="true" class="ActionListItem-label">
          Projects
</span>      
</a>
  
</li>

        
          
<li data-item-id="" data-targets="nav-list.items" data-view-component="true" class="ActionListItem">
    
    
    <a data-analytics-event="{&quot;category&quot;:&quot;Global navigation&quot;,&quot;action&quot;:&quot;DISCUSSIONS&quot;,&quot;label&quot;:null}" id="item-a9beb8fa-54d9-4ab8-a558-19e49dbed5ea" href="/discussions" data-view-component="true" class="ActionListContent ActionListContent--visual16">
        <span class="ActionListItem-visual ActionListItem-visual--leading">
          <svg aria-hidden="true" height="16" viewBox="0 0 16 16" version="1.1" width="16" data-view-component="true" class="octicon octicon-comment-discussion">
    <path d="M1.75 1h8.5c.966 0 1.75.784 1.75 1.75v5.5A1.75 1.75 0 0 1 10.25 10H7.061l-2.574 2.573A1.458 1.458 0 0 1 2 11.543V10h-.25A1.75 1.75 0 0 1 0 8.25v-5.5C0 1.784.784 1 1.75 1ZM1.5 2.75v5.5c0 .138.112.25.25.25h1a.75.75 0 0 1 .75.75v2.19l2.72-2.72a.749.749 0 0 1 .53-.22h3.5a.25.25 0 0 0 .25-.25v-5.5a.25.25 0 0 0-.25-.25h-8.5a.25.25 0 0 0-.25.25Zm13 2a.25.25 0 0 0-.25-.25h-.5a.75.75 0 0 1 0-1.5h.5c.966 0 1.75.784 1.75 1.75v5.5A1.75 1.75 0 0 1 14.25 12H14v1.543a1.458 1.458 0 0 1-2.487 1.03L9.22 12.28a.749.749 0 0 1 .326-1.275.749.749 0 0 1 .734.215l2.22 2.22v-2.19a.75.75 0 0 1 .75-.75h1a.25.25 0 0 0 .25-.25Z"></path>
</svg>
        </span>
      
        <span data-view-component="true" class="ActionListItem-label">
          Discussions
</span>      
</a>
  
</li>

        
          
<li data-item-id="" data-targets="nav-list.items" data-view-component="true" class="ActionListItem">
    
    
    <a data-analytics-event="{&quot;category&quot;:&quot;Global navigation&quot;,&quot;action&quot;:&quot;CODESPACES&quot;,&quot;label&quot;:null}" id="item-2ea8434a-d573-4233-9116-d8907a6c10b2" href="https://github.com/codespaces" data-view-component="true" class="ActionListContent ActionListContent--visual16">
        <span class="ActionListItem-visual ActionListItem-visual--leading">
          <svg aria-hidden="true" height="16" viewBox="0 0 16 16" version="1.1" width="16" data-view-component="true" class="octicon octicon-codespaces">
    <path d="M0 11.25c0-.966.784-1.75 1.75-1.75h12.5c.966 0 1.75.784 1.75 1.75v3A1.75 1.75 0 0 1 14.25 16H1.75A1.75 1.75 0 0 1 0 14.25Zm2-9.5C2 .784 2.784 0 3.75 0h8.5C13.216 0 14 .784 14 1.75v5a1.75 1.75 0 0 1-1.75 1.75h-8.5A1.75 1.75 0 0 1 2 6.75Zm1.75-.25a.25.25 0 0 0-.25.25v5c0 .138.112.25.25.25h8.5a.25.25 0 0 0 .25-.25v-5a.25.25 0 0 0-.25-.25Zm-2 9.5a.25.25 0 0 0-.25.25v3c0 .138.112.25.25.25h12.5a.25.25 0 0 0 .25-.25v-3a.25.25 0 0 0-.25-.25Z"></path><path d="M7 12.75a.75.75 0 0 1 .75-.75h4.5a.75.75 0 0 1 0 1.5h-4.5a.75.75 0 0 1-.75-.75Zm-4 0a.75.75 0 0 1 .75-.75h.5a.75.75 0 0 1 0 1.5h-.5a.75.75 0 0 1-.75-.75Z"></path>
</svg>
        </span>
      
        <span data-view-component="true" class="ActionListItem-label">
          Codespaces
</span>      
</a>
  
</li>

        
          <li role="presentation" aria-hidden="true" data-view-component="true" class="ActionList-sectionDivider hide-whenRegular"></li>
        
          
<li data-item-id="" data-targets="nav-list.items" data-view-component="true" class="ActionListItem">
    
    
    <a data-analytics-event="{&quot;category&quot;:&quot;Global navigation&quot;,&quot;action&quot;:&quot;COPILOT&quot;,&quot;label&quot;:null}" id="item-ee902fa5-72ec-4dc1-a4af-cc52e31a8e14" href="/copilot" data-view-component="true" class="ActionListContent ActionListContent--visual16">
        <span class="ActionListItem-visual ActionListItem-visual--leading">
          <svg aria-hidden="true" height="16" viewBox="0 0 16 16" version="1.1" width="16" data-view-component="true" class="octicon octicon-copilot">
    <path d="M7.998 15.035c-4.562 0-7.873-2.914-7.998-3.749V9.338c.085-.628.677-1.686 1.588-2.065.013-.07.024-.143.036-.218.029-.183.06-.384.126-.612-.201-.508-.254-1.084-.254-1.656 0-.87.128-1.769.693-2.484.579-.733 1.494-1.124 2.724-1.261 1.206-.134 2.262.034 2.944.765.05.053.096.108.139.165.044-.057.094-.112.143-.165.682-.731 1.738-.899 2.944-.765 1.23.137 2.145.528 2.724 1.261.566.715.693 1.614.693 2.484 0 .572-.053 1.148-.254 1.656.066.228.098.429.126.612.012.076.024.148.037.218.924.385 1.522 1.471 1.591 2.095v1.872c0 .766-3.351 3.795-8.002 3.795Zm0-1.485c2.28 0 4.584-1.11 5.002-1.433V7.862l-.023-.116c-.49.21-1.075.291-1.727.291-1.146 0-2.059-.327-2.71-.991A3.222 3.222 0 0 1 8 6.303a3.24 3.24 0 0 1-.544.743c-.65.664-1.563.991-2.71.991-.652 0-1.236-.081-1.727-.291l-.023.116v4.255c.419.323 2.722 1.433 5.002 1.433ZM6.762 2.83c-.193-.206-.637-.413-1.682-.297-1.019.113-1.479.404-1.713.7-.247.312-.369.789-.369 1.554 0 .793.129 1.171.308 1.371.162.181.519.379 1.442.379.853 0 1.339-.235 1.638-.54.315-.322.527-.827.617-1.553.117-.935-.037-1.395-.241-1.614Zm4.155-.297c-1.044-.116-1.488.091-1.681.297-.204.219-.359.679-.242 1.614.091.726.303 1.231.618 1.553.299.305.784.54 1.638.54.922 0 1.28-.198 1.442-.379.179-.2.308-.578.308-1.371 0-.765-.123-1.242-.37-1.554-.233-.296-.693-.587-1.713-.7Z"></path><path d="M6.25 9.037a.75.75 0 0 1 .75.75v1.501a.75.75 0 0 1-1.5 0V9.787a.75.75 0 0 1 .75-.75Zm4.25.75v1.501a.75.75 0 0 1-1.5 0V9.787a.75.75 0 0 1 1.5 0Z"></path>
</svg>
        </span>
      
        <span data-view-component="true" class="ActionListItem-label">
          Copilot
</span>      
</a>
  
</li>

        
          
<li data-item-id="" data-targets="nav-list.items" data-view-component="true" class="ActionListItem hide-whenRegular">
    
    
    <a id="item-5a297ebe-b281-42fe-a765-ae63ce68771c" href="/copilot/spaces" data-view-component="true" class="ActionListContent ActionListContent--visual16">
        <span class="ActionListItem-visual ActionListItem-visual--leading">
          <svg aria-hidden="true" height="16" viewBox="0 0 16 16" version="1.1" width="16" data-view-component="true" class="octicon octicon-space">
    <path d="M0 13.25V2.75C0 1.784.784 1 1.75 1H5c.551 0 1.07.26 1.4.7l.9 1.2a.25.25 0 0 0 .2.1h6.75c.966 0 1.75.784 1.75 1.75v3.638a.75.75 0 0 1-1.5 0V4.75a.25.25 0 0 0-.25-.25H7.5a1.75 1.75 0 0 1-1.4-.7l-.9-1.2a.25.25 0 0 0-.2-.1H1.75a.25.25 0 0 0-.25.25v10.5c0 .138.112.25.25.25h5.663l.076.004a.75.75 0 0 1 0 1.492L7.413 15H1.75A1.75 1.75 0 0 1 0 13.25Z"></path><path d="M12.265 9.16a.248.248 0 0 1 .467 0l.237.649a3.726 3.726 0 0 0 2.219 2.218l.649.238a.249.249 0 0 1 0 .467l-.649.237a3.728 3.728 0 0 0-2.219 2.219l-.237.649a.249.249 0 0 1-.467 0l-.238-.649a3.726 3.726 0 0 0-2.218-2.219l-.649-.237a.248.248 0 0 1 0-.467l.649-.238a3.725 3.725 0 0 0 2.218-2.218l.238-.649Z"></path>
</svg>
        </span>
      
        <span data-view-component="true" class="ActionListItem-label">
          Spaces
</span>      
</a>
  
</li>

        
          
<li data-item-id="" data-targets="nav-list.items" data-view-component="true" class="ActionListItem ActionListItem--hasSubItem hide-whenRegular">
    
    
    <button id="item-b3dcb62d-80d0-49fc-b2d0-852f8bc32a2c" type="button" aria-expanded="false" data-action="
            click:nav-list#handleItemWithSubItemClick
            keydown:nav-list#handleItemWithSubItemKeydown
          " data-view-component="true" class="ActionListContent ActionListContent--visual16">
        <span class="ActionListItem-visual ActionListItem-visual--leading">
          <svg aria-hidden="true" height="16" viewBox="0 0 16 16" version="1.1" width="16" data-view-component="true" class="octicon octicon-download">
    <path d="M2.75 14A1.75 1.75 0 0 1 1 12.25v-2.5a.75.75 0 0 1 1.5 0v2.5c0 .138.112.25.25.25h10.5a.25.25 0 0 0 .25-.25v-2.5a.75.75 0 0 1 1.5 0v2.5A1.75 1.75 0 0 1 13.25 14Z"></path><path d="M7.25 7.689V2a.75.75 0 0 1 1.5 0v5.689l1.97-1.969a.749.749 0 1 1 1.06 1.06l-3.25 3.25a.749.749 0 0 1-1.06 0L4.22 6.78a.749.749 0 1 1 1.06-1.06l1.97 1.969Z"></path>
</svg>
        </span>
      
        <span data-view-component="true" class="ActionListItem-label">
          Download Copilot
</span>      
        <span class="ActionListItem-visual ActionListItem-action--trailing">
          <svg aria-hidden="true" height="16" viewBox="0 0 16 16" version="1.1" width="16" data-view-component="true" class="octicon octicon-chevron-down ActionListItem-collapseIcon">
    <path d="M12.78 5.22a.749.749 0 0 1 0 1.06l-4.25 4.25a.749.749 0 0 1-1.06 0L3.22 6.28a.749.749 0 1 1 1.06-1.06L8 8.939l3.72-3.719a.749.749 0 0 1 1.06 0Z"></path>
</svg>
        </span>
</button>
        <ul role="list" data-action="keydown:nav-list#handleItemWithSubItemKeydown" aria-labelledby="item-b3dcb62d-80d0-49fc-b2d0-852f8bc32a2c" data-view-component="true" class="ActionList ActionList--subGroup">
          
<li data-item-id="" data-targets="nav-list.items" data-view-component="true" class="ActionListItem--subItem ActionListItem">
    
    
    <a id="item-c897d7b0-a977-40cd-a581-eb451e66ff12" href="https://marketplace.visualstudio.com/items?itemName=GitHub.copilot" data-view-component="true" class="ActionListContent">
      
        <span data-view-component="true" class="ActionListItem-label">
          Visual Studio Code
</span>      
</a>
  
</li>

          
<li data-item-id="" data-targets="nav-list.items" data-view-component="true" class="ActionListItem--subItem ActionListItem">
    
    
    <a id="item-b4d218cb-0af0-43bd-8513-56c101653e88" href="https://visualstudio.microsoft.com/github-copilot/" data-view-component="true" class="ActionListContent">
      
        <span data-view-component="true" class="ActionListItem-label">
          Visual Studio
</span>      
</a>
  
</li>

          
<li data-item-id="" data-targets="nav-list.items" data-view-component="true" class="ActionListItem--subItem ActionListItem">
    
    
    <a id="item-7e3cd076-d677-4297-8aa8-4e6686476fed" href="https://github.com/github/CopilotForXcode" data-view-component="true" class="ActionListContent">
      
        <span data-view-component="true" class="ActionListItem-label">
          Xcode
</span>      
</a>
  
</li>

          
<li data-item-id="" data-targets="nav-list.items" data-view-component="true" class="ActionListItem--subItem ActionListItem">
    
    
    <a id="item-87d08001-8176-43cd-8296-aef9deff76a9" href="https://plugins.jetbrains.com/plugin/17718-github-copilot" data-view-component="true" class="ActionListContent">
      
        <span data-view-component="true" class="ActionListItem-label">
          JetBrains
</span>      
</a>
  
</li>

          
<li data-item-id="" data-targets="nav-list.items" data-view-component="true" class="ActionListItem--subItem ActionListItem">
    
    
    <a id="item-ae2c5c8e-b5b5-4f03-8c0f-08efe3a4a55a" href="https://github.com/github/copilot.vim" data-view-component="true" class="ActionListContent">
      
        <span data-view-component="true" class="ActionListItem-label">
          Neovim
</span>      
</a>
  
</li>

          
<li data-item-id="" data-targets="nav-list.items" data-view-component="true" class="ActionListItem--subItem ActionListItem">
    
    
    <a id="item-55030f37-361d-4887-8003-66f996154e6c" href="https://docs.github.com/en/copilot/how-tos/set-up/installing-github-copilot-in-the-cli" data-view-component="true" class="ActionListContent">
      
        <span data-view-component="true" class="ActionListItem-label">
          CLI
</span>      
</a>
  
</li>

</ul>
</li>

        
          <li role="presentation" aria-hidden="true" data-view-component="true" class="ActionList-sectionDivider"></li>
        
          
<li data-item-id="" data-targets="nav-list.items" data-view-component="true" class="ActionListItem">
    
    
    <a data-analytics-event="{&quot;category&quot;:&quot;Global navigation&quot;,&quot;action&quot;:&quot;EXPLORE&quot;,&quot;label&quot;:null}" id="item-a4489c7b-694b-46bc-8442-b2da8ce43405" href="/explore" data-view-component="true" class="ActionListContent ActionListContent--visual16">
        <span class="ActionListItem-visual ActionListItem-visual--leading">
          <svg aria-hidden="true" height="16" viewBox="0 0 16 16" version="1.1" width="16" data-view-component="true" class="octicon octicon-telescope">
    <path d="M14.184 1.143v-.001l1.422 2.464a1.75 1.75 0 0 1-.757 2.451L3.104 11.713a1.75 1.75 0 0 1-2.275-.702l-.447-.775a1.75 1.75 0 0 1 .53-2.32L11.682.573a1.748 1.748 0 0 1 2.502.57Zm-4.709 9.32h-.001l2.644 3.863a.75.75 0 1 1-1.238.848l-1.881-2.75v2.826a.75.75 0 0 1-1.5 0v-2.826l-1.881 2.75a.75.75 0 1 1-1.238-.848l2.049-2.992a.746.746 0 0 1 .293-.253l1.809-.87a.749.749 0 0 1 .944.252ZM9.436 3.92h-.001l-4.97 3.39.942 1.63 5.42-2.61Zm3.091-2.108h.001l-1.85 1.26 1.505 2.605 2.016-.97a.247.247 0 0 0 .13-.151.247.247 0 0 0-.022-.199l-1.422-2.464a.253.253 0 0 0-.161-.119.254.254 0 0 0-.197.038ZM1.756 9.157a.25.25 0 0 0-.075.33l.447.775a.25.25 0 0 0 .325.1l1.598-.769-.83-1.436-1.465 1Z"></path>
</svg>
        </span>
      
        <span data-view-component="true" class="ActionListItem-label">
          Explore
</span>      
</a>
  
</li>

        
          
<li data-item-id="" data-targets="nav-list.items" data-view-component="true" class="ActionListItem">
    
    
    <a data-analytics-event="{&quot;category&quot;:&quot;Global navigation&quot;,&quot;action&quot;:&quot;MARKETPLACE&quot;,&quot;label&quot;:null}" id="item-396539e0-f557-4795-a809-6a7d22a469f9" href="/marketplace" data-view-component="true" class="ActionListContent ActionListContent--visual16">
        <span class="ActionListItem-visual ActionListItem-visual--leading">
          <svg aria-hidden="true" height="16" viewBox="0 0 16 16" version="1.1" width="16" data-view-component="true" class="octicon octicon-gift">
    <path d="M2 2.75A2.75 2.75 0 0 1 4.75 0c.983 0 1.873.42 2.57 1.232.268.318.497.668.68 1.042.183-.375.411-.725.68-1.044C9.376.42 10.266 0 11.25 0a2.75 2.75 0 0 1 2.45 4h.55c.966 0 1.75.784 1.75 1.75v2c0 .698-.409 1.301-1 1.582v4.918A1.75 1.75 0 0 1 13.25 16H2.75A1.75 1.75 0 0 1 1 14.25V9.332C.409 9.05 0 8.448 0 7.75v-2C0 4.784.784 4 1.75 4h.55c-.192-.375-.3-.8-.3-1.25ZM7.25 9.5H2.5v4.75c0 .138.112.25.25.25h4.5Zm1.5 0v5h4.5a.25.25 0 0 0 .25-.25V9.5Zm0-4V8h5.5a.25.25 0 0 0 .25-.25v-2a.25.25 0 0 0-.25-.25Zm-7 0a.25.25 0 0 0-.25.25v2c0 .138.112.25.25.25h5.5V5.5h-5.5Zm3-4a1.25 1.25 0 0 0 0 2.5h2.309c-.233-.818-.542-1.401-.878-1.793-.43-.502-.915-.707-1.431-.707ZM8.941 4h2.309a1.25 1.25 0 0 0 0-2.5c-.516 0-1 .205-1.43.707-.337.392-.646.975-.879 1.793Z"></path>
</svg>
        </span>
      
        <span data-view-component="true" class="ActionListItem-label">
          Marketplace
</span>      
</a>
  
</li>

</ul>  </nav-list>
</nav>

        <div data-view-component="true" class="my-3 d-flex flex-justify-center height-full">
          <span data-view-component="true">
  <svg style="box-sizing: content-box; color: var(--color-icon-primary);" width="16" height="16" viewBox="0 0 16 16" fill="none" aria-hidden="true" data-view-component="true" class="anim-rotate">
    <circle cx="8" cy="8" r="7" stroke="currentColor" stroke-opacity="0.25" stroke-width="2" vector-effect="non-scaling-stroke" fill="none" />
    <path d="M15 8a7.002 7.002 0 00-7-7" stroke="currentColor" stroke-width="2" stroke-linecap="round" vector-effect="non-scaling-stroke" />
</svg>    <span class="sr-only">Loading</span>
</span>
</div>
</div>
      <div data-view-component="true" class="flex-1"></div>


      <div data-view-component="true" class="px-2">      <p class="color-fg-subtle text-small text-light">&copy; 2025 GitHub, Inc.</p>

      <div data-view-component="true" class="d-flex flex-wrap text-small text-light">
          <a target="_blank" href="https://github.com/about" data-view-component="true" class="Link mr-2">About</a>
          <a target="_blank" href="https://github.blog" data-view-component="true" class="Link mr-2">Blog</a>
          <a target="_blank" href="https://docs.github.com/site-policy/github-terms/github-terms-of-service" data-view-component="true" class="Link mr-2">Terms</a>
          <a target="_blank" href="https://docs.github.com/site-policy/privacy-policies/github-privacy-statement" data-view-component="true" class="Link mr-2">Privacy</a>
          <a target="_blank" href="https://github.com/security" data-view-component="true" class="Link mr-2">Security</a>
          <a target="_blank" href="https://www.githubstatus.com/" data-view-component="true" class="Link mr-3">Status</a>

</div></div>
</div>
      </scrollable-region>
      
</dialog></dialog-helper>


  <div data-show-on-forbidden-error hidden>
    <div class="Box">
  <div class="blankslate-container">
    <div data-view-component="true" class="blankslate blankslate-spacious color-bg-default rounded-2">
      

      <h3 data-view-component="true" class="blankslate-heading">        Uh oh!
</h3>
      <p data-view-component="true">        <p class="color-fg-muted my-2 mb-2 ws-normal">There was an error while loading. <a class="Link--inTextBlock" data-turbo="false" href="" aria-label="Please reload this page">Please reload this page</a>.</p>
</p>

</div>  </div>
</div>  </div>
</include-fragment></deferred-side-panel>
        </div>

        <a class="AppHeader-logo ml-1 "
          href="https://github.com/"
          data-hotkey="g d"
          aria-label="Homepage "
          data-turbo="false"
          data-analytics-event="{&quot;category&quot;:&quot;Header&quot;,&quot;action&quot;:&quot;go to dashboard&quot;,&quot;label&quot;:&quot;icon:logo&quot;}"
        >
          <svg height="32" aria-hidden="true" viewBox="0 0 24 24" version="1.1" width="32" data-view-component="true" class="octicon octicon-mark-github v-align-middle">
    <path d="M12 1C5.923 1 1 5.923 1 12c0 4.867 3.149 8.979 7.521 10.436.55.096.756-.233.756-.522 0-.262-.013-1.128-.013-2.049-2.764.509-3.479-.674-3.699-1.292-.124-.317-.66-1.293-1.127-1.554-.385-.207-.936-.715-.014-.729.866-.014 1.485.797 1.691 1.128.99 1.663 2.571 1.196 3.204.907.096-.715.385-1.196.701-1.471-2.448-.275-5.005-1.224-5.005-5.432 0-1.196.426-2.186 1.128-2.956-.111-.275-.496-1.402.11-2.915 0 0 .921-.288 3.024 1.128a10.193 10.193 0 0 1 2.75-.371c.936 0 1.871.123 2.75.371 2.104-1.43 3.025-1.128 3.025-1.128.605 1.513.221 2.64.111 2.915.701.77 1.127 1.747 1.127 2.956 0 4.222-2.571 5.157-5.019 5.432.399.344.743 1.004.743 2.035 0 1.471-.014 2.654-.014 3.025 0 .289.206.632.756.522C19.851 20.979 23 16.854 23 12c0-6.077-4.922-11-11-11Z"></path>
</svg>
        </a>

          <context-region-controller
  class="AppHeader-context responsive-context-region"
  data-max-items="5"
  
>
  <div class="AppHeader-context-full">
    <nav role="navigation" aria-label="GitHub Breadcrumb">
      
<context-region data-target="context-region-controller.contextRegion" role="list"  data-action="context-region-changed:context-region-controller#crumbsChanged">
    <context-region-crumb
      data-crumb-id="contextregion-usercrumb-sparc-fair-codeathon"
      data-targets="context-region.crumbs"
      data-label="SPARC-FAIR-Codeathon"
      data-href="/SPARC-FAIR-Codeathon"
      data-pre-rendered
      role="listitem"
      
    >
      <a data-target="context-region-crumb.linkElement" data-analytics-event="{&quot;category&quot;:&quot;SiteHeaderComponent&quot;,&quot;action&quot;:&quot;context_region_crumb&quot;,&quot;label&quot;:&quot;SPARC-FAIR-Codeathon&quot;,&quot;screen_size&quot;:&quot;full&quot;}" data-hovercard-type="organization" data-hovercard-url="/orgs/SPARC-FAIR-Codeathon/hovercard" data-octo-click="hovercard-link-click" data-octo-dimensions="link_type:self" href="/SPARC-FAIR-Codeathon" id="contextregion-usercrumb-sparc-fair-codeathon-link" data-view-component="true" class="AppHeader-context-item">
        <span data-target="context-region-crumb.labelElement" class="AppHeader-context-item-label ">
          SPARC-FAIR-Codeathon
        </span>

</a>
      <context-region-divider data-target="context-region-crumb.dividerElement" data-pre-rendered >
  <span class="AppHeader-context-item-separator">
    <span class="sr-only">/</span>
    <svg width="16" height="16" viewBox="0 0 16 16" xmlns="http://www.w3.org/2000/svg" aria-hidden="true">
      <path d="M10.956 1.27994L6.06418 14.7201L5 14.7201L9.89181 1.27994L10.956 1.27994Z" fill="currentcolor" />
    </svg>
  </span>
</context-region-divider>

    </context-region-crumb>

      <li data-target="context-region-controller.overflowMenuContainer context-region.overflowMenuContainer" role="listitem" hidden>
        <action-menu data-target="context-region-controller.overflowActionMenu" data-select-variant="none" data-view-component="true">
  <focus-group direction="vertical" mnemonics retain>
    <button id="action-menu-2b1b42d3-d5c1-41d7-b148-f612bdfcd2c9-button" popovertarget="action-menu-2b1b42d3-d5c1-41d7-b148-f612bdfcd2c9-overlay" aria-controls="action-menu-2b1b42d3-d5c1-41d7-b148-f612bdfcd2c9-list" aria-haspopup="true" aria-labelledby="tooltip-af1e8865-051b-47bc-a3eb-b269bb4832a9" type="button" data-view-component="true" class="Button Button--iconOnly Button--secondary Button--medium">  <svg aria-hidden="true" height="16" viewBox="0 0 16 16" version="1.1" width="16" data-view-component="true" class="octicon octicon-kebab-horizontal Button-visual">
    <path d="M8 9a1.5 1.5 0 1 0 0-3 1.5 1.5 0 0 0 0 3ZM1.5 9a1.5 1.5 0 1 0 0-3 1.5 1.5 0 0 0 0 3Zm13 0a1.5 1.5 0 1 0 0-3 1.5 1.5 0 0 0 0 3Z"></path>
</svg>
</button><tool-tip id="tooltip-af1e8865-051b-47bc-a3eb-b269bb4832a9" for="action-menu-2b1b42d3-d5c1-41d7-b148-f612bdfcd2c9-button" popover="manual" data-direction="s" data-type="label" data-view-component="true" class="sr-only position-absolute">Show more breadcrumb items</tool-tip>


<anchored-position data-target="action-menu.overlay" id="action-menu-2b1b42d3-d5c1-41d7-b148-f612bdfcd2c9-overlay" anchor="action-menu-2b1b42d3-d5c1-41d7-b148-f612bdfcd2c9-button" align="start" side="outside-bottom" anchor-offset="normal" popover="auto" data-view-component="true">
  <div data-view-component="true" class="Overlay Overlay--size-auto">
    
      <div data-view-component="true" class="Overlay-body Overlay-body--paddingNone">          <action-list>
  <div data-view-component="true">
    <ul aria-labelledby="action-menu-2b1b42d3-d5c1-41d7-b148-f612bdfcd2c9-button" id="action-menu-2b1b42d3-d5c1-41d7-b148-f612bdfcd2c9-list" role="menu" data-view-component="true" class="ActionListWrap--inset ActionListWrap">
        <li hidden="hidden" data-crumb-id="contextregion-usercrumb-sparc-fair-codeathon" data-targets="context-region.overflowCrumbs action-list.items" data-analytics-event="{&quot;category&quot;:&quot;SiteHeaderComponent&quot;,&quot;action&quot;:&quot;context_region_overflow_menu_crumb&quot;,&quot;label&quot;:&quot;global-navigation&quot;}" role="none" data-view-component="true" class="ActionListItem">
    
    
    <a tabindex="-1" id="item-8fc2134b-4a80-4bea-b549-8ab8f7f76267" href="/SPARC-FAIR-Codeathon" role="menuitem" data-view-component="true" class="ActionListContent">
      
        <span data-view-component="true" class="ActionListItem-label">
          SPARC-FAIR-Codeathon
</span>      
</a>
  
</li>
        <li hidden="hidden" data-crumb-id="contextregion-repositorycrumb-2025-team-f" data-targets="context-region.overflowCrumbs action-list.items" data-analytics-event="{&quot;category&quot;:&quot;SiteHeaderComponent&quot;,&quot;action&quot;:&quot;context_region_overflow_menu_crumb&quot;,&quot;label&quot;:&quot;global-navigation&quot;}" role="none" data-view-component="true" class="ActionListItem">
    
    
    <a tabindex="-1" id="item-62730a26-5934-4b45-904e-afd896d7f932" href="/SPARC-FAIR-Codeathon/2025-team-F" role="menuitem" data-view-component="true" class="ActionListContent">
      
        <span data-view-component="true" class="ActionListItem-label">
          2025-team-F
</span>      
</a>
  
</li>
</ul>    
</div></action-list>


</div>
      
</div></anchored-position>  </focus-group>
</action-menu>
  <context-region-divider data-target="context-region-crumb.dividerElement" data-pre-rendered >
  <span class="AppHeader-context-item-separator">
    <span class="sr-only">/</span>
    <svg width="16" height="16" viewBox="0 0 16 16" xmlns="http://www.w3.org/2000/svg" aria-hidden="true">
      <path d="M10.956 1.27994L6.06418 14.7201L5 14.7201L9.89181 1.27994L10.956 1.27994Z" fill="currentcolor" />
    </svg>
  </span>
</context-region-divider>


      </li>
    <context-region-crumb
      data-crumb-id="contextregion-repositorycrumb-2025-team-f"
      data-targets="context-region.crumbs"
      data-label="2025-team-F"
      data-href="/SPARC-FAIR-Codeathon/2025-team-F"
      data-pre-rendered
      role="listitem"
      
    >
      <a data-target="context-region-crumb.linkElement" data-analytics-event="{&quot;category&quot;:&quot;SiteHeaderComponent&quot;,&quot;action&quot;:&quot;context_region_crumb&quot;,&quot;label&quot;:&quot;2025-team-F&quot;,&quot;screen_size&quot;:&quot;full&quot;}" href="/SPARC-FAIR-Codeathon/2025-team-F" id="contextregion-repositorycrumb-2025-team-f-link" data-view-component="true" class="AppHeader-context-item">
        <span data-target="context-region-crumb.labelElement" class="AppHeader-context-item-label ">
          2025-team-F
        </span>

</a>
      <context-region-divider data-target="context-region-crumb.dividerElement" data-pre-rendered >
  <span class="AppHeader-context-item-separator">
    <span class="sr-only">/</span>
    <svg width="16" height="16" viewBox="0 0 16 16" xmlns="http://www.w3.org/2000/svg" aria-hidden="true">
      <path d="M10.956 1.27994L6.06418 14.7201L5 14.7201L9.89181 1.27994L10.956 1.27994Z" fill="currentcolor" />
    </svg>
  </span>
</context-region-divider>

    </context-region-crumb>

</context-region>

    </nav>
  </div>
</context-region-controller>

      </div>
      <div class="AppHeader-globalBar-end">
          <div class="AppHeader-search" >
              


<qbsearch-input class="search-input" data-scope="repo:SPARC-FAIR-Codeathon/2025-team-F" data-custom-scopes-path="/search/custom_scopes" data-delete-custom-scopes-csrf="mp5mgiPwEPfVOjZ74a3C7OC3TcCQzp5MqQ3EJ89PQBFC43e-oJKWis6KRgJuaj2dN6FsC8qbTMC6YbyHYMfaLg" data-max-custom-scopes="10" data-header-redesign-enabled="true" data-initial-value="" data-blackbird-suggestions-path="/search/suggestions" data-jump-to-suggestions-path="/_graphql/GetSuggestedNavigationDestinations" data-current-repository="SPARC-FAIR-Codeathon/2025-team-F" data-current-org="SPARC-FAIR-Codeathon" data-current-owner="" data-logged-in="true" data-copilot-chat-enabled="true" data-nl-search-enabled="false">
  <div
    class="search-input-container search-with-dialog position-relative d-flex flex-row flex-items-center height-auto color-bg-transparent border-0 color-fg-subtle mx-0"
    data-action="click:qbsearch-input#searchInputContainerClicked"
  >
      
            <button type="button" data-action="click:qbsearch-input#handleExpand" class="AppHeader-button AppHeader-search-whenNarrow" aria-label="Search or jump to…" aria-expanded="false" aria-haspopup="dialog">
            <svg aria-hidden="true" height="16" viewBox="0 0 16 16" version="1.1" width="16" data-view-component="true" class="octicon octicon-search">
    <path d="M10.68 11.74a6 6 0 0 1-7.922-8.982 6 6 0 0 1 8.982 7.922l3.04 3.04a.749.749 0 0 1-.326 1.275.749.749 0 0 1-.734-.215ZM11.5 7a4.499 4.499 0 1 0-8.997 0A4.499 4.499 0 0 0 11.5 7Z"></path>
</svg>
          </button>


<div class="AppHeader-search-whenRegular">
  <div class="AppHeader-search-wrap AppHeader-search-wrap--hasTrailing">
    <div class="AppHeader-search-control AppHeader-search-control-overflow">
      <label
        for="AppHeader-searchInput"
        aria-label="Search or jump to…"
        class="AppHeader-search-visual--leading"
      >
        <svg aria-hidden="true" height="16" viewBox="0 0 16 16" version="1.1" width="16" data-view-component="true" class="octicon octicon-search">
    <path d="M10.68 11.74a6 6 0 0 1-7.922-8.982 6 6 0 0 1 8.982 7.922l3.04 3.04a.749.749 0 0 1-.326 1.275.749.749 0 0 1-.734-.215ZM11.5 7a4.499 4.499 0 1 0-8.997 0A4.499 4.499 0 0 0 11.5 7Z"></path>
</svg>
      </label>

                <button
            type="button"
            data-target="qbsearch-input.inputButton"
            data-action="click:qbsearch-input#handleExpand"
            class="AppHeader-searchButton form-control text-left color-fg-subtle no-wrap"
            data-hotkey="s,/"
            data-analytics-event="{&quot;location&quot;:&quot;navbar&quot;,&quot;action&quot;:&quot;searchbar&quot;,&quot;context&quot;:&quot;global&quot;,&quot;tag&quot;:&quot;input&quot;,&quot;label&quot;:&quot;searchbar_input_global_navbar&quot;}"
            aria-describedby="search-error-message-flash"
          >
            <div class="overflow-hidden">
              <span id="qb-input-query" data-target="qbsearch-input.inputButtonText">
                  Type <kbd class="AppHeader-search-kbd">/</kbd> to search
              </span>
            </div>
          </button>

    </div>


  </div>
</div>

    <input type="hidden" name="type" class="js-site-search-type-field">

    
<div class="Overlay--hidden " data-modal-dialog-overlay>
  <modal-dialog data-action="close:qbsearch-input#handleClose cancel:qbsearch-input#handleClose" data-target="qbsearch-input.searchSuggestionsDialog" role="dialog" id="search-suggestions-dialog" aria-modal="true" aria-labelledby="search-suggestions-dialog-header" data-view-component="true" class="Overlay Overlay--width-medium Overlay--height-auto">
      <h1 id="search-suggestions-dialog-header" class="sr-only">Search code, repositories, users, issues, pull requests...</h1>
    <div class="Overlay-body Overlay-body--paddingNone">
      
          <div data-view-component="true">        <div class="search-suggestions position-absolute width-full color-shadow-large border color-fg-default color-bg-default overflow-hidden d-flex flex-column query-builder-container"
          style="border-radius: 12px;"
          data-target="qbsearch-input.queryBuilderContainer"
          hidden
        >
          <!-- '"` --><!-- </textarea></xmp> --></option></form><form id="query-builder-test-form" action="" accept-charset="UTF-8" method="get">
  <query-builder data-target="qbsearch-input.queryBuilder" id="query-builder-query-builder-test" data-filter-key=":" data-view-component="true" class="QueryBuilder search-query-builder">
    <div class="FormControl FormControl--fullWidth">
      <label id="query-builder-test-label" for="query-builder-test" class="FormControl-label sr-only">
        Search
      </label>
      <div
        class="QueryBuilder-StyledInput width-fit "
        data-target="query-builder.styledInput"
      >
          <span id="query-builder-test-leadingvisual-wrap" class="FormControl-input-leadingVisualWrap QueryBuilder-leadingVisualWrap">
            <svg aria-hidden="true" height="16" viewBox="0 0 16 16" version="1.1" width="16" data-view-component="true" class="octicon octicon-search FormControl-input-leadingVisual">
    <path d="M10.68 11.74a6 6 0 0 1-7.922-8.982 6 6 0 0 1 8.982 7.922l3.04 3.04a.749.749 0 0 1-.326 1.275.749.749 0 0 1-.734-.215ZM11.5 7a4.499 4.499 0 1 0-8.997 0A4.499 4.499 0 0 0 11.5 7Z"></path>
</svg>
          </span>
        <div data-target="query-builder.styledInputContainer" class="QueryBuilder-StyledInputContainer">
          <div
            aria-hidden="true"
            class="QueryBuilder-StyledInputContent"
            data-target="query-builder.styledInputContent"
          ></div>
          <div class="QueryBuilder-InputWrapper">
            <div aria-hidden="true" class="QueryBuilder-Sizer" data-target="query-builder.sizer"></div>
            <input id="query-builder-test" name="query-builder-test" value="" autocomplete="off" type="text" role="combobox" spellcheck="false" aria-expanded="false" aria-describedby="validation-b804ee12-88d3-40ba-9c9d-5dbdfcc83d13" data-target="query-builder.input" data-action="
          input:query-builder#inputChange
          blur:query-builder#inputBlur
          keydown:query-builder#inputKeydown
          focus:query-builder#inputFocus
        " data-view-component="true" class="FormControl-input QueryBuilder-Input FormControl-medium" />
          </div>
        </div>
          <span class="sr-only" id="query-builder-test-clear">Clear</span>
          <button role="button" id="query-builder-test-clear-button" aria-labelledby="query-builder-test-clear query-builder-test-label" data-target="query-builder.clearButton" data-action="
                click:query-builder#clear
                focus:query-builder#clearButtonFocus
                blur:query-builder#clearButtonBlur
              " variant="small" hidden="hidden" type="button" data-view-component="true" class="Button Button--iconOnly Button--invisible Button--medium mr-1 px-2 py-0 d-flex flex-items-center rounded-1 color-fg-muted">  <svg aria-hidden="true" height="16" viewBox="0 0 16 16" version="1.1" width="16" data-view-component="true" class="octicon octicon-x-circle-fill Button-visual">
    <path d="M2.343 13.657A8 8 0 1 1 13.658 2.343 8 8 0 0 1 2.343 13.657ZM6.03 4.97a.751.751 0 0 0-1.042.018.751.751 0 0 0-.018 1.042L6.94 8 4.97 9.97a.749.749 0 0 0 .326 1.275.749.749 0 0 0 .734-.215L8 9.06l1.97 1.97a.749.749 0 0 0 1.275-.326.749.749 0 0 0-.215-.734L9.06 8l1.97-1.97a.749.749 0 0 0-.326-1.275.749.749 0 0 0-.734.215L8 6.94Z"></path>
</svg>
</button>

      </div>
      <template id="search-icon">
  <svg aria-hidden="true" height="16" viewBox="0 0 16 16" version="1.1" width="16" data-view-component="true" class="octicon octicon-search">
    <path d="M10.68 11.74a6 6 0 0 1-7.922-8.982 6 6 0 0 1 8.982 7.922l3.04 3.04a.749.749 0 0 1-.326 1.275.749.749 0 0 1-.734-.215ZM11.5 7a4.499 4.499 0 1 0-8.997 0A4.499 4.499 0 0 0 11.5 7Z"></path>
</svg>
</template>

<template id="code-icon">
  <svg aria-hidden="true" height="16" viewBox="0 0 16 16" version="1.1" width="16" data-view-component="true" class="octicon octicon-code">
    <path d="m11.28 3.22 4.25 4.25a.75.75 0 0 1 0 1.06l-4.25 4.25a.749.749 0 0 1-1.275-.326.749.749 0 0 1 .215-.734L13.94 8l-3.72-3.72a.749.749 0 0 1 .326-1.275.749.749 0 0 1 .734.215Zm-6.56 0a.751.751 0 0 1 1.042.018.751.751 0 0 1 .018 1.042L2.06 8l3.72 3.72a.749.749 0 0 1-.326 1.275.749.749 0 0 1-.734-.215L.47 8.53a.75.75 0 0 1 0-1.06Z"></path>
</svg>
</template>

<template id="file-code-icon">
  <svg aria-hidden="true" height="16" viewBox="0 0 16 16" version="1.1" width="16" data-view-component="true" class="octicon octicon-file-code">
    <path d="M4 1.75C4 .784 4.784 0 5.75 0h5.586c.464 0 .909.184 1.237.513l2.914 2.914c.329.328.513.773.513 1.237v8.586A1.75 1.75 0 0 1 14.25 15h-9a.75.75 0 0 1 0-1.5h9a.25.25 0 0 0 .25-.25V6h-2.75A1.75 1.75 0 0 1 10 4.25V1.5H5.75a.25.25 0 0 0-.25.25v2.5a.75.75 0 0 1-1.5 0Zm1.72 4.97a.75.75 0 0 1 1.06 0l2 2a.75.75 0 0 1 0 1.06l-2 2a.749.749 0 0 1-1.275-.326.749.749 0 0 1 .215-.734l1.47-1.47-1.47-1.47a.75.75 0 0 1 0-1.06ZM3.28 7.78 1.81 9.25l1.47 1.47a.751.751 0 0 1-.018 1.042.751.751 0 0 1-1.042.018l-2-2a.75.75 0 0 1 0-1.06l2-2a.751.751 0 0 1 1.042.018.751.751 0 0 1 .018 1.042Zm8.22-6.218V4.25c0 .138.112.25.25.25h2.688l-.011-.013-2.914-2.914-.013-.011Z"></path>
</svg>
</template>

<template id="history-icon">
  <svg aria-hidden="true" height="16" viewBox="0 0 16 16" version="1.1" width="16" data-view-component="true" class="octicon octicon-history">
    <path d="m.427 1.927 1.215 1.215a8.002 8.002 0 1 1-1.6 5.685.75.75 0 1 1 1.493-.154 6.5 6.5 0 1 0 1.18-4.458l1.358 1.358A.25.25 0 0 1 3.896 6H.25A.25.25 0 0 1 0 5.75V2.104a.25.25 0 0 1 .427-.177ZM7.75 4a.75.75 0 0 1 .75.75v2.992l2.028.812a.75.75 0 0 1-.557 1.392l-2.5-1A.751.751 0 0 1 7 8.25v-3.5A.75.75 0 0 1 7.75 4Z"></path>
</svg>
</template>

<template id="repo-icon">
  <svg aria-hidden="true" height="16" viewBox="0 0 16 16" version="1.1" width="16" data-view-component="true" class="octicon octicon-repo">
    <path d="M2 2.5A2.5 2.5 0 0 1 4.5 0h8.75a.75.75 0 0 1 .75.75v12.5a.75.75 0 0 1-.75.75h-2.5a.75.75 0 0 1 0-1.5h1.75v-2h-8a1 1 0 0 0-.714 1.7.75.75 0 1 1-1.072 1.05A2.495 2.495 0 0 1 2 11.5Zm10.5-1h-8a1 1 0 0 0-1 1v6.708A2.486 2.486 0 0 1 4.5 9h8ZM5 12.25a.25.25 0 0 1 .25-.25h3.5a.25.25 0 0 1 .25.25v3.25a.25.25 0 0 1-.4.2l-1.45-1.087a.249.249 0 0 0-.3 0L5.4 15.7a.25.25 0 0 1-.4-.2Z"></path>
</svg>
</template>

<template id="bookmark-icon">
  <svg aria-hidden="true" height="16" viewBox="0 0 16 16" version="1.1" width="16" data-view-component="true" class="octicon octicon-bookmark">
    <path d="M3 2.75C3 1.784 3.784 1 4.75 1h6.5c.966 0 1.75.784 1.75 1.75v11.5a.75.75 0 0 1-1.227.579L8 11.722l-3.773 3.107A.751.751 0 0 1 3 14.25Zm1.75-.25a.25.25 0 0 0-.25.25v9.91l3.023-2.489a.75.75 0 0 1 .954 0l3.023 2.49V2.75a.25.25 0 0 0-.25-.25Z"></path>
</svg>
</template>

<template id="plus-circle-icon">
  <svg aria-hidden="true" height="16" viewBox="0 0 16 16" version="1.1" width="16" data-view-component="true" class="octicon octicon-plus-circle">
    <path d="M8 0a8 8 0 1 1 0 16A8 8 0 0 1 8 0ZM1.5 8a6.5 6.5 0 1 0 13 0 6.5 6.5 0 0 0-13 0Zm7.25-3.25v2.5h2.5a.75.75 0 0 1 0 1.5h-2.5v2.5a.75.75 0 0 1-1.5 0v-2.5h-2.5a.75.75 0 0 1 0-1.5h2.5v-2.5a.75.75 0 0 1 1.5 0Z"></path>
</svg>
</template>

<template id="circle-icon">
  <svg aria-hidden="true" height="16" viewBox="0 0 16 16" version="1.1" width="16" data-view-component="true" class="octicon octicon-dot-fill">
    <path d="M8 4a4 4 0 1 1 0 8 4 4 0 0 1 0-8Z"></path>
</svg>
</template>

<template id="trash-icon">
  <svg aria-hidden="true" height="16" viewBox="0 0 16 16" version="1.1" width="16" data-view-component="true" class="octicon octicon-trash">
    <path d="M11 1.75V3h2.25a.75.75 0 0 1 0 1.5H2.75a.75.75 0 0 1 0-1.5H5V1.75C5 .784 5.784 0 6.75 0h2.5C10.216 0 11 .784 11 1.75ZM4.496 6.675l.66 6.6a.25.25 0 0 0 .249.225h5.19a.25.25 0 0 0 .249-.225l.66-6.6a.75.75 0 0 1 1.492.149l-.66 6.6A1.748 1.748 0 0 1 10.595 15h-5.19a1.75 1.75 0 0 1-1.741-1.575l-.66-6.6a.75.75 0 1 1 1.492-.15ZM6.5 1.75V3h3V1.75a.25.25 0 0 0-.25-.25h-2.5a.25.25 0 0 0-.25.25Z"></path>
</svg>
</template>

<template id="team-icon">
  <svg aria-hidden="true" height="16" viewBox="0 0 16 16" version="1.1" width="16" data-view-component="true" class="octicon octicon-people">
    <path d="M2 5.5a3.5 3.5 0 1 1 5.898 2.549 5.508 5.508 0 0 1 3.034 4.084.75.75 0 1 1-1.482.235 4 4 0 0 0-7.9 0 .75.75 0 0 1-1.482-.236A5.507 5.507 0 0 1 3.102 8.05 3.493 3.493 0 0 1 2 5.5ZM11 4a3.001 3.001 0 0 1 2.22 5.018 5.01 5.01 0 0 1 2.56 3.012.749.749 0 0 1-.885.954.752.752 0 0 1-.549-.514 3.507 3.507 0 0 0-2.522-2.372.75.75 0 0 1-.574-.73v-.352a.75.75 0 0 1 .416-.672A1.5 1.5 0 0 0 11 5.5.75.75 0 0 1 11 4Zm-5.5-.5a2 2 0 1 0-.001 3.999A2 2 0 0 0 5.5 3.5Z"></path>
</svg>
</template>

<template id="project-icon">
  <svg aria-hidden="true" height="16" viewBox="0 0 16 16" version="1.1" width="16" data-view-component="true" class="octicon octicon-project">
    <path d="M1.75 0h12.5C15.216 0 16 .784 16 1.75v12.5A1.75 1.75 0 0 1 14.25 16H1.75A1.75 1.75 0 0 1 0 14.25V1.75C0 .784.784 0 1.75 0ZM1.5 1.75v12.5c0 .138.112.25.25.25h12.5a.25.25 0 0 0 .25-.25V1.75a.25.25 0 0 0-.25-.25H1.75a.25.25 0 0 0-.25.25ZM11.75 3a.75.75 0 0 1 .75.75v7.5a.75.75 0 0 1-1.5 0v-7.5a.75.75 0 0 1 .75-.75Zm-8.25.75a.75.75 0 0 1 1.5 0v5.5a.75.75 0 0 1-1.5 0ZM8 3a.75.75 0 0 1 .75.75v3.5a.75.75 0 0 1-1.5 0v-3.5A.75.75 0 0 1 8 3Z"></path>
</svg>
</template>

<template id="pencil-icon">
  <svg aria-hidden="true" height="16" viewBox="0 0 16 16" version="1.1" width="16" data-view-component="true" class="octicon octicon-pencil">
    <path d="M11.013 1.427a1.75 1.75 0 0 1 2.474 0l1.086 1.086a1.75 1.75 0 0 1 0 2.474l-8.61 8.61c-.21.21-.47.364-.756.445l-3.251.93a.75.75 0 0 1-.927-.928l.929-3.25c.081-.286.235-.547.445-.758l8.61-8.61Zm.176 4.823L9.75 4.81l-6.286 6.287a.253.253 0 0 0-.064.108l-.558 1.953 1.953-.558a.253.253 0 0 0 .108-.064Zm1.238-3.763a.25.25 0 0 0-.354 0L10.811 3.75l1.439 1.44 1.263-1.263a.25.25 0 0 0 0-.354Z"></path>
</svg>
</template>

<template id="copilot-icon">
  <svg aria-hidden="true" height="16" viewBox="0 0 16 16" version="1.1" width="16" data-view-component="true" class="octicon octicon-copilot">
    <path d="M7.998 15.035c-4.562 0-7.873-2.914-7.998-3.749V9.338c.085-.628.677-1.686 1.588-2.065.013-.07.024-.143.036-.218.029-.183.06-.384.126-.612-.201-.508-.254-1.084-.254-1.656 0-.87.128-1.769.693-2.484.579-.733 1.494-1.124 2.724-1.261 1.206-.134 2.262.034 2.944.765.05.053.096.108.139.165.044-.057.094-.112.143-.165.682-.731 1.738-.899 2.944-.765 1.23.137 2.145.528 2.724 1.261.566.715.693 1.614.693 2.484 0 .572-.053 1.148-.254 1.656.066.228.098.429.126.612.012.076.024.148.037.218.924.385 1.522 1.471 1.591 2.095v1.872c0 .766-3.351 3.795-8.002 3.795Zm0-1.485c2.28 0 4.584-1.11 5.002-1.433V7.862l-.023-.116c-.49.21-1.075.291-1.727.291-1.146 0-2.059-.327-2.71-.991A3.222 3.222 0 0 1 8 6.303a3.24 3.24 0 0 1-.544.743c-.65.664-1.563.991-2.71.991-.652 0-1.236-.081-1.727-.291l-.023.116v4.255c.419.323 2.722 1.433 5.002 1.433ZM6.762 2.83c-.193-.206-.637-.413-1.682-.297-1.019.113-1.479.404-1.713.7-.247.312-.369.789-.369 1.554 0 .793.129 1.171.308 1.371.162.181.519.379 1.442.379.853 0 1.339-.235 1.638-.54.315-.322.527-.827.617-1.553.117-.935-.037-1.395-.241-1.614Zm4.155-.297c-1.044-.116-1.488.091-1.681.297-.204.219-.359.679-.242 1.614.091.726.303 1.231.618 1.553.299.305.784.54 1.638.54.922 0 1.28-.198 1.442-.379.179-.2.308-.578.308-1.371 0-.765-.123-1.242-.37-1.554-.233-.296-.693-.587-1.713-.7Z"></path><path d="M6.25 9.037a.75.75 0 0 1 .75.75v1.501a.75.75 0 0 1-1.5 0V9.787a.75.75 0 0 1 .75-.75Zm4.25.75v1.501a.75.75 0 0 1-1.5 0V9.787a.75.75 0 0 1 1.5 0Z"></path>
</svg>
</template>

<template id="copilot-error-icon">
  <svg aria-hidden="true" height="16" viewBox="0 0 16 16" version="1.1" width="16" data-view-component="true" class="octicon octicon-copilot-error">
    <path d="M16 11.24c0 .112-.072.274-.21.467L13 9.688V7.862l-.023-.116c-.49.21-1.075.291-1.727.291-.198 0-.388-.009-.571-.029L6.833 5.226a4.01 4.01 0 0 0 .17-.782c.117-.935-.037-1.395-.241-1.614-.193-.206-.637-.413-1.682-.297-.683.076-1.115.231-1.395.415l-1.257-.91c.579-.564 1.413-.877 2.485-.996 1.206-.134 2.262.034 2.944.765.05.053.096.108.139.165.044-.057.094-.112.143-.165.682-.731 1.738-.899 2.944-.765 1.23.137 2.145.528 2.724 1.261.566.715.693 1.614.693 2.484 0 .572-.053 1.148-.254 1.656.066.228.098.429.126.612.012.076.024.148.037.218.924.385 1.522 1.471 1.591 2.095Zm-5.083-8.707c-1.044-.116-1.488.091-1.681.297-.204.219-.359.679-.242 1.614.091.726.303 1.231.618 1.553.299.305.784.54 1.638.54.922 0 1.28-.198 1.442-.379.179-.2.308-.578.308-1.371 0-.765-.123-1.242-.37-1.554-.233-.296-.693-.587-1.713-.7Zm2.511 11.074c-1.393.776-3.272 1.428-5.43 1.428-4.562 0-7.873-2.914-7.998-3.749V9.338c.085-.628.677-1.686 1.588-2.065.013-.07.024-.143.036-.218.029-.183.06-.384.126-.612-.18-.455-.241-.963-.252-1.475L.31 4.107A.747.747 0 0 1 0 3.509V3.49a.748.748 0 0 1 .625-.73c.156-.026.306.047.435.139l14.667 10.578a.592.592 0 0 1 .227.264.752.752 0 0 1 .046.249v.022a.75.75 0 0 1-1.19.596Zm-1.367-.991L5.635 7.964a5.128 5.128 0 0 1-.889.073c-.652 0-1.236-.081-1.727-.291l-.023.116v4.255c.419.323 2.722 1.433 5.002 1.433 1.539 0 3.089-.505 4.063-.934Z"></path>
</svg>
</template>

<template id="workflow-icon">
  <svg aria-hidden="true" height="16" viewBox="0 0 16 16" version="1.1" width="16" data-view-component="true" class="octicon octicon-workflow">
    <path d="M0 1.75C0 .784.784 0 1.75 0h3.5C6.216 0 7 .784 7 1.75v3.5A1.75 1.75 0 0 1 5.25 7H4v4a1 1 0 0 0 1 1h4v-1.25C9 9.784 9.784 9 10.75 9h3.5c.966 0 1.75.784 1.75 1.75v3.5A1.75 1.75 0 0 1 14.25 16h-3.5A1.75 1.75 0 0 1 9 14.25v-.75H5A2.5 2.5 0 0 1 2.5 11V7h-.75A1.75 1.75 0 0 1 0 5.25Zm1.75-.25a.25.25 0 0 0-.25.25v3.5c0 .138.112.25.25.25h3.5a.25.25 0 0 0 .25-.25v-3.5a.25.25 0 0 0-.25-.25Zm9 9a.25.25 0 0 0-.25.25v3.5c0 .138.112.25.25.25h3.5a.25.25 0 0 0 .25-.25v-3.5a.25.25 0 0 0-.25-.25Z"></path>
</svg>
</template>

<template id="book-icon">
  <svg aria-hidden="true" height="16" viewBox="0 0 16 16" version="1.1" width="16" data-view-component="true" class="octicon octicon-book">
    <path d="M0 1.75A.75.75 0 0 1 .75 1h4.253c1.227 0 2.317.59 3 1.501A3.743 3.743 0 0 1 11.006 1h4.245a.75.75 0 0 1 .75.75v10.5a.75.75 0 0 1-.75.75h-4.507a2.25 2.25 0 0 0-1.591.659l-.622.621a.75.75 0 0 1-1.06 0l-.622-.621A2.25 2.25 0 0 0 5.258 13H.75a.75.75 0 0 1-.75-.75Zm7.251 10.324.004-5.073-.002-2.253A2.25 2.25 0 0 0 5.003 2.5H1.5v9h3.757a3.75 3.75 0 0 1 1.994.574ZM8.755 4.75l-.004 7.322a3.752 3.752 0 0 1 1.992-.572H14.5v-9h-3.495a2.25 2.25 0 0 0-2.25 2.25Z"></path>
</svg>
</template>

<template id="code-review-icon">
  <svg aria-hidden="true" height="16" viewBox="0 0 16 16" version="1.1" width="16" data-view-component="true" class="octicon octicon-code-review">
    <path d="M1.75 1h12.5c.966 0 1.75.784 1.75 1.75v8.5A1.75 1.75 0 0 1 14.25 13H8.061l-2.574 2.573A1.458 1.458 0 0 1 3 14.543V13H1.75A1.75 1.75 0 0 1 0 11.25v-8.5C0 1.784.784 1 1.75 1ZM1.5 2.75v8.5c0 .138.112.25.25.25h2a.75.75 0 0 1 .75.75v2.19l2.72-2.72a.749.749 0 0 1 .53-.22h6.5a.25.25 0 0 0 .25-.25v-8.5a.25.25 0 0 0-.25-.25H1.75a.25.25 0 0 0-.25.25Zm5.28 1.72a.75.75 0 0 1 0 1.06L5.31 7l1.47 1.47a.751.751 0 0 1-.018 1.042.751.751 0 0 1-1.042.018l-2-2a.75.75 0 0 1 0-1.06l2-2a.75.75 0 0 1 1.06 0Zm2.44 0a.75.75 0 0 1 1.06 0l2 2a.75.75 0 0 1 0 1.06l-2 2a.751.751 0 0 1-1.042-.018.751.751 0 0 1-.018-1.042L10.69 7 9.22 5.53a.75.75 0 0 1 0-1.06Z"></path>
</svg>
</template>

<template id="codespaces-icon">
  <svg aria-hidden="true" height="16" viewBox="0 0 16 16" version="1.1" width="16" data-view-component="true" class="octicon octicon-codespaces">
    <path d="M0 11.25c0-.966.784-1.75 1.75-1.75h12.5c.966 0 1.75.784 1.75 1.75v3A1.75 1.75 0 0 1 14.25 16H1.75A1.75 1.75 0 0 1 0 14.25Zm2-9.5C2 .784 2.784 0 3.75 0h8.5C13.216 0 14 .784 14 1.75v5a1.75 1.75 0 0 1-1.75 1.75h-8.5A1.75 1.75 0 0 1 2 6.75Zm1.75-.25a.25.25 0 0 0-.25.25v5c0 .138.112.25.25.25h8.5a.25.25 0 0 0 .25-.25v-5a.25.25 0 0 0-.25-.25Zm-2 9.5a.25.25 0 0 0-.25.25v3c0 .138.112.25.25.25h12.5a.25.25 0 0 0 .25-.25v-3a.25.25 0 0 0-.25-.25Z"></path><path d="M7 12.75a.75.75 0 0 1 .75-.75h4.5a.75.75 0 0 1 0 1.5h-4.5a.75.75 0 0 1-.75-.75Zm-4 0a.75.75 0 0 1 .75-.75h.5a.75.75 0 0 1 0 1.5h-.5a.75.75 0 0 1-.75-.75Z"></path>
</svg>
</template>

<template id="comment-icon">
  <svg aria-hidden="true" height="16" viewBox="0 0 16 16" version="1.1" width="16" data-view-component="true" class="octicon octicon-comment">
    <path d="M1 2.75C1 1.784 1.784 1 2.75 1h10.5c.966 0 1.75.784 1.75 1.75v7.5A1.75 1.75 0 0 1 13.25 12H9.06l-2.573 2.573A1.458 1.458 0 0 1 4 13.543V12H2.75A1.75 1.75 0 0 1 1 10.25Zm1.75-.25a.25.25 0 0 0-.25.25v7.5c0 .138.112.25.25.25h2a.75.75 0 0 1 .75.75v2.19l2.72-2.72a.749.749 0 0 1 .53-.22h4.5a.25.25 0 0 0 .25-.25v-7.5a.25.25 0 0 0-.25-.25Z"></path>
</svg>
</template>

<template id="comment-discussion-icon">
  <svg aria-hidden="true" height="16" viewBox="0 0 16 16" version="1.1" width="16" data-view-component="true" class="octicon octicon-comment-discussion">
    <path d="M1.75 1h8.5c.966 0 1.75.784 1.75 1.75v5.5A1.75 1.75 0 0 1 10.25 10H7.061l-2.574 2.573A1.458 1.458 0 0 1 2 11.543V10h-.25A1.75 1.75 0 0 1 0 8.25v-5.5C0 1.784.784 1 1.75 1ZM1.5 2.75v5.5c0 .138.112.25.25.25h1a.75.75 0 0 1 .75.75v2.19l2.72-2.72a.749.749 0 0 1 .53-.22h3.5a.25.25 0 0 0 .25-.25v-5.5a.25.25 0 0 0-.25-.25h-8.5a.25.25 0 0 0-.25.25Zm13 2a.25.25 0 0 0-.25-.25h-.5a.75.75 0 0 1 0-1.5h.5c.966 0 1.75.784 1.75 1.75v5.5A1.75 1.75 0 0 1 14.25 12H14v1.543a1.458 1.458 0 0 1-2.487 1.03L9.22 12.28a.749.749 0 0 1 .326-1.275.749.749 0 0 1 .734.215l2.22 2.22v-2.19a.75.75 0 0 1 .75-.75h1a.25.25 0 0 0 .25-.25Z"></path>
</svg>
</template>

<template id="organization-icon">
  <svg aria-hidden="true" height="16" viewBox="0 0 16 16" version="1.1" width="16" data-view-component="true" class="octicon octicon-organization">
    <path d="M1.75 16A1.75 1.75 0 0 1 0 14.25V1.75C0 .784.784 0 1.75 0h8.5C11.216 0 12 .784 12 1.75v12.5c0 .085-.006.168-.018.25h2.268a.25.25 0 0 0 .25-.25V8.285a.25.25 0 0 0-.111-.208l-1.055-.703a.749.749 0 1 1 .832-1.248l1.055.703c.487.325.779.871.779 1.456v5.965A1.75 1.75 0 0 1 14.25 16h-3.5a.766.766 0 0 1-.197-.026c-.099.017-.2.026-.303.026h-3a.75.75 0 0 1-.75-.75V14h-1v1.25a.75.75 0 0 1-.75.75Zm-.25-1.75c0 .138.112.25.25.25H4v-1.25a.75.75 0 0 1 .75-.75h2.5a.75.75 0 0 1 .75.75v1.25h2.25a.25.25 0 0 0 .25-.25V1.75a.25.25 0 0 0-.25-.25h-8.5a.25.25 0 0 0-.25.25ZM3.75 6h.5a.75.75 0 0 1 0 1.5h-.5a.75.75 0 0 1 0-1.5ZM3 3.75A.75.75 0 0 1 3.75 3h.5a.75.75 0 0 1 0 1.5h-.5A.75.75 0 0 1 3 3.75Zm4 3A.75.75 0 0 1 7.75 6h.5a.75.75 0 0 1 0 1.5h-.5A.75.75 0 0 1 7 6.75ZM7.75 3h.5a.75.75 0 0 1 0 1.5h-.5a.75.75 0 0 1 0-1.5ZM3 9.75A.75.75 0 0 1 3.75 9h.5a.75.75 0 0 1 0 1.5h-.5A.75.75 0 0 1 3 9.75ZM7.75 9h.5a.75.75 0 0 1 0 1.5h-.5a.75.75 0 0 1 0-1.5Z"></path>
</svg>
</template>

<template id="rocket-icon">
  <svg aria-hidden="true" height="16" viewBox="0 0 16 16" version="1.1" width="16" data-view-component="true" class="octicon octicon-rocket">
    <path d="M14.064 0h.186C15.216 0 16 .784 16 1.75v.186a8.752 8.752 0 0 1-2.564 6.186l-.458.459c-.314.314-.641.616-.979.904v3.207c0 .608-.315 1.172-.833 1.49l-2.774 1.707a.749.749 0 0 1-1.11-.418l-.954-3.102a1.214 1.214 0 0 1-.145-.125L3.754 9.816a1.218 1.218 0 0 1-.124-.145L.528 8.717a.749.749 0 0 1-.418-1.11l1.71-2.774A1.748 1.748 0 0 1 3.31 4h3.204c.288-.338.59-.665.904-.979l.459-.458A8.749 8.749 0 0 1 14.064 0ZM8.938 3.623h-.002l-.458.458c-.76.76-1.437 1.598-2.02 2.5l-1.5 2.317 2.143 2.143 2.317-1.5c.902-.583 1.74-1.26 2.499-2.02l.459-.458a7.25 7.25 0 0 0 2.123-5.127V1.75a.25.25 0 0 0-.25-.25h-.186a7.249 7.249 0 0 0-5.125 2.123ZM3.56 14.56c-.732.732-2.334 1.045-3.005 1.148a.234.234 0 0 1-.201-.064.234.234 0 0 1-.064-.201c.103-.671.416-2.273 1.15-3.003a1.502 1.502 0 1 1 2.12 2.12Zm6.94-3.935c-.088.06-.177.118-.266.175l-2.35 1.521.548 1.783 1.949-1.2a.25.25 0 0 0 .119-.213ZM3.678 8.116 5.2 5.766c.058-.09.117-.178.176-.266H3.309a.25.25 0 0 0-.213.119l-1.2 1.95ZM12 5a1 1 0 1 1-2 0 1 1 0 0 1 2 0Z"></path>
</svg>
</template>

<template id="shield-check-icon">
  <svg aria-hidden="true" height="16" viewBox="0 0 16 16" version="1.1" width="16" data-view-component="true" class="octicon octicon-shield-check">
    <path d="m8.533.133 5.25 1.68A1.75 1.75 0 0 1 15 3.48V7c0 1.566-.32 3.182-1.303 4.682-.983 1.498-2.585 2.813-5.032 3.855a1.697 1.697 0 0 1-1.33 0c-2.447-1.042-4.049-2.357-5.032-3.855C1.32 10.182 1 8.566 1 7V3.48a1.75 1.75 0 0 1 1.217-1.667l5.25-1.68a1.748 1.748 0 0 1 1.066 0Zm-.61 1.429.001.001-5.25 1.68a.251.251 0 0 0-.174.237V7c0 1.36.275 2.666 1.057 3.859.784 1.194 2.121 2.342 4.366 3.298a.196.196 0 0 0 .154 0c2.245-.957 3.582-2.103 4.366-3.297C13.225 9.666 13.5 8.358 13.5 7V3.48a.25.25 0 0 0-.174-.238l-5.25-1.68a.25.25 0 0 0-.153 0ZM11.28 6.28l-3.5 3.5a.75.75 0 0 1-1.06 0l-1.5-1.5a.749.749 0 0 1 .326-1.275.749.749 0 0 1 .734.215l.97.97 2.97-2.97a.751.751 0 0 1 1.042.018.751.751 0 0 1 .018 1.042Z"></path>
</svg>
</template>

<template id="heart-icon">
  <svg aria-hidden="true" height="16" viewBox="0 0 16 16" version="1.1" width="16" data-view-component="true" class="octicon octicon-heart">
    <path d="m8 14.25.345.666a.75.75 0 0 1-.69 0l-.008-.004-.018-.01a7.152 7.152 0 0 1-.31-.17 22.055 22.055 0 0 1-3.434-2.414C2.045 10.731 0 8.35 0 5.5 0 2.836 2.086 1 4.25 1 5.797 1 7.153 1.802 8 3.02 8.847 1.802 10.203 1 11.75 1 13.914 1 16 2.836 16 5.5c0 2.85-2.045 5.231-3.885 6.818a22.066 22.066 0 0 1-3.744 2.584l-.018.01-.006.003h-.002ZM4.25 2.5c-1.336 0-2.75 1.164-2.75 3 0 2.15 1.58 4.144 3.365 5.682A20.58 20.58 0 0 0 8 13.393a20.58 20.58 0 0 0 3.135-2.211C12.92 9.644 14.5 7.65 14.5 5.5c0-1.836-1.414-3-2.75-3-1.373 0-2.609.986-3.029 2.456a.749.749 0 0 1-1.442 0C6.859 3.486 5.623 2.5 4.25 2.5Z"></path>
</svg>
</template>

<template id="server-icon">
  <svg aria-hidden="true" height="16" viewBox="0 0 16 16" version="1.1" width="16" data-view-component="true" class="octicon octicon-server">
    <path d="M1.75 1h12.5c.966 0 1.75.784 1.75 1.75v4c0 .372-.116.717-.314 1 .198.283.314.628.314 1v4a1.75 1.75 0 0 1-1.75 1.75H1.75A1.75 1.75 0 0 1 0 12.75v-4c0-.358.109-.707.314-1a1.739 1.739 0 0 1-.314-1v-4C0 1.784.784 1 1.75 1ZM1.5 2.75v4c0 .138.112.25.25.25h12.5a.25.25 0 0 0 .25-.25v-4a.25.25 0 0 0-.25-.25H1.75a.25.25 0 0 0-.25.25Zm.25 5.75a.25.25 0 0 0-.25.25v4c0 .138.112.25.25.25h12.5a.25.25 0 0 0 .25-.25v-4a.25.25 0 0 0-.25-.25ZM7 4.75A.75.75 0 0 1 7.75 4h4.5a.75.75 0 0 1 0 1.5h-4.5A.75.75 0 0 1 7 4.75ZM7.75 10h4.5a.75.75 0 0 1 0 1.5h-4.5a.75.75 0 0 1 0-1.5ZM3 4.75A.75.75 0 0 1 3.75 4h.5a.75.75 0 0 1 0 1.5h-.5A.75.75 0 0 1 3 4.75ZM3.75 10h.5a.75.75 0 0 1 0 1.5h-.5a.75.75 0 0 1 0-1.5Z"></path>
</svg>
</template>

<template id="globe-icon">
  <svg aria-hidden="true" height="16" viewBox="0 0 16 16" version="1.1" width="16" data-view-component="true" class="octicon octicon-globe">
    <path d="M8 0a8 8 0 1 1 0 16A8 8 0 0 1 8 0ZM5.78 8.75a9.64 9.64 0 0 0 1.363 4.177c.255.426.542.832.857 1.215.245-.296.551-.705.857-1.215A9.64 9.64 0 0 0 10.22 8.75Zm4.44-1.5a9.64 9.64 0 0 0-1.363-4.177c-.307-.51-.612-.919-.857-1.215a9.927 9.927 0 0 0-.857 1.215A9.64 9.64 0 0 0 5.78 7.25Zm-5.944 1.5H1.543a6.507 6.507 0 0 0 4.666 5.5c-.123-.181-.24-.365-.352-.552-.715-1.192-1.437-2.874-1.581-4.948Zm-2.733-1.5h2.733c.144-2.074.866-3.756 1.58-4.948.12-.197.237-.381.353-.552a6.507 6.507 0 0 0-4.666 5.5Zm10.181 1.5c-.144 2.074-.866 3.756-1.58 4.948-.12.197-.237.381-.353.552a6.507 6.507 0 0 0 4.666-5.5Zm2.733-1.5a6.507 6.507 0 0 0-4.666-5.5c.123.181.24.365.353.552.714 1.192 1.436 2.874 1.58 4.948Z"></path>
</svg>
</template>

<template id="issue-opened-icon">
  <svg aria-hidden="true" height="16" viewBox="0 0 16 16" version="1.1" width="16" data-view-component="true" class="octicon octicon-issue-opened">
    <path d="M8 9.5a1.5 1.5 0 1 0 0-3 1.5 1.5 0 0 0 0 3Z"></path><path d="M8 0a8 8 0 1 1 0 16A8 8 0 0 1 8 0ZM1.5 8a6.5 6.5 0 1 0 13 0 6.5 6.5 0 0 0-13 0Z"></path>
</svg>
</template>

<template id="device-mobile-icon">
  <svg aria-hidden="true" height="16" viewBox="0 0 16 16" version="1.1" width="16" data-view-component="true" class="octicon octicon-device-mobile">
    <path d="M3.75 0h8.5C13.216 0 14 .784 14 1.75v12.5A1.75 1.75 0 0 1 12.25 16h-8.5A1.75 1.75 0 0 1 2 14.25V1.75C2 .784 2.784 0 3.75 0ZM3.5 1.75v12.5c0 .138.112.25.25.25h8.5a.25.25 0 0 0 .25-.25V1.75a.25.25 0 0 0-.25-.25h-8.5a.25.25 0 0 0-.25.25ZM8 13a1 1 0 1 1 0-2 1 1 0 0 1 0 2Z"></path>
</svg>
</template>

<template id="package-icon">
  <svg aria-hidden="true" height="16" viewBox="0 0 16 16" version="1.1" width="16" data-view-component="true" class="octicon octicon-package">
    <path d="m8.878.392 5.25 3.045c.54.314.872.89.872 1.514v6.098a1.75 1.75 0 0 1-.872 1.514l-5.25 3.045a1.75 1.75 0 0 1-1.756 0l-5.25-3.045A1.75 1.75 0 0 1 1 11.049V4.951c0-.624.332-1.201.872-1.514L7.122.392a1.75 1.75 0 0 1 1.756 0ZM7.875 1.69l-4.63 2.685L8 7.133l4.755-2.758-4.63-2.685a.248.248 0 0 0-.25 0ZM2.5 5.677v5.372c0 .09.047.171.125.216l4.625 2.683V8.432Zm6.25 8.271 4.625-2.683a.25.25 0 0 0 .125-.216V5.677L8.75 8.432Z"></path>
</svg>
</template>

<template id="credit-card-icon">
  <svg aria-hidden="true" height="16" viewBox="0 0 16 16" version="1.1" width="16" data-view-component="true" class="octicon octicon-credit-card">
    <path d="M10.75 9a.75.75 0 0 0 0 1.5h1.5a.75.75 0 0 0 0-1.5h-1.5Z"></path><path d="M0 3.75C0 2.784.784 2 1.75 2h12.5c.966 0 1.75.784 1.75 1.75v8.5A1.75 1.75 0 0 1 14.25 14H1.75A1.75 1.75 0 0 1 0 12.25ZM14.5 6.5h-13v5.75c0 .138.112.25.25.25h12.5a.25.25 0 0 0 .25-.25Zm0-2.75a.25.25 0 0 0-.25-.25H1.75a.25.25 0 0 0-.25.25V5h13Z"></path>
</svg>
</template>

<template id="play-icon">
  <svg aria-hidden="true" height="16" viewBox="0 0 16 16" version="1.1" width="16" data-view-component="true" class="octicon octicon-play">
    <path d="M8 0a8 8 0 1 1 0 16A8 8 0 0 1 8 0ZM1.5 8a6.5 6.5 0 1 0 13 0 6.5 6.5 0 0 0-13 0Zm4.879-2.773 4.264 2.559a.25.25 0 0 1 0 .428l-4.264 2.559A.25.25 0 0 1 6 10.559V5.442a.25.25 0 0 1 .379-.215Z"></path>
</svg>
</template>

<template id="gift-icon">
  <svg aria-hidden="true" height="16" viewBox="0 0 16 16" version="1.1" width="16" data-view-component="true" class="octicon octicon-gift">
    <path d="M2 2.75A2.75 2.75 0 0 1 4.75 0c.983 0 1.873.42 2.57 1.232.268.318.497.668.68 1.042.183-.375.411-.725.68-1.044C9.376.42 10.266 0 11.25 0a2.75 2.75 0 0 1 2.45 4h.55c.966 0 1.75.784 1.75 1.75v2c0 .698-.409 1.301-1 1.582v4.918A1.75 1.75 0 0 1 13.25 16H2.75A1.75 1.75 0 0 1 1 14.25V9.332C.409 9.05 0 8.448 0 7.75v-2C0 4.784.784 4 1.75 4h.55c-.192-.375-.3-.8-.3-1.25ZM7.25 9.5H2.5v4.75c0 .138.112.25.25.25h4.5Zm1.5 0v5h4.5a.25.25 0 0 0 .25-.25V9.5Zm0-4V8h5.5a.25.25 0 0 0 .25-.25v-2a.25.25 0 0 0-.25-.25Zm-7 0a.25.25 0 0 0-.25.25v2c0 .138.112.25.25.25h5.5V5.5h-5.5Zm3-4a1.25 1.25 0 0 0 0 2.5h2.309c-.233-.818-.542-1.401-.878-1.793-.43-.502-.915-.707-1.431-.707ZM8.941 4h2.309a1.25 1.25 0 0 0 0-2.5c-.516 0-1 .205-1.43.707-.337.392-.646.975-.879 1.793Z"></path>
</svg>
</template>

<template id="code-square-icon">
  <svg aria-hidden="true" height="16" viewBox="0 0 16 16" version="1.1" width="16" data-view-component="true" class="octicon octicon-code-square">
    <path d="M0 1.75C0 .784.784 0 1.75 0h12.5C15.216 0 16 .784 16 1.75v12.5A1.75 1.75 0 0 1 14.25 16H1.75A1.75 1.75 0 0 1 0 14.25Zm1.75-.25a.25.25 0 0 0-.25.25v12.5c0 .138.112.25.25.25h12.5a.25.25 0 0 0 .25-.25V1.75a.25.25 0 0 0-.25-.25Zm7.47 3.97a.75.75 0 0 1 1.06 0l2 2a.75.75 0 0 1 0 1.06l-2 2a.749.749 0 0 1-1.275-.326.749.749 0 0 1 .215-.734L10.69 8 9.22 6.53a.75.75 0 0 1 0-1.06ZM6.78 6.53 5.31 8l1.47 1.47a.749.749 0 0 1-.326 1.275.749.749 0 0 1-.734-.215l-2-2a.75.75 0 0 1 0-1.06l2-2a.751.751 0 0 1 1.042.018.751.751 0 0 1 .018 1.042Z"></path>
</svg>
</template>

<template id="device-desktop-icon">
  <svg aria-hidden="true" height="16" viewBox="0 0 16 16" version="1.1" width="16" data-view-component="true" class="octicon octicon-device-desktop">
    <path d="M14.25 1c.966 0 1.75.784 1.75 1.75v7.5A1.75 1.75 0 0 1 14.25 12h-3.727c.099 1.041.52 1.872 1.292 2.757A.752.752 0 0 1 11.25 16h-6.5a.75.75 0 0 1-.565-1.243c.772-.885 1.192-1.716 1.292-2.757H1.75A1.75 1.75 0 0 1 0 10.25v-7.5C0 1.784.784 1 1.75 1ZM1.75 2.5a.25.25 0 0 0-.25.25v7.5c0 .138.112.25.25.25h12.5a.25.25 0 0 0 .25-.25v-7.5a.25.25 0 0 0-.25-.25ZM9.018 12H6.982a5.72 5.72 0 0 1-.765 2.5h3.566a5.72 5.72 0 0 1-.765-2.5Z"></path>
</svg>
</template>

        <div class="position-relative">
                <ul
                  role="listbox"
                  class="ActionListWrap QueryBuilder-ListWrap"
                  aria-label="Suggestions"
                  data-action="
                    combobox-commit:query-builder#comboboxCommit
                    mousedown:query-builder#resultsMousedown
                  "
                  data-target="query-builder.resultsList"
                  data-persist-list=false
                  id="query-builder-test-results"
                  tabindex="-1"
                ></ul>
        </div>
      <div class="FormControl-inlineValidation" id="validation-b804ee12-88d3-40ba-9c9d-5dbdfcc83d13" hidden="hidden">
        <span class="FormControl-inlineValidation--visual">
          <svg aria-hidden="true" height="12" viewBox="0 0 12 12" version="1.1" width="12" data-view-component="true" class="octicon octicon-alert-fill">
    <path d="M4.855.708c.5-.896 1.79-.896 2.29 0l4.675 8.351a1.312 1.312 0 0 1-1.146 1.954H1.33A1.313 1.313 0 0 1 .183 9.058ZM7 7V3H5v4Zm-1 3a1 1 0 1 0 0-2 1 1 0 0 0 0 2Z"></path>
</svg>
        </span>
        <span></span>
</div>    </div>
    <div data-target="query-builder.screenReaderFeedback" aria-live="polite" aria-atomic="true" class="sr-only"></div>
</query-builder></form>
          <div class="d-flex flex-row color-fg-muted px-3 text-small color-bg-default search-feedback-prompt">
            <a target="_blank" href="https://docs.github.com/search-github/github-code-search/understanding-github-code-search-syntax" data-view-component="true" class="Link color-fg-accent text-normal ml-2">Search syntax tips</a>            <div class="d-flex flex-1"></div>
              <button data-action="click:qbsearch-input#showFeedbackDialog" type="button" data-view-component="true" class="Button--link Button--medium Button color-fg-accent text-normal ml-2">  <span class="Button-content">
    <span class="Button-label">Give feedback</span>
  </span>
</button>
          </div>
        </div>
</div>

    </div>
</modal-dialog></div>
  </div>
  <div data-action="click:qbsearch-input#retract" class="dark-backdrop position-fixed" hidden data-target="qbsearch-input.darkBackdrop"></div>
  <div class="color-fg-default">
    
<dialog-helper>
  <dialog data-target="qbsearch-input.feedbackDialog" data-action="close:qbsearch-input#handleDialogClose cancel:qbsearch-input#handleDialogClose" id="feedback-dialog" aria-modal="true" aria-labelledby="feedback-dialog-title" aria-describedby="feedback-dialog-description" data-view-component="true" class="Overlay Overlay-whenNarrow Overlay--size-medium Overlay--motion-scaleFade Overlay--disableScroll">
    <div data-view-component="true" class="Overlay-header">
  <div class="Overlay-headerContentWrap">
    <div class="Overlay-titleWrap">
      <h1 class="Overlay-title " id="feedback-dialog-title">
        Provide feedback
      </h1>
        
    </div>
    <div class="Overlay-actionWrap">
      <button data-close-dialog-id="feedback-dialog" aria-label="Close" aria-label="Close" type="button" data-view-component="true" class="close-button Overlay-closeButton"><svg aria-hidden="true" height="16" viewBox="0 0 16 16" version="1.1" width="16" data-view-component="true" class="octicon octicon-x">
    <path d="M3.72 3.72a.75.75 0 0 1 1.06 0L8 6.94l3.22-3.22a.749.749 0 0 1 1.275.326.749.749 0 0 1-.215.734L9.06 8l3.22 3.22a.749.749 0 0 1-.326 1.275.749.749 0 0 1-.734-.215L8 9.06l-3.22 3.22a.751.751 0 0 1-1.042-.018.751.751 0 0 1-.018-1.042L6.94 8 3.72 4.78a.75.75 0 0 1 0-1.06Z"></path>
</svg></button>
    </div>
  </div>
  
</div>
      <scrollable-region data-labelled-by="feedback-dialog-title">
        <div data-view-component="true" class="Overlay-body">        <!-- '"` --><!-- </textarea></xmp> --></option></form><form id="code-search-feedback-form" data-turbo="false" action="/search/feedback" accept-charset="UTF-8" method="post"><input type="hidden" name="authenticity_token" value="AOQSjilmkpgu5XcVImldwZzM1xAzBslyHI-jLIZOrsCioWqOnL48VXMcpx1W_ZERRjnNksrREWKCe7-SqgU87w" />
          <p>We read every piece of feedback, and take your input very seriously.</p>
          <textarea name="feedback" class="form-control width-full mb-2" style="height: 120px" id="feedback"></textarea>
          <input name="include_email" id="include_email" aria-label="Include my email address so I can be contacted" class="form-control mr-2" type="checkbox">
          <label for="include_email" style="font-weight: normal">Include my email address so I can be contacted</label>
</form></div>
      </scrollable-region>
      <div data-view-component="true" class="Overlay-footer Overlay-footer--alignEnd">          <button data-close-dialog-id="feedback-dialog" type="button" data-view-component="true" class="btn">    Cancel
</button>
          <button form="code-search-feedback-form" data-action="click:qbsearch-input#submitFeedback" type="submit" data-view-component="true" class="btn-primary btn">    Submit feedback
</button>
</div>
</dialog></dialog-helper>

    <custom-scopes data-target="qbsearch-input.customScopesManager">
    
<dialog-helper>
  <dialog data-target="custom-scopes.customScopesModalDialog" data-action="close:qbsearch-input#handleDialogClose cancel:qbsearch-input#handleDialogClose" id="custom-scopes-dialog" aria-modal="true" aria-labelledby="custom-scopes-dialog-title" aria-describedby="custom-scopes-dialog-description" data-view-component="true" class="Overlay Overlay-whenNarrow Overlay--size-medium Overlay--motion-scaleFade Overlay--disableScroll">
    <div data-view-component="true" class="Overlay-header Overlay-header--divided">
  <div class="Overlay-headerContentWrap">
    <div class="Overlay-titleWrap">
      <h1 class="Overlay-title " id="custom-scopes-dialog-title">
        Saved searches
      </h1>
        <h2 id="custom-scopes-dialog-description" class="Overlay-description">Use saved searches to filter your results more quickly</h2>
    </div>
    <div class="Overlay-actionWrap">
      <button data-close-dialog-id="custom-scopes-dialog" aria-label="Close" aria-label="Close" type="button" data-view-component="true" class="close-button Overlay-closeButton"><svg aria-hidden="true" height="16" viewBox="0 0 16 16" version="1.1" width="16" data-view-component="true" class="octicon octicon-x">
    <path d="M3.72 3.72a.75.75 0 0 1 1.06 0L8 6.94l3.22-3.22a.749.749 0 0 1 1.275.326.749.749 0 0 1-.215.734L9.06 8l3.22 3.22a.749.749 0 0 1-.326 1.275.749.749 0 0 1-.734-.215L8 9.06l-3.22 3.22a.751.751 0 0 1-1.042-.018.751.751 0 0 1-.018-1.042L6.94 8 3.72 4.78a.75.75 0 0 1 0-1.06Z"></path>
</svg></button>
    </div>
  </div>
  
</div>
      <scrollable-region data-labelled-by="custom-scopes-dialog-title">
        <div data-view-component="true" class="Overlay-body">        <div data-target="custom-scopes.customScopesModalDialogFlash"></div>

        <div hidden class="create-custom-scope-form" data-target="custom-scopes.createCustomScopeForm">
        <!-- '"` --><!-- </textarea></xmp> --></option></form><form id="custom-scopes-dialog-form" data-turbo="false" action="/search/custom_scopes" accept-charset="UTF-8" method="post"><input type="hidden" name="authenticity_token" value="LYmBBhqBIAT3Vc44weUX_dpnt6sZG8Rsb84ZGVZZQsQESS5EiyC8PtJXRu9_Yawb1gwMqHFXb2sc8tvWWti3xA" />
          <div data-target="custom-scopes.customScopesModalDialogFlash"></div>

          <input type="hidden" id="custom_scope_id" name="custom_scope_id" data-target="custom-scopes.customScopesIdField">

          <div class="form-group">
            <label for="custom_scope_name">Name</label>
            <auto-check src="/search/custom_scopes/check_name" required>
              <input
                type="text"
                name="custom_scope_name"
                id="custom_scope_name"
                data-target="custom-scopes.customScopesNameField"
                class="form-control"
                autocomplete="off"
                placeholder="github-ruby"
                required
                maxlength="50">
              <input type="hidden" value="Q9LAB71AqO78zi9a8kuQqDoO60FwQ3N5IMM2Wy2TMMhaV5BdDBtMwQThmmHY9TFMVJ4jllZXhb-FCzCQ52uTRw" data-csrf="true" />
            </auto-check>
          </div>

          <div class="form-group">
            <label for="custom_scope_query">Query</label>
            <input
              type="text"
              name="custom_scope_query"
              id="custom_scope_query"
              data-target="custom-scopes.customScopesQueryField"
              class="form-control"
              autocomplete="off"
              placeholder="(repo:mona/a OR repo:mona/b) AND lang:python"
              required
              maxlength="500">
          </div>

          <p class="text-small color-fg-muted">
            To see all available qualifiers, see our <a class="Link--inTextBlock" href="https://docs.github.com/search-github/github-code-search/understanding-github-code-search-syntax">documentation</a>.
          </p>
</form>        </div>

        <div data-target="custom-scopes.manageCustomScopesForm">
          <div data-target="custom-scopes.list"></div>
        </div>

</div>
      </scrollable-region>
      <div data-view-component="true" class="Overlay-footer Overlay-footer--alignEnd Overlay-footer--divided">          <button data-action="click:custom-scopes#customScopesCancel" type="button" data-view-component="true" class="btn">    Cancel
</button>
          <button form="custom-scopes-dialog-form" data-action="click:custom-scopes#customScopesSubmit" data-target="custom-scopes.customScopesSubmitButton" type="submit" data-view-component="true" class="btn-primary btn">    Create saved search
</button>
</div>
</dialog></dialog-helper>
    </custom-scopes>
  </div>
</qbsearch-input>  <input type="hidden" value="dkwRAMDX_hPp4kbibZmSg0xzjcu08XSbfqSVGr2RD30boBEbuvxvRQHcxeH5l4LNTXNrz8Z7Q3qS9eCwiZTiPg" data-csrf="true" class="js-data-jump-to-suggestions-path-csrf" />


          </div>

        
          <div class="AppHeader-CopilotChat hide-sm hide-md">
  <react-partial-anchor>
      <a href="/copilot" data-target="react-partial-anchor.anchor" id="copilot-chat-header-button" aria-labelledby="tooltip-c18b8591-82c4-4413-bbfb-d06ffe138ef8" data-view-component="true" class="Button Button--iconOnly Button--secondary Button--medium AppHeader-button AppHeader-buttonLeft cursor-wait">  <svg aria-hidden="true" height="16" viewBox="0 0 16 16" version="1.1" width="16" data-view-component="true" class="octicon octicon-copilot Button-visual">
    <path d="M7.998 15.035c-4.562 0-7.873-2.914-7.998-3.749V9.338c.085-.628.677-1.686 1.588-2.065.013-.07.024-.143.036-.218.029-.183.06-.384.126-.612-.201-.508-.254-1.084-.254-1.656 0-.87.128-1.769.693-2.484.579-.733 1.494-1.124 2.724-1.261 1.206-.134 2.262.034 2.944.765.05.053.096.108.139.165.044-.057.094-.112.143-.165.682-.731 1.738-.899 2.944-.765 1.23.137 2.145.528 2.724 1.261.566.715.693 1.614.693 2.484 0 .572-.053 1.148-.254 1.656.066.228.098.429.126.612.012.076.024.148.037.218.924.385 1.522 1.471 1.591 2.095v1.872c0 .766-3.351 3.795-8.002 3.795Zm0-1.485c2.28 0 4.584-1.11 5.002-1.433V7.862l-.023-.116c-.49.21-1.075.291-1.727.291-1.146 0-2.059-.327-2.71-.991A3.222 3.222 0 0 1 8 6.303a3.24 3.24 0 0 1-.544.743c-.65.664-1.563.991-2.71.991-.652 0-1.236-.081-1.727-.291l-.023.116v4.255c.419.323 2.722 1.433 5.002 1.433ZM6.762 2.83c-.193-.206-.637-.413-1.682-.297-1.019.113-1.479.404-1.713.7-.247.312-.369.789-.369 1.554 0 .793.129 1.171.308 1.371.162.181.519.379 1.442.379.853 0 1.339-.235 1.638-.54.315-.322.527-.827.617-1.553.117-.935-.037-1.395-.241-1.614Zm4.155-.297c-1.044-.116-1.488.091-1.681.297-.204.219-.359.679-.242 1.614.091.726.303 1.231.618 1.553.299.305.784.54 1.638.54.922 0 1.28-.198 1.442-.379.179-.2.308-.578.308-1.371 0-.765-.123-1.242-.37-1.554-.233-.296-.693-.587-1.713-.7Z"></path><path d="M6.25 9.037a.75.75 0 0 1 .75.75v1.501a.75.75 0 0 1-1.5 0V9.787a.75.75 0 0 1 .75-.75Zm4.25.75v1.501a.75.75 0 0 1-1.5 0V9.787a.75.75 0 0 1 1.5 0Z"></path>
</svg>
</a><tool-tip id="tooltip-c18b8591-82c4-4413-bbfb-d06ffe138ef8" for="copilot-chat-header-button" popover="manual" data-direction="s" data-type="label" data-view-component="true" class="sr-only position-absolute">Chat with Copilot</tool-tip>

    <template data-target="react-partial-anchor.template">
      <script crossorigin="anonymous" type="application/javascript" src="https://github.githubassets.com/assets/vendors-node_modules_tanstack_react-query_build_modern_useQuery_js-8a047a904eb7.js" defer="defer"></script>
<script crossorigin="anonymous" type="application/javascript" src="https://github.githubassets.com/assets/vendors-node_modules_focus-visible_dist_focus-visible_js-node_modules_github_hotkey_dist_inde-336f14-af1017addab8.js" defer="defer"></script>
<script crossorigin="anonymous" type="application/javascript" src="https://github.githubassets.com/assets/vendors-node_modules_react-relay_index_js-cce72ae26cdb.js" defer="defer"></script>
<script crossorigin="anonymous" type="application/javascript" src="https://github.githubassets.com/assets/vendors-node_modules_remark-gfm_lib_index_js-node_modules_remark-parse_lib_index_js-node_modu-44d0fc-7eaa74070c73.js" defer="defer"></script>
<script crossorigin="anonymous" type="application/javascript" src="https://github.githubassets.com/assets/vendors-node_modules_hastscript_lib_index_js-node_modules_lowlight_lib_all_js-node_modules_re-7714c4-3ff6cb9f66a5.js" defer="defer"></script>
<script crossorigin="anonymous" type="application/javascript" src="https://github.githubassets.com/assets/vendors-node_modules_diff_lib_index_mjs-3d31f78b8478.js" defer="defer"></script>
<script crossorigin="anonymous" type="application/javascript" src="https://github.githubassets.com/assets/vendors-node_modules_github_mini-throttle_dist_decorators_js-node_modules_accname_dist_access-ce77c7-4daf69fcf5e0.js" defer="defer"></script>
<script crossorigin="anonymous" type="application/javascript" src="https://github.githubassets.com/assets/vendors-node_modules_emoji-regex_index_js-node_modules_tanstack_react-query_build_modern_useM-a11183-4baedbb2bacd.js" defer="defer"></script>
<script crossorigin="anonymous" type="application/javascript" src="https://github.githubassets.com/assets/vendors-node_modules_github_hydro-analytics-client_dist_analytics-client_js-node_modules_gith-3037e1-32a46ebb5721.js" defer="defer"></script>
<script crossorigin="anonymous" type="application/javascript" src="https://github.githubassets.com/assets/ui_packages_relay-environment_relay-environment_ts-6880df42a34b.js" defer="defer"></script>
<script crossorigin="anonymous" type="application/javascript" src="https://github.githubassets.com/assets/ui_packages_copilot-chat_utils_copilot-chat-helpers_ts-6bb98028000c.js" defer="defer"></script>
<script crossorigin="anonymous" type="application/javascript" src="https://github.githubassets.com/assets/ui_packages_item-picker_components_RepositoryPicker_tsx-4c709ef44797.js" defer="defer"></script>
<script crossorigin="anonymous" type="application/javascript" src="https://github.githubassets.com/assets/ui_packages_copilot-markdown_MarkdownRenderer_tsx-025b155ec3c4.js" defer="defer"></script>
<script crossorigin="anonymous" type="application/javascript" src="https://github.githubassets.com/assets/ui_packages_copilot-chat_utils_CopilotChatContext_tsx-b38d21c723cc.js" defer="defer"></script>
<script crossorigin="anonymous" type="application/javascript" src="https://github.githubassets.com/assets/ui_packages_copilot-chat_components_ModelPicker_tsx-66d98d7be657.js" defer="defer"></script>
<script crossorigin="anonymous" type="application/javascript" src="https://github.githubassets.com/assets/ui_packages_copilot-chat_components_CopilotIconAnimation_tsx-1da7f48de940.js" defer="defer"></script>
<script crossorigin="anonymous" type="application/javascript" src="https://github.githubassets.com/assets/ui_packages_document-metadata_document-metadata_ts-ui_packages_promise-with-resolvers-polyfil-93a5fb-fa290f04594b.js" defer="defer"></script>
<script crossorigin="anonymous" type="application/javascript" src="https://github.githubassets.com/assets/ui_packages_copilot-chat_entry_ts-ui_packages_use-client-value_use-client-value_ts-ui_package-24032a-de561a0b3bce.js" defer="defer"></script>
<script crossorigin="anonymous" type="application/javascript" src="https://github.githubassets.com/assets/copilot-chat-a8c9c44e9e2f.js" defer="defer"></script>
<link crossorigin="anonymous" media="all" rel="stylesheet" href="https://github.githubassets.com/assets/primer-react.260d30274859410b0337.module.css" />
<link crossorigin="anonymous" media="all" rel="stylesheet" href="https://github.githubassets.com/assets/ui_packages_document-metadata_document-metadata_ts-ui_packages_promise-with-resolvers-polyfil-93a5fb.a97da77ef9ffbbb01961.module.css" />
<link crossorigin="anonymous" media="all" rel="stylesheet" href="https://github.githubassets.com/assets/copilot-chat.28666a8d26ecd3bb66c4.module.css" />
      <link crossorigin="anonymous" media="all" rel="stylesheet" href="https://github.githubassets.com/assets/copilot-markdown-rendering-ddd978d4a7c0.css" />
      <include-fragment src="/github-copilot/chat?skip_anchor=true" data-nonce="v2:f1949f1a-672c-e7f0-8d78-691590dbac59" data-view-component="true">
  
  <div data-show-on-forbidden-error hidden>
    <div class="Box">
  <div class="blankslate-container">
    <div data-view-component="true" class="blankslate blankslate-spacious color-bg-default rounded-2">
      

      <h3 data-view-component="true" class="blankslate-heading">        Uh oh!
</h3>
      <p data-view-component="true">        <p class="color-fg-muted my-2 mb-2 ws-normal">There was an error while loading. <a class="Link--inTextBlock" data-turbo="false" href="" aria-label="Please reload this page">Please reload this page</a>.</p>
</p>

</div>  </div>
</div>  </div>
</include-fragment>
    </template>
  </react-partial-anchor>
  <react-partial-anchor>
    <button id="global-copilot-menu-button" data-target="react-partial-anchor.anchor" aria-expanded="false" aria-labelledby="tooltip-40101add-e358-4fcb-bc72-78e6296386b3" type="button" data-view-component="true" class="Button Button--iconOnly Button--secondary Button--medium AppHeader-button AppHeader-buttonRight ">  <svg aria-hidden="true" height="16" viewBox="0 0 16 16" version="1.1" width="16" data-view-component="true" class="octicon octicon-triangle-down Button-visual">
    <path d="m4.427 7.427 3.396 3.396a.25.25 0 0 0 .354 0l3.396-3.396A.25.25 0 0 0 11.396 7H4.604a.25.25 0 0 0-.177.427Z"></path>
</svg>
</button><tool-tip id="tooltip-40101add-e358-4fcb-bc72-78e6296386b3" for="global-copilot-menu-button" popover="manual" data-direction="s" data-type="label" data-view-component="true" class="sr-only position-absolute">Open Copilot… (Alt+Shift+C)</tool-tip>

    <template data-target="react-partial-anchor.template">
      <link crossorigin="anonymous" media="all" rel="stylesheet" href="https://github.githubassets.com/assets/primer-react.260d30274859410b0337.module.css" />
<link crossorigin="anonymous" media="all" rel="stylesheet" href="https://github.githubassets.com/assets/ui_packages_agent-sessions_utils_uuid_ts-ui_packages_agent-sessions_components_NewTaskChatInp-867ea1.2e1147cad88bd78932e9.module.css" />
<link crossorigin="anonymous" media="all" rel="stylesheet" href="https://github.githubassets.com/assets/global-copilot-menu.482572570c598edaa829.module.css" />

<react-partial
  partial-name="global-copilot-menu"
  data-ssr="false"
  data-attempted-ssr="false"
  data-react-profiling="false"
>
  
  <script type="application/json" data-target="react-partial.embeddedData">{"props":{}}</script>
  <div data-target="react-partial.reactRoot"></div>
</react-partial>

    </template>
  </react-partial-anchor>
</div>




        <div class="AppHeader-actions position-relative">
             <react-partial-anchor>
      <button id="global-create-menu-anchor" aria-label="Create something new" data-target="react-partial-anchor.anchor" type="button" disabled="disabled" data-view-component="true" class="AppHeader-button global-create-button cursor-wait Button--secondary Button--medium Button width-auto color-fg-muted">  <span class="Button-content">
      <span class="Button-visual Button-leadingVisual">
        <svg aria-hidden="true" height="16" viewBox="0 0 16 16" version="1.1" width="16" data-view-component="true" class="octicon octicon-plus">
    <path d="M7.75 2a.75.75 0 0 1 .75.75V7h4.25a.75.75 0 0 1 0 1.5H8.5v4.25a.75.75 0 0 1-1.5 0V8.5H2.75a.75.75 0 0 1 0-1.5H7V2.75A.75.75 0 0 1 7.75 2Z"></path>
</svg>
      </span>
    <span class="Button-label"><svg aria-hidden="true" height="16" viewBox="0 0 16 16" version="1.1" width="16" data-view-component="true" class="octicon octicon-triangle-down">
    <path d="m4.427 7.427 3.396 3.396a.25.25 0 0 0 .354 0l3.396-3.396A.25.25 0 0 0 11.396 7H4.604a.25.25 0 0 0-.177.427Z"></path>
</svg></span>
  </span>
</button><tool-tip id="tooltip-6a37f57b-2d06-47b7-81d4-2ca3645cb531" for="global-create-menu-anchor" popover="manual" data-direction="s" data-type="description" data-view-component="true" class="sr-only position-absolute">Create new...</tool-tip>

      <template data-target="react-partial-anchor.template">
        <link crossorigin="anonymous" media="all" rel="stylesheet" href="https://github.githubassets.com/assets/primer-react.260d30274859410b0337.module.css" />
<link crossorigin="anonymous" media="all" rel="stylesheet" href="https://github.githubassets.com/assets/global-create-menu.be9cb11ea6367dfdb719.module.css" />

<react-partial
  partial-name="global-create-menu"
  data-ssr="false"
  data-attempted-ssr="false"
  data-react-profiling="false"
>
  
  <script type="application/json" data-target="react-partial.embeddedData">{"props":{"createRepo":true,"importRepo":true,"codespaces":true,"spark":false,"codingAgent":false,"gist":true,"createOrg":true,"createProject":false,"createProjectUrl":"/OmkarAthavale?tab=projects","createLegacyProject":false,"createIssue":true,"org":null,"owner":"SPARC-FAIR-Codeathon","repo":"2025-team-F"}}</script>
  <div data-target="react-partial.reactRoot"></div>
</react-partial>

      </template>
    </react-partial-anchor>


            <a href="/issues" data-analytics-event="{&quot;category&quot;:&quot;Global navigation&quot;,&quot;action&quot;:&quot;ISSUES_HEADER&quot;,&quot;label&quot;:null}" id="icon-button-1391d1aa-804f-4ac6-b20a-f25ac10acaf5" aria-labelledby="tooltip-e286ea25-4a08-4f8a-b28c-8960fb16a623" data-view-component="true" class="Button Button--iconOnly Button--secondary Button--medium AppHeader-button color-fg-muted">  <svg aria-hidden="true" height="16" viewBox="0 0 16 16" version="1.1" width="16" data-view-component="true" class="octicon octicon-issue-opened Button-visual">
    <path d="M8 9.5a1.5 1.5 0 1 0 0-3 1.5 1.5 0 0 0 0 3Z"></path><path d="M8 0a8 8 0 1 1 0 16A8 8 0 0 1 8 0ZM1.5 8a6.5 6.5 0 1 0 13 0 6.5 6.5 0 0 0-13 0Z"></path>
</svg>
</a><tool-tip id="tooltip-e286ea25-4a08-4f8a-b28c-8960fb16a623" for="icon-button-1391d1aa-804f-4ac6-b20a-f25ac10acaf5" popover="manual" data-direction="s" data-type="label" data-view-component="true" class="sr-only position-absolute">Your issues</tool-tip>

            <a href="/pulls" data-analytics-event="{&quot;category&quot;:&quot;Global navigation&quot;,&quot;action&quot;:&quot;PULL_REQUESTS_HEADER&quot;,&quot;label&quot;:null}" id="icon-button-03962ca0-a4b2-4265-bfd7-86ccfd141f55" aria-labelledby="tooltip-0932a776-20ef-4227-b690-b3fc90dd86ce" data-view-component="true" class="Button Button--iconOnly Button--secondary Button--medium AppHeader-button color-fg-muted">  <svg aria-hidden="true" height="16" viewBox="0 0 16 16" version="1.1" width="16" data-view-component="true" class="octicon octicon-git-pull-request Button-visual">
    <path d="M1.5 3.25a2.25 2.25 0 1 1 3 2.122v5.256a2.251 2.251 0 1 1-1.5 0V5.372A2.25 2.25 0 0 1 1.5 3.25Zm5.677-.177L9.573.677A.25.25 0 0 1 10 .854V2.5h1A2.5 2.5 0 0 1 13.5 5v5.628a2.251 2.251 0 1 1-1.5 0V5a1 1 0 0 0-1-1h-1v1.646a.25.25 0 0 1-.427.177L7.177 3.427a.25.25 0 0 1 0-.354ZM3.75 2.5a.75.75 0 1 0 0 1.5.75.75 0 0 0 0-1.5Zm0 9.5a.75.75 0 1 0 0 1.5.75.75 0 0 0 0-1.5Zm8.25.75a.75.75 0 1 0 1.5 0 .75.75 0 0 0-1.5 0Z"></path>
</svg>
</a><tool-tip id="tooltip-0932a776-20ef-4227-b690-b3fc90dd86ce" for="icon-button-03962ca0-a4b2-4265-bfd7-86ccfd141f55" popover="manual" data-direction="s" data-type="label" data-view-component="true" class="sr-only position-absolute">Your pull requests</tool-tip>

        </div>

          <notification-indicator data-channel="eyJjIjoibm90aWZpY2F0aW9uLWNoYW5nZWQ6MjUwMTU3NTQiLCJ0IjoxNzU0MzY2MDEzfQ==--981dc8a56d1923dc740142de6a3f1fc9dc8251375050b179f1012c95abca37e9" data-indicator-mode="none" data-tooltip-global="You have unread notifications" data-tooltip-unavailable="Notifications are unavailable at the moment." data-tooltip-none="You have no unread notifications" data-header-redesign-enabled="true" data-fetch-indicator-src="/notifications/indicator" data-fetch-indicator-enabled="true" data-view-component="true" class="js-socket-channel">
    <a id="AppHeader-notifications-button" href="/notifications" aria-labelledby="notification-indicator-tooltip" data-hotkey="g n" data-target="notification-indicator.link" data-analytics-event="{&quot;category&quot;:&quot;Global navigation&quot;,&quot;action&quot;:&quot;NOTIFICATIONS_HEADER&quot;,&quot;label&quot;:null}" data-view-component="true" class="Button Button--iconOnly Button--secondary Button--medium AppHeader-button  color-fg-muted">  <svg aria-hidden="true" height="16" viewBox="0 0 16 16" version="1.1" width="16" data-view-component="true" class="octicon octicon-inbox Button-visual">
    <path d="M2.8 2.06A1.75 1.75 0 0 1 4.41 1h7.18c.7 0 1.333.417 1.61 1.06l2.74 6.395c.04.093.06.194.06.295v4.5A1.75 1.75 0 0 1 14.25 15H1.75A1.75 1.75 0 0 1 0 13.25v-4.5c0-.101.02-.202.06-.295Zm1.61.44a.25.25 0 0 0-.23.152L1.887 8H4.75a.75.75 0 0 1 .6.3L6.625 10h2.75l1.275-1.7a.75.75 0 0 1 .6-.3h2.863L11.82 2.652a.25.25 0 0 0-.23-.152Zm10.09 7h-2.875l-1.275 1.7a.75.75 0 0 1-.6.3h-3.5a.75.75 0 0 1-.6-.3L4.375 9.5H1.5v3.75c0 .138.112.25.25.25h12.5a.25.25 0 0 0 .25-.25Z"></path>
</svg>
</a>

    <tool-tip id="notification-indicator-tooltip" data-target="notification-indicator.tooltip" for="AppHeader-notifications-button" popover="manual" data-direction="s" data-type="label" data-view-component="true" class="sr-only position-absolute">Notifications</tool-tip>
</notification-indicator>

        <div class="AppHeader-user">
          <deferred-side-panel data-url="/_side-panels/user?repository_id=1028403411">
  <include-fragment data-target="deferred-side-panel.fragment" data-nonce="v2:f1949f1a-672c-e7f0-8d78-691590dbac59" data-view-component="true">
  
    <react-partial-anchor
  
>
  <button data-target="react-partial-anchor.anchor" data-login="OmkarAthavale" aria-label="Open user navigation menu" type="button" data-view-component="true" class="cursor-wait Button--invisible Button--medium Button Button--invisible-noVisuals color-bg-transparent p-0">  <span class="Button-content">
    <span class="Button-label"><img src="https://avatars.githubusercontent.com/u/25015754?v=4" alt="" size="32" height="32" width="32" data-view-component="true" class="avatar circle" /></span>
  </span>
</button>
  <template data-target="react-partial-anchor.template">
    <link crossorigin="anonymous" media="all" rel="stylesheet" href="https://github.githubassets.com/assets/primer-react.260d30274859410b0337.module.css" />
<link crossorigin="anonymous" media="all" rel="stylesheet" href="https://github.githubassets.com/assets/global-user-nav-drawer.e8cf9cec9edb459b70de.module.css" />

<react-partial
  partial-name="global-user-nav-drawer"
  data-ssr="false"
  data-attempted-ssr="false"
  data-react-profiling="false"
>
  
  <script type="application/json" data-target="react-partial.embeddedData">{"props":{"owner":{"login":"OmkarAthavale","name":null,"avatarUrl":"https://avatars.githubusercontent.com/u/25015754?v=4"},"drawerId":"global-user-nav-drawer","lazyLoadItemDataFetchUrl":"/_side-panels/user.json","canAddAccount":true,"addAccountPath":"/login?add_account=1\u0026return_to=https%3A%2F%2Fgithub.com%2FSPARC-FAIR-Codeathon%2F2025-team-F%2Fblob%2Frestructuring%2Fexamples%2Ftf_fine_tune_model.ipynb","switchAccountPath":"/switch_account","loginAccountPath":"/login?add_account=1","projectsPath":"/OmkarAthavale?tab=projects","gistsUrl":"https://gist.github.com/mine","docsUrl":"https://docs.github.com","yourEnterpriseUrl":null,"enterpriseSettingsUrl":null,"supportUrl":"https://support.github.com","showAccountSwitcher":true,"showCopilot":true,"showEnterprises":true,"showEnterprise":false,"showGithubMCPServerCTA":true,"showGists":true,"showOrganizations":true,"showSponsors":true,"showUpgrade":true,"showFeaturesPreviews":true,"showEnterpriseSettings":false,"createMenuProps":{"createRepo":true,"importRepo":true,"codespaces":true,"spark":false,"codingAgent":false,"gist":true,"createOrg":true,"createProject":false,"createProjectUrl":"/OmkarAthavale?tab=projects","createLegacyProject":false,"createIssue":true,"org":null,"owner":"SPARC-FAIR-Codeathon","repo":"2025-team-F"}}}</script>
  <div data-target="react-partial.reactRoot"></div>
</react-partial>

  </template>
</react-partial-anchor>


  <div data-show-on-forbidden-error hidden>
    <div class="Box">
  <div class="blankslate-container">
    <div data-view-component="true" class="blankslate blankslate-spacious color-bg-default rounded-2">
      

      <h3 data-view-component="true" class="blankslate-heading">        Uh oh!
</h3>
      <p data-view-component="true">        <p class="color-fg-muted my-2 mb-2 ws-normal">There was an error while loading. <a class="Link--inTextBlock" data-turbo="false" href="" aria-label="Please reload this page">Please reload this page</a>.</p>
</p>

</div>  </div>
</div>  </div>
</include-fragment></deferred-side-panel>
        </div>

        <div class="position-absolute mt-2">
            
<site-header-logged-in-user-menu>

</site-header-logged-in-user-menu>

        </div>
      </div>
    </div>


    
        <div class="AppHeader-localBar" >
          <nav data-pjax="#js-repo-pjax-container" aria-label="Repository" data-view-component="true" class="js-repo-nav js-sidenav-container-pjax js-responsive-underlinenav overflow-hidden UnderlineNav">

  <ul data-view-component="true" class="UnderlineNav-body list-style-none">
      <li data-view-component="true" class="d-inline-flex">
  <a id="code-tab" href="/SPARC-FAIR-Codeathon/2025-team-F/tree/restructuring" data-tab-item="i0code-tab" data-selected-links="repo_source repo_downloads repo_commits repo_releases repo_tags repo_branches repo_packages repo_deployments repo_attestations /SPARC-FAIR-Codeathon/2025-team-F/tree/restructuring" data-pjax="#repo-content-pjax-container" data-turbo-frame="repo-content-turbo-frame" data-hotkey="g c" data-analytics-event="{&quot;category&quot;:&quot;Underline navbar&quot;,&quot;action&quot;:&quot;Click tab&quot;,&quot;label&quot;:&quot;Code&quot;,&quot;target&quot;:&quot;UNDERLINE_NAV.TAB&quot;}" data-view-component="true" class="UnderlineNav-item no-wrap js-responsive-underlinenav-item js-selected-navigation-item">
    
              <svg aria-hidden="true" height="16" viewBox="0 0 16 16" version="1.1" width="16" data-view-component="true" class="octicon octicon-code UnderlineNav-octicon d-none d-sm-inline">
    <path d="m11.28 3.22 4.25 4.25a.75.75 0 0 1 0 1.06l-4.25 4.25a.749.749 0 0 1-1.275-.326.749.749 0 0 1 .215-.734L13.94 8l-3.72-3.72a.749.749 0 0 1 .326-1.275.749.749 0 0 1 .734.215Zm-6.56 0a.751.751 0 0 1 1.042.018.751.751 0 0 1 .018 1.042L2.06 8l3.72 3.72a.749.749 0 0 1-.326 1.275.749.749 0 0 1-.734-.215L.47 8.53a.75.75 0 0 1 0-1.06Z"></path>
</svg>
        <span data-content="Code">Code</span>
          <span id="code-repo-tab-count" data-pjax-replace="" data-turbo-replace="" title="Not available" data-view-component="true" class="Counter"></span>


    
</a></li>
      <li data-view-component="true" class="d-inline-flex">
  <a id="issues-tab" href="/SPARC-FAIR-Codeathon/2025-team-F/issues" data-tab-item="i1issues-tab" data-selected-links="repo_issues repo_labels repo_milestones /SPARC-FAIR-Codeathon/2025-team-F/issues" data-pjax="#repo-content-pjax-container" data-turbo-frame="repo-content-turbo-frame" data-hotkey="g i" data-analytics-event="{&quot;category&quot;:&quot;Underline navbar&quot;,&quot;action&quot;:&quot;Click tab&quot;,&quot;label&quot;:&quot;Issues&quot;,&quot;target&quot;:&quot;UNDERLINE_NAV.TAB&quot;}" data-view-component="true" class="UnderlineNav-item no-wrap js-responsive-underlinenav-item js-selected-navigation-item">
    
              <svg aria-hidden="true" height="16" viewBox="0 0 16 16" version="1.1" width="16" data-view-component="true" class="octicon octicon-issue-opened UnderlineNav-octicon d-none d-sm-inline">
    <path d="M8 9.5a1.5 1.5 0 1 0 0-3 1.5 1.5 0 0 0 0 3Z"></path><path d="M8 0a8 8 0 1 1 0 16A8 8 0 0 1 8 0ZM1.5 8a6.5 6.5 0 1 0 13 0 6.5 6.5 0 0 0-13 0Z"></path>
</svg>
        <span data-content="Issues">Issues</span>
          <span id="issues-repo-tab-count" data-pjax-replace="" data-turbo-replace="" title="0" hidden="hidden" data-view-component="true" class="Counter">0</span>


    
</a></li>
      <li data-view-component="true" class="d-inline-flex">
  <a id="pull-requests-tab" href="/SPARC-FAIR-Codeathon/2025-team-F/pulls" data-tab-item="i2pull-requests-tab" data-selected-links="repo_pulls checks /SPARC-FAIR-Codeathon/2025-team-F/pulls" data-pjax="#repo-content-pjax-container" data-turbo-frame="repo-content-turbo-frame" data-hotkey="g p" data-analytics-event="{&quot;category&quot;:&quot;Underline navbar&quot;,&quot;action&quot;:&quot;Click tab&quot;,&quot;label&quot;:&quot;Pull requests&quot;,&quot;target&quot;:&quot;UNDERLINE_NAV.TAB&quot;}" data-view-component="true" class="UnderlineNav-item no-wrap js-responsive-underlinenav-item js-selected-navigation-item">
    
              <svg aria-hidden="true" height="16" viewBox="0 0 16 16" version="1.1" width="16" data-view-component="true" class="octicon octicon-git-pull-request UnderlineNav-octicon d-none d-sm-inline">
    <path d="M1.5 3.25a2.25 2.25 0 1 1 3 2.122v5.256a2.251 2.251 0 1 1-1.5 0V5.372A2.25 2.25 0 0 1 1.5 3.25Zm5.677-.177L9.573.677A.25.25 0 0 1 10 .854V2.5h1A2.5 2.5 0 0 1 13.5 5v5.628a2.251 2.251 0 1 1-1.5 0V5a1 1 0 0 0-1-1h-1v1.646a.25.25 0 0 1-.427.177L7.177 3.427a.25.25 0 0 1 0-.354ZM3.75 2.5a.75.75 0 1 0 0 1.5.75.75 0 0 0 0-1.5Zm0 9.5a.75.75 0 1 0 0 1.5.75.75 0 0 0 0-1.5Zm8.25.75a.75.75 0 1 0 1.5 0 .75.75 0 0 0-1.5 0Z"></path>
</svg>
        <span data-content="Pull requests">Pull requests</span>
          <span id="pull-requests-repo-tab-count" data-pjax-replace="" data-turbo-replace="" title="0" hidden="hidden" data-view-component="true" class="Counter">0</span>


    
</a></li>
      <li data-view-component="true" class="d-inline-flex">
  <a id="actions-tab" href="/SPARC-FAIR-Codeathon/2025-team-F/actions" data-tab-item="i3actions-tab" data-selected-links="repo_actions /SPARC-FAIR-Codeathon/2025-team-F/actions" data-pjax="#repo-content-pjax-container" data-turbo-frame="repo-content-turbo-frame" data-hotkey="g a" data-analytics-event="{&quot;category&quot;:&quot;Underline navbar&quot;,&quot;action&quot;:&quot;Click tab&quot;,&quot;label&quot;:&quot;Actions&quot;,&quot;target&quot;:&quot;UNDERLINE_NAV.TAB&quot;}" data-view-component="true" class="UnderlineNav-item no-wrap js-responsive-underlinenav-item js-selected-navigation-item">
    
              <svg aria-hidden="true" height="16" viewBox="0 0 16 16" version="1.1" width="16" data-view-component="true" class="octicon octicon-play UnderlineNav-octicon d-none d-sm-inline">
    <path d="M8 0a8 8 0 1 1 0 16A8 8 0 0 1 8 0ZM1.5 8a6.5 6.5 0 1 0 13 0 6.5 6.5 0 0 0-13 0Zm4.879-2.773 4.264 2.559a.25.25 0 0 1 0 .428l-4.264 2.559A.25.25 0 0 1 6 10.559V5.442a.25.25 0 0 1 .379-.215Z"></path>
</svg>
        <span data-content="Actions">Actions</span>
          <span id="actions-repo-tab-count" data-pjax-replace="" data-turbo-replace="" title="Not available" data-view-component="true" class="Counter"></span>


    
</a></li>
      <li data-view-component="true" class="d-inline-flex">
  <a id="projects-tab" href="/SPARC-FAIR-Codeathon/2025-team-F/projects" data-tab-item="i4projects-tab" data-selected-links="repo_projects new_repo_project repo_project /SPARC-FAIR-Codeathon/2025-team-F/projects" data-pjax="#repo-content-pjax-container" data-turbo-frame="repo-content-turbo-frame" data-hotkey="g b" data-analytics-event="{&quot;category&quot;:&quot;Underline navbar&quot;,&quot;action&quot;:&quot;Click tab&quot;,&quot;label&quot;:&quot;Projects&quot;,&quot;target&quot;:&quot;UNDERLINE_NAV.TAB&quot;}" data-view-component="true" class="UnderlineNav-item no-wrap js-responsive-underlinenav-item js-selected-navigation-item">
    
              <svg aria-hidden="true" height="16" viewBox="0 0 16 16" version="1.1" width="16" data-view-component="true" class="octicon octicon-table UnderlineNav-octicon d-none d-sm-inline">
    <path d="M0 1.75C0 .784.784 0 1.75 0h12.5C15.216 0 16 .784 16 1.75v12.5A1.75 1.75 0 0 1 14.25 16H1.75A1.75 1.75 0 0 1 0 14.25ZM6.5 6.5v8h7.75a.25.25 0 0 0 .25-.25V6.5Zm8-1.5V1.75a.25.25 0 0 0-.25-.25H6.5V5Zm-13 1.5v7.75c0 .138.112.25.25.25H5v-8ZM5 5V1.5H1.75a.25.25 0 0 0-.25.25V5Z"></path>
</svg>
        <span data-content="Projects">Projects</span>
          <span id="projects-repo-tab-count" data-pjax-replace="" data-turbo-replace="" title="0" hidden="hidden" data-view-component="true" class="Counter">0</span>


    
</a></li>
      <li data-view-component="true" class="d-inline-flex">
  <a id="wiki-tab" href="/SPARC-FAIR-Codeathon/2025-team-F/wiki" data-tab-item="i5wiki-tab" data-selected-links="repo_wiki /SPARC-FAIR-Codeathon/2025-team-F/wiki" data-pjax="#repo-content-pjax-container" data-turbo-frame="repo-content-turbo-frame" data-hotkey="g w" data-analytics-event="{&quot;category&quot;:&quot;Underline navbar&quot;,&quot;action&quot;:&quot;Click tab&quot;,&quot;label&quot;:&quot;Wiki&quot;,&quot;target&quot;:&quot;UNDERLINE_NAV.TAB&quot;}" data-view-component="true" class="UnderlineNav-item no-wrap js-responsive-underlinenav-item js-selected-navigation-item">
    
              <svg aria-hidden="true" height="16" viewBox="0 0 16 16" version="1.1" width="16" data-view-component="true" class="octicon octicon-book UnderlineNav-octicon d-none d-sm-inline">
    <path d="M0 1.75A.75.75 0 0 1 .75 1h4.253c1.227 0 2.317.59 3 1.501A3.743 3.743 0 0 1 11.006 1h4.245a.75.75 0 0 1 .75.75v10.5a.75.75 0 0 1-.75.75h-4.507a2.25 2.25 0 0 0-1.591.659l-.622.621a.75.75 0 0 1-1.06 0l-.622-.621A2.25 2.25 0 0 0 5.258 13H.75a.75.75 0 0 1-.75-.75Zm7.251 10.324.004-5.073-.002-2.253A2.25 2.25 0 0 0 5.003 2.5H1.5v9h3.757a3.75 3.75 0 0 1 1.994.574ZM8.755 4.75l-.004 7.322a3.752 3.752 0 0 1 1.992-.572H14.5v-9h-3.495a2.25 2.25 0 0 0-2.25 2.25Z"></path>
</svg>
        <span data-content="Wiki">Wiki</span>
          <span id="wiki-repo-tab-count" data-pjax-replace="" data-turbo-replace="" title="Not available" data-view-component="true" class="Counter"></span>


    
</a></li>
      <li data-view-component="true" class="d-inline-flex">
  <a id="security-tab" href="/SPARC-FAIR-Codeathon/2025-team-F/security" data-tab-item="i6security-tab" data-selected-links="security overview alerts policy token_scanning code_scanning /SPARC-FAIR-Codeathon/2025-team-F/security" data-pjax="#repo-content-pjax-container" data-turbo-frame="repo-content-turbo-frame" data-hotkey="g s" data-analytics-event="{&quot;category&quot;:&quot;Underline navbar&quot;,&quot;action&quot;:&quot;Click tab&quot;,&quot;label&quot;:&quot;Security&quot;,&quot;target&quot;:&quot;UNDERLINE_NAV.TAB&quot;}" data-view-component="true" class="UnderlineNav-item no-wrap js-responsive-underlinenav-item js-selected-navigation-item">
    
              <svg aria-hidden="true" height="16" viewBox="0 0 16 16" version="1.1" width="16" data-view-component="true" class="octicon octicon-shield UnderlineNav-octicon d-none d-sm-inline">
    <path d="M7.467.133a1.748 1.748 0 0 1 1.066 0l5.25 1.68A1.75 1.75 0 0 1 15 3.48V7c0 1.566-.32 3.182-1.303 4.682-.983 1.498-2.585 2.813-5.032 3.855a1.697 1.697 0 0 1-1.33 0c-2.447-1.042-4.049-2.357-5.032-3.855C1.32 10.182 1 8.566 1 7V3.48a1.75 1.75 0 0 1 1.217-1.667Zm.61 1.429a.25.25 0 0 0-.153 0l-5.25 1.68a.25.25 0 0 0-.174.238V7c0 1.358.275 2.666 1.057 3.86.784 1.194 2.121 2.34 4.366 3.297a.196.196 0 0 0 .154 0c2.245-.956 3.582-2.104 4.366-3.298C13.225 9.666 13.5 8.36 13.5 7V3.48a.251.251 0 0 0-.174-.237l-5.25-1.68ZM8.75 4.75v3a.75.75 0 0 1-1.5 0v-3a.75.75 0 0 1 1.5 0ZM9 10.5a1 1 0 1 1-2 0 1 1 0 0 1 2 0Z"></path>
</svg>
        <span data-content="Security">Security</span>
          <include-fragment src="/SPARC-FAIR-Codeathon/2025-team-F/security/overall-count" accept="text/fragment+html" data-nonce="v2:f1949f1a-672c-e7f0-8d78-691590dbac59" data-view-component="true">
  
  <div data-show-on-forbidden-error hidden>
    <div class="Box">
  <div class="blankslate-container">
    <div data-view-component="true" class="blankslate blankslate-spacious color-bg-default rounded-2">
      

      <h3 data-view-component="true" class="blankslate-heading">        Uh oh!
</h3>
      <p data-view-component="true">        <p class="color-fg-muted my-2 mb-2 ws-normal">There was an error while loading. <a class="Link--inTextBlock" data-turbo="false" href="" aria-label="Please reload this page">Please reload this page</a>.</p>
</p>

</div>  </div>
</div>  </div>
</include-fragment>

    
</a></li>
      <li data-view-component="true" class="d-inline-flex">
  <a id="insights-tab" href="/SPARC-FAIR-Codeathon/2025-team-F/pulse" data-tab-item="i7insights-tab" data-selected-links="repo_graphs repo_contributors dependency_graph dependabot_updates pulse people community /SPARC-FAIR-Codeathon/2025-team-F/pulse" data-pjax="#repo-content-pjax-container" data-turbo-frame="repo-content-turbo-frame" data-analytics-event="{&quot;category&quot;:&quot;Underline navbar&quot;,&quot;action&quot;:&quot;Click tab&quot;,&quot;label&quot;:&quot;Insights&quot;,&quot;target&quot;:&quot;UNDERLINE_NAV.TAB&quot;}" data-view-component="true" class="UnderlineNav-item no-wrap js-responsive-underlinenav-item js-selected-navigation-item">
    
              <svg aria-hidden="true" height="16" viewBox="0 0 16 16" version="1.1" width="16" data-view-component="true" class="octicon octicon-graph UnderlineNav-octicon d-none d-sm-inline">
    <path d="M1.5 1.75V13.5h13.75a.75.75 0 0 1 0 1.5H.75a.75.75 0 0 1-.75-.75V1.75a.75.75 0 0 1 1.5 0Zm14.28 2.53-5.25 5.25a.75.75 0 0 1-1.06 0L7 7.06 4.28 9.78a.751.751 0 0 1-1.042-.018.751.751 0 0 1-.018-1.042l3.25-3.25a.75.75 0 0 1 1.06 0L10 7.94l4.72-4.72a.751.751 0 0 1 1.042.018.751.751 0 0 1 .018 1.042Z"></path>
</svg>
        <span data-content="Insights">Insights</span>
          <span id="insights-repo-tab-count" data-pjax-replace="" data-turbo-replace="" title="Not available" data-view-component="true" class="Counter"></span>


    
</a></li>
</ul>
    <div style="visibility:hidden;" data-view-component="true" class="UnderlineNav-actions js-responsive-underlinenav-overflow position-absolute pr-3 pr-md-4 pr-lg-5 right-0">      <action-menu data-select-variant="none" data-view-component="true">
  <focus-group direction="vertical" mnemonics retain>
    <button id="action-menu-01a26dd0-ed1d-4482-b353-9784f7e9a644-button" popovertarget="action-menu-01a26dd0-ed1d-4482-b353-9784f7e9a644-overlay" aria-controls="action-menu-01a26dd0-ed1d-4482-b353-9784f7e9a644-list" aria-haspopup="true" aria-labelledby="tooltip-54c4a6b1-adf0-4fd5-a061-63d47597a904" type="button" data-view-component="true" class="Button Button--iconOnly Button--secondary Button--medium UnderlineNav-item">  <svg aria-hidden="true" height="16" viewBox="0 0 16 16" version="1.1" width="16" data-view-component="true" class="octicon octicon-kebab-horizontal Button-visual">
    <path d="M8 9a1.5 1.5 0 1 0 0-3 1.5 1.5 0 0 0 0 3ZM1.5 9a1.5 1.5 0 1 0 0-3 1.5 1.5 0 0 0 0 3Zm13 0a1.5 1.5 0 1 0 0-3 1.5 1.5 0 0 0 0 3Z"></path>
</svg>
</button><tool-tip id="tooltip-54c4a6b1-adf0-4fd5-a061-63d47597a904" for="action-menu-01a26dd0-ed1d-4482-b353-9784f7e9a644-button" popover="manual" data-direction="s" data-type="label" data-view-component="true" class="sr-only position-absolute">Additional navigation options</tool-tip>


<anchored-position data-target="action-menu.overlay" id="action-menu-01a26dd0-ed1d-4482-b353-9784f7e9a644-overlay" anchor="action-menu-01a26dd0-ed1d-4482-b353-9784f7e9a644-button" align="start" side="outside-bottom" anchor-offset="normal" popover="auto" data-view-component="true">
  <div data-view-component="true" class="Overlay Overlay--size-auto">
    
      <div data-view-component="true" class="Overlay-body Overlay-body--paddingNone">          <action-list>
  <div data-view-component="true">
    <ul aria-labelledby="action-menu-01a26dd0-ed1d-4482-b353-9784f7e9a644-button" id="action-menu-01a26dd0-ed1d-4482-b353-9784f7e9a644-list" role="menu" data-view-component="true" class="ActionListWrap--inset ActionListWrap">
        <li hidden="hidden" data-menu-item="i0code-tab" data-targets="action-list.items" role="none" data-view-component="true" class="ActionListItem">
    
    
    <a tabindex="-1" id="item-809053e3-2b91-4b96-9df1-d3da7f240007" href="/SPARC-FAIR-Codeathon/2025-team-F/tree/restructuring" role="menuitem" data-view-component="true" class="ActionListContent ActionListContent--visual16">
        <span class="ActionListItem-visual ActionListItem-visual--leading">
          <svg aria-hidden="true" height="16" viewBox="0 0 16 16" version="1.1" width="16" data-view-component="true" class="octicon octicon-code">
    <path d="m11.28 3.22 4.25 4.25a.75.75 0 0 1 0 1.06l-4.25 4.25a.749.749 0 0 1-1.275-.326.749.749 0 0 1 .215-.734L13.94 8l-3.72-3.72a.749.749 0 0 1 .326-1.275.749.749 0 0 1 .734.215Zm-6.56 0a.751.751 0 0 1 1.042.018.751.751 0 0 1 .018 1.042L2.06 8l3.72 3.72a.749.749 0 0 1-.326 1.275.749.749 0 0 1-.734-.215L.47 8.53a.75.75 0 0 1 0-1.06Z"></path>
</svg>
        </span>
      
        <span data-view-component="true" class="ActionListItem-label">
          Code
</span>      
</a>
  
</li>
        <li hidden="hidden" data-menu-item="i1issues-tab" data-targets="action-list.items" role="none" data-view-component="true" class="ActionListItem">
    
    
    <a tabindex="-1" id="item-255c163f-57d4-4820-8f26-c529993a5499" href="/SPARC-FAIR-Codeathon/2025-team-F/issues" role="menuitem" data-view-component="true" class="ActionListContent ActionListContent--visual16">
        <span class="ActionListItem-visual ActionListItem-visual--leading">
          <svg aria-hidden="true" height="16" viewBox="0 0 16 16" version="1.1" width="16" data-view-component="true" class="octicon octicon-issue-opened">
    <path d="M8 9.5a1.5 1.5 0 1 0 0-3 1.5 1.5 0 0 0 0 3Z"></path><path d="M8 0a8 8 0 1 1 0 16A8 8 0 0 1 8 0ZM1.5 8a6.5 6.5 0 1 0 13 0 6.5 6.5 0 0 0-13 0Z"></path>
</svg>
        </span>
      
        <span data-view-component="true" class="ActionListItem-label">
          Issues
</span>      
</a>
  
</li>
        <li hidden="hidden" data-menu-item="i2pull-requests-tab" data-targets="action-list.items" role="none" data-view-component="true" class="ActionListItem">
    
    
    <a tabindex="-1" id="item-8044d0bf-7f71-4270-9a01-75f0dffdd9ee" href="/SPARC-FAIR-Codeathon/2025-team-F/pulls" role="menuitem" data-view-component="true" class="ActionListContent ActionListContent--visual16">
        <span class="ActionListItem-visual ActionListItem-visual--leading">
          <svg aria-hidden="true" height="16" viewBox="0 0 16 16" version="1.1" width="16" data-view-component="true" class="octicon octicon-git-pull-request">
    <path d="M1.5 3.25a2.25 2.25 0 1 1 3 2.122v5.256a2.251 2.251 0 1 1-1.5 0V5.372A2.25 2.25 0 0 1 1.5 3.25Zm5.677-.177L9.573.677A.25.25 0 0 1 10 .854V2.5h1A2.5 2.5 0 0 1 13.5 5v5.628a2.251 2.251 0 1 1-1.5 0V5a1 1 0 0 0-1-1h-1v1.646a.25.25 0 0 1-.427.177L7.177 3.427a.25.25 0 0 1 0-.354ZM3.75 2.5a.75.75 0 1 0 0 1.5.75.75 0 0 0 0-1.5Zm0 9.5a.75.75 0 1 0 0 1.5.75.75 0 0 0 0-1.5Zm8.25.75a.75.75 0 1 0 1.5 0 .75.75 0 0 0-1.5 0Z"></path>
</svg>
        </span>
      
        <span data-view-component="true" class="ActionListItem-label">
          Pull requests
</span>      
</a>
  
</li>
        <li hidden="hidden" data-menu-item="i3actions-tab" data-targets="action-list.items" role="none" data-view-component="true" class="ActionListItem">
    
    
    <a tabindex="-1" id="item-71976d6d-3f42-4090-b7e3-8c154f88db95" href="/SPARC-FAIR-Codeathon/2025-team-F/actions" role="menuitem" data-view-component="true" class="ActionListContent ActionListContent--visual16">
        <span class="ActionListItem-visual ActionListItem-visual--leading">
          <svg aria-hidden="true" height="16" viewBox="0 0 16 16" version="1.1" width="16" data-view-component="true" class="octicon octicon-play">
    <path d="M8 0a8 8 0 1 1 0 16A8 8 0 0 1 8 0ZM1.5 8a6.5 6.5 0 1 0 13 0 6.5 6.5 0 0 0-13 0Zm4.879-2.773 4.264 2.559a.25.25 0 0 1 0 .428l-4.264 2.559A.25.25 0 0 1 6 10.559V5.442a.25.25 0 0 1 .379-.215Z"></path>
</svg>
        </span>
      
        <span data-view-component="true" class="ActionListItem-label">
          Actions
</span>      
</a>
  
</li>
        <li hidden="hidden" data-menu-item="i4projects-tab" data-targets="action-list.items" role="none" data-view-component="true" class="ActionListItem">
    
    
    <a tabindex="-1" id="item-a330e949-eb6d-438c-81fa-602f9680f254" href="/SPARC-FAIR-Codeathon/2025-team-F/projects" role="menuitem" data-view-component="true" class="ActionListContent ActionListContent--visual16">
        <span class="ActionListItem-visual ActionListItem-visual--leading">
          <svg aria-hidden="true" height="16" viewBox="0 0 16 16" version="1.1" width="16" data-view-component="true" class="octicon octicon-table">
    <path d="M0 1.75C0 .784.784 0 1.75 0h12.5C15.216 0 16 .784 16 1.75v12.5A1.75 1.75 0 0 1 14.25 16H1.75A1.75 1.75 0 0 1 0 14.25ZM6.5 6.5v8h7.75a.25.25 0 0 0 .25-.25V6.5Zm8-1.5V1.75a.25.25 0 0 0-.25-.25H6.5V5Zm-13 1.5v7.75c0 .138.112.25.25.25H5v-8ZM5 5V1.5H1.75a.25.25 0 0 0-.25.25V5Z"></path>
</svg>
        </span>
      
        <span data-view-component="true" class="ActionListItem-label">
          Projects
</span>      
</a>
  
</li>
        <li hidden="hidden" data-menu-item="i5wiki-tab" data-targets="action-list.items" role="none" data-view-component="true" class="ActionListItem">
    
    
    <a tabindex="-1" id="item-527fd4c9-5018-40d4-8fb1-a4818c451973" href="/SPARC-FAIR-Codeathon/2025-team-F/wiki" role="menuitem" data-view-component="true" class="ActionListContent ActionListContent--visual16">
        <span class="ActionListItem-visual ActionListItem-visual--leading">
          <svg aria-hidden="true" height="16" viewBox="0 0 16 16" version="1.1" width="16" data-view-component="true" class="octicon octicon-book">
    <path d="M0 1.75A.75.75 0 0 1 .75 1h4.253c1.227 0 2.317.59 3 1.501A3.743 3.743 0 0 1 11.006 1h4.245a.75.75 0 0 1 .75.75v10.5a.75.75 0 0 1-.75.75h-4.507a2.25 2.25 0 0 0-1.591.659l-.622.621a.75.75 0 0 1-1.06 0l-.622-.621A2.25 2.25 0 0 0 5.258 13H.75a.75.75 0 0 1-.75-.75Zm7.251 10.324.004-5.073-.002-2.253A2.25 2.25 0 0 0 5.003 2.5H1.5v9h3.757a3.75 3.75 0 0 1 1.994.574ZM8.755 4.75l-.004 7.322a3.752 3.752 0 0 1 1.992-.572H14.5v-9h-3.495a2.25 2.25 0 0 0-2.25 2.25Z"></path>
</svg>
        </span>
      
        <span data-view-component="true" class="ActionListItem-label">
          Wiki
</span>      
</a>
  
</li>
        <li hidden="hidden" data-menu-item="i6security-tab" data-targets="action-list.items" role="none" data-view-component="true" class="ActionListItem">
    
    
    <a tabindex="-1" id="item-e2344207-8033-432c-93e1-7557785511b9" href="/SPARC-FAIR-Codeathon/2025-team-F/security" role="menuitem" data-view-component="true" class="ActionListContent ActionListContent--visual16">
        <span class="ActionListItem-visual ActionListItem-visual--leading">
          <svg aria-hidden="true" height="16" viewBox="0 0 16 16" version="1.1" width="16" data-view-component="true" class="octicon octicon-shield">
    <path d="M7.467.133a1.748 1.748 0 0 1 1.066 0l5.25 1.68A1.75 1.75 0 0 1 15 3.48V7c0 1.566-.32 3.182-1.303 4.682-.983 1.498-2.585 2.813-5.032 3.855a1.697 1.697 0 0 1-1.33 0c-2.447-1.042-4.049-2.357-5.032-3.855C1.32 10.182 1 8.566 1 7V3.48a1.75 1.75 0 0 1 1.217-1.667Zm.61 1.429a.25.25 0 0 0-.153 0l-5.25 1.68a.25.25 0 0 0-.174.238V7c0 1.358.275 2.666 1.057 3.86.784 1.194 2.121 2.34 4.366 3.297a.196.196 0 0 0 .154 0c2.245-.956 3.582-2.104 4.366-3.298C13.225 9.666 13.5 8.36 13.5 7V3.48a.251.251 0 0 0-.174-.237l-5.25-1.68ZM8.75 4.75v3a.75.75 0 0 1-1.5 0v-3a.75.75 0 0 1 1.5 0ZM9 10.5a1 1 0 1 1-2 0 1 1 0 0 1 2 0Z"></path>
</svg>
        </span>
      
        <span data-view-component="true" class="ActionListItem-label">
          Security
</span>      
</a>
  
</li>
        <li hidden="hidden" data-menu-item="i7insights-tab" data-targets="action-list.items" role="none" data-view-component="true" class="ActionListItem">
    
    
    <a tabindex="-1" id="item-845a2ce3-683c-43b9-9cbc-f176df41e292" href="/SPARC-FAIR-Codeathon/2025-team-F/pulse" role="menuitem" data-view-component="true" class="ActionListContent ActionListContent--visual16">
        <span class="ActionListItem-visual ActionListItem-visual--leading">
          <svg aria-hidden="true" height="16" viewBox="0 0 16 16" version="1.1" width="16" data-view-component="true" class="octicon octicon-graph">
    <path d="M1.5 1.75V13.5h13.75a.75.75 0 0 1 0 1.5H.75a.75.75 0 0 1-.75-.75V1.75a.75.75 0 0 1 1.5 0Zm14.28 2.53-5.25 5.25a.75.75 0 0 1-1.06 0L7 7.06 4.28 9.78a.751.751 0 0 1-1.042-.018.751.751 0 0 1-.018-1.042l3.25-3.25a.75.75 0 0 1 1.06 0L10 7.94l4.72-4.72a.751.751 0 0 1 1.042.018.751.751 0 0 1 .018 1.042Z"></path>
</svg>
        </span>
      
        <span data-view-component="true" class="ActionListItem-label">
          Insights
</span>      
</a>
  
</li>
</ul>    
</div></action-list>


</div>
      
</div></anchored-position>  </focus-group>
</action-menu></div>
</nav>
          
        </div>
</header>


      <div hidden="hidden" data-view-component="true" class="js-stale-session-flash stale-session-flash flash flash-warn flash-full">
  
        <svg aria-hidden="true" height="16" viewBox="0 0 16 16" version="1.1" width="16" data-view-component="true" class="octicon octicon-alert">
    <path d="M6.457 1.047c.659-1.234 2.427-1.234 3.086 0l6.082 11.378A1.75 1.75 0 0 1 14.082 15H1.918a1.75 1.75 0 0 1-1.543-2.575Zm1.763.707a.25.25 0 0 0-.44 0L1.698 13.132a.25.25 0 0 0 .22.368h12.164a.25.25 0 0 0 .22-.368Zm.53 3.996v2.5a.75.75 0 0 1-1.5 0v-2.5a.75.75 0 0 1 1.5 0ZM9 11a1 1 0 1 1-2 0 1 1 0 0 1 2 0Z"></path>
</svg>
        <span class="js-stale-session-flash-signed-in" hidden>You signed in with another tab or window. <a class="Link--inTextBlock" href="">Reload</a> to refresh your session.</span>
        <span class="js-stale-session-flash-signed-out" hidden>You signed out in another tab or window. <a class="Link--inTextBlock" href="">Reload</a> to refresh your session.</span>
        <span class="js-stale-session-flash-switched" hidden>You switched accounts on another tab or window. <a class="Link--inTextBlock" href="">Reload</a> to refresh your session.</span>

    <button id="icon-button-d9fb3553-25f6-499d-b9c0-613da6cf6655" aria-labelledby="tooltip-2d1de52a-849f-4c84-acda-fd65f9942c81" type="button" data-view-component="true" class="Button Button--iconOnly Button--invisible Button--medium flash-close js-flash-close">  <svg aria-hidden="true" height="16" viewBox="0 0 16 16" version="1.1" width="16" data-view-component="true" class="octicon octicon-x Button-visual">
    <path d="M3.72 3.72a.75.75 0 0 1 1.06 0L8 6.94l3.22-3.22a.749.749 0 0 1 1.275.326.749.749 0 0 1-.215.734L9.06 8l3.22 3.22a.749.749 0 0 1-.326 1.275.749.749 0 0 1-.734-.215L8 9.06l-3.22 3.22a.751.751 0 0 1-1.042-.018.751.751 0 0 1-.018-1.042L6.94 8 3.72 4.78a.75.75 0 0 1 0-1.06Z"></path>
</svg>
</button><tool-tip id="tooltip-2d1de52a-849f-4c84-acda-fd65f9942c81" for="icon-button-d9fb3553-25f6-499d-b9c0-613da6cf6655" popover="manual" data-direction="s" data-type="label" data-view-component="true" class="sr-only position-absolute">Dismiss alert</tool-tip>


  
</div>
        
          
    </div>

  <div id="start-of-content" class="show-on-focus"></div>








    <div id="js-flash-container" class="flash-container" data-turbo-replace>




  <template class="js-flash-template">
    
<div class="flash flash-full   {{ className }}">
  <div >
    <button autofocus class="flash-close js-flash-close" type="button" aria-label="Dismiss this message">
      <svg aria-hidden="true" height="16" viewBox="0 0 16 16" version="1.1" width="16" data-view-component="true" class="octicon octicon-x">
    <path d="M3.72 3.72a.75.75 0 0 1 1.06 0L8 6.94l3.22-3.22a.749.749 0 0 1 1.275.326.749.749 0 0 1-.215.734L9.06 8l3.22 3.22a.749.749 0 0 1-.326 1.275.749.749 0 0 1-.734-.215L8 9.06l-3.22 3.22a.751.751 0 0 1-1.042-.018.751.751 0 0 1-.018-1.042L6.94 8 3.72 4.78a.75.75 0 0 1 0-1.06Z"></path>
</svg>
    </button>
    <div aria-atomic="true" role="alert" class="js-flash-alert">
      
      <div>{{ message }}</div>

    </div>
  </div>
</div>
  </template>
</div>


    
  <notification-shelf-watcher data-base-url="https://github.com/notifications/beta/shelf" data-channel="eyJjIjoibm90aWZpY2F0aW9uLWNoYW5nZWQ6MjUwMTU3NTQiLCJ0IjoxNzU0MzY2MDEzfQ==--981dc8a56d1923dc740142de6a3f1fc9dc8251375050b179f1012c95abca37e9" data-view-component="true" class="js-socket-channel"></notification-shelf-watcher>
  <div hidden data-initial data-target="notification-shelf-watcher.placeholder"></div>






  <div
    class="application-main "
    data-commit-hovercards-enabled
    data-discussion-hovercards-enabled
    data-issue-and-pr-hovercards-enabled
    data-project-hovercards-enabled
  >
        <div itemscope itemtype="http://schema.org/SoftwareSourceCode" class="">
    <main id="js-repo-pjax-container" >
      
      
    

    






    
  <div id="repository-container-header" data-turbo-replace hidden ></div>




<turbo-frame id="repo-content-turbo-frame" target="_top" data-turbo-action="advance" class="">
    <div id="repo-content-pjax-container" class="repository-content " >
      <a href="https://github.dev/" class="d-none js-github-dev-shortcut" data-hotkey=".,Mod+Alt+.">Open in github.dev</a>
  <a href="https://github.dev/" class="d-none js-github-dev-new-tab-shortcut" data-hotkey="Shift+.,Shift+&gt;,&gt;" target="_blank" rel="noopener noreferrer">Open in a new github.dev tab</a>
    <a class="d-none" data-hotkey=",,Mod+Alt+," target="_blank" href="/codespaces/new/SPARC-FAIR-Codeathon/2025-team-F/tree/restructuring?resume=1">Open in codespace</a>




    
      
    








<react-app
  app-name="react-code-view"
  initial-path="/SPARC-FAIR-Codeathon/2025-team-F/blob/restructuring/examples/tf_fine_tune_model.ipynb"
    style="display: block; min-height: calc(100vh - 64px);"
  data-attempted-ssr="true"
  data-ssr="true"
  data-lazy="false"
  data-alternate="false"
  data-data-router-enabled="false"
  data-react-profiling="false"
>
  
  <script type="application/json" data-target="react-app.embeddedData">{"payload":{"allShortcutsEnabled":true,"fileTree":{"examples":{"items":[{"name":"tf_LSTM_model.ipynb","path":"examples/tf_LSTM_model.ipynb","contentType":"file"},{"name":"tf_fine_tune_model.ipynb","path":"examples/tf_fine_tune_model.ipynb","contentType":"file"},{"name":"tf_pretrained_model.ipynb","path":"examples/tf_pretrained_model.ipynb","contentType":"file"}],"totalCount":3},"":{"items":[{"name":"examples","path":"examples","contentType":"directory"},{"name":"res","path":"res","contentType":"directory"},{"name":"sparcats","path":"sparcats","contentType":"directory"},{"name":"tutorials","path":"tutorials","contentType":"directory"},{"name":"validation","path":"validation","contentType":"directory"},{"name":".gitignore","path":".gitignore","contentType":"file"},{"name":"README.md","path":"README.md","contentType":"file"}],"totalCount":7}},"fileTreeProcessingTime":19.105514,"foldersToFetch":[],"incompleteFileTree":false,"repo":{"id":1028403411,"defaultBranch":"main","name":"2025-team-F","ownerLogin":"SPARC-FAIR-Codeathon","currentUserCanPush":true,"isFork":false,"isEmpty":false,"createdAt":"2025-07-30T01:31:47.000+12:00","ownerAvatar":"https://avatars.githubusercontent.com/u/86933347?v=4","public":true,"private":false,"isOrgOwned":true},"codeLineWrapEnabled":false,"symbolsExpanded":true,"treeExpanded":true,"refInfo":{"name":"restructuring","listCacheKey":"v0:1754358575.0","canEdit":true,"refType":"branch","currentOid":"a9b737d6605e940cecafeba1051dc57086168679"},"path":"examples/tf_fine_tune_model.ipynb","currentUser":{"id":25015754,"login":"OmkarAthavale","userEmail":"oa1234@live.com"},"blob":{"rawLines":["{"," \"cells\": [","  {","   \"metadata\": {},","   \"cell_type\": \"code\",","   \"outputs\": [","    {","     \"name\": \"stdout\",","     \"output_type\": \"stream\",","     \"text\": [","      \"Epoch 1/10\\n\",","      \"600/600 [==============================] - 24s 39ms/step - loss: 0.0112 - val_loss: 0.0112\\n\",","      \"Epoch 2/10\\n\",","      \"600/600 [==============================] - 26s 44ms/step - loss: 0.0105 - val_loss: 0.0097\\n\",","      \"Epoch 3/10\\n\",","      \"600/600 [==============================] - 25s 42ms/step - loss: 0.0099 - val_loss: 0.0087\\n\",","      \"Epoch 4/10\\n\",","      \"600/600 [==============================] - 24s 40ms/step - loss: 0.0094 - val_loss: 0.0085\\n\",","      \"Epoch 5/10\\n\",","      \"129/600 [=====\u003e........................] - ETA: 17s - loss: 0.0100\"","     ]","    },","    {","     \"ename\": \"KeyboardInterrupt\",","     \"evalue\": \"\",","     \"output_type\": \"error\",","     \"traceback\": [","      \"\\u001B[0;31m---------------------------------------------------------------------------\\u001B[0m\",","      \"\\u001B[0;31mKeyboardInterrupt\\u001B[0m                         Traceback (most recent call last)\",","      \"\\u001B[0;32m/tmp/ipykernel_345683/1039987519.py\\u001B[0m in \\u001B[0;36m\u003cmodule\u003e\\u001B[0;34m\\u001B[0m\\n\\u001B[1;32m      1\\u001B[0m \\u001B[0;31m# Fine-tune the model\\u001B[0m\\u001B[0;34m\\u001B[0m\\u001B[0;34m\\u001B[0m\\u001B[0;34m\\u001B[0m\\u001B[0m\\n\\u001B[0;32m----\u003e 2\\u001B[0;31m \\u001B[0mhistory\\u001B[0m \\u001B[0;34m=\\u001B[0m \\u001B[0mmodel\\u001B[0m\\u001B[0;34m.\\u001B[0m\\u001B[0mfit\\u001B[0m\\u001B[0;34m(\\u001B[0m\\u001B[0mX_train\\u001B[0m\\u001B[0;34m,\\u001B[0m \\u001B[0my_train\\u001B[0m\\u001B[0;34m,\\u001B[0m \\u001B[0mepochs\\u001B[0m\\u001B[0;34m=\\u001B[0m\\u001B[0;36m10\\u001B[0m\\u001B[0;34m,\\u001B[0m \\u001B[0mbatch_size\\u001B[0m\\u001B[0;34m=\\u001B[0m\\u001B[0;36m32\\u001B[0m\\u001B[0;34m,\\u001B[0m \\u001B[0mvalidation_split\\u001B[0m\\u001B[0;34m=\\u001B[0m\\u001B[0;36m0.2\\u001B[0m\\u001B[0;34m)\\u001B[0m\\u001B[0;34m\\u001B[0m\\u001B[0;34m\\u001B[0m\\u001B[0m\\n\\u001B[0m\",","      \"\\u001B[0;32m/opt/conda/lib/python3.7/site-packages/keras/utils/traceback_utils.py\\u001B[0m in \\u001B[0;36merror_handler\\u001B[0;34m(*args, **kwargs)\\u001B[0m\\n\\u001B[1;32m     63\\u001B[0m         \\u001B[0mfiltered_tb\\u001B[0m \\u001B[0;34m=\\u001B[0m \\u001B[0;32mNone\\u001B[0m\\u001B[0;34m\\u001B[0m\\u001B[0;34m\\u001B[0m\\u001B[0m\\n\\u001B[1;32m     64\\u001B[0m         \\u001B[0;32mtry\\u001B[0m\\u001B[0;34m:\\u001B[0m\\u001B[0;34m\\u001B[0m\\u001B[0;34m\\u001B[0m\\u001B[0m\\n\\u001B[0;32m---\u003e 65\\u001B[0;31m             \\u001B[0;32mreturn\\u001B[0m \\u001B[0mfn\\u001B[0m\\u001B[0;34m(\\u001B[0m\\u001B[0;34m*\\u001B[0m\\u001B[0margs\\u001B[0m\\u001B[0;34m,\\u001B[0m \\u001B[0;34m**\\u001B[0m\\u001B[0mkwargs\\u001B[0m\\u001B[0;34m)\\u001B[0m\\u001B[0;34m\\u001B[0m\\u001B[0;34m\\u001B[0m\\u001B[0m\\n\\u001B[0m\\u001B[1;32m     66\\u001B[0m         \\u001B[0;32mexcept\\u001B[0m \\u001B[0mException\\u001B[0m \\u001B[0;32mas\\u001B[0m \\u001B[0me\\u001B[0m\\u001B[0;34m:\\u001B[0m\\u001B[0;34m\\u001B[0m\\u001B[0;34m\\u001B[0m\\u001B[0m\\n\\u001B[1;32m     67\\u001B[0m             \\u001B[0mfiltered_tb\\u001B[0m \\u001B[0;34m=\\u001B[0m \\u001B[0m_process_traceback_frames\\u001B[0m\\u001B[0;34m(\\u001B[0m\\u001B[0me\\u001B[0m\\u001B[0;34m.\\u001B[0m\\u001B[0m__traceback__\\u001B[0m\\u001B[0;34m)\\u001B[0m\\u001B[0;34m\\u001B[0m\\u001B[0;34m\\u001B[0m\\u001B[0m\\n\",","      \"\\u001B[0;32m/opt/conda/lib/python3.7/site-packages/keras/engine/training.py\\u001B[0m in \\u001B[0;36mfit\\u001B[0;34m(self, x, y, batch_size, epochs, verbose, callbacks, validation_split, validation_data, shuffle, class_weight, sample_weight, initial_epoch, steps_per_epoch, validation_steps, validation_batch_size, validation_freq, max_queue_size, workers, use_multiprocessing)\\u001B[0m\\n\\u001B[1;32m   1648\\u001B[0m                         ):\\n\\u001B[1;32m   1649\\u001B[0m                             \\u001B[0mcallbacks\\u001B[0m\\u001B[0;34m.\\u001B[0m\\u001B[0mon_train_batch_begin\\u001B[0m\\u001B[0;34m(\\u001B[0m\\u001B[0mstep\\u001B[0m\\u001B[0;34m)\\u001B[0m\\u001B[0;34m\\u001B[0m\\u001B[0;34m\\u001B[0m\\u001B[0m\\n\\u001B[0;32m-\u003e 1650\\u001B[0;31m                             \\u001B[0mtmp_logs\\u001B[0m \\u001B[0;34m=\\u001B[0m \\u001B[0mself\\u001B[0m\\u001B[0;34m.\\u001B[0m\\u001B[0mtrain_function\\u001B[0m\\u001B[0;34m(\\u001B[0m\\u001B[0miterator\\u001B[0m\\u001B[0;34m)\\u001B[0m\\u001B[0;34m\\u001B[0m\\u001B[0;34m\\u001B[0m\\u001B[0m\\n\\u001B[0m\\u001B[1;32m   1651\\u001B[0m                             \\u001B[0;32mif\\u001B[0m \\u001B[0mdata_handler\\u001B[0m\\u001B[0;34m.\\u001B[0m\\u001B[0mshould_sync\\u001B[0m\\u001B[0;34m:\\u001B[0m\\u001B[0;34m\\u001B[0m\\u001B[0;34m\\u001B[0m\\u001B[0m\\n\\u001B[1;32m   1652\\u001B[0m                                 \\u001B[0mcontext\\u001B[0m\\u001B[0;34m.\\u001B[0m\\u001B[0masync_wait\\u001B[0m\\u001B[0;34m(\\u001B[0m\\u001B[0;34m)\\u001B[0m\\u001B[0;34m\\u001B[0m\\u001B[0;34m\\u001B[0m\\u001B[0m\\n\",","      \"\\u001B[0;32m/opt/conda/lib/python3.7/site-packages/tensorflow/python/util/traceback_utils.py\\u001B[0m in \\u001B[0;36merror_handler\\u001B[0;34m(*args, **kwargs)\\u001B[0m\\n\\u001B[1;32m    148\\u001B[0m     \\u001B[0mfiltered_tb\\u001B[0m \\u001B[0;34m=\\u001B[0m \\u001B[0;32mNone\\u001B[0m\\u001B[0;34m\\u001B[0m\\u001B[0;34m\\u001B[0m\\u001B[0m\\n\\u001B[1;32m    149\\u001B[0m     \\u001B[0;32mtry\\u001B[0m\\u001B[0;34m:\\u001B[0m\\u001B[0;34m\\u001B[0m\\u001B[0;34m\\u001B[0m\\u001B[0m\\n\\u001B[0;32m--\u003e 150\\u001B[0;31m       \\u001B[0;32mreturn\\u001B[0m \\u001B[0mfn\\u001B[0m\\u001B[0;34m(\\u001B[0m\\u001B[0;34m*\\u001B[0m\\u001B[0margs\\u001B[0m\\u001B[0;34m,\\u001B[0m \\u001B[0;34m**\\u001B[0m\\u001B[0mkwargs\\u001B[0m\\u001B[0;34m)\\u001B[0m\\u001B[0;34m\\u001B[0m\\u001B[0;34m\\u001B[0m\\u001B[0m\\n\\u001B[0m\\u001B[1;32m    151\\u001B[0m     \\u001B[0;32mexcept\\u001B[0m \\u001B[0mException\\u001B[0m \\u001B[0;32mas\\u001B[0m \\u001B[0me\\u001B[0m\\u001B[0;34m:\\u001B[0m\\u001B[0;34m\\u001B[0m\\u001B[0;34m\\u001B[0m\\u001B[0m\\n\\u001B[1;32m    152\\u001B[0m       \\u001B[0mfiltered_tb\\u001B[0m \\u001B[0;34m=\\u001B[0m \\u001B[0m_process_traceback_frames\\u001B[0m\\u001B[0;34m(\\u001B[0m\\u001B[0me\\u001B[0m\\u001B[0;34m.\\u001B[0m\\u001B[0m__traceback__\\u001B[0m\\u001B[0;34m)\\u001B[0m\\u001B[0;34m\\u001B[0m\\u001B[0;34m\\u001B[0m\\u001B[0m\\n\",","      \"\\u001B[0;32m/opt/conda/lib/python3.7/site-packages/tensorflow/python/eager/polymorphic_function/polymorphic_function.py\\u001B[0m in \\u001B[0;36m__call__\\u001B[0;34m(self, *args, **kwds)\\u001B[0m\\n\\u001B[1;32m    878\\u001B[0m \\u001B[0;34m\\u001B[0m\\u001B[0m\\n\\u001B[1;32m    879\\u001B[0m       \\u001B[0;32mwith\\u001B[0m \\u001B[0mOptionalXlaContext\\u001B[0m\\u001B[0;34m(\\u001B[0m\\u001B[0mself\\u001B[0m\\u001B[0;34m.\\u001B[0m\\u001B[0m_jit_compile\\u001B[0m\\u001B[0;34m)\\u001B[0m\\u001B[0;34m:\\u001B[0m\\u001B[0;34m\\u001B[0m\\u001B[0;34m\\u001B[0m\\u001B[0m\\n\\u001B[0;32m--\u003e 880\\u001B[0;31m         \\u001B[0mresult\\u001B[0m \\u001B[0;34m=\\u001B[0m \\u001B[0mself\\u001B[0m\\u001B[0;34m.\\u001B[0m\\u001B[0m_call\\u001B[0m\\u001B[0;34m(\\u001B[0m\\u001B[0;34m*\\u001B[0m\\u001B[0margs\\u001B[0m\\u001B[0;34m,\\u001B[0m \\u001B[0;34m**\\u001B[0m\\u001B[0mkwds\\u001B[0m\\u001B[0;34m)\\u001B[0m\\u001B[0;34m\\u001B[0m\\u001B[0;34m\\u001B[0m\\u001B[0m\\n\\u001B[0m\\u001B[1;32m    881\\u001B[0m \\u001B[0;34m\\u001B[0m\\u001B[0m\\n\\u001B[1;32m    882\\u001B[0m       \\u001B[0mnew_tracing_count\\u001B[0m \\u001B[0;34m=\\u001B[0m \\u001B[0mself\\u001B[0m\\u001B[0;34m.\\u001B[0m\\u001B[0mexperimental_get_tracing_count\\u001B[0m\\u001B[0;34m(\\u001B[0m\\u001B[0;34m)\\u001B[0m\\u001B[0;34m\\u001B[0m\\u001B[0;34m\\u001B[0m\\u001B[0m\\n\",","      \"\\u001B[0;32m/opt/conda/lib/python3.7/site-packages/tensorflow/python/eager/polymorphic_function/polymorphic_function.py\\u001B[0m in \\u001B[0;36m_call\\u001B[0;34m(self, *args, **kwds)\\u001B[0m\\n\\u001B[1;32m    910\\u001B[0m       \\u001B[0;31m# In this case we have created variables on the first call, so we run the\\u001B[0m\\u001B[0;34m\\u001B[0m\\u001B[0;34m\\u001B[0m\\u001B[0;34m\\u001B[0m\\u001B[0m\\n\\u001B[1;32m    911\\u001B[0m       \\u001B[0;31m# defunned version which is guaranteed to never create variables.\\u001B[0m\\u001B[0;34m\\u001B[0m\\u001B[0;34m\\u001B[0m\\u001B[0;34m\\u001B[0m\\u001B[0m\\n\\u001B[0;32m--\u003e 912\\u001B[0;31m       \\u001B[0;32mreturn\\u001B[0m \\u001B[0mself\\u001B[0m\\u001B[0;34m.\\u001B[0m\\u001B[0m_no_variable_creation_fn\\u001B[0m\\u001B[0;34m(\\u001B[0m\\u001B[0;34m*\\u001B[0m\\u001B[0margs\\u001B[0m\\u001B[0;34m,\\u001B[0m \\u001B[0;34m**\\u001B[0m\\u001B[0mkwds\\u001B[0m\\u001B[0;34m)\\u001B[0m  \\u001B[0;31m# pylint: disable=not-callable\\u001B[0m\\u001B[0;34m\\u001B[0m\\u001B[0;34m\\u001B[0m\\u001B[0m\\n\\u001B[0m\\u001B[1;32m    913\\u001B[0m     \\u001B[0;32melif\\u001B[0m \\u001B[0mself\\u001B[0m\\u001B[0;34m.\\u001B[0m\\u001B[0m_variable_creation_fn\\u001B[0m \\u001B[0;32mis\\u001B[0m \\u001B[0;32mnot\\u001B[0m \\u001B[0;32mNone\\u001B[0m\\u001B[0;34m:\\u001B[0m\\u001B[0;34m\\u001B[0m\\u001B[0;34m\\u001B[0m\\u001B[0m\\n\\u001B[1;32m    914\\u001B[0m       \\u001B[0;31m# Release the lock early so that multiple threads can perform the call\\u001B[0m\\u001B[0;34m\\u001B[0m\\u001B[0;34m\\u001B[0m\\u001B[0;34m\\u001B[0m\\u001B[0m\\n\",","      \"\\u001B[0;32m/opt/conda/lib/python3.7/site-packages/tensorflow/python/eager/polymorphic_function/tracing_compiler.py\\u001B[0m in \\u001B[0;36m__call__\\u001B[0;34m(self, *args, **kwargs)\\u001B[0m\\n\\u001B[1;32m    133\\u001B[0m        filtered_flat_args) = self._maybe_define_function(args, kwargs)\\n\\u001B[1;32m    134\\u001B[0m     return concrete_function._call_flat(\\n\\u001B[0;32m--\u003e 135\\u001B[0;31m         filtered_flat_args, captured_inputs=concrete_function.captured_inputs)  # pylint: disable=protected-access\\n\\u001B[0m\\u001B[1;32m    136\\u001B[0m \\u001B[0;34m\\u001B[0m\\u001B[0m\\n\\u001B[1;32m    137\\u001B[0m   \\u001B[0;34m@\\u001B[0m\\u001B[0mproperty\\u001B[0m\\u001B[0;34m\\u001B[0m\\u001B[0;34m\\u001B[0m\\u001B[0m\\n\",","      \"\\u001B[0;32m/opt/conda/lib/python3.7/site-packages/tensorflow/python/eager/polymorphic_function/monomorphic_function.py\\u001B[0m in \\u001B[0;36m_call_flat\\u001B[0;34m(self, args, captured_inputs, cancellation_manager)\\u001B[0m\\n\\u001B[1;32m   1744\\u001B[0m       \\u001B[0;31m# No tape is watching; skip to running the function.\\u001B[0m\\u001B[0;34m\\u001B[0m\\u001B[0;34m\\u001B[0m\\u001B[0;34m\\u001B[0m\\u001B[0m\\n\\u001B[1;32m   1745\\u001B[0m       return self._build_call_outputs(self._inference_function.call(\\n\\u001B[0;32m-\u003e 1746\\u001B[0;31m           ctx, args, cancellation_manager=cancellation_manager))\\n\\u001B[0m\\u001B[1;32m   1747\\u001B[0m     forward_backward = self._select_forward_and_backward_functions(\\n\\u001B[1;32m   1748\\u001B[0m         \\u001B[0margs\\u001B[0m\\u001B[0;34m,\\u001B[0m\\u001B[0;34m\\u001B[0m\\u001B[0;34m\\u001B[0m\\u001B[0m\\n\",","      \"\\u001B[0;32m/opt/conda/lib/python3.7/site-packages/tensorflow/python/eager/polymorphic_function/monomorphic_function.py\\u001B[0m in \\u001B[0;36mcall\\u001B[0;34m(self, ctx, args, cancellation_manager)\\u001B[0m\\n\\u001B[1;32m    381\\u001B[0m               \\u001B[0minputs\\u001B[0m\\u001B[0;34m=\\u001B[0m\\u001B[0margs\\u001B[0m\\u001B[0;34m,\\u001B[0m\\u001B[0;34m\\u001B[0m\\u001B[0;34m\\u001B[0m\\u001B[0m\\n\\u001B[1;32m    382\\u001B[0m               \\u001B[0mattrs\\u001B[0m\\u001B[0;34m=\\u001B[0m\\u001B[0mattrs\\u001B[0m\\u001B[0;34m,\\u001B[0m\\u001B[0;34m\\u001B[0m\\u001B[0;34m\\u001B[0m\\u001B[0m\\n\\u001B[0;32m--\u003e 383\\u001B[0;31m               ctx=ctx)\\n\\u001B[0m\\u001B[1;32m    384\\u001B[0m         \\u001B[0;32melse\\u001B[0m\\u001B[0;34m:\\u001B[0m\\u001B[0;34m\\u001B[0m\\u001B[0;34m\\u001B[0m\\u001B[0m\\n\\u001B[1;32m    385\\u001B[0m           outputs = execute.execute_with_cancellation(\\n\",","      \"\\u001B[0;32m/opt/conda/lib/python3.7/site-packages/tensorflow/python/eager/execute.py\\u001B[0m in \\u001B[0;36mquick_execute\\u001B[0;34m(op_name, num_outputs, inputs, attrs, ctx, name)\\u001B[0m\\n\\u001B[1;32m     51\\u001B[0m     \\u001B[0mctx\\u001B[0m\\u001B[0;34m.\\u001B[0m\\u001B[0mensure_initialized\\u001B[0m\\u001B[0;34m(\\u001B[0m\\u001B[0;34m)\\u001B[0m\\u001B[0;34m\\u001B[0m\\u001B[0;34m\\u001B[0m\\u001B[0m\\n\\u001B[1;32m     52\\u001B[0m     tensors = pywrap_tfe.TFE_Py_Execute(ctx._handle, device_name, op_name,\\n\\u001B[0;32m---\u003e 53\\u001B[0;31m                                         inputs, attrs, num_outputs)\\n\\u001B[0m\\u001B[1;32m     54\\u001B[0m   \\u001B[0;32mexcept\\u001B[0m \\u001B[0mcore\\u001B[0m\\u001B[0;34m.\\u001B[0m\\u001B[0m_NotOkStatusException\\u001B[0m \\u001B[0;32mas\\u001B[0m \\u001B[0me\\u001B[0m\\u001B[0;34m:\\u001B[0m\\u001B[0;34m\\u001B[0m\\u001B[0;34m\\u001B[0m\\u001B[0m\\n\\u001B[1;32m     55\\u001B[0m     \\u001B[0;32mif\\u001B[0m \\u001B[0mname\\u001B[0m \\u001B[0;32mis\\u001B[0m \\u001B[0;32mnot\\u001B[0m \\u001B[0;32mNone\\u001B[0m\\u001B[0;34m:\\u001B[0m\\u001B[0;34m\\u001B[0m\\u001B[0;34m\\u001B[0m\\u001B[0m\\n\",","      \"\\u001B[0;31mKeyboardInterrupt\\u001B[0m: \"","     ]","    }","   ],","   \"execution_count\": 81,","   \"source\": [","    \"# Fine-tune the model\\n\",","    \"history = model.fit(X_train, y_train, epochs=10, batch_size=32, validation_split=0.2)\"","   ],","   \"id\": \"edc42360-c084-41b6-a80e-87e8673264e3\"","  },","  {","   \"metadata\": {},","   \"cell_type\": \"code\",","   \"outputs\": [","    {","     \"name\": \"stdout\",","     \"output_type\": \"stream\",","     \"text\": [","      \"Requirement already satisfied: pandas in /opt/conda/lib/python3.7/site-packages (1.3.5)\\n\",","      \"Requirement already satisfied: python-dateutil\u003e=2.7.3 in /opt/conda/lib/python3.7/site-packages (from pandas) (2.9.0)\\n\",","      \"Requirement already satisfied: pytz\u003e=2017.3 in /opt/conda/lib/python3.7/site-packages (from pandas) (2024.2)\\n\",","      \"Requirement already satisfied: numpy\u003e=1.17.3 in /opt/conda/lib/python3.7/site-packages (from pandas) (1.21.6)\\n\",","      \"Requirement already satisfied: six\u003e=1.5 in /opt/conda/lib/python3.7/site-packages (from python-dateutil\u003e=2.7.3-\u003epandas) (1.16.0)\\n\",","      \"Requirement already satisfied: tensorflow in /opt/conda/lib/python3.7/site-packages (2.11.0)\\n\",","      \"Requirement already satisfied: absl-py\u003e=1.0.0 in /opt/conda/lib/python3.7/site-packages (from tensorflow) (2.1.0)\\n\",","      \"Requirement already satisfied: astunparse\u003e=1.6.0 in /opt/conda/lib/python3.7/site-packages (from tensorflow) (1.6.3)\\n\",","      \"Requirement already satisfied: flatbuffers\u003e=2.0 in /opt/conda/lib/python3.7/site-packages (from tensorflow) (25.2.10)\\n\",","      \"Requirement already satisfied: gast\u003c=0.4.0,\u003e=0.2.1 in /opt/conda/lib/python3.7/site-packages (from tensorflow) (0.4.0)\\n\",","      \"Requirement already satisfied: google-pasta\u003e=0.1.1 in /opt/conda/lib/python3.7/site-packages (from tensorflow) (0.2.0)\\n\",","      \"Requirement already satisfied: grpcio\u003c2.0,\u003e=1.24.3 in /opt/conda/lib/python3.7/site-packages (from tensorflow) (1.62.3)\\n\",","      \"Requirement already satisfied: h5py\u003e=2.9.0 in /opt/conda/lib/python3.7/site-packages (from tensorflow) (3.8.0)\\n\",","      \"Requirement already satisfied: keras\u003c2.12,\u003e=2.11.0 in /opt/conda/lib/python3.7/site-packages (from tensorflow) (2.11.0)\\n\",","      \"Requirement already satisfied: libclang\u003e=13.0.0 in /opt/conda/lib/python3.7/site-packages (from tensorflow) (18.1.1)\\n\",","      \"Requirement already satisfied: numpy\u003e=1.20 in /opt/conda/lib/python3.7/site-packages (from tensorflow) (1.21.6)\\n\",","      \"Requirement already satisfied: opt-einsum\u003e=2.3.2 in /opt/conda/lib/python3.7/site-packages (from tensorflow) (3.3.0)\\n\",","      \"Requirement already satisfied: packaging in /opt/conda/lib/python3.7/site-packages (from tensorflow) (23.2)\\n\",","      \"Requirement already satisfied: protobuf\u003c3.20,\u003e=3.9.2 in /opt/conda/lib/python3.7/site-packages (from tensorflow) (3.19.6)\\n\",","      \"Requirement already satisfied: setuptools in /opt/conda/lib/python3.7/site-packages (from tensorflow) (68.0.0)\\n\",","      \"Requirement already satisfied: six\u003e=1.12.0 in /opt/conda/lib/python3.7/site-packages (from tensorflow) (1.16.0)\\n\",","      \"Requirement already satisfied: tensorboard\u003c2.12,\u003e=2.11 in /opt/conda/lib/python3.7/site-packages (from tensorflow) (2.11.2)\\n\",","      \"Requirement already satisfied: tensorflow-estimator\u003c2.12,\u003e=2.11.0 in /opt/conda/lib/python3.7/site-packages (from tensorflow) (2.11.0)\\n\",","      \"Requirement already satisfied: termcolor\u003e=1.1.0 in /opt/conda/lib/python3.7/site-packages (from tensorflow) (2.3.0)\\n\",","      \"Requirement already satisfied: typing-extensions\u003e=3.6.6 in /opt/conda/lib/python3.7/site-packages (from tensorflow) (4.7.1)\\n\",","      \"Requirement already satisfied: wrapt\u003e=1.11.0 in /opt/conda/lib/python3.7/site-packages (from tensorflow) (1.16.0)\\n\",","      \"Requirement already satisfied: tensorflow-io-gcs-filesystem\u003e=0.23.1 in /opt/conda/lib/python3.7/site-packages (from tensorflow) (0.34.0)\\n\",","      \"Requirement already satisfied: wheel\u003c1.0,\u003e=0.23.0 in /opt/conda/lib/python3.7/site-packages (from astunparse\u003e=1.6.0-\u003etensorflow) (0.42.0)\\n\",","      \"Requirement already satisfied: google-auth\u003c3,\u003e=1.6.3 in /opt/conda/lib/python3.7/site-packages (from tensorboard\u003c2.12,\u003e=2.11-\u003etensorflow) (2.40.3)\\n\",","      \"Requirement already satisfied: google-auth-oauthlib\u003c0.5,\u003e=0.4.1 in /opt/conda/lib/python3.7/site-packages (from tensorboard\u003c2.12,\u003e=2.11-\u003etensorflow) (0.4.6)\\n\",","      \"Requirement already satisfied: markdown\u003e=2.6.8 in /opt/conda/lib/python3.7/site-packages (from tensorboard\u003c2.12,\u003e=2.11-\u003etensorflow) (3.4.4)\\n\",","      \"Requirement already satisfied: requests\u003c3,\u003e=2.21.0 in /opt/conda/lib/python3.7/site-packages (from tensorboard\u003c2.12,\u003e=2.11-\u003etensorflow) (2.28.2)\\n\",","      \"Requirement already satisfied: tensorboard-data-server\u003c0.7.0,\u003e=0.6.0 in /opt/conda/lib/python3.7/site-packages (from tensorboard\u003c2.12,\u003e=2.11-\u003etensorflow) (0.6.1)\\n\",","      \"Requirement already satisfied: tensorboard-plugin-wit\u003e=1.6.0 in /opt/conda/lib/python3.7/site-packages (from tensorboard\u003c2.12,\u003e=2.11-\u003etensorflow) (1.8.1)\\n\",","      \"Requirement already satisfied: werkzeug\u003e=1.0.1 in /opt/conda/lib/python3.7/site-packages (from tensorboard\u003c2.12,\u003e=2.11-\u003etensorflow) (2.2.3)\\n\",","      \"Requirement already satisfied: cachetools\u003c6.0,\u003e=2.0.0 in /opt/conda/lib/python3.7/site-packages (from google-auth\u003c3,\u003e=1.6.3-\u003etensorboard\u003c2.12,\u003e=2.11-\u003etensorflow) (5.5.2)\\n\",","      \"Requirement already satisfied: pyasn1-modules\u003e=0.2.1 in /opt/conda/lib/python3.7/site-packages (from google-auth\u003c3,\u003e=1.6.3-\u003etensorboard\u003c2.12,\u003e=2.11-\u003etensorflow) (0.3.0)\\n\",","      \"Requirement already satisfied: rsa\u003c5,\u003e=3.1.4 in /opt/conda/lib/python3.7/site-packages (from google-auth\u003c3,\u003e=1.6.3-\u003etensorboard\u003c2.12,\u003e=2.11-\u003etensorflow) (4.9.1)\\n\",","      \"Requirement already satisfied: requests-oauthlib\u003e=0.7.0 in /opt/conda/lib/python3.7/site-packages (from google-auth-oauthlib\u003c0.5,\u003e=0.4.1-\u003etensorboard\u003c2.12,\u003e=2.11-\u003etensorflow) (2.0.0)\\n\",","      \"Requirement already satisfied: importlib-metadata\u003e=4.4 in /opt/conda/lib/python3.7/site-packages (from markdown\u003e=2.6.8-\u003etensorboard\u003c2.12,\u003e=2.11-\u003etensorflow) (4.11.4)\\n\",","      \"Requirement already satisfied: charset-normalizer\u003c4,\u003e=2 in /opt/conda/lib/python3.7/site-packages (from requests\u003c3,\u003e=2.21.0-\u003etensorboard\u003c2.12,\u003e=2.11-\u003etensorflow) (3.1.0)\\n\",","      \"Requirement already satisfied: idna\u003c4,\u003e=2.5 in /opt/conda/lib/python3.7/site-packages (from requests\u003c3,\u003e=2.21.0-\u003etensorboard\u003c2.12,\u003e=2.11-\u003etensorflow) (3.4)\\n\",","      \"Requirement already satisfied: urllib3\u003c1.27,\u003e=1.21.1 in /opt/conda/lib/python3.7/site-packages (from requests\u003c3,\u003e=2.21.0-\u003etensorboard\u003c2.12,\u003e=2.11-\u003etensorflow) (1.26.15)\\n\",","      \"Requirement already satisfied: certifi\u003e=2017.4.17 in /opt/conda/lib/python3.7/site-packages (from requests\u003c3,\u003e=2.21.0-\u003etensorboard\u003c2.12,\u003e=2.11-\u003etensorflow) (2024.8.30)\\n\",","      \"Requirement already satisfied: MarkupSafe\u003e=2.1.1 in /opt/conda/lib/python3.7/site-packages (from werkzeug\u003e=1.0.1-\u003etensorboard\u003c2.12,\u003e=2.11-\u003etensorflow) (2.1.1)\\n\",","      \"Requirement already satisfied: zipp\u003e=0.5 in /opt/conda/lib/python3.7/site-packages (from importlib-metadata\u003e=4.4-\u003emarkdown\u003e=2.6.8-\u003etensorboard\u003c2.12,\u003e=2.11-\u003etensorflow) (3.15.0)\\n\",","      \"Requirement already satisfied: pyasn1\u003c0.6.0,\u003e=0.4.6 in /opt/conda/lib/python3.7/site-packages (from pyasn1-modules\u003e=0.2.1-\u003egoogle-auth\u003c3,\u003e=1.6.3-\u003etensorboard\u003c2.12,\u003e=2.11-\u003etensorflow) (0.5.1)\\n\",","      \"Requirement already satisfied: oauthlib\u003e=3.0.0 in /opt/conda/lib/python3.7/site-packages (from requests-oauthlib\u003e=0.7.0-\u003egoogle-auth-oauthlib\u003c0.5,\u003e=0.4.1-\u003etensorboard\u003c2.12,\u003e=2.11-\u003etensorflow) (3.2.2)\\n\",","      \"Requirement already satisfied: scikit-learn in /opt/conda/lib/python3.7/site-packages (1.0.2)\\n\",","      \"Requirement already satisfied: numpy\u003e=1.14.6 in /opt/conda/lib/python3.7/site-packages (from scikit-learn) (1.21.6)\\n\",","      \"Requirement already satisfied: scipy\u003e=1.1.0 in /opt/conda/lib/python3.7/site-packages (from scikit-learn) (1.7.3)\\n\",","      \"Requirement already satisfied: joblib\u003e=0.11 in /opt/conda/lib/python3.7/site-packages (from scikit-learn) (1.3.2)\\n\",","      \"Requirement already satisfied: threadpoolctl\u003e=2.0.0 in /opt/conda/lib/python3.7/site-packages (from scikit-learn) (3.1.0)\\n\"","     ]","    }","   ],","   \"execution_count\": 4,","   \"source\": [","    \"import sys\\n\",","    \"!{sys.executable} -m pip install pandas\\n\",","    \"!{sys.executable} -m pip install tensorflow\\n\",","    \"!{sys.executable} -m pip install scikit-learn\"","   ],","   \"id\": \"a8fd7ccc-47ea-4d9e-b248-26ed216ed96a\"","  },","  {","   \"metadata\": {},","   \"cell_type\": \"code\",","   \"outputs\": [],","   \"execution_count\": 52,","   \"source\": [","    \"import numpy as np\\n\",","    \"import pandas as pd\\n\",","    \"import matplotlib.pyplot as plt\\n\",","    \"import tensorflow as tf\\n\",","    \"\\n\",","    \"from sklearn.preprocessing import MinMaxScaler\\n\",","    \"from sklearn.model_selection import train_test_split\"","   ],","   \"id\": \"55ffcc7e-d506-4856-9e07-bf52762b1f8c\"","  },","  {","   \"metadata\": {},","   \"cell_type\": \"code\",","   \"outputs\": [],","   \"execution_count\": 53,","   \"source\": [","    \"def create_dataset(signal, window_size=20):\\n\",","    \"    X, y = [], []\\n\",","    \"    for i in range(len(signal) - window_size):\\n\",","    \"        X.append(signal[i:i+window_size])\\n\",","    \"        y.append(signal[i+window_size])\\n\",","    \"    return np.array(X), np.array(y)\"","   ],","   \"id\": \"b25e83fc-5311-41d2-85c8-f2a25f61e40e\"","  },","  {","   \"metadata\": {","    \"ExecuteTime\": {","     \"end_time\": \"2025-08-05T03:29:34.886803Z\",","     \"start_time\": \"2025-08-05T03:29:34.691770Z\"","    }","   },","   \"cell_type\": \"code\",","   \"source\": [","    \"data = pd.read_csv('validation/output/sparc_data_augmented.csv')\\n\",","    \"fine_tuning_data = data.iloc[:, 1::].to_numpy()\\n\",","    \"\\n\",","    \"clean_data = pd.read_csv('validation/output/sparc_data.csv')\\n\",","    \"original_signal = clean_data.iloc[:, 1::].to_numpy()\\n\",","    \"\\n\",","    \"scaler = MinMaxScaler(feature_range=(0,1))\\n\",","    \"og_scaler = MinMaxScaler(feature_range=(0,1))\\n\",","    \"scaled_data = scaler.fit_transform(fine_tuning_data)\\n\",","    \"scaled_original_signal = og_scaler.fit_transform(original_signal)\"","   ],","   \"id\": \"563e0a54-91cb-4f34-b2bf-8bbd610d54b3\",","   \"outputs\": [","    {","     \"ename\": \"NameError\",","     \"evalue\": \"name 'pd' is not defined\",","     \"output_type\": \"error\",","     \"traceback\": [","      \"\\u001B[0;31m---------------------------------------------------------------------------\\u001B[0m\",","      \"\\u001B[0;31mNameError\\u001B[0m                                 Traceback (most recent call last)\",","      \"Cell \\u001B[0;32mIn[1], line 1\\u001B[0m\\n\\u001B[0;32m----\u003e 1\\u001B[0m data \\u001B[38;5;241m=\\u001B[39m \\u001B[43mpd\\u001B[49m\\u001B[38;5;241m.\\u001B[39mread_csv(\\u001B[38;5;124m'\\u001B[39m\\u001B[38;5;124mvalidation/output/sparc_data_augmented.csv\\u001B[39m\\u001B[38;5;124m'\\u001B[39m)\\n\\u001B[1;32m      2\\u001B[0m fine_tuning_data \\u001B[38;5;241m=\\u001B[39m data\\u001B[38;5;241m.\\u001B[39miloc[:, \\u001B[38;5;241m1\\u001B[39m::]\\u001B[38;5;241m.\\u001B[39mto_numpy()\\n\\u001B[1;32m      4\\u001B[0m clean_data \\u001B[38;5;241m=\\u001B[39m pd\\u001B[38;5;241m.\\u001B[39mread_csv(\\u001B[38;5;124m'\\u001B[39m\\u001B[38;5;124mvalidation/output/sparc_data.csv\\u001B[39m\\u001B[38;5;124m'\\u001B[39m)\\n\",","      \"\\u001B[0;31mNameError\\u001B[0m: name 'pd' is not defined\"","     ]","    }","   ],","   \"execution_count\": 1","  },","  {","   \"metadata\": {},","   \"cell_type\": \"code\",","   \"outputs\": [],","   \"execution_count\": 76,","   \"source\": [","    \"X_train_all, y_train_all = [], []\\n\",","    \"window_size = 20\\n\",","    \"\\n\",","    \"for i in range(scaled_data.shape[1]):  # a list of 10 signals\\n\",","    \"    X_aug, y_aug = create_dataset(scaled_data[:, i], window_size)\\n\",","    \"    X_train_all.append(X_aug)\\n\",","    \"    y_train_all.append(y_aug)\\n\",","    \"\\n\",","    \"# Combine all augmented data into single arrays\\n\",","    \"X_train = np.concatenate(X_train_all, axis=0)\\n\",","    \"y_train = np.concatenate(y_train_all, axis=0)\\n\",","    \"\\n\",","    \"# Reshape if univariate (LSTM expects shape (samples, timesteps, features))\\n\",","    \"X_train = X_train.reshape((X_train.shape[0], X_train.shape[1], 1))\"","   ],","   \"id\": \"61b816c2-70fa-4c7f-b6a8-ebb28a48a753\"","  },","  {","   \"metadata\": {},","   \"cell_type\": \"code\",","   \"outputs\": [],","   \"execution_count\": 77,","   \"source\": [","    \"# Path to your saved model .h5 file\\n\",","    \"model_path = 'validation/input/fine_tune_LSTM.h5'\\n\",","    \"\\n\",","    \"# Load the pretrained model\\n\",","    \"model = tf.keras.models.load_model(model_path)\\n\",","    \"    \\n\",","    \"model.compile(optimizer=tf.keras.optimizers.Adam(learning_rate=1e-4), loss='mean_squared_error')\"","   ],","   \"id\": \"75471d8e-a478-4fdc-b7ea-c61a853fc5ce\"","  },","  {","   \"metadata\": {},","   \"cell_type\": \"code\",","   \"outputs\": [],","   \"execution_count\": 82,","   \"source\": [","    \"seed_sequence = np.copy(scaled_original_signal[-window_size:]) \\n\",","    \"\\n\",","    \"# List to store predictions\\n\",","    \"predictions = []\\n\",","    \"nb_predictions = 100\\n\",","    \"\\n\",","    \"# Make n predictions\\n\",","    \"for i in range(nb_predictions):\\n\",","    \"    # Reshape to model inputs shape: (1, window_size, 1)\\n\",","    \"    input_seq = np.reshape(seed_sequence[i:window_size+i], (1, window_size, 1))\\n\",","    \"    \\n\",","    \"    # Predict next value (shape will be (1, 1))\\n\",","    \"    next_val = model.predict(input_seq, verbose=0)[0, 0]\\n\",","    \"    \\n\",","    \"    # Append prediction to results\\n\",","    \"    predictions.append(next_val)\\n\",","    \"    seed_sequence = np.append(seed_sequence, next_val)\\n\",","    \"    \\n\",","    \"predictions = og_scaler.inverse_transform(np.array(predictions).reshape(-1,1)).flatten()\"","   ],","   \"id\": \"7711e078-4630-45ec-ac7e-50ccca0f50b6\"","  },","  {","   \"metadata\": {},","   \"cell_type\": \"code\",","   \"outputs\": [","    {","     \"data\": {","      \"image/png\": \"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\\n\",","      \"text/plain\": [","       \"\u003cFigure size 1200x600 with 1 Axes\u003e\"","      ]","     },","     \"metadata\": {},","     \"output_type\": \"display_data\"","    }","   ],","   \"execution_count\": 83,","   \"source\": [","    \"plt.figure(figsize=(12, 6))\\n\",","    \"plt.plot(original_signal, label='Actual')\\n\",","    \"plt.plot(np.linspace(len(original_signal), len(original_signal) + nb_predictions, nb_predictions),predictions, label='Predicted')\\n\",","    \"plt.title('Actual vs Predicted')\\n\",","    \"plt.xlabel('Time')\\n\",","    \"plt.ylabel('Signal')\\n\",","    \"plt.legend()\\n\",","    \"plt.show()\"","   ],","   \"id\": \"bf0fcbdb-d76b-4066-af34-862f7179ae8d\"","  },","  {","   \"metadata\": {},","   \"cell_type\": \"code\",","   \"outputs\": [],","   \"execution_count\": null,","   \"source\": \"\",","   \"id\": \"c3aa2173-d790-4d8c-bc03-07e4660caf85\"","  }"," ],"," \"metadata\": {","  \"kernelspec\": {","   \"display_name\": \"Python 3 (ipykernel)\",","   \"language\": \"python\",","   \"name\": \"python3\"","  },","  \"language_info\": {","   \"codemirror_mode\": {","    \"name\": \"ipython\",","    \"version\": 3","   },","   \"file_extension\": \".py\",","   \"mimetype\": \"text/x-python\",","   \"name\": \"python\",","   \"nbconvert_exporter\": \"python\",","   \"pygments_lexer\": \"ipython3\",","   \"version\": \"3.7.12\"","  }"," },"," \"nbformat\": 4,"," \"nbformat_minor\": 5","}"],"stylingDirectives":null,"colorizedLines":null,"csv":null,"csvError":null,"dependabotInfo":{"showConfigurationBanner":false,"configFilePath":null,"networkDependabotPath":"/SPARC-FAIR-Codeathon/2025-team-F/network/updates","dismissConfigurationNoticePath":"/settings/dismiss-notice/dependabot_configuration_notice","configurationNoticeDismissed":false},"displayName":"tf_fine_tune_model.ipynb","displayUrl":"https://notebooks.githubusercontent.com/view/ipynb?browser=edge\u0026bypass_fastly=true\u0026color_mode=auto\u0026commit=a9b737d6605e940cecafeba1051dc57086168679\u0026device=unknown_device\u0026docs_host=https%3A%2F%2Fdocs.github.com\u0026enc_url=68747470733a2f2f7261772e67697468756275736572636f6e74656e742e636f6d2f53504152432d464149522d436f64656174686f6e2f323032352d7465616d2d462f613962373337643636303565393430636563616665626131303531646335373038363136383637392f6578616d706c65732f74665f66696e655f74756e655f6d6f64656c2e6970796e62\u0026logged_in=true\u0026nwo=SPARC-FAIR-Codeathon%2F2025-team-F\u0026path=examples%2Ftf_fine_tune_model.ipynb\u0026platform=windows\u0026repository_id=1028403411\u0026repository_type=Repository\u0026version=138","headerInfo":{"blobSize":"116 KB","deleteTooltip":"Delete this file","editTooltip":"Edit this file","ghDesktopPath":"x-github-client://openRepo/https://github.com/SPARC-FAIR-Codeathon/2025-team-F?branch=restructuring\u0026filepath=examples%2Ftf_fine_tune_model.ipynb","isGitLfs":false,"onBranch":true,"shortPath":"cd88298","siteNavLoginPath":"/login?return_to=https%3A%2F%2Fgithub.com%2FSPARC-FAIR-Codeathon%2F2025-team-F%2Fblob%2Frestructuring%2Fexamples%2Ftf_fine_tune_model.ipynb","isCSV":false,"isRichtext":false,"toc":null,"lineInfo":{"truncatedLoc":"316","truncatedSloc":"316"},"mode":"file"},"image":false,"isCodeownersFile":null,"isPlain":false,"isValidLegacyIssueTemplate":false,"issueTemplate":null,"discussionTemplate":null,"language":"Jupyter Notebook","languageID":185,"large":false,"planSupportInfo":{"repoIsFork":null,"repoOwnedByCurrentUser":null,"requestFullPath":"/SPARC-FAIR-Codeathon/2025-team-F/blob/restructuring/examples/tf_fine_tune_model.ipynb","showFreeOrgGatedFeatureMessage":null,"showPlanSupportBanner":null,"upgradeDataAttributes":null,"upgradePath":null},"publishBannersInfo":{"dismissActionNoticePath":"/settings/dismiss-notice/publish_action_from_dockerfile","releasePath":"/SPARC-FAIR-Codeathon/2025-team-F/releases/new?marketplace=true","showPublishActionBanner":false},"rawBlobUrl":"https://github.com/SPARC-FAIR-Codeathon/2025-team-F/raw/refs/heads/restructuring/examples/tf_fine_tune_model.ipynb","renderImageOrRaw":false,"richText":null,"renderedFileInfo":{"identityUUID":"b10e5096-4df3-4cb8-ae0e-f3ac7a070b65","renderFileType":"ipynb","size":118566},"shortPath":null,"symbolsEnabled":true,"tabSize":8,"topBannersInfo":{"overridingGlobalFundingFile":false,"globalPreferredFundingPath":null,"showInvalidCitationWarning":false,"citationHelpUrl":"https://docs.github.com/github/creating-cloning-and-archiving-repositories/creating-a-repository-on-github/about-citation-files","actionsOnboardingTip":null},"truncated":false,"viewable":true,"workflowRedirectUrl":null,"symbols":{"timed_out":false,"not_analyzed":true,"symbols":[]}},"copilotInfo":null,"copilotAccessAllowed":true,"modelsAccessAllowed":false,"modelsRepoIntegrationEnabled":false,"isMarketplaceEnabled":true,"csrf_tokens":{"/SPARC-FAIR-Codeathon/2025-team-F/branches":{"post":"WFatiIKv4V-eevOZD4vWOKz_p8WWB1H82bzxOP0NXXE0ztpkwngczyoHcFohwvSWPbnNHp9rEhEOLpT8OsqryA"},"/repos/preferences":{"post":"afLQTwYXJlRonoG1qLUcQW0ppuhRvYCIp0jcomOve8A8Xi9mGzIVyk0UA16BDCt4KF-xklGSJv-OFJWn5rUjjg"}}},"title":"2025-team-F/examples/tf_fine_tune_model.ipynb at restructuring · SPARC-FAIR-Codeathon/2025-team-F","appPayload":{"helpUrl":"https://docs.github.com","findFileWorkerPath":"/assets-cdn/worker/find-file-worker-263cab1760dd.js","findInFileWorkerPath":"/assets-cdn/worker/find-in-file-worker-0b6f8702959e.js","githubDevUrl":"https://github.dev/","enabled_features":{"code_nav_ui_events":false,"react_blob_overlay":true,"accessible_code_button":true}}}</script>
  <div data-target="react-app.reactRoot"><style data-styled="true" data-styled-version="5.3.11">.gISSDQ{width:100%;}/*!sc*/
@media screen and (min-width:544px){.gISSDQ{width:100%;}}/*!sc*/
@media screen and (min-width:768px){.gISSDQ{width:auto;}}/*!sc*/
.birIjn{max-height:100%;height:100%;display:-webkit-box;display:-webkit-flex;display:-ms-flexbox;display:flex;-webkit-flex-direction:column;-ms-flex-direction:column;flex-direction:column;}/*!sc*/
@media screen and (max-width:768px){.birIjn{display:none;}}/*!sc*/
@media screen and (min-width:768px){.birIjn{max-height:100vh;height:100vh;}}/*!sc*/
.jfIeyl{display:-webkit-box;display:-webkit-flex;display:-ms-flexbox;display:flex;width:100%;margin-bottom:16px;-webkit-align-items:center;-webkit-box-align:center;-ms-flex-align:center;align-items:center;}/*!sc*/
.kOkWgo{font-size:16px;margin-left:8px;}/*!sc*/
.dPUXSa[data-size="medium"][data-no-visuals]{border-top-left-radius:0;border-bottom-left-radius:0;}/*!sc*/
@media screen and (max-width:768px){.jLLPHh{display:none;}}/*!sc*/
.bHLmSv{position:absolute;inset:0 -2px;cursor:col-resize;background-color:transparent;-webkit-transition-delay:0.1s;transition-delay:0.1s;}/*!sc*/
.bHLmSv:hover{background-color:var(--bgColor-neutral-muted,var(--color-neutral-muted,rgba(175,184,193,0.2)));}/*!sc*/
.leYMvG{margin-left:auto;margin-right:auto;-webkit-flex-direction:column;-ms-flex-direction:column;flex-direction:column;padding-bottom:40px;max-width:100%;margin-top:0;}/*!sc*/
.KMPzq{display:inherit;}/*!sc*/
.cEytCf{display:-webkit-box;display:-webkit-flex;display:-ms-flexbox;display:flex;-webkit-flex-direction:row;-ms-flex-direction:row;flex-direction:row;font-size:16px;min-width:0;-webkit-flex-shrink:1;-ms-flex-negative:1;flex-shrink:1;-webkit-flex-wrap:wrap;-ms-flex-wrap:wrap;flex-wrap:wrap;max-width:100%;-webkit-align-items:center;-webkit-box-align:center;-ms-flex-align:center;align-items:center;}/*!sc*/
.fzFXnm{max-width:100%;}/*!sc*/
.iMnkmv{max-width:100%;list-style:none;display:inline-block;}/*!sc*/
.ghzDag{display:inline-block;max-width:100%;}/*!sc*/
.kHuKdh{font-weight:600;}/*!sc*/
.hzJBof{padding-left:4px;padding-right:4px;font-weight:400;color:var(--fgColor-muted,var(--color-fg-muted,#656d76));font-size:16px;}/*!sc*/
.kgiVEz{font-weight:400;}/*!sc*/
.jGhzSQ{font-weight:600;display:inline-block;max-width:100%;font-size:16px;}/*!sc*/
.fjrFuv[data-size="medium"][data-no-visuals]{display:none;}/*!sc*/
.gUkoLg{-webkit-box-pack:center;-webkit-justify-content:center;-ms-flex-pack:center;justify-content:center;}/*!sc*/
.dJxjrT{margin-left:16px;margin-right:16px;}/*!sc*/
.ldRxiI{display:-webkit-box;display:-webkit-flex;display:-ms-flexbox;display:flex;-webkit-flex-direction:row;-ms-flex-direction:row;flex-direction:row;}/*!sc*/
.fVkfyA{width:100%;height:-webkit-fit-content;height:-moz-fit-content;height:fit-content;min-width:0;margin-right:0;}/*!sc*/
.gNAmSV{height:40px;padding-left:4px;padding-bottom:16px;}/*!sc*/
.jdLMhu{top:0px;z-index:4;background:var(--bgColor-default,var(--color-canvas-default));position:-webkit-sticky;position:sticky;}/*!sc*/
.hqwSEx{display:none;min-width:0;padding-top:8px;padding-bottom:8px;}/*!sc*/
.fHind{display:-webkit-box;display:-webkit-flex;display:-ms-flexbox;display:flex;-webkit-flex-direction:row;-ms-flex-direction:row;flex-direction:row;font-size:14px;min-width:0;-webkit-flex-shrink:1;-ms-flex-negative:1;flex-shrink:1;-webkit-flex-wrap:wrap;-ms-flex-wrap:wrap;flex-wrap:wrap;max-width:100%;-webkit-align-items:center;-webkit-box-align:center;-ms-flex-align:center;align-items:center;}/*!sc*/
.oDtgN{padding-left:4px;padding-right:4px;font-weight:400;color:var(--fgColor-muted,var(--color-fg-muted,#656d76));font-size:14px;}/*!sc*/
.dnZoUW{font-weight:600;display:inline-block;max-width:100%;font-size:14px;}/*!sc*/
.gFKFyc{border-radius:6px 6px 0px 0px;}/*!sc*/
.lefpaC linkButtonSx:hover:not([disabled]){-webkit-text-decoration:none;text-decoration:none;}/*!sc*/
.lefpaC linkButtonSx:focus:not([disabled]){-webkit-text-decoration:none;text-decoration:none;}/*!sc*/
.lefpaC linkButtonSx:active:not([disabled]){-webkit-text-decoration:none;text-decoration:none;}/*!sc*/
.ivobqY[data-size="small"][data-no-visuals]{border-top-left-radius:0;border-bottom-left-radius:0;}/*!sc*/
.iCOsHh[data-size="small"][data-no-visuals]:hover:not([disabled]){-webkit-text-decoration:none;text-decoration:none;}/*!sc*/
.iCOsHh[data-size="small"][data-no-visuals]:focus:not([disabled]){-webkit-text-decoration:none;text-decoration:none;}/*!sc*/
.iCOsHh[data-size="small"][data-no-visuals]:active:not([disabled]){-webkit-text-decoration:none;text-decoration:none;}/*!sc*/
.hGyMdv{border:1px solid;border-top:none;border-color:var(--borderColor-default,var(--color-border-default,#d0d7de));border-radius:0px 0px 6px 6px;min-width:273px;}/*!sc*/
.iWAocR{background-color:var(--bgColor-default,var(--color-canvas-default));border:0px;border-width:0;border-radius:0px 0px 6px 6px;padding:0;min-width:0;margin-top:46px;overflow:auto;}/*!sc*/
.cCoXib{position:fixed;top:0;right:0;height:100%;width:15px;-webkit-transition:-webkit-transform 0.3s;-webkit-transition:transform 0.3s;transition:transform 0.3s;z-index:1;}/*!sc*/
.cCoXib:hover{-webkit-transform:scaleX(1.5);-ms-transform:scaleX(1.5);transform:scaleX(1.5);}/*!sc*/
.fgsa-DI{display:-webkit-box;display:-webkit-flex;display:-ms-flexbox;display:flex;-webkit-flex-direction:column;-ms-flex-direction:column;flex-direction:column;-webkit-align-items:center;-webkit-box-align:center;-ms-flex-align:center;align-items:center;padding-top:16px;padding-bottom:16px;}/*!sc*/
data-styled.g1[id="Box-sc-g0xbh4-0"]{content:"gISSDQ,birIjn,jfIeyl,kOkWgo,dPUXSa,jLLPHh,bHLmSv,leYMvG,KMPzq,cEytCf,fzFXnm,iMnkmv,ghzDag,kHuKdh,hzJBof,kgiVEz,jGhzSQ,fjrFuv,gUkoLg,dJxjrT,ldRxiI,fVkfyA,gNAmSV,jdLMhu,hqwSEx,fHind,oDtgN,dnZoUW,gFKFyc,lefpaC,ivobqY,iCOsHh,hGyMdv,iWAocR,cCoXib,fgsa-DI,"}/*!sc*/
.hWlpPn{position:relative;display:inline-block;}/*!sc*/
.hWlpPn::after{position:absolute;z-index:1000000;display:none;padding:0.5em 0.75em;font:normal normal 11px/1.5 -apple-system,BlinkMacSystemFont,"Segoe UI","Noto Sans",Helvetica,Arial,sans-serif,"Apple Color Emoji","Segoe UI Emoji";-webkit-font-smoothing:subpixel-antialiased;color:var(--tooltip-fgColor,var(--fgColor-onEmphasis,var(--color-fg-on-emphasis,#ffffff)));text-align:center;-webkit-text-decoration:none;text-decoration:none;text-shadow:none;text-transform:none;-webkit-letter-spacing:normal;-moz-letter-spacing:normal;-ms-letter-spacing:normal;letter-spacing:normal;word-wrap:break-word;white-space:pre;pointer-events:none;content:attr(aria-label);background:var(--tooltip-bgColor,var(--bgColor-emphasis,var(--color-neutral-emphasis-plus,#24292f)));border-radius:6px;opacity:0;}/*!sc*/
@-webkit-keyframes tooltip-appear{from{opacity:0;}to{opacity:1;}}/*!sc*/
@keyframes tooltip-appear{from{opacity:0;}to{opacity:1;}}/*!sc*/
.hWlpPn:hover::after,.hWlpPn:active::after,.hWlpPn:focus::after,.hWlpPn:focus-within::after{display:inline-block;-webkit-text-decoration:none;text-decoration:none;-webkit-animation-name:tooltip-appear;animation-name:tooltip-appear;-webkit-animation-duration:0.1s;animation-duration:0.1s;-webkit-animation-fill-mode:forwards;animation-fill-mode:forwards;-webkit-animation-timing-function:ease-in;animation-timing-function:ease-in;-webkit-animation-delay:0s;animation-delay:0s;}/*!sc*/
.hWlpPn.tooltipped-no-delay:hover::after,.hWlpPn.tooltipped-no-delay:active::after,.hWlpPn.tooltipped-no-delay:focus::after,.hWlpPn.tooltipped-no-delay:focus-within::after{-webkit-animation-delay:0s;animation-delay:0s;}/*!sc*/
.hWlpPn.tooltipped-multiline:hover::after,.hWlpPn.tooltipped-multiline:active::after,.hWlpPn.tooltipped-multiline:focus::after,.hWlpPn.tooltipped-multiline:focus-within::after{display:table-cell;}/*!sc*/
.hWlpPn.tooltipped-s::after,.hWlpPn.tooltipped-se::after,.hWlpPn.tooltipped-sw::after{top:100%;right:50%;margin-top:6px;}/*!sc*/
.hWlpPn.tooltipped-se::after{right:auto;left:50%;margin-left:-16px;}/*!sc*/
.hWlpPn.tooltipped-sw::after{margin-right:-16px;}/*!sc*/
.hWlpPn.tooltipped-n::after,.hWlpPn.tooltipped-ne::after,.hWlpPn.tooltipped-nw::after{right:50%;bottom:100%;margin-bottom:6px;}/*!sc*/
.hWlpPn.tooltipped-ne::after{right:auto;left:50%;margin-left:-16px;}/*!sc*/
.hWlpPn.tooltipped-nw::after{margin-right:-16px;}/*!sc*/
.hWlpPn.tooltipped-s::after,.hWlpPn.tooltipped-n::after{-webkit-transform:translateX(50%);-ms-transform:translateX(50%);transform:translateX(50%);}/*!sc*/
.hWlpPn.tooltipped-w::after{right:100%;bottom:50%;margin-right:6px;-webkit-transform:translateY(50%);-ms-transform:translateY(50%);transform:translateY(50%);}/*!sc*/
.hWlpPn.tooltipped-e::after{bottom:50%;left:100%;margin-left:6px;-webkit-transform:translateY(50%);-ms-transform:translateY(50%);transform:translateY(50%);}/*!sc*/
.hWlpPn.tooltipped-multiline::after{width:-webkit-max-content;width:-moz-max-content;width:max-content;max-width:250px;word-wrap:break-word;white-space:pre-line;border-collapse:separate;}/*!sc*/
.hWlpPn.tooltipped-multiline.tooltipped-s::after,.hWlpPn.tooltipped-multiline.tooltipped-n::after{right:auto;left:50%;-webkit-transform:translateX(-50%);-ms-transform:translateX(-50%);transform:translateX(-50%);}/*!sc*/
.hWlpPn.tooltipped-multiline.tooltipped-w::after,.hWlpPn.tooltipped-multiline.tooltipped-e::after{right:100%;}/*!sc*/
.hWlpPn.tooltipped-align-right-2::after{right:0;margin-right:0;}/*!sc*/
.hWlpPn.tooltipped-align-left-2::after{left:0;margin-left:0;}/*!sc*/
data-styled.g4[id="Tooltip__TooltipBase-sc-17tf59c-0"]{content:"hWlpPn,"}/*!sc*/
</style><meta data-hydrostats="publish"/> <!-- --> <!-- --> <button hidden="" data-testid="header-permalink-button" data-hotkey-scope="read-only-cursor-text-area"></button><button hidden=""></button><div><div style="--spacing:var(--spacing-none)" class="prc-PageLayout-PageLayoutRoot-1zlEO"><div class="prc-PageLayout-PageLayoutWrapper-s2ao4" data-width="full"><div class="prc-PageLayout-PageLayoutContent-jzDMn"><div tabindex="0" class="Box-sc-g0xbh4-0 gISSDQ"><div class="prc-PageLayout-PaneWrapper-nGO0U ReposFileTreePane-module__Pane--wS7IV ReposFileTreePane-module__HidePaneWithTreeOverlay--fHI8k" style="--offset-header:0px;--spacing-row:var(--spacing-none);--spacing-column:var(--spacing-none)" data-is-hidden="false" data-position="start" data-sticky="true"><div class="prc-PageLayout-HorizontalDivider-CYLp5 prc-PageLayout-PaneHorizontalDivider-4exOb" data-variant="none" data-position="start" style="--spacing-divider:var(--spacing-none);--spacing:var(--spacing-none)"></div><div class="prc-PageLayout-Pane-Vl5LI" data-resizable="true" style="--spacing:var(--spacing-none);--pane-min-width:256px;--pane-max-width:calc(100vw - var(--pane-max-width-diff));--pane-width-size:var(--pane-width-large);--pane-width:320px"><div class="react-tree-pane-contents-3-panel"><div id="repos-file-tree" class="Box-sc-g0xbh4-0 birIjn"><div class="ReposFileTreePane-module__Box_1--Bz4Aw"><div class="Box-sc-g0xbh4-0 jfIeyl"><h2 class="use-tree-pane-module__Heading--DlnQ2 prc-Heading-Heading-6CmGO"><button type="button" aria-label="Expand file tree" data-testid="expand-file-tree-button-mobile" class="prc-Button-ButtonBase-c50BI ExpandFileTreeButton-module__Button_1--M2dXF" data-loading="false" data-size="medium" data-variant="invisible" aria-describedby=":Rl6mplab:-loading-announcement"><span data-component="buttonContent" data-align="center" class="prc-Button-ButtonContent-HKbr-"><span data-component="leadingVisual" class="prc-Button-Visual-2epfX prc-Button-VisualWrap-Db-eB"><svg aria-hidden="true" focusable="false" class="octicon octicon-arrow-left" viewBox="0 0 16 16" width="16" height="16" fill="currentColor" display="inline-block" overflow="visible" style="vertical-align:text-bottom"><path d="M7.78 12.53a.75.75 0 0 1-1.06 0L2.47 8.28a.75.75 0 0 1 0-1.06l4.25-4.25a.751.751 0 0 1 1.042.018.751.751 0 0 1 .018 1.042L4.81 7h7.44a.75.75 0 0 1 0 1.5H4.81l2.97 2.97a.75.75 0 0 1 0 1.06Z"></path></svg></span><span data-component="text" class="prc-Button-Label-pTQ3x">Files</span></span></button><button data-component="IconButton" type="button" data-testid="collapse-file-tree-button" aria-expanded="true" aria-controls="repos-file-tree" class="prc-Button-ButtonBase-c50BI position-relative ExpandFileTreeButton-module__expandButton--gL4is ExpandFileTreeButton-module__filesButtonBreakpoint--WfX9t fgColor-muted prc-Button-IconButton-szpyj" data-loading="false" data-no-visuals="true" data-size="medium" data-variant="invisible" aria-describedby=":R756mplab:-loading-announcement" aria-labelledby=":R156mplab:"><svg aria-hidden="true" focusable="false" class="octicon octicon-sidebar-expand" viewBox="0 0 16 16" width="16" height="16" fill="currentColor" display="inline-block" overflow="visible" style="vertical-align:text-bottom"><path d="m4.177 7.823 2.396-2.396A.25.25 0 0 1 7 5.604v4.792a.25.25 0 0 1-.427.177L4.177 8.177a.25.25 0 0 1 0-.354Z"></path><path d="M0 1.75C0 .784.784 0 1.75 0h12.5C15.216 0 16 .784 16 1.75v12.5A1.75 1.75 0 0 1 14.25 16H1.75A1.75 1.75 0 0 1 0 14.25Zm1.75-.25a.25.25 0 0 0-.25.25v12.5c0 .138.112.25.25.25H9.5v-13Zm12.5 13a.25.25 0 0 0 .25-.25V1.75a.25.25 0 0 0-.25-.25H11v13Z"></path></svg></button><span class="prc-TooltipV2-Tooltip-cYMVY" data-direction="se" aria-hidden="true" id=":R156mplab:">Collapse file tree</span><button hidden="" data-testid="" data-hotkey-scope="read-only-cursor-text-area"></button></h2><h2 class="Box-sc-g0xbh4-0 kOkWgo prc-Heading-Heading-6CmGO">Files</h2></div><div class="ReposFileTreePane-module__Box_2--uC_pl"><div class="ReposFileTreePane-module__Box_3--Tgoja"><button style="min-width:0" type="button" aria-haspopup="true" aria-expanded="false" tabindex="0" aria-label="restructuring branch" data-testid="anchor-button" class="prc-Button-ButtonBase-c50BI react-repos-tree-pane-ref-selector width-full ref-selector-class RefSelectorAnchoredOverlay-module__RefSelectorOverlayBtn--VlL0G" data-loading="false" data-size="medium" data-variant="default" aria-describedby="branch-picker-repos-header-ref-selector-loading-announcement" id="branch-picker-repos-header-ref-selector"><span data-component="buttonContent" data-align="center" class="prc-Button-ButtonContent-HKbr-"><span data-component="text" class="prc-Button-Label-pTQ3x"><div class="RefSelectorAnchoredOverlay-module__RefSelectorOverlayContainer--zopKZ"><div class="RefSelectorAnchoredOverlay-module__RefSelectorOverlayHeader--j083h"><svg aria-hidden="true" focusable="false" class="octicon octicon-git-branch" viewBox="0 0 16 16" width="16" height="16" fill="currentColor" display="inline-block" overflow="visible" style="vertical-align:text-bottom"><path d="M9.5 3.25a2.25 2.25 0 1 1 3 2.122V6A2.5 2.5 0 0 1 10 8.5H6a1 1 0 0 0-1 1v1.128a2.251 2.251 0 1 1-1.5 0V5.372a2.25 2.25 0 1 1 1.5 0v1.836A2.493 2.493 0 0 1 6 7h4a1 1 0 0 0 1-1v-.628A2.25 2.25 0 0 1 9.5 3.25Zm-6 0a.75.75 0 1 0 1.5 0 .75.75 0 0 0-1.5 0Zm8.25-.75a.75.75 0 1 0 0 1.5.75.75 0 0 0 0-1.5ZM4.25 12a.75.75 0 1 0 0 1.5.75.75 0 0 0 0-1.5Z"></path></svg></div><div class="ref-selector-button-text-container RefSelectorAnchoredOverlay-module__RefSelectorBtnTextContainer--k6jL0"><span class="RefSelectorAnchoredOverlay-module__RefSelectorText--A0p63"> <!-- -->restructuring</span></div></div></span><span data-component="trailingVisual" class="prc-Button-Visual-2epfX prc-Button-VisualWrap-Db-eB"><svg aria-hidden="true" focusable="false" class="octicon octicon-triangle-down" viewBox="0 0 16 16" width="16" height="16" fill="currentColor" display="inline-block" overflow="visible" style="vertical-align:text-bottom"><path d="m4.427 7.427 3.396 3.396a.25.25 0 0 0 .354 0l3.396-3.396A.25.25 0 0 0 11.396 7H4.604a.25.25 0 0 0-.177.427Z"></path></svg></span></span></button><button hidden="" data-hotkey-scope="read-only-cursor-text-area"></button></div><div class="ReposFileTreePane-module__Box_4--brBpx"><a data-component="IconButton" type="button" class="prc-Button-ButtonBase-c50BI ReposFileTreePane-module__IconButton--tNSTv prc-Button-IconButton-szpyj" data-loading="false" data-no-visuals="true" data-size="medium" data-variant="default" aria-describedby=":R6q6mplab:-loading-announcement" aria-labelledby=":Rq6mplab:" href="/SPARC-FAIR-Codeathon/2025-team-F/new/restructuring/examples" data-discover="true"><svg aria-hidden="true" focusable="false" class="octicon octicon-plus" viewBox="0 0 16 16" width="16" height="16" fill="currentColor" display="inline-block" overflow="visible" style="vertical-align:text-bottom"><path d="M7.75 2a.75.75 0 0 1 .75.75V7h4.25a.75.75 0 0 1 0 1.5H8.5v4.25a.75.75 0 0 1-1.5 0V8.5H2.75a.75.75 0 0 1 0-1.5H7V2.75A.75.75 0 0 1 7.75 2Z"></path></svg></a><span class="prc-TooltipV2-Tooltip-cYMVY" data-direction="n" aria-hidden="true" id=":Rq6mplab:">Add file</span><button data-component="IconButton" type="button" class="Box-sc-g0xbh4-0 dPUXSa prc-Button-ButtonBase-c50BI SearchButton-module__IconButton--LGy8b prc-Button-IconButton-szpyj" data-loading="false" data-no-visuals="true" data-size="medium" data-variant="default" aria-describedby=":Rra6mplab:-loading-announcement" aria-labelledby=":R3a6mplab:"><svg aria-hidden="true" focusable="false" class="octicon octicon-search" viewBox="0 0 16 16" width="16" height="16" fill="currentColor" display="inline-block" overflow="visible" style="vertical-align:text-bottom"><path d="M10.68 11.74a6 6 0 0 1-7.922-8.982 6 6 0 0 1 8.982 7.922l3.04 3.04a.749.749 0 0 1-.326 1.275.749.749 0 0 1-.734-.215ZM11.5 7a4.499 4.499 0 1 0-8.997 0A4.499 4.499 0 0 0 11.5 7Z"></path></svg></button><span class="prc-TooltipV2-Tooltip-cYMVY" data-direction="nw" aria-hidden="true" id=":R3a6mplab:">Search this repository</span><button hidden="" data-testid="" data-hotkey-scope="read-only-cursor-text-area"></button></div></div></div><div class="Box-sc-g0xbh4-0 jLLPHh ReposFileTreePane-module__FileResultsList--t38MI FileResultsList-module__Box_1--ZnWjQ"><span class="FileResultsList-module__FilesSearchBox--J5FtW FilesSearchBox-module__TextInput--LKpMn TextInput-wrapper prc-components-TextInputWrapper-i1ofR prc-components-TextInputBaseWrapper-ueK9q" data-leading-visual="true" data-trailing-visual="true" aria-busy="false"><span class="TextInput-icon" id=":R5amplab:" aria-hidden="true"><svg aria-hidden="true" focusable="false" class="octicon octicon-search" viewBox="0 0 16 16" width="16" height="16" fill="currentColor" display="inline-block" overflow="visible" style="vertical-align:text-bottom"><path d="M10.68 11.74a6 6 0 0 1-7.922-8.982 6 6 0 0 1 8.982 7.922l3.04 3.04a.749.749 0 0 1-.326 1.275.749.749 0 0 1-.734-.215ZM11.5 7a4.499 4.499 0 1 0-8.997 0A4.499 4.499 0 0 0 11.5 7Z"></path></svg></span><input type="text" aria-label="Go to file" role="combobox" aria-controls="file-results-list" aria-expanded="false" aria-haspopup="dialog" autoCorrect="off" spellcheck="false" placeholder="Go to file" aria-describedby=":R5amplab: :R5amplabH1:" data-component="input" class="prc-components-Input-Ic-y8" value=""/><span class="TextInput-icon" id=":R5amplabH1:" aria-hidden="true"><div class="FilesSearchBox-module__Box--Ye6rL"><kbd>t</kbd></div></span></span></div><button hidden="" data-testid="" data-hotkey-scope="read-only-cursor-text-area"></button><button hidden=""></button><div class="Box-sc-g0xbh4-0 jLLPHh ReposFileTreePane-module__Box_5--tQNH_"><div class="react-tree-show-tree-items"><div class="ReposFileTreeView-module__Box--V2jWA" data-testid="repos-file-tree-container"><nav aria-label="File Tree Navigation"><span class="prc-src-InternalVisuallyHidden-nlR9R" role="status" aria-live="polite" aria-atomic="true"></span><ul role="tree" aria-label="Files" data-truncate-text="true" class="prc-TreeView-TreeViewRootUlStyles-eZtxW"><li class="PRIVATE_TreeView-item prc-TreeView-TreeViewItem-ShJr0" tabindex="0" id="examples-item" role="treeitem" aria-labelledby=":R3pimplab:" aria-describedby=":R3pimplabH1:" aria-level="1" aria-expanded="true" aria-selected="false"><div class="PRIVATE_TreeView-item-container prc-TreeView-TreeViewItemContainer--2Rkn" style="--level:1;content-visibility:auto;contain-intrinsic-size:auto 2rem"><div style="grid-area:spacer;display:flex"><div style="width:100%;display:flex"></div></div><div class="PRIVATE_TreeView-item-toggle PRIVATE_TreeView-item-toggle--hover PRIVATE_TreeView-item-toggle--end prc-TreeView-TreeViewItemToggle-gWUdE prc-TreeView-TreeViewItemToggleHover-nEgP- prc-TreeView-TreeViewItemToggleEnd-t-AEB"><svg aria-hidden="true" focusable="false" class="octicon octicon-chevron-down" viewBox="0 0 12 12" width="12" height="12" fill="currentColor" display="inline-block" overflow="visible" style="vertical-align:text-bottom"><path d="M6 8.825c-.2 0-.4-.1-.5-.2l-3.3-3.3c-.3-.3-.3-.8 0-1.1.3-.3.8-.3 1.1 0l2.7 2.7 2.7-2.7c.3-.3.8-.3 1.1 0 .3.3.3.8 0 1.1l-3.2 3.2c-.2.2-.4.3-.6.3Z"></path></svg></div><div id=":R3pimplab:" class="PRIVATE_TreeView-item-content prc-TreeView-TreeViewItemContent-f0r0b"><div class="PRIVATE_VisuallyHidden prc-TreeView-TreeViewVisuallyHidden-4-mPv" aria-hidden="true" id=":R3pimplabH1:"></div><div class="PRIVATE_TreeView-item-visual prc-TreeView-TreeViewItemVisual-dRlGq" aria-hidden="true"><div class="PRIVATE_TreeView-directory-icon prc-TreeView-TreeViewDirectoryIcon-PHbeP"><svg aria-hidden="true" focusable="false" class="octicon octicon-file-directory-open-fill" viewBox="0 0 16 16" width="16" height="16" fill="currentColor" display="inline-block" overflow="visible" style="vertical-align:text-bottom"><path d="M.513 1.513A1.75 1.75 0 0 1 1.75 1h3.5c.55 0 1.07.26 1.4.7l.9 1.2a.25.25 0 0 0 .2.1H13a1 1 0 0 1 1 1v.5H2.75a.75.75 0 0 0 0 1.5h11.978a1 1 0 0 1 .994 1.117L15 13.25A1.75 1.75 0 0 1 13.25 15H1.75A1.75 1.75 0 0 1 0 13.25V2.75c0-.464.184-.91.513-1.237Z"></path></svg></div></div><span class="PRIVATE_TreeView-item-content-text prc-TreeView-TreeViewItemContentText-smZM-"><span>examples</span></span></div></div><ul role="group" style="list-style:none;padding:0;margin:0" aria-label=""><li class="PRIVATE_TreeView-item prc-TreeView-TreeViewItem-ShJr0" tabindex="0" id="examples/tf_LSTM_model.ipynb-item" role="treeitem" aria-labelledby=":R2mjpimplab:" aria-describedby=":R2mjpimplabH1:" aria-level="2" aria-selected="false"><div class="PRIVATE_TreeView-item-container prc-TreeView-TreeViewItemContainer--2Rkn" style="--level:2;content-visibility:auto;contain-intrinsic-size:auto 2rem"><div style="grid-area:spacer;display:flex"><div style="width:100%;display:flex"><div class="PRIVATE_TreeView-item-level-line prc-TreeView-TreeViewItemLevelLine-KPSSL"></div></div></div><div id=":R2mjpimplab:" class="PRIVATE_TreeView-item-content prc-TreeView-TreeViewItemContent-f0r0b"><div class="PRIVATE_VisuallyHidden prc-TreeView-TreeViewVisuallyHidden-4-mPv" aria-hidden="true" id=":R2mjpimplabH1:"></div><div class="PRIVATE_TreeView-item-visual prc-TreeView-TreeViewItemVisual-dRlGq" aria-hidden="true"><svg aria-hidden="true" focusable="false" class="octicon octicon-file" viewBox="0 0 16 16" width="16" height="16" fill="currentColor" display="inline-block" overflow="visible" style="vertical-align:text-bottom"><path d="M2 1.75C2 .784 2.784 0 3.75 0h6.586c.464 0 .909.184 1.237.513l2.914 2.914c.329.328.513.773.513 1.237v9.586A1.75 1.75 0 0 1 13.25 16h-9.5A1.75 1.75 0 0 1 2 14.25Zm1.75-.25a.25.25 0 0 0-.25.25v12.5c0 .138.112.25.25.25h9.5a.25.25 0 0 0 .25-.25V6h-2.75A1.75 1.75 0 0 1 9 4.25V1.5Zm6.75.062V4.25c0 .138.112.25.25.25h2.688l-.011-.013-2.914-2.914-.013-.011Z"></path></svg></div><span class="PRIVATE_TreeView-item-content-text prc-TreeView-TreeViewItemContentText-smZM-"><span>tf_LSTM_model.ipynb</span></span></div></div></li><li class="PRIVATE_TreeView-item prc-TreeView-TreeViewItem-ShJr0" tabindex="0" id="examples/tf_fine_tune_model.ipynb-item" role="treeitem" aria-labelledby=":R4mjpimplab:" aria-describedby=":R4mjpimplabH1:" aria-level="2" aria-current="true" aria-selected="false"><div class="PRIVATE_TreeView-item-container prc-TreeView-TreeViewItemContainer--2Rkn" style="--level:2"><div style="grid-area:spacer;display:flex"><div style="width:100%;display:flex"><div class="PRIVATE_TreeView-item-level-line prc-TreeView-TreeViewItemLevelLine-KPSSL"></div></div></div><div id=":R4mjpimplab:" class="PRIVATE_TreeView-item-content prc-TreeView-TreeViewItemContent-f0r0b"><div class="PRIVATE_VisuallyHidden prc-TreeView-TreeViewVisuallyHidden-4-mPv" aria-hidden="true" id=":R4mjpimplabH1:"></div><div class="PRIVATE_TreeView-item-visual prc-TreeView-TreeViewItemVisual-dRlGq" aria-hidden="true"><svg aria-hidden="true" focusable="false" class="octicon octicon-file" viewBox="0 0 16 16" width="16" height="16" fill="currentColor" display="inline-block" overflow="visible" style="vertical-align:text-bottom"><path d="M2 1.75C2 .784 2.784 0 3.75 0h6.586c.464 0 .909.184 1.237.513l2.914 2.914c.329.328.513.773.513 1.237v9.586A1.75 1.75 0 0 1 13.25 16h-9.5A1.75 1.75 0 0 1 2 14.25Zm1.75-.25a.25.25 0 0 0-.25.25v12.5c0 .138.112.25.25.25h9.5a.25.25 0 0 0 .25-.25V6h-2.75A1.75 1.75 0 0 1 9 4.25V1.5Zm6.75.062V4.25c0 .138.112.25.25.25h2.688l-.011-.013-2.914-2.914-.013-.011Z"></path></svg></div><span class="PRIVATE_TreeView-item-content-text prc-TreeView-TreeViewItemContentText-smZM-"><span>tf_fine_tune_model.ipynb</span></span></div></div></li><li class="PRIVATE_TreeView-item prc-TreeView-TreeViewItem-ShJr0" tabindex="0" id="examples/tf_pretrained_model.ipynb-item" role="treeitem" aria-labelledby=":R6mjpimplab:" aria-describedby=":R6mjpimplabH1:" aria-level="2" aria-selected="false"><div class="PRIVATE_TreeView-item-container prc-TreeView-TreeViewItemContainer--2Rkn" style="--level:2;content-visibility:auto;contain-intrinsic-size:auto 2rem"><div style="grid-area:spacer;display:flex"><div style="width:100%;display:flex"><div class="PRIVATE_TreeView-item-level-line prc-TreeView-TreeViewItemLevelLine-KPSSL"></div></div></div><div id=":R6mjpimplab:" class="PRIVATE_TreeView-item-content prc-TreeView-TreeViewItemContent-f0r0b"><div class="PRIVATE_VisuallyHidden prc-TreeView-TreeViewVisuallyHidden-4-mPv" aria-hidden="true" id=":R6mjpimplabH1:"></div><div class="PRIVATE_TreeView-item-visual prc-TreeView-TreeViewItemVisual-dRlGq" aria-hidden="true"><svg aria-hidden="true" focusable="false" class="octicon octicon-file" viewBox="0 0 16 16" width="16" height="16" fill="currentColor" display="inline-block" overflow="visible" style="vertical-align:text-bottom"><path d="M2 1.75C2 .784 2.784 0 3.75 0h6.586c.464 0 .909.184 1.237.513l2.914 2.914c.329.328.513.773.513 1.237v9.586A1.75 1.75 0 0 1 13.25 16h-9.5A1.75 1.75 0 0 1 2 14.25Zm1.75-.25a.25.25 0 0 0-.25.25v12.5c0 .138.112.25.25.25h9.5a.25.25 0 0 0 .25-.25V6h-2.75A1.75 1.75 0 0 1 9 4.25V1.5Zm6.75.062V4.25c0 .138.112.25.25.25h2.688l-.011-.013-2.914-2.914-.013-.011Z"></path></svg></div><span class="PRIVATE_TreeView-item-content-text prc-TreeView-TreeViewItemContentText-smZM-"><span>tf_pretrained_model.ipynb</span></span></div></div></li></ul></li><li class="PRIVATE_TreeView-item prc-TreeView-TreeViewItem-ShJr0" tabindex="0" id="res-item" role="treeitem" aria-labelledby=":R5pimplab:" aria-describedby=":R5pimplabH1:" aria-level="1" aria-expanded="false" aria-selected="false"><div class="PRIVATE_TreeView-item-container prc-TreeView-TreeViewItemContainer--2Rkn" style="--level:1;content-visibility:auto;contain-intrinsic-size:auto 2rem"><div style="grid-area:spacer;display:flex"><div style="width:100%;display:flex"></div></div><div class="PRIVATE_TreeView-item-toggle PRIVATE_TreeView-item-toggle--hover PRIVATE_TreeView-item-toggle--end prc-TreeView-TreeViewItemToggle-gWUdE prc-TreeView-TreeViewItemToggleHover-nEgP- prc-TreeView-TreeViewItemToggleEnd-t-AEB"><svg aria-hidden="true" focusable="false" class="octicon octicon-chevron-right" viewBox="0 0 12 12" width="12" height="12" fill="currentColor" display="inline-block" overflow="visible" style="vertical-align:text-bottom"><path d="M4.7 10c-.2 0-.4-.1-.5-.2-.3-.3-.3-.8 0-1.1L6.9 6 4.2 3.3c-.3-.3-.3-.8 0-1.1.3-.3.8-.3 1.1 0l3.3 3.2c.3.3.3.8 0 1.1L5.3 9.7c-.2.2-.4.3-.6.3Z"></path></svg></div><div id=":R5pimplab:" class="PRIVATE_TreeView-item-content prc-TreeView-TreeViewItemContent-f0r0b"><div class="PRIVATE_VisuallyHidden prc-TreeView-TreeViewVisuallyHidden-4-mPv" aria-hidden="true" id=":R5pimplabH1:"></div><div class="PRIVATE_TreeView-item-visual prc-TreeView-TreeViewItemVisual-dRlGq" aria-hidden="true"><div class="PRIVATE_TreeView-directory-icon prc-TreeView-TreeViewDirectoryIcon-PHbeP"><svg aria-hidden="true" focusable="false" class="octicon octicon-file-directory-fill" viewBox="0 0 16 16" width="16" height="16" fill="currentColor" display="inline-block" overflow="visible" style="vertical-align:text-bottom"><path d="M1.75 1A1.75 1.75 0 0 0 0 2.75v10.5C0 14.216.784 15 1.75 15h12.5A1.75 1.75 0 0 0 16 13.25v-8.5A1.75 1.75 0 0 0 14.25 3H7.5a.25.25 0 0 1-.2-.1l-.9-1.2C6.07 1.26 5.55 1 5 1H1.75Z"></path></svg></div></div><span class="PRIVATE_TreeView-item-content-text prc-TreeView-TreeViewItemContentText-smZM-"><span>res</span></span></div></div></li><li class="PRIVATE_TreeView-item prc-TreeView-TreeViewItem-ShJr0" tabindex="0" id="sparcats-item" role="treeitem" aria-labelledby=":R7pimplab:" aria-describedby=":R7pimplabH1:" aria-level="1" aria-expanded="false" aria-selected="false"><div class="PRIVATE_TreeView-item-container prc-TreeView-TreeViewItemContainer--2Rkn" style="--level:1;content-visibility:auto;contain-intrinsic-size:auto 2rem"><div style="grid-area:spacer;display:flex"><div style="width:100%;display:flex"></div></div><div class="PRIVATE_TreeView-item-toggle PRIVATE_TreeView-item-toggle--hover PRIVATE_TreeView-item-toggle--end prc-TreeView-TreeViewItemToggle-gWUdE prc-TreeView-TreeViewItemToggleHover-nEgP- prc-TreeView-TreeViewItemToggleEnd-t-AEB"><svg aria-hidden="true" focusable="false" class="octicon octicon-chevron-right" viewBox="0 0 12 12" width="12" height="12" fill="currentColor" display="inline-block" overflow="visible" style="vertical-align:text-bottom"><path d="M4.7 10c-.2 0-.4-.1-.5-.2-.3-.3-.3-.8 0-1.1L6.9 6 4.2 3.3c-.3-.3-.3-.8 0-1.1.3-.3.8-.3 1.1 0l3.3 3.2c.3.3.3.8 0 1.1L5.3 9.7c-.2.2-.4.3-.6.3Z"></path></svg></div><div id=":R7pimplab:" class="PRIVATE_TreeView-item-content prc-TreeView-TreeViewItemContent-f0r0b"><div class="PRIVATE_VisuallyHidden prc-TreeView-TreeViewVisuallyHidden-4-mPv" aria-hidden="true" id=":R7pimplabH1:"></div><div class="PRIVATE_TreeView-item-visual prc-TreeView-TreeViewItemVisual-dRlGq" aria-hidden="true"><div class="PRIVATE_TreeView-directory-icon prc-TreeView-TreeViewDirectoryIcon-PHbeP"><svg aria-hidden="true" focusable="false" class="octicon octicon-file-directory-fill" viewBox="0 0 16 16" width="16" height="16" fill="currentColor" display="inline-block" overflow="visible" style="vertical-align:text-bottom"><path d="M1.75 1A1.75 1.75 0 0 0 0 2.75v10.5C0 14.216.784 15 1.75 15h12.5A1.75 1.75 0 0 0 16 13.25v-8.5A1.75 1.75 0 0 0 14.25 3H7.5a.25.25 0 0 1-.2-.1l-.9-1.2C6.07 1.26 5.55 1 5 1H1.75Z"></path></svg></div></div><span class="PRIVATE_TreeView-item-content-text prc-TreeView-TreeViewItemContentText-smZM-"><span>sparcats</span></span></div></div></li><li class="PRIVATE_TreeView-item prc-TreeView-TreeViewItem-ShJr0" tabindex="0" id="tutorials-item" role="treeitem" aria-labelledby=":R9pimplab:" aria-describedby=":R9pimplabH1:" aria-level="1" aria-expanded="false" aria-selected="false"><div class="PRIVATE_TreeView-item-container prc-TreeView-TreeViewItemContainer--2Rkn" style="--level:1;content-visibility:auto;contain-intrinsic-size:auto 2rem"><div style="grid-area:spacer;display:flex"><div style="width:100%;display:flex"></div></div><div class="PRIVATE_TreeView-item-toggle PRIVATE_TreeView-item-toggle--hover PRIVATE_TreeView-item-toggle--end prc-TreeView-TreeViewItemToggle-gWUdE prc-TreeView-TreeViewItemToggleHover-nEgP- prc-TreeView-TreeViewItemToggleEnd-t-AEB"><svg aria-hidden="true" focusable="false" class="octicon octicon-chevron-right" viewBox="0 0 12 12" width="12" height="12" fill="currentColor" display="inline-block" overflow="visible" style="vertical-align:text-bottom"><path d="M4.7 10c-.2 0-.4-.1-.5-.2-.3-.3-.3-.8 0-1.1L6.9 6 4.2 3.3c-.3-.3-.3-.8 0-1.1.3-.3.8-.3 1.1 0l3.3 3.2c.3.3.3.8 0 1.1L5.3 9.7c-.2.2-.4.3-.6.3Z"></path></svg></div><div id=":R9pimplab:" class="PRIVATE_TreeView-item-content prc-TreeView-TreeViewItemContent-f0r0b"><div class="PRIVATE_VisuallyHidden prc-TreeView-TreeViewVisuallyHidden-4-mPv" aria-hidden="true" id=":R9pimplabH1:"></div><div class="PRIVATE_TreeView-item-visual prc-TreeView-TreeViewItemVisual-dRlGq" aria-hidden="true"><div class="PRIVATE_TreeView-directory-icon prc-TreeView-TreeViewDirectoryIcon-PHbeP"><svg aria-hidden="true" focusable="false" class="octicon octicon-file-directory-fill" viewBox="0 0 16 16" width="16" height="16" fill="currentColor" display="inline-block" overflow="visible" style="vertical-align:text-bottom"><path d="M1.75 1A1.75 1.75 0 0 0 0 2.75v10.5C0 14.216.784 15 1.75 15h12.5A1.75 1.75 0 0 0 16 13.25v-8.5A1.75 1.75 0 0 0 14.25 3H7.5a.25.25 0 0 1-.2-.1l-.9-1.2C6.07 1.26 5.55 1 5 1H1.75Z"></path></svg></div></div><span class="PRIVATE_TreeView-item-content-text prc-TreeView-TreeViewItemContentText-smZM-"><span>tutorials</span></span></div></div></li><li class="PRIVATE_TreeView-item prc-TreeView-TreeViewItem-ShJr0" tabindex="0" id="validation-item" role="treeitem" aria-labelledby=":Rbpimplab:" aria-describedby=":RbpimplabH1:" aria-level="1" aria-expanded="false" aria-selected="false"><div class="PRIVATE_TreeView-item-container prc-TreeView-TreeViewItemContainer--2Rkn" style="--level:1;content-visibility:auto;contain-intrinsic-size:auto 2rem"><div style="grid-area:spacer;display:flex"><div style="width:100%;display:flex"></div></div><div class="PRIVATE_TreeView-item-toggle PRIVATE_TreeView-item-toggle--hover PRIVATE_TreeView-item-toggle--end prc-TreeView-TreeViewItemToggle-gWUdE prc-TreeView-TreeViewItemToggleHover-nEgP- prc-TreeView-TreeViewItemToggleEnd-t-AEB"><svg aria-hidden="true" focusable="false" class="octicon octicon-chevron-right" viewBox="0 0 12 12" width="12" height="12" fill="currentColor" display="inline-block" overflow="visible" style="vertical-align:text-bottom"><path d="M4.7 10c-.2 0-.4-.1-.5-.2-.3-.3-.3-.8 0-1.1L6.9 6 4.2 3.3c-.3-.3-.3-.8 0-1.1.3-.3.8-.3 1.1 0l3.3 3.2c.3.3.3.8 0 1.1L5.3 9.7c-.2.2-.4.3-.6.3Z"></path></svg></div><div id=":Rbpimplab:" class="PRIVATE_TreeView-item-content prc-TreeView-TreeViewItemContent-f0r0b"><div class="PRIVATE_VisuallyHidden prc-TreeView-TreeViewVisuallyHidden-4-mPv" aria-hidden="true" id=":RbpimplabH1:"></div><div class="PRIVATE_TreeView-item-visual prc-TreeView-TreeViewItemVisual-dRlGq" aria-hidden="true"><div class="PRIVATE_TreeView-directory-icon prc-TreeView-TreeViewDirectoryIcon-PHbeP"><svg aria-hidden="true" focusable="false" class="octicon octicon-file-directory-fill" viewBox="0 0 16 16" width="16" height="16" fill="currentColor" display="inline-block" overflow="visible" style="vertical-align:text-bottom"><path d="M1.75 1A1.75 1.75 0 0 0 0 2.75v10.5C0 14.216.784 15 1.75 15h12.5A1.75 1.75 0 0 0 16 13.25v-8.5A1.75 1.75 0 0 0 14.25 3H7.5a.25.25 0 0 1-.2-.1l-.9-1.2C6.07 1.26 5.55 1 5 1H1.75Z"></path></svg></div></div><span class="PRIVATE_TreeView-item-content-text prc-TreeView-TreeViewItemContentText-smZM-"><span>validation</span></span></div></div></li><li class="PRIVATE_TreeView-item prc-TreeView-TreeViewItem-ShJr0" tabindex="0" id=".gitignore-item" role="treeitem" aria-labelledby=":Rdpimplab:" aria-describedby=":RdpimplabH1:" aria-level="1" aria-selected="false"><div class="PRIVATE_TreeView-item-container prc-TreeView-TreeViewItemContainer--2Rkn" style="--level:1;content-visibility:auto;contain-intrinsic-size:auto 2rem"><div style="grid-area:spacer;display:flex"><div style="width:100%;display:flex"></div></div><div id=":Rdpimplab:" class="PRIVATE_TreeView-item-content prc-TreeView-TreeViewItemContent-f0r0b"><div class="PRIVATE_VisuallyHidden prc-TreeView-TreeViewVisuallyHidden-4-mPv" aria-hidden="true" id=":RdpimplabH1:"></div><div class="PRIVATE_TreeView-item-visual prc-TreeView-TreeViewItemVisual-dRlGq" aria-hidden="true"><svg aria-hidden="true" focusable="false" class="octicon octicon-file" viewBox="0 0 16 16" width="16" height="16" fill="currentColor" display="inline-block" overflow="visible" style="vertical-align:text-bottom"><path d="M2 1.75C2 .784 2.784 0 3.75 0h6.586c.464 0 .909.184 1.237.513l2.914 2.914c.329.328.513.773.513 1.237v9.586A1.75 1.75 0 0 1 13.25 16h-9.5A1.75 1.75 0 0 1 2 14.25Zm1.75-.25a.25.25 0 0 0-.25.25v12.5c0 .138.112.25.25.25h9.5a.25.25 0 0 0 .25-.25V6h-2.75A1.75 1.75 0 0 1 9 4.25V1.5Zm6.75.062V4.25c0 .138.112.25.25.25h2.688l-.011-.013-2.914-2.914-.013-.011Z"></path></svg></div><span class="PRIVATE_TreeView-item-content-text prc-TreeView-TreeViewItemContentText-smZM-"><span>.gitignore</span></span></div></div></li><li class="PRIVATE_TreeView-item prc-TreeView-TreeViewItem-ShJr0" tabindex="0" id="README.md-item" role="treeitem" aria-labelledby=":Rfpimplab:" aria-describedby=":RfpimplabH1:" aria-level="1" aria-selected="false"><div class="PRIVATE_TreeView-item-container prc-TreeView-TreeViewItemContainer--2Rkn" style="--level:1;content-visibility:auto;contain-intrinsic-size:auto 2rem"><div style="grid-area:spacer;display:flex"><div style="width:100%;display:flex"></div></div><div id=":Rfpimplab:" class="PRIVATE_TreeView-item-content prc-TreeView-TreeViewItemContent-f0r0b"><div class="PRIVATE_VisuallyHidden prc-TreeView-TreeViewVisuallyHidden-4-mPv" aria-hidden="true" id=":RfpimplabH1:"></div><div class="PRIVATE_TreeView-item-visual prc-TreeView-TreeViewItemVisual-dRlGq" aria-hidden="true"><svg aria-hidden="true" focusable="false" class="octicon octicon-file" viewBox="0 0 16 16" width="16" height="16" fill="currentColor" display="inline-block" overflow="visible" style="vertical-align:text-bottom"><path d="M2 1.75C2 .784 2.784 0 3.75 0h6.586c.464 0 .909.184 1.237.513l2.914 2.914c.329.328.513.773.513 1.237v9.586A1.75 1.75 0 0 1 13.25 16h-9.5A1.75 1.75 0 0 1 2 14.25Zm1.75-.25a.25.25 0 0 0-.25.25v12.5c0 .138.112.25.25.25h9.5a.25.25 0 0 0 .25-.25V6h-2.75A1.75 1.75 0 0 1 9 4.25V1.5Zm6.75.062V4.25c0 .138.112.25.25.25h2.688l-.011-.013-2.914-2.914-.013-.011Z"></path></svg></div><span class="PRIVATE_TreeView-item-content-text prc-TreeView-TreeViewItemContentText-smZM-"><span>README.md</span></span></div></div></li></ul></nav></div></div></div></div></div></div><div class="prc-PageLayout-VerticalDivider-4A4Qm prc-PageLayout-PaneVerticalDivider-1c9vy" data-variant="none" data-position="start" style="--spacing:var(--spacing-none)"><div role="slider" aria-label="Draggable pane splitter" aria-valuemin="0" aria-valuemax="0" aria-valuenow="0" aria-valuetext="Pane width 0 pixels" tabindex="0" class="Box-sc-g0xbh4-0 bHLmSv"></div></div></div></div><div class="prc-PageLayout-ContentWrapper-b-QRo CodeView-module__SplitPageLayout_Content--qxR1C" data-is-hidden="false"><div class="prc-PageLayout-Content--F7-I" data-width="full" style="--spacing:var(--spacing-none)"><div data-selector="repos-split-pane-content" tabindex="0" class="Box-sc-g0xbh4-0 leYMvG"><div class="Box-sc-g0xbh4-0 KMPzq"><div class="container CodeViewHeader-module__Box--PofRM"><div class="px-3 pt-3 pb-0" id="StickyHeader"><div class="CodeViewHeader-module__Box_1--KpLzV"><div class="CodeViewHeader-module__Box_2--xzDOt"><div class="CodeViewHeader-module__Box_6--iStzT"><div class="Box-sc-g0xbh4-0 cEytCf"><nav data-testid="breadcrumbs" aria-labelledby="repos-header-breadcrumb--wide-heading" id="repos-header-breadcrumb--wide" class="Box-sc-g0xbh4-0 fzFXnm"><h2 class="sr-only ScreenReaderHeading-module__userSelectNone--vW4Cq prc-Heading-Heading-6CmGO" data-testid="screen-reader-heading" id="repos-header-breadcrumb--wide-heading">Breadcrumbs</h2><ol class="Box-sc-g0xbh4-0 iMnkmv"><li class="Box-sc-g0xbh4-0 ghzDag"><a class="Box-sc-g0xbh4-0 kHuKdh prc-Link-Link-85e08" sx="[object Object]" data-testid="breadcrumbs-repo-link" href="/SPARC-FAIR-Codeathon/2025-team-F/tree/restructuring" data-discover="true">2025-team-F</a></li><li class="Box-sc-g0xbh4-0 ghzDag"><span class="Box-sc-g0xbh4-0 hzJBof prc-Text-Text-0ima0" aria-hidden="true">/</span><a class="Box-sc-g0xbh4-0 kgiVEz prc-Link-Link-85e08" sx="[object Object]" href="/SPARC-FAIR-Codeathon/2025-team-F/tree/restructuring/examples" data-discover="true">examples</a></li></ol></nav><div data-testid="breadcrumbs-filename" class="Box-sc-g0xbh4-0 ghzDag"><span class="Box-sc-g0xbh4-0 hzJBof prc-Text-Text-0ima0" aria-hidden="true">/</span><h1 class="Box-sc-g0xbh4-0 jGhzSQ prc-Heading-Heading-6CmGO" tabindex="-1" id="file-name-id-wide">tf_fine_tune_model.ipynb</h1></div><button data-component="IconButton" type="button" class="prc-Button-ButtonBase-c50BI ml-2 prc-Button-IconButton-szpyj" data-loading="false" data-no-visuals="true" data-size="small" data-variant="invisible" aria-describedby=":Rvb9lab:-loading-announcement" aria-labelledby=":R3b9lab:"><svg aria-hidden="true" focusable="false" class="octicon octicon-copy" viewBox="0 0 16 16" width="16" height="16" fill="currentColor" display="inline-block" overflow="visible" style="vertical-align:text-bottom"><path d="M0 6.75C0 5.784.784 5 1.75 5h1.5a.75.75 0 0 1 0 1.5h-1.5a.25.25 0 0 0-.25.25v7.5c0 .138.112.25.25.25h7.5a.25.25 0 0 0 .25-.25v-1.5a.75.75 0 0 1 1.5 0v1.5A1.75 1.75 0 0 1 9.25 16h-7.5A1.75 1.75 0 0 1 0 14.25Z"></path><path d="M5 1.75C5 .784 5.784 0 6.75 0h7.5C15.216 0 16 .784 16 1.75v7.5A1.75 1.75 0 0 1 14.25 11h-7.5A1.75 1.75 0 0 1 5 9.25Zm1.75-.25a.25.25 0 0 0-.25.25v7.5c0 .138.112.25.25.25h7.5a.25.25 0 0 0 .25-.25v-7.5a.25.25 0 0 0-.25-.25Z"></path></svg></button><span class="CopyToClipboardButton-module__tooltip--Dq1IB prc-TooltipV2-Tooltip-cYMVY" data-direction="nw" aria-label="Copy path" aria-hidden="true" id=":R3b9lab:">Copy path</span></div></div><div class="react-code-view-header-element--wide"><div class="CodeViewHeader-module__Box_7--FZfkg"><div class="d-flex gap-2"> <button type="button" class="Box-sc-g0xbh4-0 fjrFuv prc-Button-ButtonBase-c50BI NavigationMenu-module__Button--SJihq" data-loading="false" data-no-visuals="true" data-size="medium" data-variant="default" aria-describedby=":R1ahj9lab:-loading-announcement"><span data-component="buttonContent" class="Box-sc-g0xbh4-0 gUkoLg prc-Button-ButtonContent-HKbr-"><span data-component="text" class="prc-Button-Label-pTQ3x">Blame</span></span></button><button hidden="" data-testid="" data-hotkey-scope="read-only-cursor-text-area"></button><button data-component="IconButton" type="button" data-testid="more-file-actions-button-nav-menu-wide" aria-haspopup="true" aria-expanded="false" tabindex="0" class="prc-Button-ButtonBase-c50BI js-blob-dropdown-click NavigationMenu-module__IconButton--NqJ_L prc-Button-IconButton-szpyj" data-loading="false" data-no-visuals="true" data-size="medium" data-variant="default" aria-describedby=":Rihj9lab:-loading-announcement" aria-labelledby=":Rfihj9lab:" id=":Rihj9lab:"><svg aria-hidden="true" focusable="false" class="octicon octicon-kebab-horizontal" viewBox="0 0 16 16" width="16" height="16" fill="currentColor" display="inline-block" overflow="visible" style="vertical-align:text-bottom"><path d="M8 9a1.5 1.5 0 1 0 0-3 1.5 1.5 0 0 0 0 3ZM1.5 9a1.5 1.5 0 1 0 0-3 1.5 1.5 0 0 0 0 3Zm13 0a1.5 1.5 0 1 0 0-3 1.5 1.5 0 0 0 0 3Z"></path></svg></button><span class="prc-TooltipV2-Tooltip-cYMVY" data-direction="nw" aria-hidden="true" id=":Rfihj9lab:">More file actions</span> </div></div></div><div class="react-code-view-header-element--narrow"><div class="CodeViewHeader-module__Box_7--FZfkg"><div class="d-flex gap-2"> <button type="button" class="Box-sc-g0xbh4-0 fjrFuv prc-Button-ButtonBase-c50BI NavigationMenu-module__Button--SJihq" data-loading="false" data-no-visuals="true" data-size="medium" data-variant="default" aria-describedby=":R1ahr9lab:-loading-announcement"><span data-component="buttonContent" class="Box-sc-g0xbh4-0 gUkoLg prc-Button-ButtonContent-HKbr-"><span data-component="text" class="prc-Button-Label-pTQ3x">Blame</span></span></button><button hidden="" data-testid="" data-hotkey-scope="read-only-cursor-text-area"></button><button data-component="IconButton" type="button" data-testid="more-file-actions-button-nav-menu-narrow" aria-haspopup="true" aria-expanded="false" tabindex="0" class="prc-Button-ButtonBase-c50BI js-blob-dropdown-click NavigationMenu-module__IconButton--NqJ_L prc-Button-IconButton-szpyj" data-loading="false" data-no-visuals="true" data-size="medium" data-variant="default" aria-describedby=":Rihr9lab:-loading-announcement" aria-labelledby=":Rfihr9lab:" id=":Rihr9lab:"><svg aria-hidden="true" focusable="false" class="octicon octicon-kebab-horizontal" viewBox="0 0 16 16" width="16" height="16" fill="currentColor" display="inline-block" overflow="visible" style="vertical-align:text-bottom"><path d="M8 9a1.5 1.5 0 1 0 0-3 1.5 1.5 0 0 0 0 3ZM1.5 9a1.5 1.5 0 1 0 0-3 1.5 1.5 0 0 0 0 3Zm13 0a1.5 1.5 0 1 0 0-3 1.5 1.5 0 0 0 0 3Z"></path></svg></button><span class="prc-TooltipV2-Tooltip-cYMVY" data-direction="nw" aria-hidden="true" id=":Rfihr9lab:">More file actions</span> </div></div></div></div></div></div></div></div><div class="Box-sc-g0xbh4-0 dJxjrT react-code-view-bottom-padding"> <div class="BlobTopBanners-module__Box--g_bGk"></div> <!-- --> <!-- --> </div><div class="Box-sc-g0xbh4-0 dJxjrT"> <!-- --> <!-- --> <div class="d-flex flex-column border rounded-2 mb-3 pl-1"><div class="LatestCommit-module__Box--En0AE"><h2 class="sr-only ScreenReaderHeading-module__userSelectNone--vW4Cq prc-Heading-Heading-6CmGO" data-testid="screen-reader-heading">Latest commit</h2><div style="width:120px" class="Skeleton Skeleton--text" data-testid="loading"> </div><div class="d-flex flex-shrink-0 gap-2"><div data-testid="latest-commit-details" class="d-none d-sm-flex flex-items-center"></div><div class="d-flex gap-2"><h2 class="sr-only ScreenReaderHeading-module__userSelectNone--vW4Cq prc-Heading-Heading-6CmGO" data-testid="screen-reader-heading">History</h2><a href="/SPARC-FAIR-Codeathon/2025-team-F/commits/restructuring/examples/tf_fine_tune_model.ipynb" class="prc-Button-ButtonBase-c50BI d-none d-lg-flex LinkButton-module__code-view-link-button--xvCGA flex-items-center fgColor-default" data-loading="false" data-size="small" data-variant="invisible" aria-describedby=":R1bdal9lab:-loading-announcement"><span data-component="buttonContent" data-align="center" class="prc-Button-ButtonContent-HKbr-"><span data-component="leadingVisual" class="prc-Button-Visual-2epfX prc-Button-VisualWrap-Db-eB"><svg aria-hidden="true" focusable="false" class="octicon octicon-history" viewBox="0 0 16 16" width="16" height="16" fill="currentColor" display="inline-block" overflow="visible" style="vertical-align:text-bottom"><path d="m.427 1.927 1.215 1.215a8.002 8.002 0 1 1-1.6 5.685.75.75 0 1 1 1.493-.154 6.5 6.5 0 1 0 1.18-4.458l1.358 1.358A.25.25 0 0 1 3.896 6H.25A.25.25 0 0 1 0 5.75V2.104a.25.25 0 0 1 .427-.177ZM7.75 4a.75.75 0 0 1 .75.75v2.992l2.028.812a.75.75 0 0 1-.557 1.392l-2.5-1A.751.751 0 0 1 7 8.25v-3.5A.75.75 0 0 1 7.75 4Z"></path></svg></span><span data-component="text" class="prc-Button-Label-pTQ3x"><span class="fgColor-default">History</span></span></span></a><div class="d-sm-none"></div><div class="d-flex d-lg-none"><span role="tooltip" aria-label="History" id="history-icon-button-tooltip" class="Tooltip__TooltipBase-sc-17tf59c-0 hWlpPn tooltipped-n"><a aria-label="View commit history for this file." href="/SPARC-FAIR-Codeathon/2025-team-F/commits/restructuring/examples/tf_fine_tune_model.ipynb" class="prc-Button-ButtonBase-c50BI LinkButton-module__code-view-link-button--xvCGA flex-items-center fgColor-default" data-loading="false" data-size="small" data-variant="invisible" aria-describedby=":R6bdal9lab:-loading-announcement history-icon-button-tooltip"><span data-component="buttonContent" data-align="center" class="prc-Button-ButtonContent-HKbr-"><span data-component="leadingVisual" class="prc-Button-Visual-2epfX prc-Button-VisualWrap-Db-eB"><svg aria-hidden="true" focusable="false" class="octicon octicon-history" viewBox="0 0 16 16" width="16" height="16" fill="currentColor" display="inline-block" overflow="visible" style="vertical-align:text-bottom"><path d="m.427 1.927 1.215 1.215a8.002 8.002 0 1 1-1.6 5.685.75.75 0 1 1 1.493-.154 6.5 6.5 0 1 0 1.18-4.458l1.358 1.358A.25.25 0 0 1 3.896 6H.25A.25.25 0 0 1 0 5.75V2.104a.25.25 0 0 1 .427-.177ZM7.75 4a.75.75 0 0 1 .75.75v2.992l2.028.812a.75.75 0 0 1-.557 1.392l-2.5-1A.751.751 0 0 1 7 8.25v-3.5A.75.75 0 0 1 7.75 4Z"></path></svg></span></span></a></span></div></div></div></div></div><div class="Box-sc-g0xbh4-0 ldRxiI"><div class="Box-sc-g0xbh4-0 fVkfyA container"><div class="Box-sc-g0xbh4-0 gNAmSV react-code-size-details-banner"><div class="react-code-size-details-banner CodeSizeDetails-module__Box--QdxnQ"><div class="text-mono CodeSizeDetails-module__Box_1--_uFDs"><div data-testid="blob-size" class="CodeSizeDetails-module__Truncate_1--er0Uk prc-Truncate-Truncate-A9Wn6" data-inline="true" title="116 KB" style="--truncate-max-width:100%"><span>316 lines (316 loc) · 116 KB</span></div></div></div></div><div class="Box-sc-g0xbh4-0 jdLMhu react-blob-view-header-sticky" id="repos-sticky-header"><div class="BlobViewHeader-module__Box--pvsIA"><div class="react-blob-sticky-header"><div class="Box-sc-g0xbh4-0 hqwSEx"><div class="FileNameStickyHeader-module__Box_5--xBJ2J"><div class="Box-sc-g0xbh4-0 fHind"><nav data-testid="breadcrumbs" aria-labelledby="sticky-breadcrumb-heading" id="sticky-breadcrumb" class="Box-sc-g0xbh4-0 fzFXnm"><h2 class="sr-only ScreenReaderHeading-module__userSelectNone--vW4Cq prc-Heading-Heading-6CmGO" data-testid="screen-reader-heading" id="sticky-breadcrumb-heading">Breadcrumbs</h2><ol class="Box-sc-g0xbh4-0 iMnkmv"><li class="Box-sc-g0xbh4-0 ghzDag"><a class="Box-sc-g0xbh4-0 kHuKdh prc-Link-Link-85e08" sx="[object Object]" data-testid="breadcrumbs-repo-link" href="/SPARC-FAIR-Codeathon/2025-team-F/tree/restructuring" data-discover="true">2025-team-F</a></li><li class="Box-sc-g0xbh4-0 ghzDag"><span class="Box-sc-g0xbh4-0 oDtgN prc-Text-Text-0ima0" aria-hidden="true">/</span><a class="Box-sc-g0xbh4-0 kgiVEz prc-Link-Link-85e08" sx="[object Object]" href="/SPARC-FAIR-Codeathon/2025-team-F/tree/restructuring/examples" data-discover="true">examples</a></li></ol></nav><div data-testid="breadcrumbs-filename" class="Box-sc-g0xbh4-0 ghzDag"><span class="Box-sc-g0xbh4-0 oDtgN prc-Text-Text-0ima0" aria-hidden="true">/</span><h1 class="Box-sc-g0xbh4-0 dnZoUW prc-Heading-Heading-6CmGO" tabindex="-1" id="sticky-file-name-id">tf_fine_tune_model.ipynb</h1></div></div><button type="button" class="prc-Button-ButtonBase-c50BI FileNameStickyHeader-module__Button--SaiiH FileNameStickyHeader-module__GoToTopButton--9lB4x" data-loading="false" data-size="small" data-variant="invisible" aria-describedby=":R4mfal9lab:-loading-announcement"><span data-component="buttonContent" data-align="center" class="prc-Button-ButtonContent-HKbr-"><span data-component="leadingVisual" class="prc-Button-Visual-2epfX prc-Button-VisualWrap-Db-eB"><svg aria-hidden="true" focusable="false" class="octicon octicon-arrow-up" viewBox="0 0 16 16" width="16" height="16" fill="currentColor" display="inline-block" overflow="visible" style="vertical-align:text-bottom"><path d="M3.47 7.78a.75.75 0 0 1 0-1.06l4.25-4.25a.75.75 0 0 1 1.06 0l4.25 4.25a.751.751 0 0 1-.018 1.042.751.751 0 0 1-1.042.018L9 4.81v7.44a.75.75 0 0 1-1.5 0V4.81L4.53 7.78a.75.75 0 0 1-1.06 0Z"></path></svg></span><span data-component="text" class="prc-Button-Label-pTQ3x">Top</span></span></button></div></div></div><div class="Box-sc-g0xbh4-0 gFKFyc BlobViewHeader-module__Box_1--PPihg"><h2 class="sr-only ScreenReaderHeading-module__userSelectNone--vW4Cq prc-Heading-Heading-6CmGO" data-testid="screen-reader-heading">File metadata and controls</h2><div class="BlobViewHeader-module__Box_2--G_jCG"><ul aria-label="File view" class="prc-SegmentedControl-SegmentedControl-e7570 BlobTabButtons-module__SegmentedControl--JMGov" data-size="small"><li class="prc-SegmentedControl-Item-7Aq6h" data-selected=""><button aria-current="true" class="prc-SegmentedControl-Button-ojWXD" type="button" style="--separator-color:transparent"><span class="prc-SegmentedControl-Content-gnQ4n segmentedControl-content"><div class="prc-SegmentedControl-Text-c5gSh segmentedControl-text" data-text="Preview">Preview</div></span></button></li><li class="prc-SegmentedControl-Item-7Aq6h"><button aria-current="false" class="prc-SegmentedControl-Button-ojWXD" type="button" style="--separator-color:var(--borderColor-default, var(--color-border-default, #d0d7de))"><span class="prc-SegmentedControl-Content-gnQ4n segmentedControl-content"><div class="prc-SegmentedControl-Text-c5gSh segmentedControl-text" data-text="Code">Code</div></span></button></li><li class="prc-SegmentedControl-Item-7Aq6h"><button aria-current="false" class="prc-SegmentedControl-Button-ojWXD" type="button" style="--separator-color:var(--borderColor-default, var(--color-border-default, #d0d7de))"><span class="prc-SegmentedControl-Content-gnQ4n segmentedControl-content"><div class="prc-SegmentedControl-Text-c5gSh segmentedControl-text" data-text="Blame">Blame</div></span></button></li></ul><button hidden="" data-testid="" data-hotkey-scope="read-only-cursor-text-area"></button><button hidden="" data-testid="" data-hotkey-scope="read-only-cursor-text-area"></button><button hidden="" data-testid="" data-hotkey-scope="read-only-cursor-text-area"></button><div class="react-code-size-details-in-header CodeSizeDetails-module__Box--QdxnQ"><div class="text-mono CodeSizeDetails-module__Box_1--_uFDs"><div data-testid="blob-size" class="CodeSizeDetails-module__Truncate_1--er0Uk prc-Truncate-Truncate-A9Wn6" data-inline="true" title="116 KB" style="--truncate-max-width:100%"><span>316 lines (316 loc) · 116 KB</span></div></div></div></div><div class="BlobViewHeader-module__Box_3--Kvpex"><div class="pr-0 prc-ButtonGroup-ButtonGroup-vcMeG"><div><button data-component="IconButton" type="button" data-testid="copilot-ask-menu" class="prc-Button-ButtonBase-c50BI AskCopilotButton-module__square--o8kDO prc-Button-IconButton-szpyj" data-loading="false" data-no-visuals="true" data-size="small" data-variant="default" aria-describedby="blob-view-header-copilot-icon-loading-announcement" aria-labelledby=":R2v6fal9lab:" id="blob-view-header-copilot-icon"><svg aria-hidden="true" focusable="false" class="octicon octicon-copilot" viewBox="0 0 16 16" width="16" height="16" fill="currentColor" display="inline-block" overflow="visible" style="vertical-align:text-bottom"><path d="M7.998 15.035c-4.562 0-7.873-2.914-7.998-3.749V9.338c.085-.628.677-1.686 1.588-2.065.013-.07.024-.143.036-.218.029-.183.06-.384.126-.612-.201-.508-.254-1.084-.254-1.656 0-.87.128-1.769.693-2.484.579-.733 1.494-1.124 2.724-1.261 1.206-.134 2.262.034 2.944.765.05.053.096.108.139.165.044-.057.094-.112.143-.165.682-.731 1.738-.899 2.944-.765 1.23.137 2.145.528 2.724 1.261.566.715.693 1.614.693 2.484 0 .572-.053 1.148-.254 1.656.066.228.098.429.126.612.012.076.024.148.037.218.924.385 1.522 1.471 1.591 2.095v1.872c0 .766-3.351 3.795-8.002 3.795Zm0-1.485c2.28 0 4.584-1.11 5.002-1.433V7.862l-.023-.116c-.49.21-1.075.291-1.727.291-1.146 0-2.059-.327-2.71-.991A3.222 3.222 0 0 1 8 6.303a3.24 3.24 0 0 1-.544.743c-.65.664-1.563.991-2.71.991-.652 0-1.236-.081-1.727-.291l-.023.116v4.255c.419.323 2.722 1.433 5.002 1.433ZM6.762 2.83c-.193-.206-.637-.413-1.682-.297-1.019.113-1.479.404-1.713.7-.247.312-.369.789-.369 1.554 0 .793.129 1.171.308 1.371.162.181.519.379 1.442.379.853 0 1.339-.235 1.638-.54.315-.322.527-.827.617-1.553.117-.935-.037-1.395-.241-1.614Zm4.155-.297c-1.044-.116-1.488.091-1.681.297-.204.219-.359.679-.242 1.614.091.726.303 1.231.618 1.553.299.305.784.54 1.638.54.922 0 1.28-.198 1.442-.379.179-.2.308-.578.308-1.371 0-.765-.123-1.242-.37-1.554-.233-.296-.693-.587-1.713-.7Z"></path><path d="M6.25 9.037a.75.75 0 0 1 .75.75v1.501a.75.75 0 0 1-1.5 0V9.787a.75.75 0 0 1 .75-.75Zm4.25.75v1.501a.75.75 0 0 1-1.5 0V9.787a.75.75 0 0 1 1.5 0Z"></path></svg></button><span class="prc-TooltipV2-Tooltip-cYMVY" data-direction="s" aria-hidden="true" id=":R2v6fal9lab:">Ask Copilot about this file</span></div><div></div></div><div class="react-blob-header-edit-and-raw-actions BlobViewHeader-module__Box_4--vFP89"><div class="prc-ButtonGroup-ButtonGroup-vcMeG"><div><a href="https://github.com/SPARC-FAIR-Codeathon/2025-team-F/raw/refs/heads/restructuring/examples/tf_fine_tune_model.ipynb" data-testid="raw-button" class="Box-sc-g0xbh4-0 lefpaC prc-Button-ButtonBase-c50BI BlobViewHeader-module__LinkButton--DMph4" data-loading="false" data-no-visuals="true" data-size="small" data-variant="default" aria-describedby=":R1b76fal9lab:-loading-announcement"><span data-component="buttonContent" class="Box-sc-g0xbh4-0 gUkoLg prc-Button-ButtonContent-HKbr-"><span data-component="text" class="prc-Button-Label-pTQ3x">Raw</span></span></a></div><div><button data-component="IconButton" type="button" data-testid="copy-raw-button" class="prc-Button-ButtonBase-c50BI prc-Button-IconButton-szpyj" data-loading="false" data-no-visuals="true" data-size="small" data-variant="default" aria-describedby=":R1mb76fal9lab:-loading-announcement" aria-labelledby=":R6b76fal9lab:"><svg aria-hidden="true" focusable="false" class="octicon octicon-copy" viewBox="0 0 16 16" width="16" height="16" fill="currentColor" display="inline-block" overflow="visible" style="vertical-align:text-bottom"><path d="M0 6.75C0 5.784.784 5 1.75 5h1.5a.75.75 0 0 1 0 1.5h-1.5a.25.25 0 0 0-.25.25v7.5c0 .138.112.25.25.25h7.5a.25.25 0 0 0 .25-.25v-1.5a.75.75 0 0 1 1.5 0v1.5A1.75 1.75 0 0 1 9.25 16h-7.5A1.75 1.75 0 0 1 0 14.25Z"></path><path d="M5 1.75C5 .784 5.784 0 6.75 0h7.5C15.216 0 16 .784 16 1.75v7.5A1.75 1.75 0 0 1 14.25 11h-7.5A1.75 1.75 0 0 1 5 9.25Zm1.75-.25a.25.25 0 0 0-.25.25v7.5c0 .138.112.25.25.25h7.5a.25.25 0 0 0 .25-.25v-7.5a.25.25 0 0 0-.25-.25Z"></path></svg></button><span class="prc-TooltipV2-Tooltip-cYMVY" data-direction="n" aria-hidden="true" id=":R6b76fal9lab:">Copy raw file</span></div><div><button data-component="IconButton" type="button" data-testid="download-raw-button" class="Box-sc-g0xbh4-0 ivobqY prc-Button-ButtonBase-c50BI prc-Button-IconButton-szpyj" data-loading="false" data-no-visuals="true" data-size="small" data-variant="default" aria-describedby=":Rfb76fal9lab:-loading-announcement" aria-labelledby=":R3b76fal9lab:"><svg aria-hidden="true" focusable="false" class="octicon octicon-download" viewBox="0 0 16 16" width="16" height="16" fill="currentColor" display="inline-block" overflow="visible" style="vertical-align:text-bottom"><path d="M2.75 14A1.75 1.75 0 0 1 1 12.25v-2.5a.75.75 0 0 1 1.5 0v2.5c0 .138.112.25.25.25h10.5a.25.25 0 0 0 .25-.25v-2.5a.75.75 0 0 1 1.5 0v2.5A1.75 1.75 0 0 1 13.25 14Z"></path><path d="M7.25 7.689V2a.75.75 0 0 1 1.5 0v5.689l1.97-1.969a.749.749 0 1 1 1.06 1.06l-3.25 3.25a.749.749 0 0 1-1.06 0L4.22 6.78a.749.749 0 1 1 1.06-1.06l1.97 1.969Z"></path></svg></button><span class="prc-TooltipV2-Tooltip-cYMVY" data-direction="n" aria-hidden="true" id=":R3b76fal9lab:">Download raw file</span></div></div><button hidden="" data-testid="raw-button-shortcut" data-hotkey-scope="read-only-cursor-text-area"></button><button hidden="" data-testid="copy-raw-button-shortcut" data-hotkey-scope="read-only-cursor-text-area"></button><button hidden="" data-testid="download-raw-button-shortcut" data-hotkey-scope="read-only-cursor-text-area"></button><a class="js-github-dev-shortcut d-none prc-Link-Link-85e08" href="https://github.dev/"></a><button hidden="" data-testid="" data-hotkey-scope="read-only-cursor-text-area"></button><a class="js-github-dev-new-tab-shortcut d-none prc-Link-Link-85e08" href="https://github.dev/" target="_blank"></a><button hidden="" data-testid="" data-hotkey-scope="read-only-cursor-text-area"></button><div class="prc-ButtonGroup-ButtonGroup-vcMeG"><div><a sx="[object Object]" data-component="IconButton" type="button" data-testid="edit-button" class="Box-sc-g0xbh4-0 iCOsHh prc-Button-ButtonBase-c50BI BlobViewHeader-module__IconButton_1--MzNlL prc-Button-IconButton-szpyj" data-loading="false" data-no-visuals="true" data-size="small" data-variant="default" aria-describedby=":Rdl76fal9lab:-loading-announcement" aria-labelledby=":R1l76fal9lab:" href="/SPARC-FAIR-Codeathon/2025-team-F/edit/restructuring/examples/tf_fine_tune_model.ipynb" data-discover="true"><svg aria-hidden="true" focusable="false" class="octicon octicon-pencil" viewBox="0 0 16 16" width="16" height="16" fill="currentColor" display="inline-block" overflow="visible" style="vertical-align:text-bottom"><path d="M11.013 1.427a1.75 1.75 0 0 1 2.474 0l1.086 1.086a1.75 1.75 0 0 1 0 2.474l-8.61 8.61c-.21.21-.47.364-.756.445l-3.251.93a.75.75 0 0 1-.927-.928l.929-3.25c.081-.286.235-.547.445-.758l8.61-8.61Zm.176 4.823L9.75 4.81l-6.286 6.287a.253.253 0 0 0-.064.108l-.558 1.953 1.953-.558a.253.253 0 0 0 .108-.064Zm1.238-3.763a.25.25 0 0 0-.354 0L10.811 3.75l1.439 1.44 1.263-1.263a.25.25 0 0 0 0-.354Z"></path></svg></a><span class="prc-TooltipV2-Tooltip-cYMVY" data-direction="nw" aria-hidden="true" id=":R1l76fal9lab:">Edit this file</span></div><div><button data-component="IconButton" type="button" data-testid="more-edit-button" aria-haspopup="true" aria-expanded="false" tabindex="0" class="prc-Button-ButtonBase-c50BI prc-Button-IconButton-szpyj" data-loading="false" data-no-visuals="true" data-size="small" data-variant="default" aria-describedby=":R2l76fal9lab:-loading-announcement" aria-labelledby=":R1ul76fal9lab:" id=":R2l76fal9lab:"><svg aria-hidden="true" focusable="false" class="octicon octicon-triangle-down" viewBox="0 0 16 16" width="16" height="16" fill="currentColor" display="inline-block" overflow="visible" style="vertical-align:text-bottom"><path d="m4.427 7.427 3.396 3.396a.25.25 0 0 0 .354 0l3.396-3.396A.25.25 0 0 0 11.396 7H4.604a.25.25 0 0 0-.177.427Z"></path></svg></button><span class="prc-TooltipV2-Tooltip-cYMVY" data-direction="nw" aria-hidden="true" id=":R1ul76fal9lab:">More edit options</span></div></div><button hidden="" data-testid="" data-hotkey="e,Shift+E" data-hotkey-scope="read-only-cursor-text-area"></button></div><div class="react-blob-header-edit-and-raw-actions-combined"><button data-component="IconButton" type="button" title="More file actions" data-testid="more-file-actions-button" aria-haspopup="true" aria-expanded="false" tabindex="0" class="prc-Button-ButtonBase-c50BI js-blob-dropdown-click BlobViewHeader-module__IconButton--uO1fA prc-Button-IconButton-szpyj" data-loading="false" data-no-visuals="true" data-size="small" data-variant="invisible" aria-describedby=":R5v6fal9lab:-loading-announcement" aria-labelledby=":R3tv6fal9lab:" id=":R5v6fal9lab:"><svg aria-hidden="true" focusable="false" class="octicon octicon-kebab-horizontal" viewBox="0 0 16 16" width="16" height="16" fill="currentColor" display="inline-block" overflow="visible" style="vertical-align:text-bottom"><path d="M8 9a1.5 1.5 0 1 0 0-3 1.5 1.5 0 0 0 0 3ZM1.5 9a1.5 1.5 0 1 0 0-3 1.5 1.5 0 0 0 0 3Zm13 0a1.5 1.5 0 1 0 0-3 1.5 1.5 0 0 0 0 3Z"></path></svg></button><span class="prc-TooltipV2-Tooltip-cYMVY" data-direction="nw" aria-hidden="true" id=":R3tv6fal9lab:">Edit and raw actions</span></div></div></div></div><div></div></div><div class="Box-sc-g0xbh4-0 hGyMdv"><section aria-labelledby="file-name-id-wide file-name-id-mobile" class="Box-sc-g0xbh4-0 iWAocR"><!--$!--><template></template><div class="Box-sc-g0xbh4-0 fgsa-DI"><span class="prc-Spinner-Box-qNUI9"><svg height="32px" width="32px" viewBox="0 0 16 16" fill="none" aria-hidden="true" aria-label="Loading" class="prc-Spinner-SpinnerAnimation-e7Gf-"><circle cx="8" cy="8" r="7" stroke="currentColor" stroke-opacity="0.25" stroke-width="2" vector-effect="non-scaling-stroke"></circle><path d="M15 8a7.002 7.002 0 00-7-7" stroke="currentColor" stroke-width="2" stroke-linecap="round" vector-effect="non-scaling-stroke"></path></svg></span></div><!--/$--></section></div></div></div> <!-- --> <!-- --> </div></div></div></div></div></div></div><div id="find-result-marks-container" class="Box-sc-g0xbh4-0 cCoXib"></div><button hidden="" data-testid="" data-hotkey-scope="read-only-cursor-text-area"></button><button hidden=""></button></div> <!-- --> <!-- --> <script type="application/json" id="__PRIMER_DATA_:R0:__">{"resolvedServerColorMode":"day"}</script></div>
</react-app>
</turbo-frame>



  </div>

</turbo-frame>

    </main>
  </div>

  </div>

          <footer class="footer pt-8 pb-6 f6 color-fg-muted p-responsive" role="contentinfo" >
  <h2 class='sr-only'>Footer</h2>

  


  <div class="d-flex flex-justify-center flex-items-center flex-column-reverse flex-lg-row flex-wrap flex-lg-nowrap">
    <div class="d-flex flex-items-center flex-shrink-0 mx-2">
      <a aria-label="GitHub Homepage" class="footer-octicon mr-2" href="https://github.com">
        <svg aria-hidden="true" height="24" viewBox="0 0 24 24" version="1.1" width="24" data-view-component="true" class="octicon octicon-mark-github">
    <path d="M12 1C5.923 1 1 5.923 1 12c0 4.867 3.149 8.979 7.521 10.436.55.096.756-.233.756-.522 0-.262-.013-1.128-.013-2.049-2.764.509-3.479-.674-3.699-1.292-.124-.317-.66-1.293-1.127-1.554-.385-.207-.936-.715-.014-.729.866-.014 1.485.797 1.691 1.128.99 1.663 2.571 1.196 3.204.907.096-.715.385-1.196.701-1.471-2.448-.275-5.005-1.224-5.005-5.432 0-1.196.426-2.186 1.128-2.956-.111-.275-.496-1.402.11-2.915 0 0 .921-.288 3.024 1.128a10.193 10.193 0 0 1 2.75-.371c.936 0 1.871.123 2.75.371 2.104-1.43 3.025-1.128 3.025-1.128.605 1.513.221 2.64.111 2.915.701.77 1.127 1.747 1.127 2.956 0 4.222-2.571 5.157-5.019 5.432.399.344.743 1.004.743 2.035 0 1.471-.014 2.654-.014 3.025 0 .289.206.632.756.522C19.851 20.979 23 16.854 23 12c0-6.077-4.922-11-11-11Z"></path>
</svg>
</a>
      <span>
        &copy; 2025 GitHub,&nbsp;Inc.
      </span>
    </div>

    <nav aria-label="Footer">
      <h3 class="sr-only" id="sr-footer-heading">Footer navigation</h3>

      <ul class="list-style-none d-flex flex-justify-center flex-wrap mb-2 mb-lg-0" aria-labelledby="sr-footer-heading">

          <li class="mx-2">
            <a data-analytics-event="{&quot;category&quot;:&quot;Footer&quot;,&quot;action&quot;:&quot;go to Terms&quot;,&quot;label&quot;:&quot;text:terms&quot;}" href="https://docs.github.com/site-policy/github-terms/github-terms-of-service" data-view-component="true" class="Link--secondary Link">Terms</a>
          </li>

          <li class="mx-2">
            <a data-analytics-event="{&quot;category&quot;:&quot;Footer&quot;,&quot;action&quot;:&quot;go to privacy&quot;,&quot;label&quot;:&quot;text:privacy&quot;}" href="https://docs.github.com/site-policy/privacy-policies/github-privacy-statement" data-view-component="true" class="Link--secondary Link">Privacy</a>
          </li>

          <li class="mx-2">
            <a data-analytics-event="{&quot;category&quot;:&quot;Footer&quot;,&quot;action&quot;:&quot;go to security&quot;,&quot;label&quot;:&quot;text:security&quot;}" href="https://github.com/security" data-view-component="true" class="Link--secondary Link">Security</a>
          </li>

          <li class="mx-2">
            <a data-analytics-event="{&quot;category&quot;:&quot;Footer&quot;,&quot;action&quot;:&quot;go to status&quot;,&quot;label&quot;:&quot;text:status&quot;}" href="https://www.githubstatus.com/" data-view-component="true" class="Link--secondary Link">Status</a>
          </li>

          <li class="mx-2">
            <a data-analytics-event="{&quot;category&quot;:&quot;Footer&quot;,&quot;action&quot;:&quot;go to docs&quot;,&quot;label&quot;:&quot;text:docs&quot;}" href="https://docs.github.com/" data-view-component="true" class="Link--secondary Link">Docs</a>
          </li>

          <li class="mx-2">
            <a data-analytics-event="{&quot;category&quot;:&quot;Footer&quot;,&quot;action&quot;:&quot;go to contact&quot;,&quot;label&quot;:&quot;text:contact&quot;}" href="https://support.github.com?tags=dotcom-footer" data-view-component="true" class="Link--secondary Link">Contact</a>
          </li>

          <li class="mx-2" >
  <cookie-consent-link>
    <button
      type="button"
      class="Link--secondary underline-on-hover border-0 p-0 color-bg-transparent"
      data-action="click:cookie-consent-link#showConsentManagement"
      data-analytics-event="{&quot;location&quot;:&quot;footer&quot;,&quot;action&quot;:&quot;cookies&quot;,&quot;context&quot;:&quot;subfooter&quot;,&quot;tag&quot;:&quot;link&quot;,&quot;label&quot;:&quot;cookies_link_subfooter_footer&quot;}"
    >
       Manage cookies
    </button>
  </cookie-consent-link>
</li>

<li class="mx-2">
  <cookie-consent-link>
    <button
      type="button"
      class="Link--secondary underline-on-hover border-0 p-0 color-bg-transparent text-left"
      data-action="click:cookie-consent-link#showConsentManagement"
      data-analytics-event="{&quot;location&quot;:&quot;footer&quot;,&quot;action&quot;:&quot;dont_share_info&quot;,&quot;context&quot;:&quot;subfooter&quot;,&quot;tag&quot;:&quot;link&quot;,&quot;label&quot;:&quot;dont_share_info_link_subfooter_footer&quot;}"
    >
      Do not share my personal information
    </button>
  </cookie-consent-link>
</li>

      </ul>
    </nav>
  </div>
</footer>



    <ghcc-consent id="ghcc" class="position-fixed bottom-0 left-0" style="z-index: 999999"
      data-locale="en"
      data-initial-cookie-consent-allowed=""
      data-cookie-consent-required="false"
    ></ghcc-consent>



  <div id="ajax-error-message" class="ajax-error-message flash flash-error" hidden>
    <svg aria-hidden="true" height="16" viewBox="0 0 16 16" version="1.1" width="16" data-view-component="true" class="octicon octicon-alert">
    <path d="M6.457 1.047c.659-1.234 2.427-1.234 3.086 0l6.082 11.378A1.75 1.75 0 0 1 14.082 15H1.918a1.75 1.75 0 0 1-1.543-2.575Zm1.763.707a.25.25 0 0 0-.44 0L1.698 13.132a.25.25 0 0 0 .22.368h12.164a.25.25 0 0 0 .22-.368Zm.53 3.996v2.5a.75.75 0 0 1-1.5 0v-2.5a.75.75 0 0 1 1.5 0ZM9 11a1 1 0 1 1-2 0 1 1 0 0 1 2 0Z"></path>
</svg>
    <button type="button" class="flash-close js-ajax-error-dismiss" aria-label="Dismiss error">
      <svg aria-hidden="true" height="16" viewBox="0 0 16 16" version="1.1" width="16" data-view-component="true" class="octicon octicon-x">
    <path d="M3.72 3.72a.75.75 0 0 1 1.06 0L8 6.94l3.22-3.22a.749.749 0 0 1 1.275.326.749.749 0 0 1-.215.734L9.06 8l3.22 3.22a.749.749 0 0 1-.326 1.275.749.749 0 0 1-.734-.215L8 9.06l-3.22 3.22a.751.751 0 0 1-1.042-.018.751.751 0 0 1-.018-1.042L6.94 8 3.72 4.78a.75.75 0 0 1 0-1.06Z"></path>
</svg>
    </button>
    You can’t perform that action at this time.
  </div>

    <template id="site-details-dialog">
  <details class="details-reset details-overlay details-overlay-dark lh-default color-fg-default hx_rsm" open>
    <summary role="button" aria-label="Close dialog"></summary>
    <details-dialog class="Box Box--overlay d-flex flex-column anim-fade-in fast hx_rsm-dialog hx_rsm-modal">
      <button class="Box-btn-octicon m-0 btn-octicon position-absolute right-0 top-0" type="button" aria-label="Close dialog" data-close-dialog>
        <svg aria-hidden="true" height="16" viewBox="0 0 16 16" version="1.1" width="16" data-view-component="true" class="octicon octicon-x">
    <path d="M3.72 3.72a.75.75 0 0 1 1.06 0L8 6.94l3.22-3.22a.749.749 0 0 1 1.275.326.749.749 0 0 1-.215.734L9.06 8l3.22 3.22a.749.749 0 0 1-.326 1.275.749.749 0 0 1-.734-.215L8 9.06l-3.22 3.22a.751.751 0 0 1-1.042-.018.751.751 0 0 1-.018-1.042L6.94 8 3.72 4.78a.75.75 0 0 1 0-1.06Z"></path>
</svg>
      </button>
      <div class="octocat-spinner my-6 js-details-dialog-spinner"></div>
    </details-dialog>
  </details>
</template>

    <div class="Popover js-hovercard-content position-absolute" style="display: none; outline: none;">
  <div class="Popover-message Popover-message--bottom-left Popover-message--large Box color-shadow-large" style="width:360px;">
  </div>
</div>

    <template id="snippet-clipboard-copy-button">
  <div class="zeroclipboard-container position-absolute right-0 top-0">
    <clipboard-copy aria-label="Copy" class="ClipboardButton btn js-clipboard-copy m-2 p-0" data-copy-feedback="Copied!" data-tooltip-direction="w">
      <svg aria-hidden="true" height="16" viewBox="0 0 16 16" version="1.1" width="16" data-view-component="true" class="octicon octicon-copy js-clipboard-copy-icon m-2">
    <path d="M0 6.75C0 5.784.784 5 1.75 5h1.5a.75.75 0 0 1 0 1.5h-1.5a.25.25 0 0 0-.25.25v7.5c0 .138.112.25.25.25h7.5a.25.25 0 0 0 .25-.25v-1.5a.75.75 0 0 1 1.5 0v1.5A1.75 1.75 0 0 1 9.25 16h-7.5A1.75 1.75 0 0 1 0 14.25Z"></path><path d="M5 1.75C5 .784 5.784 0 6.75 0h7.5C15.216 0 16 .784 16 1.75v7.5A1.75 1.75 0 0 1 14.25 11h-7.5A1.75 1.75 0 0 1 5 9.25Zm1.75-.25a.25.25 0 0 0-.25.25v7.5c0 .138.112.25.25.25h7.5a.25.25 0 0 0 .25-.25v-7.5a.25.25 0 0 0-.25-.25Z"></path>
</svg>
      <svg aria-hidden="true" height="16" viewBox="0 0 16 16" version="1.1" width="16" data-view-component="true" class="octicon octicon-check js-clipboard-check-icon color-fg-success d-none m-2">
    <path d="M13.78 4.22a.75.75 0 0 1 0 1.06l-7.25 7.25a.75.75 0 0 1-1.06 0L2.22 9.28a.751.751 0 0 1 .018-1.042.751.751 0 0 1 1.042-.018L6 10.94l6.72-6.72a.75.75 0 0 1 1.06 0Z"></path>
</svg>
    </clipboard-copy>
  </div>
</template>
<template id="snippet-clipboard-copy-button-unpositioned">
  <div class="zeroclipboard-container">
    <clipboard-copy aria-label="Copy" class="ClipboardButton btn btn-invisible js-clipboard-copy m-2 p-0 d-flex flex-justify-center flex-items-center" data-copy-feedback="Copied!" data-tooltip-direction="w">
      <svg aria-hidden="true" height="16" viewBox="0 0 16 16" version="1.1" width="16" data-view-component="true" class="octicon octicon-copy js-clipboard-copy-icon">
    <path d="M0 6.75C0 5.784.784 5 1.75 5h1.5a.75.75 0 0 1 0 1.5h-1.5a.25.25 0 0 0-.25.25v7.5c0 .138.112.25.25.25h7.5a.25.25 0 0 0 .25-.25v-1.5a.75.75 0 0 1 1.5 0v1.5A1.75 1.75 0 0 1 9.25 16h-7.5A1.75 1.75 0 0 1 0 14.25Z"></path><path d="M5 1.75C5 .784 5.784 0 6.75 0h7.5C15.216 0 16 .784 16 1.75v7.5A1.75 1.75 0 0 1 14.25 11h-7.5A1.75 1.75 0 0 1 5 9.25Zm1.75-.25a.25.25 0 0 0-.25.25v7.5c0 .138.112.25.25.25h7.5a.25.25 0 0 0 .25-.25v-7.5a.25.25 0 0 0-.25-.25Z"></path>
</svg>
      <svg aria-hidden="true" height="16" viewBox="0 0 16 16" version="1.1" width="16" data-view-component="true" class="octicon octicon-check js-clipboard-check-icon color-fg-success d-none">
    <path d="M13.78 4.22a.75.75 0 0 1 0 1.06l-7.25 7.25a.75.75 0 0 1-1.06 0L2.22 9.28a.751.751 0 0 1 .018-1.042.751.751 0 0 1 1.042-.018L6 10.94l6.72-6.72a.75.75 0 0 1 1.06 0Z"></path>
</svg>
    </clipboard-copy>
  </div>
</template>


    <style>
      .user-mention[href$="/OmkarAthavale"] {
        color: var(--color-user-mention-fg);
        background-color: var(--bgColor-attention-muted, var(--color-attention-subtle));
        border-radius: 2px;
        margin-left: -2px;
        margin-right: -2px;
      }
      .user-mention[href$="/OmkarAthavale"]:before,
      .user-mention[href$="/OmkarAthavale"]:after {
        content: '';
        display: inline-block;
        width: 2px;
      }
    </style>


    </div>
    <div id="js-global-screen-reader-notice" class="sr-only mt-n1" aria-live="polite" aria-atomic="true" ></div>
    <div id="js-global-screen-reader-notice-assertive" class="sr-only mt-n1" aria-live="assertive" aria-atomic="true"></div>
  </body>
</html>

